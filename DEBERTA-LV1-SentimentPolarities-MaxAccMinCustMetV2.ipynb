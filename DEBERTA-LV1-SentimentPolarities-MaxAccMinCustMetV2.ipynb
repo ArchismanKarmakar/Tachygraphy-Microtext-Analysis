{
 "cells": [
  {
   "cell_type": "code",
   "execution_count": 1,
   "id": "06b09b1f",
   "metadata": {
    "_cell_guid": "b1076dfc-b9ad-4769-8c92-a6c4dae69d19",
    "_uuid": "8f2839f25d086af736a60e9eeb907d3b93b6e0e5",
    "execution": {
     "iopub.execute_input": "2024-08-31T07:40:26.580423Z",
     "iopub.status.busy": "2024-08-31T07:40:26.580054Z",
     "iopub.status.idle": "2024-08-31T07:40:27.894717Z",
     "shell.execute_reply": "2024-08-31T07:40:27.893382Z"
    },
    "papermill": {
     "duration": 1.346599,
     "end_time": "2024-08-31T07:40:27.896977",
     "exception": false,
     "start_time": "2024-08-31T07:40:26.550378",
     "status": "completed"
    },
    "tags": []
   },
   "outputs": [
    {
     "name": "stdout",
     "output_type": "stream",
     "text": [
      "/kaggle/input/dataset-tachygraphy/Tachygraphy_EmotionMoodtags_Dataset.csv\n",
      "/kaggle/input/dataset-tachygraphy/Tachygraphy_dataset_main.csv\n"
     ]
    }
   ],
   "source": [
    "# This Python 3 environment comes with many helpful analytics libraries installed\n",
    "# It is defined by the kaggle/python Docker image: https://github.com/kaggle/docker-python\n",
    "# For example, here's several helpful packages to load\n",
    "\n",
    "import numpy as np # linear algebra\n",
    "import pandas as pd # data processing, CSV file I/O (e.g. pd.read_csv)\n",
    "\n",
    "# Input data files are available in the read-only \"../input/\" directory\n",
    "# For example, running this (by clicking run or pressing Shift+Enter) will list all files under the input directory\n",
    "\n",
    "import os\n",
    "for dirname, _, filenames in os.walk('/kaggle/input'):\n",
    "    for filename in filenames:\n",
    "        print(os.path.join(dirname, filename))\n",
    "\n",
    "# You can write up to 20GB to the current directory (/kaggle/working/) that gets preserved as output when you create a version using \"Save & Run All\" \n",
    "# You can also write temporary files to /kaggle/temp/, but they won't be saved outside of the current session"
   ]
  },
  {
   "cell_type": "markdown",
   "id": "92e68f57",
   "metadata": {
    "papermill": {
     "duration": 0.026198,
     "end_time": "2024-08-31T07:40:27.949969",
     "exception": false,
     "start_time": "2024-08-31T07:40:27.923771",
     "status": "completed"
    },
    "tags": []
   },
   "source": [
    "# DATASET & PREPROCESSING"
   ]
  },
  {
   "cell_type": "code",
   "execution_count": 2,
   "id": "b1e8d66f",
   "metadata": {
    "execution": {
     "iopub.execute_input": "2024-08-31T07:40:28.006706Z",
     "iopub.status.busy": "2024-08-31T07:40:28.006244Z",
     "iopub.status.idle": "2024-08-31T07:40:28.330488Z",
     "shell.execute_reply": "2024-08-31T07:40:28.329547Z"
    },
    "papermill": {
     "duration": 0.353816,
     "end_time": "2024-08-31T07:40:28.332520",
     "exception": false,
     "start_time": "2024-08-31T07:40:27.978704",
     "status": "completed"
    },
    "tags": []
   },
   "outputs": [
    {
     "data": {
      "text/plain": [
       "'For emoji cleaning'"
      ]
     },
     "execution_count": 2,
     "metadata": {},
     "output_type": "execute_result"
    }
   ],
   "source": [
    "import emoji\n",
    "from bs4 import BeautifulSoup\n",
    "import os\n",
    "import re\n",
    "import string\n",
    "import json\n",
    "\n",
    "'''For emoji cleaning'''"
   ]
  },
  {
   "cell_type": "code",
   "execution_count": 3,
   "id": "c5a4498c",
   "metadata": {
    "execution": {
     "iopub.execute_input": "2024-08-31T07:40:28.388569Z",
     "iopub.status.busy": "2024-08-31T07:40:28.388114Z",
     "iopub.status.idle": "2024-08-31T07:40:28.450500Z",
     "shell.execute_reply": "2024-08-31T07:40:28.449777Z"
    },
    "papermill": {
     "duration": 0.09255,
     "end_time": "2024-08-31T07:40:28.452445",
     "exception": false,
     "start_time": "2024-08-31T07:40:28.359895",
     "status": "completed"
    },
    "tags": []
   },
   "outputs": [],
   "source": [
    "dataset = pd.read_csv('/kaggle/input/dataset-tachygraphy/Tachygraphy_dataset_main.csv')"
   ]
  },
  {
   "cell_type": "code",
   "execution_count": 4,
   "id": "c0aa31ee",
   "metadata": {
    "execution": {
     "iopub.execute_input": "2024-08-31T07:40:28.508353Z",
     "iopub.status.busy": "2024-08-31T07:40:28.508034Z",
     "iopub.status.idle": "2024-08-31T07:40:28.512048Z",
     "shell.execute_reply": "2024-08-31T07:40:28.511232Z"
    },
    "papermill": {
     "duration": 0.03448,
     "end_time": "2024-08-31T07:40:28.514178",
     "exception": false,
     "start_time": "2024-08-31T07:40:28.479698",
     "status": "completed"
    },
    "tags": []
   },
   "outputs": [],
   "source": [
    "df=dataset"
   ]
  },
  {
   "cell_type": "code",
   "execution_count": 5,
   "id": "ac6552ab",
   "metadata": {
    "execution": {
     "iopub.execute_input": "2024-08-31T07:40:28.568916Z",
     "iopub.status.busy": "2024-08-31T07:40:28.568624Z",
     "iopub.status.idle": "2024-08-31T07:40:28.579268Z",
     "shell.execute_reply": "2024-08-31T07:40:28.578200Z"
    },
    "papermill": {
     "duration": 0.040225,
     "end_time": "2024-08-31T07:40:28.581286",
     "exception": false,
     "start_time": "2024-08-31T07:40:28.541061",
     "status": "completed"
    },
    "tags": []
   },
   "outputs": [
    {
     "name": "stdout",
     "output_type": "stream",
     "text": [
      "Text         1\n",
      "Meaning      1\n",
      "Sentiment    0\n",
      "dtype: int64\n"
     ]
    }
   ],
   "source": [
    "print(df.isnull().sum())"
   ]
  },
  {
   "cell_type": "code",
   "execution_count": 6,
   "id": "9f3b6085",
   "metadata": {
    "execution": {
     "iopub.execute_input": "2024-08-31T07:40:28.639548Z",
     "iopub.status.busy": "2024-08-31T07:40:28.639254Z",
     "iopub.status.idle": "2024-08-31T07:40:28.662614Z",
     "shell.execute_reply": "2024-08-31T07:40:28.661896Z"
    },
    "papermill": {
     "duration": 0.053694,
     "end_time": "2024-08-31T07:40:28.664469",
     "exception": false,
     "start_time": "2024-08-31T07:40:28.610775",
     "status": "completed"
    },
    "tags": []
   },
   "outputs": [],
   "source": [
    "contraction_mapping = {\"ain't\": \"is not\", \"aren't\": \"are not\",\"can't\": \"cannot\", \"'cause\": \"because\", \"could've\": \"could have\", \"couldn't\": \"could not\", \n",
    "                       \"didn't\": \"did not\",  \"doesn't\": \"does not\", \"don't\": \"do not\", \"hadn't\": \"had not\", \"hasn't\": \"has not\", \"haven't\": \"have not\", \n",
    "                       \"he'd\": \"he would\",\"he'll\": \"he will\", \"he's\": \"he is\", \"how'd\": \"how did\", \"how'd'y\": \"how do you\", \"how'll\": \"how will\", \n",
    "                       \"how's\": \"how is\",  \"I'd\": \"I would\", \"I'd've\": \"I would have\", \"I'll\": \"I will\", \"I'll've\": \"I will have\",\"I'm\": \"I am\",\n",
    "                       \"I've\": \"I have\", \"i'd\": \"i would\", \"i'd've\": \"i would have\", \"i'll\": \"i will\",  \"i'll've\": \"i will have\",\"i'm\": \"i am\", \n",
    "                       \"i've\": \"i have\", \"isn't\": \"is not\", \"it'd\": \"it would\", \"it'd've\": \"it would have\", \"it'll\": \"it will\", \"it'll've\": \"it will have\",\n",
    "                       \"it's\": \"it is\", \"let's\": \"let us\", \"ma'am\": \"madam\", \"mayn't\": \"may not\", \"might've\": \"might have\",\"mightn't\": \"might not\",\n",
    "                       \"mightn't've\": \"might not have\", \"must've\": \"must have\", \"mustn't\": \"must not\", \"mustn't've\": \"must not have\", \"needn't\": \"need not\", \n",
    "                       \"needn't've\": \"need not have\",\"o'clock\": \"of the clock\", \"oughtn't\": \"ought not\", \"oughtn't've\": \"ought not have\", \"shan't\": \"shall not\",\n",
    "                       \"sha'n't\": \"shall not\", \"shan't've\": \"shall not have\", \"she'd\": \"she would\", \"she'd've\": \"she would have\", \"she'll\": \"she will\", \n",
    "                       \"she'll've\": \"she will have\", \"she's\": \"she is\", \"should've\": \"should have\", \"shouldn't\": \"should not\", \"shouldn't've\": \"should not have\",\n",
    "                       \"so've\": \"so have\",\"so's\": \"so as\", \"this's\": \"this is\",\"that'd\": \"that would\", \"that'd've\": \"that would have\", \"that's\": \"that is\",\n",
    "                       \"there'd\": \"there would\", \"there'd've\": \"there would have\", \"there's\": \"there is\", \"here's\": \"here is\",\"they'd\": \"they would\",\n",
    "                       \"they'd've\": \"they would have\", \"they'll\": \"they will\", \"they'll've\": \"they will have\", \"they're\": \"they are\", \"they've\": \"they have\",\n",
    "                       \"to've\": \"to have\", \"wasn't\": \"was not\", \"we'd\": \"we would\", \"we'd've\": \"we would have\", \"we'll\": \"we will\", \"we'll've\": \"we will have\",\n",
    "                       \"we're\": \"we are\", \"we've\": \"we have\", \"weren't\": \"were not\", \"what'll\": \"what will\", \"what'll've\": \"what will have\", \n",
    "                       \"what're\": \"what are\",  \"what's\": \"what is\", \"what've\": \"what have\", \"when's\": \"when is\", \"when've\": \"when have\", \"where'd\": \"where did\",\n",
    "                       \"where's\": \"where is\", \"where've\": \"where have\", \"who'll\": \"who will\", \"who'll've\": \"who will have\", \"who's\": \"who is\", \n",
    "                       \"who've\": \"who have\", \"why's\": \"why is\", \"why've\": \"why have\", \"will've\": \"will have\", \"won't\": \"will not\", \"won't've\": \"will not have\", \n",
    "                       \"would've\": \"would have\", \"wouldn't\": \"would not\", \"wouldn't've\": \"would not have\", \"y'all\": \"you all\", \"y'all'd\": \"you all would\",\n",
    "                       \"y'all'd've\": \"you all would have\",\"y'all're\": \"you all are\",\"y'all've\": \"you all have\",\"you'd\": \"you would\", \"you'd've\": \"you would have\",\n",
    "                       \"you'll\": \"you will\", \"you'll've\": \"you will have\", \"you're\": \"you are\", \"you've\": \"you have\", 'u.s':'america', 'e.g':'for example'}\n",
    "\n",
    "punct = [',', '.', '\"', ':', ')', '(', '-', '!', '?', '|', ';', \"'\", '$', '&', '/', '[', ']', '>', '%', '=', '#', '*', '+', '\\\\', '•',  '~', '@', '£', \n",
    " '·', '_', '{', '}', '©', '^', '®', '`',  '<', '→', '°', '€', '™', '›',  '♥', '←', '×', '§', '″', '′', 'Â', '█', '½', 'à', '…', \n",
    " '“', '★', '”', '–', '●', 'â', '►', '−', '¢', '²', '¬', '░', '¶', '↑', '±', '¿', '▾', '═', '¦', '║', '―', '¥', '▓', '—', '‹', '─', \n",
    " '▒', '：', '¼', '⊕', '▼', '▪', '†', '■', '’', '▀', '¨', '▄', '♫', '☆', 'é', '¯', '♦', '¤', '▲', 'è', '¸', '¾', 'Ã', '⋅', '‘', '∞', \n",
    " '∙', '）', '↓', '、', '│', '（', '»', '，', '♪', '╩', '╚', '³', '・', '╦', '╣', '╔', '╗', '▬', '❤', 'ï', 'Ø', '¹', '≤', '‡', '√', ]\n",
    "\n",
    "punct_mapping = {\"‘\": \"'\", \"₹\": \"e\", \"´\": \"'\", \"°\": \"\", \"€\": \"e\", \"™\": \"tm\", \"√\": \" sqrt \", \"×\": \"x\", \"²\": \"2\", \"—\": \"-\", \"–\": \"-\", \"’\": \"'\", \"_\": \"-\",\n",
    "                 \"`\": \"'\", '“': '\"', '”': '\"', '“': '\"', \"£\": \"e\", '∞': 'infinity', 'θ': 'theta', '÷': '/', 'α': 'alpha', '•': '.', 'à': 'a', '−': '-', \n",
    "                 'β': 'beta', '∅': '', '³': '3', 'π': 'pi', '!':' '}\n",
    "\n",
    "mispell_dict = {'colour': 'color', 'centre': 'center', 'favourite': 'favorite', 'travelling': 'traveling', 'counselling': 'counseling', 'theatre': 'theater',\n",
    "                'cancelled': 'canceled', 'labour': 'labor', 'organisation': 'organization', 'wwii': 'world war 2', 'citicise': 'criticize', 'youtu ': 'youtube ',\n",
    "                'Qoura': 'Quora', 'sallary': 'salary', 'Whta': 'What', 'narcisist': 'narcissist', 'howdo': 'how do', 'whatare': 'what are', 'howcan': 'how can',\n",
    "                'howmuch': 'how much', 'howmany': 'how many', 'whydo': 'why do', 'doI': 'do I', 'theBest': 'the best', 'howdoes': 'how does', \n",
    "                'mastrubation': 'masturbation', 'mastrubate': 'masturbate', \"mastrubating\": 'masturbating', 'pennis': 'penis', 'Etherium': 'Ethereum', \n",
    "                'narcissit': 'narcissist', 'bigdata': 'big data', '2k17': '2017', '2k18': '2018', 'qouta': 'quota', 'exboyfriend': 'ex boyfriend', \n",
    "                'airhostess': 'air hostess', \"whst\": 'what', 'watsapp': 'whatsapp', 'demonitisation': 'demonetization', 'demonitization': 'demonetization',\n",
    "                'demonetisation': 'demonetization'}"
   ]
  },
  {
   "cell_type": "code",
   "execution_count": 7,
   "id": "2078acaa",
   "metadata": {
    "execution": {
     "iopub.execute_input": "2024-08-31T07:40:28.720465Z",
     "iopub.status.busy": "2024-08-31T07:40:28.720168Z",
     "iopub.status.idle": "2024-08-31T07:40:28.732879Z",
     "shell.execute_reply": "2024-08-31T07:40:28.731991Z"
    },
    "papermill": {
     "duration": 0.043889,
     "end_time": "2024-08-31T07:40:28.735020",
     "exception": false,
     "start_time": "2024-08-31T07:40:28.691131",
     "status": "completed"
    },
    "tags": []
   },
   "outputs": [],
   "source": [
    "def clean_text(text):\n",
    "    '''Clean emoji, Make text lowercase, remove text in square brackets,remove links,remove punctuation\n",
    "    and remove words containing numbers.'''\n",
    "    text = emoji.demojize(text)\n",
    "    text = re.sub(r'\\:(.*?)\\:','',text)\n",
    "    text = str(text).lower()    #Making Text Lowercase\n",
    "    text = re.sub('\\[.*?\\]', '', text)\n",
    "    #The next 2 lines remove html text\n",
    "    text = BeautifulSoup(text, 'lxml').get_text()\n",
    "    text = re.sub('https?://\\S+|www\\.\\S+', '', text)\n",
    "    text = re.sub('<.*?>+', '', text)\n",
    "    text = re.sub('\\n', '', text)\n",
    "    text = re.sub('\\w*\\d\\w*', '', text)\n",
    "    # replacing everything with space except (a-z, A-Z, \".\", \"?\", \"!\", \",\", \"'\")\n",
    "    text = re.sub(r\"[^a-zA-Z?.!,¿']+\", \" \", text)\n",
    "    return text\n",
    "\n",
    "def clean_contractions(text, mapping):\n",
    "    '''Clean contraction using contraction mapping'''    \n",
    "    specials = [\"’\", \"‘\", \"´\", \"`\"]\n",
    "    for s in specials:\n",
    "        text = text.replace(s, \"'\")\n",
    "    for word in mapping.keys():\n",
    "        if \"\"+word+\"\" in text:\n",
    "            text = text.replace(\"\"+word+\"\", \"\"+mapping[word]+\"\")\n",
    "    #Remove Punctuations\n",
    "    text = re.sub('[%s]' % re.escape(string.punctuation), '', text)\n",
    "    # creating a space between a word and the punctuation following it\n",
    "    # eg: \"he is a boy.\" => \"he is a boy .\"\n",
    "    text = re.sub(r\"([?.!,¿])\", r\" \\1 \", text)\n",
    "    text = re.sub(r'[\" \"]+', \" \", text)\n",
    "    return text\n",
    "\n",
    "def clean_special_chars(text, punct, mapping):\n",
    "    '''Cleans special characters present(if any)'''   \n",
    "    for p in mapping:\n",
    "        text = text.replace(p, mapping[p])\n",
    "    \n",
    "    for p in punct:\n",
    "        text = text.replace(p, f' {p} ')\n",
    "    \n",
    "    specials = {'\\u200b': ' ', '…': ' ... ', '\\ufeff': '', 'करना': '', 'है': ''}  \n",
    "    for s in specials:\n",
    "        text = text.replace(s, specials[s])\n",
    "    \n",
    "    return text\n",
    "\n",
    "def correct_spelling(x, dic):\n",
    "    '''Corrects common spelling errors'''   \n",
    "    for word in dic.keys():\n",
    "        x = x.replace(word, dic[word])\n",
    "    return x\n",
    "\n",
    "def remove_space(text):\n",
    "    '''Removes awkward spaces'''   \n",
    "    #Removes awkward spaces \n",
    "    text = text.strip()\n",
    "    text = text.split()\n",
    "    return \" \".join(text)"
   ]
  },
  {
   "cell_type": "code",
   "execution_count": 8,
   "id": "f24075e1",
   "metadata": {
    "execution": {
     "iopub.execute_input": "2024-08-31T07:40:28.790183Z",
     "iopub.status.busy": "2024-08-31T07:40:28.789924Z",
     "iopub.status.idle": "2024-08-31T07:40:28.794521Z",
     "shell.execute_reply": "2024-08-31T07:40:28.793668Z"
    },
    "papermill": {
     "duration": 0.034815,
     "end_time": "2024-08-31T07:40:28.796476",
     "exception": false,
     "start_time": "2024-08-31T07:40:28.761661",
     "status": "completed"
    },
    "tags": []
   },
   "outputs": [],
   "source": [
    "def text_preprocessing_pipeline(text):\n",
    "    '''Cleaning and parsing the text.'''\n",
    "    text = clean_contractions(text, contraction_mapping)\n",
    "    text = clean_text(text)\n",
    "    text = clean_contractions(text, contraction_mapping)\n",
    "    text = clean_special_chars(text, punct, punct_mapping)\n",
    "#     text = correct_spelling(text, mispell_dict)\n",
    "    text = remove_space(text)\n",
    "    return text"
   ]
  },
  {
   "cell_type": "code",
   "execution_count": 9,
   "id": "5204f8d1",
   "metadata": {
    "execution": {
     "iopub.execute_input": "2024-08-31T07:40:28.850658Z",
     "iopub.status.busy": "2024-08-31T07:40:28.850397Z",
     "iopub.status.idle": "2024-08-31T07:40:28.862589Z",
     "shell.execute_reply": "2024-08-31T07:40:28.861767Z"
    },
    "papermill": {
     "duration": 0.041489,
     "end_time": "2024-08-31T07:40:28.864627",
     "exception": false,
     "start_time": "2024-08-31T07:40:28.823138",
     "status": "completed"
    },
    "tags": []
   },
   "outputs": [],
   "source": [
    "df.rename(columns={'Text':'text', 'Sentiment':'sentiment_polarity'}, inplace=True)"
   ]
  },
  {
   "cell_type": "code",
   "execution_count": 10,
   "id": "b8c25af9",
   "metadata": {
    "execution": {
     "iopub.execute_input": "2024-08-31T07:40:28.920345Z",
     "iopub.status.busy": "2024-08-31T07:40:28.920012Z",
     "iopub.status.idle": "2024-08-31T07:40:28.930506Z",
     "shell.execute_reply": "2024-08-31T07:40:28.929704Z"
    },
    "papermill": {
     "duration": 0.040942,
     "end_time": "2024-08-31T07:40:28.932262",
     "exception": false,
     "start_time": "2024-08-31T07:40:28.891320",
     "status": "completed"
    },
    "tags": []
   },
   "outputs": [],
   "source": [
    "df.drop(columns=['Meaning'], inplace=True)"
   ]
  },
  {
   "cell_type": "code",
   "execution_count": 11,
   "id": "4284e8cb",
   "metadata": {
    "execution": {
     "iopub.execute_input": "2024-08-31T07:40:28.987292Z",
     "iopub.status.busy": "2024-08-31T07:40:28.986633Z",
     "iopub.status.idle": "2024-08-31T07:40:28.995626Z",
     "shell.execute_reply": "2024-08-31T07:40:28.994894Z"
    },
    "papermill": {
     "duration": 0.038528,
     "end_time": "2024-08-31T07:40:28.997471",
     "exception": false,
     "start_time": "2024-08-31T07:40:28.958943",
     "status": "completed"
    },
    "tags": []
   },
   "outputs": [],
   "source": [
    "df.dropna(subset=['text', 'sentiment_polarity'], inplace=True) # Dropping NULL values"
   ]
  },
  {
   "cell_type": "code",
   "execution_count": 12,
   "id": "b723fa6d",
   "metadata": {
    "execution": {
     "iopub.execute_input": "2024-08-31T07:40:29.052708Z",
     "iopub.status.busy": "2024-08-31T07:40:29.052443Z",
     "iopub.status.idle": "2024-08-31T07:40:29.077147Z",
     "shell.execute_reply": "2024-08-31T07:40:29.076197Z"
    },
    "papermill": {
     "duration": 0.055647,
     "end_time": "2024-08-31T07:40:29.079673",
     "exception": false,
     "start_time": "2024-08-31T07:40:29.024026",
     "status": "completed"
    },
    "tags": []
   },
   "outputs": [
    {
     "name": "stdout",
     "output_type": "stream",
     "text": [
      "<class 'pandas.core.frame.DataFrame'>\n",
      "Index: 4957 entries, 0 to 4957\n",
      "Data columns (total 2 columns):\n",
      " #   Column              Non-Null Count  Dtype \n",
      "---  ------              --------------  ----- \n",
      " 0   text                4957 non-null   object\n",
      " 1   sentiment_polarity  4957 non-null   object\n",
      "dtypes: object(2)\n",
      "memory usage: 116.2+ KB\n"
     ]
    }
   ],
   "source": [
    "df.info()\n",
    "# df['text'] = df['text'].astype('str')\n",
    "# df['sentiment_polarity'] = df['sentiment_polarity'].astype('str')"
   ]
  },
  {
   "cell_type": "code",
   "execution_count": 13,
   "id": "d7605e81",
   "metadata": {
    "execution": {
     "iopub.execute_input": "2024-08-31T07:40:29.140781Z",
     "iopub.status.busy": "2024-08-31T07:40:29.140447Z",
     "iopub.status.idle": "2024-08-31T07:40:33.291337Z",
     "shell.execute_reply": "2024-08-31T07:40:33.290522Z"
    },
    "papermill": {
     "duration": 4.182619,
     "end_time": "2024-08-31T07:40:33.293566",
     "exception": false,
     "start_time": "2024-08-31T07:40:29.110947",
     "status": "completed"
    },
    "tags": []
   },
   "outputs": [],
   "source": [
    "df['text'] = df['text'].apply(lambda x: text_preprocessing_pipeline(x))\n",
    "df['sentiment_polarity'] = df['sentiment_polarity'].apply(lambda x: text_preprocessing_pipeline(x))"
   ]
  },
  {
   "cell_type": "code",
   "execution_count": 14,
   "id": "e88d8261",
   "metadata": {
    "execution": {
     "iopub.execute_input": "2024-08-31T07:40:33.350179Z",
     "iopub.status.busy": "2024-08-31T07:40:33.349380Z",
     "iopub.status.idle": "2024-08-31T07:40:33.364977Z",
     "shell.execute_reply": "2024-08-31T07:40:33.364009Z"
    },
    "papermill": {
     "duration": 0.045784,
     "end_time": "2024-08-31T07:40:33.366974",
     "exception": false,
     "start_time": "2024-08-31T07:40:33.321190",
     "status": "completed"
    },
    "tags": []
   },
   "outputs": [
    {
     "data": {
      "text/html": [
       "<div>\n",
       "<style scoped>\n",
       "    .dataframe tbody tr th:only-of-type {\n",
       "        vertical-align: middle;\n",
       "    }\n",
       "\n",
       "    .dataframe tbody tr th {\n",
       "        vertical-align: top;\n",
       "    }\n",
       "\n",
       "    .dataframe thead th {\n",
       "        text-align: right;\n",
       "    }\n",
       "</style>\n",
       "<table border=\"1\" class=\"dataframe\">\n",
       "  <thead>\n",
       "    <tr style=\"text-align: right;\">\n",
       "      <th></th>\n",
       "      <th>text</th>\n",
       "      <th>sentiment_polarity</th>\n",
       "    </tr>\n",
       "  </thead>\n",
       "  <tbody>\n",
       "    <tr>\n",
       "      <th>0</th>\n",
       "      <td>last session of the day</td>\n",
       "      <td>neutral</td>\n",
       "    </tr>\n",
       "    <tr>\n",
       "      <th>1</th>\n",
       "      <td>shanghai is also really exciting precisely sky...</td>\n",
       "      <td>positive</td>\n",
       "    </tr>\n",
       "    <tr>\n",
       "      <th>2</th>\n",
       "      <td>submit the report asap</td>\n",
       "      <td>negative</td>\n",
       "    </tr>\n",
       "    <tr>\n",
       "      <th>3</th>\n",
       "      <td>happy bday</td>\n",
       "      <td>positive</td>\n",
       "    </tr>\n",
       "    <tr>\n",
       "      <th>4</th>\n",
       "      <td>the ogs i like it</td>\n",
       "      <td>positive</td>\n",
       "    </tr>\n",
       "    <tr>\n",
       "      <th>...</th>\n",
       "      <td>...</td>\n",
       "      <td>...</td>\n",
       "    </tr>\n",
       "    <tr>\n",
       "      <th>4953</th>\n",
       "      <td>make a pet face wtf wrong with me tonight haha</td>\n",
       "      <td>negative</td>\n",
       "    </tr>\n",
       "    <tr>\n",
       "      <th>4954</th>\n",
       "      <td>i dnt care anymore boyz is not worth d drama</td>\n",
       "      <td>negative</td>\n",
       "    </tr>\n",
       "    <tr>\n",
       "      <th>4955</th>\n",
       "      <td>no relationship is perfect tho me bae goo from...</td>\n",
       "      <td>negative</td>\n",
       "    </tr>\n",
       "    <tr>\n",
       "      <th>4956</th>\n",
       "      <td>over here tryna get my nail polishes and shit lol</td>\n",
       "      <td>negative</td>\n",
       "    </tr>\n",
       "    <tr>\n",
       "      <th>4957</th>\n",
       "      <td>no one was loved d way i luv u</td>\n",
       "      <td>positive</td>\n",
       "    </tr>\n",
       "  </tbody>\n",
       "</table>\n",
       "<p>4957 rows × 2 columns</p>\n",
       "</div>"
      ],
      "text/plain": [
       "                                                   text sentiment_polarity\n",
       "0                               last session of the day            neutral\n",
       "1     shanghai is also really exciting precisely sky...           positive\n",
       "2                                submit the report asap           negative\n",
       "3                                            happy bday           positive\n",
       "4                                     the ogs i like it           positive\n",
       "...                                                 ...                ...\n",
       "4953     make a pet face wtf wrong with me tonight haha           negative\n",
       "4954       i dnt care anymore boyz is not worth d drama           negative\n",
       "4955  no relationship is perfect tho me bae goo from...           negative\n",
       "4956  over here tryna get my nail polishes and shit lol           negative\n",
       "4957                     no one was loved d way i luv u           positive\n",
       "\n",
       "[4957 rows x 2 columns]"
      ]
     },
     "execution_count": 14,
     "metadata": {},
     "output_type": "execute_result"
    }
   ],
   "source": [
    "df"
   ]
  },
  {
   "cell_type": "code",
   "execution_count": 15,
   "id": "8fdf03ef",
   "metadata": {
    "execution": {
     "iopub.execute_input": "2024-08-31T07:40:33.423196Z",
     "iopub.status.busy": "2024-08-31T07:40:33.422896Z",
     "iopub.status.idle": "2024-08-31T07:40:33.434575Z",
     "shell.execute_reply": "2024-08-31T07:40:33.433767Z"
    },
    "papermill": {
     "duration": 0.043027,
     "end_time": "2024-08-31T07:40:33.436957",
     "exception": false,
     "start_time": "2024-08-31T07:40:33.393930",
     "status": "completed"
    },
    "tags": []
   },
   "outputs": [],
   "source": [
    "bin_polar = pd.get_dummies(df['sentiment_polarity'], prefix='', prefix_sep='')"
   ]
  },
  {
   "cell_type": "code",
   "execution_count": 16,
   "id": "f8f6bc94",
   "metadata": {
    "execution": {
     "iopub.execute_input": "2024-08-31T07:40:33.496849Z",
     "iopub.status.busy": "2024-08-31T07:40:33.496487Z",
     "iopub.status.idle": "2024-08-31T07:40:33.501056Z",
     "shell.execute_reply": "2024-08-31T07:40:33.500126Z"
    },
    "papermill": {
     "duration": 0.037277,
     "end_time": "2024-08-31T07:40:33.503082",
     "exception": false,
     "start_time": "2024-08-31T07:40:33.465805",
     "status": "completed"
    },
    "tags": []
   },
   "outputs": [],
   "source": [
    "bin_polar = bin_polar.astype(int)"
   ]
  },
  {
   "cell_type": "code",
   "execution_count": 17,
   "id": "6ccedd67",
   "metadata": {
    "execution": {
     "iopub.execute_input": "2024-08-31T07:40:33.594473Z",
     "iopub.status.busy": "2024-08-31T07:40:33.594086Z",
     "iopub.status.idle": "2024-08-31T07:40:33.607198Z",
     "shell.execute_reply": "2024-08-31T07:40:33.606334Z"
    },
    "papermill": {
     "duration": 0.04355,
     "end_time": "2024-08-31T07:40:33.609349",
     "exception": false,
     "start_time": "2024-08-31T07:40:33.565799",
     "status": "completed"
    },
    "tags": []
   },
   "outputs": [
    {
     "data": {
      "text/html": [
       "<div>\n",
       "<style scoped>\n",
       "    .dataframe tbody tr th:only-of-type {\n",
       "        vertical-align: middle;\n",
       "    }\n",
       "\n",
       "    .dataframe tbody tr th {\n",
       "        vertical-align: top;\n",
       "    }\n",
       "\n",
       "    .dataframe thead th {\n",
       "        text-align: right;\n",
       "    }\n",
       "</style>\n",
       "<table border=\"1\" class=\"dataframe\">\n",
       "  <thead>\n",
       "    <tr style=\"text-align: right;\">\n",
       "      <th></th>\n",
       "      <th>negative</th>\n",
       "      <th>neutral</th>\n",
       "      <th>positive</th>\n",
       "    </tr>\n",
       "  </thead>\n",
       "  <tbody>\n",
       "    <tr>\n",
       "      <th>0</th>\n",
       "      <td>0</td>\n",
       "      <td>1</td>\n",
       "      <td>0</td>\n",
       "    </tr>\n",
       "    <tr>\n",
       "      <th>1</th>\n",
       "      <td>0</td>\n",
       "      <td>0</td>\n",
       "      <td>1</td>\n",
       "    </tr>\n",
       "    <tr>\n",
       "      <th>2</th>\n",
       "      <td>1</td>\n",
       "      <td>0</td>\n",
       "      <td>0</td>\n",
       "    </tr>\n",
       "    <tr>\n",
       "      <th>3</th>\n",
       "      <td>0</td>\n",
       "      <td>0</td>\n",
       "      <td>1</td>\n",
       "    </tr>\n",
       "    <tr>\n",
       "      <th>4</th>\n",
       "      <td>0</td>\n",
       "      <td>0</td>\n",
       "      <td>1</td>\n",
       "    </tr>\n",
       "    <tr>\n",
       "      <th>...</th>\n",
       "      <td>...</td>\n",
       "      <td>...</td>\n",
       "      <td>...</td>\n",
       "    </tr>\n",
       "    <tr>\n",
       "      <th>4953</th>\n",
       "      <td>1</td>\n",
       "      <td>0</td>\n",
       "      <td>0</td>\n",
       "    </tr>\n",
       "    <tr>\n",
       "      <th>4954</th>\n",
       "      <td>1</td>\n",
       "      <td>0</td>\n",
       "      <td>0</td>\n",
       "    </tr>\n",
       "    <tr>\n",
       "      <th>4955</th>\n",
       "      <td>1</td>\n",
       "      <td>0</td>\n",
       "      <td>0</td>\n",
       "    </tr>\n",
       "    <tr>\n",
       "      <th>4956</th>\n",
       "      <td>1</td>\n",
       "      <td>0</td>\n",
       "      <td>0</td>\n",
       "    </tr>\n",
       "    <tr>\n",
       "      <th>4957</th>\n",
       "      <td>0</td>\n",
       "      <td>0</td>\n",
       "      <td>1</td>\n",
       "    </tr>\n",
       "  </tbody>\n",
       "</table>\n",
       "<p>4957 rows × 3 columns</p>\n",
       "</div>"
      ],
      "text/plain": [
       "      negative  neutral  positive\n",
       "0            0        1         0\n",
       "1            0        0         1\n",
       "2            1        0         0\n",
       "3            0        0         1\n",
       "4            0        0         1\n",
       "...        ...      ...       ...\n",
       "4953         1        0         0\n",
       "4954         1        0         0\n",
       "4955         1        0         0\n",
       "4956         1        0         0\n",
       "4957         0        0         1\n",
       "\n",
       "[4957 rows x 3 columns]"
      ]
     },
     "execution_count": 17,
     "metadata": {},
     "output_type": "execute_result"
    }
   ],
   "source": [
    "bin_polar"
   ]
  },
  {
   "cell_type": "code",
   "execution_count": 18,
   "id": "5f32e41d",
   "metadata": {
    "execution": {
     "iopub.execute_input": "2024-08-31T07:40:33.669872Z",
     "iopub.status.busy": "2024-08-31T07:40:33.669549Z",
     "iopub.status.idle": "2024-08-31T07:40:33.682168Z",
     "shell.execute_reply": "2024-08-31T07:40:33.681196Z"
    },
    "papermill": {
     "duration": 0.043571,
     "end_time": "2024-08-31T07:40:33.684149",
     "exception": false,
     "start_time": "2024-08-31T07:40:33.640578",
     "status": "completed"
    },
    "tags": []
   },
   "outputs": [
    {
     "data": {
      "text/html": [
       "<div>\n",
       "<style scoped>\n",
       "    .dataframe tbody tr th:only-of-type {\n",
       "        vertical-align: middle;\n",
       "    }\n",
       "\n",
       "    .dataframe tbody tr th {\n",
       "        vertical-align: top;\n",
       "    }\n",
       "\n",
       "    .dataframe thead th {\n",
       "        text-align: right;\n",
       "    }\n",
       "</style>\n",
       "<table border=\"1\" class=\"dataframe\">\n",
       "  <thead>\n",
       "    <tr style=\"text-align: right;\">\n",
       "      <th></th>\n",
       "      <th>text</th>\n",
       "      <th>sentiment_polarity</th>\n",
       "      <th>negative</th>\n",
       "      <th>neutral</th>\n",
       "      <th>positive</th>\n",
       "    </tr>\n",
       "  </thead>\n",
       "  <tbody>\n",
       "    <tr>\n",
       "      <th>0</th>\n",
       "      <td>last session of the day</td>\n",
       "      <td>neutral</td>\n",
       "      <td>0</td>\n",
       "      <td>1</td>\n",
       "      <td>0</td>\n",
       "    </tr>\n",
       "    <tr>\n",
       "      <th>1</th>\n",
       "      <td>shanghai is also really exciting precisely sky...</td>\n",
       "      <td>positive</td>\n",
       "      <td>0</td>\n",
       "      <td>0</td>\n",
       "      <td>1</td>\n",
       "    </tr>\n",
       "    <tr>\n",
       "      <th>2</th>\n",
       "      <td>submit the report asap</td>\n",
       "      <td>negative</td>\n",
       "      <td>1</td>\n",
       "      <td>0</td>\n",
       "      <td>0</td>\n",
       "    </tr>\n",
       "    <tr>\n",
       "      <th>3</th>\n",
       "      <td>happy bday</td>\n",
       "      <td>positive</td>\n",
       "      <td>0</td>\n",
       "      <td>0</td>\n",
       "      <td>1</td>\n",
       "    </tr>\n",
       "    <tr>\n",
       "      <th>4</th>\n",
       "      <td>the ogs i like it</td>\n",
       "      <td>positive</td>\n",
       "      <td>0</td>\n",
       "      <td>0</td>\n",
       "      <td>1</td>\n",
       "    </tr>\n",
       "  </tbody>\n",
       "</table>\n",
       "</div>"
      ],
      "text/plain": [
       "                                                text sentiment_polarity  \\\n",
       "0                            last session of the day            neutral   \n",
       "1  shanghai is also really exciting precisely sky...           positive   \n",
       "2                             submit the report asap           negative   \n",
       "3                                         happy bday           positive   \n",
       "4                                  the ogs i like it           positive   \n",
       "\n",
       "   negative  neutral  positive  \n",
       "0         0        1         0  \n",
       "1         0        0         1  \n",
       "2         1        0         0  \n",
       "3         0        0         1  \n",
       "4         0        0         1  "
      ]
     },
     "execution_count": 18,
     "metadata": {},
     "output_type": "execute_result"
    }
   ],
   "source": [
    "df = pd.concat([df, bin_polar], axis=1)\n",
    "df.head()"
   ]
  },
  {
   "cell_type": "code",
   "execution_count": 19,
   "id": "d0fc1c6a",
   "metadata": {
    "execution": {
     "iopub.execute_input": "2024-08-31T07:40:33.742041Z",
     "iopub.status.busy": "2024-08-31T07:40:33.741701Z",
     "iopub.status.idle": "2024-08-31T07:40:33.752501Z",
     "shell.execute_reply": "2024-08-31T07:40:33.751407Z"
    },
    "papermill": {
     "duration": 0.042889,
     "end_time": "2024-08-31T07:40:33.754672",
     "exception": false,
     "start_time": "2024-08-31T07:40:33.711783",
     "status": "completed"
    },
    "tags": []
   },
   "outputs": [
    {
     "data": {
      "text/html": [
       "<div>\n",
       "<style scoped>\n",
       "    .dataframe tbody tr th:only-of-type {\n",
       "        vertical-align: middle;\n",
       "    }\n",
       "\n",
       "    .dataframe tbody tr th {\n",
       "        vertical-align: top;\n",
       "    }\n",
       "\n",
       "    .dataframe thead th {\n",
       "        text-align: right;\n",
       "    }\n",
       "</style>\n",
       "<table border=\"1\" class=\"dataframe\">\n",
       "  <thead>\n",
       "    <tr style=\"text-align: right;\">\n",
       "      <th></th>\n",
       "      <th>text</th>\n",
       "      <th>sentiment_polarity</th>\n",
       "      <th>negative</th>\n",
       "      <th>neutral</th>\n",
       "      <th>positive</th>\n",
       "    </tr>\n",
       "  </thead>\n",
       "  <tbody>\n",
       "    <tr>\n",
       "      <th>0</th>\n",
       "      <td>last session of the day</td>\n",
       "      <td>neutral</td>\n",
       "      <td>0</td>\n",
       "      <td>1</td>\n",
       "      <td>0</td>\n",
       "    </tr>\n",
       "    <tr>\n",
       "      <th>1</th>\n",
       "      <td>shanghai is also really exciting precisely sky...</td>\n",
       "      <td>positive</td>\n",
       "      <td>0</td>\n",
       "      <td>0</td>\n",
       "      <td>1</td>\n",
       "    </tr>\n",
       "    <tr>\n",
       "      <th>2</th>\n",
       "      <td>submit the report asap</td>\n",
       "      <td>negative</td>\n",
       "      <td>1</td>\n",
       "      <td>0</td>\n",
       "      <td>0</td>\n",
       "    </tr>\n",
       "    <tr>\n",
       "      <th>3</th>\n",
       "      <td>happy bday</td>\n",
       "      <td>positive</td>\n",
       "      <td>0</td>\n",
       "      <td>0</td>\n",
       "      <td>1</td>\n",
       "    </tr>\n",
       "    <tr>\n",
       "      <th>4</th>\n",
       "      <td>the ogs i like it</td>\n",
       "      <td>positive</td>\n",
       "      <td>0</td>\n",
       "      <td>0</td>\n",
       "      <td>1</td>\n",
       "    </tr>\n",
       "  </tbody>\n",
       "</table>\n",
       "</div>"
      ],
      "text/plain": [
       "                                                text sentiment_polarity  \\\n",
       "0                            last session of the day            neutral   \n",
       "1  shanghai is also really exciting precisely sky...           positive   \n",
       "2                             submit the report asap           negative   \n",
       "3                                         happy bday           positive   \n",
       "4                                  the ogs i like it           positive   \n",
       "\n",
       "   negative  neutral  positive  \n",
       "0         0        1         0  \n",
       "1         0        0         1  \n",
       "2         1        0         0  \n",
       "3         0        0         1  \n",
       "4         0        0         1  "
      ]
     },
     "execution_count": 19,
     "metadata": {},
     "output_type": "execute_result"
    }
   ],
   "source": [
    "# df.drop(columns=['sentiment_polarity'], inplace=True)\n",
    "df.head()"
   ]
  },
  {
   "cell_type": "code",
   "execution_count": 20,
   "id": "c8df6178",
   "metadata": {
    "execution": {
     "iopub.execute_input": "2024-08-31T07:40:33.812746Z",
     "iopub.status.busy": "2024-08-31T07:40:33.812444Z",
     "iopub.status.idle": "2024-08-31T07:40:33.823692Z",
     "shell.execute_reply": "2024-08-31T07:40:33.822721Z"
    },
    "papermill": {
     "duration": 0.042158,
     "end_time": "2024-08-31T07:40:33.825724",
     "exception": false,
     "start_time": "2024-08-31T07:40:33.783566",
     "status": "completed"
    },
    "tags": []
   },
   "outputs": [
    {
     "name": "stdout",
     "output_type": "stream",
     "text": [
      "<class 'pandas.core.frame.DataFrame'>\n",
      "Index: 4957 entries, 0 to 4957\n",
      "Data columns (total 5 columns):\n",
      " #   Column              Non-Null Count  Dtype \n",
      "---  ------              --------------  ----- \n",
      " 0   text                4957 non-null   object\n",
      " 1   sentiment_polarity  4957 non-null   object\n",
      " 2   negative            4957 non-null   int64 \n",
      " 3   neutral             4957 non-null   int64 \n",
      " 4   positive            4957 non-null   int64 \n",
      "dtypes: int64(3), object(2)\n",
      "memory usage: 232.4+ KB\n"
     ]
    }
   ],
   "source": [
    "df.info()"
   ]
  },
  {
   "cell_type": "code",
   "execution_count": 21,
   "id": "4f0dc221",
   "metadata": {
    "execution": {
     "iopub.execute_input": "2024-08-31T07:40:33.883678Z",
     "iopub.status.busy": "2024-08-31T07:40:33.883373Z",
     "iopub.status.idle": "2024-08-31T07:40:33.887489Z",
     "shell.execute_reply": "2024-08-31T07:40:33.886610Z"
    },
    "papermill": {
     "duration": 0.03612,
     "end_time": "2024-08-31T07:40:33.889475",
     "exception": false,
     "start_time": "2024-08-31T07:40:33.853355",
     "status": "completed"
    },
    "tags": []
   },
   "outputs": [],
   "source": [
    "sentiment_polarity_label_mapping = {\n",
    "    0: \"negative\", 1: \"neutral\", 2: \"positive\"\n",
    "}"
   ]
  },
  {
   "cell_type": "code",
   "execution_count": 22,
   "id": "96d3bee9",
   "metadata": {
    "execution": {
     "iopub.execute_input": "2024-08-31T07:40:33.947312Z",
     "iopub.status.busy": "2024-08-31T07:40:33.946627Z",
     "iopub.status.idle": "2024-08-31T07:40:33.950750Z",
     "shell.execute_reply": "2024-08-31T07:40:33.949941Z"
    },
    "papermill": {
     "duration": 0.035149,
     "end_time": "2024-08-31T07:40:33.952659",
     "exception": false,
     "start_time": "2024-08-31T07:40:33.917510",
     "status": "completed"
    },
    "tags": []
   },
   "outputs": [],
   "source": [
    "sentiment_polarity_label_mapping_rev = {\n",
    "    'negative': 0, 'neutral': 1, 'positive': 2\n",
    "}"
   ]
  },
  {
   "cell_type": "code",
   "execution_count": 23,
   "id": "c524edcc",
   "metadata": {
    "execution": {
     "iopub.execute_input": "2024-08-31T07:40:34.010822Z",
     "iopub.status.busy": "2024-08-31T07:40:34.010530Z",
     "iopub.status.idle": "2024-08-31T07:40:34.014474Z",
     "shell.execute_reply": "2024-08-31T07:40:34.013559Z"
    },
    "papermill": {
     "duration": 0.035551,
     "end_time": "2024-08-31T07:40:34.016517",
     "exception": false,
     "start_time": "2024-08-31T07:40:33.980966",
     "status": "completed"
    },
    "tags": []
   },
   "outputs": [],
   "source": [
    "SENTIMENT_POLARITY_LABELS = [\n",
    "    \"negative\", \"neutral\", \"positive\"\n",
    "]"
   ]
  },
  {
   "cell_type": "code",
   "execution_count": 24,
   "id": "8d3c7e66",
   "metadata": {
    "execution": {
     "iopub.execute_input": "2024-08-31T07:40:34.073650Z",
     "iopub.status.busy": "2024-08-31T07:40:34.073358Z",
     "iopub.status.idle": "2024-08-31T07:40:34.078370Z",
     "shell.execute_reply": "2024-08-31T07:40:34.077492Z"
    },
    "papermill": {
     "duration": 0.035841,
     "end_time": "2024-08-31T07:40:34.080381",
     "exception": false,
     "start_time": "2024-08-31T07:40:34.044540",
     "status": "completed"
    },
    "tags": []
   },
   "outputs": [],
   "source": [
    "def test_train_split(dataset, test_ratio=0.1):\n",
    "  test_indices = np.random.rand(len(dataset)) < test_ratio\n",
    "  return dataset[~test_indices], dataset[test_indices]"
   ]
  },
  {
   "cell_type": "code",
   "execution_count": 25,
   "id": "2b6715e9",
   "metadata": {
    "execution": {
     "iopub.execute_input": "2024-08-31T07:40:34.138042Z",
     "iopub.status.busy": "2024-08-31T07:40:34.137698Z",
     "iopub.status.idle": "2024-08-31T07:40:34.145873Z",
     "shell.execute_reply": "2024-08-31T07:40:34.144772Z"
    },
    "papermill": {
     "duration": 0.039338,
     "end_time": "2024-08-31T07:40:34.147849",
     "exception": false,
     "start_time": "2024-08-31T07:40:34.108511",
     "status": "completed"
    },
    "tags": []
   },
   "outputs": [
    {
     "name": "stdout",
     "output_type": "stream",
     "text": [
      "4450 examples in training, 507 examples in testing.\n"
     ]
    }
   ],
   "source": [
    "train_ds_pd, validation_ds_pd = test_train_split(df)\n",
    "print(\"{} examples in training, {} examples in testing.\".format(\n",
    "    len(train_ds_pd), len(validation_ds_pd)))"
   ]
  },
  {
   "cell_type": "code",
   "execution_count": 26,
   "id": "8373778c",
   "metadata": {
    "execution": {
     "iopub.execute_input": "2024-08-31T07:40:34.206406Z",
     "iopub.status.busy": "2024-08-31T07:40:34.205811Z",
     "iopub.status.idle": "2024-08-31T07:40:34.211193Z",
     "shell.execute_reply": "2024-08-31T07:40:34.210303Z"
    },
    "papermill": {
     "duration": 0.036894,
     "end_time": "2024-08-31T07:40:34.213472",
     "exception": false,
     "start_time": "2024-08-31T07:40:34.176578",
     "status": "completed"
    },
    "tags": []
   },
   "outputs": [],
   "source": [
    "train_ds_pd = train_ds_pd.reset_index(drop=True)\n",
    "validation_ds_pd = validation_ds_pd.reset_index(drop=True)"
   ]
  },
  {
   "cell_type": "code",
   "execution_count": 27,
   "id": "3e16ab4e",
   "metadata": {
    "execution": {
     "iopub.execute_input": "2024-08-31T07:40:34.274285Z",
     "iopub.status.busy": "2024-08-31T07:40:34.273960Z",
     "iopub.status.idle": "2024-08-31T07:40:34.285034Z",
     "shell.execute_reply": "2024-08-31T07:40:34.284059Z"
    },
    "papermill": {
     "duration": 0.043527,
     "end_time": "2024-08-31T07:40:34.287076",
     "exception": false,
     "start_time": "2024-08-31T07:40:34.243549",
     "status": "completed"
    },
    "tags": []
   },
   "outputs": [
    {
     "data": {
      "text/html": [
       "<div>\n",
       "<style scoped>\n",
       "    .dataframe tbody tr th:only-of-type {\n",
       "        vertical-align: middle;\n",
       "    }\n",
       "\n",
       "    .dataframe tbody tr th {\n",
       "        vertical-align: top;\n",
       "    }\n",
       "\n",
       "    .dataframe thead th {\n",
       "        text-align: right;\n",
       "    }\n",
       "</style>\n",
       "<table border=\"1\" class=\"dataframe\">\n",
       "  <thead>\n",
       "    <tr style=\"text-align: right;\">\n",
       "      <th></th>\n",
       "      <th>text</th>\n",
       "      <th>sentiment_polarity</th>\n",
       "      <th>negative</th>\n",
       "      <th>neutral</th>\n",
       "      <th>positive</th>\n",
       "    </tr>\n",
       "  </thead>\n",
       "  <tbody>\n",
       "    <tr>\n",
       "      <th>0</th>\n",
       "      <td>last session of the day</td>\n",
       "      <td>neutral</td>\n",
       "      <td>0</td>\n",
       "      <td>1</td>\n",
       "      <td>0</td>\n",
       "    </tr>\n",
       "    <tr>\n",
       "      <th>1</th>\n",
       "      <td>shanghai is also really exciting precisely sky...</td>\n",
       "      <td>positive</td>\n",
       "      <td>0</td>\n",
       "      <td>0</td>\n",
       "      <td>1</td>\n",
       "    </tr>\n",
       "    <tr>\n",
       "      <th>2</th>\n",
       "      <td>submit the report asap</td>\n",
       "      <td>negative</td>\n",
       "      <td>1</td>\n",
       "      <td>0</td>\n",
       "      <td>0</td>\n",
       "    </tr>\n",
       "    <tr>\n",
       "      <th>3</th>\n",
       "      <td>the ogs i like it</td>\n",
       "      <td>positive</td>\n",
       "      <td>0</td>\n",
       "      <td>0</td>\n",
       "      <td>1</td>\n",
       "    </tr>\n",
       "    <tr>\n",
       "      <th>4</th>\n",
       "      <td>that is great weee visitors</td>\n",
       "      <td>positive</td>\n",
       "      <td>0</td>\n",
       "      <td>0</td>\n",
       "      <td>1</td>\n",
       "    </tr>\n",
       "  </tbody>\n",
       "</table>\n",
       "</div>"
      ],
      "text/plain": [
       "                                                text sentiment_polarity  \\\n",
       "0                            last session of the day            neutral   \n",
       "1  shanghai is also really exciting precisely sky...           positive   \n",
       "2                             submit the report asap           negative   \n",
       "3                                  the ogs i like it           positive   \n",
       "4                        that is great weee visitors           positive   \n",
       "\n",
       "   negative  neutral  positive  \n",
       "0         0        1         0  \n",
       "1         0        0         1  \n",
       "2         1        0         0  \n",
       "3         0        0         1  \n",
       "4         0        0         1  "
      ]
     },
     "execution_count": 27,
     "metadata": {},
     "output_type": "execute_result"
    }
   ],
   "source": [
    "train_ds_pd.head()"
   ]
  },
  {
   "cell_type": "code",
   "execution_count": 28,
   "id": "d50e9a77",
   "metadata": {
    "execution": {
     "iopub.execute_input": "2024-08-31T07:40:34.347805Z",
     "iopub.status.busy": "2024-08-31T07:40:34.347476Z",
     "iopub.status.idle": "2024-08-31T07:40:34.354062Z",
     "shell.execute_reply": "2024-08-31T07:40:34.353223Z"
    },
    "papermill": {
     "duration": 0.038349,
     "end_time": "2024-08-31T07:40:34.355996",
     "exception": false,
     "start_time": "2024-08-31T07:40:34.317647",
     "status": "completed"
    },
    "tags": []
   },
   "outputs": [
    {
     "data": {
      "text/plain": [
       "array(['neutral', 'positive', 'negative', ..., 'negative', 'negative',\n",
       "       'positive'], dtype=object)"
      ]
     },
     "execution_count": 28,
     "metadata": {},
     "output_type": "execute_result"
    }
   ],
   "source": [
    "sentiment_labels = np.array(train_ds_pd['sentiment_polarity'])\n",
    "sentiment_labels"
   ]
  },
  {
   "cell_type": "code",
   "execution_count": 29,
   "id": "8c1bd474",
   "metadata": {
    "execution": {
     "iopub.execute_input": "2024-08-31T07:40:34.414236Z",
     "iopub.status.busy": "2024-08-31T07:40:34.413909Z",
     "iopub.status.idle": "2024-08-31T07:40:34.419569Z",
     "shell.execute_reply": "2024-08-31T07:40:34.418789Z"
    },
    "papermill": {
     "duration": 0.037228,
     "end_time": "2024-08-31T07:40:34.421478",
     "exception": false,
     "start_time": "2024-08-31T07:40:34.384250",
     "status": "completed"
    },
    "tags": []
   },
   "outputs": [],
   "source": [
    "train_ds_pd.drop(columns=['sentiment_polarity'], inplace=True)\n",
    "validation_ds_pd.drop(columns=['sentiment_polarity'], inplace=True)"
   ]
  },
  {
   "cell_type": "code",
   "execution_count": 30,
   "id": "c863e17c",
   "metadata": {
    "execution": {
     "iopub.execute_input": "2024-08-31T07:40:34.480980Z",
     "iopub.status.busy": "2024-08-31T07:40:34.480681Z",
     "iopub.status.idle": "2024-08-31T07:40:34.490408Z",
     "shell.execute_reply": "2024-08-31T07:40:34.489506Z"
    },
    "papermill": {
     "duration": 0.041188,
     "end_time": "2024-08-31T07:40:34.492432",
     "exception": false,
     "start_time": "2024-08-31T07:40:34.451244",
     "status": "completed"
    },
    "tags": []
   },
   "outputs": [
    {
     "data": {
      "text/html": [
       "<div>\n",
       "<style scoped>\n",
       "    .dataframe tbody tr th:only-of-type {\n",
       "        vertical-align: middle;\n",
       "    }\n",
       "\n",
       "    .dataframe tbody tr th {\n",
       "        vertical-align: top;\n",
       "    }\n",
       "\n",
       "    .dataframe thead th {\n",
       "        text-align: right;\n",
       "    }\n",
       "</style>\n",
       "<table border=\"1\" class=\"dataframe\">\n",
       "  <thead>\n",
       "    <tr style=\"text-align: right;\">\n",
       "      <th></th>\n",
       "      <th>text</th>\n",
       "      <th>negative</th>\n",
       "      <th>neutral</th>\n",
       "      <th>positive</th>\n",
       "    </tr>\n",
       "  </thead>\n",
       "  <tbody>\n",
       "    <tr>\n",
       "      <th>0</th>\n",
       "      <td>last session of the day</td>\n",
       "      <td>0</td>\n",
       "      <td>1</td>\n",
       "      <td>0</td>\n",
       "    </tr>\n",
       "    <tr>\n",
       "      <th>1</th>\n",
       "      <td>shanghai is also really exciting precisely sky...</td>\n",
       "      <td>0</td>\n",
       "      <td>0</td>\n",
       "      <td>1</td>\n",
       "    </tr>\n",
       "    <tr>\n",
       "      <th>2</th>\n",
       "      <td>submit the report asap</td>\n",
       "      <td>1</td>\n",
       "      <td>0</td>\n",
       "      <td>0</td>\n",
       "    </tr>\n",
       "    <tr>\n",
       "      <th>3</th>\n",
       "      <td>the ogs i like it</td>\n",
       "      <td>0</td>\n",
       "      <td>0</td>\n",
       "      <td>1</td>\n",
       "    </tr>\n",
       "    <tr>\n",
       "      <th>4</th>\n",
       "      <td>that is great weee visitors</td>\n",
       "      <td>0</td>\n",
       "      <td>0</td>\n",
       "      <td>1</td>\n",
       "    </tr>\n",
       "  </tbody>\n",
       "</table>\n",
       "</div>"
      ],
      "text/plain": [
       "                                                text  negative  neutral  \\\n",
       "0                            last session of the day         0        1   \n",
       "1  shanghai is also really exciting precisely sky...         0        0   \n",
       "2                             submit the report asap         1        0   \n",
       "3                                  the ogs i like it         0        0   \n",
       "4                        that is great weee visitors         0        0   \n",
       "\n",
       "   positive  \n",
       "0         0  \n",
       "1         1  \n",
       "2         0  \n",
       "3         1  \n",
       "4         1  "
      ]
     },
     "execution_count": 30,
     "metadata": {},
     "output_type": "execute_result"
    }
   ],
   "source": [
    "train_ds_pd.head()"
   ]
  },
  {
   "cell_type": "code",
   "execution_count": 31,
   "id": "ea9cfa8d",
   "metadata": {
    "execution": {
     "iopub.execute_input": "2024-08-31T07:40:34.553058Z",
     "iopub.status.busy": "2024-08-31T07:40:34.552776Z",
     "iopub.status.idle": "2024-08-31T07:40:34.562413Z",
     "shell.execute_reply": "2024-08-31T07:40:34.561599Z"
    },
    "papermill": {
     "duration": 0.041167,
     "end_time": "2024-08-31T07:40:34.564279",
     "exception": false,
     "start_time": "2024-08-31T07:40:34.523112",
     "status": "completed"
    },
    "tags": []
   },
   "outputs": [
    {
     "data": {
      "text/html": [
       "<div>\n",
       "<style scoped>\n",
       "    .dataframe tbody tr th:only-of-type {\n",
       "        vertical-align: middle;\n",
       "    }\n",
       "\n",
       "    .dataframe tbody tr th {\n",
       "        vertical-align: top;\n",
       "    }\n",
       "\n",
       "    .dataframe thead th {\n",
       "        text-align: right;\n",
       "    }\n",
       "</style>\n",
       "<table border=\"1\" class=\"dataframe\">\n",
       "  <thead>\n",
       "    <tr style=\"text-align: right;\">\n",
       "      <th></th>\n",
       "      <th>text</th>\n",
       "      <th>negative</th>\n",
       "      <th>neutral</th>\n",
       "      <th>positive</th>\n",
       "    </tr>\n",
       "  </thead>\n",
       "  <tbody>\n",
       "    <tr>\n",
       "      <th>0</th>\n",
       "      <td>happy bday</td>\n",
       "      <td>0</td>\n",
       "      <td>0</td>\n",
       "      <td>1</td>\n",
       "    </tr>\n",
       "    <tr>\n",
       "      <th>1</th>\n",
       "      <td>you guys did not say hi or answer my questions...</td>\n",
       "      <td>0</td>\n",
       "      <td>0</td>\n",
       "      <td>1</td>\n",
       "    </tr>\n",
       "    <tr>\n",
       "      <th>2</th>\n",
       "      <td>thats so cool</td>\n",
       "      <td>0</td>\n",
       "      <td>0</td>\n",
       "      <td>1</td>\n",
       "    </tr>\n",
       "    <tr>\n",
       "      <th>3</th>\n",
       "      <td>look who i found just for you</td>\n",
       "      <td>0</td>\n",
       "      <td>0</td>\n",
       "      <td>1</td>\n",
       "    </tr>\n",
       "    <tr>\n",
       "      <th>4</th>\n",
       "      <td>why do i have to enter my registration details...</td>\n",
       "      <td>0</td>\n",
       "      <td>1</td>\n",
       "      <td>0</td>\n",
       "    </tr>\n",
       "  </tbody>\n",
       "</table>\n",
       "</div>"
      ],
      "text/plain": [
       "                                                text  negative  neutral  \\\n",
       "0                                         happy bday         0        0   \n",
       "1  you guys did not say hi or answer my questions...         0        0   \n",
       "2                                      thats so cool         0        0   \n",
       "3                      look who i found just for you         0        0   \n",
       "4  why do i have to enter my registration details...         0        1   \n",
       "\n",
       "   positive  \n",
       "0         1  \n",
       "1         1  \n",
       "2         1  \n",
       "3         1  \n",
       "4         0  "
      ]
     },
     "execution_count": 31,
     "metadata": {},
     "output_type": "execute_result"
    }
   ],
   "source": [
    "validation_ds_pd.head()"
   ]
  },
  {
   "cell_type": "code",
   "execution_count": 32,
   "id": "5c452c74",
   "metadata": {
    "execution": {
     "iopub.execute_input": "2024-08-31T07:40:34.624719Z",
     "iopub.status.busy": "2024-08-31T07:40:34.624403Z",
     "iopub.status.idle": "2024-08-31T07:40:34.632726Z",
     "shell.execute_reply": "2024-08-31T07:40:34.631423Z"
    },
    "papermill": {
     "duration": 0.041582,
     "end_time": "2024-08-31T07:40:34.635028",
     "exception": false,
     "start_time": "2024-08-31T07:40:34.593446",
     "status": "completed"
    },
    "tags": []
   },
   "outputs": [
    {
     "data": {
      "text/plain": [
       "array([1, 2, 0, ..., 0, 0, 2])"
      ]
     },
     "execution_count": 32,
     "metadata": {},
     "output_type": "execute_result"
    }
   ],
   "source": [
    "sentiment_indexed_labels = np.array([sentiment_polarity_label_mapping_rev[label] for label in sentiment_labels])\n",
    "sentiment_indexed_labels"
   ]
  },
  {
   "cell_type": "code",
   "execution_count": 33,
   "id": "d5d2d850",
   "metadata": {
    "execution": {
     "iopub.execute_input": "2024-08-31T07:40:34.694649Z",
     "iopub.status.busy": "2024-08-31T07:40:34.694376Z",
     "iopub.status.idle": "2024-08-31T07:40:40.534179Z",
     "shell.execute_reply": "2024-08-31T07:40:40.533089Z"
    },
    "papermill": {
     "duration": 5.872146,
     "end_time": "2024-08-31T07:40:40.536584",
     "exception": false,
     "start_time": "2024-08-31T07:40:34.664438",
     "status": "completed"
    },
    "tags": []
   },
   "outputs": [],
   "source": [
    "import torch\n",
    "import torch.nn\n",
    "import torch.nn as nn"
   ]
  },
  {
   "cell_type": "markdown",
   "id": "0815e734",
   "metadata": {
    "papermill": {
     "duration": 0.02854,
     "end_time": "2024-08-31T07:40:40.594373",
     "exception": false,
     "start_time": "2024-08-31T07:40:40.565833",
     "status": "completed"
    },
    "tags": []
   },
   "source": [
    "## Calculating Class Weights for each labels to avoid imbalanced distribution"
   ]
  },
  {
   "cell_type": "code",
   "execution_count": 34,
   "id": "2d794aad",
   "metadata": {
    "execution": {
     "iopub.execute_input": "2024-08-31T07:40:40.654543Z",
     "iopub.status.busy": "2024-08-31T07:40:40.654043Z",
     "iopub.status.idle": "2024-08-31T07:40:40.821861Z",
     "shell.execute_reply": "2024-08-31T07:40:40.820885Z"
    },
    "papermill": {
     "duration": 0.200943,
     "end_time": "2024-08-31T07:40:40.823992",
     "exception": false,
     "start_time": "2024-08-31T07:40:40.623049",
     "status": "completed"
    },
    "tags": []
   },
   "outputs": [
    {
     "data": {
      "text/plain": [
       "tensor([0.3520, 0.3174, 0.3306])"
      ]
     },
     "execution_count": 34,
     "metadata": {},
     "output_type": "execute_result"
    }
   ],
   "source": [
    "class_counts = np.bincount(sentiment_indexed_labels)\n",
    "total_samples = len(sentiment_labels)\n",
    "class_weights = total_samples / (len(class_counts) * class_counts)\n",
    "class_weights = class_weights / class_weights.sum()\n",
    "class_weights = torch.tensor(class_weights, dtype=torch.float)\n",
    "class_weights"
   ]
  },
  {
   "cell_type": "markdown",
   "id": "d5ffab39",
   "metadata": {
    "papermill": {
     "duration": 0.029743,
     "end_time": "2024-08-31T07:40:40.883446",
     "exception": false,
     "start_time": "2024-08-31T07:40:40.853703",
     "status": "completed"
    },
    "tags": []
   },
   "source": [
    "## Class Weight NOTE\n",
    "### This class weights are for the training dataset and are to be used while training."
   ]
  },
  {
   "cell_type": "markdown",
   "id": "5ed77391",
   "metadata": {
    "papermill": {
     "duration": 0.028742,
     "end_time": "2024-08-31T07:40:40.940626",
     "exception": false,
     "start_time": "2024-08-31T07:40:40.911884",
     "status": "completed"
    },
    "tags": []
   },
   "source": [
    "### SETTING CUDA"
   ]
  },
  {
   "cell_type": "code",
   "execution_count": 35,
   "id": "30ce963e",
   "metadata": {
    "execution": {
     "iopub.execute_input": "2024-08-31T07:40:41.000022Z",
     "iopub.status.busy": "2024-08-31T07:40:40.999667Z",
     "iopub.status.idle": "2024-08-31T07:40:41.081248Z",
     "shell.execute_reply": "2024-08-31T07:40:41.080209Z"
    },
    "papermill": {
     "duration": 0.113394,
     "end_time": "2024-08-31T07:40:41.083221",
     "exception": false,
     "start_time": "2024-08-31T07:40:40.969827",
     "status": "completed"
    },
    "tags": []
   },
   "outputs": [],
   "source": [
    "device = torch.device(\"cuda\" if torch.cuda.is_available() else \"cpu\")"
   ]
  },
  {
   "cell_type": "code",
   "execution_count": 36,
   "id": "0764fef0",
   "metadata": {
    "execution": {
     "iopub.execute_input": "2024-08-31T07:40:41.143616Z",
     "iopub.status.busy": "2024-08-31T07:40:41.143058Z",
     "iopub.status.idle": "2024-08-31T07:40:45.023099Z",
     "shell.execute_reply": "2024-08-31T07:40:45.022067Z"
    },
    "papermill": {
     "duration": 3.912785,
     "end_time": "2024-08-31T07:40:45.025726",
     "exception": false,
     "start_time": "2024-08-31T07:40:41.112941",
     "status": "completed"
    },
    "tags": []
   },
   "outputs": [],
   "source": [
    "from transformers import RobertaTokenizer, RobertaModel\n",
    "from transformers import DebertaV2Model, DebertaV2Tokenizer\n",
    "from torch.utils.data import Dataset, DataLoader"
   ]
  },
  {
   "cell_type": "code",
   "execution_count": 37,
   "id": "bbf884f6",
   "metadata": {
    "execution": {
     "iopub.execute_input": "2024-08-31T07:40:45.089603Z",
     "iopub.status.busy": "2024-08-31T07:40:45.089098Z",
     "iopub.status.idle": "2024-08-31T07:40:46.646934Z",
     "shell.execute_reply": "2024-08-31T07:40:46.645900Z"
    },
    "papermill": {
     "duration": 1.592238,
     "end_time": "2024-08-31T07:40:46.649528",
     "exception": false,
     "start_time": "2024-08-31T07:40:45.057290",
     "status": "completed"
    },
    "tags": []
   },
   "outputs": [
    {
     "data": {
      "application/vnd.jupyter.widget-view+json": {
       "model_id": "0212e5eef3f74d47a621a4b590b06a77",
       "version_major": 2,
       "version_minor": 0
      },
      "text/plain": [
       "tokenizer_config.json:   0%|          | 0.00/52.0 [00:00<?, ?B/s]"
      ]
     },
     "metadata": {},
     "output_type": "display_data"
    },
    {
     "data": {
      "application/vnd.jupyter.widget-view+json": {
       "model_id": "5ff6485af1854fc18d55cf627db9a99b",
       "version_major": 2,
       "version_minor": 0
      },
      "text/plain": [
       "spm.model:   0%|          | 0.00/2.46M [00:00<?, ?B/s]"
      ]
     },
     "metadata": {},
     "output_type": "display_data"
    },
    {
     "data": {
      "application/vnd.jupyter.widget-view+json": {
       "model_id": "d78b4dc16a43425590b6888b007d48eb",
       "version_major": 2,
       "version_minor": 0
      },
      "text/plain": [
       "config.json:   0%|          | 0.00/579 [00:00<?, ?B/s]"
      ]
     },
     "metadata": {},
     "output_type": "display_data"
    },
    {
     "name": "stderr",
     "output_type": "stream",
     "text": [
      "/opt/conda/lib/python3.10/site-packages/transformers/tokenization_utils_base.py:1601: FutureWarning: `clean_up_tokenization_spaces` was not set. It will be set to `True` by default. This behavior will be depracted in transformers v4.45, and will be then set to `False` by default. For more details check this issue: https://github.com/huggingface/transformers/issues/31884\n",
      "  warnings.warn(\n"
     ]
    }
   ],
   "source": [
    "# tokenizer = RobertaTokenizer.from_pretrained('roberta-base')\n",
    "tokenizer = DebertaV2Tokenizer.from_pretrained('microsoft/deberta-v3-base')"
   ]
  },
  {
   "cell_type": "markdown",
   "id": "7ee9ccc8",
   "metadata": {
    "papermill": {
     "duration": 0.033856,
     "end_time": "2024-08-31T07:40:46.726225",
     "exception": false,
     "start_time": "2024-08-31T07:40:46.692369",
     "status": "completed"
    },
    "tags": []
   },
   "source": [
    "## TORCH IMPORTS"
   ]
  },
  {
   "cell_type": "code",
   "execution_count": 38,
   "id": "0d704f6d",
   "metadata": {
    "execution": {
     "iopub.execute_input": "2024-08-31T07:40:46.797074Z",
     "iopub.status.busy": "2024-08-31T07:40:46.796715Z",
     "iopub.status.idle": "2024-08-31T07:41:11.828043Z",
     "shell.execute_reply": "2024-08-31T07:41:11.826980Z"
    },
    "papermill": {
     "duration": 25.06874,
     "end_time": "2024-08-31T07:41:11.830510",
     "exception": false,
     "start_time": "2024-08-31T07:40:46.761770",
     "status": "completed"
    },
    "tags": []
   },
   "outputs": [
    {
     "name": "stderr",
     "output_type": "stream",
     "text": [
      "2024-08-31 07:40:50,402\tINFO util.py:124 -- Outdated packages:\n",
      "  ipywidgets==7.7.1 found, needs ipywidgets>=8\n",
      "Run `pip install -U ipywidgets`, then restart the notebook server for rich notebook output.\n",
      "2024-08-31 07:40:51,164\tINFO util.py:124 -- Outdated packages:\n",
      "  ipywidgets==7.7.1 found, needs ipywidgets>=8\n",
      "Run `pip install -U ipywidgets`, then restart the notebook server for rich notebook output.\n"
     ]
    }
   ],
   "source": [
    "from torch.optim import AdamW\n",
    "import torch.optim as optim\n",
    "from torch.utils.data import Dataset, DataLoader\n",
    "from transformers import RobertaTokenizer, RobertaModel\n",
    "from sklearn.model_selection import train_test_split\n",
    "import optuna\n",
    "# from optuna.integration import PyTorchLightningPruner\n",
    "from ray import tune\n",
    "import ray\n",
    "from ray import tune\n",
    "from ray.tune import CLIReporter\n",
    "from ray.tune import CLIReporter\n",
    "from ray.tune.schedulers import ASHAScheduler\n",
    "from ray.tune.schedulers import ASHAScheduler\n",
    "# from ray.tune.integration.pytorch import TuneReportCallback\n",
    "from torch.amp import GradScaler, autocast\n",
    "# from ray.tune.integration.optuna import OptunaSearch\n",
    "from ray.tune.search.optuna import OptunaSearch\n",
    "from ray import tune\n",
    "from ray.tune.search.hyperopt import HyperOptSearch\n",
    "from torch import autocast\n",
    "# from ray import tune\n",
    "# from ray.tune.integration.tensorboard import TensorBoardReporter\n",
    "from ray.tune.logger import TBXLogger\n",
    "from torch.utils.tensorboard import SummaryWriter\n",
    "from ray.train import report\n",
    "# from ray.tune.integration.jupyter import JupyterNotebookReporter\n",
    "from ray.tune import JupyterNotebookReporter\n",
    "# from torch.cuda.amp import GradScaler, autocast\n",
    "from torch.optim.lr_scheduler import StepLR, CosineAnnealingLR\n",
    "from ray.tune.schedulers import HyperBandScheduler, AsyncHyperBandScheduler"
   ]
  },
  {
   "cell_type": "markdown",
   "id": "7d298c1f",
   "metadata": {
    "papermill": {
     "duration": 0.031252,
     "end_time": "2024-08-31T07:41:11.893841",
     "exception": false,
     "start_time": "2024-08-31T07:41:11.862589",
     "status": "completed"
    },
    "tags": []
   },
   "source": [
    "# DATASET CONFIG & ENCODING"
   ]
  },
  {
   "cell_type": "code",
   "execution_count": 39,
   "id": "56c235c3",
   "metadata": {
    "execution": {
     "iopub.execute_input": "2024-08-31T07:41:11.957159Z",
     "iopub.status.busy": "2024-08-31T07:41:11.956038Z",
     "iopub.status.idle": "2024-08-31T07:41:11.965023Z",
     "shell.execute_reply": "2024-08-31T07:41:11.964144Z"
    },
    "papermill": {
     "duration": 0.0427,
     "end_time": "2024-08-31T07:41:11.966998",
     "exception": false,
     "start_time": "2024-08-31T07:41:11.924298",
     "status": "completed"
    },
    "tags": []
   },
   "outputs": [],
   "source": [
    "class SentimentDataset(Dataset):\n",
    "    def __init__(self, dataframe, tokenizer, max_len):\n",
    "        self.tokenizer = tokenizer\n",
    "        self.data = dataframe\n",
    "        self.max_len = max_len\n",
    "\n",
    "    def __len__(self):\n",
    "        return len(self.data)\n",
    "\n",
    "    def __getitem__(self, index):\n",
    "#         text = self.data.iloc[index, 0]\n",
    "#         labels = self.data.iloc[index, 1:].values.astype(float)\n",
    "        text = str(self.data.iloc[index]['text'])\n",
    "        labels = self.data.iloc[index][['negative', 'neutral', 'positive']].values.astype(np.float32)\n",
    "\n",
    "        inputs = self.tokenizer.encode_plus(\n",
    "            text,\n",
    "            None,\n",
    "            add_special_tokens=True,\n",
    "            max_length=self.max_len,\n",
    "            padding='max_length',\n",
    "            truncation=True,\n",
    "            return_token_type_ids=False\n",
    "        )\n",
    "\n",
    "        input_ids = inputs['input_ids']\n",
    "        attention_mask = inputs['attention_mask']\n",
    "\n",
    "        return {\n",
    "            'input_ids': torch.tensor(input_ids, dtype=torch.long),\n",
    "            'attention_mask': torch.tensor(attention_mask, dtype=torch.long),\n",
    "            'labels': torch.tensor(labels, dtype=torch.float)\n",
    "        }"
   ]
  },
  {
   "cell_type": "markdown",
   "id": "ba244a06",
   "metadata": {
    "papermill": {
     "duration": 0.030105,
     "end_time": "2024-08-31T07:41:12.027199",
     "exception": false,
     "start_time": "2024-08-31T07:41:11.997094",
     "status": "completed"
    },
    "tags": []
   },
   "source": [
    "# MODEL DEFINITION"
   ]
  },
  {
   "cell_type": "code",
   "execution_count": 40,
   "id": "5e8f0568",
   "metadata": {
    "execution": {
     "iopub.execute_input": "2024-08-31T07:41:12.088821Z",
     "iopub.status.busy": "2024-08-31T07:41:12.088508Z",
     "iopub.status.idle": "2024-08-31T07:41:12.095794Z",
     "shell.execute_reply": "2024-08-31T07:41:12.094955Z"
    },
    "papermill": {
     "duration": 0.04009,
     "end_time": "2024-08-31T07:41:12.097623",
     "exception": false,
     "start_time": "2024-08-31T07:41:12.057533",
     "status": "completed"
    },
    "tags": []
   },
   "outputs": [],
   "source": [
    "class SentimentModel(nn.Module):\n",
    "    def __init__(self, roberta_model, n_classes, dropout_rate):\n",
    "        super(SentimentModel, self).__init__()\n",
    "        self.roberta = roberta_model\n",
    "        self.drop = nn.Dropout(p=dropout_rate)\n",
    "        self.fc1 = nn.Linear(self.roberta.config.hidden_size, 256)  # Reduced neurons\n",
    "        self.relu = nn.ReLU()\n",
    "        self.out = nn.Linear(256, n_classes)\n",
    "        \n",
    "    def forward(self, input_ids, attention_mask):\n",
    "        # Get the RoBERTa output\n",
    "        output = self.roberta(input_ids=input_ids, attention_mask=attention_mask)\n",
    "        cls_token_state = output.last_hidden_state[:, 0, :]\n",
    "        # Pass through the custom layers\n",
    "        output = self.drop(cls_token_state)\n",
    "        output = self.relu(self.fc1(output))\n",
    "#         output = self.drop(output)\n",
    "        return self.out(output)"
   ]
  },
  {
   "cell_type": "markdown",
   "id": "08218909",
   "metadata": {
    "papermill": {
     "duration": 0.029888,
     "end_time": "2024-08-31T07:41:12.157204",
     "exception": false,
     "start_time": "2024-08-31T07:41:12.127316",
     "status": "completed"
    },
    "tags": []
   },
   "source": [
    "## Other Models to try out"
   ]
  },
  {
   "cell_type": "code",
   "execution_count": 41,
   "id": "2df2766b",
   "metadata": {
    "execution": {
     "iopub.execute_input": "2024-08-31T07:41:12.262320Z",
     "iopub.status.busy": "2024-08-31T07:41:12.261823Z",
     "iopub.status.idle": "2024-08-31T07:41:12.267937Z",
     "shell.execute_reply": "2024-08-31T07:41:12.266777Z"
    },
    "papermill": {
     "duration": 0.068377,
     "end_time": "2024-08-31T07:41:12.270647",
     "exception": false,
     "start_time": "2024-08-31T07:41:12.202270",
     "status": "completed"
    },
    "tags": []
   },
   "outputs": [],
   "source": [
    "# class SentimentModel(nn.Module):\n",
    "#     def __init__(self, roberta_model, n_classes, dropout_rate):\n",
    "#         super(SentimentModel, self).__init__()\n",
    "#         self.roberta = roberta_model\n",
    "#         self.drop = nn.Dropout(p=dropout_rate)\n",
    "#         self.fc1 = nn.Linear(self.roberta.config.hidden_size, 512)\n",
    "#         self.relu = nn.ReLU()\n",
    "#         self.fc2 = nn.Linear(512, 256)\n",
    "#         self.out = nn.Linear(256, n_classes)\n",
    "#         self.softmax = nn.LogSoftmax(dim=1)\n",
    "\n",
    "#     def forward(self, input_ids, attention_mask):\n",
    "#         # Get the RoBERTa output\n",
    "#         output = self.roberta(input_ids=input_ids, attention_mask=attention_mask)\n",
    "#         cls_token_state = output.last_hidden_state[:, 0, :]\n",
    "#         # Pass through the custom layers\n",
    "#         output = self.drop(cls_token_state)\n",
    "# #         output = cls_token_state\n",
    "#         output = self.relu(self.fc1(output))\n",
    "#         output = self.drop(output)\n",
    "#         output = self.relu(self.fc2(output))\n",
    "# #         output = self.drop(output)\n",
    "#         return self.out(output)"
   ]
  },
  {
   "cell_type": "code",
   "execution_count": 42,
   "id": "7ffe1605",
   "metadata": {
    "execution": {
     "iopub.execute_input": "2024-08-31T07:41:12.335059Z",
     "iopub.status.busy": "2024-08-31T07:41:12.334699Z",
     "iopub.status.idle": "2024-08-31T07:41:12.339063Z",
     "shell.execute_reply": "2024-08-31T07:41:12.338230Z"
    },
    "papermill": {
     "duration": 0.037058,
     "end_time": "2024-08-31T07:41:12.340944",
     "exception": false,
     "start_time": "2024-08-31T07:41:12.303886",
     "status": "completed"
    },
    "tags": []
   },
   "outputs": [],
   "source": [
    "# class AdvancedPooling(nn.Module):\n",
    "#     def __init__(self, hidden_size):\n",
    "#         super(AdvancedPooling, self).__init__()\n",
    "#         self.hidden_size = hidden_size\n",
    "\n",
    "#     def forward(self, hidden_states):\n",
    "#         cls_output = hidden_states[:, 0, :]  # [CLS] token output\n",
    "#         mean_output = hidden_states.mean(dim=1)  # Mean pooling over sequence\n",
    "#         max_output, _ = hidden_states.max(dim=1)  # Max pooling over sequence\n",
    "#         combined_output = torch.cat([cls_output, mean_output, max_output], dim=1)\n",
    "#         return combined_output"
   ]
  },
  {
   "cell_type": "code",
   "execution_count": 43,
   "id": "4a1e955c",
   "metadata": {
    "execution": {
     "iopub.execute_input": "2024-08-31T07:41:12.402695Z",
     "iopub.status.busy": "2024-08-31T07:41:12.401906Z",
     "iopub.status.idle": "2024-08-31T07:41:12.406866Z",
     "shell.execute_reply": "2024-08-31T07:41:12.406020Z"
    },
    "papermill": {
     "duration": 0.03759,
     "end_time": "2024-08-31T07:41:12.408853",
     "exception": false,
     "start_time": "2024-08-31T07:41:12.371263",
     "status": "completed"
    },
    "tags": []
   },
   "outputs": [],
   "source": [
    "# class SentimentModel(nn.Module):\n",
    "#     def __init__(self, roberta_model, n_classes, dropout_rate):\n",
    "#         super(SentimentModel, self).__init__()\n",
    "#         self.roberta = roberta_model\n",
    "#         self.drop = nn.Dropout(p=dropout_rate)\n",
    "#         self.fc1 = nn.Linear(self.roberta.config.hidden_size * 3, 512)\n",
    "#         self.attention_pooling = AdvancedPooling(hidden_size=self.roberta.config.hidden_size)\n",
    "#         self.drop = nn.Dropout(p=dropout_rate)\n",
    "#         self.relu = nn.ReLU()\n",
    "#         self.fc2 = nn.Linear(512, 256)\n",
    "#         self.out = nn.Linear(256, n_classes)\n",
    "#         self.softmax = nn.LogSoftmax(dim=1)\n",
    "\n",
    "#     def forward(self, input_ids, attention_mask):\n",
    "#         output = self.roberta(input_ids=input_ids, attention_mask=attention_mask)\n",
    "#         cls_output = output.last_hidden_state[:, 0, :]  # Extract [CLS] token representation\n",
    "#         hidden_states = output.last_hidden_state  # Sequence hidden states\n",
    "#         pooled_output = self.attention_pooling(hidden_states)  # Attention pooling  # Combine CLS and attention pooling\n",
    "#         output = self.drop(pooled_output)\n",
    "#         output = self.relu(self.fc1(output))\n",
    "#         output = self.drop(output)\n",
    "#         output = self.relu(self.fc2(output))\n",
    "#         output = self.drop(output)\n",
    "#         return self.out(output)"
   ]
  },
  {
   "cell_type": "markdown",
   "id": "e711a20a",
   "metadata": {
    "papermill": {
     "duration": 0.029797,
     "end_time": "2024-08-31T07:41:12.469253",
     "exception": false,
     "start_time": "2024-08-31T07:41:12.439456",
     "status": "completed"
    },
    "tags": []
   },
   "source": [
    "## TRAIN & VALIDATION\n",
    "### Custom metric is a metric for determining the best model free from any overfitting, underfitting. ```custom_metric = (avg_val_loss−val_accuracy) + α × ∣avg_train_loss−avg_val_loss∣ + β × ∣val_accuracy-train_accuracy∣``` This metric balances between low validation loss, high validation accuracy, and penalizing large discrepancies between training and validation loss. Note that, in the model selection we have used ```α = β = 0.5```\n"
   ]
  },
  {
   "cell_type": "markdown",
   "id": "abf5c3b7",
   "metadata": {
    "papermill": {
     "duration": 0.030508,
     "end_time": "2024-08-31T07:41:12.530002",
     "exception": false,
     "start_time": "2024-08-31T07:41:12.499494",
     "status": "completed"
    },
    "tags": []
   },
   "source": [
    "### But, if we have probabilistic values as input and output we cannot directly calculate the accuracy, infact we need to rely on loss only. ```custom_metric = avg_val_loss + α × ∣avg_train_loss−avg_val_loss∣```"
   ]
  },
  {
   "cell_type": "code",
   "execution_count": 44,
   "id": "257c7442",
   "metadata": {
    "execution": {
     "iopub.execute_input": "2024-08-31T07:41:12.592561Z",
     "iopub.status.busy": "2024-08-31T07:41:12.592248Z",
     "iopub.status.idle": "2024-08-31T07:41:12.597590Z",
     "shell.execute_reply": "2024-08-31T07:41:12.596645Z"
    },
    "papermill": {
     "duration": 0.03908,
     "end_time": "2024-08-31T07:41:12.599676",
     "exception": false,
     "start_time": "2024-08-31T07:41:12.560596",
     "status": "completed"
    },
    "tags": []
   },
   "outputs": [],
   "source": [
    "# Custom metric calculation function\n",
    "def calculate_custom_metric(avg_val_loss, val_accuracy, avg_train_loss, train_accuracy, alpha=0.5, beta=0.5):\n",
    "    loss_diff = abs(avg_train_loss - avg_val_loss)\n",
    "    accuracy_diff = abs(train_accuracy - val_accuracy)\n",
    "    custom_metric = avg_val_loss - val_accuracy + alpha * loss_diff + beta * accuracy_diff\n",
    "    return custom_metric"
   ]
  },
  {
   "cell_type": "markdown",
   "id": "cb3c9800",
   "metadata": {
    "papermill": {
     "duration": 0.030055,
     "end_time": "2024-08-31T07:41:12.659385",
     "exception": false,
     "start_time": "2024-08-31T07:41:12.629330",
     "status": "completed"
    },
    "tags": []
   },
   "source": [
    "### Early Stopping"
   ]
  },
  {
   "cell_type": "code",
   "execution_count": 45,
   "id": "5435aaa7",
   "metadata": {
    "execution": {
     "iopub.execute_input": "2024-08-31T07:41:12.722893Z",
     "iopub.status.busy": "2024-08-31T07:41:12.722548Z",
     "iopub.status.idle": "2024-08-31T07:41:12.730299Z",
     "shell.execute_reply": "2024-08-31T07:41:12.729265Z"
    },
    "papermill": {
     "duration": 0.042819,
     "end_time": "2024-08-31T07:41:12.732768",
     "exception": false,
     "start_time": "2024-08-31T07:41:12.689949",
     "status": "completed"
    },
    "tags": []
   },
   "outputs": [],
   "source": [
    "class EarlyStopping:\n",
    "    def __init__(self, patience=5, verbose=False, delta=0):\n",
    "        \"\"\"\n",
    "        EarlyStopping to stop training when a metric has stopped improving.\n",
    "\n",
    "        Args:\n",
    "            patience (int): How long to wait after last time validation loss improved.\n",
    "            verbose (bool): If True, prints a message for each validation loss improvement.\n",
    "            delta (float): Minimum change to qualify as an improvement.\n",
    "        \"\"\"\n",
    "        self.patience = patience\n",
    "        self.verbose = verbose\n",
    "        self.delta = delta\n",
    "        self.counter = 0\n",
    "        self.best_loss = np.inf\n",
    "        self.early_stop = False\n",
    "\n",
    "    def __call__(self, val_loss, model):\n",
    "        if val_loss < self.best_loss - self.delta:\n",
    "            self.best_loss = val_loss\n",
    "            self.counter = 0\n",
    "#             if self.verbose:\n",
    "#                 print(f'Validation loss improved to {val_loss:.4f}')\n",
    "#             torch.save(model.state_dict(), 'checkpoint.pt')\n",
    "        else:\n",
    "            self.counter += 1\n",
    "#             if self.verbose:\n",
    "#                 print(f'Validation loss did not improve. Patience: {self.patience}, Counter: {self.counter}')\n",
    "        \n",
    "        if self.counter >= self.patience:\n",
    "            self.early_stop = True"
   ]
  },
  {
   "cell_type": "code",
   "execution_count": 46,
   "id": "69b4a43a",
   "metadata": {
    "execution": {
     "iopub.execute_input": "2024-08-31T07:41:12.796632Z",
     "iopub.status.busy": "2024-08-31T07:41:12.796351Z",
     "iopub.status.idle": "2024-08-31T07:41:12.820383Z",
     "shell.execute_reply": "2024-08-31T07:41:12.819172Z"
    },
    "papermill": {
     "duration": 0.058463,
     "end_time": "2024-08-31T07:41:12.822295",
     "exception": false,
     "start_time": "2024-08-31T07:41:12.763832",
     "status": "completed"
    },
    "tags": []
   },
   "outputs": [],
   "source": [
    "# Define the training function with variable parameters\n",
    "def train_model(config, train_dataset, val_dataset, device):\n",
    "#     model = SentimentModel(\n",
    "#         roberta_model=RobertaModel.from_pretrained(\"roberta-base\"),\n",
    "#         n_classes=3,\n",
    "#         dropout_rate=config[\"dropout_rate\"]\n",
    "#     )\n",
    "    \n",
    "    model = SentimentModel(\n",
    "        roberta_model=DebertaV2Model.from_pretrained('microsoft/deberta-v3-base'),\n",
    "        n_classes=3,\n",
    "        dropout_rate=config[\"dropout_rate\"]\n",
    "    )\n",
    "    model = model.to(device)\n",
    "#     optimizer = optim.Adam(model.parameters(), lr=config[\"lr\"])\n",
    "    optimizer = optim.AdamW(model.parameters(), lr=config[\"lr\"], weight_decay=config[\"weight_decay\"])\n",
    "    criterion = nn.BCEWithLogitsLoss()\n",
    "#     class_weights_tmp = torch.tensor(class_weights, dtype=torch.float32).to(device)\n",
    "#     criterion = nn.CrossEntropyLoss(weight=class_weights_tmp)\n",
    "#     criterion = nn.BCELoss()\n",
    "    scaler = GradScaler()  # Initialize GradScaler\n",
    "    \n",
    "    train_loader = DataLoader(train_dataset, batch_size=config[\"batch_size\"], shuffle=True)\n",
    "    val_loader = DataLoader(val_dataset, batch_size=config[\"batch_size\"], shuffle=False)\n",
    "    \n",
    "    scheduler = optim.lr_scheduler.ReduceLROnPlateau(optimizer, mode='min', factor=0.1, patience=2, verbose=True)\n",
    "    \n",
    "    early_stopping = EarlyStopping(patience=3, verbose=True)\n",
    "    \n",
    "    for epoch in range(config[\"epochs\"]):  # Ensure epochs are passed from config\n",
    "        model.train()\n",
    "        total_train_loss = 0.0\n",
    "        correct_train_preds = 0\n",
    "        total_train_preds = 0\n",
    "        \n",
    "        for batch in train_loader:\n",
    "            input_ids = batch[\"input_ids\"].to(device)\n",
    "            attention_mask = batch[\"attention_mask\"].to(device)\n",
    "            labels = batch[\"labels\"].to(device)\n",
    "\n",
    "            optimizer.zero_grad()\n",
    "#             outputs = model(input_ids=input_ids, attention_mask=attention_mask)\n",
    "#             loss = criterion(outputs, labels)\n",
    "#             loss.backward()\n",
    "#             optimizer.step()\n",
    "\n",
    "            with autocast(device_type=device.type):  # Mixed precision\n",
    "                outputs = model(input_ids=input_ids, attention_mask=attention_mask)\n",
    "                loss = criterion(outputs, labels)\n",
    "                \n",
    "            probabilities = torch.sigmoid(outputs)\n",
    "            predictions = torch.zeros_like(probabilities)\n",
    "            max_indices = torch.argmax(probabilities, dim=1)\n",
    "            predictions.scatter_(1, max_indices.unsqueeze(1), 1)\n",
    "            predictions = predictions.float()\n",
    "                \n",
    "#                 loss = criterion(predictions, labels)\n",
    "            \n",
    "            scaler.scale(loss).backward()\n",
    "            scaler.step(optimizer)\n",
    "            scaler.update()\n",
    "            \n",
    "#             outputs = torch.sigmoid(outputs)  \n",
    "            \n",
    "# NOTE: Apply the sigmoid fn to outputs after BCEWithLogitsLoss because the loss fn already comes with sigmoid applied, so passing the sigmoid applied ouput will give erraneous results.\n",
    "# If we use BCELoss then pass the sigmoid applied output.\n",
    "            \n",
    "            total_train_loss += loss.item()\n",
    "#             correct_train_preds += (torch.argmax(outputs, dim=1) == torch.argmax(labels, dim=1)).sum().item()\n",
    "# #             correct_train_preds += (torch.argmax(outputs, dim=1) == labels).sum().item()\n",
    "#             total_train_preds += labels.size(0)\n",
    "\n",
    "#             predicted_labels = (outputs > 0.5).float()\n",
    "#             correct_train_preds += (predicted_labels == labels).sum().item()\n",
    "#             total_train_preds += labels.numel()\n",
    "\n",
    "#             correct_train_preds += ((outputs > 0.5) == (labels > 0.5)).sum().item()\n",
    "#             total_train_preds += labels.numel()\n",
    "\n",
    "#             correct_train_preds += (torch.argmax(outputs, dim=1) == labels).sum().item()\n",
    "#             total_train_preds += labels.size(0)\n",
    "\n",
    "            correct_train_preds += (predictions == labels).sum().item()\n",
    "            total_train_preds += labels.numel()\n",
    "        \n",
    "        avg_train_loss = total_train_loss / len(train_loader)\n",
    "        train_accuracy = correct_train_preds / total_train_preds\n",
    "\n",
    "        # Validation phase\n",
    "        model.eval()\n",
    "        total_val_loss = 0.0\n",
    "        correct_val_preds = 0\n",
    "        total_val_preds = 0\n",
    "\n",
    "        with torch.no_grad():\n",
    "            for batch in val_loader:\n",
    "                input_ids = batch[\"input_ids\"].to(device)\n",
    "                attention_mask = batch[\"attention_mask\"].to(device)\n",
    "                labels = batch[\"labels\"].to(device)\n",
    "\n",
    "#                 outputs = model(input_ids=input_ids, attention_mask=attention_mask)\n",
    "#                 loss = criterion(outputs, labels)\n",
    "                \n",
    "                with autocast(device_type=device.type):\n",
    "                    outputs = model(input_ids=input_ids, attention_mask=attention_mask)\n",
    "                    loss = criterion(outputs, labels)\n",
    "                    \n",
    "                probabilities = torch.sigmoid(outputs)\n",
    "                predictions = torch.zeros_like(probabilities)\n",
    "                max_indices = torch.argmax(probabilities, dim=1)\n",
    "                predictions.scatter_(1, max_indices.unsqueeze(1), 1)\n",
    "                predictions = predictions.float()\n",
    "                \n",
    "#                     loss = criterion(predictions, labels)\n",
    "                    \n",
    "#                 outputs = torch.sigmoid(outputs)\n",
    "                \n",
    "# NOTE: Apply the sigmoid fn to outputs after BCEWithLogitsLoss because the loss fn already comes with sigmoid applied, so passing the sigmoid applied ouput will give erraneous results.\n",
    "# If we use BCELoss then pass the sigmoid applied output.\n",
    "                \n",
    "                total_val_loss += loss.item()\n",
    "#                 correct_val_preds += (torch.argmax(outputs, dim=1) == torch.argmax(labels, dim=1)).sum().item()\n",
    "# #                 correct_val_preds += (torch.argmax(outputs, dim=1) == labels).sum().item()\n",
    "#                 total_val_preds += labels.size(0)\n",
    "    \n",
    "#                 predicted_labels = (outputs > 0.5).float()\n",
    "#                 correct_val_preds += (predicted_labels == labels).sum().item()\n",
    "#                 total_val_preds += labels.numel()\n",
    "\n",
    "#                 correct_val_preds += ((outputs > 0.5) == (labels > 0.5)).sum().item()\n",
    "#                 total_val_preds += labels.numel()\n",
    "\n",
    "#                 correct_val_preds += (torch.argmax(outputs, dim=1) == labels).sum().item()\n",
    "#                 total_val_preds += labels.size(0)\n",
    "\n",
    "                correct_val_preds += (predictions == labels).sum().item()\n",
    "                total_val_preds += labels.numel()\n",
    "\n",
    "        avg_val_loss = total_val_loss / len(val_loader)\n",
    "        val_accuracy = correct_val_preds / total_val_preds\n",
    "#         custom_metric = avg_val_loss - val_accuracy\n",
    "        custom_metric = calculate_custom_metric(avg_val_loss, val_accuracy, avg_train_loss, train_accuracy)\n",
    "\n",
    "        # Report metrics using ray.train.report\n",
    "        report({\n",
    "            \"loss\": avg_val_loss,\n",
    "            \"accuracy\": val_accuracy,\n",
    "            \"train_loss\": avg_train_loss,\n",
    "            \"train_accuracy\": train_accuracy,\n",
    "            \"custom_metric\": custom_metric,\n",
    "            \"early_stopping_epoch\": epoch + 1,\n",
    "        })\n",
    "        \n",
    "        # Learning rate scheduler step\n",
    "        scheduler.step(avg_val_loss)\n",
    "        \n",
    "        # Check for early stopping\n",
    "        early_stopping(avg_val_loss, model)\n",
    "        if early_stopping.early_stop:\n",
    "#             print(\"Early stopping\")\n",
    "            break\n",
    "    \n",
    "\n",
    "        # Save the model checkpoint after each epoch\n",
    "#         trial_dir = os.path.join(os.environ[\"TUNE_TRIAL_DIR\"], \"checkpoint.pt\")\n",
    "#         torch.save(model.state_dict(), 'checkpoint.pt')\n",
    "#         checkpoint_path = f\"/kaggle/working/checkpoint_epoch_{epoch}.pt\"\n",
    "#         torch.save(model.state_dict(), checkpoint_path)\n",
    "    \n",
    "    return model\n",
    "\n",
    "def train_fn(config):\n",
    "    # Load your data here\n",
    "#     tokenizer = RobertaTokenizer.from_pretrained('roberta-base')\n",
    "    tokenizer = DebertaV2Tokenizer.from_pretrained('microsoft/deberta-v3-base')\n",
    "\n",
    "    train_dataset = SentimentDataset(train_ds_pd, tokenizer, max_len=128)\n",
    "    val_dataset = SentimentDataset(validation_ds_pd, tokenizer, max_len=128)\n",
    "\n",
    "    device = torch.device(\"cuda\" if torch.cuda.is_available() else \"cpu\")\n",
    "    train_model(config, train_dataset, val_dataset, device)"
   ]
  },
  {
   "cell_type": "markdown",
   "id": "afaf9cec",
   "metadata": {
    "papermill": {
     "duration": 0.029921,
     "end_time": "2024-08-31T07:41:12.882526",
     "exception": false,
     "start_time": "2024-08-31T07:41:12.852605",
     "status": "completed"
    },
    "tags": []
   },
   "source": [
    "## SEARCH SPACE"
   ]
  },
  {
   "cell_type": "code",
   "execution_count": 47,
   "id": "1ed9ab75",
   "metadata": {
    "execution": {
     "iopub.execute_input": "2024-08-31T07:41:12.943953Z",
     "iopub.status.busy": "2024-08-31T07:41:12.943549Z",
     "iopub.status.idle": "2024-08-31T07:41:12.950419Z",
     "shell.execute_reply": "2024-08-31T07:41:12.949300Z"
    },
    "papermill": {
     "duration": 0.040256,
     "end_time": "2024-08-31T07:41:12.952378",
     "exception": false,
     "start_time": "2024-08-31T07:41:12.912122",
     "status": "completed"
    },
    "tags": []
   },
   "outputs": [],
   "source": [
    "search_space = {\n",
    "    'dropout_rate': tune.choice([0.2, 0.25, 0.27, 0.3, 0.32, 0.35, 0.4]),\n",
    "    'batch_size': tune.choice([32, 64]),\n",
    "    'weight_decay': tune.choice([1e-6, 2e-6, 1e-5, 2e-5, 1e-4, 2e-4, 5e-5, 5e-6, 1e-2, 1e-3]),\n",
    "    'lr': tune.choice([1e-6, 1e-5, 2e-5, 1e-4, 2e-4, 2e-6, 3e-6, 5e-6, 3e-5, 5e-5, 2e-7, 1e-7, 1e-3, 5e-7]),\n",
    "    'epochs': tune.choice([5, 7, 10, 12, 15, 20])\n",
    "}"
   ]
  },
  {
   "cell_type": "code",
   "execution_count": 48,
   "id": "df61004b",
   "metadata": {
    "execution": {
     "iopub.execute_input": "2024-08-31T07:41:13.014463Z",
     "iopub.status.busy": "2024-08-31T07:41:13.014106Z",
     "iopub.status.idle": "2024-08-31T07:41:13.018278Z",
     "shell.execute_reply": "2024-08-31T07:41:13.017499Z"
    },
    "papermill": {
     "duration": 0.037256,
     "end_time": "2024-08-31T07:41:13.020186",
     "exception": false,
     "start_time": "2024-08-31T07:41:12.982930",
     "status": "completed"
    },
    "tags": []
   },
   "outputs": [],
   "source": [
    "# search_space = {\n",
    "#     'dropout_rate': tune.uniform(0.1, 0.5),\n",
    "#     'batch_size': tune.choice([16, 32, 64]),\n",
    "#     'weight_decay': tune.loguniform(1e-6, 1e-1),\n",
    "#     'lr': tune.loguniform(1e-6, 1e-1),\n",
    "#     'epochs': tune.choice([5, 7, 10, 12, 15, 20])\n",
    "# }"
   ]
  },
  {
   "cell_type": "markdown",
   "id": "d8aaedd1",
   "metadata": {
    "papermill": {
     "duration": 0.029592,
     "end_time": "2024-08-31T07:41:13.080235",
     "exception": false,
     "start_time": "2024-08-31T07:41:13.050643",
     "status": "completed"
    },
    "tags": []
   },
   "source": [
    "## SEARCH ALGO"
   ]
  },
  {
   "cell_type": "code",
   "execution_count": 49,
   "id": "53eb9aeb",
   "metadata": {
    "execution": {
     "iopub.execute_input": "2024-08-31T07:41:13.140577Z",
     "iopub.status.busy": "2024-08-31T07:41:13.140251Z",
     "iopub.status.idle": "2024-08-31T07:41:13.144853Z",
     "shell.execute_reply": "2024-08-31T07:41:13.143891Z"
    },
    "papermill": {
     "duration": 0.037196,
     "end_time": "2024-08-31T07:41:13.146819",
     "exception": false,
     "start_time": "2024-08-31T07:41:13.109623",
     "status": "completed"
    },
    "tags": []
   },
   "outputs": [],
   "source": [
    "optuna_search = OptunaSearch(\n",
    "    metric=[\"accuracy\",\"custom_metric\"],\n",
    "    mode=[\"max\",\"min\"]\n",
    ")"
   ]
  },
  {
   "cell_type": "markdown",
   "id": "f6dcf957",
   "metadata": {
    "papermill": {
     "duration": 0.029866,
     "end_time": "2024-08-31T07:41:13.206817",
     "exception": false,
     "start_time": "2024-08-31T07:41:13.176951",
     "status": "completed"
    },
    "tags": []
   },
   "source": [
    "## SCHEDULER ALGO"
   ]
  },
  {
   "cell_type": "code",
   "execution_count": 50,
   "id": "15729579",
   "metadata": {
    "execution": {
     "iopub.execute_input": "2024-08-31T07:41:13.276641Z",
     "iopub.status.busy": "2024-08-31T07:41:13.275701Z",
     "iopub.status.idle": "2024-08-31T07:41:13.280963Z",
     "shell.execute_reply": "2024-08-31T07:41:13.280024Z"
    },
    "papermill": {
     "duration": 0.039288,
     "end_time": "2024-08-31T07:41:13.282881",
     "exception": false,
     "start_time": "2024-08-31T07:41:13.243593",
     "status": "completed"
    },
    "tags": []
   },
   "outputs": [],
   "source": [
    "scheduler = ASHAScheduler(\n",
    "    metric='accuracy',\n",
    "    mode='max',\n",
    "    max_t=22,\n",
    "    grace_period=3,\n",
    "    reduction_factor=2\n",
    ")"
   ]
  },
  {
   "cell_type": "markdown",
   "id": "11d09dc8",
   "metadata": {
    "papermill": {
     "duration": 0.029941,
     "end_time": "2024-08-31T07:41:13.343841",
     "exception": false,
     "start_time": "2024-08-31T07:41:13.313900",
     "status": "completed"
    },
    "tags": []
   },
   "source": [
    "## REPORTER"
   ]
  },
  {
   "cell_type": "code",
   "execution_count": 51,
   "id": "a698a3ee",
   "metadata": {
    "execution": {
     "iopub.execute_input": "2024-08-31T07:41:13.404888Z",
     "iopub.status.busy": "2024-08-31T07:41:13.404573Z",
     "iopub.status.idle": "2024-08-31T07:41:13.408953Z",
     "shell.execute_reply": "2024-08-31T07:41:13.408005Z"
    },
    "papermill": {
     "duration": 0.037491,
     "end_time": "2024-08-31T07:41:13.410953",
     "exception": false,
     "start_time": "2024-08-31T07:41:13.373462",
     "status": "completed"
    },
    "tags": []
   },
   "outputs": [],
   "source": [
    "# To ignore warinings\n",
    "import warnings\n",
    "warnings.filterwarnings('ignore')"
   ]
  },
  {
   "cell_type": "code",
   "execution_count": 52,
   "id": "f966002e",
   "metadata": {
    "execution": {
     "iopub.execute_input": "2024-08-31T07:41:13.472668Z",
     "iopub.status.busy": "2024-08-31T07:41:13.472388Z",
     "iopub.status.idle": "2024-08-31T11:23:58.984129Z",
     "shell.execute_reply": "2024-08-31T11:23:58.983139Z"
    },
    "papermill": {
     "duration": 13365.545728,
     "end_time": "2024-08-31T11:23:58.986706",
     "exception": false,
     "start_time": "2024-08-31T07:41:13.440978",
     "status": "completed"
    },
    "tags": []
   },
   "outputs": [
    {
     "data": {
      "text/html": [
       "<div class=\"tuneStatus\">\n",
       "  <div style=\"display: flex;flex-direction: row\">\n",
       "    <div style=\"display: flex;flex-direction: column;\">\n",
       "      <h3>Tune Status</h3>\n",
       "      <table>\n",
       "<tbody>\n",
       "<tr><td>Current time:</td><td>2024-08-31 11:23:58</td></tr>\n",
       "<tr><td>Running for: </td><td>03:42:26.81        </td></tr>\n",
       "<tr><td>Memory:      </td><td>3.2/31.4 GiB       </td></tr>\n",
       "</tbody>\n",
       "</table>\n",
       "    </div>\n",
       "    <div class=\"vDivider\"></div>\n",
       "    <div class=\"systemInfo\">\n",
       "      <h3>System Info</h3>\n",
       "      Using AsyncHyperBand: num_stopped=49<br>Bracket: Iter 12.000: 0.8014464168310322 | Iter 6.000: 0.799474030243261 | Iter 3.000: 0.7652859960552267<br>Logical resource usage: 2.0/4 CPUs, 1.0/2 GPUs (0.0/1.0 accelerator_type:T4)\n",
       "    </div>\n",
       "    \n",
       "  </div>\n",
       "  <div class=\"hDivider\"></div>\n",
       "  <div class=\"trialStatus\">\n",
       "    <h3>Trial Status</h3>\n",
       "    <table>\n",
       "<thead>\n",
       "<tr><th>Trial name       </th><th>status    </th><th>loc            </th><th style=\"text-align: right;\">  batch_size</th><th style=\"text-align: right;\">  dropout_rate</th><th style=\"text-align: right;\">  epochs</th><th style=\"text-align: right;\">    lr</th><th style=\"text-align: right;\">  weight_decay</th><th style=\"text-align: right;\">    loss</th><th style=\"text-align: right;\">  accuracy</th><th style=\"text-align: right;\">  custom_metric</th><th style=\"text-align: right;\">  training_iteration</th><th style=\"text-align: right;\">  train_loss</th><th style=\"text-align: right;\">  train_accuracy</th><th style=\"text-align: right;\">  early_stopping_epoch</th></tr>\n",
       "</thead>\n",
       "<tbody>\n",
       "<tr><td>train_fn_3ea8855f</td><td>TERMINATED</td><td>172.19.2.2:344 </td><td style=\"text-align: right;\">          64</td><td style=\"text-align: right;\">          0.32</td><td style=\"text-align: right;\">      20</td><td style=\"text-align: right;\">0.0002</td><td style=\"text-align: right;\">        2e-05 </td><td style=\"text-align: right;\">0.649704</td><td style=\"text-align: right;\">  0.761999</td><td style=\"text-align: right;\">     0.108354  </td><td style=\"text-align: right;\">                  10</td><td style=\"text-align: right;\">    0.320115</td><td style=\"text-align: right;\">        0.873708</td><td style=\"text-align: right;\">                    10</td></tr>\n",
       "<tr><td>train_fn_5503f487</td><td>TERMINATED</td><td>172.19.2.2:379 </td><td style=\"text-align: right;\">          32</td><td style=\"text-align: right;\">          0.32</td><td style=\"text-align: right;\">      12</td><td style=\"text-align: right;\">5e-07 </td><td style=\"text-align: right;\">        2e-06 </td><td style=\"text-align: right;\">0.637068</td><td style=\"text-align: right;\">  0.593688</td><td style=\"text-align: right;\">     0.0682357 </td><td style=\"text-align: right;\">                   3</td><td style=\"text-align: right;\">    0.652193</td><td style=\"text-align: right;\">        0.559101</td><td style=\"text-align: right;\">                     3</td></tr>\n",
       "<tr><td>train_fn_3ca1806f</td><td>TERMINATED</td><td>172.19.2.2:483 </td><td style=\"text-align: right;\">          64</td><td style=\"text-align: right;\">          0.3 </td><td style=\"text-align: right;\">       7</td><td style=\"text-align: right;\">2e-06 </td><td style=\"text-align: right;\">        1e-05 </td><td style=\"text-align: right;\">0.470322</td><td style=\"text-align: right;\">  0.779093</td><td style=\"text-align: right;\">    -0.276644  </td><td style=\"text-align: right;\">                   7</td><td style=\"text-align: right;\">    0.442407</td><td style=\"text-align: right;\">        0.815431</td><td style=\"text-align: right;\">                     7</td></tr>\n",
       "<tr><td>train_fn_e62ac370</td><td>TERMINATED</td><td>172.19.2.2:585 </td><td style=\"text-align: right;\">          32</td><td style=\"text-align: right;\">          0.27</td><td style=\"text-align: right;\">      10</td><td style=\"text-align: right;\">0.001 </td><td style=\"text-align: right;\">        1e-05 </td><td style=\"text-align: right;\">0.63987 </td><td style=\"text-align: right;\">  0.529257</td><td style=\"text-align: right;\">     0.125946  </td><td style=\"text-align: right;\">                   3</td><td style=\"text-align: right;\">    0.637551</td><td style=\"text-align: right;\">        0.557603</td><td style=\"text-align: right;\">                     3</td></tr>\n",
       "<tr><td>train_fn_0da8201b</td><td>TERMINATED</td><td>172.19.2.2:658 </td><td style=\"text-align: right;\">          32</td><td style=\"text-align: right;\">          0.3 </td><td style=\"text-align: right;\">      15</td><td style=\"text-align: right;\">1e-07 </td><td style=\"text-align: right;\">        0.0001</td><td style=\"text-align: right;\">0.682106</td><td style=\"text-align: right;\">  0.529257</td><td style=\"text-align: right;\">     0.170473  </td><td style=\"text-align: right;\">                   3</td><td style=\"text-align: right;\">    0.685712</td><td style=\"text-align: right;\">        0.560899</td><td style=\"text-align: right;\">                     3</td></tr>\n",
       "<tr><td>train_fn_967f3bb2</td><td>TERMINATED</td><td>172.19.2.2:744 </td><td style=\"text-align: right;\">          64</td><td style=\"text-align: right;\">          0.3 </td><td style=\"text-align: right;\">      12</td><td style=\"text-align: right;\">1e-07 </td><td style=\"text-align: right;\">        5e-06 </td><td style=\"text-align: right;\">0.718498</td><td style=\"text-align: right;\">  0.551611</td><td style=\"text-align: right;\">     0.168778  </td><td style=\"text-align: right;\">                   3</td><td style=\"text-align: right;\">    0.719882</td><td style=\"text-align: right;\">        0.549213</td><td style=\"text-align: right;\">                     3</td></tr>\n",
       "<tr><td>train_fn_85b8262b</td><td>TERMINATED</td><td>172.19.2.2:818 </td><td style=\"text-align: right;\">          64</td><td style=\"text-align: right;\">          0.25</td><td style=\"text-align: right;\">       7</td><td style=\"text-align: right;\">2e-07 </td><td style=\"text-align: right;\">        0.0002</td><td style=\"text-align: right;\">0.687599</td><td style=\"text-align: right;\">  0.529257</td><td style=\"text-align: right;\">     0.173431  </td><td style=\"text-align: right;\">                   3</td><td style=\"text-align: right;\">    0.694075</td><td style=\"text-align: right;\">        0.552959</td><td style=\"text-align: right;\">                     3</td></tr>\n",
       "<tr><td>train_fn_1059f835</td><td>TERMINATED</td><td>172.19.2.2:902 </td><td style=\"text-align: right;\">          64</td><td style=\"text-align: right;\">          0.4 </td><td style=\"text-align: right;\">       5</td><td style=\"text-align: right;\">1e-05 </td><td style=\"text-align: right;\">        0.001 </td><td style=\"text-align: right;\">0.460709</td><td style=\"text-align: right;\">  0.798817</td><td style=\"text-align: right;\">    -0.228154  </td><td style=\"text-align: right;\">                   5</td><td style=\"text-align: right;\">    0.318837</td><td style=\"text-align: right;\">        0.876854</td><td style=\"text-align: right;\">                     5</td></tr>\n",
       "<tr><td>train_fn_974210f1</td><td>TERMINATED</td><td>172.19.2.2:976 </td><td style=\"text-align: right;\">          64</td><td style=\"text-align: right;\">          0.25</td><td style=\"text-align: right;\">      15</td><td style=\"text-align: right;\">2e-05 </td><td style=\"text-align: right;\">        0.001 </td><td style=\"text-align: right;\">0.47413 </td><td style=\"text-align: right;\">  0.822485</td><td style=\"text-align: right;\">    -0.175918  </td><td style=\"text-align: right;\">                   5</td><td style=\"text-align: right;\">    0.227222</td><td style=\"text-align: right;\">        0.920449</td><td style=\"text-align: right;\">                     5</td></tr>\n",
       "<tr><td>train_fn_f152234b</td><td>TERMINATED</td><td>172.19.2.2:1070</td><td style=\"text-align: right;\">          64</td><td style=\"text-align: right;\">          0.32</td><td style=\"text-align: right;\">      15</td><td style=\"text-align: right;\">3e-06 </td><td style=\"text-align: right;\">        0.0001</td><td style=\"text-align: right;\">0.469539</td><td style=\"text-align: right;\">  0.801446</td><td style=\"text-align: right;\">    -0.209418  </td><td style=\"text-align: right;\">                  12</td><td style=\"text-align: right;\">    0.304611</td><td style=\"text-align: right;\">        0.881498</td><td style=\"text-align: right;\">                    12</td></tr>\n",
       "<tr><td>train_fn_72c017f5</td><td>TERMINATED</td><td>172.19.2.2:1143</td><td style=\"text-align: right;\">          32</td><td style=\"text-align: right;\">          0.3 </td><td style=\"text-align: right;\">       5</td><td style=\"text-align: right;\">2e-07 </td><td style=\"text-align: right;\">        1e-06 </td><td style=\"text-align: right;\">0.692639</td><td style=\"text-align: right;\">  0.529257</td><td style=\"text-align: right;\">     0.179058  </td><td style=\"text-align: right;\">                   3</td><td style=\"text-align: right;\">    0.693098</td><td style=\"text-align: right;\">        0.56015 </td><td style=\"text-align: right;\">                     3</td></tr>\n",
       "<tr><td>train_fn_1cf649fe</td><td>TERMINATED</td><td>172.19.2.2:1232</td><td style=\"text-align: right;\">          32</td><td style=\"text-align: right;\">          0.4 </td><td style=\"text-align: right;\">       7</td><td style=\"text-align: right;\">1e-07 </td><td style=\"text-align: right;\">        1e-05 </td><td style=\"text-align: right;\">0.694224</td><td style=\"text-align: right;\">  0.529257</td><td style=\"text-align: right;\">     0.181495  </td><td style=\"text-align: right;\">                   3</td><td style=\"text-align: right;\">    0.690563</td><td style=\"text-align: right;\">        0.558652</td><td style=\"text-align: right;\">                     3</td></tr>\n",
       "<tr><td>train_fn_aaee3ede</td><td>TERMINATED</td><td>172.19.2.2:1321</td><td style=\"text-align: right;\">          64</td><td style=\"text-align: right;\">          0.2 </td><td style=\"text-align: right;\">       7</td><td style=\"text-align: right;\">2e-06 </td><td style=\"text-align: right;\">        1e-05 </td><td style=\"text-align: right;\">0.464937</td><td style=\"text-align: right;\">  0.771203</td><td style=\"text-align: right;\">    -0.279323  </td><td style=\"text-align: right;\">                   7</td><td style=\"text-align: right;\">    0.44629 </td><td style=\"text-align: right;\">        0.806442</td><td style=\"text-align: right;\">                     7</td></tr>\n",
       "<tr><td>train_fn_52314554</td><td>TERMINATED</td><td>172.19.2.2:1412</td><td style=\"text-align: right;\">          64</td><td style=\"text-align: right;\">          0.2 </td><td style=\"text-align: right;\">       7</td><td style=\"text-align: right;\">2e-06 </td><td style=\"text-align: right;\">        5e-05 </td><td style=\"text-align: right;\">0.472242</td><td style=\"text-align: right;\">  0.768573</td><td style=\"text-align: right;\">    -0.276896  </td><td style=\"text-align: right;\">                   6</td><td style=\"text-align: right;\">    0.463451</td><td style=\"text-align: right;\">        0.798652</td><td style=\"text-align: right;\">                     6</td></tr>\n",
       "<tr><td>train_fn_f12c2024</td><td>TERMINATED</td><td>172.19.2.2:1497</td><td style=\"text-align: right;\">          64</td><td style=\"text-align: right;\">          0.2 </td><td style=\"text-align: right;\">       7</td><td style=\"text-align: right;\">2e-06 </td><td style=\"text-align: right;\">        0.01  </td><td style=\"text-align: right;\">0.451977</td><td style=\"text-align: right;\">  0.788297</td><td style=\"text-align: right;\">    -0.310942  </td><td style=\"text-align: right;\">                   7</td><td style=\"text-align: right;\">    0.432399</td><td style=\"text-align: right;\">        0.819476</td><td style=\"text-align: right;\">                     7</td></tr>\n",
       "<tr><td>train_fn_46d5fbf6</td><td>TERMINATED</td><td>172.19.2.2:1583</td><td style=\"text-align: right;\">          64</td><td style=\"text-align: right;\">          0.35</td><td style=\"text-align: right;\">       5</td><td style=\"text-align: right;\">2e-06 </td><td style=\"text-align: right;\">        5e-05 </td><td style=\"text-align: right;\">0.626652</td><td style=\"text-align: right;\">  0.673899</td><td style=\"text-align: right;\">     0.00352101</td><td style=\"text-align: right;\">                   3</td><td style=\"text-align: right;\">    0.635562</td><td style=\"text-align: right;\">        0.581273</td><td style=\"text-align: right;\">                     3</td></tr>\n",
       "<tr><td>train_fn_f545ee5d</td><td>TERMINATED</td><td>172.19.2.2:1670</td><td style=\"text-align: right;\">          64</td><td style=\"text-align: right;\">          0.35</td><td style=\"text-align: right;\">       5</td><td style=\"text-align: right;\">5e-06 </td><td style=\"text-align: right;\">        0.01  </td><td style=\"text-align: right;\">0.43877 </td><td style=\"text-align: right;\">  0.793557</td><td style=\"text-align: right;\">    -0.301898  </td><td style=\"text-align: right;\">                   5</td><td style=\"text-align: right;\">    0.381833</td><td style=\"text-align: right;\">        0.842397</td><td style=\"text-align: right;\">                     5</td></tr>\n",
       "<tr><td>train_fn_89d8f842</td><td>TERMINATED</td><td>172.19.2.2:1744</td><td style=\"text-align: right;\">          64</td><td style=\"text-align: right;\">          0.4 </td><td style=\"text-align: right;\">      10</td><td style=\"text-align: right;\">1e-05 </td><td style=\"text-align: right;\">        0.01  </td><td style=\"text-align: right;\">0.528696</td><td style=\"text-align: right;\">  0.813281</td><td style=\"text-align: right;\">    -0.0919782 </td><td style=\"text-align: right;\">                   7</td><td style=\"text-align: right;\">    0.245708</td><td style=\"text-align: right;\">        0.915506</td><td style=\"text-align: right;\">                     7</td></tr>\n",
       "<tr><td>train_fn_7bf5c7fc</td><td>TERMINATED</td><td>172.19.2.2:1837</td><td style=\"text-align: right;\">          64</td><td style=\"text-align: right;\">          0.2 </td><td style=\"text-align: right;\">      20</td><td style=\"text-align: right;\">1e-05 </td><td style=\"text-align: right;\">        0.01  </td><td style=\"text-align: right;\">0.488576</td><td style=\"text-align: right;\">  0.814596</td><td style=\"text-align: right;\">    -0.161026  </td><td style=\"text-align: right;\">                   6</td><td style=\"text-align: right;\">    0.252008</td><td style=\"text-align: right;\">        0.908015</td><td style=\"text-align: right;\">                     6</td></tr>\n",
       "<tr><td>train_fn_5bd7c5aa</td><td>TERMINATED</td><td>172.19.2.2:1921</td><td style=\"text-align: right;\">          64</td><td style=\"text-align: right;\">          0.2 </td><td style=\"text-align: right;\">      10</td><td style=\"text-align: right;\">5e-06 </td><td style=\"text-align: right;\">        0.01  </td><td style=\"text-align: right;\">0.464594</td><td style=\"text-align: right;\">  0.800131</td><td style=\"text-align: right;\">    -0.20435   </td><td style=\"text-align: right;\">                   8</td><td style=\"text-align: right;\">    0.293772</td><td style=\"text-align: right;\">        0.891685</td><td style=\"text-align: right;\">                     8</td></tr>\n",
       "<tr><td>train_fn_569efa17</td><td>TERMINATED</td><td>172.19.2.2:2008</td><td style=\"text-align: right;\">          64</td><td style=\"text-align: right;\">          0.2 </td><td style=\"text-align: right;\">      20</td><td style=\"text-align: right;\">5e-06 </td><td style=\"text-align: right;\">        0.01  </td><td style=\"text-align: right;\">0.465627</td><td style=\"text-align: right;\">  0.788297</td><td style=\"text-align: right;\">    -0.217487  </td><td style=\"text-align: right;\">                   7</td><td style=\"text-align: right;\">    0.335427</td><td style=\"text-align: right;\">        0.868464</td><td style=\"text-align: right;\">                     7</td></tr>\n",
       "<tr><td>train_fn_97ff9c84</td><td>TERMINATED</td><td>172.19.2.2:2102</td><td style=\"text-align: right;\">          32</td><td style=\"text-align: right;\">          0.2 </td><td style=\"text-align: right;\">       7</td><td style=\"text-align: right;\">5e-06 </td><td style=\"text-align: right;\">        0.01  </td><td style=\"text-align: right;\">0.457657</td><td style=\"text-align: right;\">  0.805391</td><td style=\"text-align: right;\">    -0.213391  </td><td style=\"text-align: right;\">                   7</td><td style=\"text-align: right;\">    0.282156</td><td style=\"text-align: right;\">        0.898577</td><td style=\"text-align: right;\">                     7</td></tr>\n",
       "<tr><td>train_fn_10db737d</td><td>TERMINATED</td><td>172.19.2.2:2184</td><td style=\"text-align: right;\">          32</td><td style=\"text-align: right;\">          0.35</td><td style=\"text-align: right;\">       7</td><td style=\"text-align: right;\">5e-05 </td><td style=\"text-align: right;\">        0.01  </td><td style=\"text-align: right;\">0.4662  </td><td style=\"text-align: right;\">  0.811966</td><td style=\"text-align: right;\">    -0.176996  </td><td style=\"text-align: right;\">                   5</td><td style=\"text-align: right;\">    0.230402</td><td style=\"text-align: right;\">        0.913708</td><td style=\"text-align: right;\">                     5</td></tr>\n",
       "<tr><td>train_fn_999109d8</td><td>TERMINATED</td><td>172.19.2.2:2283</td><td style=\"text-align: right;\">          64</td><td style=\"text-align: right;\">          0.35</td><td style=\"text-align: right;\">      15</td><td style=\"text-align: right;\">2e-05 </td><td style=\"text-align: right;\">        0.001 </td><td style=\"text-align: right;\">0.486887</td><td style=\"text-align: right;\">  0.805391</td><td style=\"text-align: right;\">    -0.105234  </td><td style=\"text-align: right;\">                   6</td><td style=\"text-align: right;\">    0.189337</td><td style=\"text-align: right;\">        0.934382</td><td style=\"text-align: right;\">                     6</td></tr>\n",
       "<tr><td>train_fn_173a2958</td><td>TERMINATED</td><td>172.19.2.2:2320</td><td style=\"text-align: right;\">          32</td><td style=\"text-align: right;\">          0.35</td><td style=\"text-align: right;\">       5</td><td style=\"text-align: right;\">1e-06 </td><td style=\"text-align: right;\">        0.01  </td><td style=\"text-align: right;\">0.629234</td><td style=\"text-align: right;\">  0.612097</td><td style=\"text-align: right;\">     0.0338389 </td><td style=\"text-align: right;\">                   3</td><td style=\"text-align: right;\">    0.634661</td><td style=\"text-align: right;\">        0.58412 </td><td style=\"text-align: right;\">                     3</td></tr>\n",
       "<tr><td>train_fn_dc668998</td><td>TERMINATED</td><td>172.19.2.2:2416</td><td style=\"text-align: right;\">          32</td><td style=\"text-align: right;\">          0.35</td><td style=\"text-align: right;\">       5</td><td style=\"text-align: right;\">1e-06 </td><td style=\"text-align: right;\">        0.01  </td><td style=\"text-align: right;\">0.630275</td><td style=\"text-align: right;\">  0.639711</td><td style=\"text-align: right;\">     0.0336276 </td><td style=\"text-align: right;\">                   3</td><td style=\"text-align: right;\">    0.639987</td><td style=\"text-align: right;\">        0.563296</td><td style=\"text-align: right;\">                     3</td></tr>\n",
       "<tr><td>train_fn_2b0a330f</td><td>TERMINATED</td><td>172.19.2.2:2499</td><td style=\"text-align: right;\">          32</td><td style=\"text-align: right;\">          0.27</td><td style=\"text-align: right;\">       7</td><td style=\"text-align: right;\">3e-05 </td><td style=\"text-align: right;\">        1e-06 </td><td style=\"text-align: right;\">0.502933</td><td style=\"text-align: right;\">  0.82117 </td><td style=\"text-align: right;\">    -0.13743   </td><td style=\"text-align: right;\">                   5</td><td style=\"text-align: right;\">    0.229812</td><td style=\"text-align: right;\">        0.909663</td><td style=\"text-align: right;\">                     5</td></tr>\n",
       "<tr><td>train_fn_2432548b</td><td>TERMINATED</td><td>172.19.2.2:2574</td><td style=\"text-align: right;\">          32</td><td style=\"text-align: right;\">          0.27</td><td style=\"text-align: right;\">       7</td><td style=\"text-align: right;\">3e-05 </td><td style=\"text-align: right;\">        5e-06 </td><td style=\"text-align: right;\">0.540176</td><td style=\"text-align: right;\">  0.805391</td><td style=\"text-align: right;\">    -0.0278853 </td><td style=\"text-align: right;\">                   5</td><td style=\"text-align: right;\">    0.19106 </td><td style=\"text-align: right;\">        0.930936</td><td style=\"text-align: right;\">                     5</td></tr>\n",
       "<tr><td>train_fn_c51dadea</td><td>TERMINATED</td><td>172.19.2.2:2669</td><td style=\"text-align: right;\">          64</td><td style=\"text-align: right;\">          0.27</td><td style=\"text-align: right;\">       7</td><td style=\"text-align: right;\">3e-05 </td><td style=\"text-align: right;\">        5e-06 </td><td style=\"text-align: right;\">0.47192 </td><td style=\"text-align: right;\">  0.81854 </td><td style=\"text-align: right;\">    -0.159739  </td><td style=\"text-align: right;\">                   5</td><td style=\"text-align: right;\">    0.205909</td><td style=\"text-align: right;\">        0.926292</td><td style=\"text-align: right;\">                     5</td></tr>\n",
       "<tr><td>train_fn_c8da1df7</td><td>TERMINATED</td><td>172.19.2.2:2745</td><td style=\"text-align: right;\">          64</td><td style=\"text-align: right;\">          0.2 </td><td style=\"text-align: right;\">      12</td><td style=\"text-align: right;\">0.0001</td><td style=\"text-align: right;\">        2e-06 </td><td style=\"text-align: right;\">0.476397</td><td style=\"text-align: right;\">  0.802761</td><td style=\"text-align: right;\">    -0.171355  </td><td style=\"text-align: right;\">                   4</td><td style=\"text-align: right;\">    0.259048</td><td style=\"text-align: right;\">        0.895431</td><td style=\"text-align: right;\">                     4</td></tr>\n",
       "<tr><td>train_fn_5b7f40f4</td><td>TERMINATED</td><td>172.19.2.2:2836</td><td style=\"text-align: right;\">          64</td><td style=\"text-align: right;\">          0.2 </td><td style=\"text-align: right;\">      12</td><td style=\"text-align: right;\">0.0001</td><td style=\"text-align: right;\">        2e-06 </td><td style=\"text-align: right;\">0.637811</td><td style=\"text-align: right;\">  0.529257</td><td style=\"text-align: right;\">     0.124271  </td><td style=\"text-align: right;\">                   3</td><td style=\"text-align: right;\">    0.63772 </td><td style=\"text-align: right;\">        0.560599</td><td style=\"text-align: right;\">                     3</td></tr>\n",
       "<tr><td>train_fn_ebee44c4</td><td>TERMINATED</td><td>172.19.2.2:2906</td><td style=\"text-align: right;\">          64</td><td style=\"text-align: right;\">          0.2 </td><td style=\"text-align: right;\">      12</td><td style=\"text-align: right;\">0.0001</td><td style=\"text-align: right;\">        0.0002</td><td style=\"text-align: right;\">0.554219</td><td style=\"text-align: right;\">  0.811966</td><td style=\"text-align: right;\">    -0.0323519 </td><td style=\"text-align: right;\">                   5</td><td style=\"text-align: right;\">    0.211914</td><td style=\"text-align: right;\">        0.920449</td><td style=\"text-align: right;\">                     5</td></tr>\n",
       "<tr><td>train_fn_aa5f7367</td><td>TERMINATED</td><td>172.19.2.2:2993</td><td style=\"text-align: right;\">          64</td><td style=\"text-align: right;\">          0.2 </td><td style=\"text-align: right;\">      20</td><td style=\"text-align: right;\">0.0002</td><td style=\"text-align: right;\">        2e-05 </td><td style=\"text-align: right;\">0.636066</td><td style=\"text-align: right;\">  0.580539</td><td style=\"text-align: right;\">     0.0661577 </td><td style=\"text-align: right;\">                   3</td><td style=\"text-align: right;\">    0.637838</td><td style=\"text-align: right;\">        0.561049</td><td style=\"text-align: right;\">                     3</td></tr>\n",
       "<tr><td>train_fn_8dd0dbed</td><td>TERMINATED</td><td>172.19.2.2:3074</td><td style=\"text-align: right;\">          64</td><td style=\"text-align: right;\">          0.25</td><td style=\"text-align: right;\">      15</td><td style=\"text-align: right;\">5e-06 </td><td style=\"text-align: right;\">        2e-05 </td><td style=\"text-align: right;\">0.478666</td><td style=\"text-align: right;\">  0.804076</td><td style=\"text-align: right;\">    -0.195514  </td><td style=\"text-align: right;\">                   8</td><td style=\"text-align: right;\">    0.301688</td><td style=\"text-align: right;\">        0.886891</td><td style=\"text-align: right;\">                     8</td></tr>\n",
       "<tr><td>train_fn_55f77e54</td><td>TERMINATED</td><td>172.19.2.2:3149</td><td style=\"text-align: right;\">          64</td><td style=\"text-align: right;\">          0.32</td><td style=\"text-align: right;\">      15</td><td style=\"text-align: right;\">0.0002</td><td style=\"text-align: right;\">        2e-05 </td><td style=\"text-align: right;\">0.4635  </td><td style=\"text-align: right;\">  0.785667</td><td style=\"text-align: right;\">    -0.244863  </td><td style=\"text-align: right;\">                   4</td><td style=\"text-align: right;\">    0.361576</td><td style=\"text-align: right;\">        0.838352</td><td style=\"text-align: right;\">                     4</td></tr>\n",
       "<tr><td>train_fn_e02c9976</td><td>TERMINATED</td><td>172.19.2.2:3241</td><td style=\"text-align: right;\">          64</td><td style=\"text-align: right;\">          0.25</td><td style=\"text-align: right;\">      15</td><td style=\"text-align: right;\">5e-06 </td><td style=\"text-align: right;\">        0.001 </td><td style=\"text-align: right;\">0.487437</td><td style=\"text-align: right;\">  0.792242</td><td style=\"text-align: right;\">    -0.149272  </td><td style=\"text-align: right;\">                   9</td><td style=\"text-align: right;\">    0.282258</td><td style=\"text-align: right;\">        0.898127</td><td style=\"text-align: right;\">                     9</td></tr>\n",
       "<tr><td>train_fn_816ed5ce</td><td>TERMINATED</td><td>172.19.2.2:3326</td><td style=\"text-align: right;\">          32</td><td style=\"text-align: right;\">          0.25</td><td style=\"text-align: right;\">       7</td><td style=\"text-align: right;\">5e-06 </td><td style=\"text-align: right;\">        0.001 </td><td style=\"text-align: right;\">0.444063</td><td style=\"text-align: right;\">  0.800131</td><td style=\"text-align: right;\">    -0.253795  </td><td style=\"text-align: right;\">                   6</td><td style=\"text-align: right;\">    0.315789</td><td style=\"text-align: right;\">        0.876404</td><td style=\"text-align: right;\">                     6</td></tr>\n",
       "<tr><td>train_fn_2c1829f1</td><td>TERMINATED</td><td>172.19.2.2:3427</td><td style=\"text-align: right;\">          32</td><td style=\"text-align: right;\">          0.25</td><td style=\"text-align: right;\">       7</td><td style=\"text-align: right;\">5e-07 </td><td style=\"text-align: right;\">        0.001 </td><td style=\"text-align: right;\">0.644199</td><td style=\"text-align: right;\">  0.598948</td><td style=\"text-align: right;\">     0.0650842 </td><td style=\"text-align: right;\">                   3</td><td style=\"text-align: right;\">    0.659149</td><td style=\"text-align: right;\">        0.574232</td><td style=\"text-align: right;\">                     3</td></tr>\n",
       "<tr><td>train_fn_e5f32fd1</td><td>TERMINATED</td><td>172.19.2.2:3502</td><td style=\"text-align: right;\">          32</td><td style=\"text-align: right;\">          0.25</td><td style=\"text-align: right;\">       7</td><td style=\"text-align: right;\">5e-07 </td><td style=\"text-align: right;\">        0.01  </td><td style=\"text-align: right;\">0.635868</td><td style=\"text-align: right;\">  0.601578</td><td style=\"text-align: right;\">     0.0590353 </td><td style=\"text-align: right;\">                   3</td><td style=\"text-align: right;\">    0.651871</td><td style=\"text-align: right;\">        0.56809 </td><td style=\"text-align: right;\">                     3</td></tr>\n",
       "<tr><td>train_fn_22c4fdf2</td><td>TERMINATED</td><td>172.19.2.2:3586</td><td style=\"text-align: right;\">          32</td><td style=\"text-align: right;\">          0.32</td><td style=\"text-align: right;\">      10</td><td style=\"text-align: right;\">2e-05 </td><td style=\"text-align: right;\">        0.01  </td><td style=\"text-align: right;\">0.480083</td><td style=\"text-align: right;\">  0.82117 </td><td style=\"text-align: right;\">    -0.144521  </td><td style=\"text-align: right;\">                   5</td><td style=\"text-align: right;\">    0.198215</td><td style=\"text-align: right;\">        0.932434</td><td style=\"text-align: right;\">                     5</td></tr>\n",
       "<tr><td>train_fn_991c70d1</td><td>TERMINATED</td><td>172.19.2.2:3661</td><td style=\"text-align: right;\">          32</td><td style=\"text-align: right;\">          0.32</td><td style=\"text-align: right;\">      10</td><td style=\"text-align: right;\">2e-05 </td><td style=\"text-align: right;\">        0.01  </td><td style=\"text-align: right;\">0.502621</td><td style=\"text-align: right;\">  0.796187</td><td style=\"text-align: right;\">    -0.0842479 </td><td style=\"text-align: right;\">                   5</td><td style=\"text-align: right;\">    0.211844</td><td style=\"text-align: right;\">        0.924045</td><td style=\"text-align: right;\">                     5</td></tr>\n",
       "<tr><td>train_fn_a0f705bc</td><td>TERMINATED</td><td>172.19.2.2:3756</td><td style=\"text-align: right;\">          64</td><td style=\"text-align: right;\">          0.32</td><td style=\"text-align: right;\">       5</td><td style=\"text-align: right;\">2e-05 </td><td style=\"text-align: right;\">        0.0001</td><td style=\"text-align: right;\">0.477468</td><td style=\"text-align: right;\">  0.796187</td><td style=\"text-align: right;\">    -0.15394   </td><td style=\"text-align: right;\">                   5</td><td style=\"text-align: right;\">    0.25764 </td><td style=\"text-align: right;\">        0.905918</td><td style=\"text-align: right;\">                     5</td></tr>\n",
       "<tr><td>train_fn_6678ae57</td><td>TERMINATED</td><td>172.19.2.2:3831</td><td style=\"text-align: right;\">          64</td><td style=\"text-align: right;\">          0.3 </td><td style=\"text-align: right;\">       5</td><td style=\"text-align: right;\">3e-06 </td><td style=\"text-align: right;\">        0.0001</td><td style=\"text-align: right;\">0.4966  </td><td style=\"text-align: right;\">  0.750164</td><td style=\"text-align: right;\">    -0.215411  </td><td style=\"text-align: right;\">                   3</td><td style=\"text-align: right;\">    0.556525</td><td style=\"text-align: right;\">        0.733783</td><td style=\"text-align: right;\">                     3</td></tr>\n",
       "<tr><td>train_fn_4a758f2d</td><td>TERMINATED</td><td>172.19.2.2:3918</td><td style=\"text-align: right;\">          64</td><td style=\"text-align: right;\">          0.25</td><td style=\"text-align: right;\">       7</td><td style=\"text-align: right;\">0.001 </td><td style=\"text-align: right;\">        0.001 </td><td style=\"text-align: right;\">0.634922</td><td style=\"text-align: right;\">  0.580539</td><td style=\"text-align: right;\">     0.0651237 </td><td style=\"text-align: right;\">                   3</td><td style=\"text-align: right;\">    0.637662</td><td style=\"text-align: right;\">        0.561798</td><td style=\"text-align: right;\">                     3</td></tr>\n",
       "<tr><td>train_fn_2f59d9e9</td><td>TERMINATED</td><td>172.19.2.2:3993</td><td style=\"text-align: right;\">          64</td><td style=\"text-align: right;\">          0.25</td><td style=\"text-align: right;\">       7</td><td style=\"text-align: right;\">2e-06 </td><td style=\"text-align: right;\">        0.001 </td><td style=\"text-align: right;\">0.57537 </td><td style=\"text-align: right;\">  0.725181</td><td style=\"text-align: right;\">    -0.0971697 </td><td style=\"text-align: right;\">                   3</td><td style=\"text-align: right;\">    0.617045</td><td style=\"text-align: right;\">        0.661573</td><td style=\"text-align: right;\">                     3</td></tr>\n",
       "<tr><td>train_fn_cdd21384</td><td>TERMINATED</td><td>172.19.2.2:4075</td><td style=\"text-align: right;\">          32</td><td style=\"text-align: right;\">          0.25</td><td style=\"text-align: right;\">       7</td><td style=\"text-align: right;\">0.001 </td><td style=\"text-align: right;\">        0.001 </td><td style=\"text-align: right;\">0.635505</td><td style=\"text-align: right;\">  0.55687 </td><td style=\"text-align: right;\">     0.0809342 </td><td style=\"text-align: right;\">                   3</td><td style=\"text-align: right;\">    0.637574</td><td style=\"text-align: right;\">        0.559401</td><td style=\"text-align: right;\">                     3</td></tr>\n",
       "<tr><td>train_fn_47b80e27</td><td>TERMINATED</td><td>172.19.2.2:4150</td><td style=\"text-align: right;\">          32</td><td style=\"text-align: right;\">          0.25</td><td style=\"text-align: right;\">       7</td><td style=\"text-align: right;\">2e-06 </td><td style=\"text-align: right;\">        0.0002</td><td style=\"text-align: right;\">0.448167</td><td style=\"text-align: right;\">  0.789612</td><td style=\"text-align: right;\">    -0.30982   </td><td style=\"text-align: right;\">                   6</td><td style=\"text-align: right;\">    0.418975</td><td style=\"text-align: right;\">        0.82367 </td><td style=\"text-align: right;\">                     6</td></tr>\n",
       "<tr><td>train_fn_419d9af0</td><td>TERMINATED</td><td>172.19.2.2:4235</td><td style=\"text-align: right;\">          32</td><td style=\"text-align: right;\">          0.4 </td><td style=\"text-align: right;\">       7</td><td style=\"text-align: right;\">2e-06 </td><td style=\"text-align: right;\">        0.0002</td><td style=\"text-align: right;\">0.4409  </td><td style=\"text-align: right;\">  0.788297</td><td style=\"text-align: right;\">    -0.315373  </td><td style=\"text-align: right;\">                   7</td><td style=\"text-align: right;\">    0.413125</td><td style=\"text-align: right;\">        0.824569</td><td style=\"text-align: right;\">                     7</td></tr>\n",
       "<tr><td>train_fn_59eb5c92</td><td>TERMINATED</td><td>172.19.2.2:4328</td><td style=\"text-align: right;\">          32</td><td style=\"text-align: right;\">          0.4 </td><td style=\"text-align: right;\">      15</td><td style=\"text-align: right;\">2e-06 </td><td style=\"text-align: right;\">        0.0002</td><td style=\"text-align: right;\">0.531237</td><td style=\"text-align: right;\">  0.739645</td><td style=\"text-align: right;\">    -0.13807   </td><td style=\"text-align: right;\">                   3</td><td style=\"text-align: right;\">    0.595339</td><td style=\"text-align: right;\">        0.663071</td><td style=\"text-align: right;\">                     3</td></tr>\n",
       "<tr><td>train_fn_18cf7192</td><td>TERMINATED</td><td>172.19.2.2:4416</td><td style=\"text-align: right;\">          32</td><td style=\"text-align: right;\">          0.25</td><td style=\"text-align: right;\">      15</td><td style=\"text-align: right;\">2e-07 </td><td style=\"text-align: right;\">        0.0002</td><td style=\"text-align: right;\">0.669613</td><td style=\"text-align: right;\">  0.57002 </td><td style=\"text-align: right;\">     0.113888  </td><td style=\"text-align: right;\">                   3</td><td style=\"text-align: right;\">    0.675598</td><td style=\"text-align: right;\">        0.547416</td><td style=\"text-align: right;\">                     3</td></tr>\n",
       "<tr><td>train_fn_4580c472</td><td>TERMINATED</td><td>172.19.2.2:4485</td><td style=\"text-align: right;\">          32</td><td style=\"text-align: right;\">          0.25</td><td style=\"text-align: right;\">      20</td><td style=\"text-align: right;\">2e-07 </td><td style=\"text-align: right;\">        0.0002</td><td style=\"text-align: right;\">0.653633</td><td style=\"text-align: right;\">  0.554241</td><td style=\"text-align: right;\">     0.102333  </td><td style=\"text-align: right;\">                   3</td><td style=\"text-align: right;\">    0.654953</td><td style=\"text-align: right;\">        0.558801</td><td style=\"text-align: right;\">                     3</td></tr>\n",
       "<tr><td>train_fn_5f470107</td><td>TERMINATED</td><td>172.19.2.2:4575</td><td style=\"text-align: right;\">          32</td><td style=\"text-align: right;\">          0.4 </td><td style=\"text-align: right;\">      20</td><td style=\"text-align: right;\">2e-07 </td><td style=\"text-align: right;\">        0.0002</td><td style=\"text-align: right;\">0.683539</td><td style=\"text-align: right;\">  0.55687 </td><td style=\"text-align: right;\">     0.137977  </td><td style=\"text-align: right;\">                   3</td><td style=\"text-align: right;\">    0.697002</td><td style=\"text-align: right;\">        0.547715</td><td style=\"text-align: right;\">                     3</td></tr>\n",
       "<tr><td>train_fn_ec7aa763</td><td>TERMINATED</td><td>172.19.2.2:4645</td><td style=\"text-align: right;\">          32</td><td style=\"text-align: right;\">          0.4 </td><td style=\"text-align: right;\">      20</td><td style=\"text-align: right;\">5e-05 </td><td style=\"text-align: right;\">        0.0002</td><td style=\"text-align: right;\">0.528496</td><td style=\"text-align: right;\">  0.810651</td><td style=\"text-align: right;\">    -0.0602255 </td><td style=\"text-align: right;\">                   5</td><td style=\"text-align: right;\">    0.19893 </td><td style=\"text-align: right;\">        0.924944</td><td style=\"text-align: right;\">                     5</td></tr>\n",
       "<tr><td>train_fn_8bb3ace0</td><td>TERMINATED</td><td>172.19.2.2:4734</td><td style=\"text-align: right;\">          32</td><td style=\"text-align: right;\">          0.4 </td><td style=\"text-align: right;\">       7</td><td style=\"text-align: right;\">5e-06 </td><td style=\"text-align: right;\">        0.0002</td><td style=\"text-align: right;\">0.466733</td><td style=\"text-align: right;\">  0.790927</td><td style=\"text-align: right;\">    -0.208349  </td><td style=\"text-align: right;\">                   6</td><td style=\"text-align: right;\">    0.319021</td><td style=\"text-align: right;\">        0.874906</td><td style=\"text-align: right;\">                     6</td></tr>\n",
       "<tr><td>train_fn_3e47b82d</td><td>TERMINATED</td><td>172.19.2.2:4817</td><td style=\"text-align: right;\">          32</td><td style=\"text-align: right;\">          0.4 </td><td style=\"text-align: right;\">       7</td><td style=\"text-align: right;\">5e-06 </td><td style=\"text-align: right;\">        5e-05 </td><td style=\"text-align: right;\">0.450019</td><td style=\"text-align: right;\">  0.815911</td><td style=\"text-align: right;\">    -0.248567  </td><td style=\"text-align: right;\">                   7</td><td style=\"text-align: right;\">    0.291444</td><td style=\"text-align: right;\">        0.891985</td><td style=\"text-align: right;\">                     7</td></tr>\n",
       "<tr><td>train_fn_7db4ebdd</td><td>TERMINATED</td><td>172.19.2.2:4909</td><td style=\"text-align: right;\">          32</td><td style=\"text-align: right;\">          0.4 </td><td style=\"text-align: right;\">       7</td><td style=\"text-align: right;\">5e-06 </td><td style=\"text-align: right;\">        5e-05 </td><td style=\"text-align: right;\">0.474348</td><td style=\"text-align: right;\">  0.809336</td><td style=\"text-align: right;\">    -0.192295  </td><td style=\"text-align: right;\">                   7</td><td style=\"text-align: right;\">    0.278053</td><td style=\"text-align: right;\">        0.898427</td><td style=\"text-align: right;\">                     7</td></tr>\n",
       "<tr><td>train_fn_62dfcbbc</td><td>TERMINATED</td><td>172.19.2.2:4998</td><td style=\"text-align: right;\">          32</td><td style=\"text-align: right;\">          0.4 </td><td style=\"text-align: right;\">       7</td><td style=\"text-align: right;\">5e-06 </td><td style=\"text-align: right;\">        5e-05 </td><td style=\"text-align: right;\">0.495142</td><td style=\"text-align: right;\">  0.805391</td><td style=\"text-align: right;\">    -0.15603   </td><td style=\"text-align: right;\">                   7</td><td style=\"text-align: right;\">    0.277941</td><td style=\"text-align: right;\">        0.896629</td><td style=\"text-align: right;\">                     7</td></tr>\n",
       "<tr><td>train_fn_d971ac72</td><td>TERMINATED</td><td>172.19.2.2:5090</td><td style=\"text-align: right;\">          32</td><td style=\"text-align: right;\">          0.4 </td><td style=\"text-align: right;\">       7</td><td style=\"text-align: right;\">1e-07 </td><td style=\"text-align: right;\">        5e-05 </td><td style=\"text-align: right;\">0.701945</td><td style=\"text-align: right;\">  0.571335</td><td style=\"text-align: right;\">     0.141088  </td><td style=\"text-align: right;\">                   3</td><td style=\"text-align: right;\">    0.700116</td><td style=\"text-align: right;\">        0.55221 </td><td style=\"text-align: right;\">                     3</td></tr>\n",
       "<tr><td>train_fn_5f426447</td><td>TERMINATED</td><td>172.19.2.2:5179</td><td style=\"text-align: right;\">          32</td><td style=\"text-align: right;\">          0.4 </td><td style=\"text-align: right;\">       7</td><td style=\"text-align: right;\">1e-07 </td><td style=\"text-align: right;\">        5e-05 </td><td style=\"text-align: right;\">0.694221</td><td style=\"text-align: right;\">  0.55687 </td><td style=\"text-align: right;\">     0.140902  </td><td style=\"text-align: right;\">                   3</td><td style=\"text-align: right;\">    0.695915</td><td style=\"text-align: right;\">        0.551461</td><td style=\"text-align: right;\">                     3</td></tr>\n",
       "<tr><td>train_fn_9a0326fc</td><td>TERMINATED</td><td>172.19.2.2:5216</td><td style=\"text-align: right;\">          32</td><td style=\"text-align: right;\">          0.4 </td><td style=\"text-align: right;\">      12</td><td style=\"text-align: right;\">5e-06 </td><td style=\"text-align: right;\">        5e-05 </td><td style=\"text-align: right;\">0.485331</td><td style=\"text-align: right;\">  0.804076</td><td style=\"text-align: right;\">    -0.166886  </td><td style=\"text-align: right;\">                   7</td><td style=\"text-align: right;\">    0.277161</td><td style=\"text-align: right;\">        0.899625</td><td style=\"text-align: right;\">                     7</td></tr>\n",
       "<tr><td>train_fn_89e0d936</td><td>TERMINATED</td><td>172.19.2.2:5310</td><td style=\"text-align: right;\">          32</td><td style=\"text-align: right;\">          0.4 </td><td style=\"text-align: right;\">      12</td><td style=\"text-align: right;\">3e-06 </td><td style=\"text-align: right;\">        5e-05 </td><td style=\"text-align: right;\">0.446909</td><td style=\"text-align: right;\">  0.794872</td><td style=\"text-align: right;\">    -0.291145  </td><td style=\"text-align: right;\">                   6</td><td style=\"text-align: right;\">    0.382446</td><td style=\"text-align: right;\">        0.844045</td><td style=\"text-align: right;\">                     6</td></tr>\n",
       "<tr><td>train_fn_7f0ef638</td><td>TERMINATED</td><td>172.19.2.2:5404</td><td style=\"text-align: right;\">          32</td><td style=\"text-align: right;\">          0.3 </td><td style=\"text-align: right;\">      12</td><td style=\"text-align: right;\">3e-06 </td><td style=\"text-align: right;\">        1e-05 </td><td style=\"text-align: right;\">0.471196</td><td style=\"text-align: right;\">  0.790927</td><td style=\"text-align: right;\">    -0.239265  </td><td style=\"text-align: right;\">                   6</td><td style=\"text-align: right;\">    0.369823</td><td style=\"text-align: right;\">        0.850487</td><td style=\"text-align: right;\">                     6</td></tr>\n",
       "<tr><td>train_fn_7a09c8bd</td><td>TERMINATED</td><td>172.19.2.2:5486</td><td style=\"text-align: right;\">          32</td><td style=\"text-align: right;\">          0.3 </td><td style=\"text-align: right;\">      10</td><td style=\"text-align: right;\">1e-05 </td><td style=\"text-align: right;\">        1e-05 </td><td style=\"text-align: right;\">0.501229</td><td style=\"text-align: right;\">  0.811966</td><td style=\"text-align: right;\">    -0.114827  </td><td style=\"text-align: right;\">                   6</td><td style=\"text-align: right;\">    0.221039</td><td style=\"text-align: right;\">        0.923596</td><td style=\"text-align: right;\">                     6</td></tr>\n",
       "<tr><td>train_fn_770a5483</td><td>TERMINATED</td><td>172.19.2.2:5579</td><td style=\"text-align: right;\">          32</td><td style=\"text-align: right;\">          0.3 </td><td style=\"text-align: right;\">      10</td><td style=\"text-align: right;\">3e-06 </td><td style=\"text-align: right;\">        5e-05 </td><td style=\"text-align: right;\">0.463552</td><td style=\"text-align: right;\">  0.779093</td><td style=\"text-align: right;\">    -0.244421  </td><td style=\"text-align: right;\">                   6</td><td style=\"text-align: right;\">    0.382968</td><td style=\"text-align: right;\">        0.840749</td><td style=\"text-align: right;\">                     6</td></tr>\n",
       "<tr><td>train_fn_7fd08880</td><td>TERMINATED</td><td>172.19.2.2:5661</td><td style=\"text-align: right;\">          32</td><td style=\"text-align: right;\">          0.4 </td><td style=\"text-align: right;\">      10</td><td style=\"text-align: right;\">1e-05 </td><td style=\"text-align: right;\">        5e-05 </td><td style=\"text-align: right;\">0.530341</td><td style=\"text-align: right;\">  0.810651</td><td style=\"text-align: right;\">    -0.0673194 </td><td style=\"text-align: right;\">                   6</td><td style=\"text-align: right;\">    0.217454</td><td style=\"text-align: right;\">        0.923745</td><td style=\"text-align: right;\">                     6</td></tr>\n",
       "<tr><td>train_fn_8159bd03</td><td>TERMINATED</td><td>172.19.2.2:5755</td><td style=\"text-align: right;\">          32</td><td style=\"text-align: right;\">          0.4 </td><td style=\"text-align: right;\">       7</td><td style=\"text-align: right;\">2e-06 </td><td style=\"text-align: right;\">        5e-05 </td><td style=\"text-align: right;\">0.515073</td><td style=\"text-align: right;\">  0.7357  </td><td style=\"text-align: right;\">    -0.18768   </td><td style=\"text-align: right;\">                   3</td><td style=\"text-align: right;\">    0.562871</td><td style=\"text-align: right;\">        0.717603</td><td style=\"text-align: right;\">                     3</td></tr>\n",
       "<tr><td>train_fn_dc69c8fa</td><td>TERMINATED</td><td>172.19.2.2:5837</td><td style=\"text-align: right;\">          32</td><td style=\"text-align: right;\">          0.4 </td><td style=\"text-align: right;\">       7</td><td style=\"text-align: right;\">1e-06 </td><td style=\"text-align: right;\">        1e-06 </td><td style=\"text-align: right;\">0.63082 </td><td style=\"text-align: right;\">  0.634451</td><td style=\"text-align: right;\">     0.0305965 </td><td style=\"text-align: right;\">                   3</td><td style=\"text-align: right;\">    0.638457</td><td style=\"text-align: right;\">        0.573633</td><td style=\"text-align: right;\">                     3</td></tr>\n",
       "<tr><td>train_fn_63e14d0d</td><td>TERMINATED</td><td>172.19.2.2:5913</td><td style=\"text-align: right;\">          32</td><td style=\"text-align: right;\">          0.4 </td><td style=\"text-align: right;\">       7</td><td style=\"text-align: right;\">1e-06 </td><td style=\"text-align: right;\">        1e-06 </td><td style=\"text-align: right;\">0.634259</td><td style=\"text-align: right;\">  0.554241</td><td style=\"text-align: right;\">     0.0936067 </td><td style=\"text-align: right;\">                   3</td><td style=\"text-align: right;\">    0.643691</td><td style=\"text-align: right;\">        0.571985</td><td style=\"text-align: right;\">                     3</td></tr>\n",
       "<tr><td>train_fn_c321fa8a</td><td>TERMINATED</td><td>172.19.2.2:5997</td><td style=\"text-align: right;\">          32</td><td style=\"text-align: right;\">          0.4 </td><td style=\"text-align: right;\">       7</td><td style=\"text-align: right;\">5e-06 </td><td style=\"text-align: right;\">        1e-06 </td><td style=\"text-align: right;\">0.47919 </td><td style=\"text-align: right;\">  0.801446</td><td style=\"text-align: right;\">    -0.178239  </td><td style=\"text-align: right;\">                   7</td><td style=\"text-align: right;\">    0.284242</td><td style=\"text-align: right;\">        0.894532</td><td style=\"text-align: right;\">                     7</td></tr>\n",
       "<tr><td>train_fn_f388285a</td><td>TERMINATED</td><td>172.19.2.2:6073</td><td style=\"text-align: right;\">          32</td><td style=\"text-align: right;\">          0.4 </td><td style=\"text-align: right;\">       7</td><td style=\"text-align: right;\">5e-06 </td><td style=\"text-align: right;\">        5e-06 </td><td style=\"text-align: right;\">0.457402</td><td style=\"text-align: right;\">  0.800131</td><td style=\"text-align: right;\">    -0.230428  </td><td style=\"text-align: right;\">                   6</td><td style=\"text-align: right;\">    0.314616</td><td style=\"text-align: right;\">        0.881948</td><td style=\"text-align: right;\">                     6</td></tr>\n",
       "<tr><td>train_fn_4763c946</td><td>TERMINATED</td><td>172.19.2.2:6178</td><td style=\"text-align: right;\">          32</td><td style=\"text-align: right;\">          0.27</td><td style=\"text-align: right;\">       5</td><td style=\"text-align: right;\">5e-06 </td><td style=\"text-align: right;\">        5e-06 </td><td style=\"text-align: right;\">0.45727 </td><td style=\"text-align: right;\">  0.800131</td><td style=\"text-align: right;\">    -0.261065  </td><td style=\"text-align: right;\">                   5</td><td style=\"text-align: right;\">    0.352121</td><td style=\"text-align: right;\">        0.858577</td><td style=\"text-align: right;\">                     5</td></tr>\n",
       "<tr><td>train_fn_2c6c719b</td><td>TERMINATED</td><td>172.19.2.2:6248</td><td style=\"text-align: right;\">          32</td><td style=\"text-align: right;\">          0.27</td><td style=\"text-align: right;\">       5</td><td style=\"text-align: right;\">5e-05 </td><td style=\"text-align: right;\">        5e-06 </td><td style=\"text-align: right;\">0.562026</td><td style=\"text-align: right;\">  0.800131</td><td style=\"text-align: right;\">     0.0241343 </td><td style=\"text-align: right;\">                   5</td><td style=\"text-align: right;\">    0.175391</td><td style=\"text-align: right;\">        0.937978</td><td style=\"text-align: right;\">                     5</td></tr>\n",
       "<tr><td>train_fn_43d1612d</td><td>TERMINATED</td><td>172.19.2.2:6348</td><td style=\"text-align: right;\">          32</td><td style=\"text-align: right;\">          0.27</td><td style=\"text-align: right;\">       5</td><td style=\"text-align: right;\">0.0002</td><td style=\"text-align: right;\">        2e-06 </td><td style=\"text-align: right;\">0.640074</td><td style=\"text-align: right;\">  0.580539</td><td style=\"text-align: right;\">     0.0721813 </td><td style=\"text-align: right;\">                   3</td><td style=\"text-align: right;\">    0.638166</td><td style=\"text-align: right;\">        0.557154</td><td style=\"text-align: right;\">                     3</td></tr>\n",
       "<tr><td>train_fn_3ba10a93</td><td>TERMINATED</td><td>172.19.2.2:6418</td><td style=\"text-align: right;\">          32</td><td style=\"text-align: right;\">          0.27</td><td style=\"text-align: right;\">       5</td><td style=\"text-align: right;\">0.0002</td><td style=\"text-align: right;\">        2e-06 </td><td style=\"text-align: right;\">0.638022</td><td style=\"text-align: right;\">  0.55687 </td><td style=\"text-align: right;\">     0.0829796 </td><td style=\"text-align: right;\">                   3</td><td style=\"text-align: right;\">    0.638249</td><td style=\"text-align: right;\">        0.5603  </td><td style=\"text-align: right;\">                     3</td></tr>\n",
       "<tr><td>train_fn_a1e42247</td><td>TERMINATED</td><td>172.19.2.2:6507</td><td style=\"text-align: right;\">          32</td><td style=\"text-align: right;\">          0.27</td><td style=\"text-align: right;\">       5</td><td style=\"text-align: right;\">0.0002</td><td style=\"text-align: right;\">        2e-06 </td><td style=\"text-align: right;\">0.66307 </td><td style=\"text-align: right;\">  0.581854</td><td style=\"text-align: right;\">     0.103814  </td><td style=\"text-align: right;\">                   3</td><td style=\"text-align: right;\">    0.636584</td><td style=\"text-align: right;\">        0.563146</td><td style=\"text-align: right;\">                     3</td></tr>\n",
       "<tr><td>train_fn_5eb09f5f</td><td>TERMINATED</td><td>172.19.2.2:6578</td><td style=\"text-align: right;\">          32</td><td style=\"text-align: right;\">          0.35</td><td style=\"text-align: right;\">      12</td><td style=\"text-align: right;\">2e-06 </td><td style=\"text-align: right;\">        5e-05 </td><td style=\"text-align: right;\">0.45106 </td><td style=\"text-align: right;\">  0.792242</td><td style=\"text-align: right;\">    -0.306487  </td><td style=\"text-align: right;\">                   6</td><td style=\"text-align: right;\">    0.413398</td><td style=\"text-align: right;\">        0.82397 </td><td style=\"text-align: right;\">                     6</td></tr>\n",
       "<tr><td>train_fn_b9646c33</td><td>TERMINATED</td><td>172.19.2.2:6666</td><td style=\"text-align: right;\">          32</td><td style=\"text-align: right;\">          0.35</td><td style=\"text-align: right;\">      12</td><td style=\"text-align: right;\">5e-07 </td><td style=\"text-align: right;\">        5e-05 </td><td style=\"text-align: right;\">0.657804</td><td style=\"text-align: right;\">  0.583169</td><td style=\"text-align: right;\">     0.0885485 </td><td style=\"text-align: right;\">                   3</td><td style=\"text-align: right;\">    0.670402</td><td style=\"text-align: right;\">        0.56794 </td><td style=\"text-align: right;\">                     3</td></tr>\n",
       "<tr><td>train_fn_0442d3c2</td><td>TERMINATED</td><td>172.19.2.2:6754</td><td style=\"text-align: right;\">          64</td><td style=\"text-align: right;\">          0.35</td><td style=\"text-align: right;\">      12</td><td style=\"text-align: right;\">2e-06 </td><td style=\"text-align: right;\">        5e-05 </td><td style=\"text-align: right;\">0.633042</td><td style=\"text-align: right;\">  0.608153</td><td style=\"text-align: right;\">     0.0447491 </td><td style=\"text-align: right;\">                   3</td><td style=\"text-align: right;\">    0.637942</td><td style=\"text-align: right;\">        0.573333</td><td style=\"text-align: right;\">                     3</td></tr>\n",
       "<tr><td>train_fn_217860ce</td><td>TERMINATED</td><td>172.19.2.2:6791</td><td style=\"text-align: right;\">          32</td><td style=\"text-align: right;\">          0.4 </td><td style=\"text-align: right;\">      15</td><td style=\"text-align: right;\">2e-06 </td><td style=\"text-align: right;\">        5e-05 </td><td style=\"text-align: right;\">0.561923</td><td style=\"text-align: right;\">  0.744905</td><td style=\"text-align: right;\">    -0.123994  </td><td style=\"text-align: right;\">                   3</td><td style=\"text-align: right;\">    0.610649</td><td style=\"text-align: right;\">        0.675655</td><td style=\"text-align: right;\">                     3</td></tr>\n",
       "<tr><td>train_fn_de59a64b</td><td>TERMINATED</td><td>172.19.2.2:6883</td><td style=\"text-align: right;\">          32</td><td style=\"text-align: right;\">          0.4 </td><td style=\"text-align: right;\">      15</td><td style=\"text-align: right;\">2e-06 </td><td style=\"text-align: right;\">        5e-05 </td><td style=\"text-align: right;\">0.539176</td><td style=\"text-align: right;\">  0.731755</td><td style=\"text-align: right;\">    -0.147986  </td><td style=\"text-align: right;\">                   3</td><td style=\"text-align: right;\">    0.593237</td><td style=\"text-align: right;\">        0.696629</td><td style=\"text-align: right;\">                     3</td></tr>\n",
       "<tr><td>train_fn_7df5a04e</td><td>TERMINATED</td><td>172.19.2.2:6956</td><td style=\"text-align: right;\">          32</td><td style=\"text-align: right;\">          0.4 </td><td style=\"text-align: right;\">      15</td><td style=\"text-align: right;\">3e-05 </td><td style=\"text-align: right;\">        2e-05 </td><td style=\"text-align: right;\">0.624103</td><td style=\"text-align: right;\">  0.805391</td><td style=\"text-align: right;\">     0.124899  </td><td style=\"text-align: right;\">                   6</td><td style=\"text-align: right;\">    0.154653</td><td style=\"text-align: right;\">        0.948315</td><td style=\"text-align: right;\">                     6</td></tr>\n",
       "<tr><td>train_fn_38378c55</td><td>TERMINATED</td><td>172.19.2.2:7042</td><td style=\"text-align: right;\">          32</td><td style=\"text-align: right;\">          0.4 </td><td style=\"text-align: right;\">       7</td><td style=\"text-align: right;\">3e-05 </td><td style=\"text-align: right;\">        2e-05 </td><td style=\"text-align: right;\">0.559653</td><td style=\"text-align: right;\">  0.809336</td><td style=\"text-align: right;\">     0.0278168 </td><td style=\"text-align: right;\">                   6</td><td style=\"text-align: right;\">    0.147226</td><td style=\"text-align: right;\">        0.95191 </td><td style=\"text-align: right;\">                     6</td></tr>\n",
       "<tr><td>train_fn_0ac5a327</td><td>TERMINATED</td><td>172.19.2.2:7133</td><td style=\"text-align: right;\">          32</td><td style=\"text-align: right;\">          0.32</td><td style=\"text-align: right;\">       7</td><td style=\"text-align: right;\">3e-05 </td><td style=\"text-align: right;\">        0.0001</td><td style=\"text-align: right;\">0.470657</td><td style=\"text-align: right;\">  0.822485</td><td style=\"text-align: right;\">    -0.153254  </td><td style=\"text-align: right;\">                   5</td><td style=\"text-align: right;\">    0.184658</td><td style=\"text-align: right;\">        0.933633</td><td style=\"text-align: right;\">                     5</td></tr>\n",
       "<tr><td>train_fn_18d35c95</td><td>TERMINATED</td><td>172.19.2.2:7219</td><td style=\"text-align: right;\">          64</td><td style=\"text-align: right;\">          0.32</td><td style=\"text-align: right;\">       7</td><td style=\"text-align: right;\">5e-06 </td><td style=\"text-align: right;\">        0.0001</td><td style=\"text-align: right;\">0.456083</td><td style=\"text-align: right;\">  0.796187</td><td style=\"text-align: right;\">    -0.256842  </td><td style=\"text-align: right;\">                   6</td><td style=\"text-align: right;\">    0.35165 </td><td style=\"text-align: right;\">        0.858277</td><td style=\"text-align: right;\">                     6</td></tr>\n",
       "<tr><td>train_fn_733b097b</td><td>TERMINATED</td><td>172.19.2.2:7303</td><td style=\"text-align: right;\">          64</td><td style=\"text-align: right;\">          0.32</td><td style=\"text-align: right;\">       7</td><td style=\"text-align: right;\">5e-06 </td><td style=\"text-align: right;\">        0.0001</td><td style=\"text-align: right;\">0.450172</td><td style=\"text-align: right;\">  0.796187</td><td style=\"text-align: right;\">    -0.253396  </td><td style=\"text-align: right;\">                   7</td><td style=\"text-align: right;\">    0.33811 </td><td style=\"text-align: right;\">        0.869363</td><td style=\"text-align: right;\">                     7</td></tr>\n",
       "<tr><td>train_fn_0887e04e</td><td>TERMINATED</td><td>172.19.2.2:7390</td><td style=\"text-align: right;\">          64</td><td style=\"text-align: right;\">          0.4 </td><td style=\"text-align: right;\">      20</td><td style=\"text-align: right;\">5e-06 </td><td style=\"text-align: right;\">        5e-05 </td><td style=\"text-align: right;\">0.477242</td><td style=\"text-align: right;\">  0.817226</td><td style=\"text-align: right;\">    -0.195936  </td><td style=\"text-align: right;\">                   9</td><td style=\"text-align: right;\">    0.272744</td><td style=\"text-align: right;\">        0.900824</td><td style=\"text-align: right;\">                     9</td></tr>\n",
       "<tr><td>train_fn_f66568da</td><td>TERMINATED</td><td>172.19.2.2:7479</td><td style=\"text-align: right;\">          64</td><td style=\"text-align: right;\">          0.4 </td><td style=\"text-align: right;\">      20</td><td style=\"text-align: right;\">0.0001</td><td style=\"text-align: right;\">        5e-05 </td><td style=\"text-align: right;\">0.58287 </td><td style=\"text-align: right;\">  0.827745</td><td style=\"text-align: right;\">     0.00745602</td><td style=\"text-align: right;\">                   6</td><td style=\"text-align: right;\">    0.184247</td><td style=\"text-align: right;\">        0.933783</td><td style=\"text-align: right;\">                     6</td></tr>\n",
       "<tr><td>train_fn_9e7b9f4e</td><td>TERMINATED</td><td>172.19.2.2:7576</td><td style=\"text-align: right;\">          64</td><td style=\"text-align: right;\">          0.4 </td><td style=\"text-align: right;\">      20</td><td style=\"text-align: right;\">0.0001</td><td style=\"text-align: right;\">        1e-05 </td><td style=\"text-align: right;\">0.636538</td><td style=\"text-align: right;\">  0.580539</td><td style=\"text-align: right;\">     0.0625822 </td><td style=\"text-align: right;\">                   3</td><td style=\"text-align: right;\">    0.637705</td><td style=\"text-align: right;\">        0.568539</td><td style=\"text-align: right;\">                     3</td></tr>\n",
       "<tr><td>train_fn_01963f4a</td><td>TERMINATED</td><td>172.19.2.2:7650</td><td style=\"text-align: right;\">          32</td><td style=\"text-align: right;\">          0.4 </td><td style=\"text-align: right;\">      20</td><td style=\"text-align: right;\">0.0001</td><td style=\"text-align: right;\">        0.0002</td><td style=\"text-align: right;\">0.453437</td><td style=\"text-align: right;\">  0.801446</td><td style=\"text-align: right;\">    -0.256348  </td><td style=\"text-align: right;\">                   5</td><td style=\"text-align: right;\">    0.33084 </td><td style=\"text-align: right;\">        0.862172</td><td style=\"text-align: right;\">                     5</td></tr>\n",
       "<tr><td>train_fn_a48f7494</td><td>TERMINATED</td><td>172.19.2.2:7733</td><td style=\"text-align: right;\">          32</td><td style=\"text-align: right;\">          0.4 </td><td style=\"text-align: right;\">       7</td><td style=\"text-align: right;\">0.001 </td><td style=\"text-align: right;\">        0.0002</td><td style=\"text-align: right;\">0.635767</td><td style=\"text-align: right;\">  0.580539</td><td style=\"text-align: right;\">     0.0682151 </td><td style=\"text-align: right;\">                   3</td><td style=\"text-align: right;\">    0.637757</td><td style=\"text-align: right;\">        0.556554</td><td style=\"text-align: right;\">                     3</td></tr>\n",
       "<tr><td>train_fn_78ba70c9</td><td>TERMINATED</td><td>172.19.2.2:7821</td><td style=\"text-align: right;\">          32</td><td style=\"text-align: right;\">          0.35</td><td style=\"text-align: right;\">       7</td><td style=\"text-align: right;\">0.001 </td><td style=\"text-align: right;\">        0.0002</td><td style=\"text-align: right;\">0.638175</td><td style=\"text-align: right;\">  0.580539</td><td style=\"text-align: right;\">     0.0698044 </td><td style=\"text-align: right;\">                   3</td><td style=\"text-align: right;\">    0.638121</td><td style=\"text-align: right;\">        0.556255</td><td style=\"text-align: right;\">                     3</td></tr>\n",
       "<tr><td>train_fn_199e02cb</td><td>TERMINATED</td><td>172.19.2.2:7857</td><td style=\"text-align: right;\">          32</td><td style=\"text-align: right;\">          0.4 </td><td style=\"text-align: right;\">       7</td><td style=\"text-align: right;\">2e-06 </td><td style=\"text-align: right;\">        0.0002</td><td style=\"text-align: right;\">0.451494</td><td style=\"text-align: right;\">  0.788297</td><td style=\"text-align: right;\">    -0.316402  </td><td style=\"text-align: right;\">                   6</td><td style=\"text-align: right;\">    0.435728</td><td style=\"text-align: right;\">        0.813333</td><td style=\"text-align: right;\">                     6</td></tr>\n",
       "<tr><td>train_fn_e0e7f7f3</td><td>TERMINATED</td><td>172.19.2.2:7952</td><td style=\"text-align: right;\">          32</td><td style=\"text-align: right;\">          0.4 </td><td style=\"text-align: right;\">       7</td><td style=\"text-align: right;\">2e-06 </td><td style=\"text-align: right;\">        0.0002</td><td style=\"text-align: right;\">0.511801</td><td style=\"text-align: right;\">  0.742275</td><td style=\"text-align: right;\">    -0.198472  </td><td style=\"text-align: right;\">                   3</td><td style=\"text-align: right;\">    0.556527</td><td style=\"text-align: right;\">        0.722996</td><td style=\"text-align: right;\">                     3</td></tr>\n",
       "<tr><td>train_fn_a2a4272c</td><td>TERMINATED</td><td>172.19.2.2:8040</td><td style=\"text-align: right;\">          32</td><td style=\"text-align: right;\">          0.4 </td><td style=\"text-align: right;\">       7</td><td style=\"text-align: right;\">2e-05 </td><td style=\"text-align: right;\">        0.0002</td><td style=\"text-align: right;\">0.49571 </td><td style=\"text-align: right;\">  0.817226</td><td style=\"text-align: right;\">    -0.142897  </td><td style=\"text-align: right;\">                   5</td><td style=\"text-align: right;\">    0.235705</td><td style=\"text-align: right;\">        0.914457</td><td style=\"text-align: right;\">                     5</td></tr>\n",
       "<tr><td>train_fn_f483c086</td><td>TERMINATED</td><td>172.19.2.2:8076</td><td style=\"text-align: right;\">          32</td><td style=\"text-align: right;\">          0.4 </td><td style=\"text-align: right;\">       7</td><td style=\"text-align: right;\">2e-05 </td><td style=\"text-align: right;\">        5e-06 </td><td style=\"text-align: right;\">0.520904</td><td style=\"text-align: right;\">  0.804076</td><td style=\"text-align: right;\">    -0.0751388 </td><td style=\"text-align: right;\">                   5</td><td style=\"text-align: right;\">    0.218963</td><td style=\"text-align: right;\">        0.918202</td><td style=\"text-align: right;\">                     5</td></tr>\n",
       "<tr><td>train_fn_ed8862cd</td><td>TERMINATED</td><td>172.19.2.2:8183</td><td style=\"text-align: right;\">          32</td><td style=\"text-align: right;\">          0.4 </td><td style=\"text-align: right;\">       7</td><td style=\"text-align: right;\">5e-06 </td><td style=\"text-align: right;\">        5e-06 </td><td style=\"text-align: right;\">0.459132</td><td style=\"text-align: right;\">  0.797502</td><td style=\"text-align: right;\">    -0.216016  </td><td style=\"text-align: right;\">                   6</td><td style=\"text-align: right;\">    0.303965</td><td style=\"text-align: right;\">        0.887041</td><td style=\"text-align: right;\">                     6</td></tr>\n",
       "<tr><td>train_fn_34d9ee31</td><td>TERMINATED</td><td>172.19.2.2:8249</td><td style=\"text-align: right;\">          32</td><td style=\"text-align: right;\">          0.2 </td><td style=\"text-align: right;\">      12</td><td style=\"text-align: right;\">5e-06 </td><td style=\"text-align: right;\">        5e-05 </td><td style=\"text-align: right;\">0.459781</td><td style=\"text-align: right;\">  0.804076</td><td style=\"text-align: right;\">    -0.229835  </td><td style=\"text-align: right;\">                   6</td><td style=\"text-align: right;\">    0.307533</td><td style=\"text-align: right;\">        0.880749</td><td style=\"text-align: right;\">                     6</td></tr>\n",
       "<tr><td>train_fn_b63b2371</td><td>TERMINATED</td><td>172.19.2.2:8358</td><td style=\"text-align: right;\">          32</td><td style=\"text-align: right;\">          0.2 </td><td style=\"text-align: right;\">      12</td><td style=\"text-align: right;\">5e-06 </td><td style=\"text-align: right;\">        5e-05 </td><td style=\"text-align: right;\">0.517101</td><td style=\"text-align: right;\">  0.813281</td><td style=\"text-align: right;\">    -0.0870586 </td><td style=\"text-align: right;\">                   9</td><td style=\"text-align: right;\">    0.215465</td><td style=\"text-align: right;\">        0.929888</td><td style=\"text-align: right;\">                     9</td></tr>\n",
       "<tr><td>train_fn_dbd75a86</td><td>TERMINATED</td><td>172.19.2.2:8424</td><td style=\"text-align: right;\">          64</td><td style=\"text-align: right;\">          0.3 </td><td style=\"text-align: right;\">      10</td><td style=\"text-align: right;\">5e-05 </td><td style=\"text-align: right;\">        5e-05 </td><td style=\"text-align: right;\">0.507598</td><td style=\"text-align: right;\">  0.814596</td><td style=\"text-align: right;\">    -0.097779  </td><td style=\"text-align: right;\">                   5</td><td style=\"text-align: right;\">    0.202955</td><td style=\"text-align: right;\">        0.92839 </td><td style=\"text-align: right;\">                     5</td></tr>\n",
       "<tr><td>train_fn_fc12de9b</td><td>TERMINATED</td><td>172.19.2.2:8527</td><td style=\"text-align: right;\">          64</td><td style=\"text-align: right;\">          0.3 </td><td style=\"text-align: right;\">      10</td><td style=\"text-align: right;\">2e-06 </td><td style=\"text-align: right;\">        5e-05 </td><td style=\"text-align: right;\">0.618422</td><td style=\"text-align: right;\">  0.64497 </td><td style=\"text-align: right;\">     0.0103791 </td><td style=\"text-align: right;\">                   3</td><td style=\"text-align: right;\">    0.634722</td><td style=\"text-align: right;\">        0.587416</td><td style=\"text-align: right;\">                     3</td></tr>\n",
       "</tbody>\n",
       "</table>\n",
       "  </div>\n",
       "</div>\n",
       "<style>\n",
       ".tuneStatus {\n",
       "  color: var(--jp-ui-font-color1);\n",
       "}\n",
       ".tuneStatus .systemInfo {\n",
       "  display: flex;\n",
       "  flex-direction: column;\n",
       "}\n",
       ".tuneStatus td {\n",
       "  white-space: nowrap;\n",
       "}\n",
       ".tuneStatus .trialStatus {\n",
       "  display: flex;\n",
       "  flex-direction: column;\n",
       "}\n",
       ".tuneStatus h3 {\n",
       "  font-weight: bold;\n",
       "}\n",
       ".tuneStatus .hDivider {\n",
       "  border-bottom-width: var(--jp-border-width);\n",
       "  border-bottom-color: var(--jp-border-color0);\n",
       "  border-bottom-style: solid;\n",
       "}\n",
       ".tuneStatus .vDivider {\n",
       "  border-left-width: var(--jp-border-width);\n",
       "  border-left-color: var(--jp-border-color0);\n",
       "  border-left-style: solid;\n",
       "  margin: 0.5em 1em 0.5em 1em;\n",
       "}\n",
       "</style>\n"
      ],
      "text/plain": [
       "<IPython.core.display.HTML object>"
      ]
     },
     "metadata": {},
     "output_type": "display_data"
    },
    {
     "name": "stderr",
     "output_type": "stream",
     "text": [
      "2024-08-31 07:41:18,453\tINFO worker.py:1753 -- Started a local Ray instance.\n",
      "2024-08-31 07:41:19,708\tINFO tune.py:253 -- Initializing Ray automatically. For cluster usage or custom Ray initialization, call `ray.init(...)` before `tune.run(...)`.\n",
      "2024-08-31 07:41:19,716\tINFO tune.py:616 -- [output] This uses the legacy output and progress reporter, as Jupyter notebooks are not supported by the new engine, yet. For more information, please see https://github.com/ray-project/ray/issues/36949\n",
      "[I 2024-08-31 07:41:19,773] A new study created in memory with name: optuna\n",
      "\u001b[36m(train_fn pid=344)\u001b[0m /opt/conda/lib/python3.10/site-packages/transformers/tokenization_utils_base.py:1601: FutureWarning: `clean_up_tokenization_spaces` was not set. It will be set to `True` by default. This behavior will be depracted in transformers v4.45, and will be then set to `False` by default. For more details check this issue: https://github.com/huggingface/transformers/issues/31884\n",
      "\u001b[36m(train_fn pid=344)\u001b[0m   warnings.warn(\n",
      "\u001b[36m(train_fn pid=379)\u001b[0m /opt/conda/lib/python3.10/site-packages/transformers/tokenization_utils_base.py:1601: FutureWarning: `clean_up_tokenization_spaces` was not set. It will be set to `True` by default. This behavior will be depracted in transformers v4.45, and will be then set to `False` by default. For more details check this issue: https://github.com/huggingface/transformers/issues/31884\n",
      "\u001b[36m(train_fn pid=379)\u001b[0m   warnings.warn(\n"
     ]
    },
    {
     "data": {
      "text/html": [
       "<div class=\"trialProgress\">\n",
       "  <h3>Trial Progress</h3>\n",
       "  <table>\n",
       "<thead>\n",
       "<tr><th>Trial name       </th><th style=\"text-align: right;\">  accuracy</th><th style=\"text-align: right;\">  custom_metric</th><th style=\"text-align: right;\">  early_stopping_epoch</th><th style=\"text-align: right;\">    loss</th><th style=\"text-align: right;\">  train_accuracy</th><th style=\"text-align: right;\">  train_loss</th></tr>\n",
       "</thead>\n",
       "<tbody>\n",
       "<tr><td>train_fn_01963f4a</td><td style=\"text-align: right;\">  0.801446</td><td style=\"text-align: right;\">    -0.256348  </td><td style=\"text-align: right;\">                     5</td><td style=\"text-align: right;\">0.453437</td><td style=\"text-align: right;\">        0.862172</td><td style=\"text-align: right;\">    0.33084 </td></tr>\n",
       "<tr><td>train_fn_0442d3c2</td><td style=\"text-align: right;\">  0.608153</td><td style=\"text-align: right;\">     0.0447491 </td><td style=\"text-align: right;\">                     3</td><td style=\"text-align: right;\">0.633042</td><td style=\"text-align: right;\">        0.573333</td><td style=\"text-align: right;\">    0.637942</td></tr>\n",
       "<tr><td>train_fn_0887e04e</td><td style=\"text-align: right;\">  0.817226</td><td style=\"text-align: right;\">    -0.195936  </td><td style=\"text-align: right;\">                     9</td><td style=\"text-align: right;\">0.477242</td><td style=\"text-align: right;\">        0.900824</td><td style=\"text-align: right;\">    0.272744</td></tr>\n",
       "<tr><td>train_fn_0ac5a327</td><td style=\"text-align: right;\">  0.822485</td><td style=\"text-align: right;\">    -0.153254  </td><td style=\"text-align: right;\">                     5</td><td style=\"text-align: right;\">0.470657</td><td style=\"text-align: right;\">        0.933633</td><td style=\"text-align: right;\">    0.184658</td></tr>\n",
       "<tr><td>train_fn_0da8201b</td><td style=\"text-align: right;\">  0.529257</td><td style=\"text-align: right;\">     0.170473  </td><td style=\"text-align: right;\">                     3</td><td style=\"text-align: right;\">0.682106</td><td style=\"text-align: right;\">        0.560899</td><td style=\"text-align: right;\">    0.685712</td></tr>\n",
       "<tr><td>train_fn_1059f835</td><td style=\"text-align: right;\">  0.798817</td><td style=\"text-align: right;\">    -0.228154  </td><td style=\"text-align: right;\">                     5</td><td style=\"text-align: right;\">0.460709</td><td style=\"text-align: right;\">        0.876854</td><td style=\"text-align: right;\">    0.318837</td></tr>\n",
       "<tr><td>train_fn_10db737d</td><td style=\"text-align: right;\">  0.811966</td><td style=\"text-align: right;\">    -0.176996  </td><td style=\"text-align: right;\">                     5</td><td style=\"text-align: right;\">0.4662  </td><td style=\"text-align: right;\">        0.913708</td><td style=\"text-align: right;\">    0.230402</td></tr>\n",
       "<tr><td>train_fn_173a2958</td><td style=\"text-align: right;\">  0.612097</td><td style=\"text-align: right;\">     0.0338389 </td><td style=\"text-align: right;\">                     3</td><td style=\"text-align: right;\">0.629234</td><td style=\"text-align: right;\">        0.58412 </td><td style=\"text-align: right;\">    0.634661</td></tr>\n",
       "<tr><td>train_fn_18cf7192</td><td style=\"text-align: right;\">  0.57002 </td><td style=\"text-align: right;\">     0.113888  </td><td style=\"text-align: right;\">                     3</td><td style=\"text-align: right;\">0.669613</td><td style=\"text-align: right;\">        0.547416</td><td style=\"text-align: right;\">    0.675598</td></tr>\n",
       "<tr><td>train_fn_18d35c95</td><td style=\"text-align: right;\">  0.796187</td><td style=\"text-align: right;\">    -0.256842  </td><td style=\"text-align: right;\">                     6</td><td style=\"text-align: right;\">0.456083</td><td style=\"text-align: right;\">        0.858277</td><td style=\"text-align: right;\">    0.35165 </td></tr>\n",
       "<tr><td>train_fn_199e02cb</td><td style=\"text-align: right;\">  0.788297</td><td style=\"text-align: right;\">    -0.316402  </td><td style=\"text-align: right;\">                     6</td><td style=\"text-align: right;\">0.451494</td><td style=\"text-align: right;\">        0.813333</td><td style=\"text-align: right;\">    0.435728</td></tr>\n",
       "<tr><td>train_fn_1cf649fe</td><td style=\"text-align: right;\">  0.529257</td><td style=\"text-align: right;\">     0.181495  </td><td style=\"text-align: right;\">                     3</td><td style=\"text-align: right;\">0.694224</td><td style=\"text-align: right;\">        0.558652</td><td style=\"text-align: right;\">    0.690563</td></tr>\n",
       "<tr><td>train_fn_217860ce</td><td style=\"text-align: right;\">  0.744905</td><td style=\"text-align: right;\">    -0.123994  </td><td style=\"text-align: right;\">                     3</td><td style=\"text-align: right;\">0.561923</td><td style=\"text-align: right;\">        0.675655</td><td style=\"text-align: right;\">    0.610649</td></tr>\n",
       "<tr><td>train_fn_22c4fdf2</td><td style=\"text-align: right;\">  0.82117 </td><td style=\"text-align: right;\">    -0.144521  </td><td style=\"text-align: right;\">                     5</td><td style=\"text-align: right;\">0.480083</td><td style=\"text-align: right;\">        0.932434</td><td style=\"text-align: right;\">    0.198215</td></tr>\n",
       "<tr><td>train_fn_2432548b</td><td style=\"text-align: right;\">  0.805391</td><td style=\"text-align: right;\">    -0.0278853 </td><td style=\"text-align: right;\">                     5</td><td style=\"text-align: right;\">0.540176</td><td style=\"text-align: right;\">        0.930936</td><td style=\"text-align: right;\">    0.19106 </td></tr>\n",
       "<tr><td>train_fn_2b0a330f</td><td style=\"text-align: right;\">  0.82117 </td><td style=\"text-align: right;\">    -0.13743   </td><td style=\"text-align: right;\">                     5</td><td style=\"text-align: right;\">0.502933</td><td style=\"text-align: right;\">        0.909663</td><td style=\"text-align: right;\">    0.229812</td></tr>\n",
       "<tr><td>train_fn_2c1829f1</td><td style=\"text-align: right;\">  0.598948</td><td style=\"text-align: right;\">     0.0650842 </td><td style=\"text-align: right;\">                     3</td><td style=\"text-align: right;\">0.644199</td><td style=\"text-align: right;\">        0.574232</td><td style=\"text-align: right;\">    0.659149</td></tr>\n",
       "<tr><td>train_fn_2c6c719b</td><td style=\"text-align: right;\">  0.800131</td><td style=\"text-align: right;\">     0.0241343 </td><td style=\"text-align: right;\">                     5</td><td style=\"text-align: right;\">0.562026</td><td style=\"text-align: right;\">        0.937978</td><td style=\"text-align: right;\">    0.175391</td></tr>\n",
       "<tr><td>train_fn_2f59d9e9</td><td style=\"text-align: right;\">  0.725181</td><td style=\"text-align: right;\">    -0.0971697 </td><td style=\"text-align: right;\">                     3</td><td style=\"text-align: right;\">0.57537 </td><td style=\"text-align: right;\">        0.661573</td><td style=\"text-align: right;\">    0.617045</td></tr>\n",
       "<tr><td>train_fn_34d9ee31</td><td style=\"text-align: right;\">  0.804076</td><td style=\"text-align: right;\">    -0.229835  </td><td style=\"text-align: right;\">                     6</td><td style=\"text-align: right;\">0.459781</td><td style=\"text-align: right;\">        0.880749</td><td style=\"text-align: right;\">    0.307533</td></tr>\n",
       "<tr><td>train_fn_38378c55</td><td style=\"text-align: right;\">  0.809336</td><td style=\"text-align: right;\">     0.0278168 </td><td style=\"text-align: right;\">                     6</td><td style=\"text-align: right;\">0.559653</td><td style=\"text-align: right;\">        0.95191 </td><td style=\"text-align: right;\">    0.147226</td></tr>\n",
       "<tr><td>train_fn_3ba10a93</td><td style=\"text-align: right;\">  0.55687 </td><td style=\"text-align: right;\">     0.0829796 </td><td style=\"text-align: right;\">                     3</td><td style=\"text-align: right;\">0.638022</td><td style=\"text-align: right;\">        0.5603  </td><td style=\"text-align: right;\">    0.638249</td></tr>\n",
       "<tr><td>train_fn_3ca1806f</td><td style=\"text-align: right;\">  0.779093</td><td style=\"text-align: right;\">    -0.276644  </td><td style=\"text-align: right;\">                     7</td><td style=\"text-align: right;\">0.470322</td><td style=\"text-align: right;\">        0.815431</td><td style=\"text-align: right;\">    0.442407</td></tr>\n",
       "<tr><td>train_fn_3e47b82d</td><td style=\"text-align: right;\">  0.815911</td><td style=\"text-align: right;\">    -0.248567  </td><td style=\"text-align: right;\">                     7</td><td style=\"text-align: right;\">0.450019</td><td style=\"text-align: right;\">        0.891985</td><td style=\"text-align: right;\">    0.291444</td></tr>\n",
       "<tr><td>train_fn_3ea8855f</td><td style=\"text-align: right;\">  0.761999</td><td style=\"text-align: right;\">     0.108354  </td><td style=\"text-align: right;\">                    10</td><td style=\"text-align: right;\">0.649704</td><td style=\"text-align: right;\">        0.873708</td><td style=\"text-align: right;\">    0.320115</td></tr>\n",
       "<tr><td>train_fn_419d9af0</td><td style=\"text-align: right;\">  0.788297</td><td style=\"text-align: right;\">    -0.315373  </td><td style=\"text-align: right;\">                     7</td><td style=\"text-align: right;\">0.4409  </td><td style=\"text-align: right;\">        0.824569</td><td style=\"text-align: right;\">    0.413125</td></tr>\n",
       "<tr><td>train_fn_43d1612d</td><td style=\"text-align: right;\">  0.580539</td><td style=\"text-align: right;\">     0.0721813 </td><td style=\"text-align: right;\">                     3</td><td style=\"text-align: right;\">0.640074</td><td style=\"text-align: right;\">        0.557154</td><td style=\"text-align: right;\">    0.638166</td></tr>\n",
       "<tr><td>train_fn_4580c472</td><td style=\"text-align: right;\">  0.554241</td><td style=\"text-align: right;\">     0.102333  </td><td style=\"text-align: right;\">                     3</td><td style=\"text-align: right;\">0.653633</td><td style=\"text-align: right;\">        0.558801</td><td style=\"text-align: right;\">    0.654953</td></tr>\n",
       "<tr><td>train_fn_46d5fbf6</td><td style=\"text-align: right;\">  0.673899</td><td style=\"text-align: right;\">     0.00352101</td><td style=\"text-align: right;\">                     3</td><td style=\"text-align: right;\">0.626652</td><td style=\"text-align: right;\">        0.581273</td><td style=\"text-align: right;\">    0.635562</td></tr>\n",
       "<tr><td>train_fn_4763c946</td><td style=\"text-align: right;\">  0.800131</td><td style=\"text-align: right;\">    -0.261065  </td><td style=\"text-align: right;\">                     5</td><td style=\"text-align: right;\">0.45727 </td><td style=\"text-align: right;\">        0.858577</td><td style=\"text-align: right;\">    0.352121</td></tr>\n",
       "<tr><td>train_fn_47b80e27</td><td style=\"text-align: right;\">  0.789612</td><td style=\"text-align: right;\">    -0.30982   </td><td style=\"text-align: right;\">                     6</td><td style=\"text-align: right;\">0.448167</td><td style=\"text-align: right;\">        0.82367 </td><td style=\"text-align: right;\">    0.418975</td></tr>\n",
       "<tr><td>train_fn_4a758f2d</td><td style=\"text-align: right;\">  0.580539</td><td style=\"text-align: right;\">     0.0651237 </td><td style=\"text-align: right;\">                     3</td><td style=\"text-align: right;\">0.634922</td><td style=\"text-align: right;\">        0.561798</td><td style=\"text-align: right;\">    0.637662</td></tr>\n",
       "<tr><td>train_fn_52314554</td><td style=\"text-align: right;\">  0.768573</td><td style=\"text-align: right;\">    -0.276896  </td><td style=\"text-align: right;\">                     6</td><td style=\"text-align: right;\">0.472242</td><td style=\"text-align: right;\">        0.798652</td><td style=\"text-align: right;\">    0.463451</td></tr>\n",
       "<tr><td>train_fn_5503f487</td><td style=\"text-align: right;\">  0.593688</td><td style=\"text-align: right;\">     0.0682357 </td><td style=\"text-align: right;\">                     3</td><td style=\"text-align: right;\">0.637068</td><td style=\"text-align: right;\">        0.559101</td><td style=\"text-align: right;\">    0.652193</td></tr>\n",
       "<tr><td>train_fn_55f77e54</td><td style=\"text-align: right;\">  0.785667</td><td style=\"text-align: right;\">    -0.244863  </td><td style=\"text-align: right;\">                     4</td><td style=\"text-align: right;\">0.4635  </td><td style=\"text-align: right;\">        0.838352</td><td style=\"text-align: right;\">    0.361576</td></tr>\n",
       "<tr><td>train_fn_569efa17</td><td style=\"text-align: right;\">  0.788297</td><td style=\"text-align: right;\">    -0.217487  </td><td style=\"text-align: right;\">                     7</td><td style=\"text-align: right;\">0.465627</td><td style=\"text-align: right;\">        0.868464</td><td style=\"text-align: right;\">    0.335427</td></tr>\n",
       "<tr><td>train_fn_59eb5c92</td><td style=\"text-align: right;\">  0.739645</td><td style=\"text-align: right;\">    -0.13807   </td><td style=\"text-align: right;\">                     3</td><td style=\"text-align: right;\">0.531237</td><td style=\"text-align: right;\">        0.663071</td><td style=\"text-align: right;\">    0.595339</td></tr>\n",
       "<tr><td>train_fn_5b7f40f4</td><td style=\"text-align: right;\">  0.529257</td><td style=\"text-align: right;\">     0.124271  </td><td style=\"text-align: right;\">                     3</td><td style=\"text-align: right;\">0.637811</td><td style=\"text-align: right;\">        0.560599</td><td style=\"text-align: right;\">    0.63772 </td></tr>\n",
       "<tr><td>train_fn_5bd7c5aa</td><td style=\"text-align: right;\">  0.800131</td><td style=\"text-align: right;\">    -0.20435   </td><td style=\"text-align: right;\">                     8</td><td style=\"text-align: right;\">0.464594</td><td style=\"text-align: right;\">        0.891685</td><td style=\"text-align: right;\">    0.293772</td></tr>\n",
       "<tr><td>train_fn_5eb09f5f</td><td style=\"text-align: right;\">  0.792242</td><td style=\"text-align: right;\">    -0.306487  </td><td style=\"text-align: right;\">                     6</td><td style=\"text-align: right;\">0.45106 </td><td style=\"text-align: right;\">        0.82397 </td><td style=\"text-align: right;\">    0.413398</td></tr>\n",
       "<tr><td>train_fn_5f426447</td><td style=\"text-align: right;\">  0.55687 </td><td style=\"text-align: right;\">     0.140902  </td><td style=\"text-align: right;\">                     3</td><td style=\"text-align: right;\">0.694221</td><td style=\"text-align: right;\">        0.551461</td><td style=\"text-align: right;\">    0.695915</td></tr>\n",
       "<tr><td>train_fn_5f470107</td><td style=\"text-align: right;\">  0.55687 </td><td style=\"text-align: right;\">     0.137977  </td><td style=\"text-align: right;\">                     3</td><td style=\"text-align: right;\">0.683539</td><td style=\"text-align: right;\">        0.547715</td><td style=\"text-align: right;\">    0.697002</td></tr>\n",
       "<tr><td>train_fn_62dfcbbc</td><td style=\"text-align: right;\">  0.805391</td><td style=\"text-align: right;\">    -0.15603   </td><td style=\"text-align: right;\">                     7</td><td style=\"text-align: right;\">0.495142</td><td style=\"text-align: right;\">        0.896629</td><td style=\"text-align: right;\">    0.277941</td></tr>\n",
       "<tr><td>train_fn_63e14d0d</td><td style=\"text-align: right;\">  0.554241</td><td style=\"text-align: right;\">     0.0936067 </td><td style=\"text-align: right;\">                     3</td><td style=\"text-align: right;\">0.634259</td><td style=\"text-align: right;\">        0.571985</td><td style=\"text-align: right;\">    0.643691</td></tr>\n",
       "<tr><td>train_fn_6678ae57</td><td style=\"text-align: right;\">  0.750164</td><td style=\"text-align: right;\">    -0.215411  </td><td style=\"text-align: right;\">                     3</td><td style=\"text-align: right;\">0.4966  </td><td style=\"text-align: right;\">        0.733783</td><td style=\"text-align: right;\">    0.556525</td></tr>\n",
       "<tr><td>train_fn_72c017f5</td><td style=\"text-align: right;\">  0.529257</td><td style=\"text-align: right;\">     0.179058  </td><td style=\"text-align: right;\">                     3</td><td style=\"text-align: right;\">0.692639</td><td style=\"text-align: right;\">        0.56015 </td><td style=\"text-align: right;\">    0.693098</td></tr>\n",
       "<tr><td>train_fn_733b097b</td><td style=\"text-align: right;\">  0.796187</td><td style=\"text-align: right;\">    -0.253396  </td><td style=\"text-align: right;\">                     7</td><td style=\"text-align: right;\">0.450172</td><td style=\"text-align: right;\">        0.869363</td><td style=\"text-align: right;\">    0.33811 </td></tr>\n",
       "<tr><td>train_fn_770a5483</td><td style=\"text-align: right;\">  0.779093</td><td style=\"text-align: right;\">    -0.244421  </td><td style=\"text-align: right;\">                     6</td><td style=\"text-align: right;\">0.463552</td><td style=\"text-align: right;\">        0.840749</td><td style=\"text-align: right;\">    0.382968</td></tr>\n",
       "<tr><td>train_fn_78ba70c9</td><td style=\"text-align: right;\">  0.580539</td><td style=\"text-align: right;\">     0.0698044 </td><td style=\"text-align: right;\">                     3</td><td style=\"text-align: right;\">0.638175</td><td style=\"text-align: right;\">        0.556255</td><td style=\"text-align: right;\">    0.638121</td></tr>\n",
       "<tr><td>train_fn_7a09c8bd</td><td style=\"text-align: right;\">  0.811966</td><td style=\"text-align: right;\">    -0.114827  </td><td style=\"text-align: right;\">                     6</td><td style=\"text-align: right;\">0.501229</td><td style=\"text-align: right;\">        0.923596</td><td style=\"text-align: right;\">    0.221039</td></tr>\n",
       "<tr><td>train_fn_7bf5c7fc</td><td style=\"text-align: right;\">  0.814596</td><td style=\"text-align: right;\">    -0.161026  </td><td style=\"text-align: right;\">                     6</td><td style=\"text-align: right;\">0.488576</td><td style=\"text-align: right;\">        0.908015</td><td style=\"text-align: right;\">    0.252008</td></tr>\n",
       "<tr><td>train_fn_7db4ebdd</td><td style=\"text-align: right;\">  0.809336</td><td style=\"text-align: right;\">    -0.192295  </td><td style=\"text-align: right;\">                     7</td><td style=\"text-align: right;\">0.474348</td><td style=\"text-align: right;\">        0.898427</td><td style=\"text-align: right;\">    0.278053</td></tr>\n",
       "<tr><td>train_fn_7df5a04e</td><td style=\"text-align: right;\">  0.805391</td><td style=\"text-align: right;\">     0.124899  </td><td style=\"text-align: right;\">                     6</td><td style=\"text-align: right;\">0.624103</td><td style=\"text-align: right;\">        0.948315</td><td style=\"text-align: right;\">    0.154653</td></tr>\n",
       "<tr><td>train_fn_7f0ef638</td><td style=\"text-align: right;\">  0.790927</td><td style=\"text-align: right;\">    -0.239265  </td><td style=\"text-align: right;\">                     6</td><td style=\"text-align: right;\">0.471196</td><td style=\"text-align: right;\">        0.850487</td><td style=\"text-align: right;\">    0.369823</td></tr>\n",
       "<tr><td>train_fn_7fd08880</td><td style=\"text-align: right;\">  0.810651</td><td style=\"text-align: right;\">    -0.0673194 </td><td style=\"text-align: right;\">                     6</td><td style=\"text-align: right;\">0.530341</td><td style=\"text-align: right;\">        0.923745</td><td style=\"text-align: right;\">    0.217454</td></tr>\n",
       "<tr><td>train_fn_8159bd03</td><td style=\"text-align: right;\">  0.7357  </td><td style=\"text-align: right;\">    -0.18768   </td><td style=\"text-align: right;\">                     3</td><td style=\"text-align: right;\">0.515073</td><td style=\"text-align: right;\">        0.717603</td><td style=\"text-align: right;\">    0.562871</td></tr>\n",
       "<tr><td>train_fn_816ed5ce</td><td style=\"text-align: right;\">  0.800131</td><td style=\"text-align: right;\">    -0.253795  </td><td style=\"text-align: right;\">                     6</td><td style=\"text-align: right;\">0.444063</td><td style=\"text-align: right;\">        0.876404</td><td style=\"text-align: right;\">    0.315789</td></tr>\n",
       "<tr><td>train_fn_85b8262b</td><td style=\"text-align: right;\">  0.529257</td><td style=\"text-align: right;\">     0.173431  </td><td style=\"text-align: right;\">                     3</td><td style=\"text-align: right;\">0.687599</td><td style=\"text-align: right;\">        0.552959</td><td style=\"text-align: right;\">    0.694075</td></tr>\n",
       "<tr><td>train_fn_89d8f842</td><td style=\"text-align: right;\">  0.813281</td><td style=\"text-align: right;\">    -0.0919782 </td><td style=\"text-align: right;\">                     7</td><td style=\"text-align: right;\">0.528696</td><td style=\"text-align: right;\">        0.915506</td><td style=\"text-align: right;\">    0.245708</td></tr>\n",
       "<tr><td>train_fn_89e0d936</td><td style=\"text-align: right;\">  0.794872</td><td style=\"text-align: right;\">    -0.291145  </td><td style=\"text-align: right;\">                     6</td><td style=\"text-align: right;\">0.446909</td><td style=\"text-align: right;\">        0.844045</td><td style=\"text-align: right;\">    0.382446</td></tr>\n",
       "<tr><td>train_fn_8bb3ace0</td><td style=\"text-align: right;\">  0.790927</td><td style=\"text-align: right;\">    -0.208349  </td><td style=\"text-align: right;\">                     6</td><td style=\"text-align: right;\">0.466733</td><td style=\"text-align: right;\">        0.874906</td><td style=\"text-align: right;\">    0.319021</td></tr>\n",
       "<tr><td>train_fn_8dd0dbed</td><td style=\"text-align: right;\">  0.804076</td><td style=\"text-align: right;\">    -0.195514  </td><td style=\"text-align: right;\">                     8</td><td style=\"text-align: right;\">0.478666</td><td style=\"text-align: right;\">        0.886891</td><td style=\"text-align: right;\">    0.301688</td></tr>\n",
       "<tr><td>train_fn_967f3bb2</td><td style=\"text-align: right;\">  0.551611</td><td style=\"text-align: right;\">     0.168778  </td><td style=\"text-align: right;\">                     3</td><td style=\"text-align: right;\">0.718498</td><td style=\"text-align: right;\">        0.549213</td><td style=\"text-align: right;\">    0.719882</td></tr>\n",
       "<tr><td>train_fn_974210f1</td><td style=\"text-align: right;\">  0.822485</td><td style=\"text-align: right;\">    -0.175918  </td><td style=\"text-align: right;\">                     5</td><td style=\"text-align: right;\">0.47413 </td><td style=\"text-align: right;\">        0.920449</td><td style=\"text-align: right;\">    0.227222</td></tr>\n",
       "<tr><td>train_fn_97ff9c84</td><td style=\"text-align: right;\">  0.805391</td><td style=\"text-align: right;\">    -0.213391  </td><td style=\"text-align: right;\">                     7</td><td style=\"text-align: right;\">0.457657</td><td style=\"text-align: right;\">        0.898577</td><td style=\"text-align: right;\">    0.282156</td></tr>\n",
       "<tr><td>train_fn_991c70d1</td><td style=\"text-align: right;\">  0.796187</td><td style=\"text-align: right;\">    -0.0842479 </td><td style=\"text-align: right;\">                     5</td><td style=\"text-align: right;\">0.502621</td><td style=\"text-align: right;\">        0.924045</td><td style=\"text-align: right;\">    0.211844</td></tr>\n",
       "<tr><td>train_fn_999109d8</td><td style=\"text-align: right;\">  0.805391</td><td style=\"text-align: right;\">    -0.105234  </td><td style=\"text-align: right;\">                     6</td><td style=\"text-align: right;\">0.486887</td><td style=\"text-align: right;\">        0.934382</td><td style=\"text-align: right;\">    0.189337</td></tr>\n",
       "<tr><td>train_fn_9a0326fc</td><td style=\"text-align: right;\">  0.804076</td><td style=\"text-align: right;\">    -0.166886  </td><td style=\"text-align: right;\">                     7</td><td style=\"text-align: right;\">0.485331</td><td style=\"text-align: right;\">        0.899625</td><td style=\"text-align: right;\">    0.277161</td></tr>\n",
       "<tr><td>train_fn_9e7b9f4e</td><td style=\"text-align: right;\">  0.580539</td><td style=\"text-align: right;\">     0.0625822 </td><td style=\"text-align: right;\">                     3</td><td style=\"text-align: right;\">0.636538</td><td style=\"text-align: right;\">        0.568539</td><td style=\"text-align: right;\">    0.637705</td></tr>\n",
       "<tr><td>train_fn_a0f705bc</td><td style=\"text-align: right;\">  0.796187</td><td style=\"text-align: right;\">    -0.15394   </td><td style=\"text-align: right;\">                     5</td><td style=\"text-align: right;\">0.477468</td><td style=\"text-align: right;\">        0.905918</td><td style=\"text-align: right;\">    0.25764 </td></tr>\n",
       "<tr><td>train_fn_a1e42247</td><td style=\"text-align: right;\">  0.581854</td><td style=\"text-align: right;\">     0.103814  </td><td style=\"text-align: right;\">                     3</td><td style=\"text-align: right;\">0.66307 </td><td style=\"text-align: right;\">        0.563146</td><td style=\"text-align: right;\">    0.636584</td></tr>\n",
       "<tr><td>train_fn_a2a4272c</td><td style=\"text-align: right;\">  0.817226</td><td style=\"text-align: right;\">    -0.142897  </td><td style=\"text-align: right;\">                     5</td><td style=\"text-align: right;\">0.49571 </td><td style=\"text-align: right;\">        0.914457</td><td style=\"text-align: right;\">    0.235705</td></tr>\n",
       "<tr><td>train_fn_a48f7494</td><td style=\"text-align: right;\">  0.580539</td><td style=\"text-align: right;\">     0.0682151 </td><td style=\"text-align: right;\">                     3</td><td style=\"text-align: right;\">0.635767</td><td style=\"text-align: right;\">        0.556554</td><td style=\"text-align: right;\">    0.637757</td></tr>\n",
       "<tr><td>train_fn_aa5f7367</td><td style=\"text-align: right;\">  0.580539</td><td style=\"text-align: right;\">     0.0661577 </td><td style=\"text-align: right;\">                     3</td><td style=\"text-align: right;\">0.636066</td><td style=\"text-align: right;\">        0.561049</td><td style=\"text-align: right;\">    0.637838</td></tr>\n",
       "<tr><td>train_fn_aaee3ede</td><td style=\"text-align: right;\">  0.771203</td><td style=\"text-align: right;\">    -0.279323  </td><td style=\"text-align: right;\">                     7</td><td style=\"text-align: right;\">0.464937</td><td style=\"text-align: right;\">        0.806442</td><td style=\"text-align: right;\">    0.44629 </td></tr>\n",
       "<tr><td>train_fn_b63b2371</td><td style=\"text-align: right;\">  0.813281</td><td style=\"text-align: right;\">    -0.0870586 </td><td style=\"text-align: right;\">                     9</td><td style=\"text-align: right;\">0.517101</td><td style=\"text-align: right;\">        0.929888</td><td style=\"text-align: right;\">    0.215465</td></tr>\n",
       "<tr><td>train_fn_b9646c33</td><td style=\"text-align: right;\">  0.583169</td><td style=\"text-align: right;\">     0.0885485 </td><td style=\"text-align: right;\">                     3</td><td style=\"text-align: right;\">0.657804</td><td style=\"text-align: right;\">        0.56794 </td><td style=\"text-align: right;\">    0.670402</td></tr>\n",
       "<tr><td>train_fn_c321fa8a</td><td style=\"text-align: right;\">  0.801446</td><td style=\"text-align: right;\">    -0.178239  </td><td style=\"text-align: right;\">                     7</td><td style=\"text-align: right;\">0.47919 </td><td style=\"text-align: right;\">        0.894532</td><td style=\"text-align: right;\">    0.284242</td></tr>\n",
       "<tr><td>train_fn_c51dadea</td><td style=\"text-align: right;\">  0.81854 </td><td style=\"text-align: right;\">    -0.159739  </td><td style=\"text-align: right;\">                     5</td><td style=\"text-align: right;\">0.47192 </td><td style=\"text-align: right;\">        0.926292</td><td style=\"text-align: right;\">    0.205909</td></tr>\n",
       "<tr><td>train_fn_c8da1df7</td><td style=\"text-align: right;\">  0.802761</td><td style=\"text-align: right;\">    -0.171355  </td><td style=\"text-align: right;\">                     4</td><td style=\"text-align: right;\">0.476397</td><td style=\"text-align: right;\">        0.895431</td><td style=\"text-align: right;\">    0.259048</td></tr>\n",
       "<tr><td>train_fn_cdd21384</td><td style=\"text-align: right;\">  0.55687 </td><td style=\"text-align: right;\">     0.0809342 </td><td style=\"text-align: right;\">                     3</td><td style=\"text-align: right;\">0.635505</td><td style=\"text-align: right;\">        0.559401</td><td style=\"text-align: right;\">    0.637574</td></tr>\n",
       "<tr><td>train_fn_d971ac72</td><td style=\"text-align: right;\">  0.571335</td><td style=\"text-align: right;\">     0.141088  </td><td style=\"text-align: right;\">                     3</td><td style=\"text-align: right;\">0.701945</td><td style=\"text-align: right;\">        0.55221 </td><td style=\"text-align: right;\">    0.700116</td></tr>\n",
       "<tr><td>train_fn_dbd75a86</td><td style=\"text-align: right;\">  0.814596</td><td style=\"text-align: right;\">    -0.097779  </td><td style=\"text-align: right;\">                     5</td><td style=\"text-align: right;\">0.507598</td><td style=\"text-align: right;\">        0.92839 </td><td style=\"text-align: right;\">    0.202955</td></tr>\n",
       "<tr><td>train_fn_dc668998</td><td style=\"text-align: right;\">  0.639711</td><td style=\"text-align: right;\">     0.0336276 </td><td style=\"text-align: right;\">                     3</td><td style=\"text-align: right;\">0.630275</td><td style=\"text-align: right;\">        0.563296</td><td style=\"text-align: right;\">    0.639987</td></tr>\n",
       "<tr><td>train_fn_dc69c8fa</td><td style=\"text-align: right;\">  0.634451</td><td style=\"text-align: right;\">     0.0305965 </td><td style=\"text-align: right;\">                     3</td><td style=\"text-align: right;\">0.63082 </td><td style=\"text-align: right;\">        0.573633</td><td style=\"text-align: right;\">    0.638457</td></tr>\n",
       "<tr><td>train_fn_de59a64b</td><td style=\"text-align: right;\">  0.731755</td><td style=\"text-align: right;\">    -0.147986  </td><td style=\"text-align: right;\">                     3</td><td style=\"text-align: right;\">0.539176</td><td style=\"text-align: right;\">        0.696629</td><td style=\"text-align: right;\">    0.593237</td></tr>\n",
       "<tr><td>train_fn_e02c9976</td><td style=\"text-align: right;\">  0.792242</td><td style=\"text-align: right;\">    -0.149272  </td><td style=\"text-align: right;\">                     9</td><td style=\"text-align: right;\">0.487437</td><td style=\"text-align: right;\">        0.898127</td><td style=\"text-align: right;\">    0.282258</td></tr>\n",
       "<tr><td>train_fn_e0e7f7f3</td><td style=\"text-align: right;\">  0.742275</td><td style=\"text-align: right;\">    -0.198472  </td><td style=\"text-align: right;\">                     3</td><td style=\"text-align: right;\">0.511801</td><td style=\"text-align: right;\">        0.722996</td><td style=\"text-align: right;\">    0.556527</td></tr>\n",
       "<tr><td>train_fn_e5f32fd1</td><td style=\"text-align: right;\">  0.601578</td><td style=\"text-align: right;\">     0.0590353 </td><td style=\"text-align: right;\">                     3</td><td style=\"text-align: right;\">0.635868</td><td style=\"text-align: right;\">        0.56809 </td><td style=\"text-align: right;\">    0.651871</td></tr>\n",
       "<tr><td>train_fn_e62ac370</td><td style=\"text-align: right;\">  0.529257</td><td style=\"text-align: right;\">     0.125946  </td><td style=\"text-align: right;\">                     3</td><td style=\"text-align: right;\">0.63987 </td><td style=\"text-align: right;\">        0.557603</td><td style=\"text-align: right;\">    0.637551</td></tr>\n",
       "<tr><td>train_fn_ebee44c4</td><td style=\"text-align: right;\">  0.811966</td><td style=\"text-align: right;\">    -0.0323519 </td><td style=\"text-align: right;\">                     5</td><td style=\"text-align: right;\">0.554219</td><td style=\"text-align: right;\">        0.920449</td><td style=\"text-align: right;\">    0.211914</td></tr>\n",
       "<tr><td>train_fn_ec7aa763</td><td style=\"text-align: right;\">  0.810651</td><td style=\"text-align: right;\">    -0.0602255 </td><td style=\"text-align: right;\">                     5</td><td style=\"text-align: right;\">0.528496</td><td style=\"text-align: right;\">        0.924944</td><td style=\"text-align: right;\">    0.19893 </td></tr>\n",
       "<tr><td>train_fn_ed8862cd</td><td style=\"text-align: right;\">  0.797502</td><td style=\"text-align: right;\">    -0.216016  </td><td style=\"text-align: right;\">                     6</td><td style=\"text-align: right;\">0.459132</td><td style=\"text-align: right;\">        0.887041</td><td style=\"text-align: right;\">    0.303965</td></tr>\n",
       "<tr><td>train_fn_f12c2024</td><td style=\"text-align: right;\">  0.788297</td><td style=\"text-align: right;\">    -0.310942  </td><td style=\"text-align: right;\">                     7</td><td style=\"text-align: right;\">0.451977</td><td style=\"text-align: right;\">        0.819476</td><td style=\"text-align: right;\">    0.432399</td></tr>\n",
       "<tr><td>train_fn_f152234b</td><td style=\"text-align: right;\">  0.801446</td><td style=\"text-align: right;\">    -0.209418  </td><td style=\"text-align: right;\">                    12</td><td style=\"text-align: right;\">0.469539</td><td style=\"text-align: right;\">        0.881498</td><td style=\"text-align: right;\">    0.304611</td></tr>\n",
       "<tr><td>train_fn_f388285a</td><td style=\"text-align: right;\">  0.800131</td><td style=\"text-align: right;\">    -0.230428  </td><td style=\"text-align: right;\">                     6</td><td style=\"text-align: right;\">0.457402</td><td style=\"text-align: right;\">        0.881948</td><td style=\"text-align: right;\">    0.314616</td></tr>\n",
       "<tr><td>train_fn_f483c086</td><td style=\"text-align: right;\">  0.804076</td><td style=\"text-align: right;\">    -0.0751388 </td><td style=\"text-align: right;\">                     5</td><td style=\"text-align: right;\">0.520904</td><td style=\"text-align: right;\">        0.918202</td><td style=\"text-align: right;\">    0.218963</td></tr>\n",
       "<tr><td>train_fn_f545ee5d</td><td style=\"text-align: right;\">  0.793557</td><td style=\"text-align: right;\">    -0.301898  </td><td style=\"text-align: right;\">                     5</td><td style=\"text-align: right;\">0.43877 </td><td style=\"text-align: right;\">        0.842397</td><td style=\"text-align: right;\">    0.381833</td></tr>\n",
       "<tr><td>train_fn_f66568da</td><td style=\"text-align: right;\">  0.827745</td><td style=\"text-align: right;\">     0.00745602</td><td style=\"text-align: right;\">                     6</td><td style=\"text-align: right;\">0.58287 </td><td style=\"text-align: right;\">        0.933783</td><td style=\"text-align: right;\">    0.184247</td></tr>\n",
       "<tr><td>train_fn_fc12de9b</td><td style=\"text-align: right;\">  0.64497 </td><td style=\"text-align: right;\">     0.0103791 </td><td style=\"text-align: right;\">                     3</td><td style=\"text-align: right;\">0.618422</td><td style=\"text-align: right;\">        0.587416</td><td style=\"text-align: right;\">    0.634722</td></tr>\n",
       "</tbody>\n",
       "</table>\n",
       "</div>\n",
       "<style>\n",
       ".trialProgress {\n",
       "  display: flex;\n",
       "  flex-direction: column;\n",
       "  color: var(--jp-ui-font-color1);\n",
       "}\n",
       ".trialProgress h3 {\n",
       "  font-weight: bold;\n",
       "}\n",
       ".trialProgress td {\n",
       "  white-space: nowrap;\n",
       "}\n",
       "</style>\n"
      ],
      "text/plain": [
       "<IPython.core.display.HTML object>"
      ]
     },
     "metadata": {},
     "output_type": "display_data"
    },
    {
     "name": "stderr",
     "output_type": "stream",
     "text": [
      "\u001b[36m(train_fn pid=483)\u001b[0m /opt/conda/lib/python3.10/site-packages/transformers/tokenization_utils_base.py:1601: FutureWarning: `clean_up_tokenization_spaces` was not set. It will be set to `True` by default. This behavior will be depracted in transformers v4.45, and will be then set to `False` by default. For more details check this issue: https://github.com/huggingface/transformers/issues/31884\n",
      "\u001b[36m(train_fn pid=483)\u001b[0m   warnings.warn(\n",
      "\u001b[36m(train_fn pid=585)\u001b[0m /opt/conda/lib/python3.10/site-packages/transformers/tokenization_utils_base.py:1601: FutureWarning: `clean_up_tokenization_spaces` was not set. It will be set to `True` by default. This behavior will be depracted in transformers v4.45, and will be then set to `False` by default. For more details check this issue: https://github.com/huggingface/transformers/issues/31884\n",
      "\u001b[36m(train_fn pid=585)\u001b[0m   warnings.warn(\n",
      "\u001b[36m(train_fn pid=658)\u001b[0m /opt/conda/lib/python3.10/site-packages/transformers/tokenization_utils_base.py:1601: FutureWarning: `clean_up_tokenization_spaces` was not set. It will be set to `True` by default. This behavior will be depracted in transformers v4.45, and will be then set to `False` by default. For more details check this issue: https://github.com/huggingface/transformers/issues/31884\n",
      "\u001b[36m(train_fn pid=658)\u001b[0m   warnings.warn(\n",
      "\u001b[36m(train_fn pid=744)\u001b[0m /opt/conda/lib/python3.10/site-packages/transformers/tokenization_utils_base.py:1601: FutureWarning: `clean_up_tokenization_spaces` was not set. It will be set to `True` by default. This behavior will be depracted in transformers v4.45, and will be then set to `False` by default. For more details check this issue: https://github.com/huggingface/transformers/issues/31884\n",
      "\u001b[36m(train_fn pid=744)\u001b[0m   warnings.warn(\n",
      "\u001b[36m(train_fn pid=818)\u001b[0m /opt/conda/lib/python3.10/site-packages/transformers/tokenization_utils_base.py:1601: FutureWarning: `clean_up_tokenization_spaces` was not set. It will be set to `True` by default. This behavior will be depracted in transformers v4.45, and will be then set to `False` by default. For more details check this issue: https://github.com/huggingface/transformers/issues/31884\n",
      "\u001b[36m(train_fn pid=818)\u001b[0m   warnings.warn(\n",
      "\u001b[36m(train_fn pid=902)\u001b[0m /opt/conda/lib/python3.10/site-packages/transformers/tokenization_utils_base.py:1601: FutureWarning: `clean_up_tokenization_spaces` was not set. It will be set to `True` by default. This behavior will be depracted in transformers v4.45, and will be then set to `False` by default. For more details check this issue: https://github.com/huggingface/transformers/issues/31884\n",
      "\u001b[36m(train_fn pid=902)\u001b[0m   warnings.warn(\n",
      "\u001b[36m(train_fn pid=976)\u001b[0m /opt/conda/lib/python3.10/site-packages/transformers/tokenization_utils_base.py:1601: FutureWarning: `clean_up_tokenization_spaces` was not set. It will be set to `True` by default. This behavior will be depracted in transformers v4.45, and will be then set to `False` by default. For more details check this issue: https://github.com/huggingface/transformers/issues/31884\n",
      "\u001b[36m(train_fn pid=976)\u001b[0m   warnings.warn(\n",
      "\u001b[36m(train_fn pid=1070)\u001b[0m /opt/conda/lib/python3.10/site-packages/transformers/tokenization_utils_base.py:1601: FutureWarning: `clean_up_tokenization_spaces` was not set. It will be set to `True` by default. This behavior will be depracted in transformers v4.45, and will be then set to `False` by default. For more details check this issue: https://github.com/huggingface/transformers/issues/31884\n",
      "\u001b[36m(train_fn pid=1070)\u001b[0m   warnings.warn(\n",
      "\u001b[36m(train_fn pid=1143)\u001b[0m /opt/conda/lib/python3.10/site-packages/transformers/tokenization_utils_base.py:1601: FutureWarning: `clean_up_tokenization_spaces` was not set. It will be set to `True` by default. This behavior will be depracted in transformers v4.45, and will be then set to `False` by default. For more details check this issue: https://github.com/huggingface/transformers/issues/31884\n",
      "\u001b[36m(train_fn pid=1143)\u001b[0m   warnings.warn(\n",
      "\u001b[36m(train_fn pid=1232)\u001b[0m /opt/conda/lib/python3.10/site-packages/transformers/tokenization_utils_base.py:1601: FutureWarning: `clean_up_tokenization_spaces` was not set. It will be set to `True` by default. This behavior will be depracted in transformers v4.45, and will be then set to `False` by default. For more details check this issue: https://github.com/huggingface/transformers/issues/31884\n",
      "\u001b[36m(train_fn pid=1232)\u001b[0m   warnings.warn(\n",
      "\u001b[36m(train_fn pid=1321)\u001b[0m /opt/conda/lib/python3.10/site-packages/transformers/tokenization_utils_base.py:1601: FutureWarning: `clean_up_tokenization_spaces` was not set. It will be set to `True` by default. This behavior will be depracted in transformers v4.45, and will be then set to `False` by default. For more details check this issue: https://github.com/huggingface/transformers/issues/31884\n",
      "\u001b[36m(train_fn pid=1321)\u001b[0m   warnings.warn(\n",
      "\u001b[36m(train_fn pid=1412)\u001b[0m /opt/conda/lib/python3.10/site-packages/transformers/tokenization_utils_base.py:1601: FutureWarning: `clean_up_tokenization_spaces` was not set. It will be set to `True` by default. This behavior will be depracted in transformers v4.45, and will be then set to `False` by default. For more details check this issue: https://github.com/huggingface/transformers/issues/31884\n",
      "\u001b[36m(train_fn pid=1412)\u001b[0m   warnings.warn(\n",
      "\u001b[36m(train_fn pid=1497)\u001b[0m /opt/conda/lib/python3.10/site-packages/transformers/tokenization_utils_base.py:1601: FutureWarning: `clean_up_tokenization_spaces` was not set. It will be set to `True` by default. This behavior will be depracted in transformers v4.45, and will be then set to `False` by default. For more details check this issue: https://github.com/huggingface/transformers/issues/31884\n",
      "\u001b[36m(train_fn pid=1497)\u001b[0m   warnings.warn(\n",
      "\u001b[36m(train_fn pid=1583)\u001b[0m /opt/conda/lib/python3.10/site-packages/transformers/tokenization_utils_base.py:1601: FutureWarning: `clean_up_tokenization_spaces` was not set. It will be set to `True` by default. This behavior will be depracted in transformers v4.45, and will be then set to `False` by default. For more details check this issue: https://github.com/huggingface/transformers/issues/31884\n",
      "\u001b[36m(train_fn pid=1583)\u001b[0m   warnings.warn(\n",
      "\u001b[36m(train_fn pid=1670)\u001b[0m /opt/conda/lib/python3.10/site-packages/transformers/tokenization_utils_base.py:1601: FutureWarning: `clean_up_tokenization_spaces` was not set. It will be set to `True` by default. This behavior will be depracted in transformers v4.45, and will be then set to `False` by default. For more details check this issue: https://github.com/huggingface/transformers/issues/31884\n",
      "\u001b[36m(train_fn pid=1670)\u001b[0m   warnings.warn(\n",
      "\u001b[36m(train_fn pid=1744)\u001b[0m /opt/conda/lib/python3.10/site-packages/transformers/tokenization_utils_base.py:1601: FutureWarning: `clean_up_tokenization_spaces` was not set. It will be set to `True` by default. This behavior will be depracted in transformers v4.45, and will be then set to `False` by default. For more details check this issue: https://github.com/huggingface/transformers/issues/31884\n",
      "\u001b[36m(train_fn pid=1744)\u001b[0m   warnings.warn(\n",
      "\u001b[36m(train_fn pid=1837)\u001b[0m /opt/conda/lib/python3.10/site-packages/transformers/tokenization_utils_base.py:1601: FutureWarning: `clean_up_tokenization_spaces` was not set. It will be set to `True` by default. This behavior will be depracted in transformers v4.45, and will be then set to `False` by default. For more details check this issue: https://github.com/huggingface/transformers/issues/31884\n",
      "\u001b[36m(train_fn pid=1837)\u001b[0m   warnings.warn(\n",
      "\u001b[36m(train_fn pid=1921)\u001b[0m /opt/conda/lib/python3.10/site-packages/transformers/tokenization_utils_base.py:1601: FutureWarning: `clean_up_tokenization_spaces` was not set. It will be set to `True` by default. This behavior will be depracted in transformers v4.45, and will be then set to `False` by default. For more details check this issue: https://github.com/huggingface/transformers/issues/31884\n",
      "\u001b[36m(train_fn pid=1921)\u001b[0m   warnings.warn(\n",
      "\u001b[36m(train_fn pid=2008)\u001b[0m /opt/conda/lib/python3.10/site-packages/transformers/tokenization_utils_base.py:1601: FutureWarning: `clean_up_tokenization_spaces` was not set. It will be set to `True` by default. This behavior will be depracted in transformers v4.45, and will be then set to `False` by default. For more details check this issue: https://github.com/huggingface/transformers/issues/31884\n",
      "\u001b[36m(train_fn pid=2008)\u001b[0m   warnings.warn(\n",
      "\u001b[36m(train_fn pid=2102)\u001b[0m /opt/conda/lib/python3.10/site-packages/transformers/tokenization_utils_base.py:1601: FutureWarning: `clean_up_tokenization_spaces` was not set. It will be set to `True` by default. This behavior will be depracted in transformers v4.45, and will be then set to `False` by default. For more details check this issue: https://github.com/huggingface/transformers/issues/31884\n",
      "\u001b[36m(train_fn pid=2102)\u001b[0m   warnings.warn(\n",
      "\u001b[36m(train_fn pid=2184)\u001b[0m /opt/conda/lib/python3.10/site-packages/transformers/tokenization_utils_base.py:1601: FutureWarning: `clean_up_tokenization_spaces` was not set. It will be set to `True` by default. This behavior will be depracted in transformers v4.45, and will be then set to `False` by default. For more details check this issue: https://github.com/huggingface/transformers/issues/31884\n",
      "\u001b[36m(train_fn pid=2184)\u001b[0m   warnings.warn(\n",
      "\u001b[36m(train_fn pid=2283)\u001b[0m /opt/conda/lib/python3.10/site-packages/transformers/tokenization_utils_base.py:1601: FutureWarning: `clean_up_tokenization_spaces` was not set. It will be set to `True` by default. This behavior will be depracted in transformers v4.45, and will be then set to `False` by default. For more details check this issue: https://github.com/huggingface/transformers/issues/31884\n",
      "\u001b[36m(train_fn pid=2283)\u001b[0m   warnings.warn(\n",
      "\u001b[36m(train_fn pid=2320)\u001b[0m /opt/conda/lib/python3.10/site-packages/transformers/tokenization_utils_base.py:1601: FutureWarning: `clean_up_tokenization_spaces` was not set. It will be set to `True` by default. This behavior will be depracted in transformers v4.45, and will be then set to `False` by default. For more details check this issue: https://github.com/huggingface/transformers/issues/31884\n",
      "\u001b[36m(train_fn pid=2320)\u001b[0m   warnings.warn(\n",
      "\u001b[36m(train_fn pid=2416)\u001b[0m /opt/conda/lib/python3.10/site-packages/transformers/tokenization_utils_base.py:1601: FutureWarning: `clean_up_tokenization_spaces` was not set. It will be set to `True` by default. This behavior will be depracted in transformers v4.45, and will be then set to `False` by default. For more details check this issue: https://github.com/huggingface/transformers/issues/31884\n",
      "\u001b[36m(train_fn pid=2416)\u001b[0m   warnings.warn(\n",
      "\u001b[36m(train_fn pid=2499)\u001b[0m /opt/conda/lib/python3.10/site-packages/transformers/tokenization_utils_base.py:1601: FutureWarning: `clean_up_tokenization_spaces` was not set. It will be set to `True` by default. This behavior will be depracted in transformers v4.45, and will be then set to `False` by default. For more details check this issue: https://github.com/huggingface/transformers/issues/31884\n",
      "\u001b[36m(train_fn pid=2499)\u001b[0m   warnings.warn(\n",
      "\u001b[36m(train_fn pid=2574)\u001b[0m /opt/conda/lib/python3.10/site-packages/transformers/tokenization_utils_base.py:1601: FutureWarning: `clean_up_tokenization_spaces` was not set. It will be set to `True` by default. This behavior will be depracted in transformers v4.45, and will be then set to `False` by default. For more details check this issue: https://github.com/huggingface/transformers/issues/31884\n",
      "\u001b[36m(train_fn pid=2574)\u001b[0m   warnings.warn(\n",
      "\u001b[36m(train_fn pid=2669)\u001b[0m /opt/conda/lib/python3.10/site-packages/transformers/tokenization_utils_base.py:1601: FutureWarning: `clean_up_tokenization_spaces` was not set. It will be set to `True` by default. This behavior will be depracted in transformers v4.45, and will be then set to `False` by default. For more details check this issue: https://github.com/huggingface/transformers/issues/31884\n",
      "\u001b[36m(train_fn pid=2669)\u001b[0m   warnings.warn(\n",
      "\u001b[36m(train_fn pid=2745)\u001b[0m /opt/conda/lib/python3.10/site-packages/transformers/tokenization_utils_base.py:1601: FutureWarning: `clean_up_tokenization_spaces` was not set. It will be set to `True` by default. This behavior will be depracted in transformers v4.45, and will be then set to `False` by default. For more details check this issue: https://github.com/huggingface/transformers/issues/31884\n",
      "\u001b[36m(train_fn pid=2745)\u001b[0m   warnings.warn(\n",
      "\u001b[36m(train_fn pid=2836)\u001b[0m /opt/conda/lib/python3.10/site-packages/transformers/tokenization_utils_base.py:1601: FutureWarning: `clean_up_tokenization_spaces` was not set. It will be set to `True` by default. This behavior will be depracted in transformers v4.45, and will be then set to `False` by default. For more details check this issue: https://github.com/huggingface/transformers/issues/31884\n",
      "\u001b[36m(train_fn pid=2836)\u001b[0m   warnings.warn(\n",
      "\u001b[36m(train_fn pid=2906)\u001b[0m /opt/conda/lib/python3.10/site-packages/transformers/tokenization_utils_base.py:1601: FutureWarning: `clean_up_tokenization_spaces` was not set. It will be set to `True` by default. This behavior will be depracted in transformers v4.45, and will be then set to `False` by default. For more details check this issue: https://github.com/huggingface/transformers/issues/31884\n",
      "\u001b[36m(train_fn pid=2906)\u001b[0m   warnings.warn(\n",
      "\u001b[36m(train_fn pid=2993)\u001b[0m /opt/conda/lib/python3.10/site-packages/transformers/tokenization_utils_base.py:1601: FutureWarning: `clean_up_tokenization_spaces` was not set. It will be set to `True` by default. This behavior will be depracted in transformers v4.45, and will be then set to `False` by default. For more details check this issue: https://github.com/huggingface/transformers/issues/31884\n",
      "\u001b[36m(train_fn pid=2993)\u001b[0m   warnings.warn(\n",
      "\u001b[36m(train_fn pid=3074)\u001b[0m /opt/conda/lib/python3.10/site-packages/transformers/tokenization_utils_base.py:1601: FutureWarning: `clean_up_tokenization_spaces` was not set. It will be set to `True` by default. This behavior will be depracted in transformers v4.45, and will be then set to `False` by default. For more details check this issue: https://github.com/huggingface/transformers/issues/31884\n",
      "\u001b[36m(train_fn pid=3074)\u001b[0m   warnings.warn(\n",
      "\u001b[36m(train_fn pid=3149)\u001b[0m /opt/conda/lib/python3.10/site-packages/transformers/tokenization_utils_base.py:1601: FutureWarning: `clean_up_tokenization_spaces` was not set. It will be set to `True` by default. This behavior will be depracted in transformers v4.45, and will be then set to `False` by default. For more details check this issue: https://github.com/huggingface/transformers/issues/31884\n",
      "\u001b[36m(train_fn pid=3149)\u001b[0m   warnings.warn(\n",
      "\u001b[36m(train_fn pid=3241)\u001b[0m /opt/conda/lib/python3.10/site-packages/transformers/tokenization_utils_base.py:1601: FutureWarning: `clean_up_tokenization_spaces` was not set. It will be set to `True` by default. This behavior will be depracted in transformers v4.45, and will be then set to `False` by default. For more details check this issue: https://github.com/huggingface/transformers/issues/31884\n",
      "\u001b[36m(train_fn pid=3241)\u001b[0m   warnings.warn(\n",
      "\u001b[36m(train_fn pid=3326)\u001b[0m /opt/conda/lib/python3.10/site-packages/transformers/tokenization_utils_base.py:1601: FutureWarning: `clean_up_tokenization_spaces` was not set. It will be set to `True` by default. This behavior will be depracted in transformers v4.45, and will be then set to `False` by default. For more details check this issue: https://github.com/huggingface/transformers/issues/31884\n",
      "\u001b[36m(train_fn pid=3326)\u001b[0m   warnings.warn(\n",
      "\u001b[36m(train_fn pid=3427)\u001b[0m /opt/conda/lib/python3.10/site-packages/transformers/tokenization_utils_base.py:1601: FutureWarning: `clean_up_tokenization_spaces` was not set. It will be set to `True` by default. This behavior will be depracted in transformers v4.45, and will be then set to `False` by default. For more details check this issue: https://github.com/huggingface/transformers/issues/31884\n",
      "\u001b[36m(train_fn pid=3427)\u001b[0m   warnings.warn(\n",
      "\u001b[36m(train_fn pid=3502)\u001b[0m /opt/conda/lib/python3.10/site-packages/transformers/tokenization_utils_base.py:1601: FutureWarning: `clean_up_tokenization_spaces` was not set. It will be set to `True` by default. This behavior will be depracted in transformers v4.45, and will be then set to `False` by default. For more details check this issue: https://github.com/huggingface/transformers/issues/31884\n",
      "\u001b[36m(train_fn pid=3502)\u001b[0m   warnings.warn(\n",
      "\u001b[36m(train_fn pid=3586)\u001b[0m /opt/conda/lib/python3.10/site-packages/transformers/tokenization_utils_base.py:1601: FutureWarning: `clean_up_tokenization_spaces` was not set. It will be set to `True` by default. This behavior will be depracted in transformers v4.45, and will be then set to `False` by default. For more details check this issue: https://github.com/huggingface/transformers/issues/31884\n",
      "\u001b[36m(train_fn pid=3586)\u001b[0m   warnings.warn(\n",
      "\u001b[36m(train_fn pid=3661)\u001b[0m /opt/conda/lib/python3.10/site-packages/transformers/tokenization_utils_base.py:1601: FutureWarning: `clean_up_tokenization_spaces` was not set. It will be set to `True` by default. This behavior will be depracted in transformers v4.45, and will be then set to `False` by default. For more details check this issue: https://github.com/huggingface/transformers/issues/31884\n",
      "\u001b[36m(train_fn pid=3661)\u001b[0m   warnings.warn(\n",
      "\u001b[36m(train_fn pid=3756)\u001b[0m /opt/conda/lib/python3.10/site-packages/transformers/tokenization_utils_base.py:1601: FutureWarning: `clean_up_tokenization_spaces` was not set. It will be set to `True` by default. This behavior will be depracted in transformers v4.45, and will be then set to `False` by default. For more details check this issue: https://github.com/huggingface/transformers/issues/31884\n",
      "\u001b[36m(train_fn pid=3756)\u001b[0m   warnings.warn(\n",
      "\u001b[36m(train_fn pid=3831)\u001b[0m /opt/conda/lib/python3.10/site-packages/transformers/tokenization_utils_base.py:1601: FutureWarning: `clean_up_tokenization_spaces` was not set. It will be set to `True` by default. This behavior will be depracted in transformers v4.45, and will be then set to `False` by default. For more details check this issue: https://github.com/huggingface/transformers/issues/31884\n",
      "\u001b[36m(train_fn pid=3831)\u001b[0m   warnings.warn(\n",
      "\u001b[36m(train_fn pid=3918)\u001b[0m /opt/conda/lib/python3.10/site-packages/transformers/tokenization_utils_base.py:1601: FutureWarning: `clean_up_tokenization_spaces` was not set. It will be set to `True` by default. This behavior will be depracted in transformers v4.45, and will be then set to `False` by default. For more details check this issue: https://github.com/huggingface/transformers/issues/31884\n",
      "\u001b[36m(train_fn pid=3918)\u001b[0m   warnings.warn(\n",
      "\u001b[36m(train_fn pid=3993)\u001b[0m /opt/conda/lib/python3.10/site-packages/transformers/tokenization_utils_base.py:1601: FutureWarning: `clean_up_tokenization_spaces` was not set. It will be set to `True` by default. This behavior will be depracted in transformers v4.45, and will be then set to `False` by default. For more details check this issue: https://github.com/huggingface/transformers/issues/31884\n",
      "\u001b[36m(train_fn pid=3993)\u001b[0m   warnings.warn(\n",
      "\u001b[36m(train_fn pid=4075)\u001b[0m /opt/conda/lib/python3.10/site-packages/transformers/tokenization_utils_base.py:1601: FutureWarning: `clean_up_tokenization_spaces` was not set. It will be set to `True` by default. This behavior will be depracted in transformers v4.45, and will be then set to `False` by default. For more details check this issue: https://github.com/huggingface/transformers/issues/31884\n",
      "\u001b[36m(train_fn pid=4075)\u001b[0m   warnings.warn(\n",
      "\u001b[36m(train_fn pid=4150)\u001b[0m /opt/conda/lib/python3.10/site-packages/transformers/tokenization_utils_base.py:1601: FutureWarning: `clean_up_tokenization_spaces` was not set. It will be set to `True` by default. This behavior will be depracted in transformers v4.45, and will be then set to `False` by default. For more details check this issue: https://github.com/huggingface/transformers/issues/31884\n",
      "\u001b[36m(train_fn pid=4150)\u001b[0m   warnings.warn(\n",
      "\u001b[36m(train_fn pid=4235)\u001b[0m /opt/conda/lib/python3.10/site-packages/transformers/tokenization_utils_base.py:1601: FutureWarning: `clean_up_tokenization_spaces` was not set. It will be set to `True` by default. This behavior will be depracted in transformers v4.45, and will be then set to `False` by default. For more details check this issue: https://github.com/huggingface/transformers/issues/31884\n",
      "\u001b[36m(train_fn pid=4235)\u001b[0m   warnings.warn(\n",
      "\u001b[36m(train_fn pid=4328)\u001b[0m /opt/conda/lib/python3.10/site-packages/transformers/tokenization_utils_base.py:1601: FutureWarning: `clean_up_tokenization_spaces` was not set. It will be set to `True` by default. This behavior will be depracted in transformers v4.45, and will be then set to `False` by default. For more details check this issue: https://github.com/huggingface/transformers/issues/31884\n",
      "\u001b[36m(train_fn pid=4328)\u001b[0m   warnings.warn(\n",
      "\u001b[36m(train_fn pid=4416)\u001b[0m /opt/conda/lib/python3.10/site-packages/transformers/tokenization_utils_base.py:1601: FutureWarning: `clean_up_tokenization_spaces` was not set. It will be set to `True` by default. This behavior will be depracted in transformers v4.45, and will be then set to `False` by default. For more details check this issue: https://github.com/huggingface/transformers/issues/31884\n",
      "\u001b[36m(train_fn pid=4416)\u001b[0m   warnings.warn(\n",
      "\u001b[36m(train_fn pid=4485)\u001b[0m /opt/conda/lib/python3.10/site-packages/transformers/tokenization_utils_base.py:1601: FutureWarning: `clean_up_tokenization_spaces` was not set. It will be set to `True` by default. This behavior will be depracted in transformers v4.45, and will be then set to `False` by default. For more details check this issue: https://github.com/huggingface/transformers/issues/31884\n",
      "\u001b[36m(train_fn pid=4485)\u001b[0m   warnings.warn(\n",
      "\u001b[36m(train_fn pid=4575)\u001b[0m /opt/conda/lib/python3.10/site-packages/transformers/tokenization_utils_base.py:1601: FutureWarning: `clean_up_tokenization_spaces` was not set. It will be set to `True` by default. This behavior will be depracted in transformers v4.45, and will be then set to `False` by default. For more details check this issue: https://github.com/huggingface/transformers/issues/31884\n",
      "\u001b[36m(train_fn pid=4575)\u001b[0m   warnings.warn(\n",
      "\u001b[36m(train_fn pid=4645)\u001b[0m /opt/conda/lib/python3.10/site-packages/transformers/tokenization_utils_base.py:1601: FutureWarning: `clean_up_tokenization_spaces` was not set. It will be set to `True` by default. This behavior will be depracted in transformers v4.45, and will be then set to `False` by default. For more details check this issue: https://github.com/huggingface/transformers/issues/31884\n",
      "\u001b[36m(train_fn pid=4645)\u001b[0m   warnings.warn(\n",
      "\u001b[36m(train_fn pid=4734)\u001b[0m /opt/conda/lib/python3.10/site-packages/transformers/tokenization_utils_base.py:1601: FutureWarning: `clean_up_tokenization_spaces` was not set. It will be set to `True` by default. This behavior will be depracted in transformers v4.45, and will be then set to `False` by default. For more details check this issue: https://github.com/huggingface/transformers/issues/31884\n",
      "\u001b[36m(train_fn pid=4734)\u001b[0m   warnings.warn(\n",
      "\u001b[36m(train_fn pid=4817)\u001b[0m /opt/conda/lib/python3.10/site-packages/transformers/tokenization_utils_base.py:1601: FutureWarning: `clean_up_tokenization_spaces` was not set. It will be set to `True` by default. This behavior will be depracted in transformers v4.45, and will be then set to `False` by default. For more details check this issue: https://github.com/huggingface/transformers/issues/31884\n",
      "\u001b[36m(train_fn pid=4817)\u001b[0m   warnings.warn(\n",
      "\u001b[36m(train_fn pid=4909)\u001b[0m /opt/conda/lib/python3.10/site-packages/transformers/tokenization_utils_base.py:1601: FutureWarning: `clean_up_tokenization_spaces` was not set. It will be set to `True` by default. This behavior will be depracted in transformers v4.45, and will be then set to `False` by default. For more details check this issue: https://github.com/huggingface/transformers/issues/31884\n",
      "\u001b[36m(train_fn pid=4909)\u001b[0m   warnings.warn(\n",
      "\u001b[36m(train_fn pid=4998)\u001b[0m /opt/conda/lib/python3.10/site-packages/transformers/tokenization_utils_base.py:1601: FutureWarning: `clean_up_tokenization_spaces` was not set. It will be set to `True` by default. This behavior will be depracted in transformers v4.45, and will be then set to `False` by default. For more details check this issue: https://github.com/huggingface/transformers/issues/31884\n",
      "\u001b[36m(train_fn pid=4998)\u001b[0m   warnings.warn(\n",
      "\u001b[36m(train_fn pid=5090)\u001b[0m /opt/conda/lib/python3.10/site-packages/transformers/tokenization_utils_base.py:1601: FutureWarning: `clean_up_tokenization_spaces` was not set. It will be set to `True` by default. This behavior will be depracted in transformers v4.45, and will be then set to `False` by default. For more details check this issue: https://github.com/huggingface/transformers/issues/31884\n",
      "\u001b[36m(train_fn pid=5090)\u001b[0m   warnings.warn(\n",
      "\u001b[36m(train_fn pid=5179)\u001b[0m /opt/conda/lib/python3.10/site-packages/transformers/tokenization_utils_base.py:1601: FutureWarning: `clean_up_tokenization_spaces` was not set. It will be set to `True` by default. This behavior will be depracted in transformers v4.45, and will be then set to `False` by default. For more details check this issue: https://github.com/huggingface/transformers/issues/31884\n",
      "\u001b[36m(train_fn pid=5179)\u001b[0m   warnings.warn(\n",
      "\u001b[36m(train_fn pid=5216)\u001b[0m /opt/conda/lib/python3.10/site-packages/transformers/tokenization_utils_base.py:1601: FutureWarning: `clean_up_tokenization_spaces` was not set. It will be set to `True` by default. This behavior will be depracted in transformers v4.45, and will be then set to `False` by default. For more details check this issue: https://github.com/huggingface/transformers/issues/31884\n",
      "\u001b[36m(train_fn pid=5216)\u001b[0m   warnings.warn(\n",
      "\u001b[36m(train_fn pid=5310)\u001b[0m /opt/conda/lib/python3.10/site-packages/transformers/tokenization_utils_base.py:1601: FutureWarning: `clean_up_tokenization_spaces` was not set. It will be set to `True` by default. This behavior will be depracted in transformers v4.45, and will be then set to `False` by default. For more details check this issue: https://github.com/huggingface/transformers/issues/31884\n",
      "\u001b[36m(train_fn pid=5310)\u001b[0m   warnings.warn(\n",
      "\u001b[36m(train_fn pid=5404)\u001b[0m /opt/conda/lib/python3.10/site-packages/transformers/tokenization_utils_base.py:1601: FutureWarning: `clean_up_tokenization_spaces` was not set. It will be set to `True` by default. This behavior will be depracted in transformers v4.45, and will be then set to `False` by default. For more details check this issue: https://github.com/huggingface/transformers/issues/31884\n",
      "\u001b[36m(train_fn pid=5404)\u001b[0m   warnings.warn(\n",
      "\u001b[36m(train_fn pid=5486)\u001b[0m /opt/conda/lib/python3.10/site-packages/transformers/tokenization_utils_base.py:1601: FutureWarning: `clean_up_tokenization_spaces` was not set. It will be set to `True` by default. This behavior will be depracted in transformers v4.45, and will be then set to `False` by default. For more details check this issue: https://github.com/huggingface/transformers/issues/31884\n",
      "\u001b[36m(train_fn pid=5486)\u001b[0m   warnings.warn(\n",
      "\u001b[36m(train_fn pid=5579)\u001b[0m /opt/conda/lib/python3.10/site-packages/transformers/tokenization_utils_base.py:1601: FutureWarning: `clean_up_tokenization_spaces` was not set. It will be set to `True` by default. This behavior will be depracted in transformers v4.45, and will be then set to `False` by default. For more details check this issue: https://github.com/huggingface/transformers/issues/31884\n",
      "\u001b[36m(train_fn pid=5579)\u001b[0m   warnings.warn(\n",
      "\u001b[36m(train_fn pid=5661)\u001b[0m /opt/conda/lib/python3.10/site-packages/transformers/tokenization_utils_base.py:1601: FutureWarning: `clean_up_tokenization_spaces` was not set. It will be set to `True` by default. This behavior will be depracted in transformers v4.45, and will be then set to `False` by default. For more details check this issue: https://github.com/huggingface/transformers/issues/31884\n",
      "\u001b[36m(train_fn pid=5661)\u001b[0m   warnings.warn(\n",
      "\u001b[36m(train_fn pid=5755)\u001b[0m /opt/conda/lib/python3.10/site-packages/transformers/tokenization_utils_base.py:1601: FutureWarning: `clean_up_tokenization_spaces` was not set. It will be set to `True` by default. This behavior will be depracted in transformers v4.45, and will be then set to `False` by default. For more details check this issue: https://github.com/huggingface/transformers/issues/31884\n",
      "\u001b[36m(train_fn pid=5755)\u001b[0m   warnings.warn(\n",
      "\u001b[36m(train_fn pid=5837)\u001b[0m /opt/conda/lib/python3.10/site-packages/transformers/tokenization_utils_base.py:1601: FutureWarning: `clean_up_tokenization_spaces` was not set. It will be set to `True` by default. This behavior will be depracted in transformers v4.45, and will be then set to `False` by default. For more details check this issue: https://github.com/huggingface/transformers/issues/31884\n",
      "\u001b[36m(train_fn pid=5837)\u001b[0m   warnings.warn(\n",
      "\u001b[36m(train_fn pid=5913)\u001b[0m /opt/conda/lib/python3.10/site-packages/transformers/tokenization_utils_base.py:1601: FutureWarning: `clean_up_tokenization_spaces` was not set. It will be set to `True` by default. This behavior will be depracted in transformers v4.45, and will be then set to `False` by default. For more details check this issue: https://github.com/huggingface/transformers/issues/31884\n",
      "\u001b[36m(train_fn pid=5913)\u001b[0m   warnings.warn(\n",
      "\u001b[36m(train_fn pid=5997)\u001b[0m /opt/conda/lib/python3.10/site-packages/transformers/tokenization_utils_base.py:1601: FutureWarning: `clean_up_tokenization_spaces` was not set. It will be set to `True` by default. This behavior will be depracted in transformers v4.45, and will be then set to `False` by default. For more details check this issue: https://github.com/huggingface/transformers/issues/31884\n",
      "\u001b[36m(train_fn pid=5997)\u001b[0m   warnings.warn(\n",
      "\u001b[36m(train_fn pid=6073)\u001b[0m /opt/conda/lib/python3.10/site-packages/transformers/tokenization_utils_base.py:1601: FutureWarning: `clean_up_tokenization_spaces` was not set. It will be set to `True` by default. This behavior will be depracted in transformers v4.45, and will be then set to `False` by default. For more details check this issue: https://github.com/huggingface/transformers/issues/31884\n",
      "\u001b[36m(train_fn pid=6073)\u001b[0m   warnings.warn(\n",
      "\u001b[36m(train_fn pid=6178)\u001b[0m /opt/conda/lib/python3.10/site-packages/transformers/tokenization_utils_base.py:1601: FutureWarning: `clean_up_tokenization_spaces` was not set. It will be set to `True` by default. This behavior will be depracted in transformers v4.45, and will be then set to `False` by default. For more details check this issue: https://github.com/huggingface/transformers/issues/31884\n",
      "\u001b[36m(train_fn pid=6178)\u001b[0m   warnings.warn(\n",
      "\u001b[36m(train_fn pid=6248)\u001b[0m /opt/conda/lib/python3.10/site-packages/transformers/tokenization_utils_base.py:1601: FutureWarning: `clean_up_tokenization_spaces` was not set. It will be set to `True` by default. This behavior will be depracted in transformers v4.45, and will be then set to `False` by default. For more details check this issue: https://github.com/huggingface/transformers/issues/31884\n",
      "\u001b[36m(train_fn pid=6248)\u001b[0m   warnings.warn(\n",
      "\u001b[36m(train_fn pid=6348)\u001b[0m /opt/conda/lib/python3.10/site-packages/transformers/tokenization_utils_base.py:1601: FutureWarning: `clean_up_tokenization_spaces` was not set. It will be set to `True` by default. This behavior will be depracted in transformers v4.45, and will be then set to `False` by default. For more details check this issue: https://github.com/huggingface/transformers/issues/31884\n",
      "\u001b[36m(train_fn pid=6348)\u001b[0m   warnings.warn(\n",
      "\u001b[36m(train_fn pid=6418)\u001b[0m /opt/conda/lib/python3.10/site-packages/transformers/tokenization_utils_base.py:1601: FutureWarning: `clean_up_tokenization_spaces` was not set. It will be set to `True` by default. This behavior will be depracted in transformers v4.45, and will be then set to `False` by default. For more details check this issue: https://github.com/huggingface/transformers/issues/31884\n",
      "\u001b[36m(train_fn pid=6418)\u001b[0m   warnings.warn(\n",
      "\u001b[36m(train_fn pid=6507)\u001b[0m /opt/conda/lib/python3.10/site-packages/transformers/tokenization_utils_base.py:1601: FutureWarning: `clean_up_tokenization_spaces` was not set. It will be set to `True` by default. This behavior will be depracted in transformers v4.45, and will be then set to `False` by default. For more details check this issue: https://github.com/huggingface/transformers/issues/31884\n",
      "\u001b[36m(train_fn pid=6507)\u001b[0m   warnings.warn(\n",
      "\u001b[36m(train_fn pid=6578)\u001b[0m /opt/conda/lib/python3.10/site-packages/transformers/tokenization_utils_base.py:1601: FutureWarning: `clean_up_tokenization_spaces` was not set. It will be set to `True` by default. This behavior will be depracted in transformers v4.45, and will be then set to `False` by default. For more details check this issue: https://github.com/huggingface/transformers/issues/31884\n",
      "\u001b[36m(train_fn pid=6578)\u001b[0m   warnings.warn(\n",
      "\u001b[36m(train_fn pid=6666)\u001b[0m /opt/conda/lib/python3.10/site-packages/transformers/tokenization_utils_base.py:1601: FutureWarning: `clean_up_tokenization_spaces` was not set. It will be set to `True` by default. This behavior will be depracted in transformers v4.45, and will be then set to `False` by default. For more details check this issue: https://github.com/huggingface/transformers/issues/31884\n",
      "\u001b[36m(train_fn pid=6666)\u001b[0m   warnings.warn(\n",
      "\u001b[36m(train_fn pid=6754)\u001b[0m /opt/conda/lib/python3.10/site-packages/transformers/tokenization_utils_base.py:1601: FutureWarning: `clean_up_tokenization_spaces` was not set. It will be set to `True` by default. This behavior will be depracted in transformers v4.45, and will be then set to `False` by default. For more details check this issue: https://github.com/huggingface/transformers/issues/31884\n",
      "\u001b[36m(train_fn pid=6754)\u001b[0m   warnings.warn(\n",
      "\u001b[36m(train_fn pid=6791)\u001b[0m /opt/conda/lib/python3.10/site-packages/transformers/tokenization_utils_base.py:1601: FutureWarning: `clean_up_tokenization_spaces` was not set. It will be set to `True` by default. This behavior will be depracted in transformers v4.45, and will be then set to `False` by default. For more details check this issue: https://github.com/huggingface/transformers/issues/31884\n",
      "\u001b[36m(train_fn pid=6791)\u001b[0m   warnings.warn(\n",
      "\u001b[36m(train_fn pid=6883)\u001b[0m /opt/conda/lib/python3.10/site-packages/transformers/tokenization_utils_base.py:1601: FutureWarning: `clean_up_tokenization_spaces` was not set. It will be set to `True` by default. This behavior will be depracted in transformers v4.45, and will be then set to `False` by default. For more details check this issue: https://github.com/huggingface/transformers/issues/31884\n",
      "\u001b[36m(train_fn pid=6883)\u001b[0m   warnings.warn(\n",
      "\u001b[36m(train_fn pid=6956)\u001b[0m /opt/conda/lib/python3.10/site-packages/transformers/tokenization_utils_base.py:1601: FutureWarning: `clean_up_tokenization_spaces` was not set. It will be set to `True` by default. This behavior will be depracted in transformers v4.45, and will be then set to `False` by default. For more details check this issue: https://github.com/huggingface/transformers/issues/31884\n",
      "\u001b[36m(train_fn pid=6956)\u001b[0m   warnings.warn(\n",
      "\u001b[36m(train_fn pid=7042)\u001b[0m /opt/conda/lib/python3.10/site-packages/transformers/tokenization_utils_base.py:1601: FutureWarning: `clean_up_tokenization_spaces` was not set. It will be set to `True` by default. This behavior will be depracted in transformers v4.45, and will be then set to `False` by default. For more details check this issue: https://github.com/huggingface/transformers/issues/31884\n",
      "\u001b[36m(train_fn pid=7042)\u001b[0m   warnings.warn(\n",
      "\u001b[36m(train_fn pid=7133)\u001b[0m /opt/conda/lib/python3.10/site-packages/transformers/tokenization_utils_base.py:1601: FutureWarning: `clean_up_tokenization_spaces` was not set. It will be set to `True` by default. This behavior will be depracted in transformers v4.45, and will be then set to `False` by default. For more details check this issue: https://github.com/huggingface/transformers/issues/31884\n",
      "\u001b[36m(train_fn pid=7133)\u001b[0m   warnings.warn(\n",
      "\u001b[36m(train_fn pid=7219)\u001b[0m /opt/conda/lib/python3.10/site-packages/transformers/tokenization_utils_base.py:1601: FutureWarning: `clean_up_tokenization_spaces` was not set. It will be set to `True` by default. This behavior will be depracted in transformers v4.45, and will be then set to `False` by default. For more details check this issue: https://github.com/huggingface/transformers/issues/31884\n",
      "\u001b[36m(train_fn pid=7219)\u001b[0m   warnings.warn(\n",
      "\u001b[36m(train_fn pid=7303)\u001b[0m /opt/conda/lib/python3.10/site-packages/transformers/tokenization_utils_base.py:1601: FutureWarning: `clean_up_tokenization_spaces` was not set. It will be set to `True` by default. This behavior will be depracted in transformers v4.45, and will be then set to `False` by default. For more details check this issue: https://github.com/huggingface/transformers/issues/31884\n",
      "\u001b[36m(train_fn pid=7303)\u001b[0m   warnings.warn(\n",
      "\u001b[36m(train_fn pid=7390)\u001b[0m /opt/conda/lib/python3.10/site-packages/transformers/tokenization_utils_base.py:1601: FutureWarning: `clean_up_tokenization_spaces` was not set. It will be set to `True` by default. This behavior will be depracted in transformers v4.45, and will be then set to `False` by default. For more details check this issue: https://github.com/huggingface/transformers/issues/31884\n",
      "\u001b[36m(train_fn pid=7390)\u001b[0m   warnings.warn(\n",
      "\u001b[36m(train_fn pid=7479)\u001b[0m /opt/conda/lib/python3.10/site-packages/transformers/tokenization_utils_base.py:1601: FutureWarning: `clean_up_tokenization_spaces` was not set. It will be set to `True` by default. This behavior will be depracted in transformers v4.45, and will be then set to `False` by default. For more details check this issue: https://github.com/huggingface/transformers/issues/31884\n",
      "\u001b[36m(train_fn pid=7479)\u001b[0m   warnings.warn(\n",
      "\u001b[36m(train_fn pid=7576)\u001b[0m /opt/conda/lib/python3.10/site-packages/transformers/tokenization_utils_base.py:1601: FutureWarning: `clean_up_tokenization_spaces` was not set. It will be set to `True` by default. This behavior will be depracted in transformers v4.45, and will be then set to `False` by default. For more details check this issue: https://github.com/huggingface/transformers/issues/31884\n",
      "\u001b[36m(train_fn pid=7576)\u001b[0m   warnings.warn(\n",
      "\u001b[36m(train_fn pid=7650)\u001b[0m /opt/conda/lib/python3.10/site-packages/transformers/tokenization_utils_base.py:1601: FutureWarning: `clean_up_tokenization_spaces` was not set. It will be set to `True` by default. This behavior will be depracted in transformers v4.45, and will be then set to `False` by default. For more details check this issue: https://github.com/huggingface/transformers/issues/31884\n",
      "\u001b[36m(train_fn pid=7650)\u001b[0m   warnings.warn(\n",
      "\u001b[36m(train_fn pid=7733)\u001b[0m /opt/conda/lib/python3.10/site-packages/transformers/tokenization_utils_base.py:1601: FutureWarning: `clean_up_tokenization_spaces` was not set. It will be set to `True` by default. This behavior will be depracted in transformers v4.45, and will be then set to `False` by default. For more details check this issue: https://github.com/huggingface/transformers/issues/31884\n",
      "\u001b[36m(train_fn pid=7733)\u001b[0m   warnings.warn(\n",
      "\u001b[36m(train_fn pid=7821)\u001b[0m /opt/conda/lib/python3.10/site-packages/transformers/tokenization_utils_base.py:1601: FutureWarning: `clean_up_tokenization_spaces` was not set. It will be set to `True` by default. This behavior will be depracted in transformers v4.45, and will be then set to `False` by default. For more details check this issue: https://github.com/huggingface/transformers/issues/31884\n",
      "\u001b[36m(train_fn pid=7821)\u001b[0m   warnings.warn(\n",
      "\u001b[36m(train_fn pid=7857)\u001b[0m /opt/conda/lib/python3.10/site-packages/transformers/tokenization_utils_base.py:1601: FutureWarning: `clean_up_tokenization_spaces` was not set. It will be set to `True` by default. This behavior will be depracted in transformers v4.45, and will be then set to `False` by default. For more details check this issue: https://github.com/huggingface/transformers/issues/31884\n",
      "\u001b[36m(train_fn pid=7857)\u001b[0m   warnings.warn(\n",
      "\u001b[36m(train_fn pid=7952)\u001b[0m /opt/conda/lib/python3.10/site-packages/transformers/tokenization_utils_base.py:1601: FutureWarning: `clean_up_tokenization_spaces` was not set. It will be set to `True` by default. This behavior will be depracted in transformers v4.45, and will be then set to `False` by default. For more details check this issue: https://github.com/huggingface/transformers/issues/31884\n",
      "\u001b[36m(train_fn pid=7952)\u001b[0m   warnings.warn(\n",
      "\u001b[36m(train_fn pid=8040)\u001b[0m /opt/conda/lib/python3.10/site-packages/transformers/tokenization_utils_base.py:1601: FutureWarning: `clean_up_tokenization_spaces` was not set. It will be set to `True` by default. This behavior will be depracted in transformers v4.45, and will be then set to `False` by default. For more details check this issue: https://github.com/huggingface/transformers/issues/31884\n",
      "\u001b[36m(train_fn pid=8040)\u001b[0m   warnings.warn(\n",
      "\u001b[36m(train_fn pid=8076)\u001b[0m /opt/conda/lib/python3.10/site-packages/transformers/tokenization_utils_base.py:1601: FutureWarning: `clean_up_tokenization_spaces` was not set. It will be set to `True` by default. This behavior will be depracted in transformers v4.45, and will be then set to `False` by default. For more details check this issue: https://github.com/huggingface/transformers/issues/31884\n",
      "\u001b[36m(train_fn pid=8076)\u001b[0m   warnings.warn(\n",
      "\u001b[36m(train_fn pid=8183)\u001b[0m /opt/conda/lib/python3.10/site-packages/transformers/tokenization_utils_base.py:1601: FutureWarning: `clean_up_tokenization_spaces` was not set. It will be set to `True` by default. This behavior will be depracted in transformers v4.45, and will be then set to `False` by default. For more details check this issue: https://github.com/huggingface/transformers/issues/31884\n",
      "\u001b[36m(train_fn pid=8183)\u001b[0m   warnings.warn(\n",
      "\u001b[36m(train_fn pid=8249)\u001b[0m /opt/conda/lib/python3.10/site-packages/transformers/tokenization_utils_base.py:1601: FutureWarning: `clean_up_tokenization_spaces` was not set. It will be set to `True` by default. This behavior will be depracted in transformers v4.45, and will be then set to `False` by default. For more details check this issue: https://github.com/huggingface/transformers/issues/31884\n",
      "\u001b[36m(train_fn pid=8249)\u001b[0m   warnings.warn(\n",
      "\u001b[36m(train_fn pid=8358)\u001b[0m /opt/conda/lib/python3.10/site-packages/transformers/tokenization_utils_base.py:1601: FutureWarning: `clean_up_tokenization_spaces` was not set. It will be set to `True` by default. This behavior will be depracted in transformers v4.45, and will be then set to `False` by default. For more details check this issue: https://github.com/huggingface/transformers/issues/31884\n",
      "\u001b[36m(train_fn pid=8358)\u001b[0m   warnings.warn(\n",
      "\u001b[36m(train_fn pid=8424)\u001b[0m /opt/conda/lib/python3.10/site-packages/transformers/tokenization_utils_base.py:1601: FutureWarning: `clean_up_tokenization_spaces` was not set. It will be set to `True` by default. This behavior will be depracted in transformers v4.45, and will be then set to `False` by default. For more details check this issue: https://github.com/huggingface/transformers/issues/31884\n",
      "\u001b[36m(train_fn pid=8424)\u001b[0m   warnings.warn(\n",
      "\u001b[36m(train_fn pid=8527)\u001b[0m /opt/conda/lib/python3.10/site-packages/transformers/tokenization_utils_base.py:1601: FutureWarning: `clean_up_tokenization_spaces` was not set. It will be set to `True` by default. This behavior will be depracted in transformers v4.45, and will be then set to `False` by default. For more details check this issue: https://github.com/huggingface/transformers/issues/31884\n",
      "\u001b[36m(train_fn pid=8527)\u001b[0m   warnings.warn(\n",
      "2024-08-31 11:23:58,726\tINFO tune.py:1009 -- Wrote the latest version of all result files and experiment state to '/root/ray_results/train_fn_2024-08-31_07-41-19' in 0.0437s.\n",
      "2024-08-31 11:23:58,779\tINFO tune.py:1041 -- Total run time: 13359.06 seconds (13346.77 seconds for the tuning loop).\n"
     ]
    }
   ],
   "source": [
    "# %load_ext tensorboard\n",
    "# %tensorboard --logdir /kaggle/working/tensorboard_logs\n",
    "\n",
    "\n",
    "# ray.init(ignore_reinit_error=True)\n",
    "# reporter = CLIReporter(\n",
    "#     metric_columns=[\"loss\", \"accuracy\", \"custom_metric\", \"training_iteration\", \"train_loss\", \"train_accuracy\", \"early_stopping_epoch\"],\n",
    "#     print_intermediate_tables=False\n",
    "# )\n",
    "\n",
    "reporter = JupyterNotebookReporter(\n",
    "    metric_columns=[\"loss\", \"accuracy\", \"custom_metric\", \"training_iteration\", \"train_loss\", \"train_accuracy\", \"early_stopping_epoch\"],\n",
    "    print_intermediate_tables=False\n",
    ")\n",
    "\n",
    "# tuner = tune.run(\n",
    "#     train_fn,\n",
    "#     config=search_space,\n",
    "#     num_samples=25,\n",
    "#     progress_reporter=reporter,\n",
    "#     resources_per_trial={\"cpu\": 4, \"gpu\": 2},  # Adjust resources as needed\n",
    "#     scheduler=ASHAScheduler(\n",
    "#         metric=\"accuracy\",\n",
    "#         mode=\"max\",\n",
    "#         max_t=15,\n",
    "#         grace_period=1,\n",
    "#         reduction_factor=2\n",
    "#     )\n",
    "# )\n",
    "\n",
    "# reporter = TensorBoardReporter(\n",
    "#     metric_columns=[\"loss\", \"accuracy\", \"training_iteration\", \"train_loss\", \"train_accuracy\"]\n",
    "# )\n",
    "\n",
    "\n",
    "result = tune.run(\n",
    "    train_fn,\n",
    "    resources_per_trial={\"cpu\": 2, \"gpu\": 1},\n",
    "    config=search_space,\n",
    "    num_samples=100,\n",
    "    scheduler=scheduler,\n",
    "    progress_reporter=reporter,\n",
    "    search_alg=optuna_search\n",
    ")"
   ]
  },
  {
   "cell_type": "markdown",
   "id": "bb3379c8",
   "metadata": {
    "papermill": {
     "duration": 0.040271,
     "end_time": "2024-08-31T11:23:59.070872",
     "exception": false,
     "start_time": "2024-08-31T11:23:59.030601",
     "status": "completed"
    },
    "tags": []
   },
   "source": [
    "## REPORTER RESULTS"
   ]
  },
  {
   "cell_type": "code",
   "execution_count": 53,
   "id": "cfda11ff",
   "metadata": {
    "execution": {
     "iopub.execute_input": "2024-08-31T11:23:59.153414Z",
     "iopub.status.busy": "2024-08-31T11:23:59.152177Z",
     "iopub.status.idle": "2024-08-31T11:23:59.160615Z",
     "shell.execute_reply": "2024-08-31T11:23:59.159765Z"
    },
    "papermill": {
     "duration": 0.051176,
     "end_time": "2024-08-31T11:23:59.162531",
     "exception": false,
     "start_time": "2024-08-31T11:23:59.111355",
     "status": "completed"
    },
    "tags": []
   },
   "outputs": [
    {
     "name": "stdout",
     "output_type": "stream",
     "text": [
      "Best trial config: {'dropout_rate': 0.4, 'batch_size': 64, 'weight_decay': 5e-05, 'lr': 0.0001, 'epochs': 20}\n",
      "Best trial final validation loss: 0.5828703716397285\n",
      "Best trial final validation accuracy: 0.8277449046679816\n",
      "Best trial final training loss: 0.18424713632890155\n",
      "Best trial final training accuracy: 0.9337827715355805\n",
      "Best trial final custom_metric: 0.007456018060959968\n",
      "Best trial final Early Stopping Epoch: 6\n"
     ]
    }
   ],
   "source": [
    "# best_trial = result.get_best_trial(\"loss\", \"min\", \"last\")\n",
    "best_trial = result.get_best_trial(\"accuracy\", \"max\", \"last\")\n",
    "# best_checkpoint_dir = best_trial.checkpoint.value\n",
    "print(f\"Best trial config: {best_trial.config}\")\n",
    "print(f\"Best trial final validation loss: {best_trial.last_result['loss']}\")\n",
    "print(f\"Best trial final validation accuracy: {best_trial.last_result['accuracy']}\")\n",
    "print(f\"Best trial final training loss: {best_trial.last_result['train_loss']}\")\n",
    "print(f\"Best trial final training accuracy: {best_trial.last_result['train_accuracy']}\")\n",
    "print(f\"Best trial final custom_metric: {best_trial.last_result['custom_metric']}\")\n",
    "print(f\"Best trial final Early Stopping Epoch: {best_trial.last_result['early_stopping_epoch']}\")"
   ]
  },
  {
   "cell_type": "markdown",
   "id": "6274a3df",
   "metadata": {
    "papermill": {
     "duration": 0.039777,
     "end_time": "2024-08-31T11:23:59.242008",
     "exception": false,
     "start_time": "2024-08-31T11:23:59.202231",
     "status": "completed"
    },
    "tags": []
   },
   "source": [
    "## Function to Train the Model with the Best Configuration"
   ]
  },
  {
   "cell_type": "code",
   "execution_count": 54,
   "id": "9c470b70",
   "metadata": {
    "execution": {
     "iopub.execute_input": "2024-08-31T11:23:59.323913Z",
     "iopub.status.busy": "2024-08-31T11:23:59.323571Z",
     "iopub.status.idle": "2024-08-31T11:23:59.349810Z",
     "shell.execute_reply": "2024-08-31T11:23:59.348942Z"
    },
    "papermill": {
     "duration": 0.069352,
     "end_time": "2024-08-31T11:23:59.351670",
     "exception": false,
     "start_time": "2024-08-31T11:23:59.282318",
     "status": "completed"
    },
    "tags": []
   },
   "outputs": [],
   "source": [
    "def train_best_model(config, device, train_dataset = train_ds_pd, val_dataset = validation_ds_pd):\n",
    "    print(f\"\"\"\n",
    "    Tuning Model with:\n",
    "    {config}\n",
    "    \"\"\")\n",
    "#     model = SentimentModel(\n",
    "#         roberta_model=RobertaModel.from_pretrained(\"roberta-base\"),\n",
    "#         n_classes=3,\n",
    "#         dropout_rate=config[\"dropout_rate\"]\n",
    "#     )\n",
    "    model = SentimentModel(\n",
    "        roberta_model=DebertaV2Model.from_pretrained('microsoft/deberta-v3-base'),\n",
    "        n_classes=3,\n",
    "        dropout_rate=config[\"dropout_rate\"]\n",
    "    )\n",
    "    model = model.to(device)\n",
    "    optimizer = optim.AdamW(model.parameters(), lr=config[\"lr\"], weight_decay=config[\"weight_decay\"])\n",
    "    criterion = nn.BCEWithLogitsLoss()\n",
    "#     class_weights_tmp = torch.tensor(class_weights, dtype=torch.float32).to(device)\n",
    "#     criterion = nn.CrossEntropyLoss(weight=class_weights_tmp)\n",
    "#     criterion = nn.BCELoss()\n",
    "    scaler = GradScaler()\n",
    "    \n",
    "    ## DATASET ENCODING\n",
    "    \n",
    "    train_dataset = SentimentDataset(train_ds_pd, tokenizer, max_len=128)\n",
    "    val_dataset = SentimentDataset(validation_ds_pd, tokenizer, max_len=128)\n",
    "\n",
    "    train_loader = DataLoader(train_dataset, batch_size=config[\"batch_size\"], shuffle=True)\n",
    "    val_loader = DataLoader(val_dataset, batch_size=config[\"batch_size\"], shuffle=False)\n",
    "    \n",
    "    scheduler = optim.lr_scheduler.ReduceLROnPlateau(optimizer, mode='min', factor=0.1, patience=2, verbose=True)\n",
    "    \n",
    "    early_stopping = EarlyStopping(patience=5, verbose=True)\n",
    "\n",
    "    best_val_loss = float(\"inf\")\n",
    "    best_model_path = None\n",
    "    \n",
    "    # Early stopping parameters\n",
    "    patience = 5\n",
    "    best_val_loss = float('inf')\n",
    "    epochs_since_improvement = 0\n",
    "\n",
    "    \n",
    "    ### Running for config epochs +patience+1 for introducing noise. \n",
    "    \n",
    "    for epoch in range((config[\"epochs\"]+patience+1)):\n",
    "        model.train()\n",
    "        total_train_loss = 0.0\n",
    "        correct_train_preds = 0\n",
    "        total_train_preds = 0\n",
    "        \n",
    "        for batch in train_loader:\n",
    "            input_ids = batch[\"input_ids\"].to(device)\n",
    "            attention_mask = batch[\"attention_mask\"].to(device)\n",
    "            labels = batch[\"labels\"].to(device)\n",
    "\n",
    "            optimizer.zero_grad()\n",
    "#             outputs = model(input_ids=input_ids, attention_mask=attention_mask)\n",
    "#             loss = criterion(outputs, labels)\n",
    "#             loss.backward()\n",
    "#             optimizer.step()\n",
    "\n",
    "            with autocast(device_type=device.type):\n",
    "                outputs = model(input_ids=input_ids, attention_mask=attention_mask)\n",
    "                loss = criterion(outputs, labels)\n",
    "                \n",
    "            probabilities = torch.sigmoid(outputs)\n",
    "            predictions = torch.zeros_like(probabilities)\n",
    "            max_indices = torch.argmax(probabilities, dim=1)\n",
    "            predictions.scatter_(1, max_indices.unsqueeze(1), 1)\n",
    "            predictions = predictions.float()\n",
    "                \n",
    "#                 loss = criterion(predictions, labels)\n",
    "            \n",
    "            scaler.scale(loss).backward()\n",
    "            scaler.step(optimizer)\n",
    "            scaler.update()\n",
    "            \n",
    "#             outputs = torch.sigmoid(outputs)\n",
    "            \n",
    "# NOTE: Apply the sigmoid fn to outputs after BCEWithLogitsLoss because the loss fn already comes with sigmoid applied, so passing the sigmoid applied ouput will give erraneous results.\n",
    "# If we use BCELoss then pass the sigmoid applied output.\n",
    "            \n",
    "            total_train_loss += loss.item()\n",
    "#             correct_train_preds += (torch.argmax(outputs, dim=1) == torch.argmax(labels, dim=1)).sum().item()\n",
    "# #             correct_train_preds += (torch.argmax(outputs, dim=1) == labels).sum().item()\n",
    "#             total_train_preds += labels.size(0)\n",
    "\n",
    "#             predicted_labels = (outputs > 0.5).float()\n",
    "#             correct_train_preds += (predicted_labels == labels).sum().item()\n",
    "#             total_train_preds += labels.numel()\n",
    "\n",
    "#             correct_train_preds += ((outputs > 0.5) == (labels > 0.5)).sum().item()\n",
    "#             total_train_preds += labels.numel()\n",
    "\n",
    "#             correct_train_preds += (torch.argmax(outputs, dim=1) == labels).sum().item()\n",
    "#             total_train_preds += labels.size(0)\n",
    "\n",
    "            correct_train_preds += (predictions == labels).sum().item()\n",
    "            total_train_preds += labels.numel()\n",
    "        \n",
    "        avg_train_loss = total_train_loss / len(train_loader)\n",
    "        train_accuracy = correct_train_preds / total_train_preds\n",
    "\n",
    "        # Validation phase\n",
    "        model.eval()\n",
    "        total_val_loss = 0.0\n",
    "        correct_val_preds = 0\n",
    "        total_val_preds = 0\n",
    "\n",
    "        with torch.no_grad():\n",
    "            for batch in val_loader:\n",
    "                input_ids = batch[\"input_ids\"].to(device)\n",
    "                attention_mask = batch[\"attention_mask\"].to(device)\n",
    "                labels = batch[\"labels\"].to(device)\n",
    "\n",
    "#                 outputs = model(input_ids=input_ids, attention_mask=attention_mask)\n",
    "#                 loss = criterion(outputs, labels)\n",
    "\n",
    "                with autocast(device_type=device.type):\n",
    "                    outputs = model(input_ids=input_ids, attention_mask=attention_mask)\n",
    "                    loss = criterion(outputs, labels)\n",
    "                \n",
    "                probabilities = torch.sigmoid(outputs)\n",
    "                predictions = torch.zeros_like(probabilities)\n",
    "                max_indices = torch.argmax(probabilities, dim=1)\n",
    "                predictions.scatter_(1, max_indices.unsqueeze(1), 1)\n",
    "                predictions = predictions.float()\n",
    "\n",
    "#                     loss = criterion(predictions, labels)\n",
    "                \n",
    "#                 outputs = torch.sigmoid(outputs)\n",
    "                \n",
    "# NOTE: Apply the sigmoid fn to outputs after BCEWithLogitsLoss because the loss fn already comes with sigmoid applied, so passing the sigmoid applied ouput will give erraneous results.\n",
    "# If we use BCELoss then pass the sigmoid applied output.\n",
    "                \n",
    "                total_val_loss += loss.item()\n",
    "#                 correct_val_preds += (torch.argmax(outputs, dim=1) == torch.argmax(labels, dim=1)).sum().item()\n",
    "# #                 correct_val_preds += (torch.argmax(outputs, dim=1) == labels).sum().item()\n",
    "#                 total_val_preds += labels.size(0)\n",
    "    \n",
    "#                 predicted_labels = (outputs > 0.5).float()\n",
    "#                 correct_val_preds += (predicted_labels == labels).sum().item()\n",
    "#                 total_val_preds += labels.numel()\n",
    "\n",
    "#                 correct_val_preds += ((outputs > 0.5) == (labels > 0.5)).sum().item()\n",
    "#                 total_val_preds += labels.numel()\n",
    "\n",
    "#                 correct_val_preds += (torch.argmax(outputs, dim=1) == labels).sum().item()\n",
    "#                 total_val_preds += labels.size(0)\n",
    "\n",
    "                correct_val_preds += (predictions == labels).sum().item()\n",
    "                total_val_preds += labels.numel()\n",
    "\n",
    "        avg_val_loss = total_val_loss / len(val_loader)\n",
    "        val_accuracy = correct_val_preds / total_val_preds\n",
    "\n",
    "        # Save the model checkpoint after each epoch\n",
    "        checkpoint_path = f\"/kaggle/working/best_checkpoint.pt\"\n",
    "#         torch.save(model.state_dict(), checkpoint_path)\n",
    "\n",
    "#         # Save the best model based on validation loss\n",
    "#         if avg_val_loss < best_val_loss:\n",
    "#             best_val_loss = avg_val_loss\n",
    "#             best_model_path = checkpoint_path\n",
    "\n",
    "        # Learning rate scheduler step\n",
    "        scheduler.step(avg_val_loss)\n",
    "\n",
    "        if avg_val_loss < best_val_loss:\n",
    "            best_val_loss = avg_val_loss\n",
    "            epochs_since_improvement = 0\n",
    "            best_model_path = checkpoint_path\n",
    "            # Save the model checkpoint with the best validation loss\n",
    "#             checkpoint_path = f\"/kaggle/working/best_checkpoint.pt\"\n",
    "#             torch.save(model.state_dict(), checkpoint_path)\n",
    "            torch.save({\n",
    "                'model_state_dict': model.state_dict(),\n",
    "                'config': config  # Save configuration\n",
    "            }, checkpoint_path)\n",
    "    \n",
    "        else:\n",
    "            epochs_since_improvement += 1\n",
    "\n",
    "        early_stopping(avg_val_loss, model)\n",
    "        if early_stopping.early_stop:\n",
    "            print(f\"Early stopping at epoch {epoch + 1}\")\n",
    "            print(f\"Best Model Epoch Saved: {epoch - patience +1}\")\n",
    "#             print(\"Early stopping\")\n",
    "            break\n",
    "        \n",
    "#         if epochs_since_improvement >= patience:\n",
    "#             print(f\"Early stopping at epoch {epoch + 1}\")\n",
    "#             print(f\"Best Model Epoch Saved: {epoch - patience}\")\n",
    "#             break\n",
    "            \n",
    "#         custom_metric = calculate_custom_metric(avg_val_loss, avg_train_loss)        \n",
    "        custom_metric = calculate_custom_metric(avg_val_loss, val_accuracy, avg_train_loss, train_accuracy)\n",
    "        print(f\"\"\"\n",
    "        Validation Loss: {avg_val_loss},\n",
    "        Training Loss: {avg_train_loss},\n",
    "        Argmax Binary Validation Accuracy: {val_accuracy},\n",
    "        Argmax Binary Training Accuracy: {train_accuracy},\n",
    "        Custom Metric: {custom_metric},\n",
    "        Epochs: {epoch+1}\n",
    "        \"\"\")\n",
    "    \n",
    "    print(f\"Best Validation Loss: {best_val_loss}, Best Validation accuracy: {val_accuracy}\")\n",
    "    \n",
    "    return model, best_model_path"
   ]
  },
  {
   "cell_type": "markdown",
   "id": "e2de15c3",
   "metadata": {
    "papermill": {
     "duration": 0.040701,
     "end_time": "2024-08-31T11:23:59.432326",
     "exception": false,
     "start_time": "2024-08-31T11:23:59.391625",
     "status": "completed"
    },
    "tags": []
   },
   "source": [
    "# BEST MODEL AFTER FINAL TRAINING & VALIDATION"
   ]
  },
  {
   "cell_type": "code",
   "execution_count": 55,
   "id": "fdfc75ad",
   "metadata": {
    "execution": {
     "iopub.execute_input": "2024-08-31T11:23:59.516593Z",
     "iopub.status.busy": "2024-08-31T11:23:59.516232Z",
     "iopub.status.idle": "2024-08-31T11:31:15.164173Z",
     "shell.execute_reply": "2024-08-31T11:31:15.163160Z"
    },
    "papermill": {
     "duration": 435.738311,
     "end_time": "2024-08-31T11:31:15.211542",
     "exception": false,
     "start_time": "2024-08-31T11:23:59.473231",
     "status": "completed"
    },
    "tags": []
   },
   "outputs": [
    {
     "name": "stdout",
     "output_type": "stream",
     "text": [
      "\n",
      "    Tuning Model with:\n",
      "    {'dropout_rate': 0.4, 'batch_size': 64, 'weight_decay': 5e-05, 'lr': 0.0001, 'epochs': 20}\n",
      "    \n",
      "\n",
      "        Validation Loss: 0.635015994310379,\n",
      "        Training Loss: 0.6355250086103167,\n",
      "        Argmax Binary Validation Accuracy: 0.6015779092702169,\n",
      "        Argmax Binary Training Accuracy: 0.5943071161048689,\n",
      "        Custom Metric: 0.037327988772804965,\n",
      "        Epochs: 1\n",
      "        \n",
      "\n",
      "        Validation Loss: 0.5271183215081692,\n",
      "        Training Loss: 0.5962147167750768,\n",
      "        Argmax Binary Validation Accuracy: 0.7357001972386588,\n",
      "        Argmax Binary Training Accuracy: 0.6404494382022472,\n",
      "        Custom Metric: -0.12640829857883001,\n",
      "        Epochs: 2\n",
      "        \n",
      "\n",
      "        Validation Loss: 0.48824916407465935,\n",
      "        Training Loss: 0.4909138709306717,\n",
      "        Argmax Binary Validation Accuracy: 0.7646285338593031,\n",
      "        Argmax Binary Training Accuracy: 0.7638951310861424,\n",
      "        Custom Metric: -0.2746803149700572,\n",
      "        Epochs: 3\n",
      "        \n",
      "\n",
      "        Validation Loss: 0.4763871058821678,\n",
      "        Training Loss: 0.4187149499143873,\n",
      "        Argmax Binary Validation Accuracy: 0.7961867192636424,\n",
      "        Argmax Binary Training Accuracy: 0.8088389513108615,\n",
      "        Custom Metric: -0.28463741937397474,\n",
      "        Epochs: 4\n",
      "        \n",
      "\n",
      "        Validation Loss: 0.5500625856220722,\n",
      "        Training Loss: 0.36182561346462794,\n",
      "        Argmax Binary Validation Accuracy: 0.7488494411571335,\n",
      "        Argmax Binary Training Accuracy: 0.8542322097378278,\n",
      "        Custom Metric: -0.051976985165991973,\n",
      "        Epochs: 5\n",
      "        \n",
      "\n",
      "        Validation Loss: 0.5595715045928955,\n",
      "        Training Loss: 0.35883152144295827,\n",
      "        Argmax Binary Validation Accuracy: 0.7422748191978962,\n",
      "        Argmax Binary Training Accuracy: 0.8527340823970038,\n",
      "        Custom Metric: -0.02710369143047825,\n",
      "        Epochs: 6\n",
      "        \n",
      "\n",
      "        Validation Loss: 0.4800875335931778,\n",
      "        Training Loss: 0.2718058681913785,\n",
      "        Argmax Binary Validation Accuracy: 0.8027613412228797,\n",
      "        Argmax Binary Training Accuracy: 0.8993258426966292,\n",
      "        Custom Metric: -0.17025072419192747,\n",
      "        Epochs: 7\n",
      "        \n",
      "\n",
      "        Validation Loss: 0.5361796729266644,\n",
      "        Training Loss: 0.20775313866989953,\n",
      "        Argmax Binary Validation Accuracy: 0.8014464168310322,\n",
      "        Argmax Binary Training Accuracy: 0.9267415730337079,\n",
      "        Custom Metric: -0.038405898674647665,\n",
      "        Epochs: 8\n",
      "        \n",
      "Early stopping at epoch 9\n",
      "Best Model Epoch Saved: 4\n",
      "Best Validation Loss: 0.4763871058821678, Best Validation accuracy: 0.8001314924391848\n"
     ]
    }
   ],
   "source": [
    "best_config = best_trial.config\n",
    "\n",
    "device = torch.device(\"cuda\" if torch.cuda.is_available() else \"cpu\")\n",
    "\n",
    "# Train the model with the best configuration\n",
    "best_model, best_model_path = train_best_model(best_config, device, train_ds_pd, validation_ds_pd)\n"
   ]
  },
  {
   "cell_type": "markdown",
   "id": "aab97e4c",
   "metadata": {
    "papermill": {
     "duration": 0.040493,
     "end_time": "2024-08-31T11:31:15.292824",
     "exception": false,
     "start_time": "2024-08-31T11:31:15.252331",
     "status": "completed"
    },
    "tags": []
   },
   "source": [
    "# Save the best model\n"
   ]
  },
  {
   "cell_type": "code",
   "execution_count": 56,
   "id": "42604241",
   "metadata": {
    "execution": {
     "iopub.execute_input": "2024-08-31T11:31:15.379675Z",
     "iopub.status.busy": "2024-08-31T11:31:15.379297Z",
     "iopub.status.idle": "2024-08-31T11:31:16.615058Z",
     "shell.execute_reply": "2024-08-31T11:31:16.613913Z"
    },
    "papermill": {
     "duration": 1.280266,
     "end_time": "2024-08-31T11:31:16.617202",
     "exception": false,
     "start_time": "2024-08-31T11:31:15.336936",
     "status": "completed"
    },
    "tags": []
   },
   "outputs": [
    {
     "name": "stdout",
     "output_type": "stream",
     "text": [
      "Best model saved at: /kaggle/working/final_best_model.pt\n"
     ]
    }
   ],
   "source": [
    "# Save the best model\n",
    "#### Comment when wanting to select the model which is stopped early to avoid over or under fitting\n",
    "\n",
    "# final_model_path = \"/kaggle/working/final_best_model.pt\"\n",
    "# torch.save(best_model.state_dict(), final_model_path) \n",
    "\n",
    "#### Comment when wanting to select the model which is stopped early to avoid over or under fitting\n",
    "\n",
    "final_model_path = \"/kaggle/working/final_best_model.pt\"\n",
    "# torch.save(best_model.state_dict(), final_model_path)\n",
    "torch.save({'model_state_dict': best_model.state_dict(),'config': best_config}, final_model_path)\n",
    "\n",
    "print(f\"Best model saved at: {final_model_path}\")"
   ]
  },
  {
   "cell_type": "markdown",
   "id": "632851a1",
   "metadata": {
    "papermill": {
     "duration": 0.040917,
     "end_time": "2024-08-31T11:31:16.703274",
     "exception": false,
     "start_time": "2024-08-31T11:31:16.662357",
     "status": "completed"
    },
    "tags": []
   },
   "source": [
    "# Load the best model"
   ]
  },
  {
   "cell_type": "code",
   "execution_count": 57,
   "id": "1a769bb9",
   "metadata": {
    "execution": {
     "iopub.execute_input": "2024-08-31T11:31:16.790502Z",
     "iopub.status.busy": "2024-08-31T11:31:16.790117Z",
     "iopub.status.idle": "2024-08-31T11:31:18.353787Z",
     "shell.execute_reply": "2024-08-31T11:31:18.352700Z"
    },
    "papermill": {
     "duration": 1.610481,
     "end_time": "2024-08-31T11:31:18.355818",
     "exception": false,
     "start_time": "2024-08-31T11:31:16.745337",
     "status": "completed"
    },
    "tags": []
   },
   "outputs": [
    {
     "name": "stdout",
     "output_type": "stream",
     "text": [
      "Loaded model from /kaggle/working/final_best_model.pt for inference.\n"
     ]
    }
   ],
   "source": [
    "# Load the best model\n",
    "final_model_path = \"/kaggle/working/final_best_model.pt\"\n",
    "# final_model_path = \"/kaggle/input/tachygraphy-lv2-emotion-moodtags-v1/transformers/default/1/final_best_model.pt\"\n",
    "\n",
    "\n",
    "checkpoint = torch.load(final_model_path)\n",
    "config = checkpoint['config']\n",
    "\n",
    "# loaded_model = SentimentModel(\n",
    "#     roberta_model=RobertaModel.from_pretrained(\"roberta-base\"),\n",
    "#     n_classes=3,\n",
    "#     dropout_rate=config[\"dropout_rate\"]\n",
    "# )\n",
    "loaded_model = SentimentModel(\n",
    "    roberta_model=DebertaV2Model.from_pretrained('microsoft/deberta-v3-base'),\n",
    "    n_classes=3,\n",
    "    dropout_rate=config[\"dropout_rate\"]\n",
    ")\n",
    "loaded_model.load_state_dict(checkpoint['model_state_dict'])\n",
    "loaded_model = loaded_model.to(device)\n",
    "loaded_model.eval()\n",
    "\n",
    "print(f\"Loaded model from {final_model_path} for inference.\")\n"
   ]
  },
  {
   "cell_type": "markdown",
   "id": "2b59b209",
   "metadata": {
    "papermill": {
     "duration": 0.041826,
     "end_time": "2024-08-31T11:31:18.441433",
     "exception": false,
     "start_time": "2024-08-31T11:31:18.399607",
     "status": "completed"
    },
    "tags": []
   },
   "source": [
    "# PREDICT ON RANDOM INPUT"
   ]
  },
  {
   "cell_type": "markdown",
   "id": "21054113",
   "metadata": {
    "papermill": {
     "duration": 0.040723,
     "end_time": "2024-08-31T11:31:18.523275",
     "exception": false,
     "start_time": "2024-08-31T11:31:18.482552",
     "status": "completed"
    },
    "tags": []
   },
   "source": [
    "## Prediction Function"
   ]
  },
  {
   "cell_type": "code",
   "execution_count": 58,
   "id": "e1c04df2",
   "metadata": {
    "execution": {
     "iopub.execute_input": "2024-08-31T11:31:18.607113Z",
     "iopub.status.busy": "2024-08-31T11:31:18.606711Z",
     "iopub.status.idle": "2024-08-31T11:31:18.613842Z",
     "shell.execute_reply": "2024-08-31T11:31:18.612962Z"
    },
    "papermill": {
     "duration": 0.05162,
     "end_time": "2024-08-31T11:31:18.615619",
     "exception": false,
     "start_time": "2024-08-31T11:31:18.563999",
     "status": "completed"
    },
    "tags": []
   },
   "outputs": [],
   "source": [
    "def predict(text, model, tokenizer, device, max_len=128):\n",
    "    inputs = tokenizer.encode_plus(\n",
    "        text,\n",
    "        None,\n",
    "        add_special_tokens=True,\n",
    "        max_length=max_len,\n",
    "        padding='max_length',\n",
    "        truncation=True,\n",
    "        return_token_type_ids=False,\n",
    "        return_tensors='pt'\n",
    "    )\n",
    "    input_ids = inputs['input_ids']\n",
    "    attention_mask = inputs['attention_mask']\n",
    "    \n",
    "    input_ids = input_ids.to(device)\n",
    "    attention_mask = attention_mask.to(device)\n",
    "    \n",
    "    with torch.no_grad():\n",
    "        outputs = model(input_ids=input_ids, attention_mask=attention_mask)\n",
    "    \n",
    "    return torch.sigmoid(outputs).cpu().numpy()\n",
    "\n",
    "#     # Convert logits to probabilities using sigmoid\n",
    "#     probabilities = torch.sigmoid(logits)\n",
    "    \n",
    "#     # Convert probabilities to binary predictions\n",
    "#     predictions = torch.zeros_like(probabilities)\n",
    "#     max_indices = torch.argmax(probabilities, dim=1)\n",
    "#     predictions.scatter_(1, max_indices.unsqueeze(1), 1)\n",
    "    \n",
    "#     # Move predictions to CPU and convert to numpy for easy manipulation\n",
    "#     predictions_array = predictions.cpu().numpy().squeeze()\n",
    "\n",
    "#     return predictions_array"
   ]
  },
  {
   "cell_type": "code",
   "execution_count": 59,
   "id": "5f9ab038",
   "metadata": {
    "execution": {
     "iopub.execute_input": "2024-08-31T11:31:18.699844Z",
     "iopub.status.busy": "2024-08-31T11:31:18.699513Z",
     "iopub.status.idle": "2024-08-31T11:31:18.708512Z",
     "shell.execute_reply": "2024-08-31T11:31:18.707778Z"
    },
    "papermill": {
     "duration": 0.053726,
     "end_time": "2024-08-31T11:31:18.710436",
     "exception": false,
     "start_time": "2024-08-31T11:31:18.656710",
     "status": "completed"
    },
    "tags": []
   },
   "outputs": [],
   "source": [
    "best_model = loaded_model\n",
    "best_model = best_model.to(device)"
   ]
  },
  {
   "cell_type": "code",
   "execution_count": 60,
   "id": "c7993011",
   "metadata": {
    "execution": {
     "iopub.execute_input": "2024-08-31T11:31:18.796176Z",
     "iopub.status.busy": "2024-08-31T11:31:18.795860Z",
     "iopub.status.idle": "2024-08-31T11:31:19.624270Z",
     "shell.execute_reply": "2024-08-31T11:31:19.623476Z"
    },
    "papermill": {
     "duration": 0.873334,
     "end_time": "2024-08-31T11:31:19.626561",
     "exception": false,
     "start_time": "2024-08-31T11:31:18.753227",
     "status": "completed"
    },
    "tags": []
   },
   "outputs": [],
   "source": [
    "import matplotlib.pyplot as plt\n",
    "import plotly.express as px"
   ]
  },
  {
   "cell_type": "markdown",
   "id": "020ad821",
   "metadata": {
    "papermill": {
     "duration": 0.041667,
     "end_time": "2024-08-31T11:31:19.709948",
     "exception": false,
     "start_time": "2024-08-31T11:31:19.668281",
     "status": "completed"
    },
    "tags": []
   },
   "source": [
    "## Samples & Random Predictions"
   ]
  },
  {
   "cell_type": "code",
   "execution_count": 61,
   "id": "118c7b9b",
   "metadata": {
    "execution": {
     "iopub.execute_input": "2024-08-31T11:31:19.797794Z",
     "iopub.status.busy": "2024-08-31T11:31:19.797138Z",
     "iopub.status.idle": "2024-08-31T11:31:22.387947Z",
     "shell.execute_reply": "2024-08-31T11:31:22.387008Z"
    },
    "papermill": {
     "duration": 2.635184,
     "end_time": "2024-08-31T11:31:22.389995",
     "exception": false,
     "start_time": "2024-08-31T11:31:19.754811",
     "status": "completed"
    },
    "tags": []
   },
   "outputs": [
    {
     "name": "stdout",
     "output_type": "stream",
     "text": [
      "Predicted sentiment polarities for 'hey! hru, wanna ply valo toni8?': [[0.02697821 0.94266677 0.03354749]]\n",
      "NEAGTIVE: 0.0, NEUTRAL: 1.0, POSITIVE: 0.0\n"
     ]
    },
    {
     "data": {
      "text/html": [
       "        <script type=\"text/javascript\">\n",
       "        window.PlotlyConfig = {MathJaxConfig: 'local'};\n",
       "        if (window.MathJax && window.MathJax.Hub && window.MathJax.Hub.Config) {window.MathJax.Hub.Config({SVG: {font: \"STIX-Web\"}});}\n",
       "        if (typeof require !== 'undefined') {\n",
       "        require.undef(\"plotly\");\n",
       "        requirejs.config({\n",
       "            paths: {\n",
       "                'plotly': ['https://cdn.plot.ly/plotly-2.32.0.min']\n",
       "            }\n",
       "        });\n",
       "        require(['plotly'], function(Plotly) {\n",
       "            window._Plotly = Plotly;\n",
       "        });\n",
       "        }\n",
       "        </script>\n",
       "        "
      ]
     },
     "metadata": {},
     "output_type": "display_data"
    },
    {
     "data": {
      "text/html": [
       "<div>                            <div id=\"a1097372-8eb1-400b-8459-3e47c9f01fd5\" class=\"plotly-graph-div\" style=\"height:525px; width:100%;\"></div>            <script type=\"text/javascript\">                require([\"plotly\"], function(Plotly) {                    window.PLOTLYENV=window.PLOTLYENV || {};                                    if (document.getElementById(\"a1097372-8eb1-400b-8459-3e47c9f01fd5\")) {                    Plotly.newPlot(                        \"a1097372-8eb1-400b-8459-3e47c9f01fd5\",                        [{\"hovertemplate\":\"r=%{r}\\u003cbr\\u003etheta=%{theta}\\u003cextra\\u003e\\u003c\\u002fextra\\u003e\",\"legendgroup\":\"\",\"line\":{\"color\":\"#636efa\",\"dash\":\"solid\"},\"marker\":{\"symbol\":\"circle\"},\"mode\":\"lines\",\"name\":\"\",\"r\":[0.02697821,0.94266677,0.03354749,0.02697821],\"showlegend\":false,\"subplot\":\"polar\",\"theta\":[\"negative\",\"neutral\",\"positive\",\"negative\"],\"type\":\"scatterpolar\"}],                        {\"template\":{\"data\":{\"histogram2dcontour\":[{\"type\":\"histogram2dcontour\",\"colorbar\":{\"outlinewidth\":0,\"ticks\":\"\"},\"colorscale\":[[0.0,\"#0d0887\"],[0.1111111111111111,\"#46039f\"],[0.2222222222222222,\"#7201a8\"],[0.3333333333333333,\"#9c179e\"],[0.4444444444444444,\"#bd3786\"],[0.5555555555555556,\"#d8576b\"],[0.6666666666666666,\"#ed7953\"],[0.7777777777777778,\"#fb9f3a\"],[0.8888888888888888,\"#fdca26\"],[1.0,\"#f0f921\"]]}],\"choropleth\":[{\"type\":\"choropleth\",\"colorbar\":{\"outlinewidth\":0,\"ticks\":\"\"}}],\"histogram2d\":[{\"type\":\"histogram2d\",\"colorbar\":{\"outlinewidth\":0,\"ticks\":\"\"},\"colorscale\":[[0.0,\"#0d0887\"],[0.1111111111111111,\"#46039f\"],[0.2222222222222222,\"#7201a8\"],[0.3333333333333333,\"#9c179e\"],[0.4444444444444444,\"#bd3786\"],[0.5555555555555556,\"#d8576b\"],[0.6666666666666666,\"#ed7953\"],[0.7777777777777778,\"#fb9f3a\"],[0.8888888888888888,\"#fdca26\"],[1.0,\"#f0f921\"]]}],\"heatmap\":[{\"type\":\"heatmap\",\"colorbar\":{\"outlinewidth\":0,\"ticks\":\"\"},\"colorscale\":[[0.0,\"#0d0887\"],[0.1111111111111111,\"#46039f\"],[0.2222222222222222,\"#7201a8\"],[0.3333333333333333,\"#9c179e\"],[0.4444444444444444,\"#bd3786\"],[0.5555555555555556,\"#d8576b\"],[0.6666666666666666,\"#ed7953\"],[0.7777777777777778,\"#fb9f3a\"],[0.8888888888888888,\"#fdca26\"],[1.0,\"#f0f921\"]]}],\"heatmapgl\":[{\"type\":\"heatmapgl\",\"colorbar\":{\"outlinewidth\":0,\"ticks\":\"\"},\"colorscale\":[[0.0,\"#0d0887\"],[0.1111111111111111,\"#46039f\"],[0.2222222222222222,\"#7201a8\"],[0.3333333333333333,\"#9c179e\"],[0.4444444444444444,\"#bd3786\"],[0.5555555555555556,\"#d8576b\"],[0.6666666666666666,\"#ed7953\"],[0.7777777777777778,\"#fb9f3a\"],[0.8888888888888888,\"#fdca26\"],[1.0,\"#f0f921\"]]}],\"contourcarpet\":[{\"type\":\"contourcarpet\",\"colorbar\":{\"outlinewidth\":0,\"ticks\":\"\"}}],\"contour\":[{\"type\":\"contour\",\"colorbar\":{\"outlinewidth\":0,\"ticks\":\"\"},\"colorscale\":[[0.0,\"#0d0887\"],[0.1111111111111111,\"#46039f\"],[0.2222222222222222,\"#7201a8\"],[0.3333333333333333,\"#9c179e\"],[0.4444444444444444,\"#bd3786\"],[0.5555555555555556,\"#d8576b\"],[0.6666666666666666,\"#ed7953\"],[0.7777777777777778,\"#fb9f3a\"],[0.8888888888888888,\"#fdca26\"],[1.0,\"#f0f921\"]]}],\"surface\":[{\"type\":\"surface\",\"colorbar\":{\"outlinewidth\":0,\"ticks\":\"\"},\"colorscale\":[[0.0,\"#0d0887\"],[0.1111111111111111,\"#46039f\"],[0.2222222222222222,\"#7201a8\"],[0.3333333333333333,\"#9c179e\"],[0.4444444444444444,\"#bd3786\"],[0.5555555555555556,\"#d8576b\"],[0.6666666666666666,\"#ed7953\"],[0.7777777777777778,\"#fb9f3a\"],[0.8888888888888888,\"#fdca26\"],[1.0,\"#f0f921\"]]}],\"mesh3d\":[{\"type\":\"mesh3d\",\"colorbar\":{\"outlinewidth\":0,\"ticks\":\"\"}}],\"scatter\":[{\"fillpattern\":{\"fillmode\":\"overlay\",\"size\":10,\"solidity\":0.2},\"type\":\"scatter\"}],\"parcoords\":[{\"type\":\"parcoords\",\"line\":{\"colorbar\":{\"outlinewidth\":0,\"ticks\":\"\"}}}],\"scatterpolargl\":[{\"type\":\"scatterpolargl\",\"marker\":{\"colorbar\":{\"outlinewidth\":0,\"ticks\":\"\"}}}],\"bar\":[{\"error_x\":{\"color\":\"#2a3f5f\"},\"error_y\":{\"color\":\"#2a3f5f\"},\"marker\":{\"line\":{\"color\":\"#E5ECF6\",\"width\":0.5},\"pattern\":{\"fillmode\":\"overlay\",\"size\":10,\"solidity\":0.2}},\"type\":\"bar\"}],\"scattergeo\":[{\"type\":\"scattergeo\",\"marker\":{\"colorbar\":{\"outlinewidth\":0,\"ticks\":\"\"}}}],\"scatterpolar\":[{\"type\":\"scatterpolar\",\"marker\":{\"colorbar\":{\"outlinewidth\":0,\"ticks\":\"\"}}}],\"histogram\":[{\"marker\":{\"pattern\":{\"fillmode\":\"overlay\",\"size\":10,\"solidity\":0.2}},\"type\":\"histogram\"}],\"scattergl\":[{\"type\":\"scattergl\",\"marker\":{\"colorbar\":{\"outlinewidth\":0,\"ticks\":\"\"}}}],\"scatter3d\":[{\"type\":\"scatter3d\",\"line\":{\"colorbar\":{\"outlinewidth\":0,\"ticks\":\"\"}},\"marker\":{\"colorbar\":{\"outlinewidth\":0,\"ticks\":\"\"}}}],\"scattermapbox\":[{\"type\":\"scattermapbox\",\"marker\":{\"colorbar\":{\"outlinewidth\":0,\"ticks\":\"\"}}}],\"scatterternary\":[{\"type\":\"scatterternary\",\"marker\":{\"colorbar\":{\"outlinewidth\":0,\"ticks\":\"\"}}}],\"scattercarpet\":[{\"type\":\"scattercarpet\",\"marker\":{\"colorbar\":{\"outlinewidth\":0,\"ticks\":\"\"}}}],\"carpet\":[{\"aaxis\":{\"endlinecolor\":\"#2a3f5f\",\"gridcolor\":\"white\",\"linecolor\":\"white\",\"minorgridcolor\":\"white\",\"startlinecolor\":\"#2a3f5f\"},\"baxis\":{\"endlinecolor\":\"#2a3f5f\",\"gridcolor\":\"white\",\"linecolor\":\"white\",\"minorgridcolor\":\"white\",\"startlinecolor\":\"#2a3f5f\"},\"type\":\"carpet\"}],\"table\":[{\"cells\":{\"fill\":{\"color\":\"#EBF0F8\"},\"line\":{\"color\":\"white\"}},\"header\":{\"fill\":{\"color\":\"#C8D4E3\"},\"line\":{\"color\":\"white\"}},\"type\":\"table\"}],\"barpolar\":[{\"marker\":{\"line\":{\"color\":\"#E5ECF6\",\"width\":0.5},\"pattern\":{\"fillmode\":\"overlay\",\"size\":10,\"solidity\":0.2}},\"type\":\"barpolar\"}],\"pie\":[{\"automargin\":true,\"type\":\"pie\"}]},\"layout\":{\"autotypenumbers\":\"strict\",\"colorway\":[\"#636efa\",\"#EF553B\",\"#00cc96\",\"#ab63fa\",\"#FFA15A\",\"#19d3f3\",\"#FF6692\",\"#B6E880\",\"#FF97FF\",\"#FECB52\"],\"font\":{\"color\":\"#2a3f5f\"},\"hovermode\":\"closest\",\"hoverlabel\":{\"align\":\"left\"},\"paper_bgcolor\":\"white\",\"plot_bgcolor\":\"#E5ECF6\",\"polar\":{\"bgcolor\":\"#E5ECF6\",\"angularaxis\":{\"gridcolor\":\"white\",\"linecolor\":\"white\",\"ticks\":\"\"},\"radialaxis\":{\"gridcolor\":\"white\",\"linecolor\":\"white\",\"ticks\":\"\"}},\"ternary\":{\"bgcolor\":\"#E5ECF6\",\"aaxis\":{\"gridcolor\":\"white\",\"linecolor\":\"white\",\"ticks\":\"\"},\"baxis\":{\"gridcolor\":\"white\",\"linecolor\":\"white\",\"ticks\":\"\"},\"caxis\":{\"gridcolor\":\"white\",\"linecolor\":\"white\",\"ticks\":\"\"}},\"coloraxis\":{\"colorbar\":{\"outlinewidth\":0,\"ticks\":\"\"}},\"colorscale\":{\"sequential\":[[0.0,\"#0d0887\"],[0.1111111111111111,\"#46039f\"],[0.2222222222222222,\"#7201a8\"],[0.3333333333333333,\"#9c179e\"],[0.4444444444444444,\"#bd3786\"],[0.5555555555555556,\"#d8576b\"],[0.6666666666666666,\"#ed7953\"],[0.7777777777777778,\"#fb9f3a\"],[0.8888888888888888,\"#fdca26\"],[1.0,\"#f0f921\"]],\"sequentialminus\":[[0.0,\"#0d0887\"],[0.1111111111111111,\"#46039f\"],[0.2222222222222222,\"#7201a8\"],[0.3333333333333333,\"#9c179e\"],[0.4444444444444444,\"#bd3786\"],[0.5555555555555556,\"#d8576b\"],[0.6666666666666666,\"#ed7953\"],[0.7777777777777778,\"#fb9f3a\"],[0.8888888888888888,\"#fdca26\"],[1.0,\"#f0f921\"]],\"diverging\":[[0,\"#8e0152\"],[0.1,\"#c51b7d\"],[0.2,\"#de77ae\"],[0.3,\"#f1b6da\"],[0.4,\"#fde0ef\"],[0.5,\"#f7f7f7\"],[0.6,\"#e6f5d0\"],[0.7,\"#b8e186\"],[0.8,\"#7fbc41\"],[0.9,\"#4d9221\"],[1,\"#276419\"]]},\"xaxis\":{\"gridcolor\":\"white\",\"linecolor\":\"white\",\"ticks\":\"\",\"title\":{\"standoff\":15},\"zerolinecolor\":\"white\",\"automargin\":true,\"zerolinewidth\":2},\"yaxis\":{\"gridcolor\":\"white\",\"linecolor\":\"white\",\"ticks\":\"\",\"title\":{\"standoff\":15},\"zerolinecolor\":\"white\",\"automargin\":true,\"zerolinewidth\":2},\"scene\":{\"xaxis\":{\"backgroundcolor\":\"#E5ECF6\",\"gridcolor\":\"white\",\"linecolor\":\"white\",\"showbackground\":true,\"ticks\":\"\",\"zerolinecolor\":\"white\",\"gridwidth\":2},\"yaxis\":{\"backgroundcolor\":\"#E5ECF6\",\"gridcolor\":\"white\",\"linecolor\":\"white\",\"showbackground\":true,\"ticks\":\"\",\"zerolinecolor\":\"white\",\"gridwidth\":2},\"zaxis\":{\"backgroundcolor\":\"#E5ECF6\",\"gridcolor\":\"white\",\"linecolor\":\"white\",\"showbackground\":true,\"ticks\":\"\",\"zerolinecolor\":\"white\",\"gridwidth\":2}},\"shapedefaults\":{\"line\":{\"color\":\"#2a3f5f\"}},\"annotationdefaults\":{\"arrowcolor\":\"#2a3f5f\",\"arrowhead\":0,\"arrowwidth\":1},\"geo\":{\"bgcolor\":\"white\",\"landcolor\":\"#E5ECF6\",\"subunitcolor\":\"white\",\"showland\":true,\"showlakes\":true,\"lakecolor\":\"white\"},\"title\":{\"x\":0.05},\"mapbox\":{\"style\":\"light\"}}},\"polar\":{\"domain\":{\"x\":[0.0,1.0],\"y\":[0.0,1.0]},\"angularaxis\":{\"direction\":\"clockwise\",\"rotation\":90}},\"legend\":{\"tracegroupgap\":0},\"margin\":{\"t\":60}},                        {\"responsive\": true}                    ).then(function(){\n",
       "                            \n",
       "var gd = document.getElementById('a1097372-8eb1-400b-8459-3e47c9f01fd5');\n",
       "var x = new MutationObserver(function (mutations, observer) {{\n",
       "        var display = window.getComputedStyle(gd).display;\n",
       "        if (!display || display === 'none') {{\n",
       "            console.log([gd, 'removed!']);\n",
       "            Plotly.purge(gd);\n",
       "            observer.disconnect();\n",
       "        }}\n",
       "}});\n",
       "\n",
       "// Listen for the removal of the full notebook cells\n",
       "var notebookContainer = gd.closest('#notebook-container');\n",
       "if (notebookContainer) {{\n",
       "    x.observe(notebookContainer, {childList: true});\n",
       "}}\n",
       "\n",
       "// Listen for the clearing of the current output cell\n",
       "var outputEl = gd.closest('.output');\n",
       "if (outputEl) {{\n",
       "    x.observe(outputEl, {childList: true});\n",
       "}}\n",
       "\n",
       "                        })                };                });            </script>        </div>"
      ]
     },
     "metadata": {},
     "output_type": "display_data"
    },
    {
     "data": {
      "image/png": "[encoded data removed]",
      "text/plain": [
       "<Figure size 1500x500 with 1 Axes>"
      ]
     },
     "metadata": {},
     "output_type": "display_data"
    }
   ],
   "source": [
    "sample_text = \"hey! hru, wanna ply valo toni8?\"\n",
    "predictions = predict(sample_text, best_model, tokenizer, device, max_len=128)\n",
    "print(f\"Predicted sentiment polarities for '{sample_text}': {predictions}\")\n",
    "\n",
    "\n",
    "predictions_array = predictions.squeeze()\n",
    "binary_predictions = np.zeros_like(predictions_array)\n",
    "max_indices = np.argmax(predictions_array)\n",
    "binary_predictions[max_indices] = 1\n",
    "\n",
    "print(f\"NEAGTIVE: {binary_predictions[0]}, NEUTRAL: {binary_predictions[1]}, POSITIVE: {binary_predictions[2]}\")\n",
    "\n",
    "# labels = ['Negative', 'Neutral', 'Positive']\n",
    "\n",
    "\n",
    "\n",
    "sentiment_polarities = []\n",
    "for items in predictions_array:\n",
    "    sentiment_polarities.append(items)\n",
    "\n",
    "fig = px.line_polar(pd.DataFrame(dict(r=sentiment_polarities, theta=SENTIMENT_POLARITY_LABELS)), r='r', theta='theta', line_close=True)\n",
    "fig.show()\n",
    "\n",
    "\n",
    "normalized_predictions = predictions_array / predictions_array.sum()\n",
    "\n",
    "fig, ax = plt.subplots(figsize=(15, 5))\n",
    "\n",
    "left = 0\n",
    "for i in range(len(normalized_predictions)):\n",
    "    ax.barh(0, normalized_predictions[i], color=plt.cm.tab10(i), left=left, label=SENTIMENT_POLARITY_LABELS[i])\n",
    "    left += normalized_predictions[i]\n",
    "\n",
    "# Add legend\n",
    "ax.set_xlim(0, 1)\n",
    "ax.set_yticks([])\n",
    "ax.set_xticks(np.arange(0, 1.1, 0.1))\n",
    "ax.legend(loc='upper center', bbox_to_anchor=(0.5, -0.05), ncol=len(SENTIMENT_POLARITY_LABELS))\n",
    "\n",
    "# Add title\n",
    "plt.title('Sentiment Polarity Prediction Distribution')\n",
    "\n",
    "plt.show()"
   ]
  },
  {
   "cell_type": "code",
   "execution_count": 62,
   "id": "50532c36",
   "metadata": {
    "execution": {
     "iopub.execute_input": "2024-08-31T11:31:22.476880Z",
     "iopub.status.busy": "2024-08-31T11:31:22.476497Z",
     "iopub.status.idle": "2024-08-31T11:31:22.793940Z",
     "shell.execute_reply": "2024-08-31T11:31:22.792745Z"
    },
    "papermill": {
     "duration": 0.363755,
     "end_time": "2024-08-31T11:31:22.797472",
     "exception": false,
     "start_time": "2024-08-31T11:31:22.433717",
     "status": "completed"
    },
    "tags": []
   },
   "outputs": [
    {
     "name": "stdout",
     "output_type": "stream",
     "text": [
      "Predicted sentiment polarities for 'what a badass char is arthur, he is the best game char ever made, i luv rdr2': [[0.00264824 0.01474799 0.9822923 ]]\n",
      "NEAGTIVE: 0.0, NEUTRAL: 0.0, POSITIVE: 1.0\n"
     ]
    },
    {
     "data": {
      "text/html": [
       "<div>                            <div id=\"4edb9cbc-3cc0-4a4c-858c-1300e232e1fe\" class=\"plotly-graph-div\" style=\"height:525px; width:100%;\"></div>            <script type=\"text/javascript\">                require([\"plotly\"], function(Plotly) {                    window.PLOTLYENV=window.PLOTLYENV || {};                                    if (document.getElementById(\"4edb9cbc-3cc0-4a4c-858c-1300e232e1fe\")) {                    Plotly.newPlot(                        \"4edb9cbc-3cc0-4a4c-858c-1300e232e1fe\",                        [{\"hovertemplate\":\"r=%{r}\\u003cbr\\u003etheta=%{theta}\\u003cextra\\u003e\\u003c\\u002fextra\\u003e\",\"legendgroup\":\"\",\"line\":{\"color\":\"#636efa\",\"dash\":\"solid\"},\"marker\":{\"symbol\":\"circle\"},\"mode\":\"lines\",\"name\":\"\",\"r\":[0.0026482379,0.0147479875,0.9822923,0.0026482379],\"showlegend\":false,\"subplot\":\"polar\",\"theta\":[\"negative\",\"neutral\",\"positive\",\"negative\"],\"type\":\"scatterpolar\"}],                        {\"template\":{\"data\":{\"histogram2dcontour\":[{\"type\":\"histogram2dcontour\",\"colorbar\":{\"outlinewidth\":0,\"ticks\":\"\"},\"colorscale\":[[0.0,\"#0d0887\"],[0.1111111111111111,\"#46039f\"],[0.2222222222222222,\"#7201a8\"],[0.3333333333333333,\"#9c179e\"],[0.4444444444444444,\"#bd3786\"],[0.5555555555555556,\"#d8576b\"],[0.6666666666666666,\"#ed7953\"],[0.7777777777777778,\"#fb9f3a\"],[0.8888888888888888,\"#fdca26\"],[1.0,\"#f0f921\"]]}],\"choropleth\":[{\"type\":\"choropleth\",\"colorbar\":{\"outlinewidth\":0,\"ticks\":\"\"}}],\"histogram2d\":[{\"type\":\"histogram2d\",\"colorbar\":{\"outlinewidth\":0,\"ticks\":\"\"},\"colorscale\":[[0.0,\"#0d0887\"],[0.1111111111111111,\"#46039f\"],[0.2222222222222222,\"#7201a8\"],[0.3333333333333333,\"#9c179e\"],[0.4444444444444444,\"#bd3786\"],[0.5555555555555556,\"#d8576b\"],[0.6666666666666666,\"#ed7953\"],[0.7777777777777778,\"#fb9f3a\"],[0.8888888888888888,\"#fdca26\"],[1.0,\"#f0f921\"]]}],\"heatmap\":[{\"type\":\"heatmap\",\"colorbar\":{\"outlinewidth\":0,\"ticks\":\"\"},\"colorscale\":[[0.0,\"#0d0887\"],[0.1111111111111111,\"#46039f\"],[0.2222222222222222,\"#7201a8\"],[0.3333333333333333,\"#9c179e\"],[0.4444444444444444,\"#bd3786\"],[0.5555555555555556,\"#d8576b\"],[0.6666666666666666,\"#ed7953\"],[0.7777777777777778,\"#fb9f3a\"],[0.8888888888888888,\"#fdca26\"],[1.0,\"#f0f921\"]]}],\"heatmapgl\":[{\"type\":\"heatmapgl\",\"colorbar\":{\"outlinewidth\":0,\"ticks\":\"\"},\"colorscale\":[[0.0,\"#0d0887\"],[0.1111111111111111,\"#46039f\"],[0.2222222222222222,\"#7201a8\"],[0.3333333333333333,\"#9c179e\"],[0.4444444444444444,\"#bd3786\"],[0.5555555555555556,\"#d8576b\"],[0.6666666666666666,\"#ed7953\"],[0.7777777777777778,\"#fb9f3a\"],[0.8888888888888888,\"#fdca26\"],[1.0,\"#f0f921\"]]}],\"contourcarpet\":[{\"type\":\"contourcarpet\",\"colorbar\":{\"outlinewidth\":0,\"ticks\":\"\"}}],\"contour\":[{\"type\":\"contour\",\"colorbar\":{\"outlinewidth\":0,\"ticks\":\"\"},\"colorscale\":[[0.0,\"#0d0887\"],[0.1111111111111111,\"#46039f\"],[0.2222222222222222,\"#7201a8\"],[0.3333333333333333,\"#9c179e\"],[0.4444444444444444,\"#bd3786\"],[0.5555555555555556,\"#d8576b\"],[0.6666666666666666,\"#ed7953\"],[0.7777777777777778,\"#fb9f3a\"],[0.8888888888888888,\"#fdca26\"],[1.0,\"#f0f921\"]]}],\"surface\":[{\"type\":\"surface\",\"colorbar\":{\"outlinewidth\":0,\"ticks\":\"\"},\"colorscale\":[[0.0,\"#0d0887\"],[0.1111111111111111,\"#46039f\"],[0.2222222222222222,\"#7201a8\"],[0.3333333333333333,\"#9c179e\"],[0.4444444444444444,\"#bd3786\"],[0.5555555555555556,\"#d8576b\"],[0.6666666666666666,\"#ed7953\"],[0.7777777777777778,\"#fb9f3a\"],[0.8888888888888888,\"#fdca26\"],[1.0,\"#f0f921\"]]}],\"mesh3d\":[{\"type\":\"mesh3d\",\"colorbar\":{\"outlinewidth\":0,\"ticks\":\"\"}}],\"scatter\":[{\"fillpattern\":{\"fillmode\":\"overlay\",\"size\":10,\"solidity\":0.2},\"type\":\"scatter\"}],\"parcoords\":[{\"type\":\"parcoords\",\"line\":{\"colorbar\":{\"outlinewidth\":0,\"ticks\":\"\"}}}],\"scatterpolargl\":[{\"type\":\"scatterpolargl\",\"marker\":{\"colorbar\":{\"outlinewidth\":0,\"ticks\":\"\"}}}],\"bar\":[{\"error_x\":{\"color\":\"#2a3f5f\"},\"error_y\":{\"color\":\"#2a3f5f\"},\"marker\":{\"line\":{\"color\":\"#E5ECF6\",\"width\":0.5},\"pattern\":{\"fillmode\":\"overlay\",\"size\":10,\"solidity\":0.2}},\"type\":\"bar\"}],\"scattergeo\":[{\"type\":\"scattergeo\",\"marker\":{\"colorbar\":{\"outlinewidth\":0,\"ticks\":\"\"}}}],\"scatterpolar\":[{\"type\":\"scatterpolar\",\"marker\":{\"colorbar\":{\"outlinewidth\":0,\"ticks\":\"\"}}}],\"histogram\":[{\"marker\":{\"pattern\":{\"fillmode\":\"overlay\",\"size\":10,\"solidity\":0.2}},\"type\":\"histogram\"}],\"scattergl\":[{\"type\":\"scattergl\",\"marker\":{\"colorbar\":{\"outlinewidth\":0,\"ticks\":\"\"}}}],\"scatter3d\":[{\"type\":\"scatter3d\",\"line\":{\"colorbar\":{\"outlinewidth\":0,\"ticks\":\"\"}},\"marker\":{\"colorbar\":{\"outlinewidth\":0,\"ticks\":\"\"}}}],\"scattermapbox\":[{\"type\":\"scattermapbox\",\"marker\":{\"colorbar\":{\"outlinewidth\":0,\"ticks\":\"\"}}}],\"scatterternary\":[{\"type\":\"scatterternary\",\"marker\":{\"colorbar\":{\"outlinewidth\":0,\"ticks\":\"\"}}}],\"scattercarpet\":[{\"type\":\"scattercarpet\",\"marker\":{\"colorbar\":{\"outlinewidth\":0,\"ticks\":\"\"}}}],\"carpet\":[{\"aaxis\":{\"endlinecolor\":\"#2a3f5f\",\"gridcolor\":\"white\",\"linecolor\":\"white\",\"minorgridcolor\":\"white\",\"startlinecolor\":\"#2a3f5f\"},\"baxis\":{\"endlinecolor\":\"#2a3f5f\",\"gridcolor\":\"white\",\"linecolor\":\"white\",\"minorgridcolor\":\"white\",\"startlinecolor\":\"#2a3f5f\"},\"type\":\"carpet\"}],\"table\":[{\"cells\":{\"fill\":{\"color\":\"#EBF0F8\"},\"line\":{\"color\":\"white\"}},\"header\":{\"fill\":{\"color\":\"#C8D4E3\"},\"line\":{\"color\":\"white\"}},\"type\":\"table\"}],\"barpolar\":[{\"marker\":{\"line\":{\"color\":\"#E5ECF6\",\"width\":0.5},\"pattern\":{\"fillmode\":\"overlay\",\"size\":10,\"solidity\":0.2}},\"type\":\"barpolar\"}],\"pie\":[{\"automargin\":true,\"type\":\"pie\"}]},\"layout\":{\"autotypenumbers\":\"strict\",\"colorway\":[\"#636efa\",\"#EF553B\",\"#00cc96\",\"#ab63fa\",\"#FFA15A\",\"#19d3f3\",\"#FF6692\",\"#B6E880\",\"#FF97FF\",\"#FECB52\"],\"font\":{\"color\":\"#2a3f5f\"},\"hovermode\":\"closest\",\"hoverlabel\":{\"align\":\"left\"},\"paper_bgcolor\":\"white\",\"plot_bgcolor\":\"#E5ECF6\",\"polar\":{\"bgcolor\":\"#E5ECF6\",\"angularaxis\":{\"gridcolor\":\"white\",\"linecolor\":\"white\",\"ticks\":\"\"},\"radialaxis\":{\"gridcolor\":\"white\",\"linecolor\":\"white\",\"ticks\":\"\"}},\"ternary\":{\"bgcolor\":\"#E5ECF6\",\"aaxis\":{\"gridcolor\":\"white\",\"linecolor\":\"white\",\"ticks\":\"\"},\"baxis\":{\"gridcolor\":\"white\",\"linecolor\":\"white\",\"ticks\":\"\"},\"caxis\":{\"gridcolor\":\"white\",\"linecolor\":\"white\",\"ticks\":\"\"}},\"coloraxis\":{\"colorbar\":{\"outlinewidth\":0,\"ticks\":\"\"}},\"colorscale\":{\"sequential\":[[0.0,\"#0d0887\"],[0.1111111111111111,\"#46039f\"],[0.2222222222222222,\"#7201a8\"],[0.3333333333333333,\"#9c179e\"],[0.4444444444444444,\"#bd3786\"],[0.5555555555555556,\"#d8576b\"],[0.6666666666666666,\"#ed7953\"],[0.7777777777777778,\"#fb9f3a\"],[0.8888888888888888,\"#fdca26\"],[1.0,\"#f0f921\"]],\"sequentialminus\":[[0.0,\"#0d0887\"],[0.1111111111111111,\"#46039f\"],[0.2222222222222222,\"#7201a8\"],[0.3333333333333333,\"#9c179e\"],[0.4444444444444444,\"#bd3786\"],[0.5555555555555556,\"#d8576b\"],[0.6666666666666666,\"#ed7953\"],[0.7777777777777778,\"#fb9f3a\"],[0.8888888888888888,\"#fdca26\"],[1.0,\"#f0f921\"]],\"diverging\":[[0,\"#8e0152\"],[0.1,\"#c51b7d\"],[0.2,\"#de77ae\"],[0.3,\"#f1b6da\"],[0.4,\"#fde0ef\"],[0.5,\"#f7f7f7\"],[0.6,\"#e6f5d0\"],[0.7,\"#b8e186\"],[0.8,\"#7fbc41\"],[0.9,\"#4d9221\"],[1,\"#276419\"]]},\"xaxis\":{\"gridcolor\":\"white\",\"linecolor\":\"white\",\"ticks\":\"\",\"title\":{\"standoff\":15},\"zerolinecolor\":\"white\",\"automargin\":true,\"zerolinewidth\":2},\"yaxis\":{\"gridcolor\":\"white\",\"linecolor\":\"white\",\"ticks\":\"\",\"title\":{\"standoff\":15},\"zerolinecolor\":\"white\",\"automargin\":true,\"zerolinewidth\":2},\"scene\":{\"xaxis\":{\"backgroundcolor\":\"#E5ECF6\",\"gridcolor\":\"white\",\"linecolor\":\"white\",\"showbackground\":true,\"ticks\":\"\",\"zerolinecolor\":\"white\",\"gridwidth\":2},\"yaxis\":{\"backgroundcolor\":\"#E5ECF6\",\"gridcolor\":\"white\",\"linecolor\":\"white\",\"showbackground\":true,\"ticks\":\"\",\"zerolinecolor\":\"white\",\"gridwidth\":2},\"zaxis\":{\"backgroundcolor\":\"#E5ECF6\",\"gridcolor\":\"white\",\"linecolor\":\"white\",\"showbackground\":true,\"ticks\":\"\",\"zerolinecolor\":\"white\",\"gridwidth\":2}},\"shapedefaults\":{\"line\":{\"color\":\"#2a3f5f\"}},\"annotationdefaults\":{\"arrowcolor\":\"#2a3f5f\",\"arrowhead\":0,\"arrowwidth\":1},\"geo\":{\"bgcolor\":\"white\",\"landcolor\":\"#E5ECF6\",\"subunitcolor\":\"white\",\"showland\":true,\"showlakes\":true,\"lakecolor\":\"white\"},\"title\":{\"x\":0.05},\"mapbox\":{\"style\":\"light\"}}},\"polar\":{\"domain\":{\"x\":[0.0,1.0],\"y\":[0.0,1.0]},\"angularaxis\":{\"direction\":\"clockwise\",\"rotation\":90}},\"legend\":{\"tracegroupgap\":0},\"margin\":{\"t\":60}},                        {\"responsive\": true}                    ).then(function(){\n",
       "                            \n",
       "var gd = document.getElementById('4edb9cbc-3cc0-4a4c-858c-1300e232e1fe');\n",
       "var x = new MutationObserver(function (mutations, observer) {{\n",
       "        var display = window.getComputedStyle(gd).display;\n",
       "        if (!display || display === 'none') {{\n",
       "            console.log([gd, 'removed!']);\n",
       "            Plotly.purge(gd);\n",
       "            observer.disconnect();\n",
       "        }}\n",
       "}});\n",
       "\n",
       "// Listen for the removal of the full notebook cells\n",
       "var notebookContainer = gd.closest('#notebook-container');\n",
       "if (notebookContainer) {{\n",
       "    x.observe(notebookContainer, {childList: true});\n",
       "}}\n",
       "\n",
       "// Listen for the clearing of the current output cell\n",
       "var outputEl = gd.closest('.output');\n",
       "if (outputEl) {{\n",
       "    x.observe(outputEl, {childList: true});\n",
       "}}\n",
       "\n",
       "                        })                };                });            </script>        </div>"
      ]
     },
     "metadata": {},
     "output_type": "display_data"
    },
    {
     "data": {
      "image/png": "[encoded data removed]",
      "text/plain": [
       "<Figure size 1500x500 with 1 Axes>"
      ]
     },
     "metadata": {},
     "output_type": "display_data"
    }
   ],
   "source": [
    "sample_text = \"what a badass char is arthur, he is the best game char ever made, i luv rdr2\"\n",
    "predictions = predict(sample_text, best_model, tokenizer, device, max_len=128)\n",
    "print(f\"Predicted sentiment polarities for '{sample_text}': {predictions}\")\n",
    "\n",
    "\n",
    "predictions_array = predictions.squeeze()\n",
    "binary_predictions = np.zeros_like(predictions_array)\n",
    "max_indices = np.argmax(predictions_array)\n",
    "binary_predictions[max_indices] = 1\n",
    "\n",
    "print(f\"NEAGTIVE: {binary_predictions[0]}, NEUTRAL: {binary_predictions[1]}, POSITIVE: {binary_predictions[2]}\")\n",
    "\n",
    "# labels = ['Negative', 'Neutral', 'Positive']\n",
    "\n",
    "\n",
    "\n",
    "sentiment_polarities = []\n",
    "for items in predictions_array:\n",
    "    sentiment_polarities.append(items)\n",
    "\n",
    "fig = px.line_polar(pd.DataFrame(dict(r=sentiment_polarities, theta=SENTIMENT_POLARITY_LABELS)), r='r', theta='theta', line_close=True)\n",
    "fig.show()\n",
    "\n",
    "\n",
    "normalized_predictions = predictions_array / predictions_array.sum()\n",
    "\n",
    "fig, ax = plt.subplots(figsize=(15, 5))\n",
    "\n",
    "left = 0\n",
    "for i in range(len(normalized_predictions)):\n",
    "    ax.barh(0, normalized_predictions[i], color=plt.cm.tab10(i), left=left, label=SENTIMENT_POLARITY_LABELS[i])\n",
    "    left += normalized_predictions[i]\n",
    "\n",
    "# Add legend\n",
    "ax.set_xlim(0, 1)\n",
    "ax.set_yticks([])\n",
    "ax.set_xticks(np.arange(0, 1.1, 0.1))\n",
    "ax.legend(loc='upper center', bbox_to_anchor=(0.5, -0.05), ncol=len(SENTIMENT_POLARITY_LABELS))\n",
    "\n",
    "# Add title\n",
    "plt.title('Sentiment Polarity Prediction Distribution')\n",
    "\n",
    "plt.show()"
   ]
  },
  {
   "cell_type": "code",
   "execution_count": 63,
   "id": "ac41a8ce",
   "metadata": {
    "execution": {
     "iopub.execute_input": "2024-08-31T11:31:22.887637Z",
     "iopub.status.busy": "2024-08-31T11:31:22.887327Z",
     "iopub.status.idle": "2024-08-31T11:31:23.211696Z",
     "shell.execute_reply": "2024-08-31T11:31:23.210409Z"
    },
    "papermill": {
     "duration": 0.370604,
     "end_time": "2024-08-31T11:31:23.214356",
     "exception": false,
     "start_time": "2024-08-31T11:31:22.843752",
     "status": "completed"
    },
    "tags": []
   },
   "outputs": [
    {
     "name": "stdout",
     "output_type": "stream",
     "text": [
      "Predicted sentiment polarities for 'I don't no fr y hes sooo sad.': [[0.9568717  0.03126885 0.01763903]]\n",
      "NEAGTIVE: 1.0, NEUTRAL: 0.0, POSITIVE: 0.0\n"
     ]
    },
    {
     "data": {
      "text/html": [
       "<div>                            <div id=\"67646fe9-2ce3-4d9c-82f4-f25b14cf8e6f\" class=\"plotly-graph-div\" style=\"height:525px; width:100%;\"></div>            <script type=\"text/javascript\">                require([\"plotly\"], function(Plotly) {                    window.PLOTLYENV=window.PLOTLYENV || {};                                    if (document.getElementById(\"67646fe9-2ce3-4d9c-82f4-f25b14cf8e6f\")) {                    Plotly.newPlot(                        \"67646fe9-2ce3-4d9c-82f4-f25b14cf8e6f\",                        [{\"hovertemplate\":\"r=%{r}\\u003cbr\\u003etheta=%{theta}\\u003cextra\\u003e\\u003c\\u002fextra\\u003e\",\"legendgroup\":\"\",\"line\":{\"color\":\"#636efa\",\"dash\":\"solid\"},\"marker\":{\"symbol\":\"circle\"},\"mode\":\"lines\",\"name\":\"\",\"r\":[0.9568717,0.031268854,0.017639026,0.9568717],\"showlegend\":false,\"subplot\":\"polar\",\"theta\":[\"negative\",\"neutral\",\"positive\",\"negative\"],\"type\":\"scatterpolar\"}],                        {\"template\":{\"data\":{\"histogram2dcontour\":[{\"type\":\"histogram2dcontour\",\"colorbar\":{\"outlinewidth\":0,\"ticks\":\"\"},\"colorscale\":[[0.0,\"#0d0887\"],[0.1111111111111111,\"#46039f\"],[0.2222222222222222,\"#7201a8\"],[0.3333333333333333,\"#9c179e\"],[0.4444444444444444,\"#bd3786\"],[0.5555555555555556,\"#d8576b\"],[0.6666666666666666,\"#ed7953\"],[0.7777777777777778,\"#fb9f3a\"],[0.8888888888888888,\"#fdca26\"],[1.0,\"#f0f921\"]]}],\"choropleth\":[{\"type\":\"choropleth\",\"colorbar\":{\"outlinewidth\":0,\"ticks\":\"\"}}],\"histogram2d\":[{\"type\":\"histogram2d\",\"colorbar\":{\"outlinewidth\":0,\"ticks\":\"\"},\"colorscale\":[[0.0,\"#0d0887\"],[0.1111111111111111,\"#46039f\"],[0.2222222222222222,\"#7201a8\"],[0.3333333333333333,\"#9c179e\"],[0.4444444444444444,\"#bd3786\"],[0.5555555555555556,\"#d8576b\"],[0.6666666666666666,\"#ed7953\"],[0.7777777777777778,\"#fb9f3a\"],[0.8888888888888888,\"#fdca26\"],[1.0,\"#f0f921\"]]}],\"heatmap\":[{\"type\":\"heatmap\",\"colorbar\":{\"outlinewidth\":0,\"ticks\":\"\"},\"colorscale\":[[0.0,\"#0d0887\"],[0.1111111111111111,\"#46039f\"],[0.2222222222222222,\"#7201a8\"],[0.3333333333333333,\"#9c179e\"],[0.4444444444444444,\"#bd3786\"],[0.5555555555555556,\"#d8576b\"],[0.6666666666666666,\"#ed7953\"],[0.7777777777777778,\"#fb9f3a\"],[0.8888888888888888,\"#fdca26\"],[1.0,\"#f0f921\"]]}],\"heatmapgl\":[{\"type\":\"heatmapgl\",\"colorbar\":{\"outlinewidth\":0,\"ticks\":\"\"},\"colorscale\":[[0.0,\"#0d0887\"],[0.1111111111111111,\"#46039f\"],[0.2222222222222222,\"#7201a8\"],[0.3333333333333333,\"#9c179e\"],[0.4444444444444444,\"#bd3786\"],[0.5555555555555556,\"#d8576b\"],[0.6666666666666666,\"#ed7953\"],[0.7777777777777778,\"#fb9f3a\"],[0.8888888888888888,\"#fdca26\"],[1.0,\"#f0f921\"]]}],\"contourcarpet\":[{\"type\":\"contourcarpet\",\"colorbar\":{\"outlinewidth\":0,\"ticks\":\"\"}}],\"contour\":[{\"type\":\"contour\",\"colorbar\":{\"outlinewidth\":0,\"ticks\":\"\"},\"colorscale\":[[0.0,\"#0d0887\"],[0.1111111111111111,\"#46039f\"],[0.2222222222222222,\"#7201a8\"],[0.3333333333333333,\"#9c179e\"],[0.4444444444444444,\"#bd3786\"],[0.5555555555555556,\"#d8576b\"],[0.6666666666666666,\"#ed7953\"],[0.7777777777777778,\"#fb9f3a\"],[0.8888888888888888,\"#fdca26\"],[1.0,\"#f0f921\"]]}],\"surface\":[{\"type\":\"surface\",\"colorbar\":{\"outlinewidth\":0,\"ticks\":\"\"},\"colorscale\":[[0.0,\"#0d0887\"],[0.1111111111111111,\"#46039f\"],[0.2222222222222222,\"#7201a8\"],[0.3333333333333333,\"#9c179e\"],[0.4444444444444444,\"#bd3786\"],[0.5555555555555556,\"#d8576b\"],[0.6666666666666666,\"#ed7953\"],[0.7777777777777778,\"#fb9f3a\"],[0.8888888888888888,\"#fdca26\"],[1.0,\"#f0f921\"]]}],\"mesh3d\":[{\"type\":\"mesh3d\",\"colorbar\":{\"outlinewidth\":0,\"ticks\":\"\"}}],\"scatter\":[{\"fillpattern\":{\"fillmode\":\"overlay\",\"size\":10,\"solidity\":0.2},\"type\":\"scatter\"}],\"parcoords\":[{\"type\":\"parcoords\",\"line\":{\"colorbar\":{\"outlinewidth\":0,\"ticks\":\"\"}}}],\"scatterpolargl\":[{\"type\":\"scatterpolargl\",\"marker\":{\"colorbar\":{\"outlinewidth\":0,\"ticks\":\"\"}}}],\"bar\":[{\"error_x\":{\"color\":\"#2a3f5f\"},\"error_y\":{\"color\":\"#2a3f5f\"},\"marker\":{\"line\":{\"color\":\"#E5ECF6\",\"width\":0.5},\"pattern\":{\"fillmode\":\"overlay\",\"size\":10,\"solidity\":0.2}},\"type\":\"bar\"}],\"scattergeo\":[{\"type\":\"scattergeo\",\"marker\":{\"colorbar\":{\"outlinewidth\":0,\"ticks\":\"\"}}}],\"scatterpolar\":[{\"type\":\"scatterpolar\",\"marker\":{\"colorbar\":{\"outlinewidth\":0,\"ticks\":\"\"}}}],\"histogram\":[{\"marker\":{\"pattern\":{\"fillmode\":\"overlay\",\"size\":10,\"solidity\":0.2}},\"type\":\"histogram\"}],\"scattergl\":[{\"type\":\"scattergl\",\"marker\":{\"colorbar\":{\"outlinewidth\":0,\"ticks\":\"\"}}}],\"scatter3d\":[{\"type\":\"scatter3d\",\"line\":{\"colorbar\":{\"outlinewidth\":0,\"ticks\":\"\"}},\"marker\":{\"colorbar\":{\"outlinewidth\":0,\"ticks\":\"\"}}}],\"scattermapbox\":[{\"type\":\"scattermapbox\",\"marker\":{\"colorbar\":{\"outlinewidth\":0,\"ticks\":\"\"}}}],\"scatterternary\":[{\"type\":\"scatterternary\",\"marker\":{\"colorbar\":{\"outlinewidth\":0,\"ticks\":\"\"}}}],\"scattercarpet\":[{\"type\":\"scattercarpet\",\"marker\":{\"colorbar\":{\"outlinewidth\":0,\"ticks\":\"\"}}}],\"carpet\":[{\"aaxis\":{\"endlinecolor\":\"#2a3f5f\",\"gridcolor\":\"white\",\"linecolor\":\"white\",\"minorgridcolor\":\"white\",\"startlinecolor\":\"#2a3f5f\"},\"baxis\":{\"endlinecolor\":\"#2a3f5f\",\"gridcolor\":\"white\",\"linecolor\":\"white\",\"minorgridcolor\":\"white\",\"startlinecolor\":\"#2a3f5f\"},\"type\":\"carpet\"}],\"table\":[{\"cells\":{\"fill\":{\"color\":\"#EBF0F8\"},\"line\":{\"color\":\"white\"}},\"header\":{\"fill\":{\"color\":\"#C8D4E3\"},\"line\":{\"color\":\"white\"}},\"type\":\"table\"}],\"barpolar\":[{\"marker\":{\"line\":{\"color\":\"#E5ECF6\",\"width\":0.5},\"pattern\":{\"fillmode\":\"overlay\",\"size\":10,\"solidity\":0.2}},\"type\":\"barpolar\"}],\"pie\":[{\"automargin\":true,\"type\":\"pie\"}]},\"layout\":{\"autotypenumbers\":\"strict\",\"colorway\":[\"#636efa\",\"#EF553B\",\"#00cc96\",\"#ab63fa\",\"#FFA15A\",\"#19d3f3\",\"#FF6692\",\"#B6E880\",\"#FF97FF\",\"#FECB52\"],\"font\":{\"color\":\"#2a3f5f\"},\"hovermode\":\"closest\",\"hoverlabel\":{\"align\":\"left\"},\"paper_bgcolor\":\"white\",\"plot_bgcolor\":\"#E5ECF6\",\"polar\":{\"bgcolor\":\"#E5ECF6\",\"angularaxis\":{\"gridcolor\":\"white\",\"linecolor\":\"white\",\"ticks\":\"\"},\"radialaxis\":{\"gridcolor\":\"white\",\"linecolor\":\"white\",\"ticks\":\"\"}},\"ternary\":{\"bgcolor\":\"#E5ECF6\",\"aaxis\":{\"gridcolor\":\"white\",\"linecolor\":\"white\",\"ticks\":\"\"},\"baxis\":{\"gridcolor\":\"white\",\"linecolor\":\"white\",\"ticks\":\"\"},\"caxis\":{\"gridcolor\":\"white\",\"linecolor\":\"white\",\"ticks\":\"\"}},\"coloraxis\":{\"colorbar\":{\"outlinewidth\":0,\"ticks\":\"\"}},\"colorscale\":{\"sequential\":[[0.0,\"#0d0887\"],[0.1111111111111111,\"#46039f\"],[0.2222222222222222,\"#7201a8\"],[0.3333333333333333,\"#9c179e\"],[0.4444444444444444,\"#bd3786\"],[0.5555555555555556,\"#d8576b\"],[0.6666666666666666,\"#ed7953\"],[0.7777777777777778,\"#fb9f3a\"],[0.8888888888888888,\"#fdca26\"],[1.0,\"#f0f921\"]],\"sequentialminus\":[[0.0,\"#0d0887\"],[0.1111111111111111,\"#46039f\"],[0.2222222222222222,\"#7201a8\"],[0.3333333333333333,\"#9c179e\"],[0.4444444444444444,\"#bd3786\"],[0.5555555555555556,\"#d8576b\"],[0.6666666666666666,\"#ed7953\"],[0.7777777777777778,\"#fb9f3a\"],[0.8888888888888888,\"#fdca26\"],[1.0,\"#f0f921\"]],\"diverging\":[[0,\"#8e0152\"],[0.1,\"#c51b7d\"],[0.2,\"#de77ae\"],[0.3,\"#f1b6da\"],[0.4,\"#fde0ef\"],[0.5,\"#f7f7f7\"],[0.6,\"#e6f5d0\"],[0.7,\"#b8e186\"],[0.8,\"#7fbc41\"],[0.9,\"#4d9221\"],[1,\"#276419\"]]},\"xaxis\":{\"gridcolor\":\"white\",\"linecolor\":\"white\",\"ticks\":\"\",\"title\":{\"standoff\":15},\"zerolinecolor\":\"white\",\"automargin\":true,\"zerolinewidth\":2},\"yaxis\":{\"gridcolor\":\"white\",\"linecolor\":\"white\",\"ticks\":\"\",\"title\":{\"standoff\":15},\"zerolinecolor\":\"white\",\"automargin\":true,\"zerolinewidth\":2},\"scene\":{\"xaxis\":{\"backgroundcolor\":\"#E5ECF6\",\"gridcolor\":\"white\",\"linecolor\":\"white\",\"showbackground\":true,\"ticks\":\"\",\"zerolinecolor\":\"white\",\"gridwidth\":2},\"yaxis\":{\"backgroundcolor\":\"#E5ECF6\",\"gridcolor\":\"white\",\"linecolor\":\"white\",\"showbackground\":true,\"ticks\":\"\",\"zerolinecolor\":\"white\",\"gridwidth\":2},\"zaxis\":{\"backgroundcolor\":\"#E5ECF6\",\"gridcolor\":\"white\",\"linecolor\":\"white\",\"showbackground\":true,\"ticks\":\"\",\"zerolinecolor\":\"white\",\"gridwidth\":2}},\"shapedefaults\":{\"line\":{\"color\":\"#2a3f5f\"}},\"annotationdefaults\":{\"arrowcolor\":\"#2a3f5f\",\"arrowhead\":0,\"arrowwidth\":1},\"geo\":{\"bgcolor\":\"white\",\"landcolor\":\"#E5ECF6\",\"subunitcolor\":\"white\",\"showland\":true,\"showlakes\":true,\"lakecolor\":\"white\"},\"title\":{\"x\":0.05},\"mapbox\":{\"style\":\"light\"}}},\"polar\":{\"domain\":{\"x\":[0.0,1.0],\"y\":[0.0,1.0]},\"angularaxis\":{\"direction\":\"clockwise\",\"rotation\":90}},\"legend\":{\"tracegroupgap\":0},\"margin\":{\"t\":60}},                        {\"responsive\": true}                    ).then(function(){\n",
       "                            \n",
       "var gd = document.getElementById('67646fe9-2ce3-4d9c-82f4-f25b14cf8e6f');\n",
       "var x = new MutationObserver(function (mutations, observer) {{\n",
       "        var display = window.getComputedStyle(gd).display;\n",
       "        if (!display || display === 'none') {{\n",
       "            console.log([gd, 'removed!']);\n",
       "            Plotly.purge(gd);\n",
       "            observer.disconnect();\n",
       "        }}\n",
       "}});\n",
       "\n",
       "// Listen for the removal of the full notebook cells\n",
       "var notebookContainer = gd.closest('#notebook-container');\n",
       "if (notebookContainer) {{\n",
       "    x.observe(notebookContainer, {childList: true});\n",
       "}}\n",
       "\n",
       "// Listen for the clearing of the current output cell\n",
       "var outputEl = gd.closest('.output');\n",
       "if (outputEl) {{\n",
       "    x.observe(outputEl, {childList: true});\n",
       "}}\n",
       "\n",
       "                        })                };                });            </script>        </div>"
      ]
     },
     "metadata": {},
     "output_type": "display_data"
    },
    {
     "data": {
      "image/png": "[encoded data removed]",
      "text/plain": [
       "<Figure size 1500x500 with 1 Axes>"
      ]
     },
     "metadata": {},
     "output_type": "display_data"
    }
   ],
   "source": [
    "sample_text = \"I don't no fr y hes sooo sad.\"\n",
    "predictions = predict(sample_text, best_model, tokenizer, device, max_len=128)\n",
    "print(f\"Predicted sentiment polarities for '{sample_text}': {predictions}\")\n",
    "\n",
    "\n",
    "predictions_array = predictions.squeeze()\n",
    "binary_predictions = np.zeros_like(predictions_array)\n",
    "max_indices = np.argmax(predictions_array)\n",
    "binary_predictions[max_indices] = 1\n",
    "\n",
    "print(f\"NEAGTIVE: {binary_predictions[0]}, NEUTRAL: {binary_predictions[1]}, POSITIVE: {binary_predictions[2]}\")\n",
    "\n",
    "# labels = ['Negative', 'Neutral', 'Positive']\n",
    "\n",
    "\n",
    "\n",
    "sentiment_polarities = []\n",
    "for items in predictions_array:\n",
    "    sentiment_polarities.append(items)\n",
    "\n",
    "fig = px.line_polar(pd.DataFrame(dict(r=sentiment_polarities, theta=SENTIMENT_POLARITY_LABELS)), r='r', theta='theta', line_close=True)\n",
    "fig.show()\n",
    "\n",
    "\n",
    "normalized_predictions = predictions_array / predictions_array.sum()\n",
    "\n",
    "fig, ax = plt.subplots(figsize=(15, 5))\n",
    "\n",
    "left = 0\n",
    "for i in range(len(normalized_predictions)):\n",
    "    ax.barh(0, normalized_predictions[i], color=plt.cm.tab10(i), left=left, label=SENTIMENT_POLARITY_LABELS[i])\n",
    "    left += normalized_predictions[i]\n",
    "\n",
    "# Add legend\n",
    "ax.set_xlim(0, 1)\n",
    "ax.set_yticks([])\n",
    "ax.set_xticks(np.arange(0, 1.1, 0.1))\n",
    "ax.legend(loc='upper center', bbox_to_anchor=(0.5, -0.05), ncol=len(SENTIMENT_POLARITY_LABELS))\n",
    "\n",
    "# Add title\n",
    "plt.title('Sentiment Polarity Prediction Distribution')\n",
    "\n",
    "plt.show()"
   ]
  }
 ],
 "metadata": {
  "kaggle": {
   "accelerator": "nvidiaTeslaT4",
   "dataSources": [
    {
     "datasetId": 5557640,
     "sourceId": 9273793,
     "sourceType": "datasetVersion"
    }
   ],
   "dockerImageVersionId": 30762,
   "isGpuEnabled": true,
   "isInternetEnabled": true,
   "language": "python",
   "sourceType": "notebook"
  },
  "kernelspec": {
   "display_name": "Python 3",
   "language": "python",
   "name": "python3"
  },
  "language_info": {
   "codemirror_mode": {
    "name": "ipython",
    "version": 3
   },
   "file_extension": ".py",
   "mimetype": "text/x-python",
   "name": "python",
   "nbconvert_exporter": "python",
   "pygments_lexer": "ipython3",
   "version": "3.10.14"
  },
  "papermill": {
   "default_parameters": {},
   "duration": 13865.82432,
   "end_time": "2024-08-31T11:31:28.584230",
   "environment_variables": {},
   "exception": null,
   "input_path": "__notebook__.ipynb",
   "output_path": "__notebook__.ipynb",
   "parameters": {},
   "start_time": "2024-08-31T07:40:22.759910",
   "version": "2.6.0"
  },
  "widgets": {
   "application/vnd.jupyter.widget-state+json": {
    "state": {
     "0212e5eef3f74d47a621a4b590b06a77": {
      "model_module": "@jupyter-widgets/controls",
      "model_module_version": "1.5.0",
      "model_name": "HBoxModel",
      "state": {
       "_dom_classes": [],
       "_model_module": "@jupyter-widgets/controls",
       "_model_module_version": "1.5.0",
       "_model_name": "HBoxModel",
       "_view_count": null,
       "_view_module": "@jupyter-widgets/controls",
       "_view_module_version": "1.5.0",
       "_view_name": "HBoxView",
       "box_style": "",
       "children": [
        "IPY_MODEL_fcd2e523ae7549daa98656bdd8986c12",
        "IPY_MODEL_27e72d399d27413f8adceb539fc59120",
        "IPY_MODEL_1f1f3f1b0551451f86c7839a52ea2b4a"
       ],
       "layout": "IPY_MODEL_5fb0e30a42cb458d9d2e3793f231e350"
      }
     },
     "1cafcebc8bcd406b938e25a9dfdd43a8": {
      "model_module": "@jupyter-widgets/controls",
      "model_module_version": "1.5.0",
      "model_name": "ProgressStyleModel",
      "state": {
       "_model_module": "@jupyter-widgets/controls",
       "_model_module_version": "1.5.0",
       "_model_name": "ProgressStyleModel",
       "_view_count": null,
       "_view_module": "@jupyter-widgets/base",
       "_view_module_version": "1.2.0",
       "_view_name": "StyleView",
       "bar_color": null,
       "description_width": ""
      }
     },
     "1f1f3f1b0551451f86c7839a52ea2b4a": {
      "model_module": "@jupyter-widgets/controls",
      "model_module_version": "1.5.0",
      "model_name": "HTMLModel",
      "state": {
       "_dom_classes": [],
       "_model_module": "@jupyter-widgets/controls",
       "_model_module_version": "1.5.0",
       "_model_name": "HTMLModel",
       "_view_count": null,
       "_view_module": "@jupyter-widgets/controls",
       "_view_module_version": "1.5.0",
       "_view_name": "HTMLView",
       "description": "",
       "description_tooltip": null,
       "layout": "IPY_MODEL_d620531de86a4f06809253c68ace6254",
       "placeholder": "​",
       "style": "IPY_MODEL_91ed7397ef94476489259297baf31976",
       "value": " 52.0/52.0 [00:00&lt;00:00, 4.04kB/s]"
      }
     },
     "23d76455f0794fb2aee7fd417ec5ff09": {
      "model_module": "@jupyter-widgets/controls",
      "model_module_version": "1.5.0",
      "model_name": "DescriptionStyleModel",
      "state": {
       "_model_module": "@jupyter-widgets/controls",
       "_model_module_version": "1.5.0",
       "_model_name": "DescriptionStyleModel",
       "_view_count": null,
       "_view_module": "@jupyter-widgets/base",
       "_view_module_version": "1.2.0",
       "_view_name": "StyleView",
       "description_width": ""
      }
     },
     "27e72d399d27413f8adceb539fc59120": {
      "model_module": "@jupyter-widgets/controls",
      "model_module_version": "1.5.0",
      "model_name": "FloatProgressModel",
      "state": {
       "_dom_classes": [],
       "_model_module": "@jupyter-widgets/controls",
       "_model_module_version": "1.5.0",
       "_model_name": "FloatProgressModel",
       "_view_count": null,
       "_view_module": "@jupyter-widgets/controls",
       "_view_module_version": "1.5.0",
       "_view_name": "ProgressView",
       "bar_style": "success",
       "description": "",
       "description_tooltip": null,
       "layout": "IPY_MODEL_a0cb13860c144b7da5a83c2d25709a06",
       "max": 52.0,
       "min": 0.0,
       "orientation": "horizontal",
       "style": "IPY_MODEL_1cafcebc8bcd406b938e25a9dfdd43a8",
       "value": 52.0
      }
     },
     "2a1bd23792844798aa36c7a48d07b681": {
      "model_module": "@jupyter-widgets/controls",
      "model_module_version": "1.5.0",
      "model_name": "DescriptionStyleModel",
      "state": {
       "_model_module": "@jupyter-widgets/controls",
       "_model_module_version": "1.5.0",
       "_model_name": "DescriptionStyleModel",
       "_view_count": null,
       "_view_module": "@jupyter-widgets/base",
       "_view_module_version": "1.2.0",
       "_view_name": "StyleView",
       "description_width": ""
      }
     },
     "2d433b5b34e54d06b48cdc7d256be2cb": {
      "model_module": "@jupyter-widgets/controls",
      "model_module_version": "1.5.0",
      "model_name": "FloatProgressModel",
      "state": {
       "_dom_classes": [],
       "_model_module": "@jupyter-widgets/controls",
       "_model_module_version": "1.5.0",
       "_model_name": "FloatProgressModel",
       "_view_count": null,
       "_view_module": "@jupyter-widgets/controls",
       "_view_module_version": "1.5.0",
       "_view_name": "ProgressView",
       "bar_style": "success",
       "description": "",
       "description_tooltip": null,
       "layout": "IPY_MODEL_4fcbb0020a3c4218ba35e3236634d15d",
       "max": 579.0,
       "min": 0.0,
       "orientation": "horizontal",
       "style": "IPY_MODEL_a1bc3b22f157458baeaf5cdd43d520d7",
       "value": 579.0
      }
     },
     "46931f9d07bb49d4a74f7ded31d43eb0": {
      "model_module": "@jupyter-widgets/base",
      "model_module_version": "1.2.0",
      "model_name": "LayoutModel",
      "state": {
       "_model_module": "@jupyter-widgets/base",
       "_model_module_version": "1.2.0",
       "_model_name": "LayoutModel",
       "_view_count": null,
       "_view_module": "@jupyter-widgets/base",
       "_view_module_version": "1.2.0",
       "_view_name": "LayoutView",
       "align_content": null,
       "align_items": null,
       "align_self": null,
       "border": null,
       "bottom": null,
       "display": null,
       "flex": null,
       "flex_flow": null,
       "grid_area": null,
       "grid_auto_columns": null,
       "grid_auto_flow": null,
       "grid_auto_rows": null,
       "grid_column": null,
       "grid_gap": null,
       "grid_row": null,
       "grid_template_areas": null,
       "grid_template_columns": null,
       "grid_template_rows": null,
       "height": null,
       "justify_content": null,
       "justify_items": null,
       "left": null,
       "margin": null,
       "max_height": null,
       "max_width": null,
       "min_height": null,
       "min_width": null,
       "object_fit": null,
       "object_position": null,
       "order": null,
       "overflow": null,
       "overflow_x": null,
       "overflow_y": null,
       "padding": null,
       "right": null,
       "top": null,
       "visibility": null,
       "width": null
      }
     },
     "4b17649d0d704520b427256a457ee78f": {
      "model_module": "@jupyter-widgets/controls",
      "model_module_version": "1.5.0",
      "model_name": "HTMLModel",
      "state": {
       "_dom_classes": [],
       "_model_module": "@jupyter-widgets/controls",
       "_model_module_version": "1.5.0",
       "_model_name": "HTMLModel",
       "_view_count": null,
       "_view_module": "@jupyter-widgets/controls",
       "_view_module_version": "1.5.0",
       "_view_name": "HTMLView",
       "description": "",
       "description_tooltip": null,
       "layout": "IPY_MODEL_46931f9d07bb49d4a74f7ded31d43eb0",
       "placeholder": "​",
       "style": "IPY_MODEL_c9ee64d08b8f4723a7fde50d58b5b0cf",
       "value": " 2.46M/2.46M [00:00&lt;00:00, 11.1MB/s]"
      }
     },
     "4c01e45bd34145e49fc5be0fcafa3cd9": {
      "model_module": "@jupyter-widgets/controls",
      "model_module_version": "1.5.0",
      "model_name": "DescriptionStyleModel",
      "state": {
       "_model_module": "@jupyter-widgets/controls",
       "_model_module_version": "1.5.0",
       "_model_name": "DescriptionStyleModel",
       "_view_count": null,
       "_view_module": "@jupyter-widgets/base",
       "_view_module_version": "1.2.0",
       "_view_name": "StyleView",
       "description_width": ""
      }
     },
     "4c47eaac4a044168ac12b03933de4437": {
      "model_module": "@jupyter-widgets/base",
      "model_module_version": "1.2.0",
      "model_name": "LayoutModel",
      "state": {
       "_model_module": "@jupyter-widgets/base",
       "_model_module_version": "1.2.0",
       "_model_name": "LayoutModel",
       "_view_count": null,
       "_view_module": "@jupyter-widgets/base",
       "_view_module_version": "1.2.0",
       "_view_name": "LayoutView",
       "align_content": null,
       "align_items": null,
       "align_self": null,
       "border": null,
       "bottom": null,
       "display": null,
       "flex": null,
       "flex_flow": null,
       "grid_area": null,
       "grid_auto_columns": null,
       "grid_auto_flow": null,
       "grid_auto_rows": null,
       "grid_column": null,
       "grid_gap": null,
       "grid_row": null,
       "grid_template_areas": null,
       "grid_template_columns": null,
       "grid_template_rows": null,
       "height": null,
       "justify_content": null,
       "justify_items": null,
       "left": null,
       "margin": null,
       "max_height": null,
       "max_width": null,
       "min_height": null,
       "min_width": null,
       "object_fit": null,
       "object_position": null,
       "order": null,
       "overflow": null,
       "overflow_x": null,
       "overflow_y": null,
       "padding": null,
       "right": null,
       "top": null,
       "visibility": null,
       "width": null
      }
     },
     "4da53315e2884b8ebbce5e997b3cd4c0": {
      "model_module": "@jupyter-widgets/controls",
      "model_module_version": "1.5.0",
      "model_name": "HTMLModel",
      "state": {
       "_dom_classes": [],
       "_model_module": "@jupyter-widgets/controls",
       "_model_module_version": "1.5.0",
       "_model_name": "HTMLModel",
       "_view_count": null,
       "_view_module": "@jupyter-widgets/controls",
       "_view_module_version": "1.5.0",
       "_view_name": "HTMLView",
       "description": "",
       "description_tooltip": null,
       "layout": "IPY_MODEL_c1b90cc4dd0044ca9e21ea1fa2c0a78b",
       "placeholder": "​",
       "style": "IPY_MODEL_4c01e45bd34145e49fc5be0fcafa3cd9",
       "value": " 579/579 [00:00&lt;00:00, 49.3kB/s]"
      }
     },
     "4fcbb0020a3c4218ba35e3236634d15d": {
      "model_module": "@jupyter-widgets/base",
      "model_module_version": "1.2.0",
      "model_name": "LayoutModel",
      "state": {
       "_model_module": "@jupyter-widgets/base",
       "_model_module_version": "1.2.0",
       "_model_name": "LayoutModel",
       "_view_count": null,
       "_view_module": "@jupyter-widgets/base",
       "_view_module_version": "1.2.0",
       "_view_name": "LayoutView",
       "align_content": null,
       "align_items": null,
       "align_self": null,
       "border": null,
       "bottom": null,
       "display": null,
       "flex": null,
       "flex_flow": null,
       "grid_area": null,
       "grid_auto_columns": null,
       "grid_auto_flow": null,
       "grid_auto_rows": null,
       "grid_column": null,
       "grid_gap": null,
       "grid_row": null,
       "grid_template_areas": null,
       "grid_template_columns": null,
       "grid_template_rows": null,
       "height": null,
       "justify_content": null,
       "justify_items": null,
       "left": null,
       "margin": null,
       "max_height": null,
       "max_width": null,
       "min_height": null,
       "min_width": null,
       "object_fit": null,
       "object_position": null,
       "order": null,
       "overflow": null,
       "overflow_x": null,
       "overflow_y": null,
       "padding": null,
       "right": null,
       "top": null,
       "visibility": null,
       "width": null
      }
     },
     "54e113f565db4290a6cac1dc4a092383": {
      "model_module": "@jupyter-widgets/controls",
      "model_module_version": "1.5.0",
      "model_name": "HTMLModel",
      "state": {
       "_dom_classes": [],
       "_model_module": "@jupyter-widgets/controls",
       "_model_module_version": "1.5.0",
       "_model_name": "HTMLModel",
       "_view_count": null,
       "_view_module": "@jupyter-widgets/controls",
       "_view_module_version": "1.5.0",
       "_view_name": "HTMLView",
       "description": "",
       "description_tooltip": null,
       "layout": "IPY_MODEL_81025d4715bc4f27af12099d434f7301",
       "placeholder": "​",
       "style": "IPY_MODEL_a3de22c4e16f41e1a7c7334168e5151c",
       "value": "spm.model: 100%"
      }
     },
     "5fb0e30a42cb458d9d2e3793f231e350": {
      "model_module": "@jupyter-widgets/base",
      "model_module_version": "1.2.0",
      "model_name": "LayoutModel",
      "state": {
       "_model_module": "@jupyter-widgets/base",
       "_model_module_version": "1.2.0",
       "_model_name": "LayoutModel",
       "_view_count": null,
       "_view_module": "@jupyter-widgets/base",
       "_view_module_version": "1.2.0",
       "_view_name": "LayoutView",
       "align_content": null,
       "align_items": null,
       "align_self": null,
       "border": null,
       "bottom": null,
       "display": null,
       "flex": null,
       "flex_flow": null,
       "grid_area": null,
       "grid_auto_columns": null,
       "grid_auto_flow": null,
       "grid_auto_rows": null,
       "grid_column": null,
       "grid_gap": null,
       "grid_row": null,
       "grid_template_areas": null,
       "grid_template_columns": null,
       "grid_template_rows": null,
       "height": null,
       "justify_content": null,
       "justify_items": null,
       "left": null,
       "margin": null,
       "max_height": null,
       "max_width": null,
       "min_height": null,
       "min_width": null,
       "object_fit": null,
       "object_position": null,
       "order": null,
       "overflow": null,
       "overflow_x": null,
       "overflow_y": null,
       "padding": null,
       "right": null,
       "top": null,
       "visibility": null,
       "width": null
      }
     },
     "5ff6485af1854fc18d55cf627db9a99b": {
      "model_module": "@jupyter-widgets/controls",
      "model_module_version": "1.5.0",
      "model_name": "HBoxModel",
      "state": {
       "_dom_classes": [],
       "_model_module": "@jupyter-widgets/controls",
       "_model_module_version": "1.5.0",
       "_model_name": "HBoxModel",
       "_view_count": null,
       "_view_module": "@jupyter-widgets/controls",
       "_view_module_version": "1.5.0",
       "_view_name": "HBoxView",
       "box_style": "",
       "children": [
        "IPY_MODEL_54e113f565db4290a6cac1dc4a092383",
        "IPY_MODEL_6e75074920d04b52846abe99af28e3f3",
        "IPY_MODEL_4b17649d0d704520b427256a457ee78f"
       ],
       "layout": "IPY_MODEL_4c47eaac4a044168ac12b03933de4437"
      }
     },
     "6103696e3eda471c9587bd1000f33314": {
      "model_module": "@jupyter-widgets/base",
      "model_module_version": "1.2.0",
      "model_name": "LayoutModel",
      "state": {
       "_model_module": "@jupyter-widgets/base",
       "_model_module_version": "1.2.0",
       "_model_name": "LayoutModel",
       "_view_count": null,
       "_view_module": "@jupyter-widgets/base",
       "_view_module_version": "1.2.0",
       "_view_name": "LayoutView",
       "align_content": null,
       "align_items": null,
       "align_self": null,
       "border": null,
       "bottom": null,
       "display": null,
       "flex": null,
       "flex_flow": null,
       "grid_area": null,
       "grid_auto_columns": null,
       "grid_auto_flow": null,
       "grid_auto_rows": null,
       "grid_column": null,
       "grid_gap": null,
       "grid_row": null,
       "grid_template_areas": null,
       "grid_template_columns": null,
       "grid_template_rows": null,
       "height": null,
       "justify_content": null,
       "justify_items": null,
       "left": null,
       "margin": null,
       "max_height": null,
       "max_width": null,
       "min_height": null,
       "min_width": null,
       "object_fit": null,
       "object_position": null,
       "order": null,
       "overflow": null,
       "overflow_x": null,
       "overflow_y": null,
       "padding": null,
       "right": null,
       "top": null,
       "visibility": null,
       "width": null
      }
     },
     "6e75074920d04b52846abe99af28e3f3": {
      "model_module": "@jupyter-widgets/controls",
      "model_module_version": "1.5.0",
      "model_name": "FloatProgressModel",
      "state": {
       "_dom_classes": [],
       "_model_module": "@jupyter-widgets/controls",
       "_model_module_version": "1.5.0",
       "_model_name": "FloatProgressModel",
       "_view_count": null,
       "_view_module": "@jupyter-widgets/controls",
       "_view_module_version": "1.5.0",
       "_view_name": "ProgressView",
       "bar_style": "success",
       "description": "",
       "description_tooltip": null,
       "layout": "IPY_MODEL_96fe3575218f4e0abdd7f402b96c6f75",
       "max": 2464616.0,
       "min": 0.0,
       "orientation": "horizontal",
       "style": "IPY_MODEL_9a14977b80f14c85a0304ecc6900f104",
       "value": 2464616.0
      }
     },
     "796e25d32b964048bd4e07730c26501a": {
      "model_module": "@jupyter-widgets/controls",
      "model_module_version": "1.5.0",
      "model_name": "HTMLModel",
      "state": {
       "_dom_classes": [],
       "_model_module": "@jupyter-widgets/controls",
       "_model_module_version": "1.5.0",
       "_model_name": "HTMLModel",
       "_view_count": null,
       "_view_module": "@jupyter-widgets/controls",
       "_view_module_version": "1.5.0",
       "_view_name": "HTMLView",
       "description": "",
       "description_tooltip": null,
       "layout": "IPY_MODEL_6103696e3eda471c9587bd1000f33314",
       "placeholder": "​",
       "style": "IPY_MODEL_2a1bd23792844798aa36c7a48d07b681",
       "value": "config.json: 100%"
      }
     },
     "81025d4715bc4f27af12099d434f7301": {
      "model_module": "@jupyter-widgets/base",
      "model_module_version": "1.2.0",
      "model_name": "LayoutModel",
      "state": {
       "_model_module": "@jupyter-widgets/base",
       "_model_module_version": "1.2.0",
       "_model_name": "LayoutModel",
       "_view_count": null,
       "_view_module": "@jupyter-widgets/base",
       "_view_module_version": "1.2.0",
       "_view_name": "LayoutView",
       "align_content": null,
       "align_items": null,
       "align_self": null,
       "border": null,
       "bottom": null,
       "display": null,
       "flex": null,
       "flex_flow": null,
       "grid_area": null,
       "grid_auto_columns": null,
       "grid_auto_flow": null,
       "grid_auto_rows": null,
       "grid_column": null,
       "grid_gap": null,
       "grid_row": null,
       "grid_template_areas": null,
       "grid_template_columns": null,
       "grid_template_rows": null,
       "height": null,
       "justify_content": null,
       "justify_items": null,
       "left": null,
       "margin": null,
       "max_height": null,
       "max_width": null,
       "min_height": null,
       "min_width": null,
       "object_fit": null,
       "object_position": null,
       "order": null,
       "overflow": null,
       "overflow_x": null,
       "overflow_y": null,
       "padding": null,
       "right": null,
       "top": null,
       "visibility": null,
       "width": null
      }
     },
     "91ed7397ef94476489259297baf31976": {
      "model_module": "@jupyter-widgets/controls",
      "model_module_version": "1.5.0",
      "model_name": "DescriptionStyleModel",
      "state": {
       "_model_module": "@jupyter-widgets/controls",
       "_model_module_version": "1.5.0",
       "_model_name": "DescriptionStyleModel",
       "_view_count": null,
       "_view_module": "@jupyter-widgets/base",
       "_view_module_version": "1.2.0",
       "_view_name": "StyleView",
       "description_width": ""
      }
     },
     "96fe3575218f4e0abdd7f402b96c6f75": {
      "model_module": "@jupyter-widgets/base",
      "model_module_version": "1.2.0",
      "model_name": "LayoutModel",
      "state": {
       "_model_module": "@jupyter-widgets/base",
       "_model_module_version": "1.2.0",
       "_model_name": "LayoutModel",
       "_view_count": null,
       "_view_module": "@jupyter-widgets/base",
       "_view_module_version": "1.2.0",
       "_view_name": "LayoutView",
       "align_content": null,
       "align_items": null,
       "align_self": null,
       "border": null,
       "bottom": null,
       "display": null,
       "flex": null,
       "flex_flow": null,
       "grid_area": null,
       "grid_auto_columns": null,
       "grid_auto_flow": null,
       "grid_auto_rows": null,
       "grid_column": null,
       "grid_gap": null,
       "grid_row": null,
       "grid_template_areas": null,
       "grid_template_columns": null,
       "grid_template_rows": null,
       "height": null,
       "justify_content": null,
       "justify_items": null,
       "left": null,
       "margin": null,
       "max_height": null,
       "max_width": null,
       "min_height": null,
       "min_width": null,
       "object_fit": null,
       "object_position": null,
       "order": null,
       "overflow": null,
       "overflow_x": null,
       "overflow_y": null,
       "padding": null,
       "right": null,
       "top": null,
       "visibility": null,
       "width": null
      }
     },
     "990ecb3da95f4a538fb32793751137c9": {
      "model_module": "@jupyter-widgets/base",
      "model_module_version": "1.2.0",
      "model_name": "LayoutModel",
      "state": {
       "_model_module": "@jupyter-widgets/base",
       "_model_module_version": "1.2.0",
       "_model_name": "LayoutModel",
       "_view_count": null,
       "_view_module": "@jupyter-widgets/base",
       "_view_module_version": "1.2.0",
       "_view_name": "LayoutView",
       "align_content": null,
       "align_items": null,
       "align_self": null,
       "border": null,
       "bottom": null,
       "display": null,
       "flex": null,
       "flex_flow": null,
       "grid_area": null,
       "grid_auto_columns": null,
       "grid_auto_flow": null,
       "grid_auto_rows": null,
       "grid_column": null,
       "grid_gap": null,
       "grid_row": null,
       "grid_template_areas": null,
       "grid_template_columns": null,
       "grid_template_rows": null,
       "height": null,
       "justify_content": null,
       "justify_items": null,
       "left": null,
       "margin": null,
       "max_height": null,
       "max_width": null,
       "min_height": null,
       "min_width": null,
       "object_fit": null,
       "object_position": null,
       "order": null,
       "overflow": null,
       "overflow_x": null,
       "overflow_y": null,
       "padding": null,
       "right": null,
       "top": null,
       "visibility": null,
       "width": null
      }
     },
     "9a14977b80f14c85a0304ecc6900f104": {
      "model_module": "@jupyter-widgets/controls",
      "model_module_version": "1.5.0",
      "model_name": "ProgressStyleModel",
      "state": {
       "_model_module": "@jupyter-widgets/controls",
       "_model_module_version": "1.5.0",
       "_model_name": "ProgressStyleModel",
       "_view_count": null,
       "_view_module": "@jupyter-widgets/base",
       "_view_module_version": "1.2.0",
       "_view_name": "StyleView",
       "bar_color": null,
       "description_width": ""
      }
     },
     "a0cb13860c144b7da5a83c2d25709a06": {
      "model_module": "@jupyter-widgets/base",
      "model_module_version": "1.2.0",
      "model_name": "LayoutModel",
      "state": {
       "_model_module": "@jupyter-widgets/base",
       "_model_module_version": "1.2.0",
       "_model_name": "LayoutModel",
       "_view_count": null,
       "_view_module": "@jupyter-widgets/base",
       "_view_module_version": "1.2.0",
       "_view_name": "LayoutView",
       "align_content": null,
       "align_items": null,
       "align_self": null,
       "border": null,
       "bottom": null,
       "display": null,
       "flex": null,
       "flex_flow": null,
       "grid_area": null,
       "grid_auto_columns": null,
       "grid_auto_flow": null,
       "grid_auto_rows": null,
       "grid_column": null,
       "grid_gap": null,
       "grid_row": null,
       "grid_template_areas": null,
       "grid_template_columns": null,
       "grid_template_rows": null,
       "height": null,
       "justify_content": null,
       "justify_items": null,
       "left": null,
       "margin": null,
       "max_height": null,
       "max_width": null,
       "min_height": null,
       "min_width": null,
       "object_fit": null,
       "object_position": null,
       "order": null,
       "overflow": null,
       "overflow_x": null,
       "overflow_y": null,
       "padding": null,
       "right": null,
       "top": null,
       "visibility": null,
       "width": null
      }
     },
     "a1bc3b22f157458baeaf5cdd43d520d7": {
      "model_module": "@jupyter-widgets/controls",
      "model_module_version": "1.5.0",
      "model_name": "ProgressStyleModel",
      "state": {
       "_model_module": "@jupyter-widgets/controls",
       "_model_module_version": "1.5.0",
       "_model_name": "ProgressStyleModel",
       "_view_count": null,
       "_view_module": "@jupyter-widgets/base",
       "_view_module_version": "1.2.0",
       "_view_name": "StyleView",
       "bar_color": null,
       "description_width": ""
      }
     },
     "a3de22c4e16f41e1a7c7334168e5151c": {
      "model_module": "@jupyter-widgets/controls",
      "model_module_version": "1.5.0",
      "model_name": "DescriptionStyleModel",
      "state": {
       "_model_module": "@jupyter-widgets/controls",
       "_model_module_version": "1.5.0",
       "_model_name": "DescriptionStyleModel",
       "_view_count": null,
       "_view_module": "@jupyter-widgets/base",
       "_view_module_version": "1.2.0",
       "_view_name": "StyleView",
       "description_width": ""
      }
     },
     "aba65db1252946e4b6c05e2db5515a85": {
      "model_module": "@jupyter-widgets/base",
      "model_module_version": "1.2.0",
      "model_name": "LayoutModel",
      "state": {
       "_model_module": "@jupyter-widgets/base",
       "_model_module_version": "1.2.0",
       "_model_name": "LayoutModel",
       "_view_count": null,
       "_view_module": "@jupyter-widgets/base",
       "_view_module_version": "1.2.0",
       "_view_name": "LayoutView",
       "align_content": null,
       "align_items": null,
       "align_self": null,
       "border": null,
       "bottom": null,
       "display": null,
       "flex": null,
       "flex_flow": null,
       "grid_area": null,
       "grid_auto_columns": null,
       "grid_auto_flow": null,
       "grid_auto_rows": null,
       "grid_column": null,
       "grid_gap": null,
       "grid_row": null,
       "grid_template_areas": null,
       "grid_template_columns": null,
       "grid_template_rows": null,
       "height": null,
       "justify_content": null,
       "justify_items": null,
       "left": null,
       "margin": null,
       "max_height": null,
       "max_width": null,
       "min_height": null,
       "min_width": null,
       "object_fit": null,
       "object_position": null,
       "order": null,
       "overflow": null,
       "overflow_x": null,
       "overflow_y": null,
       "padding": null,
       "right": null,
       "top": null,
       "visibility": null,
       "width": null
      }
     },
     "c1b90cc4dd0044ca9e21ea1fa2c0a78b": {
      "model_module": "@jupyter-widgets/base",
      "model_module_version": "1.2.0",
      "model_name": "LayoutModel",
      "state": {
       "_model_module": "@jupyter-widgets/base",
       "_model_module_version": "1.2.0",
       "_model_name": "LayoutModel",
       "_view_count": null,
       "_view_module": "@jupyter-widgets/base",
       "_view_module_version": "1.2.0",
       "_view_name": "LayoutView",
       "align_content": null,
       "align_items": null,
       "align_self": null,
       "border": null,
       "bottom": null,
       "display": null,
       "flex": null,
       "flex_flow": null,
       "grid_area": null,
       "grid_auto_columns": null,
       "grid_auto_flow": null,
       "grid_auto_rows": null,
       "grid_column": null,
       "grid_gap": null,
       "grid_row": null,
       "grid_template_areas": null,
       "grid_template_columns": null,
       "grid_template_rows": null,
       "height": null,
       "justify_content": null,
       "justify_items": null,
       "left": null,
       "margin": null,
       "max_height": null,
       "max_width": null,
       "min_height": null,
       "min_width": null,
       "object_fit": null,
       "object_position": null,
       "order": null,
       "overflow": null,
       "overflow_x": null,
       "overflow_y": null,
       "padding": null,
       "right": null,
       "top": null,
       "visibility": null,
       "width": null
      }
     },
     "c9ee64d08b8f4723a7fde50d58b5b0cf": {
      "model_module": "@jupyter-widgets/controls",
      "model_module_version": "1.5.0",
      "model_name": "DescriptionStyleModel",
      "state": {
       "_model_module": "@jupyter-widgets/controls",
       "_model_module_version": "1.5.0",
       "_model_name": "DescriptionStyleModel",
       "_view_count": null,
       "_view_module": "@jupyter-widgets/base",
       "_view_module_version": "1.2.0",
       "_view_name": "StyleView",
       "description_width": ""
      }
     },
     "d620531de86a4f06809253c68ace6254": {
      "model_module": "@jupyter-widgets/base",
      "model_module_version": "1.2.0",
      "model_name": "LayoutModel",
      "state": {
       "_model_module": "@jupyter-widgets/base",
       "_model_module_version": "1.2.0",
       "_model_name": "LayoutModel",
       "_view_count": null,
       "_view_module": "@jupyter-widgets/base",
       "_view_module_version": "1.2.0",
       "_view_name": "LayoutView",
       "align_content": null,
       "align_items": null,
       "align_self": null,
       "border": null,
       "bottom": null,
       "display": null,
       "flex": null,
       "flex_flow": null,
       "grid_area": null,
       "grid_auto_columns": null,
       "grid_auto_flow": null,
       "grid_auto_rows": null,
       "grid_column": null,
       "grid_gap": null,
       "grid_row": null,
       "grid_template_areas": null,
       "grid_template_columns": null,
       "grid_template_rows": null,
       "height": null,
       "justify_content": null,
       "justify_items": null,
       "left": null,
       "margin": null,
       "max_height": null,
       "max_width": null,
       "min_height": null,
       "min_width": null,
       "object_fit": null,
       "object_position": null,
       "order": null,
       "overflow": null,
       "overflow_x": null,
       "overflow_y": null,
       "padding": null,
       "right": null,
       "top": null,
       "visibility": null,
       "width": null
      }
     },
     "d78b4dc16a43425590b6888b007d48eb": {
      "model_module": "@jupyter-widgets/controls",
      "model_module_version": "1.5.0",
      "model_name": "HBoxModel",
      "state": {
       "_dom_classes": [],
       "_model_module": "@jupyter-widgets/controls",
       "_model_module_version": "1.5.0",
       "_model_name": "HBoxModel",
       "_view_count": null,
       "_view_module": "@jupyter-widgets/controls",
       "_view_module_version": "1.5.0",
       "_view_name": "HBoxView",
       "box_style": "",
       "children": [
        "IPY_MODEL_796e25d32b964048bd4e07730c26501a",
        "IPY_MODEL_2d433b5b34e54d06b48cdc7d256be2cb",
        "IPY_MODEL_4da53315e2884b8ebbce5e997b3cd4c0"
       ],
       "layout": "IPY_MODEL_990ecb3da95f4a538fb32793751137c9"
      }
     },
     "fcd2e523ae7549daa98656bdd8986c12": {
      "model_module": "@jupyter-widgets/controls",
      "model_module_version": "1.5.0",
      "model_name": "HTMLModel",
      "state": {
       "_dom_classes": [],
       "_model_module": "@jupyter-widgets/controls",
       "_model_module_version": "1.5.0",
       "_model_name": "HTMLModel",
       "_view_count": null,
       "_view_module": "@jupyter-widgets/controls",
       "_view_module_version": "1.5.0",
       "_view_name": "HTMLView",
       "description": "",
       "description_tooltip": null,
       "layout": "IPY_MODEL_aba65db1252946e4b6c05e2db5515a85",
       "placeholder": "​",
       "style": "IPY_MODEL_23d76455f0794fb2aee7fd417ec5ff09",
       "value": "tokenizer_config.json: 100%"
      }
     }
    },
    "version_major": 2,
    "version_minor": 0
   }
  }
 },
 "nbformat": 4,
 "nbformat_minor": 5
}
