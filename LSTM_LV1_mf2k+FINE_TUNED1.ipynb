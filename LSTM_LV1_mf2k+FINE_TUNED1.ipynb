{
 "cells": [
  {
   "cell_type": "code",
   "execution_count": 1,
   "id": "6343c762",
   "metadata": {
    "_cell_guid": "b1076dfc-b9ad-4769-8c92-a6c4dae69d19",
    "_uuid": "8f2839f25d086af736a60e9eeb907d3b93b6e0e5",
    "execution": {
     "iopub.execute_input": "2024-08-24T14:45:55.913552Z",
     "iopub.status.busy": "2024-08-24T14:45:55.913294Z",
     "iopub.status.idle": "2024-08-24T14:45:56.634332Z",
     "shell.execute_reply": "2024-08-24T14:45:56.633064Z"
    },
    "papermill": {
     "duration": 0.73726,
     "end_time": "2024-08-24T14:45:56.636349",
     "exception": false,
     "start_time": "2024-08-24T14:45:55.899089",
     "status": "completed"
    },
    "tags": []
   },
   "outputs": [
    {
     "name": "stdout",
     "output_type": "stream",
     "text": [
      "/kaggle/input/dataset-tachygraphy/Tachygraphy_dataset_main.csv\n"
     ]
    }
   ],
   "source": [
    "# This Python 3 environment comes with many helpful analytics libraries installed\n",
    "# It is defined by the kaggle/python Docker image: https://github.com/kaggle/docker-python\n",
    "# For example, here's several helpful packages to load\n",
    "\n",
    "import numpy as np # linear algebra\n",
    "import pandas as pd # data processing, CSV file I/O (e.g. pd.read_csv)\n",
    "\n",
    "# Input data files are available in the read-only \"../input/\" directory\n",
    "# For example, running this (by clicking run or pressing Shift+Enter) will list all files under the input directory\n",
    "\n",
    "import os\n",
    "for dirname, _, filenames in os.walk('/kaggle/input'):\n",
    "    for filename in filenames:\n",
    "        print(os.path.join(dirname, filename))\n",
    "\n",
    "# You can write up to 20GB to the current directory (/kaggle/working/) that gets preserved as output when you create a version using \"Save & Run All\" \n",
    "# You can also write temporary files to /kaggle/temp/, but they won't be saved outside of the current session"
   ]
  },
  {
   "cell_type": "markdown",
   "id": "b9aca824",
   "metadata": {
    "papermill": {
     "duration": 0.012224,
     "end_time": "2024-08-24T14:45:56.661425",
     "exception": false,
     "start_time": "2024-08-24T14:45:56.649201",
     "status": "completed"
    },
    "tags": []
   },
   "source": [
    "**Text Preprocessing**"
   ]
  },
  {
   "cell_type": "code",
   "execution_count": 2,
   "id": "254f618f",
   "metadata": {
    "execution": {
     "iopub.execute_input": "2024-08-24T14:45:56.687595Z",
     "iopub.status.busy": "2024-08-24T14:45:56.687022Z",
     "iopub.status.idle": "2024-08-24T14:45:56.691064Z",
     "shell.execute_reply": "2024-08-24T14:45:56.690218Z"
    },
    "papermill": {
     "duration": 0.019058,
     "end_time": "2024-08-24T14:45:56.692880",
     "exception": false,
     "start_time": "2024-08-24T14:45:56.673822",
     "status": "completed"
    },
    "tags": []
   },
   "outputs": [],
   "source": [
    "# To ignore warinings\n",
    "import warnings\n",
    "warnings.filterwarnings('ignore')"
   ]
  },
  {
   "cell_type": "code",
   "execution_count": 3,
   "id": "034ee84b",
   "metadata": {
    "execution": {
     "iopub.execute_input": "2024-08-24T14:45:56.720291Z",
     "iopub.status.busy": "2024-08-24T14:45:56.719763Z",
     "iopub.status.idle": "2024-08-24T14:45:56.775996Z",
     "shell.execute_reply": "2024-08-24T14:45:56.775128Z"
    },
    "papermill": {
     "duration": 0.071807,
     "end_time": "2024-08-24T14:45:56.777942",
     "exception": false,
     "start_time": "2024-08-24T14:45:56.706135",
     "status": "completed"
    },
    "tags": []
   },
   "outputs": [
    {
     "data": {
      "text/plain": [
       "(4958, 3)"
      ]
     },
     "execution_count": 3,
     "metadata": {},
     "output_type": "execute_result"
    }
   ],
   "source": [
    "df=pd.read_csv(\"/kaggle/input/dataset-tachygraphy/Tachygraphy_dataset_main.csv\")\n",
    "df.shape"
   ]
  },
  {
   "cell_type": "code",
   "execution_count": 4,
   "id": "85409c6c",
   "metadata": {
    "execution": {
     "iopub.execute_input": "2024-08-24T14:45:56.804926Z",
     "iopub.status.busy": "2024-08-24T14:45:56.804676Z",
     "iopub.status.idle": "2024-08-24T14:45:56.820384Z",
     "shell.execute_reply": "2024-08-24T14:45:56.819624Z"
    },
    "papermill": {
     "duration": 0.030941,
     "end_time": "2024-08-24T14:45:56.822171",
     "exception": false,
     "start_time": "2024-08-24T14:45:56.791230",
     "status": "completed"
    },
    "tags": []
   },
   "outputs": [
    {
     "data": {
      "text/html": [
       "<div>\n",
       "<style scoped>\n",
       "    .dataframe tbody tr th:only-of-type {\n",
       "        vertical-align: middle;\n",
       "    }\n",
       "\n",
       "    .dataframe tbody tr th {\n",
       "        vertical-align: top;\n",
       "    }\n",
       "\n",
       "    .dataframe thead th {\n",
       "        text-align: right;\n",
       "    }\n",
       "</style>\n",
       "<table border=\"1\" class=\"dataframe\">\n",
       "  <thead>\n",
       "    <tr style=\"text-align: right;\">\n",
       "      <th></th>\n",
       "      <th>Text</th>\n",
       "      <th>Meaning</th>\n",
       "      <th>Sentiment</th>\n",
       "    </tr>\n",
       "  </thead>\n",
       "  <tbody>\n",
       "    <tr>\n",
       "      <th>0</th>\n",
       "      <td>Last session of the day http://twitpic.com/67ezh</td>\n",
       "      <td>Last session of the day http://twitpic.com/67ezh</td>\n",
       "      <td>neutral</td>\n",
       "    </tr>\n",
       "    <tr>\n",
       "      <th>1</th>\n",
       "      <td>Shanghai is also really exciting (precisely --...</td>\n",
       "      <td>Shanghai is also really exciting (precisely --...</td>\n",
       "      <td>positive</td>\n",
       "    </tr>\n",
       "    <tr>\n",
       "      <th>2</th>\n",
       "      <td>submit the report ASAP!</td>\n",
       "      <td>submit the report as soon as possilbe</td>\n",
       "      <td>negative</td>\n",
       "    </tr>\n",
       "    <tr>\n",
       "      <th>3</th>\n",
       "      <td>happy bday!</td>\n",
       "      <td>Happy Birthday!</td>\n",
       "      <td>positive</td>\n",
       "    </tr>\n",
       "    <tr>\n",
       "      <th>4</th>\n",
       "      <td>The OGs - I like it!!</td>\n",
       "      <td>The original gangsters - i like it!</td>\n",
       "      <td>positive</td>\n",
       "    </tr>\n",
       "  </tbody>\n",
       "</table>\n",
       "</div>"
      ],
      "text/plain": [
       "                                                Text  \\\n",
       "0   Last session of the day http://twitpic.com/67ezh   \n",
       "1  Shanghai is also really exciting (precisely --...   \n",
       "2                            submit the report ASAP!   \n",
       "3                                        happy bday!   \n",
       "4                              The OGs - I like it!!   \n",
       "\n",
       "                                             Meaning Sentiment  \n",
       "0   Last session of the day http://twitpic.com/67ezh   neutral  \n",
       "1  Shanghai is also really exciting (precisely --...  positive  \n",
       "2              submit the report as soon as possilbe  negative  \n",
       "3                                    Happy Birthday!  positive  \n",
       "4                The original gangsters - i like it!  positive  "
      ]
     },
     "execution_count": 4,
     "metadata": {},
     "output_type": "execute_result"
    }
   ],
   "source": [
    "df.head()"
   ]
  },
  {
   "cell_type": "code",
   "execution_count": 5,
   "id": "6b7da21a",
   "metadata": {
    "execution": {
     "iopub.execute_input": "2024-08-24T14:45:56.849234Z",
     "iopub.status.busy": "2024-08-24T14:45:56.848617Z",
     "iopub.status.idle": "2024-08-24T14:45:56.869298Z",
     "shell.execute_reply": "2024-08-24T14:45:56.868490Z"
    },
    "papermill": {
     "duration": 0.03645,
     "end_time": "2024-08-24T14:45:56.871366",
     "exception": false,
     "start_time": "2024-08-24T14:45:56.834916",
     "status": "completed"
    },
    "tags": []
   },
   "outputs": [
    {
     "data": {
      "text/plain": [
       "class\n",
       "neutral     1743\n",
       "positive    1643\n",
       "negative    1572\n",
       "Name: count, dtype: int64"
      ]
     },
     "execution_count": 5,
     "metadata": {},
     "output_type": "execute_result"
    }
   ],
   "source": [
    "df=df.drop('Meaning',axis=1)\n",
    "df = df.rename(columns={'Text': 'tweet'})\n",
    "df = df.rename(columns={'Sentiment': 'class'})\n",
    "df['class'] = df['class'].str.lower()\n",
    "sentiment_counts = df['class'].value_counts()\n",
    "sentiment_counts"
   ]
  },
  {
   "cell_type": "code",
   "execution_count": 6,
   "id": "5cc10bcc",
   "metadata": {
    "execution": {
     "iopub.execute_input": "2024-08-24T14:45:56.898982Z",
     "iopub.status.busy": "2024-08-24T14:45:56.898722Z",
     "iopub.status.idle": "2024-08-24T14:45:56.906251Z",
     "shell.execute_reply": "2024-08-24T14:45:56.905380Z"
    },
    "papermill": {
     "duration": 0.023734,
     "end_time": "2024-08-24T14:45:56.908298",
     "exception": false,
     "start_time": "2024-08-24T14:45:56.884564",
     "status": "completed"
    },
    "tags": []
   },
   "outputs": [
    {
     "data": {
      "text/plain": [
       "tweet    1\n",
       "class    0\n",
       "dtype: int64"
      ]
     },
     "execution_count": 6,
     "metadata": {},
     "output_type": "execute_result"
    }
   ],
   "source": [
    "df.isnull().sum()"
   ]
  },
  {
   "cell_type": "code",
   "execution_count": 7,
   "id": "6748bb60",
   "metadata": {
    "execution": {
     "iopub.execute_input": "2024-08-24T14:45:56.935861Z",
     "iopub.status.busy": "2024-08-24T14:45:56.935172Z",
     "iopub.status.idle": "2024-08-24T14:45:56.940952Z",
     "shell.execute_reply": "2024-08-24T14:45:56.940068Z"
    },
    "papermill": {
     "duration": 0.02149,
     "end_time": "2024-08-24T14:45:56.942917",
     "exception": false,
     "start_time": "2024-08-24T14:45:56.921427",
     "status": "completed"
    },
    "tags": []
   },
   "outputs": [],
   "source": [
    "df=df.fillna('')"
   ]
  },
  {
   "cell_type": "code",
   "execution_count": 8,
   "id": "b55159aa",
   "metadata": {
    "execution": {
     "iopub.execute_input": "2024-08-24T14:45:56.971445Z",
     "iopub.status.busy": "2024-08-24T14:45:56.971210Z",
     "iopub.status.idle": "2024-08-24T14:45:57.146693Z",
     "shell.execute_reply": "2024-08-24T14:45:57.145975Z"
    },
    "papermill": {
     "duration": 0.191519,
     "end_time": "2024-08-24T14:45:57.148866",
     "exception": false,
     "start_time": "2024-08-24T14:45:56.957347",
     "status": "completed"
    },
    "tags": []
   },
   "outputs": [],
   "source": [
    "import re\n",
    "from bs4 import BeautifulSoup\n",
    "\n",
    "def text_cleaning(text):\n",
    "    text = str(text)\n",
    "    soup = BeautifulSoup(text, \"html.parser\")    ###removing html tages\n",
    "    text = re.sub(r'\\[[^]]*\\]', '', soup.get_text())      ##removing text within square brackets\n",
    "    pattern = r\"[^a-zA-Z0-9\\s,']\"                  # Removing unwanted characters\n",
    "    text = re.sub(pattern, '', text)\n",
    "    url_pattern = r'http\\S+|www\\S+'            ###removing urls\n",
    "    text = re.sub(url_pattern, '', text)\n",
    "    return text"
   ]
  },
  {
   "cell_type": "code",
   "execution_count": 9,
   "id": "7e498a29",
   "metadata": {
    "execution": {
     "iopub.execute_input": "2024-08-24T14:45:57.176686Z",
     "iopub.status.busy": "2024-08-24T14:45:57.175948Z",
     "iopub.status.idle": "2024-08-24T14:45:57.455106Z",
     "shell.execute_reply": "2024-08-24T14:45:57.454398Z"
    },
    "papermill": {
     "duration": 0.295109,
     "end_time": "2024-08-24T14:45:57.457146",
     "exception": false,
     "start_time": "2024-08-24T14:45:57.162037",
     "status": "completed"
    },
    "tags": []
   },
   "outputs": [],
   "source": [
    "df['tweet']=df['tweet'].apply(text_cleaning).tolist()"
   ]
  },
  {
   "cell_type": "code",
   "execution_count": 10,
   "id": "299c7b89",
   "metadata": {
    "execution": {
     "iopub.execute_input": "2024-08-24T14:45:57.484924Z",
     "iopub.status.busy": "2024-08-24T14:45:57.484238Z",
     "iopub.status.idle": "2024-08-24T14:46:09.389726Z",
     "shell.execute_reply": "2024-08-24T14:46:09.388589Z"
    },
    "papermill": {
     "duration": 11.921584,
     "end_time": "2024-08-24T14:46:09.391913",
     "exception": false,
     "start_time": "2024-08-24T14:45:57.470329",
     "status": "completed"
    },
    "tags": []
   },
   "outputs": [
    {
     "name": "stderr",
     "output_type": "stream",
     "text": [
      "2024-08-24 14:46:00.171332: E external/local_xla/xla/stream_executor/cuda/cuda_dnn.cc:9261] Unable to register cuDNN factory: Attempting to register factory for plugin cuDNN when one has already been registered\n",
      "2024-08-24 14:46:00.171439: E external/local_xla/xla/stream_executor/cuda/cuda_fft.cc:607] Unable to register cuFFT factory: Attempting to register factory for plugin cuFFT when one has already been registered\n",
      "2024-08-24 14:46:00.292559: E external/local_xla/xla/stream_executor/cuda/cuda_blas.cc:1515] Unable to register cuBLAS factory: Attempting to register factory for plugin cuBLAS when one has already been registered\n"
     ]
    }
   ],
   "source": [
    "from sklearn.feature_extraction.text import CountVectorizer\n",
    "from keras.models import Sequential\n",
    "from keras.layers import Dense, Embedding, LSTM, SpatialDropout1D\n",
    "from sklearn.model_selection import train_test_split\n",
    "import re"
   ]
  },
  {
   "cell_type": "code",
   "execution_count": 11,
   "id": "8cd47dd7",
   "metadata": {
    "execution": {
     "iopub.execute_input": "2024-08-24T14:46:09.420655Z",
     "iopub.status.busy": "2024-08-24T14:46:09.420055Z",
     "iopub.status.idle": "2024-08-24T14:46:09.448496Z",
     "shell.execute_reply": "2024-08-24T14:46:09.447845Z"
    },
    "papermill": {
     "duration": 0.044691,
     "end_time": "2024-08-24T14:46:09.450437",
     "exception": false,
     "start_time": "2024-08-24T14:46:09.405746",
     "status": "completed"
    },
    "tags": []
   },
   "outputs": [],
   "source": [
    "import tensorflow as tf\n",
    "from tensorflow.keras.preprocessing.text import Tokenizer\n",
    "from tensorflow.keras.preprocessing.sequence import pad_sequences\n",
    "from tensorflow.keras.utils import to_categorical"
   ]
  },
  {
   "cell_type": "code",
   "execution_count": 12,
   "id": "59bc589b",
   "metadata": {
    "execution": {
     "iopub.execute_input": "2024-08-24T14:46:09.478073Z",
     "iopub.status.busy": "2024-08-24T14:46:09.477810Z",
     "iopub.status.idle": "2024-08-24T14:46:09.481991Z",
     "shell.execute_reply": "2024-08-24T14:46:09.481249Z"
    },
    "papermill": {
     "duration": 0.020233,
     "end_time": "2024-08-24T14:46:09.483874",
     "exception": false,
     "start_time": "2024-08-24T14:46:09.463641",
     "status": "completed"
    },
    "tags": []
   },
   "outputs": [],
   "source": [
    "import tensorflow as tf\n",
    "from tensorflow.keras.preprocessing.text import Tokenizer\n",
    "from tensorflow.keras.preprocessing.sequence import pad_sequences\n",
    "from tensorflow.keras.utils import to_categorical"
   ]
  },
  {
   "cell_type": "code",
   "execution_count": 13,
   "id": "433eca91",
   "metadata": {
    "execution": {
     "iopub.execute_input": "2024-08-24T14:46:09.511102Z",
     "iopub.status.busy": "2024-08-24T14:46:09.510844Z",
     "iopub.status.idle": "2024-08-24T14:46:09.516137Z",
     "shell.execute_reply": "2024-08-24T14:46:09.515340Z"
    },
    "papermill": {
     "duration": 0.021253,
     "end_time": "2024-08-24T14:46:09.518088",
     "exception": false,
     "start_time": "2024-08-24T14:46:09.496835",
     "status": "completed"
    },
    "tags": []
   },
   "outputs": [
    {
     "data": {
      "text/plain": [
       "dtype('O')"
      ]
     },
     "execution_count": 13,
     "metadata": {},
     "output_type": "execute_result"
    }
   ],
   "source": [
    "df['tweet'].dtype"
   ]
  },
  {
   "cell_type": "code",
   "execution_count": 14,
   "id": "3ae3a064",
   "metadata": {
    "execution": {
     "iopub.execute_input": "2024-08-24T14:46:09.545156Z",
     "iopub.status.busy": "2024-08-24T14:46:09.544916Z",
     "iopub.status.idle": "2024-08-24T14:46:09.550279Z",
     "shell.execute_reply": "2024-08-24T14:46:09.549494Z"
    },
    "papermill": {
     "duration": 0.020956,
     "end_time": "2024-08-24T14:46:09.552120",
     "exception": false,
     "start_time": "2024-08-24T14:46:09.531164",
     "status": "completed"
    },
    "tags": []
   },
   "outputs": [
    {
     "data": {
      "text/plain": [
       "dtype('O')"
      ]
     },
     "execution_count": 14,
     "metadata": {},
     "output_type": "execute_result"
    }
   ],
   "source": [
    "df['class'].dtype"
   ]
  },
  {
   "cell_type": "code",
   "execution_count": 15,
   "id": "fdcf8d38",
   "metadata": {
    "execution": {
     "iopub.execute_input": "2024-08-24T14:46:09.579420Z",
     "iopub.status.busy": "2024-08-24T14:46:09.579185Z",
     "iopub.status.idle": "2024-08-24T14:46:09.588245Z",
     "shell.execute_reply": "2024-08-24T14:46:09.587408Z"
    },
    "papermill": {
     "duration": 0.025221,
     "end_time": "2024-08-24T14:46:09.590535",
     "exception": false,
     "start_time": "2024-08-24T14:46:09.565314",
     "status": "completed"
    },
    "tags": []
   },
   "outputs": [
    {
     "data": {
      "text/html": [
       "<div>\n",
       "<style scoped>\n",
       "    .dataframe tbody tr th:only-of-type {\n",
       "        vertical-align: middle;\n",
       "    }\n",
       "\n",
       "    .dataframe tbody tr th {\n",
       "        vertical-align: top;\n",
       "    }\n",
       "\n",
       "    .dataframe thead th {\n",
       "        text-align: right;\n",
       "    }\n",
       "</style>\n",
       "<table border=\"1\" class=\"dataframe\">\n",
       "  <thead>\n",
       "    <tr style=\"text-align: right;\">\n",
       "      <th></th>\n",
       "      <th>tweet</th>\n",
       "      <th>class</th>\n",
       "    </tr>\n",
       "  </thead>\n",
       "  <tbody>\n",
       "    <tr>\n",
       "      <th>4948</th>\n",
       "      <td>time flies by when you're facetiming the bae</td>\n",
       "      <td>positive</td>\n",
       "    </tr>\n",
       "    <tr>\n",
       "      <th>4949</th>\n",
       "      <td>U dont know how I feel about this</td>\n",
       "      <td>negative</td>\n",
       "    </tr>\n",
       "    <tr>\n",
       "      <th>4950</th>\n",
       "      <td>come to my job I'll give you a baconator lol</td>\n",
       "      <td>positive</td>\n",
       "    </tr>\n",
       "    <tr>\n",
       "      <th>4951</th>\n",
       "      <td>Rihanna just made Maya Angelou her avi  you're...</td>\n",
       "      <td>negative</td>\n",
       "    </tr>\n",
       "    <tr>\n",
       "      <th>4952</th>\n",
       "      <td>im the lil bitch in the theaters tryna hold ba...</td>\n",
       "      <td>negative</td>\n",
       "    </tr>\n",
       "    <tr>\n",
       "      <th>4953</th>\n",
       "      <td>make a pet face  wtf wrong with me tonight haha</td>\n",
       "      <td>negative</td>\n",
       "    </tr>\n",
       "    <tr>\n",
       "      <th>4954</th>\n",
       "      <td>I dnt care anymore  Boyz ain't worth d drama</td>\n",
       "      <td>negative</td>\n",
       "    </tr>\n",
       "    <tr>\n",
       "      <th>4955</th>\n",
       "      <td>No relationship is perfect tho me bae goo from...</td>\n",
       "      <td>negative</td>\n",
       "    </tr>\n",
       "    <tr>\n",
       "      <th>4956</th>\n",
       "      <td>Over here tryna get my nail polishes and shit lol</td>\n",
       "      <td>negative</td>\n",
       "    </tr>\n",
       "    <tr>\n",
       "      <th>4957</th>\n",
       "      <td>No one was loved d way i luv U</td>\n",
       "      <td>positive</td>\n",
       "    </tr>\n",
       "  </tbody>\n",
       "</table>\n",
       "</div>"
      ],
      "text/plain": [
       "                                                  tweet     class\n",
       "4948       time flies by when you're facetiming the bae  positive\n",
       "4949                  U dont know how I feel about this  negative\n",
       "4950       come to my job I'll give you a baconator lol  positive\n",
       "4951  Rihanna just made Maya Angelou her avi  you're...  negative\n",
       "4952  im the lil bitch in the theaters tryna hold ba...  negative\n",
       "4953    make a pet face  wtf wrong with me tonight haha  negative\n",
       "4954      I dnt care anymore  Boyz ain't worth d drama   negative\n",
       "4955  No relationship is perfect tho me bae goo from...  negative\n",
       "4956  Over here tryna get my nail polishes and shit lol  negative\n",
       "4957                     No one was loved d way i luv U  positive"
      ]
     },
     "execution_count": 15,
     "metadata": {},
     "output_type": "execute_result"
    }
   ],
   "source": [
    "df.tail(10)"
   ]
  },
  {
   "cell_type": "code",
   "execution_count": 16,
   "id": "d8d49705",
   "metadata": {
    "execution": {
     "iopub.execute_input": "2024-08-24T14:46:09.618744Z",
     "iopub.status.busy": "2024-08-24T14:46:09.618470Z",
     "iopub.status.idle": "2024-08-24T14:46:10.159151Z",
     "shell.execute_reply": "2024-08-24T14:46:10.158054Z"
    },
    "papermill": {
     "duration": 0.557205,
     "end_time": "2024-08-24T14:46:10.161359",
     "exception": false,
     "start_time": "2024-08-24T14:46:09.604154",
     "status": "completed"
    },
    "tags": []
   },
   "outputs": [
    {
     "name": "stdout",
     "output_type": "stream",
     "text": [
      "3286\n",
      "3144\n"
     ]
    }
   ],
   "source": [
    "df = df[df['class'] != \"neutral\"]  ###droping neutral columns\n",
    "df['tweet'] = df['tweet'].apply(lambda x: x.lower())\n",
    "\n",
    "print(df[ df['class'] == 'positive'].size)\n",
    "print(df[ df['class'] == 'negative'].size)\n",
    "\n",
    "for idx,row in df.iterrows():\n",
    "    row[0] = row[0].replace('rt',' ')\n",
    "    \n",
    "max_fatures = 2000\n",
    "tokenizer = Tokenizer(num_words=max_fatures, split=' ')\n",
    "tokenizer.fit_on_texts(df['tweet'].values)\n",
    "X = tokenizer.texts_to_sequences(df['tweet'].values)\n",
    "X = pad_sequences(X)"
   ]
  },
  {
   "cell_type": "code",
   "execution_count": 17,
   "id": "68a140b2",
   "metadata": {
    "execution": {
     "iopub.execute_input": "2024-08-24T14:46:10.189810Z",
     "iopub.status.busy": "2024-08-24T14:46:10.189525Z",
     "iopub.status.idle": "2024-08-24T14:46:10.419619Z",
     "shell.execute_reply": "2024-08-24T14:46:10.417966Z"
    },
    "papermill": {
     "duration": 0.248806,
     "end_time": "2024-08-24T14:46:10.424009",
     "exception": false,
     "start_time": "2024-08-24T14:46:10.175203",
     "status": "completed"
    },
    "tags": []
   },
   "outputs": [],
   "source": [
    "from tensorflow.keras.models import Sequential\n",
    "from tensorflow.keras.layers import Embedding, SpatialDropout1D, LSTM, Dense, Dropout, Bidirectional\n",
    "from tensorflow.keras.callbacks import EarlyStopping, ModelCheckpoint, ReduceLROnPlateau\n",
    "from tensorflow.keras.optimizers import Adam\n",
    "from tensorflow.keras.regularizers import l2\n",
    "from tensorflow.keras.layers import Embedding\n",
    "from tensorflow.keras.initializers import Constant\n",
    "from tensorflow.keras.optimizers import RMSprop\n",
    "from keras_tuner import RandomSearch"
   ]
  },
  {
   "cell_type": "code",
   "execution_count": 18,
   "id": "0ac1ca6a",
   "metadata": {
    "execution": {
     "iopub.execute_input": "2024-08-24T14:46:10.460294Z",
     "iopub.status.busy": "2024-08-24T14:46:10.459798Z",
     "iopub.status.idle": "2024-08-24T14:49:11.127572Z",
     "shell.execute_reply": "2024-08-24T14:49:11.126010Z"
    },
    "papermill": {
     "duration": 180.688663,
     "end_time": "2024-08-24T14:49:11.130396",
     "exception": false,
     "start_time": "2024-08-24T14:46:10.441733",
     "status": "completed"
    },
    "tags": []
   },
   "outputs": [
    {
     "name": "stdout",
     "output_type": "stream",
     "text": [
      "--2024-08-24 14:46:11--  http://nlp.stanford.edu/data/glove.6B.zip\r\n",
      "Resolving nlp.stanford.edu (nlp.stanford.edu)... 171.64.67.140\r\n",
      "Connecting to nlp.stanford.edu (nlp.stanford.edu)|171.64.67.140|:80... connected.\r\n",
      "HTTP request sent, awaiting response... 302 Found\r\n",
      "Location: https://nlp.stanford.edu/data/glove.6B.zip [following]\r\n",
      "--2024-08-24 14:46:11--  https://nlp.stanford.edu/data/glove.6B.zip\r\n",
      "Connecting to nlp.stanford.edu (nlp.stanford.edu)|171.64.67.140|:443... connected.\r\n",
      "HTTP request sent, awaiting response... 301 Moved Permanently\r\n",
      "Location: https://downloads.cs.stanford.edu/nlp/data/glove.6B.zip [following]\r\n",
      "--2024-08-24 14:46:11--  https://downloads.cs.stanford.edu/nlp/data/glove.6B.zip\r\n",
      "Resolving downloads.cs.stanford.edu (downloads.cs.stanford.edu)... 171.64.64.22\r\n",
      "Connecting to downloads.cs.stanford.edu (downloads.cs.stanford.edu)|171.64.64.22|:443... connected.\r\n",
      "HTTP request sent, awaiting response... 200 OK\r\n",
      "Length: 862182613 (822M) [application/zip]\r\n",
      "Saving to: 'glove.6B.zip'\r\n",
      "\r\n",
      "glove.6B.zip        100%[===================>] 822.24M  5.01MB/s    in 2m 38s  \r\n",
      "\r\n",
      "2024-08-24 14:48:50 (5.19 MB/s) - 'glove.6B.zip' saved [862182613/862182613]\r\n",
      "\r\n",
      "Archive:  glove.6B.zip\r\n",
      "  inflating: glove.6B.50d.txt        \r\n",
      "  inflating: glove.6B.100d.txt       \r\n",
      "  inflating: glove.6B.200d.txt       \r\n",
      "  inflating: glove.6B.300d.txt       \r\n"
     ]
    }
   ],
   "source": [
    "!wget http://nlp.stanford.edu/data/glove.6B.zip\n",
    "!unzip glove.6B.zip"
   ]
  },
  {
   "cell_type": "code",
   "execution_count": 19,
   "id": "caa6c9f9",
   "metadata": {
    "execution": {
     "iopub.execute_input": "2024-08-24T14:49:11.325028Z",
     "iopub.status.busy": "2024-08-24T14:49:11.324580Z",
     "iopub.status.idle": "2024-08-24T14:49:22.949150Z",
     "shell.execute_reply": "2024-08-24T14:49:22.948359Z"
    },
    "papermill": {
     "duration": 11.722361,
     "end_time": "2024-08-24T14:49:22.951345",
     "exception": false,
     "start_time": "2024-08-24T14:49:11.228984",
     "status": "completed"
    },
    "tags": []
   },
   "outputs": [],
   "source": [
    "embedding_index = {}\n",
    "with open('glove.6B.100d.txt', encoding='utf-8') as f:\n",
    "    for line in f:\n",
    "        values = line.split()\n",
    "        word = values[0]\n",
    "        coefs = np.asarray(values[1:], dtype='float32')\n",
    "        embedding_index[word] = coefs\n"
   ]
  },
  {
   "cell_type": "code",
   "execution_count": 20,
   "id": "6a78d671",
   "metadata": {
    "execution": {
     "iopub.execute_input": "2024-08-24T14:49:23.099845Z",
     "iopub.status.busy": "2024-08-24T14:49:23.099325Z",
     "iopub.status.idle": "2024-08-24T14:49:23.103359Z",
     "shell.execute_reply": "2024-08-24T14:49:23.102576Z"
    },
    "jupyter": {
     "source_hidden": true
    },
    "papermill": {
     "duration": 0.078923,
     "end_time": "2024-08-24T14:49:23.105180",
     "exception": false,
     "start_time": "2024-08-24T14:49:23.026257",
     "status": "completed"
    },
    "tags": []
   },
   "outputs": [],
   "source": [
    "# max_features = 5000  \n",
    "# embed_dim = 128 \n",
    "# lstm_out = 64  \n",
    "# batch_size = 32\n",
    "# epochs = 20\n",
    "# learning_rate = 0.001"
   ]
  },
  {
   "cell_type": "code",
   "execution_count": 21,
   "id": "7f41d7cf",
   "metadata": {
    "execution": {
     "iopub.execute_input": "2024-08-24T14:49:23.250296Z",
     "iopub.status.busy": "2024-08-24T14:49:23.250013Z",
     "iopub.status.idle": "2024-08-24T14:49:23.254208Z",
     "shell.execute_reply": "2024-08-24T14:49:23.253442Z"
    },
    "papermill": {
     "duration": 0.078943,
     "end_time": "2024-08-24T14:49:23.256107",
     "exception": false,
     "start_time": "2024-08-24T14:49:23.177164",
     "status": "completed"
    },
    "tags": []
   },
   "outputs": [],
   "source": [
    "max_features = 5000  \n",
    "embed_dim = 128 \n",
    "lstm_out = 64  \n",
    "batch_size = 64\n",
    "epochs = 20\n",
    "initial_learning_rate = 0.0005"
   ]
  },
  {
   "cell_type": "code",
   "execution_count": 22,
   "id": "b3f83aea",
   "metadata": {
    "execution": {
     "iopub.execute_input": "2024-08-24T14:49:23.403165Z",
     "iopub.status.busy": "2024-08-24T14:49:23.402470Z",
     "iopub.status.idle": "2024-08-24T14:49:23.419122Z",
     "shell.execute_reply": "2024-08-24T14:49:23.418489Z"
    },
    "papermill": {
     "duration": 0.091973,
     "end_time": "2024-08-24T14:49:23.421026",
     "exception": false,
     "start_time": "2024-08-24T14:49:23.329053",
     "status": "completed"
    },
    "tags": []
   },
   "outputs": [],
   "source": [
    "embedding_dim = 100\n",
    "embedding_matrix = np.zeros((max_features, embedding_dim))\n",
    "for word, i in tokenizer.word_index.items():\n",
    "    if i < max_features:\n",
    "        embedding_vector = embedding_index.get(word)\n",
    "        if embedding_vector is not None:\n",
    "            embedding_matrix[i] = embedding_vector"
   ]
  },
  {
   "cell_type": "code",
   "execution_count": 23,
   "id": "fcb26149",
   "metadata": {
    "execution": {
     "iopub.execute_input": "2024-08-24T14:49:23.572766Z",
     "iopub.status.busy": "2024-08-24T14:49:23.572383Z",
     "iopub.status.idle": "2024-08-24T14:49:23.577149Z",
     "shell.execute_reply": "2024-08-24T14:49:23.576373Z"
    },
    "papermill": {
     "duration": 0.081161,
     "end_time": "2024-08-24T14:49:23.579001",
     "exception": false,
     "start_time": "2024-08-24T14:49:23.497840",
     "status": "completed"
    },
    "tags": []
   },
   "outputs": [],
   "source": [
    "# # from tensorflow.keras.models import Sequential\n",
    "# # from tensorflow.keras.layers import Embedding, SpatialDropout1D, LSTM, Dense\n",
    "\n",
    "\n",
    "# # Model\n",
    "# model = Sequential()\n",
    "# model.add(Embedding(max_features, embedding_dim, embeddings_initializer=Constant(embedding_matrix),\n",
    "#                     input_length=X.shape[1], trainable=True))\n",
    "# model.add(SpatialDropout1D(0.3))\n",
    "# model.add(Bidirectional(LSTM(128, return_sequences=True)))\n",
    "# model.add(LSTM(64, dropout=0.4, recurrent_dropout=0.4))\n",
    "# model.add(Dense(64, activation='relu', kernel_regularizer=tf.keras.regularizers.l2(0.01)))\n",
    "# model.add(Dropout(0.4))\n",
    "# model.add(Dense(2, activation='softmax'))  # Assuming 2 classes for classification\n",
    "\n",
    "# # model.compile(loss='categorical_crossentropy', optimizer='adam', metrics=['accuracy'])\n",
    "# # print(model.summary())"
   ]
  },
  {
   "cell_type": "code",
   "execution_count": 24,
   "id": "e01c54b4",
   "metadata": {
    "execution": {
     "iopub.execute_input": "2024-08-24T14:49:23.725575Z",
     "iopub.status.busy": "2024-08-24T14:49:23.724911Z",
     "iopub.status.idle": "2024-08-24T14:49:23.729752Z",
     "shell.execute_reply": "2024-08-24T14:49:23.728941Z"
    },
    "papermill": {
     "duration": 0.079361,
     "end_time": "2024-08-24T14:49:23.731691",
     "exception": false,
     "start_time": "2024-08-24T14:49:23.652330",
     "status": "completed"
    },
    "tags": []
   },
   "outputs": [],
   "source": [
    "tf.random.set_seed(42)"
   ]
  },
  {
   "cell_type": "code",
   "execution_count": 25,
   "id": "de9983aa",
   "metadata": {
    "execution": {
     "iopub.execute_input": "2024-08-24T14:49:23.877463Z",
     "iopub.status.busy": "2024-08-24T14:49:23.877211Z",
     "iopub.status.idle": "2024-08-24T14:49:23.880888Z",
     "shell.execute_reply": "2024-08-24T14:49:23.880058Z"
    },
    "papermill": {
     "duration": 0.078386,
     "end_time": "2024-08-24T14:49:23.882701",
     "exception": false,
     "start_time": "2024-08-24T14:49:23.804315",
     "status": "completed"
    },
    "tags": []
   },
   "outputs": [],
   "source": [
    "# optimizer = Adam(learning_rate=initial_learning_rate)"
   ]
  },
  {
   "cell_type": "code",
   "execution_count": 26,
   "id": "bcc482a1",
   "metadata": {
    "execution": {
     "iopub.execute_input": "2024-08-24T14:49:24.037725Z",
     "iopub.status.busy": "2024-08-24T14:49:24.036981Z",
     "iopub.status.idle": "2024-08-24T14:49:24.040810Z",
     "shell.execute_reply": "2024-08-24T14:49:24.039936Z"
    },
    "papermill": {
     "duration": 0.082847,
     "end_time": "2024-08-24T14:49:24.042596",
     "exception": false,
     "start_time": "2024-08-24T14:49:23.959749",
     "status": "completed"
    },
    "tags": []
   },
   "outputs": [],
   "source": [
    "# model.compile(loss='categorical_crossentropy', optimizer=RMSprop(learning_rate=0.001), metrics=['accuracy'])"
   ]
  },
  {
   "cell_type": "code",
   "execution_count": 27,
   "id": "228401d0",
   "metadata": {
    "execution": {
     "iopub.execute_input": "2024-08-24T14:49:24.190550Z",
     "iopub.status.busy": "2024-08-24T14:49:24.190008Z",
     "iopub.status.idle": "2024-08-24T14:49:24.193798Z",
     "shell.execute_reply": "2024-08-24T14:49:24.192903Z"
    },
    "papermill": {
     "duration": 0.07978,
     "end_time": "2024-08-24T14:49:24.195767",
     "exception": false,
     "start_time": "2024-08-24T14:49:24.115987",
     "status": "completed"
    },
    "tags": []
   },
   "outputs": [],
   "source": [
    "# print(model.summary())"
   ]
  },
  {
   "cell_type": "code",
   "execution_count": 28,
   "id": "09b45004",
   "metadata": {
    "execution": {
     "iopub.execute_input": "2024-08-24T14:49:24.341719Z",
     "iopub.status.busy": "2024-08-24T14:49:24.341370Z",
     "iopub.status.idle": "2024-08-24T14:49:24.344982Z",
     "shell.execute_reply": "2024-08-24T14:49:24.344146Z"
    },
    "papermill": {
     "duration": 0.078416,
     "end_time": "2024-08-24T14:49:24.346838",
     "exception": false,
     "start_time": "2024-08-24T14:49:24.268422",
     "status": "completed"
    },
    "tags": []
   },
   "outputs": [],
   "source": [
    "# early_stopping = EarlyStopping(monitor='val_loss', patience=5, verbose=1, restore_best_weights=True)\n",
    "# reduce_lr = ReduceLROnPlateau(monitor='val_loss', factor=0.1, patience=2, min_lr=0.00001, verbose=1)\n",
    "# model_checkpoint = ModelCheckpoint('best_model.keras', save_best_only=True, monitor='val_loss', mode='min')\n"
   ]
  },
  {
   "cell_type": "code",
   "execution_count": 29,
   "id": "4d5019b4",
   "metadata": {
    "execution": {
     "iopub.execute_input": "2024-08-24T14:49:24.501228Z",
     "iopub.status.busy": "2024-08-24T14:49:24.500904Z",
     "iopub.status.idle": "2024-08-24T14:49:24.513901Z",
     "shell.execute_reply": "2024-08-24T14:49:24.512872Z"
    },
    "papermill": {
     "duration": 0.094223,
     "end_time": "2024-08-24T14:49:24.515948",
     "exception": false,
     "start_time": "2024-08-24T14:49:24.421725",
     "status": "completed"
    },
    "tags": []
   },
   "outputs": [
    {
     "name": "stdout",
     "output_type": "stream",
     "text": [
      "(2572, 29) (2572, 2)\n",
      "(643, 29) (643, 2)\n"
     ]
    }
   ],
   "source": [
    "Y = pd.get_dummies(df['class']).values\n",
    "X_train, X_test, Y_train, Y_test = train_test_split(X,Y, test_size = 0.2, random_state = 42)\n",
    "print(X_train.shape,Y_train.shape)\n",
    "print(X_test.shape,Y_test.shape)"
   ]
  },
  {
   "cell_type": "code",
   "execution_count": 30,
   "id": "52cd7a60",
   "metadata": {
    "execution": {
     "iopub.execute_input": "2024-08-24T14:49:24.664307Z",
     "iopub.status.busy": "2024-08-24T14:49:24.664031Z",
     "iopub.status.idle": "2024-08-24T14:49:24.668627Z",
     "shell.execute_reply": "2024-08-24T14:49:24.667809Z"
    },
    "papermill": {
     "duration": 0.080485,
     "end_time": "2024-08-24T14:49:24.670498",
     "exception": false,
     "start_time": "2024-08-24T14:49:24.590013",
     "status": "completed"
    },
    "tags": []
   },
   "outputs": [],
   "source": [
    "validation_size = 500\n",
    "\n",
    "X_validate = X_test[-validation_size:]\n",
    "Y_validate = Y_test[-validation_size:]\n",
    "X_test = X_test[:-validation_size]\n",
    "Y_test = Y_test[:-validation_size]"
   ]
  },
  {
   "cell_type": "markdown",
   "id": "157fb58b",
   "metadata": {
    "papermill": {
     "duration": 0.072313,
     "end_time": "2024-08-24T14:49:24.814703",
     "exception": false,
     "start_time": "2024-08-24T14:49:24.742390",
     "status": "completed"
    },
    "tags": []
   },
   "source": [
    "# MODEL"
   ]
  },
  {
   "cell_type": "code",
   "execution_count": 31,
   "id": "41724019",
   "metadata": {
    "execution": {
     "iopub.execute_input": "2024-08-24T14:49:24.960321Z",
     "iopub.status.busy": "2024-08-24T14:49:24.959689Z",
     "iopub.status.idle": "2024-08-24T14:49:24.970415Z",
     "shell.execute_reply": "2024-08-24T14:49:24.969641Z"
    },
    "papermill": {
     "duration": 0.085666,
     "end_time": "2024-08-24T14:49:24.972288",
     "exception": false,
     "start_time": "2024-08-24T14:49:24.886622",
     "status": "completed"
    },
    "tags": []
   },
   "outputs": [],
   "source": [
    "# Define the hyperparameter tuning function\n",
    "def build_model(hp):\n",
    "    model = Sequential()\n",
    "    \n",
    "    # Embedding layer with pre-trained GloVe embeddings\n",
    "    model.add(Embedding(max_features,\n",
    "                        embedding_dim,\n",
    "                        embeddings_initializer=Constant(embedding_matrix),\n",
    "                        input_length=X.shape[1],\n",
    "                        trainable=True))\n",
    "    \n",
    "    # Tuning SpatialDropout1D rate\n",
    "    model.add(SpatialDropout1D(hp.Float('spatial_dropout', min_value=0.1, max_value=0.5, step=0.1)))\n",
    "    \n",
    "    # Bidirectional LSTM layer with tunable units\n",
    "    model.add(Bidirectional(LSTM(units=hp.Int('lstm_units_1', min_value=64, max_value=128, step=32), \n",
    "                                 return_sequences=True)))\n",
    "    \n",
    "    # Second LSTM layer with dropout and recurrent dropout\n",
    "    model.add(LSTM(units=hp.Int('lstm_units_2', min_value=32, max_value=64, step=32),\n",
    "                   dropout=hp.Float('dropout', min_value=0.2, max_value=0.5, step=0.1),\n",
    "                   recurrent_dropout=hp.Float('recurrent_dropout', min_value=0.2, max_value=0.5, step=0.1)))\n",
    "    \n",
    "    # Dense layer with L2 regularization\n",
    "    model.add(Dense(units=hp.Int('dense_units', min_value=32, max_value=64, step=16),\n",
    "                    activation='relu',\n",
    "                    kernel_regularizer=tf.keras.regularizers.l2(0.01)))\n",
    "    \n",
    "    # Dropout layer\n",
    "    model.add(Dropout(hp.Float('dropout_dense', min_value=0.2, max_value=0.5, step=0.1)))\n",
    "    \n",
    "    # Output layer\n",
    "    model.add(Dense(2, activation='softmax'))\n",
    "    \n",
    "    # Compile the model\n",
    "#     model.compile(\n",
    "#         optimizer=hp.Choice('optimizer', values=['adam', 'rmsprop']),\n",
    "#         loss='categorical_crossentropy',\n",
    "#         metrics=['accuracy']\n",
    "#     )\n",
    "    \n",
    "    model.compile(optimizer=tf.keras.optimizers.Adam(hp.Float('learning_rate', min_value=1e-4, max_value=1e-2, sampling='LOG')),\n",
    "                  loss='categorical_crossentropy',\n",
    "                  metrics=['accuracy'])\n",
    "    \n",
    "    return model"
   ]
  },
  {
   "cell_type": "code",
   "execution_count": 32,
   "id": "485904a2",
   "metadata": {
    "execution": {
     "iopub.execute_input": "2024-08-24T14:49:25.119697Z",
     "iopub.status.busy": "2024-08-24T14:49:25.119395Z",
     "iopub.status.idle": "2024-08-24T14:49:25.922561Z",
     "shell.execute_reply": "2024-08-24T14:49:25.921691Z"
    },
    "papermill": {
     "duration": 0.878439,
     "end_time": "2024-08-24T14:49:25.924659",
     "exception": false,
     "start_time": "2024-08-24T14:49:25.046220",
     "status": "completed"
    },
    "tags": []
   },
   "outputs": [],
   "source": [
    "# Instantiate the RandomSearch tuner\n",
    "tuner = RandomSearch(\n",
    "    build_model,\n",
    "    objective='val_accuracy',\n",
    "    max_trials=20,  # Number of different models to try\n",
    "    executions_per_trial=4,  # Number of times to train each model\n",
    "    directory='my_dir',\n",
    "    project_name='lstm_hyperparameter_tuning'\n",
    ")"
   ]
  },
  {
   "cell_type": "code",
   "execution_count": 33,
   "id": "711311b5",
   "metadata": {
    "execution": {
     "iopub.execute_input": "2024-08-24T14:49:26.073430Z",
     "iopub.status.busy": "2024-08-24T14:49:26.073117Z",
     "iopub.status.idle": "2024-08-24T14:49:26.078418Z",
     "shell.execute_reply": "2024-08-24T14:49:26.077644Z"
    },
    "papermill": {
     "duration": 0.081806,
     "end_time": "2024-08-24T14:49:26.080388",
     "exception": false,
     "start_time": "2024-08-24T14:49:25.998582",
     "status": "completed"
    },
    "tags": []
   },
   "outputs": [
    {
     "name": "stdout",
     "output_type": "stream",
     "text": [
      "Search space summary\n",
      "Default search space size: 8\n",
      "spatial_dropout (Float)\n",
      "{'default': 0.1, 'conditions': [], 'min_value': 0.1, 'max_value': 0.5, 'step': 0.1, 'sampling': 'linear'}\n",
      "lstm_units_1 (Int)\n",
      "{'default': None, 'conditions': [], 'min_value': 64, 'max_value': 128, 'step': 32, 'sampling': 'linear'}\n",
      "lstm_units_2 (Int)\n",
      "{'default': None, 'conditions': [], 'min_value': 32, 'max_value': 64, 'step': 32, 'sampling': 'linear'}\n",
      "dropout (Float)\n",
      "{'default': 0.2, 'conditions': [], 'min_value': 0.2, 'max_value': 0.5, 'step': 0.1, 'sampling': 'linear'}\n",
      "recurrent_dropout (Float)\n",
      "{'default': 0.2, 'conditions': [], 'min_value': 0.2, 'max_value': 0.5, 'step': 0.1, 'sampling': 'linear'}\n",
      "dense_units (Int)\n",
      "{'default': None, 'conditions': [], 'min_value': 32, 'max_value': 64, 'step': 16, 'sampling': 'linear'}\n",
      "dropout_dense (Float)\n",
      "{'default': 0.2, 'conditions': [], 'min_value': 0.2, 'max_value': 0.5, 'step': 0.1, 'sampling': 'linear'}\n",
      "learning_rate (Float)\n",
      "{'default': 0.0001, 'conditions': [], 'min_value': 0.0001, 'max_value': 0.01, 'step': None, 'sampling': 'log'}\n"
     ]
    }
   ],
   "source": [
    "\n",
    "# Display search space summary\n",
    "tuner.search_space_summary()"
   ]
  },
  {
   "cell_type": "code",
   "execution_count": 34,
   "id": "5da2d2f8",
   "metadata": {
    "execution": {
     "iopub.execute_input": "2024-08-24T14:49:26.226216Z",
     "iopub.status.busy": "2024-08-24T14:49:26.225966Z",
     "iopub.status.idle": "2024-08-24T14:49:26.230736Z",
     "shell.execute_reply": "2024-08-24T14:49:26.229776Z"
    },
    "papermill": {
     "duration": 0.07962,
     "end_time": "2024-08-24T14:49:26.232677",
     "exception": false,
     "start_time": "2024-08-24T14:49:26.153057",
     "status": "completed"
    },
    "tags": []
   },
   "outputs": [],
   "source": [
    "# batch_size = 32\n",
    "# model.fit(X_train, Y_train, epochs = 20, batch_size=batch_size, verbose = 2)\n",
    "\n",
    "# Training\n",
    "# history = model.fit(X_train, Y_train,\n",
    "#                     epochs=epochs,\n",
    "#                     batch_size=batch_size,\n",
    "#                     validation_data=(X_test, Y_test),\n",
    "#                     verbose=2,\n",
    "#                     callbacks=[early_stopping, reduce_lr, model_checkpoint])"
   ]
  },
  {
   "cell_type": "code",
   "execution_count": 35,
   "id": "f96b4af1",
   "metadata": {
    "execution": {
     "iopub.execute_input": "2024-08-24T14:49:26.377332Z",
     "iopub.status.busy": "2024-08-24T14:49:26.377058Z",
     "iopub.status.idle": "2024-08-24T15:28:52.692322Z",
     "shell.execute_reply": "2024-08-24T15:28:52.691342Z"
    },
    "papermill": {
     "duration": 2366.389883,
     "end_time": "2024-08-24T15:28:52.694245",
     "exception": false,
     "start_time": "2024-08-24T14:49:26.304362",
     "status": "completed"
    },
    "tags": []
   },
   "outputs": [
    {
     "name": "stdout",
     "output_type": "stream",
     "text": [
      "Trial 20 Complete [00h 02m 55s]\n",
      "val_accuracy: 0.779720276594162\n",
      "\n",
      "Best val_accuracy So Far: 0.8111888021230698\n",
      "Total elapsed time: 00h 39m 26s\n"
     ]
    }
   ],
   "source": [
    "# Perform hyperparameter tuning\n",
    "tuner.search(X_train, Y_train, \n",
    "             epochs=20, \n",
    "             validation_data=(X_test, Y_test), \n",
    "             batch_size=64, \n",
    "             callbacks=[tf.keras.callbacks.EarlyStopping(monitor='val_loss', patience=3)])\n"
   ]
  },
  {
   "cell_type": "markdown",
   "id": "eddee223",
   "metadata": {
    "papermill": {
     "duration": 0.071931,
     "end_time": "2024-08-24T15:28:52.839736",
     "exception": false,
     "start_time": "2024-08-24T15:28:52.767805",
     "status": "completed"
    },
    "tags": []
   },
   "source": [
    "## BEST HYPERPARAMS AS PERR TUNER"
   ]
  },
  {
   "cell_type": "code",
   "execution_count": 36,
   "id": "b9ca446e",
   "metadata": {
    "execution": {
     "iopub.execute_input": "2024-08-24T15:28:52.985094Z",
     "iopub.status.busy": "2024-08-24T15:28:52.984752Z",
     "iopub.status.idle": "2024-08-24T15:28:52.991527Z",
     "shell.execute_reply": "2024-08-24T15:28:52.990592Z"
    },
    "papermill": {
     "duration": 0.082015,
     "end_time": "2024-08-24T15:28:52.993501",
     "exception": false,
     "start_time": "2024-08-24T15:28:52.911486",
     "status": "completed"
    },
    "tags": []
   },
   "outputs": [
    {
     "name": "stdout",
     "output_type": "stream",
     "text": [
      "\n",
      "The hyperparameter search is complete. \n",
      "Optimal SpatialDropout1D rate: 0.5\n",
      "Optimal LSTM units for first layer: 128\n",
      "Optimal LSTM units for second layer: 64\n",
      "Optimal dropout rate for second LSTM layer: 0.4\n",
      "Optimal recurrent dropout rate for second LSTM layer: 0.30000000000000004\n",
      "Optimal dense layer units: 48\n",
      "Optimal dropout rate for dense layer: 0.4\n",
      "Optimal learning rate: 0.0014505782975686376\n",
      "\n"
     ]
    }
   ],
   "source": [
    "# Display best hyperparameters\n",
    "best_hps = tuner.get_best_hyperparameters(num_trials=3)[0]\n",
    "print(f\"\"\"\n",
    "The hyperparameter search is complete. \n",
    "Optimal SpatialDropout1D rate: {best_hps.get('spatial_dropout')}\n",
    "Optimal LSTM units for first layer: {best_hps.get('lstm_units_1')}\n",
    "Optimal LSTM units for second layer: {best_hps.get('lstm_units_2')}\n",
    "Optimal dropout rate for second LSTM layer: {best_hps.get('dropout')}\n",
    "Optimal recurrent dropout rate for second LSTM layer: {best_hps.get('recurrent_dropout')}\n",
    "Optimal dense layer units: {best_hps.get('dense_units')}\n",
    "Optimal dropout rate for dense layer: {best_hps.get('dropout_dense')}\n",
    "Optimal learning rate: {best_hps.get('learning_rate')}\n",
    "\"\"\")\n"
   ]
  },
  {
   "cell_type": "markdown",
   "id": "4854fa94",
   "metadata": {
    "papermill": {
     "duration": 0.072863,
     "end_time": "2024-08-24T15:28:53.138887",
     "exception": false,
     "start_time": "2024-08-24T15:28:53.066024",
     "status": "completed"
    },
    "tags": []
   },
   "source": [
    "## SECOND BEST HYPERPARAMS AS PER TUNER"
   ]
  },
  {
   "cell_type": "code",
   "execution_count": 37,
   "id": "5dd2f088",
   "metadata": {
    "execution": {
     "iopub.execute_input": "2024-08-24T15:28:53.284681Z",
     "iopub.status.busy": "2024-08-24T15:28:53.284348Z",
     "iopub.status.idle": "2024-08-24T15:28:53.290038Z",
     "shell.execute_reply": "2024-08-24T15:28:53.289148Z"
    },
    "papermill": {
     "duration": 0.080962,
     "end_time": "2024-08-24T15:28:53.292175",
     "exception": false,
     "start_time": "2024-08-24T15:28:53.211213",
     "status": "completed"
    },
    "tags": []
   },
   "outputs": [
    {
     "name": "stdout",
     "output_type": "stream",
     "text": [
      "\n",
      "The hyperparameter search is complete. \n",
      "Optimal SpatialDropout1D rate: 0.4\n",
      "Optimal LSTM units for first layer: 64\n",
      "Optimal LSTM units for second layer: 32\n",
      "Optimal dropout rate for second LSTM layer: 0.2\n",
      "Optimal recurrent dropout rate for second LSTM layer: 0.2\n",
      "Optimal dense layer units: 48\n",
      "Optimal dropout rate for dense layer: 0.4\n",
      "Optimal learning rate: 0.0009181671251157912\n",
      "\n"
     ]
    }
   ],
   "source": [
    "# Display 2nd best hyperparameters\n",
    "best_hps2 = tuner.get_best_hyperparameters(num_trials=3)[1]\n",
    "print(f\"\"\"\n",
    "The hyperparameter search is complete. \n",
    "Optimal SpatialDropout1D rate: {best_hps2.get('spatial_dropout')}\n",
    "Optimal LSTM units for first layer: {best_hps2.get('lstm_units_1')}\n",
    "Optimal LSTM units for second layer: {best_hps2.get('lstm_units_2')}\n",
    "Optimal dropout rate for second LSTM layer: {best_hps2.get('dropout')}\n",
    "Optimal recurrent dropout rate for second LSTM layer: {best_hps2.get('recurrent_dropout')}\n",
    "Optimal dense layer units: {best_hps2.get('dense_units')}\n",
    "Optimal dropout rate for dense layer: {best_hps2.get('dropout_dense')}\n",
    "Optimal learning rate: {best_hps2.get('learning_rate')}\n",
    "\"\"\")"
   ]
  },
  {
   "cell_type": "code",
   "execution_count": 38,
   "id": "c9ffcc2e",
   "metadata": {
    "execution": {
     "iopub.execute_input": "2024-08-24T15:28:53.438379Z",
     "iopub.status.busy": "2024-08-24T15:28:53.438137Z",
     "iopub.status.idle": "2024-08-24T15:28:53.441884Z",
     "shell.execute_reply": "2024-08-24T15:28:53.441059Z"
    },
    "papermill": {
     "duration": 0.079673,
     "end_time": "2024-08-24T15:28:53.444263",
     "exception": false,
     "start_time": "2024-08-24T15:28:53.364590",
     "status": "completed"
    },
    "tags": []
   },
   "outputs": [],
   "source": [
    "# # Display best hyperparameters\n",
    "# best_hps = tuner.get_best_hyperparameters(num_trials=1)[0]\n",
    "# print(f\"\"\"\n",
    "# The hyperparameter search is complete. \n",
    "# Optimal dropout rate: {best_hps.get('dropout_rate')}\n",
    "# Optimal LSTM units: {best_hps.get('lstm_units')}\n",
    "# Optimal dense layer units: {best_hps.get('dense_units')}\n",
    "# Optimal optimizer: {best_hps.get('optimizer')}\n",
    "# \"\"\")"
   ]
  },
  {
   "cell_type": "code",
   "execution_count": 39,
   "id": "7c8e0cf1",
   "metadata": {
    "execution": {
     "iopub.execute_input": "2024-08-24T15:28:53.608376Z",
     "iopub.status.busy": "2024-08-24T15:28:53.607786Z",
     "iopub.status.idle": "2024-08-24T15:29:25.786248Z",
     "shell.execute_reply": "2024-08-24T15:29:25.785314Z"
    },
    "papermill": {
     "duration": 32.267588,
     "end_time": "2024-08-24T15:29:25.788279",
     "exception": false,
     "start_time": "2024-08-24T15:28:53.520691",
     "status": "completed"
    },
    "tags": []
   },
   "outputs": [
    {
     "name": "stdout",
     "output_type": "stream",
     "text": [
      "Epoch 1/20\n",
      "\u001b[1m41/41\u001b[0m \u001b[32m━━━━━━━━━━━━━━━━━━━━\u001b[0m\u001b[37m\u001b[0m \u001b[1m7s\u001b[0m 63ms/step - accuracy: 0.5151 - loss: 1.1846 - val_accuracy: 0.5664 - val_loss: 0.9636\n",
      "Epoch 2/20\n",
      "\u001b[1m41/41\u001b[0m \u001b[32m━━━━━━━━━━━━━━━━━━━━\u001b[0m\u001b[37m\u001b[0m \u001b[1m2s\u001b[0m 52ms/step - accuracy: 0.5801 - loss: 0.9237 - val_accuracy: 0.6993 - val_loss: 0.7619\n",
      "Epoch 3/20\n",
      "\u001b[1m41/41\u001b[0m \u001b[32m━━━━━━━━━━━━━━━━━━━━\u001b[0m\u001b[37m\u001b[0m \u001b[1m2s\u001b[0m 52ms/step - accuracy: 0.6612 - loss: 0.7386 - val_accuracy: 0.7413 - val_loss: 0.6338\n",
      "Epoch 4/20\n",
      "\u001b[1m41/41\u001b[0m \u001b[32m━━━━━━━━━━━━━━━━━━━━\u001b[0m\u001b[37m\u001b[0m \u001b[1m2s\u001b[0m 51ms/step - accuracy: 0.7384 - loss: 0.6214 - val_accuracy: 0.7273 - val_loss: 0.6174\n",
      "Epoch 5/20\n",
      "\u001b[1m41/41\u001b[0m \u001b[32m━━━━━━━━━━━━━━━━━━━━\u001b[0m\u001b[37m\u001b[0m \u001b[1m2s\u001b[0m 52ms/step - accuracy: 0.7433 - loss: 0.5694 - val_accuracy: 0.7413 - val_loss: 0.5646\n",
      "Epoch 6/20\n",
      "\u001b[1m41/41\u001b[0m \u001b[32m━━━━━━━━━━━━━━━━━━━━\u001b[0m\u001b[37m\u001b[0m \u001b[1m2s\u001b[0m 52ms/step - accuracy: 0.7774 - loss: 0.4951 - val_accuracy: 0.7762 - val_loss: 0.5396\n",
      "Epoch 7/20\n",
      "\u001b[1m41/41\u001b[0m \u001b[32m━━━━━━━━━━━━━━━━━━━━\u001b[0m\u001b[37m\u001b[0m \u001b[1m2s\u001b[0m 52ms/step - accuracy: 0.8020 - loss: 0.4532 - val_accuracy: 0.7692 - val_loss: 0.5249\n",
      "Epoch 8/20\n",
      "\u001b[1m41/41\u001b[0m \u001b[32m━━━━━━━━━━━━━━━━━━━━\u001b[0m\u001b[37m\u001b[0m \u001b[1m2s\u001b[0m 50ms/step - accuracy: 0.8327 - loss: 0.4171 - val_accuracy: 0.7832 - val_loss: 0.5461\n",
      "Epoch 9/20\n",
      "\u001b[1m41/41\u001b[0m \u001b[32m━━━━━━━━━━━━━━━━━━━━\u001b[0m\u001b[37m\u001b[0m \u001b[1m2s\u001b[0m 51ms/step - accuracy: 0.8444 - loss: 0.3863 - val_accuracy: 0.7762 - val_loss: 0.4969\n",
      "Epoch 10/20\n",
      "\u001b[1m41/41\u001b[0m \u001b[32m━━━━━━━━━━━━━━━━━━━━\u001b[0m\u001b[37m\u001b[0m \u001b[1m2s\u001b[0m 50ms/step - accuracy: 0.8668 - loss: 0.3538 - val_accuracy: 0.7972 - val_loss: 0.4864\n",
      "Epoch 11/20\n",
      "\u001b[1m41/41\u001b[0m \u001b[32m━━━━━━━━━━━━━━━━━━━━\u001b[0m\u001b[37m\u001b[0m \u001b[1m2s\u001b[0m 52ms/step - accuracy: 0.8617 - loss: 0.3310 - val_accuracy: 0.7972 - val_loss: 0.4891\n",
      "Epoch 12/20\n",
      "\u001b[1m41/41\u001b[0m \u001b[32m━━━━━━━━━━━━━━━━━━━━\u001b[0m\u001b[37m\u001b[0m \u001b[1m2s\u001b[0m 52ms/step - accuracy: 0.8674 - loss: 0.3120 - val_accuracy: 0.7972 - val_loss: 0.5241\n",
      "Epoch 13/20\n",
      "\u001b[1m41/41\u001b[0m \u001b[32m━━━━━━━━━━━━━━━━━━━━\u001b[0m\u001b[37m\u001b[0m \u001b[1m2s\u001b[0m 51ms/step - accuracy: 0.8877 - loss: 0.2998 - val_accuracy: 0.8182 - val_loss: 0.5358\n"
     ]
    }
   ],
   "source": [
    "# Build the model with the best hyperparameters\n",
    "model = tuner.hypermodel.build(best_hps)\n",
    "\n",
    "# Train the final model\n",
    "history = model.fit(X_train, Y_train, \n",
    "                    epochs=20, \n",
    "                    validation_data=(X_test, Y_test), \n",
    "                    batch_size=64, \n",
    "                    callbacks=[tf.keras.callbacks.EarlyStopping(monitor='val_loss', patience=3)])"
   ]
  },
  {
   "cell_type": "code",
   "execution_count": 40,
   "id": "f025b103",
   "metadata": {
    "execution": {
     "iopub.execute_input": "2024-08-24T15:29:26.049591Z",
     "iopub.status.busy": "2024-08-24T15:29:26.048977Z",
     "iopub.status.idle": "2024-08-24T15:29:26.189260Z",
     "shell.execute_reply": "2024-08-24T15:29:26.188334Z"
    },
    "papermill": {
     "duration": 0.296917,
     "end_time": "2024-08-24T15:29:26.191156",
     "exception": false,
     "start_time": "2024-08-24T15:29:25.894239",
     "status": "completed"
    },
    "tags": []
   },
   "outputs": [
    {
     "name": "stdout",
     "output_type": "stream",
     "text": [
      "\u001b[1m5/5\u001b[0m \u001b[32m━━━━━━━━━━━━━━━━━━━━\u001b[0m\u001b[37m\u001b[0m \u001b[1m0s\u001b[0m 15ms/step - accuracy: 0.8105 - loss: 0.5235\n",
      "Test accuracy: 0.8182\n"
     ]
    }
   ],
   "source": [
    "# Evaluate the model\n",
    "test_loss, test_acc = model.evaluate(X_test, Y_test)\n",
    "print(f\"Test accuracy: {test_acc:.4f}\")"
   ]
  },
  {
   "cell_type": "code",
   "execution_count": 41,
   "id": "b5e66a58",
   "metadata": {
    "execution": {
     "iopub.execute_input": "2024-08-24T15:29:26.405067Z",
     "iopub.status.busy": "2024-08-24T15:29:26.404783Z",
     "iopub.status.idle": "2024-08-24T15:29:55.885316Z",
     "shell.execute_reply": "2024-08-24T15:29:55.884533Z"
    },
    "papermill": {
     "duration": 29.588884,
     "end_time": "2024-08-24T15:29:55.887279",
     "exception": false,
     "start_time": "2024-08-24T15:29:26.298395",
     "status": "completed"
    },
    "tags": []
   },
   "outputs": [
    {
     "name": "stdout",
     "output_type": "stream",
     "text": [
      "Epoch 1/20\n",
      "\u001b[1m41/41\u001b[0m \u001b[32m━━━━━━━━━━━━━━━━━━━━\u001b[0m\u001b[37m\u001b[0m \u001b[1m6s\u001b[0m 53ms/step - accuracy: 0.5003 - loss: 1.0412 - val_accuracy: 0.5385 - val_loss: 0.9439\n",
      "Epoch 2/20\n",
      "\u001b[1m41/41\u001b[0m \u001b[32m━━━━━━━━━━━━━━━━━━━━\u001b[0m\u001b[37m\u001b[0m \u001b[1m2s\u001b[0m 41ms/step - accuracy: 0.5723 - loss: 0.9133 - val_accuracy: 0.6224 - val_loss: 0.8284\n",
      "Epoch 3/20\n",
      "\u001b[1m41/41\u001b[0m \u001b[32m━━━━━━━━━━━━━━━━━━━━\u001b[0m\u001b[37m\u001b[0m \u001b[1m2s\u001b[0m 40ms/step - accuracy: 0.6443 - loss: 0.7945 - val_accuracy: 0.6224 - val_loss: 0.7413\n",
      "Epoch 4/20\n",
      "\u001b[1m41/41\u001b[0m \u001b[32m━━━━━━━━━━━━━━━━━━━━\u001b[0m\u001b[37m\u001b[0m \u001b[1m2s\u001b[0m 41ms/step - accuracy: 0.6929 - loss: 0.7019 - val_accuracy: 0.6573 - val_loss: 0.6695\n",
      "Epoch 5/20\n",
      "\u001b[1m41/41\u001b[0m \u001b[32m━━━━━━━━━━━━━━━━━━━━\u001b[0m\u001b[37m\u001b[0m \u001b[1m2s\u001b[0m 41ms/step - accuracy: 0.7544 - loss: 0.6018 - val_accuracy: 0.7133 - val_loss: 0.6145\n",
      "Epoch 6/20\n",
      "\u001b[1m41/41\u001b[0m \u001b[32m━━━━━━━━━━━━━━━━━━━━\u001b[0m\u001b[37m\u001b[0m \u001b[1m2s\u001b[0m 42ms/step - accuracy: 0.7593 - loss: 0.5455 - val_accuracy: 0.7343 - val_loss: 0.5865\n",
      "Epoch 7/20\n",
      "\u001b[1m41/41\u001b[0m \u001b[32m━━━━━━━━━━━━━━━━━━━━\u001b[0m\u001b[37m\u001b[0m \u001b[1m2s\u001b[0m 41ms/step - accuracy: 0.8107 - loss: 0.4805 - val_accuracy: 0.7273 - val_loss: 0.5839\n",
      "Epoch 8/20\n",
      "\u001b[1m41/41\u001b[0m \u001b[32m━━━━━━━━━━━━━━━━━━━━\u001b[0m\u001b[37m\u001b[0m \u001b[1m2s\u001b[0m 41ms/step - accuracy: 0.8360 - loss: 0.4226 - val_accuracy: 0.7343 - val_loss: 0.5493\n",
      "Epoch 9/20\n",
      "\u001b[1m41/41\u001b[0m \u001b[32m━━━━━━━━━━━━━━━━━━━━\u001b[0m\u001b[37m\u001b[0m \u001b[1m2s\u001b[0m 41ms/step - accuracy: 0.8349 - loss: 0.4171 - val_accuracy: 0.7902 - val_loss: 0.5096\n",
      "Epoch 10/20\n",
      "\u001b[1m41/41\u001b[0m \u001b[32m━━━━━━━━━━━━━━━━━━━━\u001b[0m\u001b[37m\u001b[0m \u001b[1m2s\u001b[0m 42ms/step - accuracy: 0.8514 - loss: 0.3945 - val_accuracy: 0.7762 - val_loss: 0.5325\n",
      "Epoch 11/20\n",
      "\u001b[1m41/41\u001b[0m \u001b[32m━━━━━━━━━━━━━━━━━━━━\u001b[0m\u001b[37m\u001b[0m \u001b[1m2s\u001b[0m 42ms/step - accuracy: 0.8536 - loss: 0.3498 - val_accuracy: 0.7902 - val_loss: 0.5092\n",
      "Epoch 12/20\n",
      "\u001b[1m41/41\u001b[0m \u001b[32m━━━━━━━━━━━━━━━━━━━━\u001b[0m\u001b[37m\u001b[0m \u001b[1m2s\u001b[0m 43ms/step - accuracy: 0.8654 - loss: 0.3321 - val_accuracy: 0.7692 - val_loss: 0.5463\n",
      "Epoch 13/20\n",
      "\u001b[1m41/41\u001b[0m \u001b[32m━━━━━━━━━━━━━━━━━━━━\u001b[0m\u001b[37m\u001b[0m \u001b[1m2s\u001b[0m 41ms/step - accuracy: 0.8719 - loss: 0.3161 - val_accuracy: 0.7692 - val_loss: 0.5244\n",
      "Epoch 14/20\n",
      "\u001b[1m41/41\u001b[0m \u001b[32m━━━━━━━━━━━━━━━━━━━━\u001b[0m\u001b[37m\u001b[0m \u001b[1m3s\u001b[0m 42ms/step - accuracy: 0.8857 - loss: 0.3062 - val_accuracy: 0.7832 - val_loss: 0.5698\n"
     ]
    }
   ],
   "source": [
    "# Build the model with the 2nd best hyperparameters\n",
    "model2 = tuner.hypermodel.build(best_hps2)\n",
    "\n",
    "# Train the final model\n",
    "history = model2.fit(X_train, Y_train, \n",
    "                    epochs=20, \n",
    "                    validation_data=(X_test, Y_test), \n",
    "                    batch_size=64, \n",
    "                    callbacks=[tf.keras.callbacks.EarlyStopping(monitor='val_loss', patience=3)])"
   ]
  },
  {
   "cell_type": "code",
   "execution_count": 42,
   "id": "5c4311d9",
   "metadata": {
    "execution": {
     "iopub.execute_input": "2024-08-24T15:29:56.152533Z",
     "iopub.status.busy": "2024-08-24T15:29:56.151977Z",
     "iopub.status.idle": "2024-08-24T15:29:56.275175Z",
     "shell.execute_reply": "2024-08-24T15:29:56.274151Z"
    },
    "papermill": {
     "duration": 0.257418,
     "end_time": "2024-08-24T15:29:56.277148",
     "exception": false,
     "start_time": "2024-08-24T15:29:56.019730",
     "status": "completed"
    },
    "tags": []
   },
   "outputs": [
    {
     "name": "stdout",
     "output_type": "stream",
     "text": [
      "\u001b[1m5/5\u001b[0m \u001b[32m━━━━━━━━━━━━━━━━━━━━\u001b[0m\u001b[37m\u001b[0m \u001b[1m0s\u001b[0m 11ms/step - accuracy: 0.7706 - loss: 0.5608\n",
      "Test accuracy: 0.7832\n"
     ]
    }
   ],
   "source": [
    "# Evaluate the 2nd model\n",
    "test_loss, test_acc = model2.evaluate(X_test, Y_test)\n",
    "print(f\"Test accuracy: {test_acc:.4f}\")"
   ]
  },
  {
   "cell_type": "code",
   "execution_count": 43,
   "id": "c4a766c0",
   "metadata": {
    "execution": {
     "iopub.execute_input": "2024-08-24T15:29:56.545613Z",
     "iopub.status.busy": "2024-08-24T15:29:56.544819Z",
     "iopub.status.idle": "2024-08-24T15:29:56.653369Z",
     "shell.execute_reply": "2024-08-24T15:29:56.652480Z"
    },
    "papermill": {
     "duration": 0.24326,
     "end_time": "2024-08-24T15:29:56.655383",
     "exception": false,
     "start_time": "2024-08-24T15:29:56.412123",
     "status": "completed"
    },
    "tags": []
   },
   "outputs": [
    {
     "name": "stdout",
     "output_type": "stream",
     "text": [
      "3/3 - 0s - 20ms/step - accuracy: 0.8182 - loss: 0.5358\n",
      "loss_score: 0.54\n",
      "accuracy: 0.82\n"
     ]
    }
   ],
   "source": [
    "score,acc = model.evaluate(X_test, Y_test,verbose = 2, batch_size = batch_size)\n",
    "print(\"loss_score: %.2f\" % (score))\n",
    "print(\"accuracy: %.2f\" % (acc))"
   ]
  },
  {
   "cell_type": "code",
   "execution_count": 44,
   "id": "5e611ce7",
   "metadata": {
    "execution": {
     "iopub.execute_input": "2024-08-24T15:29:56.921526Z",
     "iopub.status.busy": "2024-08-24T15:29:56.920872Z",
     "iopub.status.idle": "2024-08-24T15:30:31.290385Z",
     "shell.execute_reply": "2024-08-24T15:30:31.289217Z"
    },
    "papermill": {
     "duration": 34.504468,
     "end_time": "2024-08-24T15:30:31.292565",
     "exception": false,
     "start_time": "2024-08-24T15:29:56.788097",
     "status": "completed"
    },
    "tags": []
   },
   "outputs": [
    {
     "name": "stdout",
     "output_type": "stream",
     "text": [
      "1/1 - 1s - 1s/step\n",
      "1/1 - 0s - 24ms/step\n",
      "1/1 - 0s - 27ms/step\n",
      "1/1 - 0s - 29ms/step\n",
      "1/1 - 0s - 28ms/step\n",
      "1/1 - 0s - 29ms/step\n",
      "1/1 - 0s - 29ms/step\n",
      "1/1 - 0s - 29ms/step\n",
      "1/1 - 0s - 27ms/step\n",
      "1/1 - 0s - 29ms/step\n",
      "1/1 - 0s - 29ms/step\n",
      "1/1 - 0s - 28ms/step\n",
      "1/1 - 0s - 27ms/step\n",
      "1/1 - 0s - 29ms/step\n",
      "1/1 - 0s - 25ms/step\n",
      "1/1 - 0s - 24ms/step\n",
      "1/1 - 0s - 22ms/step\n",
      "1/1 - 0s - 40ms/step\n",
      "1/1 - 0s - 33ms/step\n",
      "1/1 - 0s - 29ms/step\n",
      "1/1 - 0s - 34ms/step\n",
      "1/1 - 0s - 29ms/step\n",
      "1/1 - 0s - 34ms/step\n",
      "1/1 - 0s - 30ms/step\n",
      "1/1 - 0s - 27ms/step\n",
      "1/1 - 0s - 27ms/step\n",
      "1/1 - 0s - 27ms/step\n",
      "1/1 - 0s - 26ms/step\n",
      "1/1 - 0s - 27ms/step\n",
      "1/1 - 0s - 28ms/step\n",
      "1/1 - 0s - 28ms/step\n",
      "1/1 - 0s - 33ms/step\n",
      "1/1 - 0s - 32ms/step\n",
      "1/1 - 0s - 30ms/step\n",
      "1/1 - 0s - 26ms/step\n",
      "1/1 - 0s - 35ms/step\n",
      "1/1 - 0s - 24ms/step\n",
      "1/1 - 0s - 23ms/step\n",
      "1/1 - 0s - 25ms/step\n",
      "1/1 - 0s - 23ms/step\n",
      "1/1 - 0s - 23ms/step\n",
      "1/1 - 0s - 28ms/step\n",
      "1/1 - 0s - 23ms/step\n",
      "1/1 - 0s - 24ms/step\n",
      "1/1 - 0s - 24ms/step\n",
      "1/1 - 0s - 23ms/step\n",
      "1/1 - 0s - 24ms/step\n",
      "1/1 - 0s - 25ms/step\n",
      "1/1 - 0s - 24ms/step\n",
      "1/1 - 0s - 28ms/step\n",
      "1/1 - 0s - 23ms/step\n",
      "1/1 - 0s - 23ms/step\n",
      "1/1 - 0s - 24ms/step\n",
      "1/1 - 0s - 23ms/step\n",
      "1/1 - 0s - 24ms/step\n",
      "1/1 - 0s - 27ms/step\n",
      "1/1 - 0s - 26ms/step\n",
      "1/1 - 0s - 23ms/step\n",
      "1/1 - 0s - 24ms/step\n",
      "1/1 - 0s - 23ms/step\n",
      "1/1 - 0s - 24ms/step\n",
      "1/1 - 0s - 23ms/step\n",
      "1/1 - 0s - 23ms/step\n",
      "1/1 - 0s - 22ms/step\n",
      "1/1 - 0s - 23ms/step\n",
      "1/1 - 0s - 23ms/step\n",
      "1/1 - 0s - 23ms/step\n",
      "1/1 - 0s - 27ms/step\n",
      "1/1 - 0s - 33ms/step\n",
      "1/1 - 0s - 24ms/step\n",
      "1/1 - 0s - 24ms/step\n",
      "1/1 - 0s - 23ms/step\n",
      "1/1 - 0s - 25ms/step\n",
      "1/1 - 0s - 23ms/step\n",
      "1/1 - 0s - 24ms/step\n",
      "1/1 - 0s - 22ms/step\n",
      "1/1 - 0s - 23ms/step\n",
      "1/1 - 0s - 24ms/step\n",
      "1/1 - 0s - 23ms/step\n",
      "1/1 - 0s - 26ms/step\n",
      "1/1 - 0s - 24ms/step\n",
      "1/1 - 0s - 25ms/step\n",
      "1/1 - 0s - 25ms/step\n",
      "1/1 - 0s - 24ms/step\n",
      "1/1 - 0s - 24ms/step\n",
      "1/1 - 0s - 24ms/step\n",
      "1/1 - 0s - 23ms/step\n",
      "1/1 - 0s - 25ms/step\n",
      "1/1 - 0s - 23ms/step\n",
      "1/1 - 0s - 25ms/step\n",
      "1/1 - 0s - 23ms/step\n",
      "1/1 - 0s - 25ms/step\n",
      "1/1 - 0s - 23ms/step\n",
      "1/1 - 0s - 24ms/step\n",
      "1/1 - 0s - 23ms/step\n",
      "1/1 - 0s - 23ms/step\n",
      "1/1 - 0s - 23ms/step\n",
      "1/1 - 0s - 23ms/step\n",
      "1/1 - 0s - 24ms/step\n",
      "1/1 - 0s - 29ms/step\n",
      "1/1 - 0s - 28ms/step\n",
      "1/1 - 0s - 27ms/step\n",
      "1/1 - 0s - 27ms/step\n",
      "1/1 - 0s - 25ms/step\n",
      "1/1 - 0s - 24ms/step\n",
      "1/1 - 0s - 28ms/step\n",
      "1/1 - 0s - 32ms/step\n",
      "1/1 - 0s - 28ms/step\n",
      "1/1 - 0s - 30ms/step\n",
      "1/1 - 0s - 27ms/step\n",
      "1/1 - 0s - 26ms/step\n",
      "1/1 - 0s - 26ms/step\n",
      "1/1 - 0s - 29ms/step\n",
      "1/1 - 0s - 26ms/step\n",
      "1/1 - 0s - 25ms/step\n",
      "1/1 - 0s - 25ms/step\n",
      "1/1 - 0s - 24ms/step\n",
      "1/1 - 0s - 24ms/step\n",
      "1/1 - 0s - 25ms/step\n",
      "1/1 - 0s - 24ms/step\n",
      "1/1 - 0s - 25ms/step\n",
      "1/1 - 0s - 24ms/step\n",
      "1/1 - 0s - 29ms/step\n",
      "1/1 - 0s - 25ms/step\n",
      "1/1 - 0s - 25ms/step\n",
      "1/1 - 0s - 25ms/step\n",
      "1/1 - 0s - 24ms/step\n",
      "1/1 - 0s - 24ms/step\n",
      "1/1 - 0s - 26ms/step\n",
      "1/1 - 0s - 26ms/step\n",
      "1/1 - 0s - 25ms/step\n",
      "1/1 - 0s - 26ms/step\n",
      "1/1 - 0s - 27ms/step\n",
      "1/1 - 0s - 27ms/step\n",
      "1/1 - 0s - 28ms/step\n",
      "1/1 - 0s - 25ms/step\n",
      "1/1 - 0s - 25ms/step\n",
      "1/1 - 0s - 25ms/step\n",
      "1/1 - 0s - 25ms/step\n",
      "1/1 - 0s - 26ms/step\n",
      "1/1 - 0s - 26ms/step\n",
      "1/1 - 0s - 27ms/step\n",
      "1/1 - 0s - 30ms/step\n",
      "1/1 - 0s - 28ms/step\n",
      "1/1 - 0s - 29ms/step\n",
      "1/1 - 0s - 27ms/step\n",
      "1/1 - 0s - 26ms/step\n",
      "1/1 - 0s - 27ms/step\n",
      "1/1 - 0s - 27ms/step\n",
      "1/1 - 0s - 25ms/step\n",
      "1/1 - 0s - 28ms/step\n",
      "1/1 - 0s - 29ms/step\n",
      "1/1 - 0s - 30ms/step\n",
      "1/1 - 0s - 27ms/step\n",
      "1/1 - 0s - 27ms/step\n",
      "1/1 - 0s - 28ms/step\n",
      "1/1 - 0s - 28ms/step\n",
      "1/1 - 0s - 26ms/step\n",
      "1/1 - 0s - 28ms/step\n",
      "1/1 - 0s - 26ms/step\n",
      "1/1 - 0s - 27ms/step\n",
      "1/1 - 0s - 26ms/step\n",
      "1/1 - 0s - 30ms/step\n",
      "1/1 - 0s - 29ms/step\n",
      "1/1 - 0s - 28ms/step\n",
      "1/1 - 0s - 30ms/step\n",
      "1/1 - 0s - 28ms/step\n",
      "1/1 - 0s - 27ms/step\n",
      "1/1 - 0s - 28ms/step\n",
      "1/1 - 0s - 26ms/step\n",
      "1/1 - 0s - 27ms/step\n",
      "1/1 - 0s - 24ms/step\n",
      "1/1 - 0s - 27ms/step\n",
      "1/1 - 0s - 26ms/step\n",
      "1/1 - 0s - 27ms/step\n",
      "1/1 - 0s - 28ms/step\n",
      "1/1 - 0s - 28ms/step\n",
      "1/1 - 0s - 27ms/step\n",
      "1/1 - 0s - 30ms/step\n",
      "1/1 - 0s - 28ms/step\n",
      "1/1 - 0s - 28ms/step\n",
      "1/1 - 0s - 28ms/step\n",
      "1/1 - 0s - 26ms/step\n",
      "1/1 - 0s - 27ms/step\n",
      "1/1 - 0s - 27ms/step\n",
      "1/1 - 0s - 27ms/step\n",
      "1/1 - 0s - 29ms/step\n",
      "1/1 - 0s - 30ms/step\n",
      "1/1 - 0s - 26ms/step\n",
      "1/1 - 0s - 44ms/step\n",
      "1/1 - 0s - 32ms/step\n",
      "1/1 - 0s - 26ms/step\n",
      "1/1 - 0s - 27ms/step\n",
      "1/1 - 0s - 28ms/step\n",
      "1/1 - 0s - 25ms/step\n",
      "1/1 - 0s - 25ms/step\n",
      "1/1 - 0s - 25ms/step\n",
      "1/1 - 0s - 28ms/step\n",
      "1/1 - 0s - 26ms/step\n",
      "1/1 - 0s - 26ms/step\n",
      "1/1 - 0s - 30ms/step\n",
      "1/1 - 0s - 28ms/step\n",
      "1/1 - 0s - 30ms/step\n",
      "1/1 - 0s - 26ms/step\n",
      "1/1 - 0s - 26ms/step\n",
      "1/1 - 0s - 27ms/step\n",
      "1/1 - 0s - 26ms/step\n",
      "1/1 - 0s - 27ms/step\n",
      "1/1 - 0s - 27ms/step\n",
      "1/1 - 0s - 27ms/step\n",
      "1/1 - 0s - 25ms/step\n",
      "1/1 - 0s - 30ms/step\n",
      "1/1 - 0s - 26ms/step\n",
      "1/1 - 0s - 24ms/step\n",
      "1/1 - 0s - 28ms/step\n",
      "1/1 - 0s - 27ms/step\n",
      "1/1 - 0s - 29ms/step\n",
      "1/1 - 0s - 28ms/step\n",
      "1/1 - 0s - 28ms/step\n",
      "1/1 - 0s - 27ms/step\n",
      "1/1 - 0s - 27ms/step\n",
      "1/1 - 0s - 26ms/step\n",
      "1/1 - 0s - 25ms/step\n",
      "1/1 - 0s - 26ms/step\n",
      "1/1 - 0s - 30ms/step\n",
      "1/1 - 0s - 28ms/step\n",
      "1/1 - 0s - 27ms/step\n",
      "1/1 - 0s - 26ms/step\n",
      "1/1 - 0s - 24ms/step\n",
      "1/1 - 0s - 24ms/step\n",
      "1/1 - 0s - 23ms/step\n",
      "1/1 - 0s - 27ms/step\n",
      "1/1 - 0s - 30ms/step\n",
      "1/1 - 0s - 29ms/step\n",
      "1/1 - 0s - 27ms/step\n",
      "1/1 - 0s - 29ms/step\n",
      "1/1 - 0s - 31ms/step\n",
      "1/1 - 0s - 29ms/step\n",
      "1/1 - 0s - 26ms/step\n",
      "1/1 - 0s - 24ms/step\n",
      "1/1 - 0s - 29ms/step\n",
      "1/1 - 0s - 25ms/step\n",
      "1/1 - 0s - 26ms/step\n",
      "1/1 - 0s - 26ms/step\n",
      "1/1 - 0s - 26ms/step\n",
      "1/1 - 0s - 29ms/step\n",
      "1/1 - 0s - 26ms/step\n",
      "1/1 - 0s - 26ms/step\n",
      "1/1 - 0s - 27ms/step\n",
      "1/1 - 0s - 27ms/step\n",
      "1/1 - 0s - 29ms/step\n",
      "1/1 - 0s - 25ms/step\n",
      "1/1 - 0s - 28ms/step\n",
      "1/1 - 0s - 26ms/step\n",
      "1/1 - 0s - 25ms/step\n",
      "1/1 - 0s - 28ms/step\n",
      "1/1 - 0s - 29ms/step\n",
      "1/1 - 0s - 29ms/step\n",
      "1/1 - 0s - 25ms/step\n",
      "1/1 - 0s - 25ms/step\n",
      "1/1 - 0s - 25ms/step\n",
      "1/1 - 0s - 24ms/step\n",
      "1/1 - 0s - 28ms/step\n",
      "1/1 - 0s - 26ms/step\n",
      "1/1 - 0s - 27ms/step\n",
      "1/1 - 0s - 27ms/step\n",
      "1/1 - 0s - 24ms/step\n",
      "1/1 - 0s - 27ms/step\n",
      "1/1 - 0s - 25ms/step\n",
      "1/1 - 0s - 28ms/step\n",
      "1/1 - 0s - 25ms/step\n",
      "1/1 - 0s - 28ms/step\n",
      "1/1 - 0s - 26ms/step\n",
      "1/1 - 0s - 28ms/step\n",
      "1/1 - 0s - 26ms/step\n",
      "1/1 - 0s - 25ms/step\n",
      "1/1 - 0s - 29ms/step\n",
      "1/1 - 0s - 29ms/step\n",
      "1/1 - 0s - 27ms/step\n",
      "1/1 - 0s - 26ms/step\n",
      "1/1 - 0s - 24ms/step\n",
      "1/1 - 0s - 23ms/step\n",
      "1/1 - 0s - 30ms/step\n",
      "1/1 - 0s - 24ms/step\n",
      "1/1 - 0s - 30ms/step\n",
      "1/1 - 0s - 27ms/step\n",
      "1/1 - 0s - 29ms/step\n",
      "1/1 - 0s - 29ms/step\n",
      "1/1 - 0s - 23ms/step\n",
      "1/1 - 0s - 25ms/step\n",
      "1/1 - 0s - 26ms/step\n",
      "1/1 - 0s - 24ms/step\n",
      "1/1 - 0s - 24ms/step\n",
      "1/1 - 0s - 26ms/step\n",
      "1/1 - 0s - 25ms/step\n",
      "1/1 - 0s - 24ms/step\n",
      "1/1 - 0s - 25ms/step\n",
      "1/1 - 0s - 29ms/step\n",
      "1/1 - 0s - 28ms/step\n",
      "1/1 - 0s - 26ms/step\n",
      "1/1 - 0s - 26ms/step\n",
      "1/1 - 0s - 28ms/step\n",
      "1/1 - 0s - 25ms/step\n",
      "1/1 - 0s - 27ms/step\n",
      "1/1 - 0s - 23ms/step\n",
      "1/1 - 0s - 23ms/step\n",
      "1/1 - 0s - 26ms/step\n",
      "1/1 - 0s - 28ms/step\n",
      "1/1 - 0s - 28ms/step\n",
      "1/1 - 0s - 24ms/step\n",
      "1/1 - 0s - 27ms/step\n",
      "1/1 - 0s - 27ms/step\n",
      "1/1 - 0s - 27ms/step\n",
      "1/1 - 0s - 26ms/step\n",
      "1/1 - 0s - 26ms/step\n",
      "1/1 - 0s - 28ms/step\n",
      "1/1 - 0s - 30ms/step\n",
      "1/1 - 0s - 27ms/step\n",
      "1/1 - 0s - 27ms/step\n",
      "1/1 - 0s - 28ms/step\n",
      "1/1 - 0s - 26ms/step\n",
      "1/1 - 0s - 28ms/step\n",
      "1/1 - 0s - 28ms/step\n",
      "1/1 - 0s - 27ms/step\n",
      "1/1 - 0s - 27ms/step\n",
      "1/1 - 0s - 30ms/step\n",
      "1/1 - 0s - 27ms/step\n",
      "1/1 - 0s - 27ms/step\n",
      "1/1 - 0s - 26ms/step\n",
      "1/1 - 0s - 27ms/step\n",
      "1/1 - 0s - 27ms/step\n",
      "1/1 - 0s - 25ms/step\n",
      "1/1 - 0s - 24ms/step\n",
      "1/1 - 0s - 27ms/step\n",
      "1/1 - 0s - 27ms/step\n",
      "1/1 - 0s - 27ms/step\n",
      "1/1 - 0s - 23ms/step\n",
      "1/1 - 0s - 45ms/step\n",
      "1/1 - 0s - 31ms/step\n",
      "1/1 - 0s - 27ms/step\n",
      "1/1 - 0s - 28ms/step\n",
      "1/1 - 0s - 27ms/step\n",
      "1/1 - 0s - 28ms/step\n",
      "1/1 - 0s - 27ms/step\n",
      "1/1 - 0s - 27ms/step\n",
      "1/1 - 0s - 28ms/step\n",
      "1/1 - 0s - 27ms/step\n",
      "1/1 - 0s - 27ms/step\n",
      "1/1 - 0s - 30ms/step\n",
      "1/1 - 0s - 31ms/step\n",
      "1/1 - 0s - 27ms/step\n",
      "1/1 - 0s - 27ms/step\n",
      "1/1 - 0s - 26ms/step\n",
      "1/1 - 0s - 25ms/step\n",
      "1/1 - 0s - 28ms/step\n",
      "1/1 - 0s - 25ms/step\n",
      "1/1 - 0s - 25ms/step\n",
      "1/1 - 0s - 28ms/step\n",
      "1/1 - 0s - 27ms/step\n",
      "1/1 - 0s - 29ms/step\n",
      "1/1 - 0s - 25ms/step\n",
      "1/1 - 0s - 26ms/step\n",
      "1/1 - 0s - 28ms/step\n",
      "1/1 - 0s - 25ms/step\n",
      "1/1 - 0s - 25ms/step\n",
      "1/1 - 0s - 24ms/step\n",
      "1/1 - 0s - 25ms/step\n",
      "1/1 - 0s - 25ms/step\n",
      "1/1 - 0s - 24ms/step\n",
      "1/1 - 0s - 23ms/step\n",
      "1/1 - 0s - 26ms/step\n",
      "1/1 - 0s - 31ms/step\n",
      "1/1 - 0s - 26ms/step\n",
      "1/1 - 0s - 24ms/step\n",
      "1/1 - 0s - 28ms/step\n",
      "1/1 - 0s - 24ms/step\n",
      "1/1 - 0s - 24ms/step\n",
      "1/1 - 0s - 23ms/step\n",
      "1/1 - 0s - 27ms/step\n",
      "1/1 - 0s - 28ms/step\n",
      "1/1 - 0s - 28ms/step\n",
      "1/1 - 0s - 28ms/step\n",
      "1/1 - 0s - 29ms/step\n",
      "1/1 - 0s - 27ms/step\n",
      "1/1 - 0s - 28ms/step\n",
      "1/1 - 0s - 25ms/step\n",
      "1/1 - 0s - 26ms/step\n",
      "1/1 - 0s - 23ms/step\n",
      "1/1 - 0s - 23ms/step\n",
      "1/1 - 0s - 26ms/step\n",
      "1/1 - 0s - 25ms/step\n",
      "1/1 - 0s - 24ms/step\n",
      "1/1 - 0s - 27ms/step\n",
      "1/1 - 0s - 27ms/step\n",
      "1/1 - 0s - 26ms/step\n",
      "1/1 - 0s - 24ms/step\n",
      "1/1 - 0s - 25ms/step\n",
      "1/1 - 0s - 27ms/step\n",
      "1/1 - 0s - 24ms/step\n",
      "1/1 - 0s - 26ms/step\n",
      "1/1 - 0s - 23ms/step\n",
      "1/1 - 0s - 24ms/step\n",
      "1/1 - 0s - 28ms/step\n",
      "1/1 - 0s - 28ms/step\n",
      "1/1 - 0s - 27ms/step\n",
      "1/1 - 0s - 26ms/step\n",
      "1/1 - 0s - 26ms/step\n",
      "1/1 - 0s - 25ms/step\n",
      "1/1 - 0s - 27ms/step\n",
      "1/1 - 0s - 25ms/step\n",
      "1/1 - 0s - 23ms/step\n",
      "1/1 - 0s - 23ms/step\n",
      "1/1 - 0s - 26ms/step\n",
      "1/1 - 0s - 28ms/step\n",
      "1/1 - 0s - 27ms/step\n",
      "1/1 - 0s - 27ms/step\n",
      "1/1 - 0s - 25ms/step\n",
      "1/1 - 0s - 30ms/step\n",
      "1/1 - 0s - 27ms/step\n",
      "1/1 - 0s - 25ms/step\n",
      "1/1 - 0s - 26ms/step\n",
      "1/1 - 0s - 27ms/step\n",
      "1/1 - 0s - 25ms/step\n",
      "1/1 - 0s - 23ms/step\n",
      "1/1 - 0s - 23ms/step\n",
      "1/1 - 0s - 26ms/step\n",
      "1/1 - 0s - 24ms/step\n",
      "1/1 - 0s - 25ms/step\n",
      "1/1 - 0s - 25ms/step\n",
      "1/1 - 0s - 29ms/step\n",
      "1/1 - 0s - 25ms/step\n",
      "1/1 - 0s - 23ms/step\n",
      "1/1 - 0s - 23ms/step\n",
      "1/1 - 0s - 23ms/step\n",
      "1/1 - 0s - 27ms/step\n",
      "1/1 - 0s - 24ms/step\n",
      "1/1 - 0s - 30ms/step\n",
      "1/1 - 0s - 27ms/step\n",
      "1/1 - 0s - 32ms/step\n",
      "1/1 - 0s - 25ms/step\n",
      "1/1 - 0s - 24ms/step\n",
      "1/1 - 0s - 24ms/step\n",
      "1/1 - 0s - 27ms/step\n",
      "1/1 - 0s - 28ms/step\n",
      "1/1 - 0s - 27ms/step\n",
      "1/1 - 0s - 27ms/step\n",
      "1/1 - 0s - 25ms/step\n",
      "1/1 - 0s - 27ms/step\n",
      "1/1 - 0s - 26ms/step\n",
      "1/1 - 0s - 23ms/step\n",
      "1/1 - 0s - 27ms/step\n",
      "1/1 - 0s - 26ms/step\n",
      "1/1 - 0s - 24ms/step\n",
      "1/1 - 0s - 24ms/step\n",
      "1/1 - 0s - 24ms/step\n",
      "1/1 - 0s - 24ms/step\n",
      "1/1 - 0s - 29ms/step\n",
      "1/1 - 0s - 27ms/step\n",
      "1/1 - 0s - 31ms/step\n",
      "1/1 - 0s - 24ms/step\n",
      "1/1 - 0s - 24ms/step\n",
      "1/1 - 0s - 25ms/step\n",
      "1/1 - 0s - 26ms/step\n",
      "1/1 - 0s - 26ms/step\n",
      "1/1 - 0s - 24ms/step\n",
      "1/1 - 0s - 25ms/step\n",
      "1/1 - 0s - 24ms/step\n",
      "1/1 - 0s - 25ms/step\n",
      "1/1 - 0s - 26ms/step\n",
      "1/1 - 0s - 25ms/step\n",
      "1/1 - 0s - 26ms/step\n",
      "1/1 - 0s - 27ms/step\n",
      "1/1 - 0s - 26ms/step\n",
      "1/1 - 0s - 27ms/step\n",
      "1/1 - 0s - 24ms/step\n",
      "1/1 - 0s - 26ms/step\n",
      "1/1 - 0s - 27ms/step\n",
      "1/1 - 0s - 25ms/step\n",
      "1/1 - 0s - 23ms/step\n",
      "1/1 - 0s - 26ms/step\n",
      "1/1 - 0s - 27ms/step\n",
      "1/1 - 0s - 24ms/step\n",
      "1/1 - 0s - 26ms/step\n",
      "1/1 - 0s - 26ms/step\n",
      "1/1 - 0s - 22ms/step\n",
      "1/1 - 0s - 23ms/step\n",
      "1/1 - 0s - 30ms/step\n",
      "1/1 - 0s - 32ms/step\n",
      "1/1 - 0s - 40ms/step\n",
      "1/1 - 0s - 41ms/step\n",
      "1/1 - 0s - 35ms/step\n",
      "1/1 - 0s - 26ms/step\n",
      "1/1 - 0s - 39ms/step\n",
      "1/1 - 0s - 33ms/step\n",
      "1/1 - 0s - 34ms/step\n",
      "1/1 - 0s - 31ms/step\n",
      "1/1 - 0s - 26ms/step\n",
      "1/1 - 0s - 30ms/step\n",
      "1/1 - 0s - 32ms/step\n",
      "1/1 - 0s - 31ms/step\n",
      "pos_acc 80.59701492537313 %\n",
      "neg_acc 83.62068965517241 %\n"
     ]
    }
   ],
   "source": [
    "pos_cnt, neg_cnt, pos_correct, neg_correct = 0, 0, 0, 0\n",
    "for x in range(len(X_validate)):\n",
    "    \n",
    "    result = model.predict(X_validate[x].reshape(1,X_test.shape[1]),batch_size=1,verbose = 2)[0]\n",
    "   \n",
    "    if np.argmax(result) == np.argmax(Y_validate[x]):\n",
    "        if np.argmax(Y_validate[x]) == 0:\n",
    "            neg_correct += 1\n",
    "        else:\n",
    "            pos_correct += 1\n",
    "       \n",
    "    if np.argmax(Y_validate[x]) == 0:\n",
    "        neg_cnt += 1\n",
    "    else:\n",
    "        pos_cnt += 1\n",
    "\n",
    "\n",
    "\n",
    "print(\"pos_acc\", pos_correct/pos_cnt*100, \"%\")\n",
    "print(\"neg_acc\", neg_correct/neg_cnt*100, \"%\")"
   ]
  },
  {
   "cell_type": "code",
   "execution_count": 45,
   "id": "0b3e7a24",
   "metadata": {
    "execution": {
     "iopub.execute_input": "2024-08-24T15:30:31.687643Z",
     "iopub.status.busy": "2024-08-24T15:30:31.686715Z",
     "iopub.status.idle": "2024-08-24T15:30:32.131897Z",
     "shell.execute_reply": "2024-08-24T15:30:32.130589Z"
    },
    "papermill": {
     "duration": 0.641694,
     "end_time": "2024-08-24T15:30:32.134650",
     "exception": false,
     "start_time": "2024-08-24T15:30:31.492956",
     "status": "completed"
    },
    "tags": []
   },
   "outputs": [
    {
     "name": "stdout",
     "output_type": "stream",
     "text": [
      "[[   0    0    0    0    0    0    0    1   79  477    7   18  559 1000\n",
      "    39  275   55    7   10 1913    6    5  458  165  118   13    4 1562]]\n",
      "1/1 - 0s - 391ms/step\n",
      "negative\n"
     ]
    }
   ],
   "source": [
    "twt = ['I been told you that yo folks dont care about you . Im starving and my dad deadass didnt make me a plate']\n",
    "twt = tokenizer.texts_to_sequences(twt)\n",
    "twt = pad_sequences(twt, maxlen=28, dtype='int32', value=0)\n",
    "print(twt)\n",
    "sentiment = model.predict(twt,batch_size=1,verbose = 2)[0]\n",
    "if(np.argmax(sentiment) == 0):\n",
    "    print(\"negative\")\n",
    "elif (np.argmax(sentiment) == 1):\n",
    "    print(\"positive\")"
   ]
  },
  {
   "cell_type": "code",
   "execution_count": 46,
   "id": "2c95f379",
   "metadata": {
    "execution": {
     "iopub.execute_input": "2024-08-24T15:30:32.535495Z",
     "iopub.status.busy": "2024-08-24T15:30:32.534572Z",
     "iopub.status.idle": "2024-08-24T15:30:34.248119Z",
     "shell.execute_reply": "2024-08-24T15:30:34.246948Z"
    },
    "papermill": {
     "duration": 1.920286,
     "end_time": "2024-08-24T15:30:34.251092",
     "exception": false,
     "start_time": "2024-08-24T15:30:32.330806",
     "status": "completed"
    },
    "tags": []
   },
   "outputs": [],
   "source": [
    "model.save('lstm_model.h5')"
   ]
  },
  {
   "cell_type": "code",
   "execution_count": null,
   "id": "e6a03c5b",
   "metadata": {
    "papermill": {
     "duration": 0.177782,
     "end_time": "2024-08-24T15:30:34.613860",
     "exception": false,
     "start_time": "2024-08-24T15:30:34.436078",
     "status": "completed"
    },
    "tags": []
   },
   "outputs": [],
   "source": [
    "\n"
   ]
  }
 ],
 "metadata": {
  "kaggle": {
   "accelerator": "nvidiaTeslaT4",
   "dataSources": [
    {
     "datasetId": 5557640,
     "sourceId": 9193227,
     "sourceType": "datasetVersion"
    }
   ],
   "dockerImageVersionId": 30747,
   "isGpuEnabled": true,
   "isInternetEnabled": true,
   "language": "python",
   "sourceType": "notebook"
  },
  "kernelspec": {
   "display_name": "Python 3",
   "language": "python",
   "name": "python3"
  },
  "language_info": {
   "codemirror_mode": {
    "name": "ipython",
    "version": 3
   },
   "file_extension": ".py",
   "mimetype": "text/x-python",
   "name": "python",
   "nbconvert_exporter": "python",
   "pygments_lexer": "ipython3",
   "version": "3.10.13"
  },
  "papermill": {
   "default_parameters": {},
   "duration": 2684.278889,
   "end_time": "2024-08-24T15:30:37.501837",
   "environment_variables": {},
   "exception": null,
   "input_path": "__notebook__.ipynb",
   "output_path": "__notebook__.ipynb",
   "parameters": {},
   "start_time": "2024-08-24T14:45:53.222948",
   "version": "2.5.0"
  }
 },
 "nbformat": 4,
 "nbformat_minor": 5
}
