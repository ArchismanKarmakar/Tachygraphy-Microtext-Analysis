{
 "cells": [
  {
   "cell_type": "code",
   "execution_count": 1,
   "id": "c5853527",
   "metadata": {
    "_cell_guid": "b1076dfc-b9ad-4769-8c92-a6c4dae69d19",
    "_uuid": "8f2839f25d086af736a60e9eeb907d3b93b6e0e5",
    "execution": {
     "iopub.execute_input": "2024-08-20T07:20:53.153525Z",
     "iopub.status.busy": "2024-08-20T07:20:53.152736Z",
     "iopub.status.idle": "2024-08-20T07:20:54.451118Z",
     "shell.execute_reply": "2024-08-20T07:20:54.450063Z"
    },
    "papermill": {
     "duration": 1.316174,
     "end_time": "2024-08-20T07:20:54.453388",
     "exception": false,
     "start_time": "2024-08-20T07:20:53.137214",
     "status": "completed"
    },
    "tags": []
   },
   "outputs": [
    {
     "name": "stdout",
     "output_type": "stream",
     "text": [
      "/kaggle/input/dataset-tachygraphy/Tachygraphy_dataset_main.csv\n"
     ]
    }
   ],
   "source": [
    "# This Python 3 environment comes with many helpful analytics libraries installed\n",
    "# It is defined by the kaggle/python Docker image: https://github.com/kaggle/docker-python\n",
    "# For example, here's several helpful packages to load\n",
    "\n",
    "import numpy as np # linear algebra\n",
    "import pandas as pd # data processing, CSV file I/O (e.g. pd.read_csv)\n",
    "\n",
    "# Input data files are available in the read-only \"../input/\" directory\n",
    "# For example, running this (by clicking run or pressing Shift+Enter) will list all files under the input directory\n",
    "\n",
    "import os\n",
    "for dirname, _, filenames in os.walk('/kaggle/input'):\n",
    "    for filename in filenames:\n",
    "        print(os.path.join(dirname, filename))\n",
    "\n",
    "# You can write up to 20GB to the current directory (/kaggle/working/) that gets preserved as output when you create a version using \"Save & Run All\" \n",
    "# You can also write temporary files to /kaggle/temp/, but they won't be saved outside of the current session"
   ]
  },
  {
   "cell_type": "code",
   "execution_count": 2,
   "id": "04645153",
   "metadata": {
    "execution": {
     "iopub.execute_input": "2024-08-20T07:20:54.481172Z",
     "iopub.status.busy": "2024-08-20T07:20:54.480521Z",
     "iopub.status.idle": "2024-08-20T07:21:01.022009Z",
     "shell.execute_reply": "2024-08-20T07:21:01.021209Z"
    },
    "papermill": {
     "duration": 6.557649,
     "end_time": "2024-08-20T07:21:01.024344",
     "exception": false,
     "start_time": "2024-08-20T07:20:54.466695",
     "status": "completed"
    },
    "tags": []
   },
   "outputs": [],
   "source": [
    "import torch\n",
    "device = torch.device(\"cuda\" if torch.cuda.is_available() else \"cpu\")"
   ]
  },
  {
   "cell_type": "code",
   "execution_count": 3,
   "id": "11b2fedd",
   "metadata": {
    "execution": {
     "iopub.execute_input": "2024-08-20T07:21:01.050677Z",
     "iopub.status.busy": "2024-08-20T07:21:01.049981Z",
     "iopub.status.idle": "2024-08-20T07:21:04.178942Z",
     "shell.execute_reply": "2024-08-20T07:21:04.177956Z"
    },
    "papermill": {
     "duration": 3.144449,
     "end_time": "2024-08-20T07:21:04.181480",
     "exception": false,
     "start_time": "2024-08-20T07:21:01.037031",
     "status": "completed"
    },
    "tags": []
   },
   "outputs": [],
   "source": [
    "import numpy as np\n",
    "import pandas as pd\n",
    "import re\n",
    "from nltk.corpus import stopwords\n",
    "from nltk.stem.porter import PorterStemmer\n",
    "from sklearn.feature_extraction.text import TfidfVectorizer"
   ]
  },
  {
   "cell_type": "code",
   "execution_count": 4,
   "id": "a02a5fa7",
   "metadata": {
    "execution": {
     "iopub.execute_input": "2024-08-20T07:21:04.208308Z",
     "iopub.status.busy": "2024-08-20T07:21:04.207994Z",
     "iopub.status.idle": "2024-08-20T07:21:04.329761Z",
     "shell.execute_reply": "2024-08-20T07:21:04.328826Z"
    },
    "papermill": {
     "duration": 0.136613,
     "end_time": "2024-08-20T07:21:04.331674",
     "exception": false,
     "start_time": "2024-08-20T07:21:04.195061",
     "status": "completed"
    },
    "tags": []
   },
   "outputs": [
    {
     "name": "stdout",
     "output_type": "stream",
     "text": [
      "[nltk_data] Downloading package stopwords to /usr/share/nltk_data...\n",
      "[nltk_data]   Package stopwords is already up-to-date!\n"
     ]
    },
    {
     "data": {
      "text/plain": [
       "True"
      ]
     },
     "execution_count": 4,
     "metadata": {},
     "output_type": "execute_result"
    }
   ],
   "source": [
    "import nltk\n",
    "nltk.download('stopwords')"
   ]
  },
  {
   "cell_type": "code",
   "execution_count": 5,
   "id": "151f3dd8",
   "metadata": {
    "execution": {
     "iopub.execute_input": "2024-08-20T07:21:04.357037Z",
     "iopub.status.busy": "2024-08-20T07:21:04.356779Z",
     "iopub.status.idle": "2024-08-20T07:21:04.414155Z",
     "shell.execute_reply": "2024-08-20T07:21:04.413168Z"
    },
    "papermill": {
     "duration": 0.072887,
     "end_time": "2024-08-20T07:21:04.416749",
     "exception": false,
     "start_time": "2024-08-20T07:21:04.343862",
     "status": "completed"
    },
    "tags": []
   },
   "outputs": [
    {
     "data": {
      "text/plain": [
       "(4958, 3)"
      ]
     },
     "execution_count": 5,
     "metadata": {},
     "output_type": "execute_result"
    }
   ],
   "source": [
    "df=pd.read_csv(\"/kaggle/input/dataset-tachygraphy/Tachygraphy_dataset_main.csv\")\n",
    "df.shape"
   ]
  },
  {
   "cell_type": "code",
   "execution_count": 6,
   "id": "50bda110",
   "metadata": {
    "execution": {
     "iopub.execute_input": "2024-08-20T07:21:04.444284Z",
     "iopub.status.busy": "2024-08-20T07:21:04.443996Z",
     "iopub.status.idle": "2024-08-20T07:21:04.467282Z",
     "shell.execute_reply": "2024-08-20T07:21:04.466462Z"
    },
    "papermill": {
     "duration": 0.038765,
     "end_time": "2024-08-20T07:21:04.469305",
     "exception": false,
     "start_time": "2024-08-20T07:21:04.430540",
     "status": "completed"
    },
    "tags": []
   },
   "outputs": [
    {
     "data": {
      "text/html": [
       "<div>\n",
       "<style scoped>\n",
       "    .dataframe tbody tr th:only-of-type {\n",
       "        vertical-align: middle;\n",
       "    }\n",
       "\n",
       "    .dataframe tbody tr th {\n",
       "        vertical-align: top;\n",
       "    }\n",
       "\n",
       "    .dataframe thead th {\n",
       "        text-align: right;\n",
       "    }\n",
       "</style>\n",
       "<table border=\"1\" class=\"dataframe\">\n",
       "  <thead>\n",
       "    <tr style=\"text-align: right;\">\n",
       "      <th></th>\n",
       "      <th>Text</th>\n",
       "      <th>Meaning</th>\n",
       "      <th>Sentiment</th>\n",
       "    </tr>\n",
       "  </thead>\n",
       "  <tbody>\n",
       "    <tr>\n",
       "      <th>0</th>\n",
       "      <td>Last session of the day http://twitpic.com/67ezh</td>\n",
       "      <td>Last session of the day http://twitpic.com/67ezh</td>\n",
       "      <td>neutral</td>\n",
       "    </tr>\n",
       "    <tr>\n",
       "      <th>1</th>\n",
       "      <td>Shanghai is also really exciting (precisely --...</td>\n",
       "      <td>Shanghai is also really exciting (precisely --...</td>\n",
       "      <td>positive</td>\n",
       "    </tr>\n",
       "    <tr>\n",
       "      <th>2</th>\n",
       "      <td>submit the report ASAP!</td>\n",
       "      <td>submit the report as soon as possilbe</td>\n",
       "      <td>negative</td>\n",
       "    </tr>\n",
       "    <tr>\n",
       "      <th>3</th>\n",
       "      <td>happy bday!</td>\n",
       "      <td>Happy Birthday!</td>\n",
       "      <td>positive</td>\n",
       "    </tr>\n",
       "    <tr>\n",
       "      <th>4</th>\n",
       "      <td>The OGs - I like it!!</td>\n",
       "      <td>The original gangsters - i like it!</td>\n",
       "      <td>positive</td>\n",
       "    </tr>\n",
       "  </tbody>\n",
       "</table>\n",
       "</div>"
      ],
      "text/plain": [
       "                                                Text  \\\n",
       "0   Last session of the day http://twitpic.com/67ezh   \n",
       "1  Shanghai is also really exciting (precisely --...   \n",
       "2                            submit the report ASAP!   \n",
       "3                                        happy bday!   \n",
       "4                              The OGs - I like it!!   \n",
       "\n",
       "                                             Meaning Sentiment  \n",
       "0   Last session of the day http://twitpic.com/67ezh   neutral  \n",
       "1  Shanghai is also really exciting (precisely --...  positive  \n",
       "2              submit the report as soon as possilbe  negative  \n",
       "3                                    Happy Birthday!  positive  \n",
       "4                The original gangsters - i like it!  positive  "
      ]
     },
     "execution_count": 6,
     "metadata": {},
     "output_type": "execute_result"
    }
   ],
   "source": [
    "df.head()"
   ]
  },
  {
   "cell_type": "code",
   "execution_count": 7,
   "id": "1157eba0",
   "metadata": {
    "execution": {
     "iopub.execute_input": "2024-08-20T07:21:04.495235Z",
     "iopub.status.busy": "2024-08-20T07:21:04.494954Z",
     "iopub.status.idle": "2024-08-20T07:21:04.498686Z",
     "shell.execute_reply": "2024-08-20T07:21:04.497830Z"
    },
    "papermill": {
     "duration": 0.018876,
     "end_time": "2024-08-20T07:21:04.500730",
     "exception": false,
     "start_time": "2024-08-20T07:21:04.481854",
     "status": "completed"
    },
    "tags": []
   },
   "outputs": [],
   "source": [
    "# df.drop(columns=['Sentiment.1'],inplace=True)"
   ]
  },
  {
   "cell_type": "code",
   "execution_count": 8,
   "id": "424101f1",
   "metadata": {
    "execution": {
     "iopub.execute_input": "2024-08-20T07:21:04.526565Z",
     "iopub.status.busy": "2024-08-20T07:21:04.526274Z",
     "iopub.status.idle": "2024-08-20T07:21:04.536940Z",
     "shell.execute_reply": "2024-08-20T07:21:04.536271Z"
    },
    "papermill": {
     "duration": 0.025794,
     "end_time": "2024-08-20T07:21:04.538825",
     "exception": false,
     "start_time": "2024-08-20T07:21:04.513031",
     "status": "completed"
    },
    "tags": []
   },
   "outputs": [],
   "source": [
    "df=df.drop('Meaning',axis=1)"
   ]
  },
  {
   "cell_type": "code",
   "execution_count": 9,
   "id": "ab3eceff",
   "metadata": {
    "execution": {
     "iopub.execute_input": "2024-08-20T07:21:04.564616Z",
     "iopub.status.busy": "2024-08-20T07:21:04.564343Z",
     "iopub.status.idle": "2024-08-20T07:21:04.569557Z",
     "shell.execute_reply": "2024-08-20T07:21:04.568664Z"
    },
    "papermill": {
     "duration": 0.020135,
     "end_time": "2024-08-20T07:21:04.571327",
     "exception": false,
     "start_time": "2024-08-20T07:21:04.551192",
     "status": "completed"
    },
    "tags": []
   },
   "outputs": [
    {
     "data": {
      "text/plain": [
       "(4958, 2)"
      ]
     },
     "execution_count": 9,
     "metadata": {},
     "output_type": "execute_result"
    }
   ],
   "source": [
    "df.shape"
   ]
  },
  {
   "cell_type": "code",
   "execution_count": 10,
   "id": "a676d0c0",
   "metadata": {
    "execution": {
     "iopub.execute_input": "2024-08-20T07:21:04.597114Z",
     "iopub.status.busy": "2024-08-20T07:21:04.596875Z",
     "iopub.status.idle": "2024-08-20T07:21:04.601242Z",
     "shell.execute_reply": "2024-08-20T07:21:04.600477Z"
    },
    "papermill": {
     "duration": 0.019255,
     "end_time": "2024-08-20T07:21:04.603073",
     "exception": false,
     "start_time": "2024-08-20T07:21:04.583818",
     "status": "completed"
    },
    "tags": []
   },
   "outputs": [],
   "source": [
    "df = df.rename(columns={'Text': 'tweet'})"
   ]
  },
  {
   "cell_type": "code",
   "execution_count": 11,
   "id": "56968bc2",
   "metadata": {
    "execution": {
     "iopub.execute_input": "2024-08-20T07:21:04.628924Z",
     "iopub.status.busy": "2024-08-20T07:21:04.628687Z",
     "iopub.status.idle": "2024-08-20T07:21:04.633012Z",
     "shell.execute_reply": "2024-08-20T07:21:04.632200Z"
    },
    "papermill": {
     "duration": 0.019513,
     "end_time": "2024-08-20T07:21:04.634903",
     "exception": false,
     "start_time": "2024-08-20T07:21:04.615390",
     "status": "completed"
    },
    "tags": []
   },
   "outputs": [],
   "source": [
    "df = df.rename(columns={'Sentiment': 'class'})"
   ]
  },
  {
   "cell_type": "code",
   "execution_count": 12,
   "id": "25824819",
   "metadata": {
    "execution": {
     "iopub.execute_input": "2024-08-20T07:21:04.661270Z",
     "iopub.status.busy": "2024-08-20T07:21:04.661006Z",
     "iopub.status.idle": "2024-08-20T07:21:04.684188Z",
     "shell.execute_reply": "2024-08-20T07:21:04.683352Z"
    },
    "papermill": {
     "duration": 0.039051,
     "end_time": "2024-08-20T07:21:04.686248",
     "exception": false,
     "start_time": "2024-08-20T07:21:04.647197",
     "status": "completed"
    },
    "tags": []
   },
   "outputs": [
    {
     "data": {
      "text/plain": [
       "class\n",
       "neutral     1743\n",
       "positive    1643\n",
       "negative    1572\n",
       "Name: count, dtype: int64"
      ]
     },
     "execution_count": 12,
     "metadata": {},
     "output_type": "execute_result"
    }
   ],
   "source": [
    "df['class'] = df['class'].str.lower()\n",
    "sentiment_counts = df['class'].value_counts()\n",
    "sentiment_counts"
   ]
  },
  {
   "cell_type": "code",
   "execution_count": 13,
   "id": "f499d8c1",
   "metadata": {
    "execution": {
     "iopub.execute_input": "2024-08-20T07:21:04.713359Z",
     "iopub.status.busy": "2024-08-20T07:21:04.713107Z",
     "iopub.status.idle": "2024-08-20T07:21:04.719327Z",
     "shell.execute_reply": "2024-08-20T07:21:04.718393Z"
    },
    "papermill": {
     "duration": 0.021947,
     "end_time": "2024-08-20T07:21:04.721544",
     "exception": false,
     "start_time": "2024-08-20T07:21:04.699597",
     "status": "completed"
    },
    "tags": []
   },
   "outputs": [],
   "source": [
    "df = df[df['class'] != \"neutral\"]  ###droping neutral columns"
   ]
  },
  {
   "cell_type": "code",
   "execution_count": 14,
   "id": "088fa83c",
   "metadata": {
    "execution": {
     "iopub.execute_input": "2024-08-20T07:21:04.748508Z",
     "iopub.status.busy": "2024-08-20T07:21:04.748210Z",
     "iopub.status.idle": "2024-08-20T07:21:04.754230Z",
     "shell.execute_reply": "2024-08-20T07:21:04.753398Z"
    },
    "papermill": {
     "duration": 0.021417,
     "end_time": "2024-08-20T07:21:04.756082",
     "exception": false,
     "start_time": "2024-08-20T07:21:04.734665",
     "status": "completed"
    },
    "tags": []
   },
   "outputs": [],
   "source": [
    "from sklearn.preprocessing import LabelEncoder\n",
    "label_encoder = LabelEncoder()\n",
    "label_encoder.fit(df['class'])\n",
    "encoded_labels = label_encoder.transform(df['class'])\n",
    "df['class'] = encoded_labels"
   ]
  },
  {
   "cell_type": "code",
   "execution_count": 15,
   "id": "56695c92",
   "metadata": {
    "execution": {
     "iopub.execute_input": "2024-08-20T07:21:04.782585Z",
     "iopub.status.busy": "2024-08-20T07:21:04.781861Z",
     "iopub.status.idle": "2024-08-20T07:21:04.790288Z",
     "shell.execute_reply": "2024-08-20T07:21:04.789443Z"
    },
    "papermill": {
     "duration": 0.023775,
     "end_time": "2024-08-20T07:21:04.792373",
     "exception": false,
     "start_time": "2024-08-20T07:21:04.768598",
     "status": "completed"
    },
    "tags": []
   },
   "outputs": [
    {
     "data": {
      "text/html": [
       "<div>\n",
       "<style scoped>\n",
       "    .dataframe tbody tr th:only-of-type {\n",
       "        vertical-align: middle;\n",
       "    }\n",
       "\n",
       "    .dataframe tbody tr th {\n",
       "        vertical-align: top;\n",
       "    }\n",
       "\n",
       "    .dataframe thead th {\n",
       "        text-align: right;\n",
       "    }\n",
       "</style>\n",
       "<table border=\"1\" class=\"dataframe\">\n",
       "  <thead>\n",
       "    <tr style=\"text-align: right;\">\n",
       "      <th></th>\n",
       "      <th>tweet</th>\n",
       "      <th>class</th>\n",
       "    </tr>\n",
       "  </thead>\n",
       "  <tbody>\n",
       "    <tr>\n",
       "      <th>1</th>\n",
       "      <td>Shanghai is also really exciting (precisely --...</td>\n",
       "      <td>1</td>\n",
       "    </tr>\n",
       "    <tr>\n",
       "      <th>2</th>\n",
       "      <td>submit the report ASAP!</td>\n",
       "      <td>0</td>\n",
       "    </tr>\n",
       "    <tr>\n",
       "      <th>3</th>\n",
       "      <td>happy bday!</td>\n",
       "      <td>1</td>\n",
       "    </tr>\n",
       "    <tr>\n",
       "      <th>4</th>\n",
       "      <td>The OGs - I like it!!</td>\n",
       "      <td>1</td>\n",
       "    </tr>\n",
       "    <tr>\n",
       "      <th>5</th>\n",
       "      <td>that`s great!! weee!! visitors!</td>\n",
       "      <td>1</td>\n",
       "    </tr>\n",
       "  </tbody>\n",
       "</table>\n",
       "</div>"
      ],
      "text/plain": [
       "                                               tweet  class\n",
       "1  Shanghai is also really exciting (precisely --...      1\n",
       "2                            submit the report ASAP!      0\n",
       "3                                        happy bday!      1\n",
       "4                              The OGs - I like it!!      1\n",
       "5                    that`s great!! weee!! visitors!      1"
      ]
     },
     "execution_count": 15,
     "metadata": {},
     "output_type": "execute_result"
    }
   ],
   "source": [
    "df.head()"
   ]
  },
  {
   "cell_type": "code",
   "execution_count": 16,
   "id": "479eb85b",
   "metadata": {
    "execution": {
     "iopub.execute_input": "2024-08-20T07:21:04.818635Z",
     "iopub.status.busy": "2024-08-20T07:21:04.818375Z",
     "iopub.status.idle": "2024-08-20T07:21:04.826262Z",
     "shell.execute_reply": "2024-08-20T07:21:04.825436Z"
    },
    "papermill": {
     "duration": 0.022999,
     "end_time": "2024-08-20T07:21:04.828079",
     "exception": false,
     "start_time": "2024-08-20T07:21:04.805080",
     "status": "completed"
    },
    "tags": []
   },
   "outputs": [
    {
     "data": {
      "text/plain": [
       "tweet    1\n",
       "class    0\n",
       "dtype: int64"
      ]
     },
     "execution_count": 16,
     "metadata": {},
     "output_type": "execute_result"
    }
   ],
   "source": [
    "df.isnull().sum()"
   ]
  },
  {
   "cell_type": "code",
   "execution_count": 17,
   "id": "e74ac3bf",
   "metadata": {
    "execution": {
     "iopub.execute_input": "2024-08-20T07:21:04.854970Z",
     "iopub.status.busy": "2024-08-20T07:21:04.854714Z",
     "iopub.status.idle": "2024-08-20T07:21:04.859652Z",
     "shell.execute_reply": "2024-08-20T07:21:04.858766Z"
    },
    "papermill": {
     "duration": 0.020757,
     "end_time": "2024-08-20T07:21:04.861661",
     "exception": false,
     "start_time": "2024-08-20T07:21:04.840904",
     "status": "completed"
    },
    "tags": []
   },
   "outputs": [],
   "source": [
    "df=df.fillna('')"
   ]
  },
  {
   "cell_type": "code",
   "execution_count": 18,
   "id": "396c7c6e",
   "metadata": {
    "execution": {
     "iopub.execute_input": "2024-08-20T07:21:04.888977Z",
     "iopub.status.busy": "2024-08-20T07:21:04.888720Z",
     "iopub.status.idle": "2024-08-20T07:21:04.896639Z",
     "shell.execute_reply": "2024-08-20T07:21:04.895804Z"
    },
    "papermill": {
     "duration": 0.024036,
     "end_time": "2024-08-20T07:21:04.898790",
     "exception": false,
     "start_time": "2024-08-20T07:21:04.874754",
     "status": "completed"
    },
    "tags": []
   },
   "outputs": [
    {
     "data": {
      "text/html": [
       "<div>\n",
       "<style scoped>\n",
       "    .dataframe tbody tr th:only-of-type {\n",
       "        vertical-align: middle;\n",
       "    }\n",
       "\n",
       "    .dataframe tbody tr th {\n",
       "        vertical-align: top;\n",
       "    }\n",
       "\n",
       "    .dataframe thead th {\n",
       "        text-align: right;\n",
       "    }\n",
       "</style>\n",
       "<table border=\"1\" class=\"dataframe\">\n",
       "  <thead>\n",
       "    <tr style=\"text-align: right;\">\n",
       "      <th></th>\n",
       "      <th>tweet</th>\n",
       "      <th>class</th>\n",
       "    </tr>\n",
       "  </thead>\n",
       "  <tbody>\n",
       "    <tr>\n",
       "      <th>1</th>\n",
       "      <td>Shanghai is also really exciting (precisely --...</td>\n",
       "      <td>1</td>\n",
       "    </tr>\n",
       "    <tr>\n",
       "      <th>2</th>\n",
       "      <td>submit the report ASAP!</td>\n",
       "      <td>0</td>\n",
       "    </tr>\n",
       "    <tr>\n",
       "      <th>3</th>\n",
       "      <td>happy bday!</td>\n",
       "      <td>1</td>\n",
       "    </tr>\n",
       "    <tr>\n",
       "      <th>4</th>\n",
       "      <td>The OGs - I like it!!</td>\n",
       "      <td>1</td>\n",
       "    </tr>\n",
       "    <tr>\n",
       "      <th>5</th>\n",
       "      <td>that`s great!! weee!! visitors!</td>\n",
       "      <td>1</td>\n",
       "    </tr>\n",
       "  </tbody>\n",
       "</table>\n",
       "</div>"
      ],
      "text/plain": [
       "                                               tweet  class\n",
       "1  Shanghai is also really exciting (precisely --...      1\n",
       "2                            submit the report ASAP!      0\n",
       "3                                        happy bday!      1\n",
       "4                              The OGs - I like it!!      1\n",
       "5                    that`s great!! weee!! visitors!      1"
      ]
     },
     "execution_count": 18,
     "metadata": {},
     "output_type": "execute_result"
    }
   ],
   "source": [
    "df.head()"
   ]
  },
  {
   "cell_type": "code",
   "execution_count": 19,
   "id": "8e9681e7",
   "metadata": {
    "execution": {
     "iopub.execute_input": "2024-08-20T07:21:04.927299Z",
     "iopub.status.busy": "2024-08-20T07:21:04.927040Z",
     "iopub.status.idle": "2024-08-20T07:21:05.185719Z",
     "shell.execute_reply": "2024-08-20T07:21:05.184785Z"
    },
    "papermill": {
     "duration": 0.274975,
     "end_time": "2024-08-20T07:21:05.187916",
     "exception": false,
     "start_time": "2024-08-20T07:21:04.912941",
     "status": "completed"
    },
    "tags": []
   },
   "outputs": [],
   "source": [
    "import re\n",
    "from bs4 import BeautifulSoup\n",
    "\n",
    "def text_cleaning(text):\n",
    "    text = str(text)\n",
    "    soup = BeautifulSoup(text, \"html.parser\")    ###removing html tages\n",
    "    text = re.sub(r'\\[[^]]*\\]', '', soup.get_text())      ##removing text within square brackets\n",
    "    pattern = r\"[^a-zA-Z0-9\\s,']\"                  # Removing unwanted characters\n",
    "    text = re.sub(pattern, '', text)\n",
    "    url_pattern = r'http\\S+|www\\S+'            ###removing urls\n",
    "    text = re.sub(url_pattern, '', text)\n",
    "    return text"
   ]
  },
  {
   "cell_type": "code",
   "execution_count": 20,
   "id": "91f1c212",
   "metadata": {
    "execution": {
     "iopub.execute_input": "2024-08-20T07:21:05.215933Z",
     "iopub.status.busy": "2024-08-20T07:21:05.215348Z",
     "iopub.status.idle": "2024-08-20T07:21:05.406506Z",
     "shell.execute_reply": "2024-08-20T07:21:05.405605Z"
    },
    "papermill": {
     "duration": 0.207178,
     "end_time": "2024-08-20T07:21:05.408636",
     "exception": false,
     "start_time": "2024-08-20T07:21:05.201458",
     "status": "completed"
    },
    "tags": []
   },
   "outputs": [
    {
     "name": "stderr",
     "output_type": "stream",
     "text": [
      "/tmp/ipykernel_24/2827669698.py:6: MarkupResemblesLocatorWarning: The input looks more like a filename than markup. You may want to open this file and pass the filehandle into Beautiful Soup.\n",
      "  soup = BeautifulSoup(text, \"html.parser\")    ###removing html tages\n"
     ]
    }
   ],
   "source": [
    "df['tweet'] = df['tweet'].apply(text_cleaning).tolist()"
   ]
  },
  {
   "cell_type": "code",
   "execution_count": 21,
   "id": "aee9a534",
   "metadata": {
    "execution": {
     "iopub.execute_input": "2024-08-20T07:21:05.436459Z",
     "iopub.status.busy": "2024-08-20T07:21:05.436134Z",
     "iopub.status.idle": "2024-08-20T07:21:05.445670Z",
     "shell.execute_reply": "2024-08-20T07:21:05.444834Z"
    },
    "papermill": {
     "duration": 0.025713,
     "end_time": "2024-08-20T07:21:05.447740",
     "exception": false,
     "start_time": "2024-08-20T07:21:05.422027",
     "status": "completed"
    },
    "tags": []
   },
   "outputs": [
    {
     "data": {
      "text/html": [
       "<div>\n",
       "<style scoped>\n",
       "    .dataframe tbody tr th:only-of-type {\n",
       "        vertical-align: middle;\n",
       "    }\n",
       "\n",
       "    .dataframe tbody tr th {\n",
       "        vertical-align: top;\n",
       "    }\n",
       "\n",
       "    .dataframe thead th {\n",
       "        text-align: right;\n",
       "    }\n",
       "</style>\n",
       "<table border=\"1\" class=\"dataframe\">\n",
       "  <thead>\n",
       "    <tr style=\"text-align: right;\">\n",
       "      <th></th>\n",
       "      <th>tweet</th>\n",
       "      <th>class</th>\n",
       "    </tr>\n",
       "  </thead>\n",
       "  <tbody>\n",
       "    <tr>\n",
       "      <th>1</th>\n",
       "      <td>Shanghai is also really exciting precisely  sk...</td>\n",
       "      <td>1</td>\n",
       "    </tr>\n",
       "    <tr>\n",
       "      <th>2</th>\n",
       "      <td>submit the report ASAP</td>\n",
       "      <td>0</td>\n",
       "    </tr>\n",
       "    <tr>\n",
       "      <th>3</th>\n",
       "      <td>happy bday</td>\n",
       "      <td>1</td>\n",
       "    </tr>\n",
       "    <tr>\n",
       "      <th>4</th>\n",
       "      <td>The OGs  I like it</td>\n",
       "      <td>1</td>\n",
       "    </tr>\n",
       "    <tr>\n",
       "      <th>5</th>\n",
       "      <td>thats great weee visitors</td>\n",
       "      <td>1</td>\n",
       "    </tr>\n",
       "    <tr>\n",
       "      <th>6</th>\n",
       "      <td>I THINK EVERYONE HATES ME ON HERE lol</td>\n",
       "      <td>0</td>\n",
       "    </tr>\n",
       "    <tr>\n",
       "      <th>7</th>\n",
       "      <td>soooooo wish i could, but im in school and mys...</td>\n",
       "      <td>0</td>\n",
       "    </tr>\n",
       "    <tr>\n",
       "      <th>10</th>\n",
       "      <td>My bike was put on holdshould have known that ...</td>\n",
       "      <td>0</td>\n",
       "    </tr>\n",
       "    <tr>\n",
       "      <th>13</th>\n",
       "      <td>Im in VA for the weekend, my youngest son turn...</td>\n",
       "      <td>0</td>\n",
       "    </tr>\n",
       "    <tr>\n",
       "      <th>14</th>\n",
       "      <td>Its coming out the socket I feel like my phone...</td>\n",
       "      <td>0</td>\n",
       "    </tr>\n",
       "  </tbody>\n",
       "</table>\n",
       "</div>"
      ],
      "text/plain": [
       "                                                tweet  class\n",
       "1   Shanghai is also really exciting precisely  sk...      1\n",
       "2                              submit the report ASAP      0\n",
       "3                                          happy bday      1\n",
       "4                                  The OGs  I like it      1\n",
       "5                           thats great weee visitors      1\n",
       "6               I THINK EVERYONE HATES ME ON HERE lol      0\n",
       "7   soooooo wish i could, but im in school and mys...      0\n",
       "10  My bike was put on holdshould have known that ...      0\n",
       "13  Im in VA for the weekend, my youngest son turn...      0\n",
       "14  Its coming out the socket I feel like my phone...      0"
      ]
     },
     "execution_count": 21,
     "metadata": {},
     "output_type": "execute_result"
    }
   ],
   "source": [
    "df.head(10)"
   ]
  },
  {
   "cell_type": "code",
   "execution_count": 22,
   "id": "675e597c",
   "metadata": {
    "execution": {
     "iopub.execute_input": "2024-08-20T07:21:05.519454Z",
     "iopub.status.busy": "2024-08-20T07:21:05.519032Z",
     "iopub.status.idle": "2024-08-20T07:21:05.527649Z",
     "shell.execute_reply": "2024-08-20T07:21:05.526732Z"
    },
    "papermill": {
     "duration": 0.067499,
     "end_time": "2024-08-20T07:21:05.529706",
     "exception": false,
     "start_time": "2024-08-20T07:21:05.462207",
     "status": "completed"
    },
    "tags": []
   },
   "outputs": [],
   "source": [
    "lens=[len(i.split()) for i in df['tweet']]"
   ]
  },
  {
   "cell_type": "code",
   "execution_count": 23,
   "id": "b7c7cddf",
   "metadata": {
    "execution": {
     "iopub.execute_input": "2024-08-20T07:21:05.559844Z",
     "iopub.status.busy": "2024-08-20T07:21:05.559538Z",
     "iopub.status.idle": "2024-08-20T07:21:05.882760Z",
     "shell.execute_reply": "2024-08-20T07:21:05.881842Z"
    },
    "papermill": {
     "duration": 0.340472,
     "end_time": "2024-08-20T07:21:05.884825",
     "exception": false,
     "start_time": "2024-08-20T07:21:05.544353",
     "status": "completed"
    },
    "tags": []
   },
   "outputs": [
    {
     "data": {
      "text/plain": [
       "(array([135., 493., 641., 585., 429., 438., 237., 174.,  74.,   9.]),\n",
       " array([ 0. ,  3.2,  6.4,  9.6, 12.8, 16. , 19.2, 22.4, 25.6, 28.8, 32. ]),\n",
       " <BarContainer object of 10 artists>)"
      ]
     },
     "execution_count": 23,
     "metadata": {},
     "output_type": "execute_result"
    },
    {
     "data": {
      "image/png": "[encoded data removed]",
      "text/plain": [
       "<Figure size 640x480 with 1 Axes>"
      ]
     },
     "metadata": {},
     "output_type": "display_data"
    }
   ],
   "source": [
    "import matplotlib.pyplot as plt\n",
    "plt.hist(lens)"
   ]
  },
  {
   "cell_type": "code",
   "execution_count": 24,
   "id": "9abd20c4",
   "metadata": {
    "execution": {
     "iopub.execute_input": "2024-08-20T07:21:05.914087Z",
     "iopub.status.busy": "2024-08-20T07:21:05.913806Z",
     "iopub.status.idle": "2024-08-20T07:21:08.056385Z",
     "shell.execute_reply": "2024-08-20T07:21:08.055610Z"
    },
    "papermill": {
     "duration": 2.159711,
     "end_time": "2024-08-20T07:21:08.058695",
     "exception": false,
     "start_time": "2024-08-20T07:21:05.898984",
     "status": "completed"
    },
    "tags": []
   },
   "outputs": [],
   "source": [
    "import torch\n",
    "import torch.nn as nn\n",
    "\n",
    "import transformers\n",
    "from transformers import AutoModel, BertTokenizerFast"
   ]
  },
  {
   "cell_type": "code",
   "execution_count": 25,
   "id": "07070256",
   "metadata": {
    "execution": {
     "iopub.execute_input": "2024-08-20T07:21:08.088019Z",
     "iopub.status.busy": "2024-08-20T07:21:08.087722Z",
     "iopub.status.idle": "2024-08-20T07:21:08.100932Z",
     "shell.execute_reply": "2024-08-20T07:21:08.099912Z"
    },
    "papermill": {
     "duration": 0.030907,
     "end_time": "2024-08-20T07:21:08.103808",
     "exception": false,
     "start_time": "2024-08-20T07:21:08.072901",
     "status": "completed"
    },
    "tags": []
   },
   "outputs": [],
   "source": [
    "# split into train, validation and test sets in the ration 70 : 15 : 15\n",
    "from sklearn.model_selection import train_test_split\n",
    "\n",
    "train_text, temp_text, train_labels, temp_labels = train_test_split(df['tweet'], df['class'], \n",
    "                                                                    random_state=2021, \n",
    "                                                                    test_size=0.2, \n",
    "                                                                    stratify=df['class'])\n",
    "\n",
    "\n",
    "val_text, test_text, val_labels, test_labels = train_test_split(temp_text, temp_labels, \n",
    "                                                                random_state=2021, \n",
    "                                                                test_size=0.5, \n",
    "                                                                stratify=temp_labels)"
   ]
  },
  {
   "cell_type": "code",
   "execution_count": 26,
   "id": "ba14c91e",
   "metadata": {
    "execution": {
     "iopub.execute_input": "2024-08-20T07:21:08.133533Z",
     "iopub.status.busy": "2024-08-20T07:21:08.133219Z",
     "iopub.status.idle": "2024-08-20T07:21:12.195664Z",
     "shell.execute_reply": "2024-08-20T07:21:12.194292Z"
    },
    "papermill": {
     "duration": 4.080979,
     "end_time": "2024-08-20T07:21:12.199718",
     "exception": false,
     "start_time": "2024-08-20T07:21:08.118739",
     "status": "completed"
    },
    "tags": []
   },
   "outputs": [
    {
     "data": {
      "application/vnd.jupyter.widget-view+json": {
       "model_id": "4989a2c61ede44b2b2d8d0f157477c87",
       "version_major": 2,
       "version_minor": 0
      },
      "text/plain": [
       "config.json:   0%|          | 0.00/570 [00:00<?, ?B/s]"
      ]
     },
     "metadata": {},
     "output_type": "display_data"
    },
    {
     "data": {
      "application/vnd.jupyter.widget-view+json": {
       "model_id": "71b7fe2697714b24972fd7d75b4a2f85",
       "version_major": 2,
       "version_minor": 0
      },
      "text/plain": [
       "model.safetensors:   0%|          | 0.00/440M [00:00<?, ?B/s]"
      ]
     },
     "metadata": {},
     "output_type": "display_data"
    }
   ],
   "source": [
    "bert = AutoModel.from_pretrained('bert-base-uncased')"
   ]
  },
  {
   "cell_type": "code",
   "execution_count": 27,
   "id": "48dc6403",
   "metadata": {
    "execution": {
     "iopub.execute_input": "2024-08-20T07:21:12.240795Z",
     "iopub.status.busy": "2024-08-20T07:21:12.240006Z",
     "iopub.status.idle": "2024-08-20T07:21:12.815956Z",
     "shell.execute_reply": "2024-08-20T07:21:12.814818Z"
    },
    "papermill": {
     "duration": 0.599805,
     "end_time": "2024-08-20T07:21:12.819236",
     "exception": false,
     "start_time": "2024-08-20T07:21:12.219431",
     "status": "completed"
    },
    "tags": []
   },
   "outputs": [
    {
     "data": {
      "application/vnd.jupyter.widget-view+json": {
       "model_id": "2160d2ee4b5a4626a260d53f00f992e7",
       "version_major": 2,
       "version_minor": 0
      },
      "text/plain": [
       "tokenizer_config.json:   0%|          | 0.00/48.0 [00:00<?, ?B/s]"
      ]
     },
     "metadata": {},
     "output_type": "display_data"
    },
    {
     "data": {
      "application/vnd.jupyter.widget-view+json": {
       "model_id": "a105ca7d6ce44a23a44422b81cb1e29e",
       "version_major": 2,
       "version_minor": 0
      },
      "text/plain": [
       "vocab.txt:   0%|          | 0.00/232k [00:00<?, ?B/s]"
      ]
     },
     "metadata": {},
     "output_type": "display_data"
    },
    {
     "data": {
      "application/vnd.jupyter.widget-view+json": {
       "model_id": "d4e3bc74b53c47e388bb9171cad64f3c",
       "version_major": 2,
       "version_minor": 0
      },
      "text/plain": [
       "tokenizer.json:   0%|          | 0.00/466k [00:00<?, ?B/s]"
      ]
     },
     "metadata": {},
     "output_type": "display_data"
    }
   ],
   "source": [
    "tokenizer = BertTokenizerFast.from_pretrained('bert-base-uncased')"
   ]
  },
  {
   "cell_type": "code",
   "execution_count": 28,
   "id": "ca5d0b52",
   "metadata": {
    "execution": {
     "iopub.execute_input": "2024-08-20T07:21:12.865516Z",
     "iopub.status.busy": "2024-08-20T07:21:12.864628Z",
     "iopub.status.idle": "2024-08-20T07:21:13.151585Z",
     "shell.execute_reply": "2024-08-20T07:21:13.150684Z"
    },
    "papermill": {
     "duration": 0.311443,
     "end_time": "2024-08-20T07:21:13.153634",
     "exception": false,
     "start_time": "2024-08-20T07:21:12.842191",
     "status": "completed"
    },
    "tags": []
   },
   "outputs": [
    {
     "data": {
      "text/plain": [
       "(array([192., 469., 502., 424., 315., 268., 194., 145.,  55.,   8.]),\n",
       " array([ 1. ,  4.1,  7.2, 10.3, 13.4, 16.5, 19.6, 22.7, 25.8, 28.9, 32. ]),\n",
       " <BarContainer object of 10 artists>)"
      ]
     },
     "execution_count": 28,
     "metadata": {},
     "output_type": "execute_result"
    },
    {
     "data": {
      "image/png": "[encoded data removed]",
      "text/plain": [
       "<Figure size 640x480 with 1 Axes>"
      ]
     },
     "metadata": {},
     "output_type": "display_data"
    }
   ],
   "source": [
    "train_lens=[len(i.split()) for i in train_text]\n",
    "plt.hist(train_lens)"
   ]
  },
  {
   "cell_type": "code",
   "execution_count": 29,
   "id": "e9ab7b56",
   "metadata": {
    "execution": {
     "iopub.execute_input": "2024-08-20T07:21:13.185741Z",
     "iopub.status.busy": "2024-08-20T07:21:13.185394Z",
     "iopub.status.idle": "2024-08-20T07:21:13.201639Z",
     "shell.execute_reply": "2024-08-20T07:21:13.200582Z"
    },
    "papermill": {
     "duration": 0.034542,
     "end_time": "2024-08-20T07:21:13.203588",
     "exception": false,
     "start_time": "2024-08-20T07:21:13.169046",
     "status": "completed"
    },
    "tags": []
   },
   "outputs": [
    {
     "name": "stdout",
     "output_type": "stream",
     "text": [
      "count    3215.000000\n",
      "mean       12.223328\n",
      "std         6.223879\n",
      "min         0.000000\n",
      "25%         7.000000\n",
      "50%        11.000000\n",
      "75%        17.000000\n",
      "max        32.000000\n",
      "Name: tweet, dtype: float64\n"
     ]
    }
   ],
   "source": [
    "import pandas as pd\n",
    "\n",
    "sequence_lengths = df['tweet'].apply(lambda x: len(x.split()))\n",
    "print(sequence_lengths.describe())\n"
   ]
  },
  {
   "cell_type": "code",
   "execution_count": 30,
   "id": "574d3d4e",
   "metadata": {
    "execution": {
     "iopub.execute_input": "2024-08-20T07:21:13.236262Z",
     "iopub.status.busy": "2024-08-20T07:21:13.235985Z",
     "iopub.status.idle": "2024-08-20T07:21:13.239885Z",
     "shell.execute_reply": "2024-08-20T07:21:13.238978Z"
    },
    "papermill": {
     "duration": 0.022179,
     "end_time": "2024-08-20T07:21:13.242016",
     "exception": false,
     "start_time": "2024-08-20T07:21:13.219837",
     "status": "completed"
    },
    "tags": []
   },
   "outputs": [],
   "source": [
    "pad_len = 50"
   ]
  },
  {
   "cell_type": "code",
   "execution_count": 31,
   "id": "b814b7cd",
   "metadata": {
    "execution": {
     "iopub.execute_input": "2024-08-20T07:21:13.273698Z",
     "iopub.status.busy": "2024-08-20T07:21:13.273042Z",
     "iopub.status.idle": "2024-08-20T07:21:13.414318Z",
     "shell.execute_reply": "2024-08-20T07:21:13.413390Z"
    },
    "papermill": {
     "duration": 0.159277,
     "end_time": "2024-08-20T07:21:13.416363",
     "exception": false,
     "start_time": "2024-08-20T07:21:13.257086",
     "status": "completed"
    },
    "tags": []
   },
   "outputs": [
    {
     "name": "stderr",
     "output_type": "stream",
     "text": [
      "/opt/conda/lib/python3.10/site-packages/transformers/tokenization_utils_base.py:2760: FutureWarning: The `pad_to_max_length` argument is deprecated and will be removed in a future version, use `padding=True` or `padding='longest'` to pad to the longest sequence in the batch, or use `padding='max_length'` to pad to a max length. In this case, you can give a specific length with `max_length` (e.g. `max_length=45`) or leave max_length to None to pad to the maximal input size of the model (e.g. 512 for Bert).\n",
      "  warnings.warn(\n"
     ]
    }
   ],
   "source": [
    "# tokenizing and encoding sequences \n",
    "tokens_train = tokenizer.batch_encode_plus(\n",
    "    train_text.tolist(),\n",
    "    max_length = pad_len,\n",
    "    pad_to_max_length=True,\n",
    "    add_special_tokens=True,\n",
    "    truncation=True,\n",
    "    return_token_type_ids=True\n",
    ")\n",
    "\n",
    "tokens_val = tokenizer.batch_encode_plus(\n",
    "    val_text.tolist(),\n",
    "    max_length = pad_len,\n",
    "    pad_to_max_length=True,\n",
    "    add_special_tokens=True,\n",
    "    truncation=True,\n",
    "    return_token_type_ids=True\n",
    ")\n",
    "\n",
    "tokens_test = tokenizer.batch_encode_plus(\n",
    "    test_text.tolist(),\n",
    "    max_length = pad_len,\n",
    "    pad_to_max_length=True,\n",
    "    add_special_tokens=True,\n",
    "    truncation=True,\n",
    "    return_token_type_ids=True\n",
    ")"
   ]
  },
  {
   "cell_type": "code",
   "execution_count": 32,
   "id": "7055c797",
   "metadata": {
    "execution": {
     "iopub.execute_input": "2024-08-20T07:21:13.448547Z",
     "iopub.status.busy": "2024-08-20T07:21:13.448004Z",
     "iopub.status.idle": "2024-08-20T07:21:13.608009Z",
     "shell.execute_reply": "2024-08-20T07:21:13.607234Z"
    },
    "papermill": {
     "duration": 0.177995,
     "end_time": "2024-08-20T07:21:13.609792",
     "exception": false,
     "start_time": "2024-08-20T07:21:13.431797",
     "status": "completed"
    },
    "tags": []
   },
   "outputs": [],
   "source": [
    "train_seq = torch.tensor(tokens_train['input_ids'])\n",
    "train_mask = torch.tensor(tokens_train['attention_mask'])\n",
    "train_token_type_ids = torch.tensor(tokens_train[\"token_type_ids\"])\n",
    "train_y = torch.tensor(train_labels.tolist())\n",
    "\n",
    "val_seq = torch.tensor(tokens_val['input_ids'])\n",
    "val_mask = torch.tensor(tokens_val['attention_mask'])\n",
    "val_token_type_ids = torch.tensor(tokens_val[\"token_type_ids\"])\n",
    "val_y = torch.tensor(val_labels.tolist())\n",
    "\n",
    "test_seq = torch.tensor(tokens_test['input_ids'])\n",
    "test_mask = torch.tensor(tokens_test['attention_mask'])\n",
    "test_token_type_ids = torch.tensor(tokens_test[\"token_type_ids\"])\n",
    "test_y = torch.tensor(test_labels.tolist())"
   ]
  },
  {
   "cell_type": "code",
   "execution_count": 33,
   "id": "837c7f7e",
   "metadata": {
    "execution": {
     "iopub.execute_input": "2024-08-20T07:21:13.641330Z",
     "iopub.status.busy": "2024-08-20T07:21:13.641074Z",
     "iopub.status.idle": "2024-08-20T07:21:13.646945Z",
     "shell.execute_reply": "2024-08-20T07:21:13.646099Z"
    },
    "papermill": {
     "duration": 0.023836,
     "end_time": "2024-08-20T07:21:13.648880",
     "exception": false,
     "start_time": "2024-08-20T07:21:13.625044",
     "status": "completed"
    },
    "tags": []
   },
   "outputs": [],
   "source": [
    "from torch.utils.data import TensorDataset, DataLoader, RandomSampler, SequentialSampler\n",
    "batch_size = 64  ##batch size can be adjusted or modified\n",
    "train_data = TensorDataset(train_seq, train_mask, train_token_type_ids, train_y)\n",
    "train_sampler = RandomSampler(train_data)\n",
    "train_dataloader = DataLoader(train_data, sampler=train_sampler, batch_size=batch_size)\n",
    "val_data = TensorDataset(val_seq, val_mask, val_token_type_ids, val_y)\n",
    "val_sampler = SequentialSampler(val_data)\n",
    "val_dataloader = DataLoader(val_data, sampler = val_sampler, batch_size=batch_size)"
   ]
  },
  {
   "cell_type": "code",
   "execution_count": 34,
   "id": "631c3990",
   "metadata": {
    "execution": {
     "iopub.execute_input": "2024-08-20T07:21:13.680490Z",
     "iopub.status.busy": "2024-08-20T07:21:13.680167Z",
     "iopub.status.idle": "2024-08-20T07:21:13.685270Z",
     "shell.execute_reply": "2024-08-20T07:21:13.684475Z"
    },
    "papermill": {
     "duration": 0.023036,
     "end_time": "2024-08-20T07:21:13.687138",
     "exception": false,
     "start_time": "2024-08-20T07:21:13.664102",
     "status": "completed"
    },
    "tags": []
   },
   "outputs": [],
   "source": [
    "for param in bert.parameters():\n",
    "    param.requires_grad = False"
   ]
  },
  {
   "cell_type": "code",
   "execution_count": 35,
   "id": "23ebfc14",
   "metadata": {
    "execution": {
     "iopub.execute_input": "2024-08-20T07:21:13.718572Z",
     "iopub.status.busy": "2024-08-20T07:21:13.718293Z",
     "iopub.status.idle": "2024-08-20T07:21:13.728541Z",
     "shell.execute_reply": "2024-08-20T07:21:13.727818Z"
    },
    "papermill": {
     "duration": 0.028113,
     "end_time": "2024-08-20T07:21:13.730363",
     "exception": false,
     "start_time": "2024-08-20T07:21:13.702250",
     "status": "completed"
    },
    "tags": []
   },
   "outputs": [],
   "source": [
    "import torch.nn as nn\n",
    "\n",
    "##model building\n",
    "class SentimentClassifier(nn.Module):\n",
    "     \n",
    "    def __init__(self, n_classes):\n",
    "        super(SentimentClassifier, self).__init__()\n",
    "        self.bert = BertModel.from_pretrained(MODEL_NAME)\n",
    "        self.drop = nn.Dropout(p=0.3)\n",
    "        self.out = nn.Linear(self.bert.config.hidden_size, n_classes)\n",
    "    \n",
    "    # Forward propagaion\n",
    "    def forward(self, input_ids, attention_mask, token_type_ids):\n",
    "        _, pooled_output = self.bert(\n",
    "          input_ids=input_ids,\n",
    "          attention_mask=attention_mask,\n",
    "            token_type_ids=token_type_ids\n",
    "        ) \n",
    "        output = self.drop(pooled_output)  ##drop out layer\n",
    "        return self.out(output)\n",
    "    \n",
    "class BERT_architecture(nn.Module):\n",
    "\n",
    "    def __init__(self, bert):\n",
    "        super(BERT_architecture, self).__init__()\n",
    "\n",
    "        self.bert = bert \n",
    "        \n",
    "        self.dropout = nn.Dropout(0.2) ##needs adjusment\n",
    "        self.relu = nn.ReLU() ##activation function\n",
    "        \n",
    "        self.fc1 = nn.Linear(768, 512) #dense layer\n",
    "        \n",
    "        # Dense layer 2 (Output layer)\n",
    "        self.fc2 = nn.Linear(512, 2)  #2 classes\n",
    "\n",
    "        # Softmax activation function\n",
    "        self.softmax = nn.LogSoftmax(dim=1)  \n",
    "\n",
    "    # Defining forward pass\n",
    "    def forward(self, sent_id, mask, token_type_ids): \n",
    "        _, cls_hs = self.bert(sent_id, attention_mask=mask, token_type_ids=token_type_ids, return_dict=False)\n",
    "        x = self.fc1(cls_hs)\n",
    "        x = self.relu(x)\n",
    "        x = self.dropout(x)\n",
    "        # Output layer\n",
    "        x = self.fc2(x)\n",
    "        x = self.softmax(x)\n",
    "        return x\n"
   ]
  },
  {
   "cell_type": "code",
   "execution_count": 36,
   "id": "66c74786",
   "metadata": {
    "execution": {
     "iopub.execute_input": "2024-08-20T07:21:13.761820Z",
     "iopub.status.busy": "2024-08-20T07:21:13.761557Z",
     "iopub.status.idle": "2024-08-20T07:21:13.777040Z",
     "shell.execute_reply": "2024-08-20T07:21:13.776345Z"
    },
    "papermill": {
     "duration": 0.03367,
     "end_time": "2024-08-20T07:21:13.779130",
     "exception": false,
     "start_time": "2024-08-20T07:21:13.745460",
     "status": "completed"
    },
    "tags": []
   },
   "outputs": [],
   "source": [
    "model = BERT_architecture(bert)"
   ]
  },
  {
   "cell_type": "code",
   "execution_count": 37,
   "id": "3a8fbbfd",
   "metadata": {
    "execution": {
     "iopub.execute_input": "2024-08-20T07:21:13.810372Z",
     "iopub.status.busy": "2024-08-20T07:21:13.810102Z",
     "iopub.status.idle": "2024-08-20T07:21:14.151076Z",
     "shell.execute_reply": "2024-08-20T07:21:14.150138Z"
    },
    "papermill": {
     "duration": 0.358858,
     "end_time": "2024-08-20T07:21:14.153095",
     "exception": false,
     "start_time": "2024-08-20T07:21:13.794237",
     "status": "completed"
    },
    "tags": []
   },
   "outputs": [
    {
     "data": {
      "text/plain": [
       "BERT_architecture(\n",
       "  (bert): BertModel(\n",
       "    (embeddings): BertEmbeddings(\n",
       "      (word_embeddings): Embedding(30522, 768, padding_idx=0)\n",
       "      (position_embeddings): Embedding(512, 768)\n",
       "      (token_type_embeddings): Embedding(2, 768)\n",
       "      (LayerNorm): LayerNorm((768,), eps=1e-12, elementwise_affine=True)\n",
       "      (dropout): Dropout(p=0.1, inplace=False)\n",
       "    )\n",
       "    (encoder): BertEncoder(\n",
       "      (layer): ModuleList(\n",
       "        (0-11): 12 x BertLayer(\n",
       "          (attention): BertAttention(\n",
       "            (self): BertSdpaSelfAttention(\n",
       "              (query): Linear(in_features=768, out_features=768, bias=True)\n",
       "              (key): Linear(in_features=768, out_features=768, bias=True)\n",
       "              (value): Linear(in_features=768, out_features=768, bias=True)\n",
       "              (dropout): Dropout(p=0.1, inplace=False)\n",
       "            )\n",
       "            (output): BertSelfOutput(\n",
       "              (dense): Linear(in_features=768, out_features=768, bias=True)\n",
       "              (LayerNorm): LayerNorm((768,), eps=1e-12, elementwise_affine=True)\n",
       "              (dropout): Dropout(p=0.1, inplace=False)\n",
       "            )\n",
       "          )\n",
       "          (intermediate): BertIntermediate(\n",
       "            (dense): Linear(in_features=768, out_features=3072, bias=True)\n",
       "            (intermediate_act_fn): GELUActivation()\n",
       "          )\n",
       "          (output): BertOutput(\n",
       "            (dense): Linear(in_features=3072, out_features=768, bias=True)\n",
       "            (LayerNorm): LayerNorm((768,), eps=1e-12, elementwise_affine=True)\n",
       "            (dropout): Dropout(p=0.1, inplace=False)\n",
       "          )\n",
       "        )\n",
       "      )\n",
       "    )\n",
       "    (pooler): BertPooler(\n",
       "      (dense): Linear(in_features=768, out_features=768, bias=True)\n",
       "      (activation): Tanh()\n",
       "    )\n",
       "  )\n",
       "  (dropout): Dropout(p=0.2, inplace=False)\n",
       "  (relu): ReLU()\n",
       "  (fc1): Linear(in_features=768, out_features=512, bias=True)\n",
       "  (fc2): Linear(in_features=512, out_features=2, bias=True)\n",
       "  (softmax): LogSoftmax(dim=1)\n",
       ")"
      ]
     },
     "execution_count": 37,
     "metadata": {},
     "output_type": "execute_result"
    }
   ],
   "source": [
    "test_seq = test_seq.to(device)\n",
    "test_mask = test_mask.to(device)\n",
    "test_token_type_ids = test_token_type_ids.to(device)\n",
    "model.to(device)"
   ]
  },
  {
   "cell_type": "code",
   "execution_count": 38,
   "id": "6559e028",
   "metadata": {
    "execution": {
     "iopub.execute_input": "2024-08-20T07:21:14.185926Z",
     "iopub.status.busy": "2024-08-20T07:21:14.185589Z",
     "iopub.status.idle": "2024-08-20T07:21:15.124753Z",
     "shell.execute_reply": "2024-08-20T07:21:15.123919Z"
    },
    "papermill": {
     "duration": 0.958974,
     "end_time": "2024-08-20T07:21:15.127750",
     "exception": false,
     "start_time": "2024-08-20T07:21:14.168776",
     "status": "completed"
    },
    "tags": []
   },
   "outputs": [
    {
     "name": "stderr",
     "output_type": "stream",
     "text": [
      "/opt/conda/lib/python3.10/site-packages/transformers/optimization.py:591: FutureWarning: This implementation of AdamW is deprecated and will be removed in a future version. Use the PyTorch implementation torch.optim.AdamW instead, or set `no_deprecation_warning=True` to disable this warning\n",
      "  warnings.warn(\n"
     ]
    }
   ],
   "source": [
    "from transformers import AdamW\n",
    "optimizer = AdamW(model.parameters(),lr = 1e-3)  ## learning rate needs to be adjusted."
   ]
  },
  {
   "cell_type": "code",
   "execution_count": 39,
   "id": "30f33c4d",
   "metadata": {
    "execution": {
     "iopub.execute_input": "2024-08-20T07:21:15.161455Z",
     "iopub.status.busy": "2024-08-20T07:21:15.160957Z",
     "iopub.status.idle": "2024-08-20T07:21:15.169983Z",
     "shell.execute_reply": "2024-08-20T07:21:15.168881Z"
    },
    "papermill": {
     "duration": 0.027816,
     "end_time": "2024-08-20T07:21:15.172123",
     "exception": false,
     "start_time": "2024-08-20T07:21:15.144307",
     "status": "completed"
    },
    "tags": []
   },
   "outputs": [
    {
     "name": "stdout",
     "output_type": "stream",
     "text": [
      "Class weights are [1.02225755 0.97869102] for [0 1]\n"
     ]
    }
   ],
   "source": [
    "from sklearn.utils.class_weight import compute_class_weight\n",
    "import torch\n",
    "import torch.nn as nn\n",
    "\n",
    "# Compute the class weights for three classes\n",
    "class_weights = compute_class_weight(class_weight=\"balanced\",\n",
    "                                     classes=np.unique(train_labels),\n",
    "                                     y=train_labels)\n",
    "print(\"Class weights are {} for {}\".format(class_weights, np.unique(train_labels)))"
   ]
  },
  {
   "cell_type": "code",
   "execution_count": 40,
   "id": "3af93e0a",
   "metadata": {
    "execution": {
     "iopub.execute_input": "2024-08-20T07:21:15.208826Z",
     "iopub.status.busy": "2024-08-20T07:21:15.208273Z",
     "iopub.status.idle": "2024-08-20T07:21:15.219259Z",
     "shell.execute_reply": "2024-08-20T07:21:15.218199Z"
    },
    "papermill": {
     "duration": 0.031406,
     "end_time": "2024-08-20T07:21:15.221588",
     "exception": false,
     "start_time": "2024-08-20T07:21:15.190182",
     "status": "completed"
    },
    "tags": []
   },
   "outputs": [
    {
     "name": "stderr",
     "output_type": "stream",
     "text": [
      "/tmp/ipykernel_24/883685092.py:1: FutureWarning: pandas.value_counts is deprecated and will be removed in a future version. Use pd.Series(obj).value_counts() instead.\n",
      "  pd.value_counts(train_labels)\n"
     ]
    },
    {
     "data": {
      "text/plain": [
       "class\n",
       "1    1314\n",
       "0    1258\n",
       "Name: count, dtype: int64"
      ]
     },
     "execution_count": 40,
     "metadata": {},
     "output_type": "execute_result"
    }
   ],
   "source": [
    "pd.value_counts(train_labels)"
   ]
  },
  {
   "cell_type": "code",
   "execution_count": 41,
   "id": "862814fc",
   "metadata": {
    "execution": {
     "iopub.execute_input": "2024-08-20T07:21:15.256986Z",
     "iopub.status.busy": "2024-08-20T07:21:15.256304Z",
     "iopub.status.idle": "2024-08-20T07:21:15.266796Z",
     "shell.execute_reply": "2024-08-20T07:21:15.266095Z"
    },
    "papermill": {
     "duration": 0.030475,
     "end_time": "2024-08-20T07:21:15.268731",
     "exception": false,
     "start_time": "2024-08-20T07:21:15.238256",
     "status": "completed"
    },
    "tags": []
   },
   "outputs": [],
   "source": [
    "weights = torch.tensor(class_weights, dtype=torch.float)\n",
    "\n",
    "weights = weights.to(device)\n",
    "cross_entropy = nn.CrossEntropyLoss()\n",
    "\n",
    "epochs = 50 ##increase the no of epochs for better accuracy \n"
   ]
  },
  {
   "cell_type": "code",
   "execution_count": 42,
   "id": "59d57758",
   "metadata": {
    "execution": {
     "iopub.execute_input": "2024-08-20T07:21:15.302013Z",
     "iopub.status.busy": "2024-08-20T07:21:15.301741Z",
     "iopub.status.idle": "2024-08-20T07:21:15.317300Z",
     "shell.execute_reply": "2024-08-20T07:21:15.316596Z"
    },
    "papermill": {
     "duration": 0.034087,
     "end_time": "2024-08-20T07:21:15.319188",
     "exception": false,
     "start_time": "2024-08-20T07:21:15.285101",
     "status": "completed"
    },
    "tags": []
   },
   "outputs": [],
   "source": [
    "def train():\n",
    "    model.train()\n",
    "    total_loss, total_accuracy = 0, 0\n",
    "    total_preds, total_labels = [], []\n",
    "\n",
    "    for step, batch in enumerate(train_dataloader, 0):\n",
    "        if step % 50 == 0 and not step == 0:\n",
    "            print('  Batch {:>5,}  of  {:>5,}.'.format(step, len(train_dataloader)))\n",
    "\n",
    "#         sent_id = batch[:,0].to(device, dtype = torch.long)\n",
    "#         mask = data[:,1].to(device, dtype = torch.long)\n",
    "#         token_type_ids = data[:,2].to(device, dtype = torch.long)\n",
    "#         labels = data[:,3].to(device, dtype = torch.float)\n",
    "        \n",
    "#         token_type_ids = batch['token_type_ids'].to(device)\n",
    "        batch = [r.to(device) for r in batch]\n",
    "        sent_id, mask, token_type_ids, labels = batch\n",
    "\n",
    "        model.zero_grad()\n",
    "        preds = model(sent_id, mask, token_type_ids)\n",
    "        loss = cross_entropy(preds, labels)\n",
    "        total_loss = total_loss + loss.item()\n",
    "        loss.backward()\n",
    "        torch.nn.utils.clip_grad_norm_(model.parameters(), 1.0)\n",
    "        optimizer.step()\n",
    "\n",
    "        preds = preds.detach().cpu().numpy()\n",
    "        total_preds.append(preds)\n",
    "        total_labels.append(labels.detach().cpu().numpy())\n",
    "\n",
    "    avg_loss = total_loss / len(train_dataloader)\n",
    "    total_preds = np.concatenate(total_preds, axis=0)\n",
    "    total_labels = np.concatenate(total_labels, axis=0)\n",
    "    return avg_loss, total_preds, total_labels\n",
    "\n",
    "def evaluate():\n",
    "    print(\"\\nEvaluating after the test: \")\n",
    "    model.eval()\n",
    "    total_loss, total_accuracy = 0, 0\n",
    "    total_preds, total_labels = [], []\n",
    "\n",
    "    for step, batch in enumerate(val_dataloader):\n",
    "        if step % 50 == 0 and not step == 0:\n",
    "            print('  Batch {:>5,}  of  {:>5,}.'.format(step, len(val_dataloader)))\n",
    "            \n",
    "#         sent_id = batch[:,0].to(device, dtype = torch.long)\n",
    "#         mask = data[:,1].to(device, dtype = torch.long)\n",
    "#         token_type_ids = data[:,2].to(device, dtype = torch.long)\n",
    "#         labels = data[:,3].to(device, dtype = torch.float)\n",
    "\n",
    "#         token_type_ids = batch['token_type_ids'].to(device)\n",
    "        batch = [t.to(device) for t in batch]\n",
    "        sent_id, mask, token_type_ids, labels = batch\n",
    "\n",
    "        with torch.no_grad():\n",
    "            preds = model(sent_id, mask, token_type_ids)\n",
    "            loss = cross_entropy(preds, labels)\n",
    "            total_loss = total_loss + loss.item()\n",
    "            preds = preds.detach().cpu().numpy()\n",
    "            total_preds.append(preds)\n",
    "            total_labels.append(labels.detach().cpu().numpy())\n",
    "\n",
    "    avg_loss = total_loss / len(val_dataloader)\n",
    "    total_preds = np.concatenate(total_preds, axis=0)\n",
    "    total_labels = np.concatenate(total_labels, axis=0)\n",
    "    return avg_loss, total_preds, total_labels\n",
    "def calculate_accuracy(preds, labels):\n",
    "\n",
    "    preds_flat = np.argmax(preds, axis=1).flatten()\n",
    "    labels_flat = labels.flatten()\n",
    "    accuracy = np.sum(preds_flat == labels_flat) / len(labels_flat)\n",
    "    return accuracy\n"
   ]
  },
  {
   "cell_type": "code",
   "execution_count": 43,
   "id": "6645012d",
   "metadata": {
    "execution": {
     "iopub.execute_input": "2024-08-20T07:21:15.351224Z",
     "iopub.status.busy": "2024-08-20T07:21:15.350927Z",
     "iopub.status.idle": "2024-08-20T07:27:55.140480Z",
     "shell.execute_reply": "2024-08-20T07:27:55.139355Z"
    },
    "papermill": {
     "duration": 399.808473,
     "end_time": "2024-08-20T07:27:55.143132",
     "exception": false,
     "start_time": "2024-08-20T07:21:15.334659",
     "status": "completed"
    },
    "tags": []
   },
   "outputs": [
    {
     "name": "stdout",
     "output_type": "stream",
     "text": [
      "\n",
      " Epoch 1 / 50\n",
      "\n",
      "Evaluating after the test: \n",
      "\n",
      "Training Loss: 0.7068253973635231\n",
      "Validation Loss: 0.6459677616755167\n",
      "Training Accuracy: 55.02%\n",
      "Validation Accuracy: 60.75%\n",
      "\n",
      " Epoch 2 / 50\n",
      "\n",
      "Evaluating after the test: \n",
      "\n",
      "Training Loss: 0.6533140598273859\n",
      "Validation Loss: 0.5913613984982172\n",
      "Training Accuracy: 61.55%\n",
      "Validation Accuracy: 61.68%\n",
      "\n",
      " Epoch 3 / 50\n",
      "\n",
      "Evaluating after the test: \n",
      "\n",
      "Training Loss: 0.6285087349938183\n",
      "Validation Loss: 0.5930723150571188\n",
      "Training Accuracy: 65.47%\n",
      "Validation Accuracy: 65.11%\n",
      "\n",
      " Epoch 4 / 50\n",
      "\n",
      "Evaluating after the test: \n",
      "\n",
      "Training Loss: 0.5952817187076662\n",
      "Validation Loss: 0.5215519592165947\n",
      "Training Accuracy: 68.16%\n",
      "Validation Accuracy: 71.03%\n",
      "\n",
      " Epoch 5 / 50\n",
      "\n",
      "Evaluating after the test: \n",
      "\n",
      "Training Loss: 0.5659989358448401\n",
      "Validation Loss: 0.6653813322385153\n",
      "Training Accuracy: 69.63%\n",
      "Validation Accuracy: 58.26%\n",
      "\n",
      " Epoch 6 / 50\n",
      "\n",
      "Evaluating after the test: \n",
      "\n",
      "Training Loss: 0.5592629131747455\n",
      "Validation Loss: 0.5036026413242022\n",
      "Training Accuracy: 71.03%\n",
      "Validation Accuracy: 74.14%\n",
      "\n",
      " Epoch 7 / 50\n",
      "\n",
      "Evaluating after the test: \n",
      "\n",
      "Training Loss: 0.5444196600739549\n",
      "Validation Loss: 0.4869089076916377\n",
      "Training Accuracy: 72.20%\n",
      "Validation Accuracy: 74.45%\n",
      "\n",
      " Epoch 8 / 50\n",
      "\n",
      "Evaluating after the test: \n",
      "\n",
      "Training Loss: 0.5545669794082642\n",
      "Validation Loss: 0.4807705730199814\n",
      "Training Accuracy: 72.47%\n",
      "Validation Accuracy: 77.57%\n",
      "\n",
      " Epoch 9 / 50\n",
      "\n",
      "Evaluating after the test: \n",
      "\n",
      "Training Loss: 0.5603423881821517\n",
      "Validation Loss: 0.4700014889240265\n",
      "Training Accuracy: 71.23%\n",
      "Validation Accuracy: 79.13%\n",
      "\n",
      " Epoch 10 / 50\n",
      "\n",
      "Evaluating after the test: \n",
      "\n",
      "Training Loss: 0.5343482123642433\n",
      "Validation Loss: 0.643777072429657\n",
      "Training Accuracy: 73.64%\n",
      "Validation Accuracy: 61.06%\n",
      "\n",
      " Epoch 11 / 50\n",
      "\n",
      "Evaluating after the test: \n",
      "\n",
      "Training Loss: 0.5512276938775691\n",
      "Validation Loss: 0.4758913641174634\n",
      "Training Accuracy: 73.13%\n",
      "Validation Accuracy: 76.01%\n",
      "\n",
      " Epoch 12 / 50\n",
      "\n",
      "Evaluating after the test: \n",
      "\n",
      "Training Loss: 0.5288767356698106\n",
      "Validation Loss: 0.46213749547799426\n",
      "Training Accuracy: 73.52%\n",
      "Validation Accuracy: 77.57%\n",
      "\n",
      " Epoch 13 / 50\n",
      "\n",
      "Evaluating after the test: \n",
      "\n",
      "Training Loss: 0.5194180062631282\n",
      "Validation Loss: 0.46093785266081494\n",
      "Training Accuracy: 75.00%\n",
      "Validation Accuracy: 77.57%\n",
      "\n",
      " Epoch 14 / 50\n",
      "\n",
      "Evaluating after the test: \n",
      "\n",
      "Training Loss: 0.5238455853811125\n",
      "Validation Loss: 0.46717314422130585\n",
      "Training Accuracy: 73.56%\n",
      "Validation Accuracy: 77.57%\n",
      "\n",
      " Epoch 15 / 50\n",
      "\n",
      "Evaluating after the test: \n",
      "\n",
      "Training Loss: 0.5222281043122454\n",
      "Validation Loss: 0.46061566720406216\n",
      "Training Accuracy: 74.84%\n",
      "Validation Accuracy: 78.82%\n",
      "\n",
      " Epoch 16 / 50\n",
      "\n",
      "Evaluating after the test: \n",
      "\n",
      "Training Loss: 0.5154413246526951\n",
      "Validation Loss: 0.4553647041320801\n",
      "Training Accuracy: 74.11%\n",
      "Validation Accuracy: 78.82%\n",
      "\n",
      " Epoch 17 / 50\n",
      "\n",
      "Evaluating after the test: \n",
      "\n",
      "Training Loss: 0.4997399878211138\n",
      "Validation Loss: 0.4924487868944804\n",
      "Training Accuracy: 75.89%\n",
      "Validation Accuracy: 75.08%\n",
      "\n",
      " Epoch 18 / 50\n",
      "\n",
      "Evaluating after the test: \n",
      "\n",
      "Training Loss: 0.5089757449743224\n",
      "Validation Loss: 0.44540218263864517\n",
      "Training Accuracy: 75.23%\n",
      "Validation Accuracy: 77.88%\n",
      "\n",
      " Epoch 19 / 50\n",
      "\n",
      "Evaluating after the test: \n",
      "\n",
      "Training Loss: 0.49248912785111404\n",
      "Validation Loss: 0.5152385470767816\n",
      "Training Accuracy: 76.40%\n",
      "Validation Accuracy: 71.65%\n",
      "\n",
      " Epoch 20 / 50\n",
      "\n",
      "Evaluating after the test: \n",
      "\n",
      "Training Loss: 0.5173083878144985\n",
      "Validation Loss: 0.4591866508126259\n",
      "Training Accuracy: 74.69%\n",
      "Validation Accuracy: 77.88%\n",
      "\n",
      " Epoch 21 / 50\n",
      "\n",
      "Evaluating after the test: \n",
      "\n",
      "Training Loss: 0.5114616831628288\n",
      "Validation Loss: 0.44204433262348175\n",
      "Training Accuracy: 75.31%\n",
      "Validation Accuracy: 79.13%\n",
      "\n",
      " Epoch 22 / 50\n",
      "\n",
      "Evaluating after the test: \n",
      "\n",
      "Training Loss: 0.4876558308194323\n",
      "Validation Loss: 0.6489691833655039\n",
      "Training Accuracy: 76.71%\n",
      "Validation Accuracy: 61.99%\n",
      "\n",
      " Epoch 23 / 50\n",
      "\n",
      "Evaluating after the test: \n",
      "\n",
      "Training Loss: 0.5082993987129956\n",
      "Validation Loss: 0.4621807510654132\n",
      "Training Accuracy: 75.23%\n",
      "Validation Accuracy: 78.19%\n",
      "\n",
      " Epoch 24 / 50\n",
      "\n",
      "Evaluating after the test: \n",
      "\n",
      "Training Loss: 0.5041809561775952\n",
      "Validation Loss: 0.5218922595183054\n",
      "Training Accuracy: 75.35%\n",
      "Validation Accuracy: 71.96%\n",
      "\n",
      " Epoch 25 / 50\n",
      "\n",
      "Evaluating after the test: \n",
      "\n",
      "Training Loss: 0.48920805643244486\n",
      "Validation Loss: 0.45571937163670856\n",
      "Training Accuracy: 77.06%\n",
      "Validation Accuracy: 76.64%\n",
      "\n",
      " Epoch 26 / 50\n",
      "\n",
      "Evaluating after the test: \n",
      "\n",
      "Training Loss: 0.5004535622713042\n",
      "Validation Loss: 0.44681353370348614\n",
      "Training Accuracy: 75.66%\n",
      "Validation Accuracy: 78.82%\n",
      "\n",
      " Epoch 27 / 50\n",
      "\n",
      "Evaluating after the test: \n",
      "\n",
      "Training Loss: 0.4918674913848319\n",
      "Validation Loss: 0.4575309331218402\n",
      "Training Accuracy: 76.87%\n",
      "Validation Accuracy: 78.19%\n",
      "\n",
      " Epoch 28 / 50\n",
      "\n",
      "Evaluating after the test: \n",
      "\n",
      "Training Loss: 0.5058096363777067\n",
      "Validation Loss: 0.4629286676645279\n",
      "Training Accuracy: 74.53%\n",
      "Validation Accuracy: 77.57%\n",
      "\n",
      " Epoch 29 / 50\n",
      "\n",
      "Evaluating after the test: \n",
      "\n",
      "Training Loss: 0.5034174708331504\n",
      "Validation Loss: 0.518582617243131\n",
      "Training Accuracy: 75.62%\n",
      "Validation Accuracy: 73.83%\n",
      "\n",
      " Epoch 30 / 50\n",
      "\n",
      "Evaluating after the test: \n",
      "\n",
      "Training Loss: 0.49075801706895594\n",
      "Validation Loss: 0.4280606061220169\n",
      "Training Accuracy: 76.94%\n",
      "Validation Accuracy: 80.06%\n",
      "\n",
      " Epoch 31 / 50\n",
      "\n",
      "Evaluating after the test: \n",
      "\n",
      "Training Loss: 0.5179349649243239\n",
      "Validation Loss: 0.6617557108402252\n",
      "Training Accuracy: 74.65%\n",
      "Validation Accuracy: 61.06%\n",
      "\n",
      " Epoch 32 / 50\n",
      "\n",
      "Evaluating after the test: \n",
      "\n",
      "Training Loss: 0.5041650860774808\n",
      "Validation Loss: 0.4603968908389409\n",
      "Training Accuracy: 75.39%\n",
      "Validation Accuracy: 76.32%\n",
      "\n",
      " Epoch 33 / 50\n",
      "\n",
      "Evaluating after the test: \n",
      "\n",
      "Training Loss: 0.47997773493208534\n",
      "Validation Loss: 0.43461792916059494\n",
      "Training Accuracy: 76.94%\n",
      "Validation Accuracy: 80.06%\n",
      "\n",
      " Epoch 34 / 50\n",
      "\n",
      "Evaluating after the test: \n",
      "\n",
      "Training Loss: 0.49252445377954623\n",
      "Validation Loss: 0.44085609167814255\n",
      "Training Accuracy: 76.52%\n",
      "Validation Accuracy: 77.57%\n",
      "\n",
      " Epoch 35 / 50\n",
      "\n",
      "Evaluating after the test: \n",
      "\n",
      "Training Loss: 0.47664227936326004\n",
      "Validation Loss: 0.45995867252349854\n",
      "Training Accuracy: 77.49%\n",
      "Validation Accuracy: 78.19%\n",
      "\n",
      " Epoch 36 / 50\n",
      "\n",
      "Evaluating after the test: \n",
      "\n",
      "Training Loss: 0.4758478301327403\n",
      "Validation Loss: 0.4455110430717468\n",
      "Training Accuracy: 76.98%\n",
      "Validation Accuracy: 77.88%\n",
      "\n",
      " Epoch 37 / 50\n",
      "\n",
      "Evaluating after the test: \n",
      "\n",
      "Training Loss: 0.4803334365530712\n",
      "Validation Loss: 0.4526154076059659\n",
      "Training Accuracy: 77.37%\n",
      "Validation Accuracy: 77.88%\n",
      "\n",
      " Epoch 38 / 50\n",
      "\n",
      "Evaluating after the test: \n",
      "\n",
      "Training Loss: 0.4886101418878974\n",
      "Validation Loss: 0.44391514360904694\n",
      "Training Accuracy: 76.36%\n",
      "Validation Accuracy: 78.19%\n",
      "\n",
      " Epoch 39 / 50\n",
      "\n",
      "Evaluating after the test: \n",
      "\n",
      "Training Loss: 0.48283994052468276\n",
      "Validation Loss: 0.43502771109342575\n",
      "Training Accuracy: 76.83%\n",
      "Validation Accuracy: 78.82%\n",
      "\n",
      " Epoch 40 / 50\n",
      "\n",
      "Evaluating after the test: \n",
      "\n",
      "Training Loss: 0.47681427656150444\n",
      "Validation Loss: 0.4356438567241033\n",
      "Training Accuracy: 76.59%\n",
      "Validation Accuracy: 79.44%\n",
      "\n",
      " Epoch 41 / 50\n",
      "\n",
      "Evaluating after the test: \n",
      "\n",
      "Training Loss: 0.48096896308224374\n",
      "Validation Loss: 0.4431566819548607\n",
      "Training Accuracy: 77.06%\n",
      "Validation Accuracy: 79.44%\n",
      "\n",
      " Epoch 42 / 50\n",
      "\n",
      "Evaluating after the test: \n",
      "\n",
      "Training Loss: 0.48464345205120923\n",
      "Validation Loss: 0.4236983706553777\n",
      "Training Accuracy: 76.67%\n",
      "Validation Accuracy: 80.69%\n",
      "\n",
      " Epoch 43 / 50\n",
      "\n",
      "Evaluating after the test: \n",
      "\n",
      "Training Loss: 0.4846918161322431\n",
      "Validation Loss: 0.434786856174469\n",
      "Training Accuracy: 77.72%\n",
      "Validation Accuracy: 78.82%\n",
      "\n",
      " Epoch 44 / 50\n",
      "\n",
      "Evaluating after the test: \n",
      "\n",
      "Training Loss: 0.4665956824291043\n",
      "Validation Loss: 0.4337712973356247\n",
      "Training Accuracy: 78.03%\n",
      "Validation Accuracy: 79.75%\n",
      "\n",
      " Epoch 45 / 50\n",
      "\n",
      "Evaluating after the test: \n",
      "\n",
      "Training Loss: 0.48135933643434103\n",
      "Validation Loss: 0.4619992772738139\n",
      "Training Accuracy: 76.59%\n",
      "Validation Accuracy: 75.08%\n",
      "\n",
      " Epoch 46 / 50\n",
      "\n",
      "Evaluating after the test: \n",
      "\n",
      "Training Loss: 0.4767461440912107\n",
      "Validation Loss: 0.43585750460624695\n",
      "Training Accuracy: 77.88%\n",
      "Validation Accuracy: 80.37%\n",
      "\n",
      " Epoch 47 / 50\n",
      "\n",
      "Evaluating after the test: \n",
      "\n",
      "Training Loss: 0.46874013325063196\n",
      "Validation Loss: 0.5329779200255871\n",
      "Training Accuracy: 77.26%\n",
      "Validation Accuracy: 70.09%\n",
      "\n",
      " Epoch 48 / 50\n",
      "\n",
      "Evaluating after the test: \n",
      "\n",
      "Training Loss: 0.512081702307957\n",
      "Validation Loss: 0.43827690929174423\n",
      "Training Accuracy: 75.23%\n",
      "Validation Accuracy: 78.82%\n",
      "\n",
      " Epoch 49 / 50\n",
      "\n",
      "Evaluating after the test: \n",
      "\n",
      "Training Loss: 0.4848129698416082\n",
      "Validation Loss: 0.4275481750567754\n",
      "Training Accuracy: 77.37%\n",
      "Validation Accuracy: 79.44%\n",
      "\n",
      " Epoch 50 / 50\n",
      "\n",
      "Evaluating after the test: \n",
      "\n",
      "Training Loss: 0.4610279238805538\n",
      "Validation Loss: 0.42448098833362263\n",
      "Training Accuracy: 78.38%\n",
      "Validation Accuracy: 78.82%\n"
     ]
    }
   ],
   "source": [
    "best_valid_loss = float('inf')\n",
    "train_losses = []\n",
    "valid_losses = []\n",
    "train_accuracies = []\n",
    "valid_accuracies = []\n",
    "\n",
    "for epoch in range(epochs):\n",
    "    print('\\n Epoch {:} / {:}'.format(epoch + 1, epochs))\n",
    "    \n",
    "    train_loss, train_preds, train_labels = train()\n",
    "    valid_loss, valid_preds, valid_labels = evaluate()\n",
    "    train_accuracy = calculate_accuracy(train_preds, train_labels)\n",
    "    valid_accuracy = calculate_accuracy(valid_preds, valid_labels)\n",
    "\n",
    "    if valid_loss < best_valid_loss:\n",
    "        best_valid_loss = valid_loss\n",
    "        torch.save(model.state_dict(), 'saved_weights.pt')\n",
    "    \n",
    "    train_losses.append(train_loss)\n",
    "    valid_losses.append(valid_loss)\n",
    "    train_accuracies.append(train_accuracy)\n",
    "    valid_accuracies.append(valid_accuracy)\n",
    "    \n",
    "    print('\\nTraining Loss: {}'.format(train_loss))\n",
    "    print('Validation Loss: {}'.format(valid_loss))\n",
    "    print('Training Accuracy: {:.2f}%'.format(train_accuracy * 100))\n",
    "    print('Validation Accuracy: {:.2f}%'.format(valid_accuracy * 100))\n"
   ]
  },
  {
   "cell_type": "code",
   "execution_count": 44,
   "id": "9db73ec8",
   "metadata": {
    "execution": {
     "iopub.execute_input": "2024-08-20T07:27:55.197579Z",
     "iopub.status.busy": "2024-08-20T07:27:55.196957Z",
     "iopub.status.idle": "2024-08-20T07:27:56.068606Z",
     "shell.execute_reply": "2024-08-20T07:27:56.067705Z"
    },
    "papermill": {
     "duration": 0.9001,
     "end_time": "2024-08-20T07:27:56.070762",
     "exception": false,
     "start_time": "2024-08-20T07:27:55.170662",
     "status": "completed"
    },
    "tags": []
   },
   "outputs": [
    {
     "name": "stdout",
     "output_type": "stream",
     "text": [
      "              precision    recall  f1-score   support\n",
      "\n",
      "           0       0.76      0.79      0.78       157\n",
      "           1       0.79      0.76      0.78       165\n",
      "\n",
      "    accuracy                           0.78       322\n",
      "   macro avg       0.78      0.78      0.78       322\n",
      "weighted avg       0.78      0.78      0.78       322\n",
      "\n"
     ]
    }
   ],
   "source": [
    "from sklearn.metrics import classification_report\n",
    "with torch.no_grad():\n",
    "  preds = model(test_seq.to(device), test_mask.to(device), test_token_type_ids.to(device))\n",
    "  preds = preds.detach().cpu().numpy()\n",
    "pred = np.argmax(preds, axis = 1)\n",
    "print(classification_report(test_y, pred))"
   ]
  },
  {
   "cell_type": "code",
   "execution_count": 45,
   "id": "070b09eb",
   "metadata": {
    "execution": {
     "iopub.execute_input": "2024-08-20T07:27:56.120196Z",
     "iopub.status.busy": "2024-08-20T07:27:56.119671Z",
     "iopub.status.idle": "2024-08-20T07:27:56.158709Z",
     "shell.execute_reply": "2024-08-20T07:27:56.157801Z"
    },
    "papermill": {
     "duration": 0.065959,
     "end_time": "2024-08-20T07:27:56.160953",
     "exception": false,
     "start_time": "2024-08-20T07:27:56.094994",
     "status": "completed"
    },
    "tags": []
   },
   "outputs": [
    {
     "name": "stderr",
     "output_type": "stream",
     "text": [
      "Truncation was not explicitly activated but `max_length` is provided a specific value, please use `truncation=True` to explicitly truncate examples to max length. Defaulting to 'longest_first' truncation strategy. If you encode pairs of sequences (GLUE-style) with the tokenizer you can select this strategy more precisely by providing a specific strategy to `truncation`.\n"
     ]
    },
    {
     "name": "stdout",
     "output_type": "stream",
     "text": [
      "Predicted sentiment: Positive\n"
     ]
    },
    {
     "name": "stderr",
     "output_type": "stream",
     "text": [
      "/opt/conda/lib/python3.10/site-packages/transformers/tokenization_utils_base.py:2760: FutureWarning: The `pad_to_max_length` argument is deprecated and will be removed in a future version, use `padding=True` or `padding='longest'` to pad to the longest sequence in the batch, or use `padding='max_length'` to pad to a max length. In this case, you can give a specific length with `max_length` (e.g. `max_length=45`) or leave max_length to None to pad to the maximal input size of the model (e.g. 512 for Bert).\n",
      "  warnings.warn(\n"
     ]
    }
   ],
   "source": [
    "def predict_user_input(input_text, model, tokenizer, device):\n",
    "    inputs = tokenizer.encode_plus(\n",
    "        input_text,\n",
    "        add_special_tokens=True,\n",
    "        max_length=max_seq_len,\n",
    "        pad_to_max_length=True,\n",
    "        return_attention_mask=True,\n",
    "        return_token_type_ids=True,\n",
    "        return_tensors='pt',\n",
    "    )\n",
    "    input_ids = inputs['input_ids'].to(device)\n",
    "    attention_mask = inputs['attention_mask'].to(device)\n",
    "    token_type_ids = inputs['token_type_ids'].to(device)\n",
    "\n",
    "    with torch.no_grad():\n",
    "        outputs = model(input_ids, attention_mask, token_type_ids)\n",
    "        preds = torch.argmax(outputs, dim=1)\n",
    "    \n",
    "    return preds.item()\n",
    "max_seq_len=50\n",
    "input_text = \"what a badass character Arthur is, rckstr is the bst\"\n",
    "predicted_class = predict_user_input(input_text, model, tokenizer, device)\n",
    "if(predicted_class==0):\n",
    "    print('Predicted sentiment: Negative')\n",
    "else:\n",
    "    print('Predicted sentiment: Positive')"
   ]
  },
  {
   "cell_type": "code",
   "execution_count": null,
   "id": "73f01adc",
   "metadata": {
    "papermill": {
     "duration": 0.023701,
     "end_time": "2024-08-20T07:27:56.208382",
     "exception": false,
     "start_time": "2024-08-20T07:27:56.184681",
     "status": "completed"
    },
    "tags": []
   },
   "outputs": [],
   "source": []
  }
 ],
 "metadata": {
  "kaggle": {
   "accelerator": "nvidiaTeslaT4",
   "dataSources": [
    {
     "datasetId": 5557640,
     "sourceId": 9193227,
     "sourceType": "datasetVersion"
    }
   ],
   "dockerImageVersionId": 30747,
   "isGpuEnabled": true,
   "isInternetEnabled": true,
   "language": "python",
   "sourceType": "notebook"
  },
  "kernelspec": {
   "display_name": "Python 3",
   "language": "python",
   "name": "python3"
  },
  "language_info": {
   "codemirror_mode": {
    "name": "ipython",
    "version": 3
   },
   "file_extension": ".py",
   "mimetype": "text/x-python",
   "name": "python",
   "nbconvert_exporter": "python",
   "pygments_lexer": "ipython3",
   "version": "3.10.13"
  },
  "papermill": {
   "default_parameters": {},
   "duration": 429.135462,
   "end_time": "2024-08-20T07:27:58.358715",
   "environment_variables": {},
   "exception": null,
   "input_path": "__notebook__.ipynb",
   "output_path": "__notebook__.ipynb",
   "parameters": {},
   "start_time": "2024-08-20T07:20:49.223253",
   "version": "2.5.0"
  },
  "widgets": {
   "application/vnd.jupyter.widget-state+json": {
    "state": {
     "017e692c2cc440f5ac1f542086446c37": {
      "model_module": "@jupyter-widgets/controls",
      "model_module_version": "1.5.0",
      "model_name": "HTMLModel",
      "state": {
       "_dom_classes": [],
       "_model_module": "@jupyter-widgets/controls",
       "_model_module_version": "1.5.0",
       "_model_name": "HTMLModel",
       "_view_count": null,
       "_view_module": "@jupyter-widgets/controls",
       "_view_module_version": "1.5.0",
       "_view_name": "HTMLView",
       "description": "",
       "description_tooltip": null,
       "layout": "IPY_MODEL_c320e311f83f49a69f8b28cea2722337",
       "placeholder": "​",
       "style": "IPY_MODEL_0b18b89c34c84e4da0106f01d3b826f1",
       "value": " 232k/232k [00:00&lt;00:00, 4.22MB/s]"
      }
     },
     "03f55024ea9a4489a9e8b6f159fa731f": {
      "model_module": "@jupyter-widgets/controls",
      "model_module_version": "1.5.0",
      "model_name": "HTMLModel",
      "state": {
       "_dom_classes": [],
       "_model_module": "@jupyter-widgets/controls",
       "_model_module_version": "1.5.0",
       "_model_name": "HTMLModel",
       "_view_count": null,
       "_view_module": "@jupyter-widgets/controls",
       "_view_module_version": "1.5.0",
       "_view_name": "HTMLView",
       "description": "",
       "description_tooltip": null,
       "layout": "IPY_MODEL_43b9be83bb684feca6e5f48ca9daed9b",
       "placeholder": "​",
       "style": "IPY_MODEL_e5d828ac8cec4bd29ed6dc511f8a2246",
       "value": "tokenizer.json: 100%"
      }
     },
     "0b18b89c34c84e4da0106f01d3b826f1": {
      "model_module": "@jupyter-widgets/controls",
      "model_module_version": "1.5.0",
      "model_name": "DescriptionStyleModel",
      "state": {
       "_model_module": "@jupyter-widgets/controls",
       "_model_module_version": "1.5.0",
       "_model_name": "DescriptionStyleModel",
       "_view_count": null,
       "_view_module": "@jupyter-widgets/base",
       "_view_module_version": "1.2.0",
       "_view_name": "StyleView",
       "description_width": ""
      }
     },
     "191327812d094d8baf156d15af91cfc9": {
      "model_module": "@jupyter-widgets/base",
      "model_module_version": "1.2.0",
      "model_name": "LayoutModel",
      "state": {
       "_model_module": "@jupyter-widgets/base",
       "_model_module_version": "1.2.0",
       "_model_name": "LayoutModel",
       "_view_count": null,
       "_view_module": "@jupyter-widgets/base",
       "_view_module_version": "1.2.0",
       "_view_name": "LayoutView",
       "align_content": null,
       "align_items": null,
       "align_self": null,
       "border": null,
       "bottom": null,
       "display": null,
       "flex": null,
       "flex_flow": null,
       "grid_area": null,
       "grid_auto_columns": null,
       "grid_auto_flow": null,
       "grid_auto_rows": null,
       "grid_column": null,
       "grid_gap": null,
       "grid_row": null,
       "grid_template_areas": null,
       "grid_template_columns": null,
       "grid_template_rows": null,
       "height": null,
       "justify_content": null,
       "justify_items": null,
       "left": null,
       "margin": null,
       "max_height": null,
       "max_width": null,
       "min_height": null,
       "min_width": null,
       "object_fit": null,
       "object_position": null,
       "order": null,
       "overflow": null,
       "overflow_x": null,
       "overflow_y": null,
       "padding": null,
       "right": null,
       "top": null,
       "visibility": null,
       "width": null
      }
     },
     "1d6cb60d66df41b0911d8b0a96118380": {
      "model_module": "@jupyter-widgets/controls",
      "model_module_version": "1.5.0",
      "model_name": "ProgressStyleModel",
      "state": {
       "_model_module": "@jupyter-widgets/controls",
       "_model_module_version": "1.5.0",
       "_model_name": "ProgressStyleModel",
       "_view_count": null,
       "_view_module": "@jupyter-widgets/base",
       "_view_module_version": "1.2.0",
       "_view_name": "StyleView",
       "bar_color": null,
       "description_width": ""
      }
     },
     "2160d2ee4b5a4626a260d53f00f992e7": {
      "model_module": "@jupyter-widgets/controls",
      "model_module_version": "1.5.0",
      "model_name": "HBoxModel",
      "state": {
       "_dom_classes": [],
       "_model_module": "@jupyter-widgets/controls",
       "_model_module_version": "1.5.0",
       "_model_name": "HBoxModel",
       "_view_count": null,
       "_view_module": "@jupyter-widgets/controls",
       "_view_module_version": "1.5.0",
       "_view_name": "HBoxView",
       "box_style": "",
       "children": [
        "IPY_MODEL_6dd4b631a7ee4f8a99b183171a9071f6",
        "IPY_MODEL_c0d4e7319044458ab84da43191db2e37",
        "IPY_MODEL_4fc3c53effc64cf1b764ddb82e11fc8e"
       ],
       "layout": "IPY_MODEL_191327812d094d8baf156d15af91cfc9"
      }
     },
     "2397949e67a244d7b0b870dec6517979": {
      "model_module": "@jupyter-widgets/base",
      "model_module_version": "1.2.0",
      "model_name": "LayoutModel",
      "state": {
       "_model_module": "@jupyter-widgets/base",
       "_model_module_version": "1.2.0",
       "_model_name": "LayoutModel",
       "_view_count": null,
       "_view_module": "@jupyter-widgets/base",
       "_view_module_version": "1.2.0",
       "_view_name": "LayoutView",
       "align_content": null,
       "align_items": null,
       "align_self": null,
       "border": null,
       "bottom": null,
       "display": null,
       "flex": null,
       "flex_flow": null,
       "grid_area": null,
       "grid_auto_columns": null,
       "grid_auto_flow": null,
       "grid_auto_rows": null,
       "grid_column": null,
       "grid_gap": null,
       "grid_row": null,
       "grid_template_areas": null,
       "grid_template_columns": null,
       "grid_template_rows": null,
       "height": null,
       "justify_content": null,
       "justify_items": null,
       "left": null,
       "margin": null,
       "max_height": null,
       "max_width": null,
       "min_height": null,
       "min_width": null,
       "object_fit": null,
       "object_position": null,
       "order": null,
       "overflow": null,
       "overflow_x": null,
       "overflow_y": null,
       "padding": null,
       "right": null,
       "top": null,
       "visibility": null,
       "width": null
      }
     },
     "2cd935dc0a0e4fe79dab332e7b0d5f5e": {
      "model_module": "@jupyter-widgets/controls",
      "model_module_version": "1.5.0",
      "model_name": "HTMLModel",
      "state": {
       "_dom_classes": [],
       "_model_module": "@jupyter-widgets/controls",
       "_model_module_version": "1.5.0",
       "_model_name": "HTMLModel",
       "_view_count": null,
       "_view_module": "@jupyter-widgets/controls",
       "_view_module_version": "1.5.0",
       "_view_name": "HTMLView",
       "description": "",
       "description_tooltip": null,
       "layout": "IPY_MODEL_c58f5b954268441ba048d40e29e0eaa8",
       "placeholder": "​",
       "style": "IPY_MODEL_b58f98b762964181bc97b55e3cfbfef7",
       "value": " 466k/466k [00:00&lt;00:00, 15.3MB/s]"
      }
     },
     "301ce16a60ca496eb06e466650b4100d": {
      "model_module": "@jupyter-widgets/base",
      "model_module_version": "1.2.0",
      "model_name": "LayoutModel",
      "state": {
       "_model_module": "@jupyter-widgets/base",
       "_model_module_version": "1.2.0",
       "_model_name": "LayoutModel",
       "_view_count": null,
       "_view_module": "@jupyter-widgets/base",
       "_view_module_version": "1.2.0",
       "_view_name": "LayoutView",
       "align_content": null,
       "align_items": null,
       "align_self": null,
       "border": null,
       "bottom": null,
       "display": null,
       "flex": null,
       "flex_flow": null,
       "grid_area": null,
       "grid_auto_columns": null,
       "grid_auto_flow": null,
       "grid_auto_rows": null,
       "grid_column": null,
       "grid_gap": null,
       "grid_row": null,
       "grid_template_areas": null,
       "grid_template_columns": null,
       "grid_template_rows": null,
       "height": null,
       "justify_content": null,
       "justify_items": null,
       "left": null,
       "margin": null,
       "max_height": null,
       "max_width": null,
       "min_height": null,
       "min_width": null,
       "object_fit": null,
       "object_position": null,
       "order": null,
       "overflow": null,
       "overflow_x": null,
       "overflow_y": null,
       "padding": null,
       "right": null,
       "top": null,
       "visibility": null,
       "width": null
      }
     },
     "3052cebbc5e84260b6a9d8bce3fc65c3": {
      "model_module": "@jupyter-widgets/base",
      "model_module_version": "1.2.0",
      "model_name": "LayoutModel",
      "state": {
       "_model_module": "@jupyter-widgets/base",
       "_model_module_version": "1.2.0",
       "_model_name": "LayoutModel",
       "_view_count": null,
       "_view_module": "@jupyter-widgets/base",
       "_view_module_version": "1.2.0",
       "_view_name": "LayoutView",
       "align_content": null,
       "align_items": null,
       "align_self": null,
       "border": null,
       "bottom": null,
       "display": null,
       "flex": null,
       "flex_flow": null,
       "grid_area": null,
       "grid_auto_columns": null,
       "grid_auto_flow": null,
       "grid_auto_rows": null,
       "grid_column": null,
       "grid_gap": null,
       "grid_row": null,
       "grid_template_areas": null,
       "grid_template_columns": null,
       "grid_template_rows": null,
       "height": null,
       "justify_content": null,
       "justify_items": null,
       "left": null,
       "margin": null,
       "max_height": null,
       "max_width": null,
       "min_height": null,
       "min_width": null,
       "object_fit": null,
       "object_position": null,
       "order": null,
       "overflow": null,
       "overflow_x": null,
       "overflow_y": null,
       "padding": null,
       "right": null,
       "top": null,
       "visibility": null,
       "width": null
      }
     },
     "3f11fdf315e348bd931c61b461c4a1e8": {
      "model_module": "@jupyter-widgets/controls",
      "model_module_version": "1.5.0",
      "model_name": "ProgressStyleModel",
      "state": {
       "_model_module": "@jupyter-widgets/controls",
       "_model_module_version": "1.5.0",
       "_model_name": "ProgressStyleModel",
       "_view_count": null,
       "_view_module": "@jupyter-widgets/base",
       "_view_module_version": "1.2.0",
       "_view_name": "StyleView",
       "bar_color": null,
       "description_width": ""
      }
     },
     "3f7b7dc4fa934a1191c2de9351d86877": {
      "model_module": "@jupyter-widgets/controls",
      "model_module_version": "1.5.0",
      "model_name": "HTMLModel",
      "state": {
       "_dom_classes": [],
       "_model_module": "@jupyter-widgets/controls",
       "_model_module_version": "1.5.0",
       "_model_name": "HTMLModel",
       "_view_count": null,
       "_view_module": "@jupyter-widgets/controls",
       "_view_module_version": "1.5.0",
       "_view_name": "HTMLView",
       "description": "",
       "description_tooltip": null,
       "layout": "IPY_MODEL_b93fa4da377249b8ace290f71b8d16f6",
       "placeholder": "​",
       "style": "IPY_MODEL_b47bbd16f569458287d7c3b6507a7f76",
       "value": " 440M/440M [00:02&lt;00:00, 202MB/s]"
      }
     },
     "43b9be83bb684feca6e5f48ca9daed9b": {
      "model_module": "@jupyter-widgets/base",
      "model_module_version": "1.2.0",
      "model_name": "LayoutModel",
      "state": {
       "_model_module": "@jupyter-widgets/base",
       "_model_module_version": "1.2.0",
       "_model_name": "LayoutModel",
       "_view_count": null,
       "_view_module": "@jupyter-widgets/base",
       "_view_module_version": "1.2.0",
       "_view_name": "LayoutView",
       "align_content": null,
       "align_items": null,
       "align_self": null,
       "border": null,
       "bottom": null,
       "display": null,
       "flex": null,
       "flex_flow": null,
       "grid_area": null,
       "grid_auto_columns": null,
       "grid_auto_flow": null,
       "grid_auto_rows": null,
       "grid_column": null,
       "grid_gap": null,
       "grid_row": null,
       "grid_template_areas": null,
       "grid_template_columns": null,
       "grid_template_rows": null,
       "height": null,
       "justify_content": null,
       "justify_items": null,
       "left": null,
       "margin": null,
       "max_height": null,
       "max_width": null,
       "min_height": null,
       "min_width": null,
       "object_fit": null,
       "object_position": null,
       "order": null,
       "overflow": null,
       "overflow_x": null,
       "overflow_y": null,
       "padding": null,
       "right": null,
       "top": null,
       "visibility": null,
       "width": null
      }
     },
     "4989a2c61ede44b2b2d8d0f157477c87": {
      "model_module": "@jupyter-widgets/controls",
      "model_module_version": "1.5.0",
      "model_name": "HBoxModel",
      "state": {
       "_dom_classes": [],
       "_model_module": "@jupyter-widgets/controls",
       "_model_module_version": "1.5.0",
       "_model_name": "HBoxModel",
       "_view_count": null,
       "_view_module": "@jupyter-widgets/controls",
       "_view_module_version": "1.5.0",
       "_view_name": "HBoxView",
       "box_style": "",
       "children": [
        "IPY_MODEL_a6a7741e9a2d4ffdafc216144035930d",
        "IPY_MODEL_946866d8543a48559e643d3f577b59b0",
        "IPY_MODEL_a45daeff98864eddaf114d7bcde9eed0"
       ],
       "layout": "IPY_MODEL_7ebf8a73b0144639a7409b1f34af9681"
      }
     },
     "49f4affcc7b04b868d55b424a1c4f2b4": {
      "model_module": "@jupyter-widgets/base",
      "model_module_version": "1.2.0",
      "model_name": "LayoutModel",
      "state": {
       "_model_module": "@jupyter-widgets/base",
       "_model_module_version": "1.2.0",
       "_model_name": "LayoutModel",
       "_view_count": null,
       "_view_module": "@jupyter-widgets/base",
       "_view_module_version": "1.2.0",
       "_view_name": "LayoutView",
       "align_content": null,
       "align_items": null,
       "align_self": null,
       "border": null,
       "bottom": null,
       "display": null,
       "flex": null,
       "flex_flow": null,
       "grid_area": null,
       "grid_auto_columns": null,
       "grid_auto_flow": null,
       "grid_auto_rows": null,
       "grid_column": null,
       "grid_gap": null,
       "grid_row": null,
       "grid_template_areas": null,
       "grid_template_columns": null,
       "grid_template_rows": null,
       "height": null,
       "justify_content": null,
       "justify_items": null,
       "left": null,
       "margin": null,
       "max_height": null,
       "max_width": null,
       "min_height": null,
       "min_width": null,
       "object_fit": null,
       "object_position": null,
       "order": null,
       "overflow": null,
       "overflow_x": null,
       "overflow_y": null,
       "padding": null,
       "right": null,
       "top": null,
       "visibility": null,
       "width": null
      }
     },
     "4cd2ad3291fb4adc8792a7102f4617e4": {
      "model_module": "@jupyter-widgets/base",
      "model_module_version": "1.2.0",
      "model_name": "LayoutModel",
      "state": {
       "_model_module": "@jupyter-widgets/base",
       "_model_module_version": "1.2.0",
       "_model_name": "LayoutModel",
       "_view_count": null,
       "_view_module": "@jupyter-widgets/base",
       "_view_module_version": "1.2.0",
       "_view_name": "LayoutView",
       "align_content": null,
       "align_items": null,
       "align_self": null,
       "border": null,
       "bottom": null,
       "display": null,
       "flex": null,
       "flex_flow": null,
       "grid_area": null,
       "grid_auto_columns": null,
       "grid_auto_flow": null,
       "grid_auto_rows": null,
       "grid_column": null,
       "grid_gap": null,
       "grid_row": null,
       "grid_template_areas": null,
       "grid_template_columns": null,
       "grid_template_rows": null,
       "height": null,
       "justify_content": null,
       "justify_items": null,
       "left": null,
       "margin": null,
       "max_height": null,
       "max_width": null,
       "min_height": null,
       "min_width": null,
       "object_fit": null,
       "object_position": null,
       "order": null,
       "overflow": null,
       "overflow_x": null,
       "overflow_y": null,
       "padding": null,
       "right": null,
       "top": null,
       "visibility": null,
       "width": null
      }
     },
     "4d87ac84e387431b8fdb3b1193668b0c": {
      "model_module": "@jupyter-widgets/base",
      "model_module_version": "1.2.0",
      "model_name": "LayoutModel",
      "state": {
       "_model_module": "@jupyter-widgets/base",
       "_model_module_version": "1.2.0",
       "_model_name": "LayoutModel",
       "_view_count": null,
       "_view_module": "@jupyter-widgets/base",
       "_view_module_version": "1.2.0",
       "_view_name": "LayoutView",
       "align_content": null,
       "align_items": null,
       "align_self": null,
       "border": null,
       "bottom": null,
       "display": null,
       "flex": null,
       "flex_flow": null,
       "grid_area": null,
       "grid_auto_columns": null,
       "grid_auto_flow": null,
       "grid_auto_rows": null,
       "grid_column": null,
       "grid_gap": null,
       "grid_row": null,
       "grid_template_areas": null,
       "grid_template_columns": null,
       "grid_template_rows": null,
       "height": null,
       "justify_content": null,
       "justify_items": null,
       "left": null,
       "margin": null,
       "max_height": null,
       "max_width": null,
       "min_height": null,
       "min_width": null,
       "object_fit": null,
       "object_position": null,
       "order": null,
       "overflow": null,
       "overflow_x": null,
       "overflow_y": null,
       "padding": null,
       "right": null,
       "top": null,
       "visibility": null,
       "width": null
      }
     },
     "4e5fb12bd78849b28573fc46f94f8406": {
      "model_module": "@jupyter-widgets/controls",
      "model_module_version": "1.5.0",
      "model_name": "DescriptionStyleModel",
      "state": {
       "_model_module": "@jupyter-widgets/controls",
       "_model_module_version": "1.5.0",
       "_model_name": "DescriptionStyleModel",
       "_view_count": null,
       "_view_module": "@jupyter-widgets/base",
       "_view_module_version": "1.2.0",
       "_view_name": "StyleView",
       "description_width": ""
      }
     },
     "4fc3c53effc64cf1b764ddb82e11fc8e": {
      "model_module": "@jupyter-widgets/controls",
      "model_module_version": "1.5.0",
      "model_name": "HTMLModel",
      "state": {
       "_dom_classes": [],
       "_model_module": "@jupyter-widgets/controls",
       "_model_module_version": "1.5.0",
       "_model_name": "HTMLModel",
       "_view_count": null,
       "_view_module": "@jupyter-widgets/controls",
       "_view_module_version": "1.5.0",
       "_view_name": "HTMLView",
       "description": "",
       "description_tooltip": null,
       "layout": "IPY_MODEL_4d87ac84e387431b8fdb3b1193668b0c",
       "placeholder": "​",
       "style": "IPY_MODEL_d67017b8bd4445e9958af4ab3223a321",
       "value": " 48.0/48.0 [00:00&lt;00:00, 4.54kB/s]"
      }
     },
     "4ffd0d776b2d464b84b40fb7ea7ffb0c": {
      "model_module": "@jupyter-widgets/base",
      "model_module_version": "1.2.0",
      "model_name": "LayoutModel",
      "state": {
       "_model_module": "@jupyter-widgets/base",
       "_model_module_version": "1.2.0",
       "_model_name": "LayoutModel",
       "_view_count": null,
       "_view_module": "@jupyter-widgets/base",
       "_view_module_version": "1.2.0",
       "_view_name": "LayoutView",
       "align_content": null,
       "align_items": null,
       "align_self": null,
       "border": null,
       "bottom": null,
       "display": null,
       "flex": null,
       "flex_flow": null,
       "grid_area": null,
       "grid_auto_columns": null,
       "grid_auto_flow": null,
       "grid_auto_rows": null,
       "grid_column": null,
       "grid_gap": null,
       "grid_row": null,
       "grid_template_areas": null,
       "grid_template_columns": null,
       "grid_template_rows": null,
       "height": null,
       "justify_content": null,
       "justify_items": null,
       "left": null,
       "margin": null,
       "max_height": null,
       "max_width": null,
       "min_height": null,
       "min_width": null,
       "object_fit": null,
       "object_position": null,
       "order": null,
       "overflow": null,
       "overflow_x": null,
       "overflow_y": null,
       "padding": null,
       "right": null,
       "top": null,
       "visibility": null,
       "width": null
      }
     },
     "52783205ac0d4159a020a4c5d1e9088d": {
      "model_module": "@jupyter-widgets/controls",
      "model_module_version": "1.5.0",
      "model_name": "FloatProgressModel",
      "state": {
       "_dom_classes": [],
       "_model_module": "@jupyter-widgets/controls",
       "_model_module_version": "1.5.0",
       "_model_name": "FloatProgressModel",
       "_view_count": null,
       "_view_module": "@jupyter-widgets/controls",
       "_view_module_version": "1.5.0",
       "_view_name": "ProgressView",
       "bar_style": "success",
       "description": "",
       "description_tooltip": null,
       "layout": "IPY_MODEL_67dcf68af6ec4c78a89f954bd63c6514",
       "max": 231508.0,
       "min": 0.0,
       "orientation": "horizontal",
       "style": "IPY_MODEL_3f11fdf315e348bd931c61b461c4a1e8",
       "value": 231508.0
      }
     },
     "577ff7124096405d8cd40060d4d1ff59": {
      "model_module": "@jupyter-widgets/base",
      "model_module_version": "1.2.0",
      "model_name": "LayoutModel",
      "state": {
       "_model_module": "@jupyter-widgets/base",
       "_model_module_version": "1.2.0",
       "_model_name": "LayoutModel",
       "_view_count": null,
       "_view_module": "@jupyter-widgets/base",
       "_view_module_version": "1.2.0",
       "_view_name": "LayoutView",
       "align_content": null,
       "align_items": null,
       "align_self": null,
       "border": null,
       "bottom": null,
       "display": null,
       "flex": null,
       "flex_flow": null,
       "grid_area": null,
       "grid_auto_columns": null,
       "grid_auto_flow": null,
       "grid_auto_rows": null,
       "grid_column": null,
       "grid_gap": null,
       "grid_row": null,
       "grid_template_areas": null,
       "grid_template_columns": null,
       "grid_template_rows": null,
       "height": null,
       "justify_content": null,
       "justify_items": null,
       "left": null,
       "margin": null,
       "max_height": null,
       "max_width": null,
       "min_height": null,
       "min_width": null,
       "object_fit": null,
       "object_position": null,
       "order": null,
       "overflow": null,
       "overflow_x": null,
       "overflow_y": null,
       "padding": null,
       "right": null,
       "top": null,
       "visibility": null,
       "width": null
      }
     },
     "58d1a525538346eeb9b29f09d845706e": {
      "model_module": "@jupyter-widgets/controls",
      "model_module_version": "1.5.0",
      "model_name": "DescriptionStyleModel",
      "state": {
       "_model_module": "@jupyter-widgets/controls",
       "_model_module_version": "1.5.0",
       "_model_name": "DescriptionStyleModel",
       "_view_count": null,
       "_view_module": "@jupyter-widgets/base",
       "_view_module_version": "1.2.0",
       "_view_name": "StyleView",
       "description_width": ""
      }
     },
     "674570743be54f5abaff61b3f6576a6e": {
      "model_module": "@jupyter-widgets/base",
      "model_module_version": "1.2.0",
      "model_name": "LayoutModel",
      "state": {
       "_model_module": "@jupyter-widgets/base",
       "_model_module_version": "1.2.0",
       "_model_name": "LayoutModel",
       "_view_count": null,
       "_view_module": "@jupyter-widgets/base",
       "_view_module_version": "1.2.0",
       "_view_name": "LayoutView",
       "align_content": null,
       "align_items": null,
       "align_self": null,
       "border": null,
       "bottom": null,
       "display": null,
       "flex": null,
       "flex_flow": null,
       "grid_area": null,
       "grid_auto_columns": null,
       "grid_auto_flow": null,
       "grid_auto_rows": null,
       "grid_column": null,
       "grid_gap": null,
       "grid_row": null,
       "grid_template_areas": null,
       "grid_template_columns": null,
       "grid_template_rows": null,
       "height": null,
       "justify_content": null,
       "justify_items": null,
       "left": null,
       "margin": null,
       "max_height": null,
       "max_width": null,
       "min_height": null,
       "min_width": null,
       "object_fit": null,
       "object_position": null,
       "order": null,
       "overflow": null,
       "overflow_x": null,
       "overflow_y": null,
       "padding": null,
       "right": null,
       "top": null,
       "visibility": null,
       "width": null
      }
     },
     "67dcf68af6ec4c78a89f954bd63c6514": {
      "model_module": "@jupyter-widgets/base",
      "model_module_version": "1.2.0",
      "model_name": "LayoutModel",
      "state": {
       "_model_module": "@jupyter-widgets/base",
       "_model_module_version": "1.2.0",
       "_model_name": "LayoutModel",
       "_view_count": null,
       "_view_module": "@jupyter-widgets/base",
       "_view_module_version": "1.2.0",
       "_view_name": "LayoutView",
       "align_content": null,
       "align_items": null,
       "align_self": null,
       "border": null,
       "bottom": null,
       "display": null,
       "flex": null,
       "flex_flow": null,
       "grid_area": null,
       "grid_auto_columns": null,
       "grid_auto_flow": null,
       "grid_auto_rows": null,
       "grid_column": null,
       "grid_gap": null,
       "grid_row": null,
       "grid_template_areas": null,
       "grid_template_columns": null,
       "grid_template_rows": null,
       "height": null,
       "justify_content": null,
       "justify_items": null,
       "left": null,
       "margin": null,
       "max_height": null,
       "max_width": null,
       "min_height": null,
       "min_width": null,
       "object_fit": null,
       "object_position": null,
       "order": null,
       "overflow": null,
       "overflow_x": null,
       "overflow_y": null,
       "padding": null,
       "right": null,
       "top": null,
       "visibility": null,
       "width": null
      }
     },
     "6dd4b631a7ee4f8a99b183171a9071f6": {
      "model_module": "@jupyter-widgets/controls",
      "model_module_version": "1.5.0",
      "model_name": "HTMLModel",
      "state": {
       "_dom_classes": [],
       "_model_module": "@jupyter-widgets/controls",
       "_model_module_version": "1.5.0",
       "_model_name": "HTMLModel",
       "_view_count": null,
       "_view_module": "@jupyter-widgets/controls",
       "_view_module_version": "1.5.0",
       "_view_name": "HTMLView",
       "description": "",
       "description_tooltip": null,
       "layout": "IPY_MODEL_3052cebbc5e84260b6a9d8bce3fc65c3",
       "placeholder": "​",
       "style": "IPY_MODEL_af8bc097dea14e25a979fac7c45186a7",
       "value": "tokenizer_config.json: 100%"
      }
     },
     "71b7fe2697714b24972fd7d75b4a2f85": {
      "model_module": "@jupyter-widgets/controls",
      "model_module_version": "1.5.0",
      "model_name": "HBoxModel",
      "state": {
       "_dom_classes": [],
       "_model_module": "@jupyter-widgets/controls",
       "_model_module_version": "1.5.0",
       "_model_name": "HBoxModel",
       "_view_count": null,
       "_view_module": "@jupyter-widgets/controls",
       "_view_module_version": "1.5.0",
       "_view_name": "HBoxView",
       "box_style": "",
       "children": [
        "IPY_MODEL_ff42f1c8b2f84b2bba14fd89510a1f65",
        "IPY_MODEL_ee6a66353e7b40b486d003710e5d59fa",
        "IPY_MODEL_3f7b7dc4fa934a1191c2de9351d86877"
       ],
       "layout": "IPY_MODEL_577ff7124096405d8cd40060d4d1ff59"
      }
     },
     "732e4b9a2f4d47f492e1ba64e7d2692c": {
      "model_module": "@jupyter-widgets/base",
      "model_module_version": "1.2.0",
      "model_name": "LayoutModel",
      "state": {
       "_model_module": "@jupyter-widgets/base",
       "_model_module_version": "1.2.0",
       "_model_name": "LayoutModel",
       "_view_count": null,
       "_view_module": "@jupyter-widgets/base",
       "_view_module_version": "1.2.0",
       "_view_name": "LayoutView",
       "align_content": null,
       "align_items": null,
       "align_self": null,
       "border": null,
       "bottom": null,
       "display": null,
       "flex": null,
       "flex_flow": null,
       "grid_area": null,
       "grid_auto_columns": null,
       "grid_auto_flow": null,
       "grid_auto_rows": null,
       "grid_column": null,
       "grid_gap": null,
       "grid_row": null,
       "grid_template_areas": null,
       "grid_template_columns": null,
       "grid_template_rows": null,
       "height": null,
       "justify_content": null,
       "justify_items": null,
       "left": null,
       "margin": null,
       "max_height": null,
       "max_width": null,
       "min_height": null,
       "min_width": null,
       "object_fit": null,
       "object_position": null,
       "order": null,
       "overflow": null,
       "overflow_x": null,
       "overflow_y": null,
       "padding": null,
       "right": null,
       "top": null,
       "visibility": null,
       "width": null
      }
     },
     "7ebf8a73b0144639a7409b1f34af9681": {
      "model_module": "@jupyter-widgets/base",
      "model_module_version": "1.2.0",
      "model_name": "LayoutModel",
      "state": {
       "_model_module": "@jupyter-widgets/base",
       "_model_module_version": "1.2.0",
       "_model_name": "LayoutModel",
       "_view_count": null,
       "_view_module": "@jupyter-widgets/base",
       "_view_module_version": "1.2.0",
       "_view_name": "LayoutView",
       "align_content": null,
       "align_items": null,
       "align_self": null,
       "border": null,
       "bottom": null,
       "display": null,
       "flex": null,
       "flex_flow": null,
       "grid_area": null,
       "grid_auto_columns": null,
       "grid_auto_flow": null,
       "grid_auto_rows": null,
       "grid_column": null,
       "grid_gap": null,
       "grid_row": null,
       "grid_template_areas": null,
       "grid_template_columns": null,
       "grid_template_rows": null,
       "height": null,
       "justify_content": null,
       "justify_items": null,
       "left": null,
       "margin": null,
       "max_height": null,
       "max_width": null,
       "min_height": null,
       "min_width": null,
       "object_fit": null,
       "object_position": null,
       "order": null,
       "overflow": null,
       "overflow_x": null,
       "overflow_y": null,
       "padding": null,
       "right": null,
       "top": null,
       "visibility": null,
       "width": null
      }
     },
     "92975085535b462e89a97900bc34fbad": {
      "model_module": "@jupyter-widgets/controls",
      "model_module_version": "1.5.0",
      "model_name": "ProgressStyleModel",
      "state": {
       "_model_module": "@jupyter-widgets/controls",
       "_model_module_version": "1.5.0",
       "_model_name": "ProgressStyleModel",
       "_view_count": null,
       "_view_module": "@jupyter-widgets/base",
       "_view_module_version": "1.2.0",
       "_view_name": "StyleView",
       "bar_color": null,
       "description_width": ""
      }
     },
     "946866d8543a48559e643d3f577b59b0": {
      "model_module": "@jupyter-widgets/controls",
      "model_module_version": "1.5.0",
      "model_name": "FloatProgressModel",
      "state": {
       "_dom_classes": [],
       "_model_module": "@jupyter-widgets/controls",
       "_model_module_version": "1.5.0",
       "_model_name": "FloatProgressModel",
       "_view_count": null,
       "_view_module": "@jupyter-widgets/controls",
       "_view_module_version": "1.5.0",
       "_view_name": "ProgressView",
       "bar_style": "success",
       "description": "",
       "description_tooltip": null,
       "layout": "IPY_MODEL_301ce16a60ca496eb06e466650b4100d",
       "max": 570.0,
       "min": 0.0,
       "orientation": "horizontal",
       "style": "IPY_MODEL_fa902d5424944b3da5da75a4258c9128",
       "value": 570.0
      }
     },
     "a031ce9c1ebb490a9dadb91e49b18be2": {
      "model_module": "@jupyter-widgets/base",
      "model_module_version": "1.2.0",
      "model_name": "LayoutModel",
      "state": {
       "_model_module": "@jupyter-widgets/base",
       "_model_module_version": "1.2.0",
       "_model_name": "LayoutModel",
       "_view_count": null,
       "_view_module": "@jupyter-widgets/base",
       "_view_module_version": "1.2.0",
       "_view_name": "LayoutView",
       "align_content": null,
       "align_items": null,
       "align_self": null,
       "border": null,
       "bottom": null,
       "display": null,
       "flex": null,
       "flex_flow": null,
       "grid_area": null,
       "grid_auto_columns": null,
       "grid_auto_flow": null,
       "grid_auto_rows": null,
       "grid_column": null,
       "grid_gap": null,
       "grid_row": null,
       "grid_template_areas": null,
       "grid_template_columns": null,
       "grid_template_rows": null,
       "height": null,
       "justify_content": null,
       "justify_items": null,
       "left": null,
       "margin": null,
       "max_height": null,
       "max_width": null,
       "min_height": null,
       "min_width": null,
       "object_fit": null,
       "object_position": null,
       "order": null,
       "overflow": null,
       "overflow_x": null,
       "overflow_y": null,
       "padding": null,
       "right": null,
       "top": null,
       "visibility": null,
       "width": null
      }
     },
     "a105ca7d6ce44a23a44422b81cb1e29e": {
      "model_module": "@jupyter-widgets/controls",
      "model_module_version": "1.5.0",
      "model_name": "HBoxModel",
      "state": {
       "_dom_classes": [],
       "_model_module": "@jupyter-widgets/controls",
       "_model_module_version": "1.5.0",
       "_model_name": "HBoxModel",
       "_view_count": null,
       "_view_module": "@jupyter-widgets/controls",
       "_view_module_version": "1.5.0",
       "_view_name": "HBoxView",
       "box_style": "",
       "children": [
        "IPY_MODEL_bb5e69e151b14b8294133fea52b0c6eb",
        "IPY_MODEL_52783205ac0d4159a020a4c5d1e9088d",
        "IPY_MODEL_017e692c2cc440f5ac1f542086446c37"
       ],
       "layout": "IPY_MODEL_d5aa6e55cafa4628b0829deb46f11829"
      }
     },
     "a22cd4be9b324f1a9f7756415d4132af": {
      "model_module": "@jupyter-widgets/base",
      "model_module_version": "1.2.0",
      "model_name": "LayoutModel",
      "state": {
       "_model_module": "@jupyter-widgets/base",
       "_model_module_version": "1.2.0",
       "_model_name": "LayoutModel",
       "_view_count": null,
       "_view_module": "@jupyter-widgets/base",
       "_view_module_version": "1.2.0",
       "_view_name": "LayoutView",
       "align_content": null,
       "align_items": null,
       "align_self": null,
       "border": null,
       "bottom": null,
       "display": null,
       "flex": null,
       "flex_flow": null,
       "grid_area": null,
       "grid_auto_columns": null,
       "grid_auto_flow": null,
       "grid_auto_rows": null,
       "grid_column": null,
       "grid_gap": null,
       "grid_row": null,
       "grid_template_areas": null,
       "grid_template_columns": null,
       "grid_template_rows": null,
       "height": null,
       "justify_content": null,
       "justify_items": null,
       "left": null,
       "margin": null,
       "max_height": null,
       "max_width": null,
       "min_height": null,
       "min_width": null,
       "object_fit": null,
       "object_position": null,
       "order": null,
       "overflow": null,
       "overflow_x": null,
       "overflow_y": null,
       "padding": null,
       "right": null,
       "top": null,
       "visibility": null,
       "width": null
      }
     },
     "a45daeff98864eddaf114d7bcde9eed0": {
      "model_module": "@jupyter-widgets/controls",
      "model_module_version": "1.5.0",
      "model_name": "HTMLModel",
      "state": {
       "_dom_classes": [],
       "_model_module": "@jupyter-widgets/controls",
       "_model_module_version": "1.5.0",
       "_model_name": "HTMLModel",
       "_view_count": null,
       "_view_module": "@jupyter-widgets/controls",
       "_view_module_version": "1.5.0",
       "_view_name": "HTMLView",
       "description": "",
       "description_tooltip": null,
       "layout": "IPY_MODEL_4cd2ad3291fb4adc8792a7102f4617e4",
       "placeholder": "​",
       "style": "IPY_MODEL_4e5fb12bd78849b28573fc46f94f8406",
       "value": " 570/570 [00:00&lt;00:00, 50.7kB/s]"
      }
     },
     "a6a7741e9a2d4ffdafc216144035930d": {
      "model_module": "@jupyter-widgets/controls",
      "model_module_version": "1.5.0",
      "model_name": "HTMLModel",
      "state": {
       "_dom_classes": [],
       "_model_module": "@jupyter-widgets/controls",
       "_model_module_version": "1.5.0",
       "_model_name": "HTMLModel",
       "_view_count": null,
       "_view_module": "@jupyter-widgets/controls",
       "_view_module_version": "1.5.0",
       "_view_name": "HTMLView",
       "description": "",
       "description_tooltip": null,
       "layout": "IPY_MODEL_2397949e67a244d7b0b870dec6517979",
       "placeholder": "​",
       "style": "IPY_MODEL_ff50ca8e2bf547c291aa22450ca28597",
       "value": "config.json: 100%"
      }
     },
     "a712a8e6f5f54898beef6a982267ef3c": {
      "model_module": "@jupyter-widgets/controls",
      "model_module_version": "1.5.0",
      "model_name": "ProgressStyleModel",
      "state": {
       "_model_module": "@jupyter-widgets/controls",
       "_model_module_version": "1.5.0",
       "_model_name": "ProgressStyleModel",
       "_view_count": null,
       "_view_module": "@jupyter-widgets/base",
       "_view_module_version": "1.2.0",
       "_view_name": "StyleView",
       "bar_color": null,
       "description_width": ""
      }
     },
     "a9b60c8ee9464255be2036d24538b0ce": {
      "model_module": "@jupyter-widgets/controls",
      "model_module_version": "1.5.0",
      "model_name": "DescriptionStyleModel",
      "state": {
       "_model_module": "@jupyter-widgets/controls",
       "_model_module_version": "1.5.0",
       "_model_name": "DescriptionStyleModel",
       "_view_count": null,
       "_view_module": "@jupyter-widgets/base",
       "_view_module_version": "1.2.0",
       "_view_name": "StyleView",
       "description_width": ""
      }
     },
     "af8bc097dea14e25a979fac7c45186a7": {
      "model_module": "@jupyter-widgets/controls",
      "model_module_version": "1.5.0",
      "model_name": "DescriptionStyleModel",
      "state": {
       "_model_module": "@jupyter-widgets/controls",
       "_model_module_version": "1.5.0",
       "_model_name": "DescriptionStyleModel",
       "_view_count": null,
       "_view_module": "@jupyter-widgets/base",
       "_view_module_version": "1.2.0",
       "_view_name": "StyleView",
       "description_width": ""
      }
     },
     "b47bbd16f569458287d7c3b6507a7f76": {
      "model_module": "@jupyter-widgets/controls",
      "model_module_version": "1.5.0",
      "model_name": "DescriptionStyleModel",
      "state": {
       "_model_module": "@jupyter-widgets/controls",
       "_model_module_version": "1.5.0",
       "_model_name": "DescriptionStyleModel",
       "_view_count": null,
       "_view_module": "@jupyter-widgets/base",
       "_view_module_version": "1.2.0",
       "_view_name": "StyleView",
       "description_width": ""
      }
     },
     "b58f98b762964181bc97b55e3cfbfef7": {
      "model_module": "@jupyter-widgets/controls",
      "model_module_version": "1.5.0",
      "model_name": "DescriptionStyleModel",
      "state": {
       "_model_module": "@jupyter-widgets/controls",
       "_model_module_version": "1.5.0",
       "_model_name": "DescriptionStyleModel",
       "_view_count": null,
       "_view_module": "@jupyter-widgets/base",
       "_view_module_version": "1.2.0",
       "_view_name": "StyleView",
       "description_width": ""
      }
     },
     "b93fa4da377249b8ace290f71b8d16f6": {
      "model_module": "@jupyter-widgets/base",
      "model_module_version": "1.2.0",
      "model_name": "LayoutModel",
      "state": {
       "_model_module": "@jupyter-widgets/base",
       "_model_module_version": "1.2.0",
       "_model_name": "LayoutModel",
       "_view_count": null,
       "_view_module": "@jupyter-widgets/base",
       "_view_module_version": "1.2.0",
       "_view_name": "LayoutView",
       "align_content": null,
       "align_items": null,
       "align_self": null,
       "border": null,
       "bottom": null,
       "display": null,
       "flex": null,
       "flex_flow": null,
       "grid_area": null,
       "grid_auto_columns": null,
       "grid_auto_flow": null,
       "grid_auto_rows": null,
       "grid_column": null,
       "grid_gap": null,
       "grid_row": null,
       "grid_template_areas": null,
       "grid_template_columns": null,
       "grid_template_rows": null,
       "height": null,
       "justify_content": null,
       "justify_items": null,
       "left": null,
       "margin": null,
       "max_height": null,
       "max_width": null,
       "min_height": null,
       "min_width": null,
       "object_fit": null,
       "object_position": null,
       "order": null,
       "overflow": null,
       "overflow_x": null,
       "overflow_y": null,
       "padding": null,
       "right": null,
       "top": null,
       "visibility": null,
       "width": null
      }
     },
     "bb5e69e151b14b8294133fea52b0c6eb": {
      "model_module": "@jupyter-widgets/controls",
      "model_module_version": "1.5.0",
      "model_name": "HTMLModel",
      "state": {
       "_dom_classes": [],
       "_model_module": "@jupyter-widgets/controls",
       "_model_module_version": "1.5.0",
       "_model_name": "HTMLModel",
       "_view_count": null,
       "_view_module": "@jupyter-widgets/controls",
       "_view_module_version": "1.5.0",
       "_view_name": "HTMLView",
       "description": "",
       "description_tooltip": null,
       "layout": "IPY_MODEL_49f4affcc7b04b868d55b424a1c4f2b4",
       "placeholder": "​",
       "style": "IPY_MODEL_58d1a525538346eeb9b29f09d845706e",
       "value": "vocab.txt: 100%"
      }
     },
     "c0d4e7319044458ab84da43191db2e37": {
      "model_module": "@jupyter-widgets/controls",
      "model_module_version": "1.5.0",
      "model_name": "FloatProgressModel",
      "state": {
       "_dom_classes": [],
       "_model_module": "@jupyter-widgets/controls",
       "_model_module_version": "1.5.0",
       "_model_name": "FloatProgressModel",
       "_view_count": null,
       "_view_module": "@jupyter-widgets/controls",
       "_view_module_version": "1.5.0",
       "_view_name": "ProgressView",
       "bar_style": "success",
       "description": "",
       "description_tooltip": null,
       "layout": "IPY_MODEL_a22cd4be9b324f1a9f7756415d4132af",
       "max": 48.0,
       "min": 0.0,
       "orientation": "horizontal",
       "style": "IPY_MODEL_1d6cb60d66df41b0911d8b0a96118380",
       "value": 48.0
      }
     },
     "c320e311f83f49a69f8b28cea2722337": {
      "model_module": "@jupyter-widgets/base",
      "model_module_version": "1.2.0",
      "model_name": "LayoutModel",
      "state": {
       "_model_module": "@jupyter-widgets/base",
       "_model_module_version": "1.2.0",
       "_model_name": "LayoutModel",
       "_view_count": null,
       "_view_module": "@jupyter-widgets/base",
       "_view_module_version": "1.2.0",
       "_view_name": "LayoutView",
       "align_content": null,
       "align_items": null,
       "align_self": null,
       "border": null,
       "bottom": null,
       "display": null,
       "flex": null,
       "flex_flow": null,
       "grid_area": null,
       "grid_auto_columns": null,
       "grid_auto_flow": null,
       "grid_auto_rows": null,
       "grid_column": null,
       "grid_gap": null,
       "grid_row": null,
       "grid_template_areas": null,
       "grid_template_columns": null,
       "grid_template_rows": null,
       "height": null,
       "justify_content": null,
       "justify_items": null,
       "left": null,
       "margin": null,
       "max_height": null,
       "max_width": null,
       "min_height": null,
       "min_width": null,
       "object_fit": null,
       "object_position": null,
       "order": null,
       "overflow": null,
       "overflow_x": null,
       "overflow_y": null,
       "padding": null,
       "right": null,
       "top": null,
       "visibility": null,
       "width": null
      }
     },
     "c58f5b954268441ba048d40e29e0eaa8": {
      "model_module": "@jupyter-widgets/base",
      "model_module_version": "1.2.0",
      "model_name": "LayoutModel",
      "state": {
       "_model_module": "@jupyter-widgets/base",
       "_model_module_version": "1.2.0",
       "_model_name": "LayoutModel",
       "_view_count": null,
       "_view_module": "@jupyter-widgets/base",
       "_view_module_version": "1.2.0",
       "_view_name": "LayoutView",
       "align_content": null,
       "align_items": null,
       "align_self": null,
       "border": null,
       "bottom": null,
       "display": null,
       "flex": null,
       "flex_flow": null,
       "grid_area": null,
       "grid_auto_columns": null,
       "grid_auto_flow": null,
       "grid_auto_rows": null,
       "grid_column": null,
       "grid_gap": null,
       "grid_row": null,
       "grid_template_areas": null,
       "grid_template_columns": null,
       "grid_template_rows": null,
       "height": null,
       "justify_content": null,
       "justify_items": null,
       "left": null,
       "margin": null,
       "max_height": null,
       "max_width": null,
       "min_height": null,
       "min_width": null,
       "object_fit": null,
       "object_position": null,
       "order": null,
       "overflow": null,
       "overflow_x": null,
       "overflow_y": null,
       "padding": null,
       "right": null,
       "top": null,
       "visibility": null,
       "width": null
      }
     },
     "d4e3bc74b53c47e388bb9171cad64f3c": {
      "model_module": "@jupyter-widgets/controls",
      "model_module_version": "1.5.0",
      "model_name": "HBoxModel",
      "state": {
       "_dom_classes": [],
       "_model_module": "@jupyter-widgets/controls",
       "_model_module_version": "1.5.0",
       "_model_name": "HBoxModel",
       "_view_count": null,
       "_view_module": "@jupyter-widgets/controls",
       "_view_module_version": "1.5.0",
       "_view_name": "HBoxView",
       "box_style": "",
       "children": [
        "IPY_MODEL_03f55024ea9a4489a9e8b6f159fa731f",
        "IPY_MODEL_e97c7bc9fd554d32b83f6234988756b8",
        "IPY_MODEL_2cd935dc0a0e4fe79dab332e7b0d5f5e"
       ],
       "layout": "IPY_MODEL_a031ce9c1ebb490a9dadb91e49b18be2"
      }
     },
     "d5aa6e55cafa4628b0829deb46f11829": {
      "model_module": "@jupyter-widgets/base",
      "model_module_version": "1.2.0",
      "model_name": "LayoutModel",
      "state": {
       "_model_module": "@jupyter-widgets/base",
       "_model_module_version": "1.2.0",
       "_model_name": "LayoutModel",
       "_view_count": null,
       "_view_module": "@jupyter-widgets/base",
       "_view_module_version": "1.2.0",
       "_view_name": "LayoutView",
       "align_content": null,
       "align_items": null,
       "align_self": null,
       "border": null,
       "bottom": null,
       "display": null,
       "flex": null,
       "flex_flow": null,
       "grid_area": null,
       "grid_auto_columns": null,
       "grid_auto_flow": null,
       "grid_auto_rows": null,
       "grid_column": null,
       "grid_gap": null,
       "grid_row": null,
       "grid_template_areas": null,
       "grid_template_columns": null,
       "grid_template_rows": null,
       "height": null,
       "justify_content": null,
       "justify_items": null,
       "left": null,
       "margin": null,
       "max_height": null,
       "max_width": null,
       "min_height": null,
       "min_width": null,
       "object_fit": null,
       "object_position": null,
       "order": null,
       "overflow": null,
       "overflow_x": null,
       "overflow_y": null,
       "padding": null,
       "right": null,
       "top": null,
       "visibility": null,
       "width": null
      }
     },
     "d67017b8bd4445e9958af4ab3223a321": {
      "model_module": "@jupyter-widgets/controls",
      "model_module_version": "1.5.0",
      "model_name": "DescriptionStyleModel",
      "state": {
       "_model_module": "@jupyter-widgets/controls",
       "_model_module_version": "1.5.0",
       "_model_name": "DescriptionStyleModel",
       "_view_count": null,
       "_view_module": "@jupyter-widgets/base",
       "_view_module_version": "1.2.0",
       "_view_name": "StyleView",
       "description_width": ""
      }
     },
     "e5d828ac8cec4bd29ed6dc511f8a2246": {
      "model_module": "@jupyter-widgets/controls",
      "model_module_version": "1.5.0",
      "model_name": "DescriptionStyleModel",
      "state": {
       "_model_module": "@jupyter-widgets/controls",
       "_model_module_version": "1.5.0",
       "_model_name": "DescriptionStyleModel",
       "_view_count": null,
       "_view_module": "@jupyter-widgets/base",
       "_view_module_version": "1.2.0",
       "_view_name": "StyleView",
       "description_width": ""
      }
     },
     "e97c7bc9fd554d32b83f6234988756b8": {
      "model_module": "@jupyter-widgets/controls",
      "model_module_version": "1.5.0",
      "model_name": "FloatProgressModel",
      "state": {
       "_dom_classes": [],
       "_model_module": "@jupyter-widgets/controls",
       "_model_module_version": "1.5.0",
       "_model_name": "FloatProgressModel",
       "_view_count": null,
       "_view_module": "@jupyter-widgets/controls",
       "_view_module_version": "1.5.0",
       "_view_name": "ProgressView",
       "bar_style": "success",
       "description": "",
       "description_tooltip": null,
       "layout": "IPY_MODEL_674570743be54f5abaff61b3f6576a6e",
       "max": 466062.0,
       "min": 0.0,
       "orientation": "horizontal",
       "style": "IPY_MODEL_a712a8e6f5f54898beef6a982267ef3c",
       "value": 466062.0
      }
     },
     "ee6a66353e7b40b486d003710e5d59fa": {
      "model_module": "@jupyter-widgets/controls",
      "model_module_version": "1.5.0",
      "model_name": "FloatProgressModel",
      "state": {
       "_dom_classes": [],
       "_model_module": "@jupyter-widgets/controls",
       "_model_module_version": "1.5.0",
       "_model_name": "FloatProgressModel",
       "_view_count": null,
       "_view_module": "@jupyter-widgets/controls",
       "_view_module_version": "1.5.0",
       "_view_name": "ProgressView",
       "bar_style": "success",
       "description": "",
       "description_tooltip": null,
       "layout": "IPY_MODEL_4ffd0d776b2d464b84b40fb7ea7ffb0c",
       "max": 440449768.0,
       "min": 0.0,
       "orientation": "horizontal",
       "style": "IPY_MODEL_92975085535b462e89a97900bc34fbad",
       "value": 440449768.0
      }
     },
     "fa902d5424944b3da5da75a4258c9128": {
      "model_module": "@jupyter-widgets/controls",
      "model_module_version": "1.5.0",
      "model_name": "ProgressStyleModel",
      "state": {
       "_model_module": "@jupyter-widgets/controls",
       "_model_module_version": "1.5.0",
       "_model_name": "ProgressStyleModel",
       "_view_count": null,
       "_view_module": "@jupyter-widgets/base",
       "_view_module_version": "1.2.0",
       "_view_name": "StyleView",
       "bar_color": null,
       "description_width": ""
      }
     },
     "ff42f1c8b2f84b2bba14fd89510a1f65": {
      "model_module": "@jupyter-widgets/controls",
      "model_module_version": "1.5.0",
      "model_name": "HTMLModel",
      "state": {
       "_dom_classes": [],
       "_model_module": "@jupyter-widgets/controls",
       "_model_module_version": "1.5.0",
       "_model_name": "HTMLModel",
       "_view_count": null,
       "_view_module": "@jupyter-widgets/controls",
       "_view_module_version": "1.5.0",
       "_view_name": "HTMLView",
       "description": "",
       "description_tooltip": null,
       "layout": "IPY_MODEL_732e4b9a2f4d47f492e1ba64e7d2692c",
       "placeholder": "​",
       "style": "IPY_MODEL_a9b60c8ee9464255be2036d24538b0ce",
       "value": "model.safetensors: 100%"
      }
     },
     "ff50ca8e2bf547c291aa22450ca28597": {
      "model_module": "@jupyter-widgets/controls",
      "model_module_version": "1.5.0",
      "model_name": "DescriptionStyleModel",
      "state": {
       "_model_module": "@jupyter-widgets/controls",
       "_model_module_version": "1.5.0",
       "_model_name": "DescriptionStyleModel",
       "_view_count": null,
       "_view_module": "@jupyter-widgets/base",
       "_view_module_version": "1.2.0",
       "_view_name": "StyleView",
       "description_width": ""
      }
     }
    },
    "version_major": 2,
    "version_minor": 0
   }
  }
 },
 "nbformat": 4,
 "nbformat_minor": 5
}
