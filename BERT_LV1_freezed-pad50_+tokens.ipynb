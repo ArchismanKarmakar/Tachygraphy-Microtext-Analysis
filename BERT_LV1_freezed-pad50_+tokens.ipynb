{
 "cells": [
  {
   "cell_type": "code",
   "execution_count": 1,
   "id": "c34e68b2",
   "metadata": {
    "_cell_guid": "b1076dfc-b9ad-4769-8c92-a6c4dae69d19",
    "_uuid": "8f2839f25d086af736a60e9eeb907d3b93b6e0e5",
    "execution": {
     "iopub.execute_input": "2024-08-17T19:51:51.384951Z",
     "iopub.status.busy": "2024-08-17T19:51:51.384244Z",
     "iopub.status.idle": "2024-08-17T19:51:52.183640Z",
     "shell.execute_reply": "2024-08-17T19:51:52.182776Z"
    },
    "papermill": {
     "duration": 0.815074,
     "end_time": "2024-08-17T19:51:52.185734",
     "exception": false,
     "start_time": "2024-08-17T19:51:51.370660",
     "status": "completed"
    },
    "tags": []
   },
   "outputs": [
    {
     "name": "stdout",
     "output_type": "stream",
     "text": [
      "/kaggle/input/dataset-tachygraphy/Tachygraphy_dataset_main.csv\n"
     ]
    }
   ],
   "source": [
    "# This Python 3 environment comes with many helpful analytics libraries installed\n",
    "# It is defined by the kaggle/python Docker image: https://github.com/kaggle/docker-python\n",
    "# For example, here's several helpful packages to load\n",
    "\n",
    "import numpy as np # linear algebra\n",
    "import pandas as pd # data processing, CSV file I/O (e.g. pd.read_csv)\n",
    "\n",
    "# Input data files are available in the read-only \"../input/\" directory\n",
    "# For example, running this (by clicking run or pressing Shift+Enter) will list all files under the input directory\n",
    "\n",
    "import os\n",
    "for dirname, _, filenames in os.walk('/kaggle/input'):\n",
    "    for filename in filenames:\n",
    "        print(os.path.join(dirname, filename))\n",
    "\n",
    "# You can write up to 20GB to the current directory (/kaggle/working/) that gets preserved as output when you create a version using \"Save & Run All\" \n",
    "# You can also write temporary files to /kaggle/temp/, but they won't be saved outside of the current session"
   ]
  },
  {
   "cell_type": "code",
   "execution_count": 2,
   "id": "b8a26c28",
   "metadata": {
    "execution": {
     "iopub.execute_input": "2024-08-17T19:51:52.211121Z",
     "iopub.status.busy": "2024-08-17T19:51:52.210713Z",
     "iopub.status.idle": "2024-08-17T19:51:56.301100Z",
     "shell.execute_reply": "2024-08-17T19:51:56.300227Z"
    },
    "papermill": {
     "duration": 4.10524,
     "end_time": "2024-08-17T19:51:56.303382",
     "exception": false,
     "start_time": "2024-08-17T19:51:52.198142",
     "status": "completed"
    },
    "tags": []
   },
   "outputs": [],
   "source": [
    "import torch\n",
    "device = torch.device(\"cuda\" if torch.cuda.is_available() else \"cpu\")"
   ]
  },
  {
   "cell_type": "code",
   "execution_count": 3,
   "id": "020c8cc4",
   "metadata": {
    "execution": {
     "iopub.execute_input": "2024-08-17T19:51:56.329178Z",
     "iopub.status.busy": "2024-08-17T19:51:56.328743Z",
     "iopub.status.idle": "2024-08-17T19:51:58.113394Z",
     "shell.execute_reply": "2024-08-17T19:51:58.112635Z"
    },
    "papermill": {
     "duration": 1.800057,
     "end_time": "2024-08-17T19:51:58.115717",
     "exception": false,
     "start_time": "2024-08-17T19:51:56.315660",
     "status": "completed"
    },
    "tags": []
   },
   "outputs": [],
   "source": [
    "import numpy as np\n",
    "import pandas as pd\n",
    "import re\n",
    "from nltk.corpus import stopwords\n",
    "from nltk.stem.porter import PorterStemmer\n",
    "from sklearn.feature_extraction.text import TfidfVectorizer"
   ]
  },
  {
   "cell_type": "code",
   "execution_count": 4,
   "id": "5457e442",
   "metadata": {
    "execution": {
     "iopub.execute_input": "2024-08-17T19:51:58.142641Z",
     "iopub.status.busy": "2024-08-17T19:51:58.141859Z",
     "iopub.status.idle": "2024-08-17T19:51:58.224416Z",
     "shell.execute_reply": "2024-08-17T19:51:58.223554Z"
    },
    "papermill": {
     "duration": 0.097388,
     "end_time": "2024-08-17T19:51:58.226488",
     "exception": false,
     "start_time": "2024-08-17T19:51:58.129100",
     "status": "completed"
    },
    "tags": []
   },
   "outputs": [
    {
     "name": "stdout",
     "output_type": "stream",
     "text": [
      "[nltk_data] Downloading package stopwords to /usr/share/nltk_data...\n",
      "[nltk_data]   Package stopwords is already up-to-date!\n"
     ]
    },
    {
     "data": {
      "text/plain": [
       "True"
      ]
     },
     "execution_count": 4,
     "metadata": {},
     "output_type": "execute_result"
    }
   ],
   "source": [
    "import nltk\n",
    "nltk.download('stopwords')"
   ]
  },
  {
   "cell_type": "code",
   "execution_count": 5,
   "id": "45bd1951",
   "metadata": {
    "execution": {
     "iopub.execute_input": "2024-08-17T19:51:58.251897Z",
     "iopub.status.busy": "2024-08-17T19:51:58.251622Z",
     "iopub.status.idle": "2024-08-17T19:51:58.305313Z",
     "shell.execute_reply": "2024-08-17T19:51:58.304413Z"
    },
    "papermill": {
     "duration": 0.069055,
     "end_time": "2024-08-17T19:51:58.307595",
     "exception": false,
     "start_time": "2024-08-17T19:51:58.238540",
     "status": "completed"
    },
    "tags": []
   },
   "outputs": [
    {
     "data": {
      "text/plain": [
       "(4958, 3)"
      ]
     },
     "execution_count": 5,
     "metadata": {},
     "output_type": "execute_result"
    }
   ],
   "source": [
    "df=pd.read_csv(\"/kaggle/input/dataset-tachygraphy/Tachygraphy_dataset_main.csv\")\n",
    "df.shape"
   ]
  },
  {
   "cell_type": "code",
   "execution_count": 6,
   "id": "63ae5880",
   "metadata": {
    "execution": {
     "iopub.execute_input": "2024-08-17T19:51:58.334138Z",
     "iopub.status.busy": "2024-08-17T19:51:58.333806Z",
     "iopub.status.idle": "2024-08-17T19:51:58.350850Z",
     "shell.execute_reply": "2024-08-17T19:51:58.350003Z"
    },
    "papermill": {
     "duration": 0.032641,
     "end_time": "2024-08-17T19:51:58.352881",
     "exception": false,
     "start_time": "2024-08-17T19:51:58.320240",
     "status": "completed"
    },
    "tags": []
   },
   "outputs": [
    {
     "data": {
      "text/html": [
       "<div>\n",
       "<style scoped>\n",
       "    .dataframe tbody tr th:only-of-type {\n",
       "        vertical-align: middle;\n",
       "    }\n",
       "\n",
       "    .dataframe tbody tr th {\n",
       "        vertical-align: top;\n",
       "    }\n",
       "\n",
       "    .dataframe thead th {\n",
       "        text-align: right;\n",
       "    }\n",
       "</style>\n",
       "<table border=\"1\" class=\"dataframe\">\n",
       "  <thead>\n",
       "    <tr style=\"text-align: right;\">\n",
       "      <th></th>\n",
       "      <th>Text</th>\n",
       "      <th>Meaning</th>\n",
       "      <th>Sentiment</th>\n",
       "    </tr>\n",
       "  </thead>\n",
       "  <tbody>\n",
       "    <tr>\n",
       "      <th>0</th>\n",
       "      <td>Last session of the day http://twitpic.com/67ezh</td>\n",
       "      <td>Last session of the day http://twitpic.com/67ezh</td>\n",
       "      <td>neutral</td>\n",
       "    </tr>\n",
       "    <tr>\n",
       "      <th>1</th>\n",
       "      <td>Shanghai is also really exciting (precisely --...</td>\n",
       "      <td>Shanghai is also really exciting (precisely --...</td>\n",
       "      <td>positive</td>\n",
       "    </tr>\n",
       "    <tr>\n",
       "      <th>2</th>\n",
       "      <td>submit the report ASAP!</td>\n",
       "      <td>submit the report as soon as possilbe</td>\n",
       "      <td>negative</td>\n",
       "    </tr>\n",
       "    <tr>\n",
       "      <th>3</th>\n",
       "      <td>happy bday!</td>\n",
       "      <td>Happy Birthday!</td>\n",
       "      <td>positive</td>\n",
       "    </tr>\n",
       "    <tr>\n",
       "      <th>4</th>\n",
       "      <td>The OGs - I like it!!</td>\n",
       "      <td>The original gangsters - i like it!</td>\n",
       "      <td>positive</td>\n",
       "    </tr>\n",
       "  </tbody>\n",
       "</table>\n",
       "</div>"
      ],
      "text/plain": [
       "                                                Text  \\\n",
       "0   Last session of the day http://twitpic.com/67ezh   \n",
       "1  Shanghai is also really exciting (precisely --...   \n",
       "2                            submit the report ASAP!   \n",
       "3                                        happy bday!   \n",
       "4                              The OGs - I like it!!   \n",
       "\n",
       "                                             Meaning Sentiment  \n",
       "0   Last session of the day http://twitpic.com/67ezh   neutral  \n",
       "1  Shanghai is also really exciting (precisely --...  positive  \n",
       "2              submit the report as soon as possilbe  negative  \n",
       "3                                    Happy Birthday!  positive  \n",
       "4                The original gangsters - i like it!  positive  "
      ]
     },
     "execution_count": 6,
     "metadata": {},
     "output_type": "execute_result"
    }
   ],
   "source": [
    "df.head()"
   ]
  },
  {
   "cell_type": "code",
   "execution_count": 7,
   "id": "aa939309",
   "metadata": {
    "execution": {
     "iopub.execute_input": "2024-08-17T19:51:58.379519Z",
     "iopub.status.busy": "2024-08-17T19:51:58.379240Z",
     "iopub.status.idle": "2024-08-17T19:51:58.383080Z",
     "shell.execute_reply": "2024-08-17T19:51:58.382211Z"
    },
    "papermill": {
     "duration": 0.019105,
     "end_time": "2024-08-17T19:51:58.385095",
     "exception": false,
     "start_time": "2024-08-17T19:51:58.365990",
     "status": "completed"
    },
    "tags": []
   },
   "outputs": [],
   "source": [
    "# df.drop(columns=['Sentiment.1'],inplace=True)"
   ]
  },
  {
   "cell_type": "code",
   "execution_count": 8,
   "id": "8423c823",
   "metadata": {
    "execution": {
     "iopub.execute_input": "2024-08-17T19:51:58.411901Z",
     "iopub.status.busy": "2024-08-17T19:51:58.411430Z",
     "iopub.status.idle": "2024-08-17T19:51:58.420078Z",
     "shell.execute_reply": "2024-08-17T19:51:58.419205Z"
    },
    "papermill": {
     "duration": 0.023871,
     "end_time": "2024-08-17T19:51:58.421928",
     "exception": false,
     "start_time": "2024-08-17T19:51:58.398057",
     "status": "completed"
    },
    "tags": []
   },
   "outputs": [],
   "source": [
    "df=df.drop('Meaning',axis=1)"
   ]
  },
  {
   "cell_type": "code",
   "execution_count": 9,
   "id": "407ab93a",
   "metadata": {
    "execution": {
     "iopub.execute_input": "2024-08-17T19:51:58.448272Z",
     "iopub.status.busy": "2024-08-17T19:51:58.447993Z",
     "iopub.status.idle": "2024-08-17T19:51:58.453211Z",
     "shell.execute_reply": "2024-08-17T19:51:58.452313Z"
    },
    "papermill": {
     "duration": 0.020621,
     "end_time": "2024-08-17T19:51:58.455195",
     "exception": false,
     "start_time": "2024-08-17T19:51:58.434574",
     "status": "completed"
    },
    "tags": []
   },
   "outputs": [
    {
     "data": {
      "text/plain": [
       "(4958, 2)"
      ]
     },
     "execution_count": 9,
     "metadata": {},
     "output_type": "execute_result"
    }
   ],
   "source": [
    "df.shape"
   ]
  },
  {
   "cell_type": "code",
   "execution_count": 10,
   "id": "cc2025a2",
   "metadata": {
    "execution": {
     "iopub.execute_input": "2024-08-17T19:51:58.481395Z",
     "iopub.status.busy": "2024-08-17T19:51:58.481126Z",
     "iopub.status.idle": "2024-08-17T19:51:58.485724Z",
     "shell.execute_reply": "2024-08-17T19:51:58.485020Z"
    },
    "papermill": {
     "duration": 0.019814,
     "end_time": "2024-08-17T19:51:58.487610",
     "exception": false,
     "start_time": "2024-08-17T19:51:58.467796",
     "status": "completed"
    },
    "tags": []
   },
   "outputs": [],
   "source": [
    "df = df.rename(columns={'Text': 'tweet'})"
   ]
  },
  {
   "cell_type": "code",
   "execution_count": 11,
   "id": "f43ce7b3",
   "metadata": {
    "execution": {
     "iopub.execute_input": "2024-08-17T19:51:58.513617Z",
     "iopub.status.busy": "2024-08-17T19:51:58.513340Z",
     "iopub.status.idle": "2024-08-17T19:51:58.517657Z",
     "shell.execute_reply": "2024-08-17T19:51:58.516869Z"
    },
    "papermill": {
     "duration": 0.019313,
     "end_time": "2024-08-17T19:51:58.519429",
     "exception": false,
     "start_time": "2024-08-17T19:51:58.500116",
     "status": "completed"
    },
    "tags": []
   },
   "outputs": [],
   "source": [
    "df = df.rename(columns={'Sentiment': 'class'})"
   ]
  },
  {
   "cell_type": "code",
   "execution_count": 12,
   "id": "8d10f004",
   "metadata": {
    "execution": {
     "iopub.execute_input": "2024-08-17T19:51:58.546371Z",
     "iopub.status.busy": "2024-08-17T19:51:58.546103Z",
     "iopub.status.idle": "2024-08-17T19:51:58.563123Z",
     "shell.execute_reply": "2024-08-17T19:51:58.562298Z"
    },
    "papermill": {
     "duration": 0.031978,
     "end_time": "2024-08-17T19:51:58.564917",
     "exception": false,
     "start_time": "2024-08-17T19:51:58.532939",
     "status": "completed"
    },
    "tags": []
   },
   "outputs": [
    {
     "data": {
      "text/plain": [
       "class\n",
       "neutral     1743\n",
       "positive    1643\n",
       "negative    1572\n",
       "Name: count, dtype: int64"
      ]
     },
     "execution_count": 12,
     "metadata": {},
     "output_type": "execute_result"
    }
   ],
   "source": [
    "df['class'] = df['class'].str.lower()\n",
    "sentiment_counts = df['class'].value_counts()\n",
    "sentiment_counts"
   ]
  },
  {
   "cell_type": "code",
   "execution_count": 13,
   "id": "25ab316a",
   "metadata": {
    "execution": {
     "iopub.execute_input": "2024-08-17T19:51:58.591093Z",
     "iopub.status.busy": "2024-08-17T19:51:58.590810Z",
     "iopub.status.idle": "2024-08-17T19:51:58.597105Z",
     "shell.execute_reply": "2024-08-17T19:51:58.596339Z"
    },
    "papermill": {
     "duration": 0.02166,
     "end_time": "2024-08-17T19:51:58.599225",
     "exception": false,
     "start_time": "2024-08-17T19:51:58.577565",
     "status": "completed"
    },
    "tags": []
   },
   "outputs": [],
   "source": [
    "df = df[df['class'] != \"neutral\"]  ###droping neutral columns"
   ]
  },
  {
   "cell_type": "code",
   "execution_count": 14,
   "id": "256b6b10",
   "metadata": {
    "execution": {
     "iopub.execute_input": "2024-08-17T19:51:58.627697Z",
     "iopub.status.busy": "2024-08-17T19:51:58.627415Z",
     "iopub.status.idle": "2024-08-17T19:51:58.633776Z",
     "shell.execute_reply": "2024-08-17T19:51:58.632915Z"
    },
    "papermill": {
     "duration": 0.022287,
     "end_time": "2024-08-17T19:51:58.635624",
     "exception": false,
     "start_time": "2024-08-17T19:51:58.613337",
     "status": "completed"
    },
    "tags": []
   },
   "outputs": [],
   "source": [
    "from sklearn.preprocessing import LabelEncoder\n",
    "label_encoder = LabelEncoder()\n",
    "label_encoder.fit(df['class'])\n",
    "encoded_labels = label_encoder.transform(df['class'])\n",
    "df['class'] = encoded_labels"
   ]
  },
  {
   "cell_type": "code",
   "execution_count": 15,
   "id": "eb0126f5",
   "metadata": {
    "execution": {
     "iopub.execute_input": "2024-08-17T19:51:58.661697Z",
     "iopub.status.busy": "2024-08-17T19:51:58.661430Z",
     "iopub.status.idle": "2024-08-17T19:51:58.669684Z",
     "shell.execute_reply": "2024-08-17T19:51:58.668863Z"
    },
    "papermill": {
     "duration": 0.023575,
     "end_time": "2024-08-17T19:51:58.671830",
     "exception": false,
     "start_time": "2024-08-17T19:51:58.648255",
     "status": "completed"
    },
    "tags": []
   },
   "outputs": [
    {
     "data": {
      "text/html": [
       "<div>\n",
       "<style scoped>\n",
       "    .dataframe tbody tr th:only-of-type {\n",
       "        vertical-align: middle;\n",
       "    }\n",
       "\n",
       "    .dataframe tbody tr th {\n",
       "        vertical-align: top;\n",
       "    }\n",
       "\n",
       "    .dataframe thead th {\n",
       "        text-align: right;\n",
       "    }\n",
       "</style>\n",
       "<table border=\"1\" class=\"dataframe\">\n",
       "  <thead>\n",
       "    <tr style=\"text-align: right;\">\n",
       "      <th></th>\n",
       "      <th>tweet</th>\n",
       "      <th>class</th>\n",
       "    </tr>\n",
       "  </thead>\n",
       "  <tbody>\n",
       "    <tr>\n",
       "      <th>1</th>\n",
       "      <td>Shanghai is also really exciting (precisely --...</td>\n",
       "      <td>1</td>\n",
       "    </tr>\n",
       "    <tr>\n",
       "      <th>2</th>\n",
       "      <td>submit the report ASAP!</td>\n",
       "      <td>0</td>\n",
       "    </tr>\n",
       "    <tr>\n",
       "      <th>3</th>\n",
       "      <td>happy bday!</td>\n",
       "      <td>1</td>\n",
       "    </tr>\n",
       "    <tr>\n",
       "      <th>4</th>\n",
       "      <td>The OGs - I like it!!</td>\n",
       "      <td>1</td>\n",
       "    </tr>\n",
       "    <tr>\n",
       "      <th>5</th>\n",
       "      <td>that`s great!! weee!! visitors!</td>\n",
       "      <td>1</td>\n",
       "    </tr>\n",
       "  </tbody>\n",
       "</table>\n",
       "</div>"
      ],
      "text/plain": [
       "                                               tweet  class\n",
       "1  Shanghai is also really exciting (precisely --...      1\n",
       "2                            submit the report ASAP!      0\n",
       "3                                        happy bday!      1\n",
       "4                              The OGs - I like it!!      1\n",
       "5                    that`s great!! weee!! visitors!      1"
      ]
     },
     "execution_count": 15,
     "metadata": {},
     "output_type": "execute_result"
    }
   ],
   "source": [
    "df.head()"
   ]
  },
  {
   "cell_type": "code",
   "execution_count": 16,
   "id": "2702a78c",
   "metadata": {
    "execution": {
     "iopub.execute_input": "2024-08-17T19:51:58.699567Z",
     "iopub.status.busy": "2024-08-17T19:51:58.699288Z",
     "iopub.status.idle": "2024-08-17T19:51:58.706931Z",
     "shell.execute_reply": "2024-08-17T19:51:58.706112Z"
    },
    "papermill": {
     "duration": 0.02354,
     "end_time": "2024-08-17T19:51:58.709005",
     "exception": false,
     "start_time": "2024-08-17T19:51:58.685465",
     "status": "completed"
    },
    "tags": []
   },
   "outputs": [
    {
     "data": {
      "text/plain": [
       "tweet    1\n",
       "class    0\n",
       "dtype: int64"
      ]
     },
     "execution_count": 16,
     "metadata": {},
     "output_type": "execute_result"
    }
   ],
   "source": [
    "df.isnull().sum()"
   ]
  },
  {
   "cell_type": "code",
   "execution_count": 17,
   "id": "fa9bc032",
   "metadata": {
    "execution": {
     "iopub.execute_input": "2024-08-17T19:51:58.736354Z",
     "iopub.status.busy": "2024-08-17T19:51:58.736117Z",
     "iopub.status.idle": "2024-08-17T19:51:58.740672Z",
     "shell.execute_reply": "2024-08-17T19:51:58.739896Z"
    },
    "papermill": {
     "duration": 0.019837,
     "end_time": "2024-08-17T19:51:58.742495",
     "exception": false,
     "start_time": "2024-08-17T19:51:58.722658",
     "status": "completed"
    },
    "tags": []
   },
   "outputs": [],
   "source": [
    "df=df.fillna('')"
   ]
  },
  {
   "cell_type": "code",
   "execution_count": 18,
   "id": "31c1c94f",
   "metadata": {
    "execution": {
     "iopub.execute_input": "2024-08-17T19:51:58.769224Z",
     "iopub.status.busy": "2024-08-17T19:51:58.768950Z",
     "iopub.status.idle": "2024-08-17T19:51:58.776992Z",
     "shell.execute_reply": "2024-08-17T19:51:58.776121Z"
    },
    "papermill": {
     "duration": 0.023765,
     "end_time": "2024-08-17T19:51:58.778989",
     "exception": false,
     "start_time": "2024-08-17T19:51:58.755224",
     "status": "completed"
    },
    "tags": []
   },
   "outputs": [
    {
     "data": {
      "text/html": [
       "<div>\n",
       "<style scoped>\n",
       "    .dataframe tbody tr th:only-of-type {\n",
       "        vertical-align: middle;\n",
       "    }\n",
       "\n",
       "    .dataframe tbody tr th {\n",
       "        vertical-align: top;\n",
       "    }\n",
       "\n",
       "    .dataframe thead th {\n",
       "        text-align: right;\n",
       "    }\n",
       "</style>\n",
       "<table border=\"1\" class=\"dataframe\">\n",
       "  <thead>\n",
       "    <tr style=\"text-align: right;\">\n",
       "      <th></th>\n",
       "      <th>tweet</th>\n",
       "      <th>class</th>\n",
       "    </tr>\n",
       "  </thead>\n",
       "  <tbody>\n",
       "    <tr>\n",
       "      <th>1</th>\n",
       "      <td>Shanghai is also really exciting (precisely --...</td>\n",
       "      <td>1</td>\n",
       "    </tr>\n",
       "    <tr>\n",
       "      <th>2</th>\n",
       "      <td>submit the report ASAP!</td>\n",
       "      <td>0</td>\n",
       "    </tr>\n",
       "    <tr>\n",
       "      <th>3</th>\n",
       "      <td>happy bday!</td>\n",
       "      <td>1</td>\n",
       "    </tr>\n",
       "    <tr>\n",
       "      <th>4</th>\n",
       "      <td>The OGs - I like it!!</td>\n",
       "      <td>1</td>\n",
       "    </tr>\n",
       "    <tr>\n",
       "      <th>5</th>\n",
       "      <td>that`s great!! weee!! visitors!</td>\n",
       "      <td>1</td>\n",
       "    </tr>\n",
       "  </tbody>\n",
       "</table>\n",
       "</div>"
      ],
      "text/plain": [
       "                                               tweet  class\n",
       "1  Shanghai is also really exciting (precisely --...      1\n",
       "2                            submit the report ASAP!      0\n",
       "3                                        happy bday!      1\n",
       "4                              The OGs - I like it!!      1\n",
       "5                    that`s great!! weee!! visitors!      1"
      ]
     },
     "execution_count": 18,
     "metadata": {},
     "output_type": "execute_result"
    }
   ],
   "source": [
    "df.head()"
   ]
  },
  {
   "cell_type": "code",
   "execution_count": 19,
   "id": "8799fb3c",
   "metadata": {
    "execution": {
     "iopub.execute_input": "2024-08-17T19:51:58.808190Z",
     "iopub.status.busy": "2024-08-17T19:51:58.807898Z",
     "iopub.status.idle": "2024-08-17T19:51:58.998230Z",
     "shell.execute_reply": "2024-08-17T19:51:58.997506Z"
    },
    "papermill": {
     "duration": 0.207182,
     "end_time": "2024-08-17T19:51:59.000299",
     "exception": false,
     "start_time": "2024-08-17T19:51:58.793117",
     "status": "completed"
    },
    "tags": []
   },
   "outputs": [],
   "source": [
    "import re\n",
    "from bs4 import BeautifulSoup\n",
    "\n",
    "def text_cleaning(text):\n",
    "    text = str(text)\n",
    "    soup = BeautifulSoup(text, \"html.parser\")    ###removing html tages\n",
    "    text = re.sub(r'\\[[^]]*\\]', '', soup.get_text())      ##removing text within square brackets\n",
    "    pattern = r\"[^a-zA-Z0-9\\s,']\"                  # Removing unwanted characters\n",
    "    text = re.sub(pattern, '', text)\n",
    "    url_pattern = r'http\\S+|www\\S+'            ###removing urls\n",
    "    text = re.sub(url_pattern, '', text)\n",
    "    return text"
   ]
  },
  {
   "cell_type": "code",
   "execution_count": 20,
   "id": "1ccfb29b",
   "metadata": {
    "execution": {
     "iopub.execute_input": "2024-08-17T19:51:59.028048Z",
     "iopub.status.busy": "2024-08-17T19:51:59.027632Z",
     "iopub.status.idle": "2024-08-17T19:51:59.209438Z",
     "shell.execute_reply": "2024-08-17T19:51:59.208603Z"
    },
    "papermill": {
     "duration": 0.197922,
     "end_time": "2024-08-17T19:51:59.211514",
     "exception": false,
     "start_time": "2024-08-17T19:51:59.013592",
     "status": "completed"
    },
    "tags": []
   },
   "outputs": [
    {
     "name": "stderr",
     "output_type": "stream",
     "text": [
      "/tmp/ipykernel_24/2827669698.py:6: MarkupResemblesLocatorWarning: The input looks more like a filename than markup. You may want to open this file and pass the filehandle into Beautiful Soup.\n",
      "  soup = BeautifulSoup(text, \"html.parser\")    ###removing html tages\n"
     ]
    }
   ],
   "source": [
    "df['tweet'] = df['tweet'].apply(text_cleaning).tolist()"
   ]
  },
  {
   "cell_type": "code",
   "execution_count": 21,
   "id": "f3cec4c2",
   "metadata": {
    "execution": {
     "iopub.execute_input": "2024-08-17T19:51:59.240250Z",
     "iopub.status.busy": "2024-08-17T19:51:59.239667Z",
     "iopub.status.idle": "2024-08-17T19:51:59.249277Z",
     "shell.execute_reply": "2024-08-17T19:51:59.248343Z"
    },
    "papermill": {
     "duration": 0.026348,
     "end_time": "2024-08-17T19:51:59.251594",
     "exception": false,
     "start_time": "2024-08-17T19:51:59.225246",
     "status": "completed"
    },
    "tags": []
   },
   "outputs": [
    {
     "data": {
      "text/html": [
       "<div>\n",
       "<style scoped>\n",
       "    .dataframe tbody tr th:only-of-type {\n",
       "        vertical-align: middle;\n",
       "    }\n",
       "\n",
       "    .dataframe tbody tr th {\n",
       "        vertical-align: top;\n",
       "    }\n",
       "\n",
       "    .dataframe thead th {\n",
       "        text-align: right;\n",
       "    }\n",
       "</style>\n",
       "<table border=\"1\" class=\"dataframe\">\n",
       "  <thead>\n",
       "    <tr style=\"text-align: right;\">\n",
       "      <th></th>\n",
       "      <th>tweet</th>\n",
       "      <th>class</th>\n",
       "    </tr>\n",
       "  </thead>\n",
       "  <tbody>\n",
       "    <tr>\n",
       "      <th>1</th>\n",
       "      <td>Shanghai is also really exciting precisely  sk...</td>\n",
       "      <td>1</td>\n",
       "    </tr>\n",
       "    <tr>\n",
       "      <th>2</th>\n",
       "      <td>submit the report ASAP</td>\n",
       "      <td>0</td>\n",
       "    </tr>\n",
       "    <tr>\n",
       "      <th>3</th>\n",
       "      <td>happy bday</td>\n",
       "      <td>1</td>\n",
       "    </tr>\n",
       "    <tr>\n",
       "      <th>4</th>\n",
       "      <td>The OGs  I like it</td>\n",
       "      <td>1</td>\n",
       "    </tr>\n",
       "    <tr>\n",
       "      <th>5</th>\n",
       "      <td>thats great weee visitors</td>\n",
       "      <td>1</td>\n",
       "    </tr>\n",
       "    <tr>\n",
       "      <th>6</th>\n",
       "      <td>I THINK EVERYONE HATES ME ON HERE lol</td>\n",
       "      <td>0</td>\n",
       "    </tr>\n",
       "    <tr>\n",
       "      <th>7</th>\n",
       "      <td>soooooo wish i could, but im in school and mys...</td>\n",
       "      <td>0</td>\n",
       "    </tr>\n",
       "    <tr>\n",
       "      <th>10</th>\n",
       "      <td>My bike was put on holdshould have known that ...</td>\n",
       "      <td>0</td>\n",
       "    </tr>\n",
       "    <tr>\n",
       "      <th>13</th>\n",
       "      <td>Im in VA for the weekend, my youngest son turn...</td>\n",
       "      <td>0</td>\n",
       "    </tr>\n",
       "    <tr>\n",
       "      <th>14</th>\n",
       "      <td>Its coming out the socket I feel like my phone...</td>\n",
       "      <td>0</td>\n",
       "    </tr>\n",
       "  </tbody>\n",
       "</table>\n",
       "</div>"
      ],
      "text/plain": [
       "                                                tweet  class\n",
       "1   Shanghai is also really exciting precisely  sk...      1\n",
       "2                              submit the report ASAP      0\n",
       "3                                          happy bday      1\n",
       "4                                  The OGs  I like it      1\n",
       "5                           thats great weee visitors      1\n",
       "6               I THINK EVERYONE HATES ME ON HERE lol      0\n",
       "7   soooooo wish i could, but im in school and mys...      0\n",
       "10  My bike was put on holdshould have known that ...      0\n",
       "13  Im in VA for the weekend, my youngest son turn...      0\n",
       "14  Its coming out the socket I feel like my phone...      0"
      ]
     },
     "execution_count": 21,
     "metadata": {},
     "output_type": "execute_result"
    }
   ],
   "source": [
    "df.head(10)"
   ]
  },
  {
   "cell_type": "code",
   "execution_count": 22,
   "id": "2c0ac160",
   "metadata": {
    "execution": {
     "iopub.execute_input": "2024-08-17T19:51:59.321170Z",
     "iopub.status.busy": "2024-08-17T19:51:59.320828Z",
     "iopub.status.idle": "2024-08-17T19:51:59.328257Z",
     "shell.execute_reply": "2024-08-17T19:51:59.327431Z"
    },
    "papermill": {
     "duration": 0.062575,
     "end_time": "2024-08-17T19:51:59.330132",
     "exception": false,
     "start_time": "2024-08-17T19:51:59.267557",
     "status": "completed"
    },
    "tags": []
   },
   "outputs": [],
   "source": [
    "lens=[len(i.split()) for i in df['tweet']]"
   ]
  },
  {
   "cell_type": "code",
   "execution_count": 23,
   "id": "763fc2cb",
   "metadata": {
    "execution": {
     "iopub.execute_input": "2024-08-17T19:51:59.358374Z",
     "iopub.status.busy": "2024-08-17T19:51:59.358103Z",
     "iopub.status.idle": "2024-08-17T19:51:59.659474Z",
     "shell.execute_reply": "2024-08-17T19:51:59.658597Z"
    },
    "papermill": {
     "duration": 0.317772,
     "end_time": "2024-08-17T19:51:59.661402",
     "exception": false,
     "start_time": "2024-08-17T19:51:59.343630",
     "status": "completed"
    },
    "tags": []
   },
   "outputs": [
    {
     "data": {
      "text/plain": [
       "(array([135., 493., 641., 585., 429., 438., 237., 174.,  74.,   9.]),\n",
       " array([ 0. ,  3.2,  6.4,  9.6, 12.8, 16. , 19.2, 22.4, 25.6, 28.8, 32. ]),\n",
       " <BarContainer object of 10 artists>)"
      ]
     },
     "execution_count": 23,
     "metadata": {},
     "output_type": "execute_result"
    },
    {
     "data": {
      "image/png": "[encoded data removed]",
      "text/plain": [
       "<Figure size 640x480 with 1 Axes>"
      ]
     },
     "metadata": {},
     "output_type": "display_data"
    }
   ],
   "source": [
    "import matplotlib.pyplot as plt\n",
    "plt.hist(lens)"
   ]
  },
  {
   "cell_type": "code",
   "execution_count": 24,
   "id": "9987fec5",
   "metadata": {
    "execution": {
     "iopub.execute_input": "2024-08-17T19:51:59.690635Z",
     "iopub.status.busy": "2024-08-17T19:51:59.690355Z",
     "iopub.status.idle": "2024-08-17T19:52:00.793675Z",
     "shell.execute_reply": "2024-08-17T19:52:00.792899Z"
    },
    "papermill": {
     "duration": 1.120385,
     "end_time": "2024-08-17T19:52:00.795922",
     "exception": false,
     "start_time": "2024-08-17T19:51:59.675537",
     "status": "completed"
    },
    "tags": []
   },
   "outputs": [],
   "source": [
    "import torch\n",
    "import torch.nn as nn\n",
    "\n",
    "import transformers\n",
    "from transformers import AutoModel, BertTokenizerFast"
   ]
  },
  {
   "cell_type": "code",
   "execution_count": 25,
   "id": "5f9930a9",
   "metadata": {
    "execution": {
     "iopub.execute_input": "2024-08-17T19:52:00.825547Z",
     "iopub.status.busy": "2024-08-17T19:52:00.825005Z",
     "iopub.status.idle": "2024-08-17T19:52:00.837099Z",
     "shell.execute_reply": "2024-08-17T19:52:00.836171Z"
    },
    "papermill": {
     "duration": 0.028503,
     "end_time": "2024-08-17T19:52:00.838936",
     "exception": false,
     "start_time": "2024-08-17T19:52:00.810433",
     "status": "completed"
    },
    "tags": []
   },
   "outputs": [],
   "source": [
    "# split into train, validation and test sets in the ration 70 : 15 : 15\n",
    "from sklearn.model_selection import train_test_split\n",
    "\n",
    "train_text, temp_text, train_labels, temp_labels = train_test_split(df['tweet'], df['class'], \n",
    "                                                                    random_state=2021, \n",
    "                                                                    test_size=0.2, \n",
    "                                                                    stratify=df['class'])\n",
    "\n",
    "\n",
    "val_text, test_text, val_labels, test_labels = train_test_split(temp_text, temp_labels, \n",
    "                                                                random_state=2021, \n",
    "                                                                test_size=0.5, \n",
    "                                                                stratify=temp_labels)"
   ]
  },
  {
   "cell_type": "code",
   "execution_count": 26,
   "id": "410654c6",
   "metadata": {
    "execution": {
     "iopub.execute_input": "2024-08-17T19:52:00.867755Z",
     "iopub.status.busy": "2024-08-17T19:52:00.867481Z",
     "iopub.status.idle": "2024-08-17T19:52:03.941379Z",
     "shell.execute_reply": "2024-08-17T19:52:03.940376Z"
    },
    "papermill": {
     "duration": 3.091063,
     "end_time": "2024-08-17T19:52:03.943794",
     "exception": false,
     "start_time": "2024-08-17T19:52:00.852731",
     "status": "completed"
    },
    "tags": []
   },
   "outputs": [
    {
     "data": {
      "application/vnd.jupyter.widget-view+json": {
       "model_id": "86c35be50c7b4ee5b19353996593330f",
       "version_major": 2,
       "version_minor": 0
      },
      "text/plain": [
       "config.json:   0%|          | 0.00/570 [00:00<?, ?B/s]"
      ]
     },
     "metadata": {},
     "output_type": "display_data"
    },
    {
     "data": {
      "application/vnd.jupyter.widget-view+json": {
       "model_id": "f4a14675f8f9446794ba96d4946577ba",
       "version_major": 2,
       "version_minor": 0
      },
      "text/plain": [
       "model.safetensors:   0%|          | 0.00/440M [00:00<?, ?B/s]"
      ]
     },
     "metadata": {},
     "output_type": "display_data"
    }
   ],
   "source": [
    "bert = AutoModel.from_pretrained('bert-base-uncased')"
   ]
  },
  {
   "cell_type": "code",
   "execution_count": 27,
   "id": "fad299cc",
   "metadata": {
    "execution": {
     "iopub.execute_input": "2024-08-17T19:52:03.973821Z",
     "iopub.status.busy": "2024-08-17T19:52:03.973354Z",
     "iopub.status.idle": "2024-08-17T19:52:04.960734Z",
     "shell.execute_reply": "2024-08-17T19:52:04.959981Z"
    },
    "papermill": {
     "duration": 1.00463,
     "end_time": "2024-08-17T19:52:04.962897",
     "exception": false,
     "start_time": "2024-08-17T19:52:03.958267",
     "status": "completed"
    },
    "tags": []
   },
   "outputs": [
    {
     "data": {
      "application/vnd.jupyter.widget-view+json": {
       "model_id": "cf242e44353f4b83a3f572a21e4b35b1",
       "version_major": 2,
       "version_minor": 0
      },
      "text/plain": [
       "tokenizer_config.json:   0%|          | 0.00/48.0 [00:00<?, ?B/s]"
      ]
     },
     "metadata": {},
     "output_type": "display_data"
    },
    {
     "data": {
      "application/vnd.jupyter.widget-view+json": {
       "model_id": "b809b1cc0e7e41dd8a5dbaab951615f2",
       "version_major": 2,
       "version_minor": 0
      },
      "text/plain": [
       "vocab.txt:   0%|          | 0.00/232k [00:00<?, ?B/s]"
      ]
     },
     "metadata": {},
     "output_type": "display_data"
    },
    {
     "data": {
      "application/vnd.jupyter.widget-view+json": {
       "model_id": "8e312d0c30ec4e1f8b489d7ca8c3507c",
       "version_major": 2,
       "version_minor": 0
      },
      "text/plain": [
       "tokenizer.json:   0%|          | 0.00/466k [00:00<?, ?B/s]"
      ]
     },
     "metadata": {},
     "output_type": "display_data"
    }
   ],
   "source": [
    "tokenizer = BertTokenizerFast.from_pretrained('bert-base-uncased')"
   ]
  },
  {
   "cell_type": "code",
   "execution_count": 28,
   "id": "9881664c",
   "metadata": {
    "execution": {
     "iopub.execute_input": "2024-08-17T19:52:04.993619Z",
     "iopub.status.busy": "2024-08-17T19:52:04.993337Z",
     "iopub.status.idle": "2024-08-17T19:52:05.270941Z",
     "shell.execute_reply": "2024-08-17T19:52:05.269880Z"
    },
    "papermill": {
     "duration": 0.295239,
     "end_time": "2024-08-17T19:52:05.273012",
     "exception": false,
     "start_time": "2024-08-17T19:52:04.977773",
     "status": "completed"
    },
    "tags": []
   },
   "outputs": [
    {
     "data": {
      "text/plain": [
       "(array([192., 469., 502., 424., 315., 268., 194., 145.,  55.,   8.]),\n",
       " array([ 1. ,  4.1,  7.2, 10.3, 13.4, 16.5, 19.6, 22.7, 25.8, 28.9, 32. ]),\n",
       " <BarContainer object of 10 artists>)"
      ]
     },
     "execution_count": 28,
     "metadata": {},
     "output_type": "execute_result"
    },
    {
     "data": {
      "image/png": "[encoded data removed]",
      "text/plain": [
       "<Figure size 640x480 with 1 Axes>"
      ]
     },
     "metadata": {},
     "output_type": "display_data"
    }
   ],
   "source": [
    "train_lens=[len(i.split()) for i in train_text]\n",
    "plt.hist(train_lens)"
   ]
  },
  {
   "cell_type": "code",
   "execution_count": 29,
   "id": "ec49c0b4",
   "metadata": {
    "execution": {
     "iopub.execute_input": "2024-08-17T19:52:05.305790Z",
     "iopub.status.busy": "2024-08-17T19:52:05.305479Z",
     "iopub.status.idle": "2024-08-17T19:52:05.320419Z",
     "shell.execute_reply": "2024-08-17T19:52:05.319326Z"
    },
    "papermill": {
     "duration": 0.033341,
     "end_time": "2024-08-17T19:52:05.322261",
     "exception": false,
     "start_time": "2024-08-17T19:52:05.288920",
     "status": "completed"
    },
    "tags": []
   },
   "outputs": [
    {
     "name": "stdout",
     "output_type": "stream",
     "text": [
      "count    3215.000000\n",
      "mean       12.223328\n",
      "std         6.223879\n",
      "min         0.000000\n",
      "25%         7.000000\n",
      "50%        11.000000\n",
      "75%        17.000000\n",
      "max        32.000000\n",
      "Name: tweet, dtype: float64\n"
     ]
    }
   ],
   "source": [
    "import pandas as pd\n",
    "\n",
    "sequence_lengths = df['tweet'].apply(lambda x: len(x.split()))\n",
    "print(sequence_lengths.describe())\n"
   ]
  },
  {
   "cell_type": "code",
   "execution_count": 30,
   "id": "de7735c8",
   "metadata": {
    "execution": {
     "iopub.execute_input": "2024-08-17T19:52:05.353292Z",
     "iopub.status.busy": "2024-08-17T19:52:05.353013Z",
     "iopub.status.idle": "2024-08-17T19:52:05.356712Z",
     "shell.execute_reply": "2024-08-17T19:52:05.355875Z"
    },
    "papermill": {
     "duration": 0.021258,
     "end_time": "2024-08-17T19:52:05.358521",
     "exception": false,
     "start_time": "2024-08-17T19:52:05.337263",
     "status": "completed"
    },
    "tags": []
   },
   "outputs": [],
   "source": [
    "pad_len = 50"
   ]
  },
  {
   "cell_type": "code",
   "execution_count": 31,
   "id": "777916ed",
   "metadata": {
    "execution": {
     "iopub.execute_input": "2024-08-17T19:52:05.390210Z",
     "iopub.status.busy": "2024-08-17T19:52:05.389925Z",
     "iopub.status.idle": "2024-08-17T19:52:05.519215Z",
     "shell.execute_reply": "2024-08-17T19:52:05.518315Z"
    },
    "papermill": {
     "duration": 0.147448,
     "end_time": "2024-08-17T19:52:05.521493",
     "exception": false,
     "start_time": "2024-08-17T19:52:05.374045",
     "status": "completed"
    },
    "tags": []
   },
   "outputs": [
    {
     "name": "stderr",
     "output_type": "stream",
     "text": [
      "/opt/conda/lib/python3.10/site-packages/transformers/tokenization_utils_base.py:2760: FutureWarning: The `pad_to_max_length` argument is deprecated and will be removed in a future version, use `padding=True` or `padding='longest'` to pad to the longest sequence in the batch, or use `padding='max_length'` to pad to a max length. In this case, you can give a specific length with `max_length` (e.g. `max_length=45`) or leave max_length to None to pad to the maximal input size of the model (e.g. 512 for Bert).\n",
      "  warnings.warn(\n"
     ]
    }
   ],
   "source": [
    "# tokenizing and encoding sequences \n",
    "tokens_train = tokenizer.batch_encode_plus(\n",
    "    train_text.tolist(),\n",
    "    max_length = pad_len,\n",
    "    pad_to_max_length=True,\n",
    "    add_special_tokens=True,\n",
    "    truncation=True,\n",
    "    return_token_type_ids=True\n",
    ")\n",
    "\n",
    "tokens_val = tokenizer.batch_encode_plus(\n",
    "    val_text.tolist(),\n",
    "    max_length = pad_len,\n",
    "    pad_to_max_length=True,\n",
    "    add_special_tokens=True,\n",
    "    truncation=True,\n",
    "    return_token_type_ids=True\n",
    ")\n",
    "\n",
    "tokens_test = tokenizer.batch_encode_plus(\n",
    "    test_text.tolist(),\n",
    "    max_length = pad_len,\n",
    "    pad_to_max_length=True,\n",
    "    add_special_tokens=True,\n",
    "    truncation=True,\n",
    "    return_token_type_ids=True\n",
    ")"
   ]
  },
  {
   "cell_type": "code",
   "execution_count": 32,
   "id": "d69674fe",
   "metadata": {
    "execution": {
     "iopub.execute_input": "2024-08-17T19:52:05.555650Z",
     "iopub.status.busy": "2024-08-17T19:52:05.555132Z",
     "iopub.status.idle": "2024-08-17T19:52:05.729481Z",
     "shell.execute_reply": "2024-08-17T19:52:05.728672Z"
    },
    "papermill": {
     "duration": 0.194461,
     "end_time": "2024-08-17T19:52:05.731476",
     "exception": false,
     "start_time": "2024-08-17T19:52:05.537015",
     "status": "completed"
    },
    "tags": []
   },
   "outputs": [],
   "source": [
    "train_seq = torch.tensor(tokens_train['input_ids'])\n",
    "train_mask = torch.tensor(tokens_train['attention_mask'])\n",
    "train_token_type_ids = torch.tensor(tokens_train[\"token_type_ids\"])\n",
    "train_y = torch.tensor(train_labels.tolist())\n",
    "\n",
    "val_seq = torch.tensor(tokens_val['input_ids'])\n",
    "val_mask = torch.tensor(tokens_val['attention_mask'])\n",
    "val_token_type_ids = torch.tensor(tokens_val[\"token_type_ids\"])\n",
    "val_y = torch.tensor(val_labels.tolist())\n",
    "\n",
    "test_seq = torch.tensor(tokens_test['input_ids'])\n",
    "test_mask = torch.tensor(tokens_test['attention_mask'])\n",
    "test_token_type_ids = torch.tensor(tokens_test[\"token_type_ids\"])\n",
    "test_y = torch.tensor(test_labels.tolist())"
   ]
  },
  {
   "cell_type": "code",
   "execution_count": 33,
   "id": "ac94b247",
   "metadata": {
    "execution": {
     "iopub.execute_input": "2024-08-17T19:52:05.763801Z",
     "iopub.status.busy": "2024-08-17T19:52:05.763075Z",
     "iopub.status.idle": "2024-08-17T19:52:05.769374Z",
     "shell.execute_reply": "2024-08-17T19:52:05.768515Z"
    },
    "papermill": {
     "duration": 0.024431,
     "end_time": "2024-08-17T19:52:05.771354",
     "exception": false,
     "start_time": "2024-08-17T19:52:05.746923",
     "status": "completed"
    },
    "tags": []
   },
   "outputs": [],
   "source": [
    "from torch.utils.data import TensorDataset, DataLoader, RandomSampler, SequentialSampler\n",
    "batch_size = 64  ##batch size can be adjusted or modified\n",
    "train_data = TensorDataset(train_seq, train_mask, train_token_type_ids, train_y)\n",
    "train_sampler = RandomSampler(train_data)\n",
    "train_dataloader = DataLoader(train_data, sampler=train_sampler, batch_size=batch_size)\n",
    "val_data = TensorDataset(val_seq, val_mask, val_token_type_ids, val_y)\n",
    "val_sampler = SequentialSampler(val_data)\n",
    "val_dataloader = DataLoader(val_data, sampler = val_sampler, batch_size=batch_size)"
   ]
  },
  {
   "cell_type": "code",
   "execution_count": 34,
   "id": "df2f5596",
   "metadata": {
    "execution": {
     "iopub.execute_input": "2024-08-17T19:52:05.802999Z",
     "iopub.status.busy": "2024-08-17T19:52:05.802705Z",
     "iopub.status.idle": "2024-08-17T19:52:05.807810Z",
     "shell.execute_reply": "2024-08-17T19:52:05.806943Z"
    },
    "papermill": {
     "duration": 0.022994,
     "end_time": "2024-08-17T19:52:05.809638",
     "exception": false,
     "start_time": "2024-08-17T19:52:05.786644",
     "status": "completed"
    },
    "tags": []
   },
   "outputs": [],
   "source": [
    "for param in bert.parameters():\n",
    "    param.requires_grad = False"
   ]
  },
  {
   "cell_type": "code",
   "execution_count": 35,
   "id": "1c03982b",
   "metadata": {
    "execution": {
     "iopub.execute_input": "2024-08-17T19:52:05.852155Z",
     "iopub.status.busy": "2024-08-17T19:52:05.851835Z",
     "iopub.status.idle": "2024-08-17T19:52:05.866224Z",
     "shell.execute_reply": "2024-08-17T19:52:05.865155Z"
    },
    "papermill": {
     "duration": 0.040522,
     "end_time": "2024-08-17T19:52:05.868943",
     "exception": false,
     "start_time": "2024-08-17T19:52:05.828421",
     "status": "completed"
    },
    "tags": []
   },
   "outputs": [],
   "source": [
    "import torch.nn as nn\n",
    "\n",
    "##model building\n",
    "class SentimentClassifier(nn.Module):\n",
    "     \n",
    "    def __init__(self, n_classes):\n",
    "        super(SentimentClassifier, self).__init__()\n",
    "        self.bert = BertModel.from_pretrained(MODEL_NAME)\n",
    "        self.drop = nn.Dropout(p=0.3)\n",
    "        self.out = nn.Linear(self.bert.config.hidden_size, n_classes)\n",
    "    \n",
    "    # Forward propagaion\n",
    "    def forward(self, input_ids, attention_mask, token_type_ids):\n",
    "        _, pooled_output = self.bert(\n",
    "          input_ids=input_ids,\n",
    "          attention_mask=attention_mask,\n",
    "            token_type_ids=token_type_ids\n",
    "        ) \n",
    "        output = self.drop(pooled_output)  ##drop out layer\n",
    "        return self.out(output)\n",
    "    \n",
    "class BERT_architecture(nn.Module):\n",
    "\n",
    "    def __init__(self, bert):\n",
    "        super(BERT_architecture, self).__init__()\n",
    "\n",
    "        self.bert = bert \n",
    "        \n",
    "        self.dropout = nn.Dropout(0.2) ##needs adjusment\n",
    "        self.relu = nn.ReLU() ##activation function\n",
    "        \n",
    "        self.fc1 = nn.Linear(768, 512) #dense layer\n",
    "        \n",
    "        # Dense layer 2 (Output layer)\n",
    "        self.fc2 = nn.Linear(512, 2)  #2 classes\n",
    "\n",
    "        # Softmax activation function\n",
    "        self.softmax = nn.LogSoftmax(dim=1)  \n",
    "\n",
    "    # Defining forward pass\n",
    "    def forward(self, sent_id, mask, token_type_ids): \n",
    "        _, cls_hs = self.bert(sent_id, attention_mask=mask, token_type_ids=token_type_ids, return_dict=False)\n",
    "        x = self.fc1(cls_hs)\n",
    "        x = self.relu(x)\n",
    "        x = self.dropout(x)\n",
    "        # Output layer\n",
    "        x = self.fc2(x)\n",
    "        x = self.softmax(x)\n",
    "        return x\n"
   ]
  },
  {
   "cell_type": "code",
   "execution_count": 36,
   "id": "fbea1e4f",
   "metadata": {
    "execution": {
     "iopub.execute_input": "2024-08-17T19:52:05.920263Z",
     "iopub.status.busy": "2024-08-17T19:52:05.919692Z",
     "iopub.status.idle": "2024-08-17T19:52:05.932616Z",
     "shell.execute_reply": "2024-08-17T19:52:05.931730Z"
    },
    "papermill": {
     "duration": 0.038518,
     "end_time": "2024-08-17T19:52:05.934631",
     "exception": false,
     "start_time": "2024-08-17T19:52:05.896113",
     "status": "completed"
    },
    "tags": []
   },
   "outputs": [],
   "source": [
    "model = BERT_architecture(bert)"
   ]
  },
  {
   "cell_type": "code",
   "execution_count": 37,
   "id": "e73265bb",
   "metadata": {
    "execution": {
     "iopub.execute_input": "2024-08-17T19:52:05.965642Z",
     "iopub.status.busy": "2024-08-17T19:52:05.965368Z",
     "iopub.status.idle": "2024-08-17T19:52:06.279182Z",
     "shell.execute_reply": "2024-08-17T19:52:06.278269Z"
    },
    "papermill": {
     "duration": 0.33163,
     "end_time": "2024-08-17T19:52:06.281303",
     "exception": false,
     "start_time": "2024-08-17T19:52:05.949673",
     "status": "completed"
    },
    "tags": []
   },
   "outputs": [
    {
     "data": {
      "text/plain": [
       "BERT_architecture(\n",
       "  (bert): BertModel(\n",
       "    (embeddings): BertEmbeddings(\n",
       "      (word_embeddings): Embedding(30522, 768, padding_idx=0)\n",
       "      (position_embeddings): Embedding(512, 768)\n",
       "      (token_type_embeddings): Embedding(2, 768)\n",
       "      (LayerNorm): LayerNorm((768,), eps=1e-12, elementwise_affine=True)\n",
       "      (dropout): Dropout(p=0.1, inplace=False)\n",
       "    )\n",
       "    (encoder): BertEncoder(\n",
       "      (layer): ModuleList(\n",
       "        (0-11): 12 x BertLayer(\n",
       "          (attention): BertAttention(\n",
       "            (self): BertSdpaSelfAttention(\n",
       "              (query): Linear(in_features=768, out_features=768, bias=True)\n",
       "              (key): Linear(in_features=768, out_features=768, bias=True)\n",
       "              (value): Linear(in_features=768, out_features=768, bias=True)\n",
       "              (dropout): Dropout(p=0.1, inplace=False)\n",
       "            )\n",
       "            (output): BertSelfOutput(\n",
       "              (dense): Linear(in_features=768, out_features=768, bias=True)\n",
       "              (LayerNorm): LayerNorm((768,), eps=1e-12, elementwise_affine=True)\n",
       "              (dropout): Dropout(p=0.1, inplace=False)\n",
       "            )\n",
       "          )\n",
       "          (intermediate): BertIntermediate(\n",
       "            (dense): Linear(in_features=768, out_features=3072, bias=True)\n",
       "            (intermediate_act_fn): GELUActivation()\n",
       "          )\n",
       "          (output): BertOutput(\n",
       "            (dense): Linear(in_features=3072, out_features=768, bias=True)\n",
       "            (LayerNorm): LayerNorm((768,), eps=1e-12, elementwise_affine=True)\n",
       "            (dropout): Dropout(p=0.1, inplace=False)\n",
       "          )\n",
       "        )\n",
       "      )\n",
       "    )\n",
       "    (pooler): BertPooler(\n",
       "      (dense): Linear(in_features=768, out_features=768, bias=True)\n",
       "      (activation): Tanh()\n",
       "    )\n",
       "  )\n",
       "  (dropout): Dropout(p=0.2, inplace=False)\n",
       "  (relu): ReLU()\n",
       "  (fc1): Linear(in_features=768, out_features=512, bias=True)\n",
       "  (fc2): Linear(in_features=512, out_features=2, bias=True)\n",
       "  (softmax): LogSoftmax(dim=1)\n",
       ")"
      ]
     },
     "execution_count": 37,
     "metadata": {},
     "output_type": "execute_result"
    }
   ],
   "source": [
    "test_seq = test_seq.to(device)\n",
    "test_mask = test_mask.to(device)\n",
    "test_token_type_ids = test_token_type_ids.to(device)\n",
    "model.to(device)"
   ]
  },
  {
   "cell_type": "code",
   "execution_count": 38,
   "id": "23b92bd7",
   "metadata": {
    "execution": {
     "iopub.execute_input": "2024-08-17T19:52:06.313730Z",
     "iopub.status.busy": "2024-08-17T19:52:06.313056Z",
     "iopub.status.idle": "2024-08-17T19:52:06.951516Z",
     "shell.execute_reply": "2024-08-17T19:52:06.950764Z"
    },
    "papermill": {
     "duration": 0.656918,
     "end_time": "2024-08-17T19:52:06.953773",
     "exception": false,
     "start_time": "2024-08-17T19:52:06.296855",
     "status": "completed"
    },
    "tags": []
   },
   "outputs": [
    {
     "name": "stderr",
     "output_type": "stream",
     "text": [
      "/opt/conda/lib/python3.10/site-packages/transformers/optimization.py:591: FutureWarning: This implementation of AdamW is deprecated and will be removed in a future version. Use the PyTorch implementation torch.optim.AdamW instead, or set `no_deprecation_warning=True` to disable this warning\n",
      "  warnings.warn(\n"
     ]
    }
   ],
   "source": [
    "from transformers import AdamW\n",
    "optimizer = AdamW(model.parameters(),lr = 1e-3)  ## learning rate needs to be adjusted."
   ]
  },
  {
   "cell_type": "code",
   "execution_count": 39,
   "id": "f412115f",
   "metadata": {
    "execution": {
     "iopub.execute_input": "2024-08-17T19:52:06.988361Z",
     "iopub.status.busy": "2024-08-17T19:52:06.987857Z",
     "iopub.status.idle": "2024-08-17T19:52:06.996405Z",
     "shell.execute_reply": "2024-08-17T19:52:06.995414Z"
    },
    "papermill": {
     "duration": 0.027888,
     "end_time": "2024-08-17T19:52:06.998416",
     "exception": false,
     "start_time": "2024-08-17T19:52:06.970528",
     "status": "completed"
    },
    "tags": []
   },
   "outputs": [
    {
     "name": "stdout",
     "output_type": "stream",
     "text": [
      "Class weights are [1.02225755 0.97869102] for [0 1]\n"
     ]
    }
   ],
   "source": [
    "from sklearn.utils.class_weight import compute_class_weight\n",
    "import torch\n",
    "import torch.nn as nn\n",
    "\n",
    "# Compute the class weights for three classes\n",
    "class_weights = compute_class_weight(class_weight=\"balanced\",\n",
    "                                     classes=np.unique(train_labels),\n",
    "                                     y=train_labels)\n",
    "print(\"Class weights are {} for {}\".format(class_weights, np.unique(train_labels)))"
   ]
  },
  {
   "cell_type": "code",
   "execution_count": 40,
   "id": "8f4f7f4d",
   "metadata": {
    "execution": {
     "iopub.execute_input": "2024-08-17T19:52:07.031426Z",
     "iopub.status.busy": "2024-08-17T19:52:07.030845Z",
     "iopub.status.idle": "2024-08-17T19:52:07.039791Z",
     "shell.execute_reply": "2024-08-17T19:52:07.038955Z"
    },
    "papermill": {
     "duration": 0.027213,
     "end_time": "2024-08-17T19:52:07.041728",
     "exception": false,
     "start_time": "2024-08-17T19:52:07.014515",
     "status": "completed"
    },
    "tags": []
   },
   "outputs": [
    {
     "name": "stderr",
     "output_type": "stream",
     "text": [
      "/tmp/ipykernel_24/883685092.py:1: FutureWarning: pandas.value_counts is deprecated and will be removed in a future version. Use pd.Series(obj).value_counts() instead.\n",
      "  pd.value_counts(train_labels)\n"
     ]
    },
    {
     "data": {
      "text/plain": [
       "class\n",
       "1    1314\n",
       "0    1258\n",
       "Name: count, dtype: int64"
      ]
     },
     "execution_count": 40,
     "metadata": {},
     "output_type": "execute_result"
    }
   ],
   "source": [
    "pd.value_counts(train_labels)"
   ]
  },
  {
   "cell_type": "code",
   "execution_count": 41,
   "id": "b5f32db6",
   "metadata": {
    "execution": {
     "iopub.execute_input": "2024-08-17T19:52:07.074406Z",
     "iopub.status.busy": "2024-08-17T19:52:07.074145Z",
     "iopub.status.idle": "2024-08-17T19:52:07.081318Z",
     "shell.execute_reply": "2024-08-17T19:52:07.080605Z"
    },
    "papermill": {
     "duration": 0.025791,
     "end_time": "2024-08-17T19:52:07.083158",
     "exception": false,
     "start_time": "2024-08-17T19:52:07.057367",
     "status": "completed"
    },
    "tags": []
   },
   "outputs": [],
   "source": [
    "weights = torch.tensor(class_weights, dtype=torch.float)\n",
    "\n",
    "weights = weights.to(device)\n",
    "cross_entropy = nn.CrossEntropyLoss()\n",
    "\n",
    "epochs = 50 ##increase the no of epochs for better accuracy \n"
   ]
  },
  {
   "cell_type": "code",
   "execution_count": 42,
   "id": "b5896be8",
   "metadata": {
    "execution": {
     "iopub.execute_input": "2024-08-17T19:52:07.115562Z",
     "iopub.status.busy": "2024-08-17T19:52:07.115299Z",
     "iopub.status.idle": "2024-08-17T19:52:07.130035Z",
     "shell.execute_reply": "2024-08-17T19:52:07.129226Z"
    },
    "papermill": {
     "duration": 0.032921,
     "end_time": "2024-08-17T19:52:07.131797",
     "exception": false,
     "start_time": "2024-08-17T19:52:07.098876",
     "status": "completed"
    },
    "tags": []
   },
   "outputs": [],
   "source": [
    "def train():\n",
    "    model.train()\n",
    "    total_loss, total_accuracy = 0, 0\n",
    "    total_preds, total_labels = [], []\n",
    "\n",
    "    for step, batch in enumerate(train_dataloader, 0):\n",
    "        if step % 50 == 0 and not step == 0:\n",
    "            print('  Batch {:>5,}  of  {:>5,}.'.format(step, len(train_dataloader)))\n",
    "\n",
    "#         sent_id = batch[:,0].to(device, dtype = torch.long)\n",
    "#         mask = data[:,1].to(device, dtype = torch.long)\n",
    "#         token_type_ids = data[:,2].to(device, dtype = torch.long)\n",
    "#         labels = data[:,3].to(device, dtype = torch.float)\n",
    "        \n",
    "#         token_type_ids = batch['token_type_ids'].to(device)\n",
    "        batch = [r.to(device) for r in batch]\n",
    "        sent_id, mask, token_type_ids, labels = batch\n",
    "\n",
    "        model.zero_grad()\n",
    "        preds = model(sent_id, mask, token_type_ids)\n",
    "        loss = cross_entropy(preds, labels)\n",
    "        total_loss = total_loss + loss.item()\n",
    "        loss.backward()\n",
    "        torch.nn.utils.clip_grad_norm_(model.parameters(), 1.0)\n",
    "        optimizer.step()\n",
    "\n",
    "        preds = preds.detach().cpu().numpy()\n",
    "        total_preds.append(preds)\n",
    "        total_labels.append(labels.detach().cpu().numpy())\n",
    "\n",
    "    avg_loss = total_loss / len(train_dataloader)\n",
    "    total_preds = np.concatenate(total_preds, axis=0)\n",
    "    total_labels = np.concatenate(total_labels, axis=0)\n",
    "    return avg_loss, total_preds, total_labels\n",
    "\n",
    "def evaluate():\n",
    "    print(\"\\nEvaluating after the test: \")\n",
    "    model.eval()\n",
    "    total_loss, total_accuracy = 0, 0\n",
    "    total_preds, total_labels = [], []\n",
    "\n",
    "    for step, batch in enumerate(val_dataloader):\n",
    "        if step % 50 == 0 and not step == 0:\n",
    "            print('  Batch {:>5,}  of  {:>5,}.'.format(step, len(val_dataloader)))\n",
    "            \n",
    "#         sent_id = batch[:,0].to(device, dtype = torch.long)\n",
    "#         mask = data[:,1].to(device, dtype = torch.long)\n",
    "#         token_type_ids = data[:,2].to(device, dtype = torch.long)\n",
    "#         labels = data[:,3].to(device, dtype = torch.float)\n",
    "\n",
    "#         token_type_ids = batch['token_type_ids'].to(device)\n",
    "        batch = [t.to(device) for t in batch]\n",
    "        sent_id, mask, token_type_ids, labels = batch\n",
    "\n",
    "        with torch.no_grad():\n",
    "            preds = model(sent_id, mask, token_type_ids)\n",
    "            loss = cross_entropy(preds, labels)\n",
    "            total_loss = total_loss + loss.item()\n",
    "            preds = preds.detach().cpu().numpy()\n",
    "            total_preds.append(preds)\n",
    "            total_labels.append(labels.detach().cpu().numpy())\n",
    "\n",
    "    avg_loss = total_loss / len(val_dataloader)\n",
    "    total_preds = np.concatenate(total_preds, axis=0)\n",
    "    total_labels = np.concatenate(total_labels, axis=0)\n",
    "    return avg_loss, total_preds, total_labels\n",
    "def calculate_accuracy(preds, labels):\n",
    "\n",
    "    preds_flat = np.argmax(preds, axis=1).flatten()\n",
    "    labels_flat = labels.flatten()\n",
    "    accuracy = np.sum(preds_flat == labels_flat) / len(labels_flat)\n",
    "    return accuracy\n"
   ]
  },
  {
   "cell_type": "code",
   "execution_count": 43,
   "id": "fb0f8bac",
   "metadata": {
    "execution": {
     "iopub.execute_input": "2024-08-17T19:52:07.163824Z",
     "iopub.status.busy": "2024-08-17T19:52:07.163569Z",
     "iopub.status.idle": "2024-08-17T19:59:00.402370Z",
     "shell.execute_reply": "2024-08-17T19:59:00.400705Z"
    },
    "papermill": {
     "duration": 413.258381,
     "end_time": "2024-08-17T19:59:00.405584",
     "exception": false,
     "start_time": "2024-08-17T19:52:07.147203",
     "status": "completed"
    },
    "tags": []
   },
   "outputs": [
    {
     "name": "stdout",
     "output_type": "stream",
     "text": [
      "\n",
      " Epoch 1 / 50\n",
      "\n",
      "Evaluating after the test: \n",
      "\n",
      "Training Loss: 0.6906954006450933\n",
      "Validation Loss: 0.6191703279813131\n",
      "Training Accuracy: 54.28%\n",
      "Validation Accuracy: 61.68%\n",
      "\n",
      " Epoch 2 / 50\n",
      "\n",
      "Evaluating after the test: \n",
      "\n",
      "Training Loss: 0.6708111595816728\n",
      "Validation Loss: 0.5815476526816686\n",
      "Training Accuracy: 59.06%\n",
      "Validation Accuracy: 63.86%\n",
      "\n",
      " Epoch 3 / 50\n",
      "\n",
      "Evaluating after the test: \n",
      "\n",
      "Training Loss: 0.6156734867793757\n",
      "Validation Loss: 0.6360302964846293\n",
      "Training Accuracy: 66.49%\n",
      "Validation Accuracy: 59.81%\n",
      "\n",
      " Epoch 4 / 50\n",
      "\n",
      "Evaluating after the test: \n",
      "\n",
      "Training Loss: 0.5990122185974587\n",
      "Validation Loss: 0.5161586950222651\n",
      "Training Accuracy: 67.46%\n",
      "Validation Accuracy: 76.32%\n",
      "\n",
      " Epoch 5 / 50\n",
      "\n",
      "Evaluating after the test: \n",
      "\n",
      "Training Loss: 0.5616803052948742\n",
      "Validation Loss: 0.5789020707209905\n",
      "Training Accuracy: 72.36%\n",
      "Validation Accuracy: 61.37%\n",
      "\n",
      " Epoch 6 / 50\n",
      "\n",
      "Evaluating after the test: \n",
      "\n",
      "Training Loss: 0.5615128663981833\n",
      "Validation Loss: 0.5589912595848242\n",
      "Training Accuracy: 71.50%\n",
      "Validation Accuracy: 65.73%\n",
      "\n",
      " Epoch 7 / 50\n",
      "\n",
      "Evaluating after the test: \n",
      "\n",
      "Training Loss: 0.5365737843804244\n",
      "Validation Loss: 0.47930371512969333\n",
      "Training Accuracy: 73.95%\n",
      "Validation Accuracy: 76.95%\n",
      "\n",
      " Epoch 8 / 50\n",
      "\n",
      "Evaluating after the test: \n",
      "\n",
      "Training Loss: 0.5368021181443843\n",
      "Validation Loss: 0.47061912218729657\n",
      "Training Accuracy: 72.51%\n",
      "Validation Accuracy: 76.64%\n",
      "\n",
      " Epoch 9 / 50\n",
      "\n",
      "Evaluating after the test: \n",
      "\n",
      "Training Loss: 0.517575666671846\n",
      "Validation Loss: 0.4667811890443166\n",
      "Training Accuracy: 74.34%\n",
      "Validation Accuracy: 75.39%\n",
      "\n",
      " Epoch 10 / 50\n",
      "\n",
      "Evaluating after the test: \n",
      "\n",
      "Training Loss: 0.5403517797225859\n",
      "Validation Loss: 0.4573078205188115\n",
      "Training Accuracy: 72.32%\n",
      "Validation Accuracy: 79.13%\n",
      "\n",
      " Epoch 11 / 50\n",
      "\n",
      "Evaluating after the test: \n",
      "\n",
      "Training Loss: 0.52455382085428\n",
      "Validation Loss: 0.5371739765008291\n",
      "Training Accuracy: 74.11%\n",
      "Validation Accuracy: 68.85%\n",
      "\n",
      " Epoch 12 / 50\n",
      "\n",
      "Evaluating after the test: \n",
      "\n",
      "Training Loss: 0.5435358881950378\n",
      "Validation Loss: 0.47133656839529675\n",
      "Training Accuracy: 72.67%\n",
      "Validation Accuracy: 79.13%\n",
      "\n",
      " Epoch 13 / 50\n",
      "\n",
      "Evaluating after the test: \n",
      "\n",
      "Training Loss: 0.5348103337171601\n",
      "Validation Loss: 0.45629649857680005\n",
      "Training Accuracy: 73.02%\n",
      "Validation Accuracy: 79.44%\n",
      "\n",
      " Epoch 14 / 50\n",
      "\n",
      "Evaluating after the test: \n",
      "\n",
      "Training Loss: 0.5111752021603468\n",
      "Validation Loss: 0.5774667660395304\n",
      "Training Accuracy: 74.92%\n",
      "Validation Accuracy: 65.42%\n",
      "\n",
      " Epoch 15 / 50\n",
      "\n",
      "Evaluating after the test: \n",
      "\n",
      "Training Loss: 0.5263218399955005\n",
      "Validation Loss: 0.49612724781036377\n",
      "Training Accuracy: 73.95%\n",
      "Validation Accuracy: 74.77%\n",
      "\n",
      " Epoch 16 / 50\n",
      "\n",
      "Evaluating after the test: \n",
      "\n",
      "Training Loss: 0.5413770959144686\n",
      "Validation Loss: 0.48044533530871075\n",
      "Training Accuracy: 72.86%\n",
      "Validation Accuracy: 76.01%\n",
      "\n",
      " Epoch 17 / 50\n",
      "\n",
      "Evaluating after the test: \n",
      "\n",
      "Training Loss: 0.5642865314716246\n",
      "Validation Loss: 0.5828507045904795\n",
      "Training Accuracy: 72.98%\n",
      "Validation Accuracy: 66.04%\n",
      "\n",
      " Epoch 18 / 50\n",
      "\n",
      "Evaluating after the test: \n",
      "\n",
      "Training Loss: 0.5107856189332357\n",
      "Validation Loss: 0.49712708095709485\n",
      "Training Accuracy: 74.96%\n",
      "Validation Accuracy: 75.39%\n",
      "\n",
      " Epoch 19 / 50\n",
      "\n",
      "Evaluating after the test: \n",
      "\n",
      "Training Loss: 0.5140188685277614\n",
      "Validation Loss: 0.5331377138694128\n",
      "Training Accuracy: 75.16%\n",
      "Validation Accuracy: 71.34%\n",
      "\n",
      " Epoch 20 / 50\n",
      "\n",
      "Evaluating after the test: \n",
      "\n",
      "Training Loss: 0.5070950577898723\n",
      "Validation Loss: 0.44787564625342685\n",
      "Training Accuracy: 75.97%\n",
      "Validation Accuracy: 80.37%\n",
      "\n",
      " Epoch 21 / 50\n",
      "\n",
      "Evaluating after the test: \n",
      "\n",
      "Training Loss: 0.4993202649965519\n",
      "Validation Loss: 0.4564476857582728\n",
      "Training Accuracy: 76.09%\n",
      "Validation Accuracy: 77.88%\n",
      "\n",
      " Epoch 22 / 50\n",
      "\n",
      "Evaluating after the test: \n",
      "\n",
      "Training Loss: 0.5052669193686509\n",
      "Validation Loss: 0.48921752472718555\n",
      "Training Accuracy: 75.47%\n",
      "Validation Accuracy: 75.08%\n",
      "\n",
      " Epoch 23 / 50\n",
      "\n",
      "Evaluating after the test: \n",
      "\n",
      "Training Loss: 0.4841364956483608\n",
      "Validation Loss: 0.5063949277003607\n",
      "Training Accuracy: 77.02%\n",
      "Validation Accuracy: 73.21%\n",
      "\n",
      " Epoch 24 / 50\n",
      "\n",
      "Evaluating after the test: \n",
      "\n",
      "Training Loss: 0.48934560941486827\n",
      "Validation Loss: 0.4385964882870515\n",
      "Training Accuracy: 76.24%\n",
      "Validation Accuracy: 78.50%\n",
      "\n",
      " Epoch 25 / 50\n",
      "\n",
      "Evaluating after the test: \n",
      "\n",
      "Training Loss: 0.5049560462556234\n",
      "Validation Loss: 0.511136764039596\n",
      "Training Accuracy: 74.73%\n",
      "Validation Accuracy: 70.09%\n",
      "\n",
      " Epoch 26 / 50\n",
      "\n",
      "Evaluating after the test: \n",
      "\n",
      "Training Loss: 0.5018111074843058\n",
      "Validation Loss: 0.44221413880586624\n",
      "Training Accuracy: 75.35%\n",
      "Validation Accuracy: 80.37%\n",
      "\n",
      " Epoch 27 / 50\n",
      "\n",
      "Evaluating after the test: \n",
      "\n",
      "Training Loss: 0.4919943896735587\n",
      "Validation Loss: 0.4565657675266266\n",
      "Training Accuracy: 76.59%\n",
      "Validation Accuracy: 77.88%\n",
      "\n",
      " Epoch 28 / 50\n",
      "\n",
      "Evaluating after the test: \n",
      "\n",
      "Training Loss: 0.5079498043874415\n",
      "Validation Loss: 0.45094798505306244\n",
      "Training Accuracy: 75.04%\n",
      "Validation Accuracy: 77.57%\n",
      "\n",
      " Epoch 29 / 50\n",
      "\n",
      "Evaluating after the test: \n",
      "\n",
      "Training Loss: 0.497751731698106\n",
      "Validation Loss: 0.456509539236625\n",
      "Training Accuracy: 76.28%\n",
      "Validation Accuracy: 76.95%\n",
      "\n",
      " Epoch 30 / 50\n",
      "\n",
      "Evaluating after the test: \n",
      "\n",
      "Training Loss: 0.49020200749722925\n",
      "Validation Loss: 0.44930201147993404\n",
      "Training Accuracy: 76.67%\n",
      "Validation Accuracy: 77.88%\n",
      "\n",
      " Epoch 31 / 50\n",
      "\n",
      "Evaluating after the test: \n",
      "\n",
      "Training Loss: 0.48752947115316625\n",
      "Validation Loss: 0.4324755867322286\n",
      "Training Accuracy: 76.56%\n",
      "Validation Accuracy: 80.37%\n",
      "\n",
      " Epoch 32 / 50\n",
      "\n",
      "Evaluating after the test: \n",
      "\n",
      "Training Loss: 0.4772600720568401\n",
      "Validation Loss: 0.46855481962362927\n",
      "Training Accuracy: 77.41%\n",
      "Validation Accuracy: 77.26%\n",
      "\n",
      " Epoch 33 / 50\n",
      "\n",
      "Evaluating after the test: \n",
      "\n",
      "Training Loss: 0.5131023075522446\n",
      "Validation Loss: 0.443707508345445\n",
      "Training Accuracy: 74.84%\n",
      "Validation Accuracy: 79.44%\n",
      "\n",
      " Epoch 34 / 50\n",
      "\n",
      "Evaluating after the test: \n",
      "\n",
      "Training Loss: 0.4743965224521916\n",
      "Validation Loss: 0.43079980711142224\n",
      "Training Accuracy: 77.06%\n",
      "Validation Accuracy: 80.06%\n",
      "\n",
      " Epoch 35 / 50\n",
      "\n",
      "Evaluating after the test: \n",
      "\n",
      "Training Loss: 0.5024190268865446\n",
      "Validation Loss: 0.4338195597132047\n",
      "Training Accuracy: 76.01%\n",
      "Validation Accuracy: 79.44%\n",
      "\n",
      " Epoch 36 / 50\n",
      "\n",
      "Evaluating after the test: \n",
      "\n",
      "Training Loss: 0.4831950075742675\n",
      "Validation Loss: 0.46882031857967377\n",
      "Training Accuracy: 77.84%\n",
      "Validation Accuracy: 76.64%\n",
      "\n",
      " Epoch 37 / 50\n",
      "\n",
      "Evaluating after the test: \n",
      "\n",
      "Training Loss: 0.49373263047962657\n",
      "Validation Loss: 0.4343547100822131\n",
      "Training Accuracy: 76.59%\n",
      "Validation Accuracy: 79.44%\n",
      "\n",
      " Epoch 38 / 50\n",
      "\n",
      "Evaluating after the test: \n",
      "\n",
      "Training Loss: 0.48898783108083216\n",
      "Validation Loss: 0.42652132858832675\n",
      "Training Accuracy: 76.79%\n",
      "Validation Accuracy: 81.31%\n",
      "\n",
      " Epoch 39 / 50\n",
      "\n",
      "Evaluating after the test: \n",
      "\n",
      "Training Loss: 0.4690835432308476\n",
      "Validation Loss: 0.4354497566819191\n",
      "Training Accuracy: 77.49%\n",
      "Validation Accuracy: 78.82%\n",
      "\n",
      " Epoch 40 / 50\n",
      "\n",
      "Evaluating after the test: \n",
      "\n",
      "Training Loss: 0.4729194117755425\n",
      "Validation Loss: 0.42123021682103473\n",
      "Training Accuracy: 77.02%\n",
      "Validation Accuracy: 79.75%\n",
      "\n",
      " Epoch 41 / 50\n",
      "\n",
      "Evaluating after the test: \n",
      "\n",
      "Training Loss: 0.48731335343384163\n",
      "Validation Loss: 0.44282687455415726\n",
      "Training Accuracy: 76.40%\n",
      "Validation Accuracy: 77.88%\n",
      "\n",
      " Epoch 42 / 50\n",
      "\n",
      "Evaluating after the test: \n",
      "\n",
      "Training Loss: 0.48515157728660396\n",
      "Validation Loss: 0.43482444683710736\n",
      "Training Accuracy: 76.52%\n",
      "Validation Accuracy: 80.06%\n",
      "\n",
      " Epoch 43 / 50\n",
      "\n",
      "Evaluating after the test: \n",
      "\n",
      "Training Loss: 0.4780142372701226\n",
      "Validation Loss: 0.42786259576678276\n",
      "Training Accuracy: 76.75%\n",
      "Validation Accuracy: 79.75%\n",
      "\n",
      " Epoch 44 / 50\n",
      "\n",
      "Evaluating after the test: \n",
      "\n",
      "Training Loss: 0.47483004084447533\n",
      "Validation Loss: 0.45705532530943555\n",
      "Training Accuracy: 77.22%\n",
      "Validation Accuracy: 75.39%\n",
      "\n",
      " Epoch 45 / 50\n",
      "\n",
      "Evaluating after the test: \n",
      "\n",
      "Training Loss: 0.48978494289444713\n",
      "Validation Loss: 0.4426850477854411\n",
      "Training Accuracy: 76.91%\n",
      "Validation Accuracy: 78.82%\n",
      "\n",
      " Epoch 46 / 50\n",
      "\n",
      "Evaluating after the test: \n",
      "\n",
      "Training Loss: 0.4919549939109058\n",
      "Validation Loss: 0.45836785435676575\n",
      "Training Accuracy: 76.59%\n",
      "Validation Accuracy: 78.19%\n",
      "\n",
      " Epoch 47 / 50\n",
      "\n",
      "Evaluating after the test: \n",
      "\n",
      "Training Loss: 0.4665331433459026\n",
      "Validation Loss: 0.4227220043540001\n",
      "Training Accuracy: 77.64%\n",
      "Validation Accuracy: 80.37%\n",
      "\n",
      " Epoch 48 / 50\n",
      "\n",
      "Evaluating after the test: \n",
      "\n",
      "Training Loss: 0.46295410031225626\n",
      "Validation Loss: 0.42135216544071835\n",
      "Training Accuracy: 78.11%\n",
      "Validation Accuracy: 79.75%\n",
      "\n",
      " Epoch 49 / 50\n",
      "\n",
      "Evaluating after the test: \n",
      "\n",
      "Training Loss: 0.4858515647853293\n",
      "Validation Loss: 0.42169346163670224\n",
      "Training Accuracy: 76.59%\n",
      "Validation Accuracy: 78.82%\n",
      "\n",
      " Epoch 50 / 50\n",
      "\n",
      "Evaluating after the test: \n",
      "\n",
      "Training Loss: 0.4706562706610052\n",
      "Validation Loss: 0.41840196400880814\n",
      "Training Accuracy: 79.16%\n",
      "Validation Accuracy: 81.00%\n"
     ]
    }
   ],
   "source": [
    "best_valid_loss = float('inf')\n",
    "train_losses = []\n",
    "valid_losses = []\n",
    "train_accuracies = []\n",
    "valid_accuracies = []\n",
    "\n",
    "for epoch in range(epochs):\n",
    "    print('\\n Epoch {:} / {:}'.format(epoch + 1, epochs))\n",
    "    \n",
    "    train_loss, train_preds, train_labels = train()\n",
    "    valid_loss, valid_preds, valid_labels = evaluate()\n",
    "    train_accuracy = calculate_accuracy(train_preds, train_labels)\n",
    "    valid_accuracy = calculate_accuracy(valid_preds, valid_labels)\n",
    "\n",
    "    if valid_loss < best_valid_loss:\n",
    "        best_valid_loss = valid_loss\n",
    "        torch.save(model.state_dict(), 'saved_weights.pt')\n",
    "    \n",
    "    train_losses.append(train_loss)\n",
    "    valid_losses.append(valid_loss)\n",
    "    train_accuracies.append(train_accuracy)\n",
    "    valid_accuracies.append(valid_accuracy)\n",
    "    \n",
    "    print('\\nTraining Loss: {}'.format(train_loss))\n",
    "    print('Validation Loss: {}'.format(valid_loss))\n",
    "    print('Training Accuracy: {:.2f}%'.format(train_accuracy * 100))\n",
    "    print('Validation Accuracy: {:.2f}%'.format(valid_accuracy * 100))\n"
   ]
  },
  {
   "cell_type": "code",
   "execution_count": 44,
   "id": "ac42adf6",
   "metadata": {
    "execution": {
     "iopub.execute_input": "2024-08-17T19:59:00.454024Z",
     "iopub.status.busy": "2024-08-17T19:59:00.453710Z",
     "iopub.status.idle": "2024-08-17T19:59:01.372874Z",
     "shell.execute_reply": "2024-08-17T19:59:01.371916Z"
    },
    "papermill": {
     "duration": 0.945613,
     "end_time": "2024-08-17T19:59:01.374923",
     "exception": false,
     "start_time": "2024-08-17T19:59:00.429310",
     "status": "completed"
    },
    "tags": []
   },
   "outputs": [
    {
     "name": "stdout",
     "output_type": "stream",
     "text": [
      "              precision    recall  f1-score   support\n",
      "\n",
      "           0       0.74      0.83      0.78       157\n",
      "           1       0.82      0.73      0.77       165\n",
      "\n",
      "    accuracy                           0.78       322\n",
      "   macro avg       0.78      0.78      0.78       322\n",
      "weighted avg       0.78      0.78      0.78       322\n",
      "\n"
     ]
    }
   ],
   "source": [
    "from sklearn.metrics import classification_report\n",
    "with torch.no_grad():\n",
    "  preds = model(test_seq.to(device), test_mask.to(device), test_token_type_ids.to(device))\n",
    "  preds = preds.detach().cpu().numpy()\n",
    "pred = np.argmax(preds, axis = 1)\n",
    "print(classification_report(test_y, pred))"
   ]
  },
  {
   "cell_type": "code",
   "execution_count": 45,
   "id": "9e22ebef",
   "metadata": {
    "execution": {
     "iopub.execute_input": "2024-08-17T19:59:01.424523Z",
     "iopub.status.busy": "2024-08-17T19:59:01.424205Z",
     "iopub.status.idle": "2024-08-17T19:59:01.457510Z",
     "shell.execute_reply": "2024-08-17T19:59:01.456459Z"
    },
    "papermill": {
     "duration": 0.060547,
     "end_time": "2024-08-17T19:59:01.459666",
     "exception": false,
     "start_time": "2024-08-17T19:59:01.399119",
     "status": "completed"
    },
    "tags": []
   },
   "outputs": [
    {
     "name": "stderr",
     "output_type": "stream",
     "text": [
      "Truncation was not explicitly activated but `max_length` is provided a specific value, please use `truncation=True` to explicitly truncate examples to max length. Defaulting to 'longest_first' truncation strategy. If you encode pairs of sequences (GLUE-style) with the tokenizer you can select this strategy more precisely by providing a specific strategy to `truncation`.\n"
     ]
    },
    {
     "name": "stdout",
     "output_type": "stream",
     "text": [
      "Predicted sentiment: Positive\n"
     ]
    },
    {
     "name": "stderr",
     "output_type": "stream",
     "text": [
      "/opt/conda/lib/python3.10/site-packages/transformers/tokenization_utils_base.py:2760: FutureWarning: The `pad_to_max_length` argument is deprecated and will be removed in a future version, use `padding=True` or `padding='longest'` to pad to the longest sequence in the batch, or use `padding='max_length'` to pad to a max length. In this case, you can give a specific length with `max_length` (e.g. `max_length=45`) or leave max_length to None to pad to the maximal input size of the model (e.g. 512 for Bert).\n",
      "  warnings.warn(\n"
     ]
    }
   ],
   "source": [
    "def predict_user_input(input_text, model, tokenizer, device):\n",
    "    inputs = tokenizer.encode_plus(\n",
    "        input_text,\n",
    "        add_special_tokens=True,\n",
    "        max_length=max_seq_len,\n",
    "        pad_to_max_length=True,\n",
    "        return_attention_mask=True,\n",
    "        return_token_type_ids=True,\n",
    "        return_tensors='pt',\n",
    "    )\n",
    "    input_ids = inputs['input_ids'].to(device)\n",
    "    attention_mask = inputs['attention_mask'].to(device)\n",
    "    token_type_ids = inputs['token_type_ids'].to(device)\n",
    "\n",
    "    with torch.no_grad():\n",
    "        outputs = model(input_ids, attention_mask, token_type_ids)\n",
    "        preds = torch.argmax(outputs, dim=1)\n",
    "    \n",
    "    return preds.item()\n",
    "max_seq_len=50\n",
    "input_text = \"what a badass character Arthur is, rckstr is the bst\"\n",
    "predicted_class = predict_user_input(input_text, model, tokenizer, device)\n",
    "if(predicted_class==0):\n",
    "    print('Predicted sentiment: Negative')\n",
    "else:\n",
    "    print('Predicted sentiment: Positive')"
   ]
  },
  {
   "cell_type": "code",
   "execution_count": null,
   "id": "63b5d9bf",
   "metadata": {
    "papermill": {
     "duration": 0.023639,
     "end_time": "2024-08-17T19:59:01.507472",
     "exception": false,
     "start_time": "2024-08-17T19:59:01.483833",
     "status": "completed"
    },
    "tags": []
   },
   "outputs": [],
   "source": []
  }
 ],
 "metadata": {
  "kaggle": {
   "accelerator": "nvidiaTeslaT4",
   "dataSources": [
    {
     "datasetId": 5557640,
     "sourceId": 9193227,
     "sourceType": "datasetVersion"
    }
   ],
   "dockerImageVersionId": 30747,
   "isGpuEnabled": true,
   "isInternetEnabled": true,
   "language": "python",
   "sourceType": "notebook"
  },
  "kernelspec": {
   "display_name": "Python 3",
   "language": "python",
   "name": "python3"
  },
  "language_info": {
   "codemirror_mode": {
    "name": "ipython",
    "version": 3
   },
   "file_extension": ".py",
   "mimetype": "text/x-python",
   "name": "python",
   "nbconvert_exporter": "python",
   "pygments_lexer": "ipython3",
   "version": "3.10.13"
  },
  "papermill": {
   "default_parameters": {},
   "duration": 435.41785,
   "end_time": "2024-08-17T19:59:03.997417",
   "environment_variables": {},
   "exception": null,
   "input_path": "__notebook__.ipynb",
   "output_path": "__notebook__.ipynb",
   "parameters": {},
   "start_time": "2024-08-17T19:51:48.579567",
   "version": "2.5.0"
  },
  "widgets": {
   "application/vnd.jupyter.widget-state+json": {
    "state": {
     "03c0d66cdfad440ba0f02bc134742723": {
      "model_module": "@jupyter-widgets/controls",
      "model_module_version": "1.5.0",
      "model_name": "DescriptionStyleModel",
      "state": {
       "_model_module": "@jupyter-widgets/controls",
       "_model_module_version": "1.5.0",
       "_model_name": "DescriptionStyleModel",
       "_view_count": null,
       "_view_module": "@jupyter-widgets/base",
       "_view_module_version": "1.2.0",
       "_view_name": "StyleView",
       "description_width": ""
      }
     },
     "196e5183d89b4d85a4e932404e0c07ee": {
      "model_module": "@jupyter-widgets/base",
      "model_module_version": "1.2.0",
      "model_name": "LayoutModel",
      "state": {
       "_model_module": "@jupyter-widgets/base",
       "_model_module_version": "1.2.0",
       "_model_name": "LayoutModel",
       "_view_count": null,
       "_view_module": "@jupyter-widgets/base",
       "_view_module_version": "1.2.0",
       "_view_name": "LayoutView",
       "align_content": null,
       "align_items": null,
       "align_self": null,
       "border": null,
       "bottom": null,
       "display": null,
       "flex": null,
       "flex_flow": null,
       "grid_area": null,
       "grid_auto_columns": null,
       "grid_auto_flow": null,
       "grid_auto_rows": null,
       "grid_column": null,
       "grid_gap": null,
       "grid_row": null,
       "grid_template_areas": null,
       "grid_template_columns": null,
       "grid_template_rows": null,
       "height": null,
       "justify_content": null,
       "justify_items": null,
       "left": null,
       "margin": null,
       "max_height": null,
       "max_width": null,
       "min_height": null,
       "min_width": null,
       "object_fit": null,
       "object_position": null,
       "order": null,
       "overflow": null,
       "overflow_x": null,
       "overflow_y": null,
       "padding": null,
       "right": null,
       "top": null,
       "visibility": null,
       "width": null
      }
     },
     "1b08218b08484185afb509afcb6b2b7f": {
      "model_module": "@jupyter-widgets/controls",
      "model_module_version": "1.5.0",
      "model_name": "HTMLModel",
      "state": {
       "_dom_classes": [],
       "_model_module": "@jupyter-widgets/controls",
       "_model_module_version": "1.5.0",
       "_model_name": "HTMLModel",
       "_view_count": null,
       "_view_module": "@jupyter-widgets/controls",
       "_view_module_version": "1.5.0",
       "_view_name": "HTMLView",
       "description": "",
       "description_tooltip": null,
       "layout": "IPY_MODEL_6eb64f96d68849e893981085b0138a91",
       "placeholder": "​",
       "style": "IPY_MODEL_4013251ccef5409fa617930a4976c158",
       "value": "tokenizer.json: 100%"
      }
     },
     "2873c8b7fec44dc2a13648e9c9777b7d": {
      "model_module": "@jupyter-widgets/controls",
      "model_module_version": "1.5.0",
      "model_name": "FloatProgressModel",
      "state": {
       "_dom_classes": [],
       "_model_module": "@jupyter-widgets/controls",
       "_model_module_version": "1.5.0",
       "_model_name": "FloatProgressModel",
       "_view_count": null,
       "_view_module": "@jupyter-widgets/controls",
       "_view_module_version": "1.5.0",
       "_view_name": "ProgressView",
       "bar_style": "success",
       "description": "",
       "description_tooltip": null,
       "layout": "IPY_MODEL_be0d13e7abcc4777bf8edcbadd09dfb6",
       "max": 440449768.0,
       "min": 0.0,
       "orientation": "horizontal",
       "style": "IPY_MODEL_35dd82963810451f86f1c3090f3fa1ff",
       "value": 440449768.0
      }
     },
     "3214613dd8374c5aa3ad76e7690f2301": {
      "model_module": "@jupyter-widgets/controls",
      "model_module_version": "1.5.0",
      "model_name": "HTMLModel",
      "state": {
       "_dom_classes": [],
       "_model_module": "@jupyter-widgets/controls",
       "_model_module_version": "1.5.0",
       "_model_name": "HTMLModel",
       "_view_count": null,
       "_view_module": "@jupyter-widgets/controls",
       "_view_module_version": "1.5.0",
       "_view_name": "HTMLView",
       "description": "",
       "description_tooltip": null,
       "layout": "IPY_MODEL_41758e31b30940fd887a269f9e56dedb",
       "placeholder": "​",
       "style": "IPY_MODEL_e69b00c5d2d8450fae8cb99966d009c8",
       "value": " 232k/232k [00:00&lt;00:00, 1.73MB/s]"
      }
     },
     "35dd82963810451f86f1c3090f3fa1ff": {
      "model_module": "@jupyter-widgets/controls",
      "model_module_version": "1.5.0",
      "model_name": "ProgressStyleModel",
      "state": {
       "_model_module": "@jupyter-widgets/controls",
       "_model_module_version": "1.5.0",
       "_model_name": "ProgressStyleModel",
       "_view_count": null,
       "_view_module": "@jupyter-widgets/base",
       "_view_module_version": "1.2.0",
       "_view_name": "StyleView",
       "bar_color": null,
       "description_width": ""
      }
     },
     "377942556ad34b16a45a9f926e6b744a": {
      "model_module": "@jupyter-widgets/base",
      "model_module_version": "1.2.0",
      "model_name": "LayoutModel",
      "state": {
       "_model_module": "@jupyter-widgets/base",
       "_model_module_version": "1.2.0",
       "_model_name": "LayoutModel",
       "_view_count": null,
       "_view_module": "@jupyter-widgets/base",
       "_view_module_version": "1.2.0",
       "_view_name": "LayoutView",
       "align_content": null,
       "align_items": null,
       "align_self": null,
       "border": null,
       "bottom": null,
       "display": null,
       "flex": null,
       "flex_flow": null,
       "grid_area": null,
       "grid_auto_columns": null,
       "grid_auto_flow": null,
       "grid_auto_rows": null,
       "grid_column": null,
       "grid_gap": null,
       "grid_row": null,
       "grid_template_areas": null,
       "grid_template_columns": null,
       "grid_template_rows": null,
       "height": null,
       "justify_content": null,
       "justify_items": null,
       "left": null,
       "margin": null,
       "max_height": null,
       "max_width": null,
       "min_height": null,
       "min_width": null,
       "object_fit": null,
       "object_position": null,
       "order": null,
       "overflow": null,
       "overflow_x": null,
       "overflow_y": null,
       "padding": null,
       "right": null,
       "top": null,
       "visibility": null,
       "width": null
      }
     },
     "3a436a68143346c19673094f9df40261": {
      "model_module": "@jupyter-widgets/controls",
      "model_module_version": "1.5.0",
      "model_name": "FloatProgressModel",
      "state": {
       "_dom_classes": [],
       "_model_module": "@jupyter-widgets/controls",
       "_model_module_version": "1.5.0",
       "_model_name": "FloatProgressModel",
       "_view_count": null,
       "_view_module": "@jupyter-widgets/controls",
       "_view_module_version": "1.5.0",
       "_view_name": "ProgressView",
       "bar_style": "success",
       "description": "",
       "description_tooltip": null,
       "layout": "IPY_MODEL_dbcb2f7b66854d59b2e10171114b2528",
       "max": 570.0,
       "min": 0.0,
       "orientation": "horizontal",
       "style": "IPY_MODEL_d370b12813fb4730b7deb2604775df51",
       "value": 570.0
      }
     },
     "4013251ccef5409fa617930a4976c158": {
      "model_module": "@jupyter-widgets/controls",
      "model_module_version": "1.5.0",
      "model_name": "DescriptionStyleModel",
      "state": {
       "_model_module": "@jupyter-widgets/controls",
       "_model_module_version": "1.5.0",
       "_model_name": "DescriptionStyleModel",
       "_view_count": null,
       "_view_module": "@jupyter-widgets/base",
       "_view_module_version": "1.2.0",
       "_view_name": "StyleView",
       "description_width": ""
      }
     },
     "41758e31b30940fd887a269f9e56dedb": {
      "model_module": "@jupyter-widgets/base",
      "model_module_version": "1.2.0",
      "model_name": "LayoutModel",
      "state": {
       "_model_module": "@jupyter-widgets/base",
       "_model_module_version": "1.2.0",
       "_model_name": "LayoutModel",
       "_view_count": null,
       "_view_module": "@jupyter-widgets/base",
       "_view_module_version": "1.2.0",
       "_view_name": "LayoutView",
       "align_content": null,
       "align_items": null,
       "align_self": null,
       "border": null,
       "bottom": null,
       "display": null,
       "flex": null,
       "flex_flow": null,
       "grid_area": null,
       "grid_auto_columns": null,
       "grid_auto_flow": null,
       "grid_auto_rows": null,
       "grid_column": null,
       "grid_gap": null,
       "grid_row": null,
       "grid_template_areas": null,
       "grid_template_columns": null,
       "grid_template_rows": null,
       "height": null,
       "justify_content": null,
       "justify_items": null,
       "left": null,
       "margin": null,
       "max_height": null,
       "max_width": null,
       "min_height": null,
       "min_width": null,
       "object_fit": null,
       "object_position": null,
       "order": null,
       "overflow": null,
       "overflow_x": null,
       "overflow_y": null,
       "padding": null,
       "right": null,
       "top": null,
       "visibility": null,
       "width": null
      }
     },
     "4d5c6fc6b86a49cbb20608841ce9b762": {
      "model_module": "@jupyter-widgets/controls",
      "model_module_version": "1.5.0",
      "model_name": "ProgressStyleModel",
      "state": {
       "_model_module": "@jupyter-widgets/controls",
       "_model_module_version": "1.5.0",
       "_model_name": "ProgressStyleModel",
       "_view_count": null,
       "_view_module": "@jupyter-widgets/base",
       "_view_module_version": "1.2.0",
       "_view_name": "StyleView",
       "bar_color": null,
       "description_width": ""
      }
     },
     "5ac62b1d9075487faacbacfde8285f57": {
      "model_module": "@jupyter-widgets/base",
      "model_module_version": "1.2.0",
      "model_name": "LayoutModel",
      "state": {
       "_model_module": "@jupyter-widgets/base",
       "_model_module_version": "1.2.0",
       "_model_name": "LayoutModel",
       "_view_count": null,
       "_view_module": "@jupyter-widgets/base",
       "_view_module_version": "1.2.0",
       "_view_name": "LayoutView",
       "align_content": null,
       "align_items": null,
       "align_self": null,
       "border": null,
       "bottom": null,
       "display": null,
       "flex": null,
       "flex_flow": null,
       "grid_area": null,
       "grid_auto_columns": null,
       "grid_auto_flow": null,
       "grid_auto_rows": null,
       "grid_column": null,
       "grid_gap": null,
       "grid_row": null,
       "grid_template_areas": null,
       "grid_template_columns": null,
       "grid_template_rows": null,
       "height": null,
       "justify_content": null,
       "justify_items": null,
       "left": null,
       "margin": null,
       "max_height": null,
       "max_width": null,
       "min_height": null,
       "min_width": null,
       "object_fit": null,
       "object_position": null,
       "order": null,
       "overflow": null,
       "overflow_x": null,
       "overflow_y": null,
       "padding": null,
       "right": null,
       "top": null,
       "visibility": null,
       "width": null
      }
     },
     "60027e5142e44364b0e9d990ff10593d": {
      "model_module": "@jupyter-widgets/controls",
      "model_module_version": "1.5.0",
      "model_name": "DescriptionStyleModel",
      "state": {
       "_model_module": "@jupyter-widgets/controls",
       "_model_module_version": "1.5.0",
       "_model_name": "DescriptionStyleModel",
       "_view_count": null,
       "_view_module": "@jupyter-widgets/base",
       "_view_module_version": "1.2.0",
       "_view_name": "StyleView",
       "description_width": ""
      }
     },
     "6444a5ed45a2408c96b00076f2fed49f": {
      "model_module": "@jupyter-widgets/controls",
      "model_module_version": "1.5.0",
      "model_name": "FloatProgressModel",
      "state": {
       "_dom_classes": [],
       "_model_module": "@jupyter-widgets/controls",
       "_model_module_version": "1.5.0",
       "_model_name": "FloatProgressModel",
       "_view_count": null,
       "_view_module": "@jupyter-widgets/controls",
       "_view_module_version": "1.5.0",
       "_view_name": "ProgressView",
       "bar_style": "success",
       "description": "",
       "description_tooltip": null,
       "layout": "IPY_MODEL_9bb33d30834c40c2b9742acb109b428d",
       "max": 48.0,
       "min": 0.0,
       "orientation": "horizontal",
       "style": "IPY_MODEL_ec0538278cc6469f83e34ff1a8de3bf9",
       "value": 48.0
      }
     },
     "686b32c8ee9845878220c97c262389c4": {
      "model_module": "@jupyter-widgets/controls",
      "model_module_version": "1.5.0",
      "model_name": "FloatProgressModel",
      "state": {
       "_dom_classes": [],
       "_model_module": "@jupyter-widgets/controls",
       "_model_module_version": "1.5.0",
       "_model_name": "FloatProgressModel",
       "_view_count": null,
       "_view_module": "@jupyter-widgets/controls",
       "_view_module_version": "1.5.0",
       "_view_name": "ProgressView",
       "bar_style": "success",
       "description": "",
       "description_tooltip": null,
       "layout": "IPY_MODEL_f678836f75b14eddbb3d17f59e115563",
       "max": 466062.0,
       "min": 0.0,
       "orientation": "horizontal",
       "style": "IPY_MODEL_72fe5660f67340ef8ebaebcac6c7753e",
       "value": 466062.0
      }
     },
     "6959e4b5af9d4b9e86f7f1870c7ffb3f": {
      "model_module": "@jupyter-widgets/controls",
      "model_module_version": "1.5.0",
      "model_name": "HTMLModel",
      "state": {
       "_dom_classes": [],
       "_model_module": "@jupyter-widgets/controls",
       "_model_module_version": "1.5.0",
       "_model_name": "HTMLModel",
       "_view_count": null,
       "_view_module": "@jupyter-widgets/controls",
       "_view_module_version": "1.5.0",
       "_view_name": "HTMLView",
       "description": "",
       "description_tooltip": null,
       "layout": "IPY_MODEL_196e5183d89b4d85a4e932404e0c07ee",
       "placeholder": "​",
       "style": "IPY_MODEL_ab5eb18b63e248dfa756d3c9d782b27a",
       "value": " 570/570 [00:00&lt;00:00, 51.9kB/s]"
      }
     },
     "6a0bddd5403c4c949dc7ae4f1770973a": {
      "model_module": "@jupyter-widgets/base",
      "model_module_version": "1.2.0",
      "model_name": "LayoutModel",
      "state": {
       "_model_module": "@jupyter-widgets/base",
       "_model_module_version": "1.2.0",
       "_model_name": "LayoutModel",
       "_view_count": null,
       "_view_module": "@jupyter-widgets/base",
       "_view_module_version": "1.2.0",
       "_view_name": "LayoutView",
       "align_content": null,
       "align_items": null,
       "align_self": null,
       "border": null,
       "bottom": null,
       "display": null,
       "flex": null,
       "flex_flow": null,
       "grid_area": null,
       "grid_auto_columns": null,
       "grid_auto_flow": null,
       "grid_auto_rows": null,
       "grid_column": null,
       "grid_gap": null,
       "grid_row": null,
       "grid_template_areas": null,
       "grid_template_columns": null,
       "grid_template_rows": null,
       "height": null,
       "justify_content": null,
       "justify_items": null,
       "left": null,
       "margin": null,
       "max_height": null,
       "max_width": null,
       "min_height": null,
       "min_width": null,
       "object_fit": null,
       "object_position": null,
       "order": null,
       "overflow": null,
       "overflow_x": null,
       "overflow_y": null,
       "padding": null,
       "right": null,
       "top": null,
       "visibility": null,
       "width": null
      }
     },
     "6a986c3397e84ec1b1f96d050b38d618": {
      "model_module": "@jupyter-widgets/base",
      "model_module_version": "1.2.0",
      "model_name": "LayoutModel",
      "state": {
       "_model_module": "@jupyter-widgets/base",
       "_model_module_version": "1.2.0",
       "_model_name": "LayoutModel",
       "_view_count": null,
       "_view_module": "@jupyter-widgets/base",
       "_view_module_version": "1.2.0",
       "_view_name": "LayoutView",
       "align_content": null,
       "align_items": null,
       "align_self": null,
       "border": null,
       "bottom": null,
       "display": null,
       "flex": null,
       "flex_flow": null,
       "grid_area": null,
       "grid_auto_columns": null,
       "grid_auto_flow": null,
       "grid_auto_rows": null,
       "grid_column": null,
       "grid_gap": null,
       "grid_row": null,
       "grid_template_areas": null,
       "grid_template_columns": null,
       "grid_template_rows": null,
       "height": null,
       "justify_content": null,
       "justify_items": null,
       "left": null,
       "margin": null,
       "max_height": null,
       "max_width": null,
       "min_height": null,
       "min_width": null,
       "object_fit": null,
       "object_position": null,
       "order": null,
       "overflow": null,
       "overflow_x": null,
       "overflow_y": null,
       "padding": null,
       "right": null,
       "top": null,
       "visibility": null,
       "width": null
      }
     },
     "6eb64f96d68849e893981085b0138a91": {
      "model_module": "@jupyter-widgets/base",
      "model_module_version": "1.2.0",
      "model_name": "LayoutModel",
      "state": {
       "_model_module": "@jupyter-widgets/base",
       "_model_module_version": "1.2.0",
       "_model_name": "LayoutModel",
       "_view_count": null,
       "_view_module": "@jupyter-widgets/base",
       "_view_module_version": "1.2.0",
       "_view_name": "LayoutView",
       "align_content": null,
       "align_items": null,
       "align_self": null,
       "border": null,
       "bottom": null,
       "display": null,
       "flex": null,
       "flex_flow": null,
       "grid_area": null,
       "grid_auto_columns": null,
       "grid_auto_flow": null,
       "grid_auto_rows": null,
       "grid_column": null,
       "grid_gap": null,
       "grid_row": null,
       "grid_template_areas": null,
       "grid_template_columns": null,
       "grid_template_rows": null,
       "height": null,
       "justify_content": null,
       "justify_items": null,
       "left": null,
       "margin": null,
       "max_height": null,
       "max_width": null,
       "min_height": null,
       "min_width": null,
       "object_fit": null,
       "object_position": null,
       "order": null,
       "overflow": null,
       "overflow_x": null,
       "overflow_y": null,
       "padding": null,
       "right": null,
       "top": null,
       "visibility": null,
       "width": null
      }
     },
     "72fe5660f67340ef8ebaebcac6c7753e": {
      "model_module": "@jupyter-widgets/controls",
      "model_module_version": "1.5.0",
      "model_name": "ProgressStyleModel",
      "state": {
       "_model_module": "@jupyter-widgets/controls",
       "_model_module_version": "1.5.0",
       "_model_name": "ProgressStyleModel",
       "_view_count": null,
       "_view_module": "@jupyter-widgets/base",
       "_view_module_version": "1.2.0",
       "_view_name": "StyleView",
       "bar_color": null,
       "description_width": ""
      }
     },
     "746cf84af6b44b07ab34d1982bea0942": {
      "model_module": "@jupyter-widgets/controls",
      "model_module_version": "1.5.0",
      "model_name": "FloatProgressModel",
      "state": {
       "_dom_classes": [],
       "_model_module": "@jupyter-widgets/controls",
       "_model_module_version": "1.5.0",
       "_model_name": "FloatProgressModel",
       "_view_count": null,
       "_view_module": "@jupyter-widgets/controls",
       "_view_module_version": "1.5.0",
       "_view_name": "ProgressView",
       "bar_style": "success",
       "description": "",
       "description_tooltip": null,
       "layout": "IPY_MODEL_d0c48c79213b4b9e9ee55a4bc6327b9e",
       "max": 231508.0,
       "min": 0.0,
       "orientation": "horizontal",
       "style": "IPY_MODEL_4d5c6fc6b86a49cbb20608841ce9b762",
       "value": 231508.0
      }
     },
     "8019154c6215457595084a4fe2149145": {
      "model_module": "@jupyter-widgets/controls",
      "model_module_version": "1.5.0",
      "model_name": "HTMLModel",
      "state": {
       "_dom_classes": [],
       "_model_module": "@jupyter-widgets/controls",
       "_model_module_version": "1.5.0",
       "_model_name": "HTMLModel",
       "_view_count": null,
       "_view_module": "@jupyter-widgets/controls",
       "_view_module_version": "1.5.0",
       "_view_name": "HTMLView",
       "description": "",
       "description_tooltip": null,
       "layout": "IPY_MODEL_6a986c3397e84ec1b1f96d050b38d618",
       "placeholder": "​",
       "style": "IPY_MODEL_b405b8e1f15f4b3e951f65d8dbb564d9",
       "value": "model.safetensors: 100%"
      }
     },
     "8245390dfe54408faf943bf3dc7bcd88": {
      "model_module": "@jupyter-widgets/controls",
      "model_module_version": "1.5.0",
      "model_name": "DescriptionStyleModel",
      "state": {
       "_model_module": "@jupyter-widgets/controls",
       "_model_module_version": "1.5.0",
       "_model_name": "DescriptionStyleModel",
       "_view_count": null,
       "_view_module": "@jupyter-widgets/base",
       "_view_module_version": "1.2.0",
       "_view_name": "StyleView",
       "description_width": ""
      }
     },
     "85dcf1b49ac643ad8aa6a6edc010b872": {
      "model_module": "@jupyter-widgets/base",
      "model_module_version": "1.2.0",
      "model_name": "LayoutModel",
      "state": {
       "_model_module": "@jupyter-widgets/base",
       "_model_module_version": "1.2.0",
       "_model_name": "LayoutModel",
       "_view_count": null,
       "_view_module": "@jupyter-widgets/base",
       "_view_module_version": "1.2.0",
       "_view_name": "LayoutView",
       "align_content": null,
       "align_items": null,
       "align_self": null,
       "border": null,
       "bottom": null,
       "display": null,
       "flex": null,
       "flex_flow": null,
       "grid_area": null,
       "grid_auto_columns": null,
       "grid_auto_flow": null,
       "grid_auto_rows": null,
       "grid_column": null,
       "grid_gap": null,
       "grid_row": null,
       "grid_template_areas": null,
       "grid_template_columns": null,
       "grid_template_rows": null,
       "height": null,
       "justify_content": null,
       "justify_items": null,
       "left": null,
       "margin": null,
       "max_height": null,
       "max_width": null,
       "min_height": null,
       "min_width": null,
       "object_fit": null,
       "object_position": null,
       "order": null,
       "overflow": null,
       "overflow_x": null,
       "overflow_y": null,
       "padding": null,
       "right": null,
       "top": null,
       "visibility": null,
       "width": null
      }
     },
     "86c35be50c7b4ee5b19353996593330f": {
      "model_module": "@jupyter-widgets/controls",
      "model_module_version": "1.5.0",
      "model_name": "HBoxModel",
      "state": {
       "_dom_classes": [],
       "_model_module": "@jupyter-widgets/controls",
       "_model_module_version": "1.5.0",
       "_model_name": "HBoxModel",
       "_view_count": null,
       "_view_module": "@jupyter-widgets/controls",
       "_view_module_version": "1.5.0",
       "_view_name": "HBoxView",
       "box_style": "",
       "children": [
        "IPY_MODEL_c5efcf54642b4e2292c72200ccf42b4d",
        "IPY_MODEL_3a436a68143346c19673094f9df40261",
        "IPY_MODEL_6959e4b5af9d4b9e86f7f1870c7ffb3f"
       ],
       "layout": "IPY_MODEL_ed8b4401f9cc4bf3a88d23b00e6a4b6d"
      }
     },
     "8e312d0c30ec4e1f8b489d7ca8c3507c": {
      "model_module": "@jupyter-widgets/controls",
      "model_module_version": "1.5.0",
      "model_name": "HBoxModel",
      "state": {
       "_dom_classes": [],
       "_model_module": "@jupyter-widgets/controls",
       "_model_module_version": "1.5.0",
       "_model_name": "HBoxModel",
       "_view_count": null,
       "_view_module": "@jupyter-widgets/controls",
       "_view_module_version": "1.5.0",
       "_view_name": "HBoxView",
       "box_style": "",
       "children": [
        "IPY_MODEL_1b08218b08484185afb509afcb6b2b7f",
        "IPY_MODEL_686b32c8ee9845878220c97c262389c4",
        "IPY_MODEL_f553a6d0162d49e7ad0a4257f49e78a5"
       ],
       "layout": "IPY_MODEL_85dcf1b49ac643ad8aa6a6edc010b872"
      }
     },
     "8e85c73e24f34ea5b4990f2ba1d5a479": {
      "model_module": "@jupyter-widgets/controls",
      "model_module_version": "1.5.0",
      "model_name": "HTMLModel",
      "state": {
       "_dom_classes": [],
       "_model_module": "@jupyter-widgets/controls",
       "_model_module_version": "1.5.0",
       "_model_name": "HTMLModel",
       "_view_count": null,
       "_view_module": "@jupyter-widgets/controls",
       "_view_module_version": "1.5.0",
       "_view_name": "HTMLView",
       "description": "",
       "description_tooltip": null,
       "layout": "IPY_MODEL_f519a1671340402cb8698637bb48b256",
       "placeholder": "​",
       "style": "IPY_MODEL_60027e5142e44364b0e9d990ff10593d",
       "value": " 440M/440M [00:01&lt;00:00, 280MB/s]"
      }
     },
     "99ccf03107404e32b5403f2b2a11de97": {
      "model_module": "@jupyter-widgets/controls",
      "model_module_version": "1.5.0",
      "model_name": "HTMLModel",
      "state": {
       "_dom_classes": [],
       "_model_module": "@jupyter-widgets/controls",
       "_model_module_version": "1.5.0",
       "_model_name": "HTMLModel",
       "_view_count": null,
       "_view_module": "@jupyter-widgets/controls",
       "_view_module_version": "1.5.0",
       "_view_name": "HTMLView",
       "description": "",
       "description_tooltip": null,
       "layout": "IPY_MODEL_c96d880e144442e8ad9b1c6f1f231fe7",
       "placeholder": "​",
       "style": "IPY_MODEL_03c0d66cdfad440ba0f02bc134742723",
       "value": "tokenizer_config.json: 100%"
      }
     },
     "9bb33d30834c40c2b9742acb109b428d": {
      "model_module": "@jupyter-widgets/base",
      "model_module_version": "1.2.0",
      "model_name": "LayoutModel",
      "state": {
       "_model_module": "@jupyter-widgets/base",
       "_model_module_version": "1.2.0",
       "_model_name": "LayoutModel",
       "_view_count": null,
       "_view_module": "@jupyter-widgets/base",
       "_view_module_version": "1.2.0",
       "_view_name": "LayoutView",
       "align_content": null,
       "align_items": null,
       "align_self": null,
       "border": null,
       "bottom": null,
       "display": null,
       "flex": null,
       "flex_flow": null,
       "grid_area": null,
       "grid_auto_columns": null,
       "grid_auto_flow": null,
       "grid_auto_rows": null,
       "grid_column": null,
       "grid_gap": null,
       "grid_row": null,
       "grid_template_areas": null,
       "grid_template_columns": null,
       "grid_template_rows": null,
       "height": null,
       "justify_content": null,
       "justify_items": null,
       "left": null,
       "margin": null,
       "max_height": null,
       "max_width": null,
       "min_height": null,
       "min_width": null,
       "object_fit": null,
       "object_position": null,
       "order": null,
       "overflow": null,
       "overflow_x": null,
       "overflow_y": null,
       "padding": null,
       "right": null,
       "top": null,
       "visibility": null,
       "width": null
      }
     },
     "9fad88b2840d4476a8dc20b4781898b4": {
      "model_module": "@jupyter-widgets/base",
      "model_module_version": "1.2.0",
      "model_name": "LayoutModel",
      "state": {
       "_model_module": "@jupyter-widgets/base",
       "_model_module_version": "1.2.0",
       "_model_name": "LayoutModel",
       "_view_count": null,
       "_view_module": "@jupyter-widgets/base",
       "_view_module_version": "1.2.0",
       "_view_name": "LayoutView",
       "align_content": null,
       "align_items": null,
       "align_self": null,
       "border": null,
       "bottom": null,
       "display": null,
       "flex": null,
       "flex_flow": null,
       "grid_area": null,
       "grid_auto_columns": null,
       "grid_auto_flow": null,
       "grid_auto_rows": null,
       "grid_column": null,
       "grid_gap": null,
       "grid_row": null,
       "grid_template_areas": null,
       "grid_template_columns": null,
       "grid_template_rows": null,
       "height": null,
       "justify_content": null,
       "justify_items": null,
       "left": null,
       "margin": null,
       "max_height": null,
       "max_width": null,
       "min_height": null,
       "min_width": null,
       "object_fit": null,
       "object_position": null,
       "order": null,
       "overflow": null,
       "overflow_x": null,
       "overflow_y": null,
       "padding": null,
       "right": null,
       "top": null,
       "visibility": null,
       "width": null
      }
     },
     "a5ef436a2dc3495797c07fa706eb20b5": {
      "model_module": "@jupyter-widgets/base",
      "model_module_version": "1.2.0",
      "model_name": "LayoutModel",
      "state": {
       "_model_module": "@jupyter-widgets/base",
       "_model_module_version": "1.2.0",
       "_model_name": "LayoutModel",
       "_view_count": null,
       "_view_module": "@jupyter-widgets/base",
       "_view_module_version": "1.2.0",
       "_view_name": "LayoutView",
       "align_content": null,
       "align_items": null,
       "align_self": null,
       "border": null,
       "bottom": null,
       "display": null,
       "flex": null,
       "flex_flow": null,
       "grid_area": null,
       "grid_auto_columns": null,
       "grid_auto_flow": null,
       "grid_auto_rows": null,
       "grid_column": null,
       "grid_gap": null,
       "grid_row": null,
       "grid_template_areas": null,
       "grid_template_columns": null,
       "grid_template_rows": null,
       "height": null,
       "justify_content": null,
       "justify_items": null,
       "left": null,
       "margin": null,
       "max_height": null,
       "max_width": null,
       "min_height": null,
       "min_width": null,
       "object_fit": null,
       "object_position": null,
       "order": null,
       "overflow": null,
       "overflow_x": null,
       "overflow_y": null,
       "padding": null,
       "right": null,
       "top": null,
       "visibility": null,
       "width": null
      }
     },
     "ab5eb18b63e248dfa756d3c9d782b27a": {
      "model_module": "@jupyter-widgets/controls",
      "model_module_version": "1.5.0",
      "model_name": "DescriptionStyleModel",
      "state": {
       "_model_module": "@jupyter-widgets/controls",
       "_model_module_version": "1.5.0",
       "_model_name": "DescriptionStyleModel",
       "_view_count": null,
       "_view_module": "@jupyter-widgets/base",
       "_view_module_version": "1.2.0",
       "_view_name": "StyleView",
       "description_width": ""
      }
     },
     "acba68eba3fb43a0bddd7eb32adb3b28": {
      "model_module": "@jupyter-widgets/controls",
      "model_module_version": "1.5.0",
      "model_name": "DescriptionStyleModel",
      "state": {
       "_model_module": "@jupyter-widgets/controls",
       "_model_module_version": "1.5.0",
       "_model_name": "DescriptionStyleModel",
       "_view_count": null,
       "_view_module": "@jupyter-widgets/base",
       "_view_module_version": "1.2.0",
       "_view_name": "StyleView",
       "description_width": ""
      }
     },
     "b405b8e1f15f4b3e951f65d8dbb564d9": {
      "model_module": "@jupyter-widgets/controls",
      "model_module_version": "1.5.0",
      "model_name": "DescriptionStyleModel",
      "state": {
       "_model_module": "@jupyter-widgets/controls",
       "_model_module_version": "1.5.0",
       "_model_name": "DescriptionStyleModel",
       "_view_count": null,
       "_view_module": "@jupyter-widgets/base",
       "_view_module_version": "1.2.0",
       "_view_name": "StyleView",
       "description_width": ""
      }
     },
     "b809b1cc0e7e41dd8a5dbaab951615f2": {
      "model_module": "@jupyter-widgets/controls",
      "model_module_version": "1.5.0",
      "model_name": "HBoxModel",
      "state": {
       "_dom_classes": [],
       "_model_module": "@jupyter-widgets/controls",
       "_model_module_version": "1.5.0",
       "_model_name": "HBoxModel",
       "_view_count": null,
       "_view_module": "@jupyter-widgets/controls",
       "_view_module_version": "1.5.0",
       "_view_name": "HBoxView",
       "box_style": "",
       "children": [
        "IPY_MODEL_eadebdf64c2643b9983be8a73cbeb552",
        "IPY_MODEL_746cf84af6b44b07ab34d1982bea0942",
        "IPY_MODEL_3214613dd8374c5aa3ad76e7690f2301"
       ],
       "layout": "IPY_MODEL_6a0bddd5403c4c949dc7ae4f1770973a"
      }
     },
     "be0d13e7abcc4777bf8edcbadd09dfb6": {
      "model_module": "@jupyter-widgets/base",
      "model_module_version": "1.2.0",
      "model_name": "LayoutModel",
      "state": {
       "_model_module": "@jupyter-widgets/base",
       "_model_module_version": "1.2.0",
       "_model_name": "LayoutModel",
       "_view_count": null,
       "_view_module": "@jupyter-widgets/base",
       "_view_module_version": "1.2.0",
       "_view_name": "LayoutView",
       "align_content": null,
       "align_items": null,
       "align_self": null,
       "border": null,
       "bottom": null,
       "display": null,
       "flex": null,
       "flex_flow": null,
       "grid_area": null,
       "grid_auto_columns": null,
       "grid_auto_flow": null,
       "grid_auto_rows": null,
       "grid_column": null,
       "grid_gap": null,
       "grid_row": null,
       "grid_template_areas": null,
       "grid_template_columns": null,
       "grid_template_rows": null,
       "height": null,
       "justify_content": null,
       "justify_items": null,
       "left": null,
       "margin": null,
       "max_height": null,
       "max_width": null,
       "min_height": null,
       "min_width": null,
       "object_fit": null,
       "object_position": null,
       "order": null,
       "overflow": null,
       "overflow_x": null,
       "overflow_y": null,
       "padding": null,
       "right": null,
       "top": null,
       "visibility": null,
       "width": null
      }
     },
     "c5efcf54642b4e2292c72200ccf42b4d": {
      "model_module": "@jupyter-widgets/controls",
      "model_module_version": "1.5.0",
      "model_name": "HTMLModel",
      "state": {
       "_dom_classes": [],
       "_model_module": "@jupyter-widgets/controls",
       "_model_module_version": "1.5.0",
       "_model_name": "HTMLModel",
       "_view_count": null,
       "_view_module": "@jupyter-widgets/controls",
       "_view_module_version": "1.5.0",
       "_view_name": "HTMLView",
       "description": "",
       "description_tooltip": null,
       "layout": "IPY_MODEL_5ac62b1d9075487faacbacfde8285f57",
       "placeholder": "​",
       "style": "IPY_MODEL_8245390dfe54408faf943bf3dc7bcd88",
       "value": "config.json: 100%"
      }
     },
     "c617146c0bf24e24a74e36529851a695": {
      "model_module": "@jupyter-widgets/controls",
      "model_module_version": "1.5.0",
      "model_name": "DescriptionStyleModel",
      "state": {
       "_model_module": "@jupyter-widgets/controls",
       "_model_module_version": "1.5.0",
       "_model_name": "DescriptionStyleModel",
       "_view_count": null,
       "_view_module": "@jupyter-widgets/base",
       "_view_module_version": "1.2.0",
       "_view_name": "StyleView",
       "description_width": ""
      }
     },
     "c96d880e144442e8ad9b1c6f1f231fe7": {
      "model_module": "@jupyter-widgets/base",
      "model_module_version": "1.2.0",
      "model_name": "LayoutModel",
      "state": {
       "_model_module": "@jupyter-widgets/base",
       "_model_module_version": "1.2.0",
       "_model_name": "LayoutModel",
       "_view_count": null,
       "_view_module": "@jupyter-widgets/base",
       "_view_module_version": "1.2.0",
       "_view_name": "LayoutView",
       "align_content": null,
       "align_items": null,
       "align_self": null,
       "border": null,
       "bottom": null,
       "display": null,
       "flex": null,
       "flex_flow": null,
       "grid_area": null,
       "grid_auto_columns": null,
       "grid_auto_flow": null,
       "grid_auto_rows": null,
       "grid_column": null,
       "grid_gap": null,
       "grid_row": null,
       "grid_template_areas": null,
       "grid_template_columns": null,
       "grid_template_rows": null,
       "height": null,
       "justify_content": null,
       "justify_items": null,
       "left": null,
       "margin": null,
       "max_height": null,
       "max_width": null,
       "min_height": null,
       "min_width": null,
       "object_fit": null,
       "object_position": null,
       "order": null,
       "overflow": null,
       "overflow_x": null,
       "overflow_y": null,
       "padding": null,
       "right": null,
       "top": null,
       "visibility": null,
       "width": null
      }
     },
     "ca5e7db0d96640bfbd749b2d8b81992e": {
      "model_module": "@jupyter-widgets/controls",
      "model_module_version": "1.5.0",
      "model_name": "HTMLModel",
      "state": {
       "_dom_classes": [],
       "_model_module": "@jupyter-widgets/controls",
       "_model_module_version": "1.5.0",
       "_model_name": "HTMLModel",
       "_view_count": null,
       "_view_module": "@jupyter-widgets/controls",
       "_view_module_version": "1.5.0",
       "_view_name": "HTMLView",
       "description": "",
       "description_tooltip": null,
       "layout": "IPY_MODEL_9fad88b2840d4476a8dc20b4781898b4",
       "placeholder": "​",
       "style": "IPY_MODEL_c617146c0bf24e24a74e36529851a695",
       "value": " 48.0/48.0 [00:00&lt;00:00, 4.39kB/s]"
      }
     },
     "cf242e44353f4b83a3f572a21e4b35b1": {
      "model_module": "@jupyter-widgets/controls",
      "model_module_version": "1.5.0",
      "model_name": "HBoxModel",
      "state": {
       "_dom_classes": [],
       "_model_module": "@jupyter-widgets/controls",
       "_model_module_version": "1.5.0",
       "_model_name": "HBoxModel",
       "_view_count": null,
       "_view_module": "@jupyter-widgets/controls",
       "_view_module_version": "1.5.0",
       "_view_name": "HBoxView",
       "box_style": "",
       "children": [
        "IPY_MODEL_99ccf03107404e32b5403f2b2a11de97",
        "IPY_MODEL_6444a5ed45a2408c96b00076f2fed49f",
        "IPY_MODEL_ca5e7db0d96640bfbd749b2d8b81992e"
       ],
       "layout": "IPY_MODEL_a5ef436a2dc3495797c07fa706eb20b5"
      }
     },
     "d0c48c79213b4b9e9ee55a4bc6327b9e": {
      "model_module": "@jupyter-widgets/base",
      "model_module_version": "1.2.0",
      "model_name": "LayoutModel",
      "state": {
       "_model_module": "@jupyter-widgets/base",
       "_model_module_version": "1.2.0",
       "_model_name": "LayoutModel",
       "_view_count": null,
       "_view_module": "@jupyter-widgets/base",
       "_view_module_version": "1.2.0",
       "_view_name": "LayoutView",
       "align_content": null,
       "align_items": null,
       "align_self": null,
       "border": null,
       "bottom": null,
       "display": null,
       "flex": null,
       "flex_flow": null,
       "grid_area": null,
       "grid_auto_columns": null,
       "grid_auto_flow": null,
       "grid_auto_rows": null,
       "grid_column": null,
       "grid_gap": null,
       "grid_row": null,
       "grid_template_areas": null,
       "grid_template_columns": null,
       "grid_template_rows": null,
       "height": null,
       "justify_content": null,
       "justify_items": null,
       "left": null,
       "margin": null,
       "max_height": null,
       "max_width": null,
       "min_height": null,
       "min_width": null,
       "object_fit": null,
       "object_position": null,
       "order": null,
       "overflow": null,
       "overflow_x": null,
       "overflow_y": null,
       "padding": null,
       "right": null,
       "top": null,
       "visibility": null,
       "width": null
      }
     },
     "d370b12813fb4730b7deb2604775df51": {
      "model_module": "@jupyter-widgets/controls",
      "model_module_version": "1.5.0",
      "model_name": "ProgressStyleModel",
      "state": {
       "_model_module": "@jupyter-widgets/controls",
       "_model_module_version": "1.5.0",
       "_model_name": "ProgressStyleModel",
       "_view_count": null,
       "_view_module": "@jupyter-widgets/base",
       "_view_module_version": "1.2.0",
       "_view_name": "StyleView",
       "bar_color": null,
       "description_width": ""
      }
     },
     "d8e251fe5e76462c89de45254c895619": {
      "model_module": "@jupyter-widgets/controls",
      "model_module_version": "1.5.0",
      "model_name": "DescriptionStyleModel",
      "state": {
       "_model_module": "@jupyter-widgets/controls",
       "_model_module_version": "1.5.0",
       "_model_name": "DescriptionStyleModel",
       "_view_count": null,
       "_view_module": "@jupyter-widgets/base",
       "_view_module_version": "1.2.0",
       "_view_name": "StyleView",
       "description_width": ""
      }
     },
     "dbcb2f7b66854d59b2e10171114b2528": {
      "model_module": "@jupyter-widgets/base",
      "model_module_version": "1.2.0",
      "model_name": "LayoutModel",
      "state": {
       "_model_module": "@jupyter-widgets/base",
       "_model_module_version": "1.2.0",
       "_model_name": "LayoutModel",
       "_view_count": null,
       "_view_module": "@jupyter-widgets/base",
       "_view_module_version": "1.2.0",
       "_view_name": "LayoutView",
       "align_content": null,
       "align_items": null,
       "align_self": null,
       "border": null,
       "bottom": null,
       "display": null,
       "flex": null,
       "flex_flow": null,
       "grid_area": null,
       "grid_auto_columns": null,
       "grid_auto_flow": null,
       "grid_auto_rows": null,
       "grid_column": null,
       "grid_gap": null,
       "grid_row": null,
       "grid_template_areas": null,
       "grid_template_columns": null,
       "grid_template_rows": null,
       "height": null,
       "justify_content": null,
       "justify_items": null,
       "left": null,
       "margin": null,
       "max_height": null,
       "max_width": null,
       "min_height": null,
       "min_width": null,
       "object_fit": null,
       "object_position": null,
       "order": null,
       "overflow": null,
       "overflow_x": null,
       "overflow_y": null,
       "padding": null,
       "right": null,
       "top": null,
       "visibility": null,
       "width": null
      }
     },
     "e69b00c5d2d8450fae8cb99966d009c8": {
      "model_module": "@jupyter-widgets/controls",
      "model_module_version": "1.5.0",
      "model_name": "DescriptionStyleModel",
      "state": {
       "_model_module": "@jupyter-widgets/controls",
       "_model_module_version": "1.5.0",
       "_model_name": "DescriptionStyleModel",
       "_view_count": null,
       "_view_module": "@jupyter-widgets/base",
       "_view_module_version": "1.2.0",
       "_view_name": "StyleView",
       "description_width": ""
      }
     },
     "eadebdf64c2643b9983be8a73cbeb552": {
      "model_module": "@jupyter-widgets/controls",
      "model_module_version": "1.5.0",
      "model_name": "HTMLModel",
      "state": {
       "_dom_classes": [],
       "_model_module": "@jupyter-widgets/controls",
       "_model_module_version": "1.5.0",
       "_model_name": "HTMLModel",
       "_view_count": null,
       "_view_module": "@jupyter-widgets/controls",
       "_view_module_version": "1.5.0",
       "_view_name": "HTMLView",
       "description": "",
       "description_tooltip": null,
       "layout": "IPY_MODEL_fe43934324c04a6ea3215a294bb8395b",
       "placeholder": "​",
       "style": "IPY_MODEL_d8e251fe5e76462c89de45254c895619",
       "value": "vocab.txt: 100%"
      }
     },
     "ec0538278cc6469f83e34ff1a8de3bf9": {
      "model_module": "@jupyter-widgets/controls",
      "model_module_version": "1.5.0",
      "model_name": "ProgressStyleModel",
      "state": {
       "_model_module": "@jupyter-widgets/controls",
       "_model_module_version": "1.5.0",
       "_model_name": "ProgressStyleModel",
       "_view_count": null,
       "_view_module": "@jupyter-widgets/base",
       "_view_module_version": "1.2.0",
       "_view_name": "StyleView",
       "bar_color": null,
       "description_width": ""
      }
     },
     "ed8b4401f9cc4bf3a88d23b00e6a4b6d": {
      "model_module": "@jupyter-widgets/base",
      "model_module_version": "1.2.0",
      "model_name": "LayoutModel",
      "state": {
       "_model_module": "@jupyter-widgets/base",
       "_model_module_version": "1.2.0",
       "_model_name": "LayoutModel",
       "_view_count": null,
       "_view_module": "@jupyter-widgets/base",
       "_view_module_version": "1.2.0",
       "_view_name": "LayoutView",
       "align_content": null,
       "align_items": null,
       "align_self": null,
       "border": null,
       "bottom": null,
       "display": null,
       "flex": null,
       "flex_flow": null,
       "grid_area": null,
       "grid_auto_columns": null,
       "grid_auto_flow": null,
       "grid_auto_rows": null,
       "grid_column": null,
       "grid_gap": null,
       "grid_row": null,
       "grid_template_areas": null,
       "grid_template_columns": null,
       "grid_template_rows": null,
       "height": null,
       "justify_content": null,
       "justify_items": null,
       "left": null,
       "margin": null,
       "max_height": null,
       "max_width": null,
       "min_height": null,
       "min_width": null,
       "object_fit": null,
       "object_position": null,
       "order": null,
       "overflow": null,
       "overflow_x": null,
       "overflow_y": null,
       "padding": null,
       "right": null,
       "top": null,
       "visibility": null,
       "width": null
      }
     },
     "f06620119bd74a27a930f9aa6af689ce": {
      "model_module": "@jupyter-widgets/base",
      "model_module_version": "1.2.0",
      "model_name": "LayoutModel",
      "state": {
       "_model_module": "@jupyter-widgets/base",
       "_model_module_version": "1.2.0",
       "_model_name": "LayoutModel",
       "_view_count": null,
       "_view_module": "@jupyter-widgets/base",
       "_view_module_version": "1.2.0",
       "_view_name": "LayoutView",
       "align_content": null,
       "align_items": null,
       "align_self": null,
       "border": null,
       "bottom": null,
       "display": null,
       "flex": null,
       "flex_flow": null,
       "grid_area": null,
       "grid_auto_columns": null,
       "grid_auto_flow": null,
       "grid_auto_rows": null,
       "grid_column": null,
       "grid_gap": null,
       "grid_row": null,
       "grid_template_areas": null,
       "grid_template_columns": null,
       "grid_template_rows": null,
       "height": null,
       "justify_content": null,
       "justify_items": null,
       "left": null,
       "margin": null,
       "max_height": null,
       "max_width": null,
       "min_height": null,
       "min_width": null,
       "object_fit": null,
       "object_position": null,
       "order": null,
       "overflow": null,
       "overflow_x": null,
       "overflow_y": null,
       "padding": null,
       "right": null,
       "top": null,
       "visibility": null,
       "width": null
      }
     },
     "f4a14675f8f9446794ba96d4946577ba": {
      "model_module": "@jupyter-widgets/controls",
      "model_module_version": "1.5.0",
      "model_name": "HBoxModel",
      "state": {
       "_dom_classes": [],
       "_model_module": "@jupyter-widgets/controls",
       "_model_module_version": "1.5.0",
       "_model_name": "HBoxModel",
       "_view_count": null,
       "_view_module": "@jupyter-widgets/controls",
       "_view_module_version": "1.5.0",
       "_view_name": "HBoxView",
       "box_style": "",
       "children": [
        "IPY_MODEL_8019154c6215457595084a4fe2149145",
        "IPY_MODEL_2873c8b7fec44dc2a13648e9c9777b7d",
        "IPY_MODEL_8e85c73e24f34ea5b4990f2ba1d5a479"
       ],
       "layout": "IPY_MODEL_f06620119bd74a27a930f9aa6af689ce"
      }
     },
     "f519a1671340402cb8698637bb48b256": {
      "model_module": "@jupyter-widgets/base",
      "model_module_version": "1.2.0",
      "model_name": "LayoutModel",
      "state": {
       "_model_module": "@jupyter-widgets/base",
       "_model_module_version": "1.2.0",
       "_model_name": "LayoutModel",
       "_view_count": null,
       "_view_module": "@jupyter-widgets/base",
       "_view_module_version": "1.2.0",
       "_view_name": "LayoutView",
       "align_content": null,
       "align_items": null,
       "align_self": null,
       "border": null,
       "bottom": null,
       "display": null,
       "flex": null,
       "flex_flow": null,
       "grid_area": null,
       "grid_auto_columns": null,
       "grid_auto_flow": null,
       "grid_auto_rows": null,
       "grid_column": null,
       "grid_gap": null,
       "grid_row": null,
       "grid_template_areas": null,
       "grid_template_columns": null,
       "grid_template_rows": null,
       "height": null,
       "justify_content": null,
       "justify_items": null,
       "left": null,
       "margin": null,
       "max_height": null,
       "max_width": null,
       "min_height": null,
       "min_width": null,
       "object_fit": null,
       "object_position": null,
       "order": null,
       "overflow": null,
       "overflow_x": null,
       "overflow_y": null,
       "padding": null,
       "right": null,
       "top": null,
       "visibility": null,
       "width": null
      }
     },
     "f553a6d0162d49e7ad0a4257f49e78a5": {
      "model_module": "@jupyter-widgets/controls",
      "model_module_version": "1.5.0",
      "model_name": "HTMLModel",
      "state": {
       "_dom_classes": [],
       "_model_module": "@jupyter-widgets/controls",
       "_model_module_version": "1.5.0",
       "_model_name": "HTMLModel",
       "_view_count": null,
       "_view_module": "@jupyter-widgets/controls",
       "_view_module_version": "1.5.0",
       "_view_name": "HTMLView",
       "description": "",
       "description_tooltip": null,
       "layout": "IPY_MODEL_377942556ad34b16a45a9f926e6b744a",
       "placeholder": "​",
       "style": "IPY_MODEL_acba68eba3fb43a0bddd7eb32adb3b28",
       "value": " 466k/466k [00:00&lt;00:00, 7.00MB/s]"
      }
     },
     "f678836f75b14eddbb3d17f59e115563": {
      "model_module": "@jupyter-widgets/base",
      "model_module_version": "1.2.0",
      "model_name": "LayoutModel",
      "state": {
       "_model_module": "@jupyter-widgets/base",
       "_model_module_version": "1.2.0",
       "_model_name": "LayoutModel",
       "_view_count": null,
       "_view_module": "@jupyter-widgets/base",
       "_view_module_version": "1.2.0",
       "_view_name": "LayoutView",
       "align_content": null,
       "align_items": null,
       "align_self": null,
       "border": null,
       "bottom": null,
       "display": null,
       "flex": null,
       "flex_flow": null,
       "grid_area": null,
       "grid_auto_columns": null,
       "grid_auto_flow": null,
       "grid_auto_rows": null,
       "grid_column": null,
       "grid_gap": null,
       "grid_row": null,
       "grid_template_areas": null,
       "grid_template_columns": null,
       "grid_template_rows": null,
       "height": null,
       "justify_content": null,
       "justify_items": null,
       "left": null,
       "margin": null,
       "max_height": null,
       "max_width": null,
       "min_height": null,
       "min_width": null,
       "object_fit": null,
       "object_position": null,
       "order": null,
       "overflow": null,
       "overflow_x": null,
       "overflow_y": null,
       "padding": null,
       "right": null,
       "top": null,
       "visibility": null,
       "width": null
      }
     },
     "fe43934324c04a6ea3215a294bb8395b": {
      "model_module": "@jupyter-widgets/base",
      "model_module_version": "1.2.0",
      "model_name": "LayoutModel",
      "state": {
       "_model_module": "@jupyter-widgets/base",
       "_model_module_version": "1.2.0",
       "_model_name": "LayoutModel",
       "_view_count": null,
       "_view_module": "@jupyter-widgets/base",
       "_view_module_version": "1.2.0",
       "_view_name": "LayoutView",
       "align_content": null,
       "align_items": null,
       "align_self": null,
       "border": null,
       "bottom": null,
       "display": null,
       "flex": null,
       "flex_flow": null,
       "grid_area": null,
       "grid_auto_columns": null,
       "grid_auto_flow": null,
       "grid_auto_rows": null,
       "grid_column": null,
       "grid_gap": null,
       "grid_row": null,
       "grid_template_areas": null,
       "grid_template_columns": null,
       "grid_template_rows": null,
       "height": null,
       "justify_content": null,
       "justify_items": null,
       "left": null,
       "margin": null,
       "max_height": null,
       "max_width": null,
       "min_height": null,
       "min_width": null,
       "object_fit": null,
       "object_position": null,
       "order": null,
       "overflow": null,
       "overflow_x": null,
       "overflow_y": null,
       "padding": null,
       "right": null,
       "top": null,
       "visibility": null,
       "width": null
      }
     }
    },
    "version_major": 2,
    "version_minor": 0
   }
  }
 },
 "nbformat": 4,
 "nbformat_minor": 5
}
