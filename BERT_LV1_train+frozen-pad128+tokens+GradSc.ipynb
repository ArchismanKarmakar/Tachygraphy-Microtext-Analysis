{
 "cells": [
  {
   "cell_type": "code",
   "execution_count": 1,
   "id": "ec68a7a6",
   "metadata": {
    "_cell_guid": "b1076dfc-b9ad-4769-8c92-a6c4dae69d19",
    "_uuid": "8f2839f25d086af736a60e9eeb907d3b93b6e0e5",
    "execution": {
     "iopub.execute_input": "2024-08-20T10:52:12.199108Z",
     "iopub.status.busy": "2024-08-20T10:52:12.198569Z",
     "iopub.status.idle": "2024-08-20T10:52:13.081630Z",
     "shell.execute_reply": "2024-08-20T10:52:13.080749Z"
    },
    "papermill": {
     "duration": 0.903579,
     "end_time": "2024-08-20T10:52:13.083909",
     "exception": false,
     "start_time": "2024-08-20T10:52:12.180330",
     "status": "completed"
    },
    "tags": []
   },
   "outputs": [
    {
     "name": "stdout",
     "output_type": "stream",
     "text": [
      "/kaggle/input/dataset-tachygraphy/Tachygraphy_dataset_main.csv\n"
     ]
    }
   ],
   "source": [
    "# This Python 3 environment comes with many helpful analytics libraries installed\n",
    "# It is defined by the kaggle/python Docker image: https://github.com/kaggle/docker-python\n",
    "# For example, here's several helpful packages to load\n",
    "\n",
    "import numpy as np # linear algebra\n",
    "import pandas as pd # data processing, CSV file I/O (e.g. pd.read_csv)\n",
    "\n",
    "# Input data files are available in the read-only \"../input/\" directory\n",
    "# For example, running this (by clicking run or pressing Shift+Enter) will list all files under the input directory\n",
    "\n",
    "import os\n",
    "for dirname, _, filenames in os.walk('/kaggle/input'):\n",
    "    for filename in filenames:\n",
    "        print(os.path.join(dirname, filename))\n",
    "\n",
    "# You can write up to 20GB to the current directory (/kaggle/working/) that gets preserved as output when you create a version using \"Save & Run All\" \n",
    "# You can also write temporary files to /kaggle/temp/, but they won't be saved outside of the current session"
   ]
  },
  {
   "cell_type": "code",
   "execution_count": 2,
   "id": "b0c9aa21",
   "metadata": {
    "execution": {
     "iopub.execute_input": "2024-08-20T10:52:13.115933Z",
     "iopub.status.busy": "2024-08-20T10:52:13.115585Z",
     "iopub.status.idle": "2024-08-20T10:52:13.119886Z",
     "shell.execute_reply": "2024-08-20T10:52:13.119154Z"
    },
    "papermill": {
     "duration": 0.022163,
     "end_time": "2024-08-20T10:52:13.121703",
     "exception": false,
     "start_time": "2024-08-20T10:52:13.099540",
     "status": "completed"
    },
    "tags": []
   },
   "outputs": [],
   "source": [
    "# To ignore warinings\n",
    "import warnings\n",
    "warnings.filterwarnings('ignore')"
   ]
  },
  {
   "cell_type": "code",
   "execution_count": 3,
   "id": "1cce233c",
   "metadata": {
    "execution": {
     "iopub.execute_input": "2024-08-20T10:52:13.154420Z",
     "iopub.status.busy": "2024-08-20T10:52:13.154141Z",
     "iopub.status.idle": "2024-08-20T10:52:17.614181Z",
     "shell.execute_reply": "2024-08-20T10:52:17.613175Z"
    },
    "papermill": {
     "duration": 4.47951,
     "end_time": "2024-08-20T10:52:17.616707",
     "exception": false,
     "start_time": "2024-08-20T10:52:13.137197",
     "status": "completed"
    },
    "tags": []
   },
   "outputs": [],
   "source": [
    "import torch\n",
    "device = torch.device(\"cuda\" if torch.cuda.is_available() else \"cpu\")"
   ]
  },
  {
   "cell_type": "code",
   "execution_count": 4,
   "id": "9f65fc03",
   "metadata": {
    "execution": {
     "iopub.execute_input": "2024-08-20T10:52:17.648980Z",
     "iopub.status.busy": "2024-08-20T10:52:17.648571Z",
     "iopub.status.idle": "2024-08-20T10:52:19.483090Z",
     "shell.execute_reply": "2024-08-20T10:52:19.482299Z"
    },
    "papermill": {
     "duration": 1.853155,
     "end_time": "2024-08-20T10:52:19.485502",
     "exception": false,
     "start_time": "2024-08-20T10:52:17.632347",
     "status": "completed"
    },
    "tags": []
   },
   "outputs": [],
   "source": [
    "import numpy as np\n",
    "import pandas as pd\n",
    "import re\n",
    "from nltk.corpus import stopwords\n",
    "from nltk.stem.porter import PorterStemmer\n",
    "from sklearn.feature_extraction.text import TfidfVectorizer"
   ]
  },
  {
   "cell_type": "code",
   "execution_count": 5,
   "id": "7cacdc34",
   "metadata": {
    "execution": {
     "iopub.execute_input": "2024-08-20T10:52:19.517869Z",
     "iopub.status.busy": "2024-08-20T10:52:19.517589Z",
     "iopub.status.idle": "2024-08-20T10:52:19.619626Z",
     "shell.execute_reply": "2024-08-20T10:52:19.618780Z"
    },
    "papermill": {
     "duration": 0.120299,
     "end_time": "2024-08-20T10:52:19.621665",
     "exception": false,
     "start_time": "2024-08-20T10:52:19.501366",
     "status": "completed"
    },
    "tags": []
   },
   "outputs": [
    {
     "name": "stdout",
     "output_type": "stream",
     "text": [
      "[nltk_data] Downloading package stopwords to /usr/share/nltk_data...\n",
      "[nltk_data]   Package stopwords is already up-to-date!\n"
     ]
    },
    {
     "data": {
      "text/plain": [
       "True"
      ]
     },
     "execution_count": 5,
     "metadata": {},
     "output_type": "execute_result"
    }
   ],
   "source": [
    "import nltk\n",
    "nltk.download('stopwords')"
   ]
  },
  {
   "cell_type": "code",
   "execution_count": 6,
   "id": "507ce8ff",
   "metadata": {
    "execution": {
     "iopub.execute_input": "2024-08-20T10:52:19.653871Z",
     "iopub.status.busy": "2024-08-20T10:52:19.653593Z",
     "iopub.status.idle": "2024-08-20T10:52:19.705085Z",
     "shell.execute_reply": "2024-08-20T10:52:19.704208Z"
    },
    "papermill": {
     "duration": 0.069676,
     "end_time": "2024-08-20T10:52:19.707087",
     "exception": false,
     "start_time": "2024-08-20T10:52:19.637411",
     "status": "completed"
    },
    "tags": []
   },
   "outputs": [
    {
     "data": {
      "text/plain": [
       "(4958, 3)"
      ]
     },
     "execution_count": 6,
     "metadata": {},
     "output_type": "execute_result"
    }
   ],
   "source": [
    "df=pd.read_csv(\"/kaggle/input/dataset-tachygraphy/Tachygraphy_dataset_main.csv\")\n",
    "df.shape"
   ]
  },
  {
   "cell_type": "code",
   "execution_count": 7,
   "id": "7c8b2f64",
   "metadata": {
    "execution": {
     "iopub.execute_input": "2024-08-20T10:52:19.740436Z",
     "iopub.status.busy": "2024-08-20T10:52:19.740143Z",
     "iopub.status.idle": "2024-08-20T10:52:19.756287Z",
     "shell.execute_reply": "2024-08-20T10:52:19.755473Z"
    },
    "papermill": {
     "duration": 0.034702,
     "end_time": "2024-08-20T10:52:19.758158",
     "exception": false,
     "start_time": "2024-08-20T10:52:19.723456",
     "status": "completed"
    },
    "tags": []
   },
   "outputs": [
    {
     "data": {
      "text/html": [
       "<div>\n",
       "<style scoped>\n",
       "    .dataframe tbody tr th:only-of-type {\n",
       "        vertical-align: middle;\n",
       "    }\n",
       "\n",
       "    .dataframe tbody tr th {\n",
       "        vertical-align: top;\n",
       "    }\n",
       "\n",
       "    .dataframe thead th {\n",
       "        text-align: right;\n",
       "    }\n",
       "</style>\n",
       "<table border=\"1\" class=\"dataframe\">\n",
       "  <thead>\n",
       "    <tr style=\"text-align: right;\">\n",
       "      <th></th>\n",
       "      <th>Text</th>\n",
       "      <th>Meaning</th>\n",
       "      <th>Sentiment</th>\n",
       "    </tr>\n",
       "  </thead>\n",
       "  <tbody>\n",
       "    <tr>\n",
       "      <th>0</th>\n",
       "      <td>Last session of the day http://twitpic.com/67ezh</td>\n",
       "      <td>Last session of the day http://twitpic.com/67ezh</td>\n",
       "      <td>neutral</td>\n",
       "    </tr>\n",
       "    <tr>\n",
       "      <th>1</th>\n",
       "      <td>Shanghai is also really exciting (precisely --...</td>\n",
       "      <td>Shanghai is also really exciting (precisely --...</td>\n",
       "      <td>positive</td>\n",
       "    </tr>\n",
       "    <tr>\n",
       "      <th>2</th>\n",
       "      <td>submit the report ASAP!</td>\n",
       "      <td>submit the report as soon as possilbe</td>\n",
       "      <td>negative</td>\n",
       "    </tr>\n",
       "    <tr>\n",
       "      <th>3</th>\n",
       "      <td>happy bday!</td>\n",
       "      <td>Happy Birthday!</td>\n",
       "      <td>positive</td>\n",
       "    </tr>\n",
       "    <tr>\n",
       "      <th>4</th>\n",
       "      <td>The OGs - I like it!!</td>\n",
       "      <td>The original gangsters - i like it!</td>\n",
       "      <td>positive</td>\n",
       "    </tr>\n",
       "  </tbody>\n",
       "</table>\n",
       "</div>"
      ],
      "text/plain": [
       "                                                Text  \\\n",
       "0   Last session of the day http://twitpic.com/67ezh   \n",
       "1  Shanghai is also really exciting (precisely --...   \n",
       "2                            submit the report ASAP!   \n",
       "3                                        happy bday!   \n",
       "4                              The OGs - I like it!!   \n",
       "\n",
       "                                             Meaning Sentiment  \n",
       "0   Last session of the day http://twitpic.com/67ezh   neutral  \n",
       "1  Shanghai is also really exciting (precisely --...  positive  \n",
       "2              submit the report as soon as possilbe  negative  \n",
       "3                                    Happy Birthday!  positive  \n",
       "4                The original gangsters - i like it!  positive  "
      ]
     },
     "execution_count": 7,
     "metadata": {},
     "output_type": "execute_result"
    }
   ],
   "source": [
    "df.head()"
   ]
  },
  {
   "cell_type": "code",
   "execution_count": 8,
   "id": "5f6684d6",
   "metadata": {
    "execution": {
     "iopub.execute_input": "2024-08-20T10:52:19.790858Z",
     "iopub.status.busy": "2024-08-20T10:52:19.790416Z",
     "iopub.status.idle": "2024-08-20T10:52:19.794093Z",
     "shell.execute_reply": "2024-08-20T10:52:19.793228Z"
    },
    "papermill": {
     "duration": 0.022074,
     "end_time": "2024-08-20T10:52:19.795957",
     "exception": false,
     "start_time": "2024-08-20T10:52:19.773883",
     "status": "completed"
    },
    "tags": []
   },
   "outputs": [],
   "source": [
    "# df.drop(columns=['Sentiment.1'],inplace=True)"
   ]
  },
  {
   "cell_type": "code",
   "execution_count": 9,
   "id": "047911b6",
   "metadata": {
    "execution": {
     "iopub.execute_input": "2024-08-20T10:52:19.828749Z",
     "iopub.status.busy": "2024-08-20T10:52:19.828501Z",
     "iopub.status.idle": "2024-08-20T10:52:19.837084Z",
     "shell.execute_reply": "2024-08-20T10:52:19.836260Z"
    },
    "papermill": {
     "duration": 0.026936,
     "end_time": "2024-08-20T10:52:19.838888",
     "exception": false,
     "start_time": "2024-08-20T10:52:19.811952",
     "status": "completed"
    },
    "tags": []
   },
   "outputs": [],
   "source": [
    "df=df.drop('Meaning',axis=1)"
   ]
  },
  {
   "cell_type": "code",
   "execution_count": 10,
   "id": "39d1220b",
   "metadata": {
    "execution": {
     "iopub.execute_input": "2024-08-20T10:52:19.871845Z",
     "iopub.status.busy": "2024-08-20T10:52:19.871363Z",
     "iopub.status.idle": "2024-08-20T10:52:19.876698Z",
     "shell.execute_reply": "2024-08-20T10:52:19.875828Z"
    },
    "papermill": {
     "duration": 0.023823,
     "end_time": "2024-08-20T10:52:19.878587",
     "exception": false,
     "start_time": "2024-08-20T10:52:19.854764",
     "status": "completed"
    },
    "tags": []
   },
   "outputs": [
    {
     "data": {
      "text/plain": [
       "(4958, 2)"
      ]
     },
     "execution_count": 10,
     "metadata": {},
     "output_type": "execute_result"
    }
   ],
   "source": [
    "df.shape"
   ]
  },
  {
   "cell_type": "code",
   "execution_count": 11,
   "id": "45101eee",
   "metadata": {
    "execution": {
     "iopub.execute_input": "2024-08-20T10:52:19.912190Z",
     "iopub.status.busy": "2024-08-20T10:52:19.911504Z",
     "iopub.status.idle": "2024-08-20T10:52:19.916225Z",
     "shell.execute_reply": "2024-08-20T10:52:19.915415Z"
    },
    "papermill": {
     "duration": 0.023477,
     "end_time": "2024-08-20T10:52:19.918165",
     "exception": false,
     "start_time": "2024-08-20T10:52:19.894688",
     "status": "completed"
    },
    "tags": []
   },
   "outputs": [],
   "source": [
    "df = df.rename(columns={'Text': 'tweet'})"
   ]
  },
  {
   "cell_type": "code",
   "execution_count": 12,
   "id": "7c384099",
   "metadata": {
    "execution": {
     "iopub.execute_input": "2024-08-20T10:52:19.951060Z",
     "iopub.status.busy": "2024-08-20T10:52:19.950801Z",
     "iopub.status.idle": "2024-08-20T10:52:19.955264Z",
     "shell.execute_reply": "2024-08-20T10:52:19.954414Z"
    },
    "papermill": {
     "duration": 0.02321,
     "end_time": "2024-08-20T10:52:19.957219",
     "exception": false,
     "start_time": "2024-08-20T10:52:19.934009",
     "status": "completed"
    },
    "tags": []
   },
   "outputs": [],
   "source": [
    "df = df.rename(columns={'Sentiment': 'class'})"
   ]
  },
  {
   "cell_type": "code",
   "execution_count": 13,
   "id": "6f3cb9a1",
   "metadata": {
    "execution": {
     "iopub.execute_input": "2024-08-20T10:52:19.989763Z",
     "iopub.status.busy": "2024-08-20T10:52:19.989514Z",
     "iopub.status.idle": "2024-08-20T10:52:20.007029Z",
     "shell.execute_reply": "2024-08-20T10:52:20.006247Z"
    },
    "papermill": {
     "duration": 0.036014,
     "end_time": "2024-08-20T10:52:20.009013",
     "exception": false,
     "start_time": "2024-08-20T10:52:19.972999",
     "status": "completed"
    },
    "tags": []
   },
   "outputs": [
    {
     "data": {
      "text/plain": [
       "class\n",
       "neutral     1743\n",
       "positive    1643\n",
       "negative    1572\n",
       "Name: count, dtype: int64"
      ]
     },
     "execution_count": 13,
     "metadata": {},
     "output_type": "execute_result"
    }
   ],
   "source": [
    "df['class'] = df['class'].str.lower()\n",
    "sentiment_counts = df['class'].value_counts()\n",
    "sentiment_counts"
   ]
  },
  {
   "cell_type": "code",
   "execution_count": 14,
   "id": "616b4430",
   "metadata": {
    "execution": {
     "iopub.execute_input": "2024-08-20T10:52:20.042556Z",
     "iopub.status.busy": "2024-08-20T10:52:20.042268Z",
     "iopub.status.idle": "2024-08-20T10:52:20.048095Z",
     "shell.execute_reply": "2024-08-20T10:52:20.047406Z"
    },
    "papermill": {
     "duration": 0.024363,
     "end_time": "2024-08-20T10:52:20.050094",
     "exception": false,
     "start_time": "2024-08-20T10:52:20.025731",
     "status": "completed"
    },
    "tags": []
   },
   "outputs": [],
   "source": [
    "df = df[df['class'] != \"neutral\"]  ###droping neutral columns"
   ]
  },
  {
   "cell_type": "code",
   "execution_count": 15,
   "id": "6ff7eb9b",
   "metadata": {
    "execution": {
     "iopub.execute_input": "2024-08-20T10:52:20.083184Z",
     "iopub.status.busy": "2024-08-20T10:52:20.082925Z",
     "iopub.status.idle": "2024-08-20T10:52:20.089129Z",
     "shell.execute_reply": "2024-08-20T10:52:20.088326Z"
    },
    "papermill": {
     "duration": 0.024829,
     "end_time": "2024-08-20T10:52:20.091038",
     "exception": false,
     "start_time": "2024-08-20T10:52:20.066209",
     "status": "completed"
    },
    "tags": []
   },
   "outputs": [],
   "source": [
    "from sklearn.preprocessing import LabelEncoder\n",
    "label_encoder = LabelEncoder()\n",
    "label_encoder.fit(df['class'])\n",
    "encoded_labels = label_encoder.transform(df['class'])\n",
    "df['class'] = encoded_labels"
   ]
  },
  {
   "cell_type": "code",
   "execution_count": 16,
   "id": "e9e39ea8",
   "metadata": {
    "execution": {
     "iopub.execute_input": "2024-08-20T10:52:20.124347Z",
     "iopub.status.busy": "2024-08-20T10:52:20.123572Z",
     "iopub.status.idle": "2024-08-20T10:52:20.131830Z",
     "shell.execute_reply": "2024-08-20T10:52:20.130979Z"
    },
    "papermill": {
     "duration": 0.026966,
     "end_time": "2024-08-20T10:52:20.133850",
     "exception": false,
     "start_time": "2024-08-20T10:52:20.106884",
     "status": "completed"
    },
    "tags": []
   },
   "outputs": [
    {
     "data": {
      "text/html": [
       "<div>\n",
       "<style scoped>\n",
       "    .dataframe tbody tr th:only-of-type {\n",
       "        vertical-align: middle;\n",
       "    }\n",
       "\n",
       "    .dataframe tbody tr th {\n",
       "        vertical-align: top;\n",
       "    }\n",
       "\n",
       "    .dataframe thead th {\n",
       "        text-align: right;\n",
       "    }\n",
       "</style>\n",
       "<table border=\"1\" class=\"dataframe\">\n",
       "  <thead>\n",
       "    <tr style=\"text-align: right;\">\n",
       "      <th></th>\n",
       "      <th>tweet</th>\n",
       "      <th>class</th>\n",
       "    </tr>\n",
       "  </thead>\n",
       "  <tbody>\n",
       "    <tr>\n",
       "      <th>1</th>\n",
       "      <td>Shanghai is also really exciting (precisely --...</td>\n",
       "      <td>1</td>\n",
       "    </tr>\n",
       "    <tr>\n",
       "      <th>2</th>\n",
       "      <td>submit the report ASAP!</td>\n",
       "      <td>0</td>\n",
       "    </tr>\n",
       "    <tr>\n",
       "      <th>3</th>\n",
       "      <td>happy bday!</td>\n",
       "      <td>1</td>\n",
       "    </tr>\n",
       "    <tr>\n",
       "      <th>4</th>\n",
       "      <td>The OGs - I like it!!</td>\n",
       "      <td>1</td>\n",
       "    </tr>\n",
       "    <tr>\n",
       "      <th>5</th>\n",
       "      <td>that`s great!! weee!! visitors!</td>\n",
       "      <td>1</td>\n",
       "    </tr>\n",
       "  </tbody>\n",
       "</table>\n",
       "</div>"
      ],
      "text/plain": [
       "                                               tweet  class\n",
       "1  Shanghai is also really exciting (precisely --...      1\n",
       "2                            submit the report ASAP!      0\n",
       "3                                        happy bday!      1\n",
       "4                              The OGs - I like it!!      1\n",
       "5                    that`s great!! weee!! visitors!      1"
      ]
     },
     "execution_count": 16,
     "metadata": {},
     "output_type": "execute_result"
    }
   ],
   "source": [
    "df.head()"
   ]
  },
  {
   "cell_type": "code",
   "execution_count": 17,
   "id": "6facbb0d",
   "metadata": {
    "execution": {
     "iopub.execute_input": "2024-08-20T10:52:20.167033Z",
     "iopub.status.busy": "2024-08-20T10:52:20.166800Z",
     "iopub.status.idle": "2024-08-20T10:52:20.175919Z",
     "shell.execute_reply": "2024-08-20T10:52:20.175108Z"
    },
    "papermill": {
     "duration": 0.027792,
     "end_time": "2024-08-20T10:52:20.177738",
     "exception": false,
     "start_time": "2024-08-20T10:52:20.149946",
     "status": "completed"
    },
    "tags": []
   },
   "outputs": [
    {
     "data": {
      "text/plain": [
       "tweet    1\n",
       "class    0\n",
       "dtype: int64"
      ]
     },
     "execution_count": 17,
     "metadata": {},
     "output_type": "execute_result"
    }
   ],
   "source": [
    "df.isnull().sum()"
   ]
  },
  {
   "cell_type": "code",
   "execution_count": 18,
   "id": "b8833fa2",
   "metadata": {
    "execution": {
     "iopub.execute_input": "2024-08-20T10:52:20.211132Z",
     "iopub.status.busy": "2024-08-20T10:52:20.210867Z",
     "iopub.status.idle": "2024-08-20T10:52:20.216474Z",
     "shell.execute_reply": "2024-08-20T10:52:20.215663Z"
    },
    "papermill": {
     "duration": 0.024355,
     "end_time": "2024-08-20T10:52:20.218261",
     "exception": false,
     "start_time": "2024-08-20T10:52:20.193906",
     "status": "completed"
    },
    "tags": []
   },
   "outputs": [],
   "source": [
    "df=df.fillna('')"
   ]
  },
  {
   "cell_type": "code",
   "execution_count": 19,
   "id": "1d321583",
   "metadata": {
    "execution": {
     "iopub.execute_input": "2024-08-20T10:52:20.251894Z",
     "iopub.status.busy": "2024-08-20T10:52:20.251639Z",
     "iopub.status.idle": "2024-08-20T10:52:20.259246Z",
     "shell.execute_reply": "2024-08-20T10:52:20.258454Z"
    },
    "papermill": {
     "duration": 0.026477,
     "end_time": "2024-08-20T10:52:20.261187",
     "exception": false,
     "start_time": "2024-08-20T10:52:20.234710",
     "status": "completed"
    },
    "tags": []
   },
   "outputs": [
    {
     "data": {
      "text/html": [
       "<div>\n",
       "<style scoped>\n",
       "    .dataframe tbody tr th:only-of-type {\n",
       "        vertical-align: middle;\n",
       "    }\n",
       "\n",
       "    .dataframe tbody tr th {\n",
       "        vertical-align: top;\n",
       "    }\n",
       "\n",
       "    .dataframe thead th {\n",
       "        text-align: right;\n",
       "    }\n",
       "</style>\n",
       "<table border=\"1\" class=\"dataframe\">\n",
       "  <thead>\n",
       "    <tr style=\"text-align: right;\">\n",
       "      <th></th>\n",
       "      <th>tweet</th>\n",
       "      <th>class</th>\n",
       "    </tr>\n",
       "  </thead>\n",
       "  <tbody>\n",
       "    <tr>\n",
       "      <th>1</th>\n",
       "      <td>Shanghai is also really exciting (precisely --...</td>\n",
       "      <td>1</td>\n",
       "    </tr>\n",
       "    <tr>\n",
       "      <th>2</th>\n",
       "      <td>submit the report ASAP!</td>\n",
       "      <td>0</td>\n",
       "    </tr>\n",
       "    <tr>\n",
       "      <th>3</th>\n",
       "      <td>happy bday!</td>\n",
       "      <td>1</td>\n",
       "    </tr>\n",
       "    <tr>\n",
       "      <th>4</th>\n",
       "      <td>The OGs - I like it!!</td>\n",
       "      <td>1</td>\n",
       "    </tr>\n",
       "    <tr>\n",
       "      <th>5</th>\n",
       "      <td>that`s great!! weee!! visitors!</td>\n",
       "      <td>1</td>\n",
       "    </tr>\n",
       "  </tbody>\n",
       "</table>\n",
       "</div>"
      ],
      "text/plain": [
       "                                               tweet  class\n",
       "1  Shanghai is also really exciting (precisely --...      1\n",
       "2                            submit the report ASAP!      0\n",
       "3                                        happy bday!      1\n",
       "4                              The OGs - I like it!!      1\n",
       "5                    that`s great!! weee!! visitors!      1"
      ]
     },
     "execution_count": 19,
     "metadata": {},
     "output_type": "execute_result"
    }
   ],
   "source": [
    "df.head()"
   ]
  },
  {
   "cell_type": "code",
   "execution_count": 20,
   "id": "a6191a6f",
   "metadata": {
    "execution": {
     "iopub.execute_input": "2024-08-20T10:52:20.295250Z",
     "iopub.status.busy": "2024-08-20T10:52:20.295015Z",
     "iopub.status.idle": "2024-08-20T10:52:20.487172Z",
     "shell.execute_reply": "2024-08-20T10:52:20.486481Z"
    },
    "papermill": {
     "duration": 0.211456,
     "end_time": "2024-08-20T10:52:20.489256",
     "exception": false,
     "start_time": "2024-08-20T10:52:20.277800",
     "status": "completed"
    },
    "tags": []
   },
   "outputs": [],
   "source": [
    "import re\n",
    "from bs4 import BeautifulSoup\n",
    "\n",
    "def text_cleaning(text):\n",
    "    text = str(text)\n",
    "    soup = BeautifulSoup(text, \"html.parser\")    ###removing html tages\n",
    "    text = re.sub(r'\\[[^]]*\\]', '', soup.get_text())      ##removing text within square brackets\n",
    "    pattern = r\"[^a-zA-Z0-9\\s,']\"                  # Removing unwanted characters\n",
    "    text = re.sub(pattern, '', text)\n",
    "    url_pattern = r'http\\S+|www\\S+'            ###removing urls\n",
    "    text = re.sub(url_pattern, '', text)\n",
    "    return text"
   ]
  },
  {
   "cell_type": "code",
   "execution_count": 21,
   "id": "c9b83c8a",
   "metadata": {
    "execution": {
     "iopub.execute_input": "2024-08-20T10:52:20.524509Z",
     "iopub.status.busy": "2024-08-20T10:52:20.524073Z",
     "iopub.status.idle": "2024-08-20T10:52:20.712645Z",
     "shell.execute_reply": "2024-08-20T10:52:20.711757Z"
    },
    "papermill": {
     "duration": 0.208759,
     "end_time": "2024-08-20T10:52:20.714597",
     "exception": false,
     "start_time": "2024-08-20T10:52:20.505838",
     "status": "completed"
    },
    "tags": []
   },
   "outputs": [],
   "source": [
    "df['tweet'] = df['tweet'].apply(text_cleaning).tolist()"
   ]
  },
  {
   "cell_type": "code",
   "execution_count": 22,
   "id": "a11568dc",
   "metadata": {
    "execution": {
     "iopub.execute_input": "2024-08-20T10:52:20.787813Z",
     "iopub.status.busy": "2024-08-20T10:52:20.787138Z",
     "iopub.status.idle": "2024-08-20T10:52:20.796676Z",
     "shell.execute_reply": "2024-08-20T10:52:20.795825Z"
    },
    "papermill": {
     "duration": 0.029117,
     "end_time": "2024-08-20T10:52:20.798769",
     "exception": false,
     "start_time": "2024-08-20T10:52:20.769652",
     "status": "completed"
    },
    "tags": []
   },
   "outputs": [
    {
     "data": {
      "text/html": [
       "<div>\n",
       "<style scoped>\n",
       "    .dataframe tbody tr th:only-of-type {\n",
       "        vertical-align: middle;\n",
       "    }\n",
       "\n",
       "    .dataframe tbody tr th {\n",
       "        vertical-align: top;\n",
       "    }\n",
       "\n",
       "    .dataframe thead th {\n",
       "        text-align: right;\n",
       "    }\n",
       "</style>\n",
       "<table border=\"1\" class=\"dataframe\">\n",
       "  <thead>\n",
       "    <tr style=\"text-align: right;\">\n",
       "      <th></th>\n",
       "      <th>tweet</th>\n",
       "      <th>class</th>\n",
       "    </tr>\n",
       "  </thead>\n",
       "  <tbody>\n",
       "    <tr>\n",
       "      <th>1</th>\n",
       "      <td>Shanghai is also really exciting precisely  sk...</td>\n",
       "      <td>1</td>\n",
       "    </tr>\n",
       "    <tr>\n",
       "      <th>2</th>\n",
       "      <td>submit the report ASAP</td>\n",
       "      <td>0</td>\n",
       "    </tr>\n",
       "    <tr>\n",
       "      <th>3</th>\n",
       "      <td>happy bday</td>\n",
       "      <td>1</td>\n",
       "    </tr>\n",
       "    <tr>\n",
       "      <th>4</th>\n",
       "      <td>The OGs  I like it</td>\n",
       "      <td>1</td>\n",
       "    </tr>\n",
       "    <tr>\n",
       "      <th>5</th>\n",
       "      <td>thats great weee visitors</td>\n",
       "      <td>1</td>\n",
       "    </tr>\n",
       "    <tr>\n",
       "      <th>6</th>\n",
       "      <td>I THINK EVERYONE HATES ME ON HERE lol</td>\n",
       "      <td>0</td>\n",
       "    </tr>\n",
       "    <tr>\n",
       "      <th>7</th>\n",
       "      <td>soooooo wish i could, but im in school and mys...</td>\n",
       "      <td>0</td>\n",
       "    </tr>\n",
       "    <tr>\n",
       "      <th>10</th>\n",
       "      <td>My bike was put on holdshould have known that ...</td>\n",
       "      <td>0</td>\n",
       "    </tr>\n",
       "    <tr>\n",
       "      <th>13</th>\n",
       "      <td>Im in VA for the weekend, my youngest son turn...</td>\n",
       "      <td>0</td>\n",
       "    </tr>\n",
       "    <tr>\n",
       "      <th>14</th>\n",
       "      <td>Its coming out the socket I feel like my phone...</td>\n",
       "      <td>0</td>\n",
       "    </tr>\n",
       "  </tbody>\n",
       "</table>\n",
       "</div>"
      ],
      "text/plain": [
       "                                                tweet  class\n",
       "1   Shanghai is also really exciting precisely  sk...      1\n",
       "2                              submit the report ASAP      0\n",
       "3                                          happy bday      1\n",
       "4                                  The OGs  I like it      1\n",
       "5                           thats great weee visitors      1\n",
       "6               I THINK EVERYONE HATES ME ON HERE lol      0\n",
       "7   soooooo wish i could, but im in school and mys...      0\n",
       "10  My bike was put on holdshould have known that ...      0\n",
       "13  Im in VA for the weekend, my youngest son turn...      0\n",
       "14  Its coming out the socket I feel like my phone...      0"
      ]
     },
     "execution_count": 22,
     "metadata": {},
     "output_type": "execute_result"
    }
   ],
   "source": [
    "df.head(10)"
   ]
  },
  {
   "cell_type": "code",
   "execution_count": 23,
   "id": "fa7b75b5",
   "metadata": {
    "execution": {
     "iopub.execute_input": "2024-08-20T10:52:20.834360Z",
     "iopub.status.busy": "2024-08-20T10:52:20.833779Z",
     "iopub.status.idle": "2024-08-20T10:52:20.841221Z",
     "shell.execute_reply": "2024-08-20T10:52:20.840427Z"
    },
    "papermill": {
     "duration": 0.026871,
     "end_time": "2024-08-20T10:52:20.843136",
     "exception": false,
     "start_time": "2024-08-20T10:52:20.816265",
     "status": "completed"
    },
    "tags": []
   },
   "outputs": [],
   "source": [
    "lens=[len(i.split()) for i in df['tweet']]"
   ]
  },
  {
   "cell_type": "code",
   "execution_count": 24,
   "id": "1ac1e935",
   "metadata": {
    "execution": {
     "iopub.execute_input": "2024-08-20T10:52:20.877952Z",
     "iopub.status.busy": "2024-08-20T10:52:20.877334Z",
     "iopub.status.idle": "2024-08-20T10:52:21.181270Z",
     "shell.execute_reply": "2024-08-20T10:52:21.180411Z"
    },
    "papermill": {
     "duration": 0.323764,
     "end_time": "2024-08-20T10:52:21.183710",
     "exception": false,
     "start_time": "2024-08-20T10:52:20.859946",
     "status": "completed"
    },
    "tags": []
   },
   "outputs": [
    {
     "data": {
      "text/plain": [
       "(array([135., 493., 641., 585., 429., 438., 237., 174.,  74.,   9.]),\n",
       " array([ 0. ,  3.2,  6.4,  9.6, 12.8, 16. , 19.2, 22.4, 25.6, 28.8, 32. ]),\n",
       " <BarContainer object of 10 artists>)"
      ]
     },
     "execution_count": 24,
     "metadata": {},
     "output_type": "execute_result"
    },
    {
     "data": {
      "image/png": "[encoded data removed]",
      "text/plain": [
       "<Figure size 640x480 with 1 Axes>"
      ]
     },
     "metadata": {},
     "output_type": "display_data"
    }
   ],
   "source": [
    "import matplotlib.pyplot as plt\n",
    "plt.hist(lens)"
   ]
  },
  {
   "cell_type": "code",
   "execution_count": 25,
   "id": "9ee6a6c6",
   "metadata": {
    "execution": {
     "iopub.execute_input": "2024-08-20T10:52:21.220877Z",
     "iopub.status.busy": "2024-08-20T10:52:21.220592Z",
     "iopub.status.idle": "2024-08-20T10:52:22.403269Z",
     "shell.execute_reply": "2024-08-20T10:52:22.402466Z"
    },
    "papermill": {
     "duration": 1.20457,
     "end_time": "2024-08-20T10:52:22.405632",
     "exception": false,
     "start_time": "2024-08-20T10:52:21.201062",
     "status": "completed"
    },
    "tags": []
   },
   "outputs": [],
   "source": [
    "import torch\n",
    "import torch.nn as nn\n",
    "\n",
    "import transformers\n",
    "from transformers import AutoModel, BertTokenizerFast\n",
    "from transformers import AutoModel, AdamW, get_linear_schedule_with_warmup"
   ]
  },
  {
   "cell_type": "code",
   "execution_count": 26,
   "id": "09f1905c",
   "metadata": {
    "execution": {
     "iopub.execute_input": "2024-08-20T10:52:22.442315Z",
     "iopub.status.busy": "2024-08-20T10:52:22.441994Z",
     "iopub.status.idle": "2024-08-20T10:52:22.454438Z",
     "shell.execute_reply": "2024-08-20T10:52:22.453579Z"
    },
    "papermill": {
     "duration": 0.032785,
     "end_time": "2024-08-20T10:52:22.456457",
     "exception": false,
     "start_time": "2024-08-20T10:52:22.423672",
     "status": "completed"
    },
    "tags": []
   },
   "outputs": [],
   "source": [
    "# split into train, validation and test sets in the ration 70 : 15 : 15\n",
    "from sklearn.model_selection import train_test_split\n",
    "\n",
    "train_text, temp_text, train_labels, temp_labels = train_test_split(df['tweet'], df['class'], \n",
    "                                                                    random_state=2021, \n",
    "                                                                    test_size=0.2, \n",
    "                                                                    stratify=df['class'])\n",
    "\n",
    "\n",
    "val_text, test_text, val_labels, test_labels = train_test_split(temp_text, temp_labels, \n",
    "                                                                random_state=2021, \n",
    "                                                                test_size=0.5, \n",
    "                                                                stratify=temp_labels)"
   ]
  },
  {
   "cell_type": "code",
   "execution_count": 27,
   "id": "c0d60fd7",
   "metadata": {
    "execution": {
     "iopub.execute_input": "2024-08-20T10:52:22.491791Z",
     "iopub.status.busy": "2024-08-20T10:52:22.491515Z",
     "iopub.status.idle": "2024-08-20T10:52:26.282327Z",
     "shell.execute_reply": "2024-08-20T10:52:26.281339Z"
    },
    "papermill": {
     "duration": 3.811106,
     "end_time": "2024-08-20T10:52:26.284785",
     "exception": false,
     "start_time": "2024-08-20T10:52:22.473679",
     "status": "completed"
    },
    "tags": []
   },
   "outputs": [
    {
     "data": {
      "application/vnd.jupyter.widget-view+json": {
       "model_id": "91ead7ebd2d5493999e511e4e1c310f7",
       "version_major": 2,
       "version_minor": 0
      },
      "text/plain": [
       "config.json:   0%|          | 0.00/570 [00:00<?, ?B/s]"
      ]
     },
     "metadata": {},
     "output_type": "display_data"
    },
    {
     "data": {
      "application/vnd.jupyter.widget-view+json": {
       "model_id": "d12f399d9cac4ee0ac761e40e3f182e0",
       "version_major": 2,
       "version_minor": 0
      },
      "text/plain": [
       "model.safetensors:   0%|          | 0.00/440M [00:00<?, ?B/s]"
      ]
     },
     "metadata": {},
     "output_type": "display_data"
    }
   ],
   "source": [
    "bert = AutoModel.from_pretrained('bert-base-uncased')"
   ]
  },
  {
   "cell_type": "code",
   "execution_count": 28,
   "id": "4309adde",
   "metadata": {
    "execution": {
     "iopub.execute_input": "2024-08-20T10:52:26.322376Z",
     "iopub.status.busy": "2024-08-20T10:52:26.321907Z",
     "iopub.status.idle": "2024-08-20T10:52:26.875966Z",
     "shell.execute_reply": "2024-08-20T10:52:26.875220Z"
    },
    "papermill": {
     "duration": 0.574272,
     "end_time": "2024-08-20T10:52:26.877999",
     "exception": false,
     "start_time": "2024-08-20T10:52:26.303727",
     "status": "completed"
    },
    "tags": []
   },
   "outputs": [
    {
     "data": {
      "application/vnd.jupyter.widget-view+json": {
       "model_id": "87552cf29533421baa5e30b7ffbb99d9",
       "version_major": 2,
       "version_minor": 0
      },
      "text/plain": [
       "tokenizer_config.json:   0%|          | 0.00/48.0 [00:00<?, ?B/s]"
      ]
     },
     "metadata": {},
     "output_type": "display_data"
    },
    {
     "data": {
      "application/vnd.jupyter.widget-view+json": {
       "model_id": "539768f83af545e481c5cbff6928d230",
       "version_major": 2,
       "version_minor": 0
      },
      "text/plain": [
       "vocab.txt:   0%|          | 0.00/232k [00:00<?, ?B/s]"
      ]
     },
     "metadata": {},
     "output_type": "display_data"
    },
    {
     "data": {
      "application/vnd.jupyter.widget-view+json": {
       "model_id": "10abd762ddfe4e6f9c577424641dea0f",
       "version_major": 2,
       "version_minor": 0
      },
      "text/plain": [
       "tokenizer.json:   0%|          | 0.00/466k [00:00<?, ?B/s]"
      ]
     },
     "metadata": {},
     "output_type": "display_data"
    }
   ],
   "source": [
    "tokenizer = BertTokenizerFast.from_pretrained('bert-base-uncased')"
   ]
  },
  {
   "cell_type": "code",
   "execution_count": 29,
   "id": "21f5ec26",
   "metadata": {
    "execution": {
     "iopub.execute_input": "2024-08-20T10:52:26.915743Z",
     "iopub.status.busy": "2024-08-20T10:52:26.915445Z",
     "iopub.status.idle": "2024-08-20T10:52:27.117508Z",
     "shell.execute_reply": "2024-08-20T10:52:27.116696Z"
    },
    "papermill": {
     "duration": 0.222881,
     "end_time": "2024-08-20T10:52:27.119346",
     "exception": false,
     "start_time": "2024-08-20T10:52:26.896465",
     "status": "completed"
    },
    "tags": []
   },
   "outputs": [
    {
     "data": {
      "text/plain": [
       "(array([192., 469., 502., 424., 315., 268., 194., 145.,  55.,   8.]),\n",
       " array([ 1. ,  4.1,  7.2, 10.3, 13.4, 16.5, 19.6, 22.7, 25.8, 28.9, 32. ]),\n",
       " <BarContainer object of 10 artists>)"
      ]
     },
     "execution_count": 29,
     "metadata": {},
     "output_type": "execute_result"
    },
    {
     "data": {
      "image/png": "[encoded data removed]",
      "text/plain": [
       "<Figure size 640x480 with 1 Axes>"
      ]
     },
     "metadata": {},
     "output_type": "display_data"
    }
   ],
   "source": [
    "train_lens=[len(i.split()) for i in train_text]\n",
    "plt.hist(train_lens)"
   ]
  },
  {
   "cell_type": "code",
   "execution_count": 30,
   "id": "467d77f2",
   "metadata": {
    "execution": {
     "iopub.execute_input": "2024-08-20T10:52:27.157432Z",
     "iopub.status.busy": "2024-08-20T10:52:27.157128Z",
     "iopub.status.idle": "2024-08-20T10:52:27.173096Z",
     "shell.execute_reply": "2024-08-20T10:52:27.172027Z"
    },
    "papermill": {
     "duration": 0.037514,
     "end_time": "2024-08-20T10:52:27.175256",
     "exception": false,
     "start_time": "2024-08-20T10:52:27.137742",
     "status": "completed"
    },
    "tags": []
   },
   "outputs": [
    {
     "name": "stdout",
     "output_type": "stream",
     "text": [
      "count    3215.000000\n",
      "mean       12.223328\n",
      "std         6.223879\n",
      "min         0.000000\n",
      "25%         7.000000\n",
      "50%        11.000000\n",
      "75%        17.000000\n",
      "max        32.000000\n",
      "Name: tweet, dtype: float64\n"
     ]
    }
   ],
   "source": [
    "import pandas as pd\n",
    "\n",
    "sequence_lengths = df['tweet'].apply(lambda x: len(x.split()))\n",
    "print(sequence_lengths.describe())\n"
   ]
  },
  {
   "cell_type": "code",
   "execution_count": 31,
   "id": "de2a7940",
   "metadata": {
    "execution": {
     "iopub.execute_input": "2024-08-20T10:52:27.214126Z",
     "iopub.status.busy": "2024-08-20T10:52:27.213562Z",
     "iopub.status.idle": "2024-08-20T10:52:27.217225Z",
     "shell.execute_reply": "2024-08-20T10:52:27.216429Z"
    },
    "papermill": {
     "duration": 0.024682,
     "end_time": "2024-08-20T10:52:27.219182",
     "exception": false,
     "start_time": "2024-08-20T10:52:27.194500",
     "status": "completed"
    },
    "tags": []
   },
   "outputs": [],
   "source": [
    "pad_len = 128"
   ]
  },
  {
   "cell_type": "code",
   "execution_count": 32,
   "id": "6cd7cb03",
   "metadata": {
    "execution": {
     "iopub.execute_input": "2024-08-20T10:52:27.258017Z",
     "iopub.status.busy": "2024-08-20T10:52:27.257392Z",
     "iopub.status.idle": "2024-08-20T10:52:27.427557Z",
     "shell.execute_reply": "2024-08-20T10:52:27.426741Z"
    },
    "papermill": {
     "duration": 0.192005,
     "end_time": "2024-08-20T10:52:27.429826",
     "exception": false,
     "start_time": "2024-08-20T10:52:27.237821",
     "status": "completed"
    },
    "tags": []
   },
   "outputs": [],
   "source": [
    "# tokenizing and encoding sequences \n",
    "tokens_train = tokenizer.batch_encode_plus(\n",
    "    train_text.tolist(),\n",
    "    max_length = pad_len,\n",
    "    pad_to_max_length=True,\n",
    "    add_special_tokens=True,\n",
    "    truncation=True,\n",
    "    return_token_type_ids=True\n",
    ")\n",
    "\n",
    "tokens_val = tokenizer.batch_encode_plus(\n",
    "    val_text.tolist(),\n",
    "    max_length = pad_len,\n",
    "    pad_to_max_length=True,\n",
    "    add_special_tokens=True,\n",
    "    truncation=True,\n",
    "    return_token_type_ids=True\n",
    ")\n",
    "\n",
    "tokens_test = tokenizer.batch_encode_plus(\n",
    "    test_text.tolist(),\n",
    "    max_length = pad_len,\n",
    "    pad_to_max_length=True,\n",
    "    add_special_tokens=True,\n",
    "    truncation=True,\n",
    "    return_token_type_ids=True\n",
    ")"
   ]
  },
  {
   "cell_type": "code",
   "execution_count": 33,
   "id": "713fbc4a",
   "metadata": {
    "execution": {
     "iopub.execute_input": "2024-08-20T10:52:27.469032Z",
     "iopub.status.busy": "2024-08-20T10:52:27.468485Z",
     "iopub.status.idle": "2024-08-20T10:52:27.871127Z",
     "shell.execute_reply": "2024-08-20T10:52:27.870325Z"
    },
    "papermill": {
     "duration": 0.424267,
     "end_time": "2024-08-20T10:52:27.873176",
     "exception": false,
     "start_time": "2024-08-20T10:52:27.448909",
     "status": "completed"
    },
    "tags": []
   },
   "outputs": [],
   "source": [
    "train_seq = torch.tensor(tokens_train['input_ids'])\n",
    "train_mask = torch.tensor(tokens_train['attention_mask'])\n",
    "train_token_type_ids = torch.tensor(tokens_train[\"token_type_ids\"])\n",
    "train_y = torch.tensor(train_labels.tolist())\n",
    "\n",
    "val_seq = torch.tensor(tokens_val['input_ids'])\n",
    "val_mask = torch.tensor(tokens_val['attention_mask'])\n",
    "val_token_type_ids = torch.tensor(tokens_val[\"token_type_ids\"])\n",
    "val_y = torch.tensor(val_labels.tolist())\n",
    "\n",
    "test_seq = torch.tensor(tokens_test['input_ids'])\n",
    "test_mask = torch.tensor(tokens_test['attention_mask'])\n",
    "test_token_type_ids = torch.tensor(tokens_test[\"token_type_ids\"])\n",
    "test_y = torch.tensor(test_labels.tolist())"
   ]
  },
  {
   "cell_type": "code",
   "execution_count": 34,
   "id": "08aa68b1",
   "metadata": {
    "execution": {
     "iopub.execute_input": "2024-08-20T10:52:27.917194Z",
     "iopub.status.busy": "2024-08-20T10:52:27.916909Z",
     "iopub.status.idle": "2024-08-20T10:52:27.923041Z",
     "shell.execute_reply": "2024-08-20T10:52:27.922110Z"
    },
    "papermill": {
     "duration": 0.029918,
     "end_time": "2024-08-20T10:52:27.924872",
     "exception": false,
     "start_time": "2024-08-20T10:52:27.894954",
     "status": "completed"
    },
    "tags": []
   },
   "outputs": [],
   "source": [
    "from torch.utils.data import TensorDataset, DataLoader, RandomSampler, SequentialSampler\n",
    "batch_size = 64  ##batch size can be adjusted or modified\n",
    "train_data = TensorDataset(train_seq, train_mask, train_token_type_ids, train_y)\n",
    "train_sampler = RandomSampler(train_data)\n",
    "train_dataloader = DataLoader(train_data, sampler=train_sampler, batch_size=batch_size)\n",
    "val_data = TensorDataset(val_seq, val_mask, val_token_type_ids, val_y)\n",
    "val_sampler = SequentialSampler(val_data)\n",
    "val_dataloader = DataLoader(val_data, sampler = val_sampler, batch_size=batch_size)"
   ]
  },
  {
   "cell_type": "code",
   "execution_count": 35,
   "id": "938a3b9a",
   "metadata": {
    "execution": {
     "iopub.execute_input": "2024-08-20T10:52:27.963112Z",
     "iopub.status.busy": "2024-08-20T10:52:27.962847Z",
     "iopub.status.idle": "2024-08-20T10:52:27.966571Z",
     "shell.execute_reply": "2024-08-20T10:52:27.965719Z"
    },
    "papermill": {
     "duration": 0.024804,
     "end_time": "2024-08-20T10:52:27.968344",
     "exception": false,
     "start_time": "2024-08-20T10:52:27.943540",
     "status": "completed"
    },
    "tags": []
   },
   "outputs": [],
   "source": [
    "# for param in bert.parameters():\n",
    "#     param.requires_grad = False"
   ]
  },
  {
   "cell_type": "code",
   "execution_count": 36,
   "id": "3da10bdc",
   "metadata": {
    "execution": {
     "iopub.execute_input": "2024-08-20T10:52:28.006341Z",
     "iopub.status.busy": "2024-08-20T10:52:28.005824Z",
     "iopub.status.idle": "2024-08-20T10:52:28.011898Z",
     "shell.execute_reply": "2024-08-20T10:52:28.010770Z"
    },
    "papermill": {
     "duration": 0.027234,
     "end_time": "2024-08-20T10:52:28.013854",
     "exception": false,
     "start_time": "2024-08-20T10:52:27.986620",
     "status": "completed"
    },
    "tags": []
   },
   "outputs": [],
   "source": [
    "for name, param in bert.named_parameters():\n",
    "    if \"layer.11\" in name or \"layer.10\" in name:  # Fine-tune last two layers\n",
    "        param.requires_grad = True\n",
    "    else:\n",
    "        param.requires_grad = False"
   ]
  },
  {
   "cell_type": "code",
   "execution_count": 37,
   "id": "f0f8a9cb",
   "metadata": {
    "execution": {
     "iopub.execute_input": "2024-08-20T10:52:28.052632Z",
     "iopub.status.busy": "2024-08-20T10:52:28.051879Z",
     "iopub.status.idle": "2024-08-20T10:52:28.062518Z",
     "shell.execute_reply": "2024-08-20T10:52:28.061809Z"
    },
    "papermill": {
     "duration": 0.031874,
     "end_time": "2024-08-20T10:52:28.064379",
     "exception": false,
     "start_time": "2024-08-20T10:52:28.032505",
     "status": "completed"
    },
    "tags": []
   },
   "outputs": [],
   "source": [
    "import torch.nn as nn\n",
    "\n",
    "##model building\n",
    "class SentimentClassifier(nn.Module):\n",
    "     \n",
    "    def __init__(self, n_classes):\n",
    "        super(SentimentClassifier, self).__init__()\n",
    "        self.bert = BertModel.from_pretrained(MODEL_NAME)\n",
    "        self.drop = nn.Dropout(p=0.3)\n",
    "        self.out = nn.Linear(self.bert.config.hidden_size, n_classes)\n",
    "    \n",
    "    # Forward propagaion\n",
    "    def forward(self, input_ids, attention_mask, token_type_ids):\n",
    "        _, pooled_output = self.bert(\n",
    "          input_ids=input_ids,\n",
    "          attention_mask=attention_mask,\n",
    "            token_type_ids=token_type_ids\n",
    "        ) \n",
    "        output = self.drop(pooled_output)  ##drop out layer\n",
    "        return self.out(output)\n",
    "\n",
    "    \n",
    "class BERT_architecture(nn.Module):\n",
    "\n",
    "    def __init__(self, bert):\n",
    "        super(BERT_architecture, self).__init__()\n",
    "        self.bert = bert\n",
    "        \n",
    "        self.dropout = nn.Dropout(0.3)  # Increased dropout for regularization\n",
    "        self.layer_norm = nn.LayerNorm(768)  # Layer normalization\n",
    "        \n",
    "        self.fc1 = nn.Linear(768, 256)  # Dense layer\n",
    "        self.fc2 = nn.Linear(256, 2)  # Output layer with 2 classes\n",
    "        \n",
    "        self.relu = nn.ReLU()\n",
    "        self.softmax = nn.LogSoftmax(dim=1)\n",
    "\n",
    "    def forward(self, sent_id, mask, token_type_ids):\n",
    "        _, cls_hs = self.bert(sent_id, attention_mask=mask, token_type_ids=token_type_ids, return_dict=False)\n",
    "        x = self.layer_norm(cls_hs)\n",
    "        x = self.fc1(x)\n",
    "        x = self.relu(x)\n",
    "        x = self.dropout(x)\n",
    "        x = self.fc2(x)\n",
    "        x = self.softmax(x)\n",
    "        return x"
   ]
  },
  {
   "cell_type": "code",
   "execution_count": 38,
   "id": "6f7194ad",
   "metadata": {
    "execution": {
     "iopub.execute_input": "2024-08-20T10:52:28.102486Z",
     "iopub.status.busy": "2024-08-20T10:52:28.101781Z",
     "iopub.status.idle": "2024-08-20T10:52:28.113225Z",
     "shell.execute_reply": "2024-08-20T10:52:28.112580Z"
    },
    "papermill": {
     "duration": 0.032142,
     "end_time": "2024-08-20T10:52:28.115000",
     "exception": false,
     "start_time": "2024-08-20T10:52:28.082858",
     "status": "completed"
    },
    "tags": []
   },
   "outputs": [],
   "source": [
    "model = BERT_architecture(bert)"
   ]
  },
  {
   "cell_type": "code",
   "execution_count": 39,
   "id": "f78da408",
   "metadata": {
    "execution": {
     "iopub.execute_input": "2024-08-20T10:52:28.152640Z",
     "iopub.status.busy": "2024-08-20T10:52:28.152159Z",
     "iopub.status.idle": "2024-08-20T10:52:28.470097Z",
     "shell.execute_reply": "2024-08-20T10:52:28.469154Z"
    },
    "papermill": {
     "duration": 0.339095,
     "end_time": "2024-08-20T10:52:28.472314",
     "exception": false,
     "start_time": "2024-08-20T10:52:28.133219",
     "status": "completed"
    },
    "tags": []
   },
   "outputs": [
    {
     "data": {
      "text/plain": [
       "BERT_architecture(\n",
       "  (bert): BertModel(\n",
       "    (embeddings): BertEmbeddings(\n",
       "      (word_embeddings): Embedding(30522, 768, padding_idx=0)\n",
       "      (position_embeddings): Embedding(512, 768)\n",
       "      (token_type_embeddings): Embedding(2, 768)\n",
       "      (LayerNorm): LayerNorm((768,), eps=1e-12, elementwise_affine=True)\n",
       "      (dropout): Dropout(p=0.1, inplace=False)\n",
       "    )\n",
       "    (encoder): BertEncoder(\n",
       "      (layer): ModuleList(\n",
       "        (0-11): 12 x BertLayer(\n",
       "          (attention): BertAttention(\n",
       "            (self): BertSdpaSelfAttention(\n",
       "              (query): Linear(in_features=768, out_features=768, bias=True)\n",
       "              (key): Linear(in_features=768, out_features=768, bias=True)\n",
       "              (value): Linear(in_features=768, out_features=768, bias=True)\n",
       "              (dropout): Dropout(p=0.1, inplace=False)\n",
       "            )\n",
       "            (output): BertSelfOutput(\n",
       "              (dense): Linear(in_features=768, out_features=768, bias=True)\n",
       "              (LayerNorm): LayerNorm((768,), eps=1e-12, elementwise_affine=True)\n",
       "              (dropout): Dropout(p=0.1, inplace=False)\n",
       "            )\n",
       "          )\n",
       "          (intermediate): BertIntermediate(\n",
       "            (dense): Linear(in_features=768, out_features=3072, bias=True)\n",
       "            (intermediate_act_fn): GELUActivation()\n",
       "          )\n",
       "          (output): BertOutput(\n",
       "            (dense): Linear(in_features=3072, out_features=768, bias=True)\n",
       "            (LayerNorm): LayerNorm((768,), eps=1e-12, elementwise_affine=True)\n",
       "            (dropout): Dropout(p=0.1, inplace=False)\n",
       "          )\n",
       "        )\n",
       "      )\n",
       "    )\n",
       "    (pooler): BertPooler(\n",
       "      (dense): Linear(in_features=768, out_features=768, bias=True)\n",
       "      (activation): Tanh()\n",
       "    )\n",
       "  )\n",
       "  (dropout): Dropout(p=0.3, inplace=False)\n",
       "  (layer_norm): LayerNorm((768,), eps=1e-05, elementwise_affine=True)\n",
       "  (fc1): Linear(in_features=768, out_features=256, bias=True)\n",
       "  (fc2): Linear(in_features=256, out_features=2, bias=True)\n",
       "  (relu): ReLU()\n",
       "  (softmax): LogSoftmax(dim=1)\n",
       ")"
      ]
     },
     "execution_count": 39,
     "metadata": {},
     "output_type": "execute_result"
    }
   ],
   "source": [
    "test_seq = test_seq.to(device)\n",
    "test_mask = test_mask.to(device)\n",
    "test_token_type_ids = test_token_type_ids.to(device)\n",
    "model.to(device)"
   ]
  },
  {
   "cell_type": "code",
   "execution_count": 40,
   "id": "5a67766d",
   "metadata": {
    "execution": {
     "iopub.execute_input": "2024-08-20T10:52:28.511330Z",
     "iopub.status.busy": "2024-08-20T10:52:28.511004Z",
     "iopub.status.idle": "2024-08-20T10:52:29.164163Z",
     "shell.execute_reply": "2024-08-20T10:52:29.163399Z"
    },
    "papermill": {
     "duration": 0.675268,
     "end_time": "2024-08-20T10:52:29.166506",
     "exception": false,
     "start_time": "2024-08-20T10:52:28.491238",
     "status": "completed"
    },
    "tags": []
   },
   "outputs": [],
   "source": [
    "from transformers import AdamW\n",
    "# optimizer = AdamW(model.parameters(),lr = 1e-3)  ## learning rate needs to be adjusted.\n",
    "optimizer = AdamW(model.parameters(), lr=1e-5, eps=1e-8, weight_decay=0.01)"
   ]
  },
  {
   "cell_type": "code",
   "execution_count": 41,
   "id": "d001bcc0",
   "metadata": {
    "execution": {
     "iopub.execute_input": "2024-08-20T10:52:29.206097Z",
     "iopub.status.busy": "2024-08-20T10:52:29.205114Z",
     "iopub.status.idle": "2024-08-20T10:52:29.213262Z",
     "shell.execute_reply": "2024-08-20T10:52:29.212246Z"
    },
    "papermill": {
     "duration": 0.029663,
     "end_time": "2024-08-20T10:52:29.215466",
     "exception": false,
     "start_time": "2024-08-20T10:52:29.185803",
     "status": "completed"
    },
    "tags": []
   },
   "outputs": [
    {
     "name": "stdout",
     "output_type": "stream",
     "text": [
      "Class weights are [1.02225755 0.97869102] for [0 1]\n"
     ]
    }
   ],
   "source": [
    "from sklearn.utils.class_weight import compute_class_weight\n",
    "import torch\n",
    "import torch.nn as nn\n",
    "\n",
    "# Compute the class weights for three classes\n",
    "class_weights = compute_class_weight(class_weight=\"balanced\",\n",
    "                                     classes=np.unique(train_labels),\n",
    "                                     y=train_labels)\n",
    "print(\"Class weights are {} for {}\".format(class_weights, np.unique(train_labels)))"
   ]
  },
  {
   "cell_type": "code",
   "execution_count": 42,
   "id": "c3d0e78b",
   "metadata": {
    "execution": {
     "iopub.execute_input": "2024-08-20T10:52:29.256948Z",
     "iopub.status.busy": "2024-08-20T10:52:29.256469Z",
     "iopub.status.idle": "2024-08-20T10:52:29.265195Z",
     "shell.execute_reply": "2024-08-20T10:52:29.264347Z"
    },
    "papermill": {
     "duration": 0.031679,
     "end_time": "2024-08-20T10:52:29.267259",
     "exception": false,
     "start_time": "2024-08-20T10:52:29.235580",
     "status": "completed"
    },
    "tags": []
   },
   "outputs": [
    {
     "data": {
      "text/plain": [
       "class\n",
       "1    1314\n",
       "0    1258\n",
       "Name: count, dtype: int64"
      ]
     },
     "execution_count": 42,
     "metadata": {},
     "output_type": "execute_result"
    }
   ],
   "source": [
    "pd.value_counts(train_labels)"
   ]
  },
  {
   "cell_type": "code",
   "execution_count": 43,
   "id": "ac7e64ed",
   "metadata": {
    "execution": {
     "iopub.execute_input": "2024-08-20T10:52:29.306196Z",
     "iopub.status.busy": "2024-08-20T10:52:29.305729Z",
     "iopub.status.idle": "2024-08-20T10:52:29.309527Z",
     "shell.execute_reply": "2024-08-20T10:52:29.308687Z"
    },
    "papermill": {
     "duration": 0.02557,
     "end_time": "2024-08-20T10:52:29.311361",
     "exception": false,
     "start_time": "2024-08-20T10:52:29.285791",
     "status": "completed"
    },
    "tags": []
   },
   "outputs": [],
   "source": [
    "# weights = torch.tensor(class_weights, dtype=torch.float)\n",
    "\n",
    "# weights = weights.to(device)\n",
    "# cross_entropy = nn.CrossEntropyLoss()\n",
    "\n",
    "epochs = 12 ##increase the no of epochs for better accuracy \n"
   ]
  },
  {
   "cell_type": "code",
   "execution_count": 44,
   "id": "e3ef69d6",
   "metadata": {
    "execution": {
     "iopub.execute_input": "2024-08-20T10:52:29.350808Z",
     "iopub.status.busy": "2024-08-20T10:52:29.350534Z",
     "iopub.status.idle": "2024-08-20T10:52:29.358241Z",
     "shell.execute_reply": "2024-08-20T10:52:29.357569Z"
    },
    "papermill": {
     "duration": 0.029761,
     "end_time": "2024-08-20T10:52:29.360102",
     "exception": false,
     "start_time": "2024-08-20T10:52:29.330341",
     "status": "completed"
    },
    "tags": []
   },
   "outputs": [],
   "source": [
    "total_steps = len(train_dataloader) * epochs\n",
    "\n",
    "scheduler = get_linear_schedule_with_warmup(optimizer, num_warmup_steps=0, num_training_steps=total_steps)\n",
    "\n",
    "# Loss function\n",
    "weights = torch.tensor(class_weights, dtype=torch.float).to(device)\n",
    "cross_entropy = nn.CrossEntropyLoss(weight=weights)"
   ]
  },
  {
   "cell_type": "code",
   "execution_count": 45,
   "id": "5a0c79d7",
   "metadata": {
    "execution": {
     "iopub.execute_input": "2024-08-20T10:52:29.398722Z",
     "iopub.status.busy": "2024-08-20T10:52:29.398458Z",
     "iopub.status.idle": "2024-08-20T10:52:29.402135Z",
     "shell.execute_reply": "2024-08-20T10:52:29.401340Z"
    },
    "papermill": {
     "duration": 0.025359,
     "end_time": "2024-08-20T10:52:29.404040",
     "exception": false,
     "start_time": "2024-08-20T10:52:29.378681",
     "status": "completed"
    },
    "tags": []
   },
   "outputs": [],
   "source": [
    "from torch.cuda.amp import GradScaler, autocast"
   ]
  },
  {
   "cell_type": "code",
   "execution_count": 46,
   "id": "dec46ec4",
   "metadata": {
    "execution": {
     "iopub.execute_input": "2024-08-20T10:52:29.442411Z",
     "iopub.status.busy": "2024-08-20T10:52:29.442100Z",
     "iopub.status.idle": "2024-08-20T10:52:29.448176Z",
     "shell.execute_reply": "2024-08-20T10:52:29.447381Z"
    },
    "papermill": {
     "duration": 0.0274,
     "end_time": "2024-08-20T10:52:29.450041",
     "exception": false,
     "start_time": "2024-08-20T10:52:29.422641",
     "status": "completed"
    },
    "tags": []
   },
   "outputs": [],
   "source": [
    "class EarlyStopping:\n",
    "    def __init__(self, patience, delta=0):  # Increased patience\n",
    "        self.patience = patience\n",
    "        self.delta = delta\n",
    "        self.best_loss = float('inf')\n",
    "        self.counter = 0\n",
    "        self.early_stop = False\n",
    "\n",
    "    def __call__(self, valid_loss):\n",
    "        if valid_loss < self.best_loss - self.delta:\n",
    "            self.best_loss = valid_loss\n",
    "            self.counter = 0\n",
    "        else:\n",
    "            self.counter += 1\n",
    "            if self.counter >= self.patience:\n",
    "                self.early_stop = True"
   ]
  },
  {
   "cell_type": "code",
   "execution_count": 47,
   "id": "af6b5367",
   "metadata": {
    "execution": {
     "iopub.execute_input": "2024-08-20T10:52:29.488632Z",
     "iopub.status.busy": "2024-08-20T10:52:29.488146Z",
     "iopub.status.idle": "2024-08-20T10:52:29.491864Z",
     "shell.execute_reply": "2024-08-20T10:52:29.491067Z"
    },
    "papermill": {
     "duration": 0.025139,
     "end_time": "2024-08-20T10:52:29.493826",
     "exception": false,
     "start_time": "2024-08-20T10:52:29.468687",
     "status": "completed"
    },
    "tags": []
   },
   "outputs": [],
   "source": [
    "early_stopping = EarlyStopping(patience=3)"
   ]
  },
  {
   "cell_type": "code",
   "execution_count": 48,
   "id": "212834e3",
   "metadata": {
    "execution": {
     "iopub.execute_input": "2024-08-20T10:52:29.533066Z",
     "iopub.status.busy": "2024-08-20T10:52:29.532613Z",
     "iopub.status.idle": "2024-08-20T10:52:29.536320Z",
     "shell.execute_reply": "2024-08-20T10:52:29.535425Z"
    },
    "papermill": {
     "duration": 0.025554,
     "end_time": "2024-08-20T10:52:29.538304",
     "exception": false,
     "start_time": "2024-08-20T10:52:29.512750",
     "status": "completed"
    },
    "tags": []
   },
   "outputs": [],
   "source": [
    "# Gradient Scaler\n",
    "scaler = GradScaler()"
   ]
  },
  {
   "cell_type": "code",
   "execution_count": 49,
   "id": "13e031fb",
   "metadata": {
    "execution": {
     "iopub.execute_input": "2024-08-20T10:52:29.577553Z",
     "iopub.status.busy": "2024-08-20T10:52:29.577306Z",
     "iopub.status.idle": "2024-08-20T10:52:29.586151Z",
     "shell.execute_reply": "2024-08-20T10:52:29.585383Z"
    },
    "papermill": {
     "duration": 0.030591,
     "end_time": "2024-08-20T10:52:29.588044",
     "exception": false,
     "start_time": "2024-08-20T10:52:29.557453",
     "status": "completed"
    },
    "tags": []
   },
   "outputs": [],
   "source": [
    "def train():\n",
    "    model.train()\n",
    "    total_loss, total_accuracy = 0, 0\n",
    "    total_preds, total_labels = [], []\n",
    "\n",
    "    for step, batch in enumerate(train_dataloader, 0):\n",
    "        batch = [r.to(device) for r in batch]\n",
    "        sent_id, mask, token_type_ids, labels = batch\n",
    "\n",
    "        optimizer.zero_grad()\n",
    "        \n",
    "        with autocast():\n",
    "            preds = model(sent_id, mask, token_type_ids)\n",
    "            loss = cross_entropy(preds, labels)\n",
    "        \n",
    "        scaler.scale(loss).backward()\n",
    "        scaler.unscale_(optimizer)\n",
    "        torch.nn.utils.clip_grad_norm_(model.parameters(), 1.0)\n",
    "        scaler.step(optimizer)\n",
    "        scaler.update()\n",
    "        scheduler.step()\n",
    "\n",
    "        preds = preds.detach().cpu().numpy()\n",
    "        total_preds.append(preds)\n",
    "        total_labels.append(labels.detach().cpu().numpy())\n",
    "\n",
    "    avg_loss = total_loss / len(train_dataloader)\n",
    "    total_preds = np.concatenate(total_preds, axis=0)\n",
    "    total_labels = np.concatenate(total_labels, axis=0)\n",
    "    return avg_loss, total_preds, total_labels"
   ]
  },
  {
   "cell_type": "code",
   "execution_count": 50,
   "id": "c37105ca",
   "metadata": {
    "execution": {
     "iopub.execute_input": "2024-08-20T10:52:29.626902Z",
     "iopub.status.busy": "2024-08-20T10:52:29.626649Z",
     "iopub.status.idle": "2024-08-20T10:52:29.631229Z",
     "shell.execute_reply": "2024-08-20T10:52:29.630420Z"
    },
    "jupyter": {
     "source_hidden": true
    },
    "papermill": {
     "duration": 0.026226,
     "end_time": "2024-08-20T10:52:29.633215",
     "exception": false,
     "start_time": "2024-08-20T10:52:29.606989",
     "status": "completed"
    },
    "tags": []
   },
   "outputs": [],
   "source": [
    "# def train():\n",
    "#     model.train()\n",
    "#     total_loss, total_accuracy = 0, 0\n",
    "#     total_preds, total_labels = [], []\n",
    "\n",
    "#     for step, batch in enumerate(train_dataloader, 0):\n",
    "#         batch = [r.to(device) for r in batch]\n",
    "#         sent_id, mask, token_type_ids, labels = batch\n",
    "\n",
    "#         model.zero_grad()\n",
    "#         preds = model(sent_id, mask, token_type_ids)\n",
    "#         loss = cross_entropy(preds, labels)\n",
    "#         total_loss = total_loss + loss.item()\n",
    "#         loss.backward()\n",
    "#         torch.nn.utils.clip_grad_norm_(model.parameters(), 1.0)\n",
    "#         optimizer.step()\n",
    "#         scheduler.step()\n",
    "\n",
    "#         preds = preds.detach().cpu().numpy()\n",
    "#         total_preds.append(preds)\n",
    "#         total_labels.append(labels.detach().cpu().numpy())\n",
    "\n",
    "#     avg_loss = total_loss / len(train_dataloader)\n",
    "#     total_preds = np.concatenate(total_preds, axis=0)\n",
    "#     total_labels = np.concatenate(total_labels, axis=0)\n",
    "#     return avg_loss, total_preds, total_labels"
   ]
  },
  {
   "cell_type": "code",
   "execution_count": 51,
   "id": "1256768c",
   "metadata": {
    "execution": {
     "iopub.execute_input": "2024-08-20T10:52:29.671724Z",
     "iopub.status.busy": "2024-08-20T10:52:29.671197Z",
     "iopub.status.idle": "2024-08-20T10:52:29.678299Z",
     "shell.execute_reply": "2024-08-20T10:52:29.677493Z"
    },
    "papermill": {
     "duration": 0.028531,
     "end_time": "2024-08-20T10:52:29.680360",
     "exception": false,
     "start_time": "2024-08-20T10:52:29.651829",
     "status": "completed"
    },
    "tags": []
   },
   "outputs": [],
   "source": [
    "def evaluate():\n",
    "    model.eval()\n",
    "    total_loss, total_accuracy = 0, 0\n",
    "    total_preds, total_labels = [], []\n",
    "\n",
    "    for step, batch in enumerate(val_dataloader):\n",
    "        batch = [t.to(device) for t in batch]\n",
    "        sent_id, mask, token_type_ids, labels = batch\n",
    "\n",
    "        with torch.no_grad(), autocast():\n",
    "            preds = model(sent_id, mask, token_type_ids)\n",
    "            loss = cross_entropy(preds, labels)\n",
    "        \n",
    "        total_loss += loss.item()\n",
    "        preds = preds.detach().cpu().numpy()\n",
    "        total_preds.append(preds)\n",
    "        total_labels.append(labels.detach().cpu().numpy())\n",
    "\n",
    "    avg_loss = total_loss / len(val_dataloader)\n",
    "    total_preds = np.concatenate(total_preds, axis=0)\n",
    "    total_labels = np.concatenate(total_labels, axis=0)\n",
    "    return avg_loss, total_preds, total_labels"
   ]
  },
  {
   "cell_type": "code",
   "execution_count": 52,
   "id": "4ee9c55a",
   "metadata": {
    "execution": {
     "iopub.execute_input": "2024-08-20T10:52:29.718817Z",
     "iopub.status.busy": "2024-08-20T10:52:29.718342Z",
     "iopub.status.idle": "2024-08-20T10:52:29.722541Z",
     "shell.execute_reply": "2024-08-20T10:52:29.721692Z"
    },
    "jupyter": {
     "source_hidden": true
    },
    "papermill": {
     "duration": 0.025522,
     "end_time": "2024-08-20T10:52:29.724414",
     "exception": false,
     "start_time": "2024-08-20T10:52:29.698892",
     "status": "completed"
    },
    "tags": []
   },
   "outputs": [],
   "source": [
    "# def evaluate():\n",
    "#     model.eval()\n",
    "#     total_loss, total_accuracy = 0, 0\n",
    "#     total_preds, total_labels = [], []\n",
    "\n",
    "#     for step, batch in enumerate(val_dataloader):\n",
    "#         batch = [t.to(device) for t in batch]\n",
    "#         sent_id, mask, token_type_ids, labels = batch\n",
    "\n",
    "#         with torch.no_grad():\n",
    "#             preds = model(sent_id, mask, token_type_ids)\n",
    "#             loss = cross_entropy(preds, labels)\n",
    "#             total_loss = total_loss + loss.item()\n",
    "#             preds = preds.detach().cpu().numpy()\n",
    "#             total_preds.append(preds)\n",
    "#             total_labels.append(labels.detach().cpu().numpy())\n",
    "\n",
    "#     avg_loss = total_loss / len(val_dataloader)\n",
    "#     total_preds = np.concatenate(total_preds, axis=0)\n",
    "#     total_labels = np.concatenate(total_labels, axis=0)\n",
    "#     return avg_loss, total_preds, total_labels\n"
   ]
  },
  {
   "cell_type": "code",
   "execution_count": 53,
   "id": "af522829",
   "metadata": {
    "execution": {
     "iopub.execute_input": "2024-08-20T10:52:29.763099Z",
     "iopub.status.busy": "2024-08-20T10:52:29.762862Z",
     "iopub.status.idle": "2024-08-20T10:52:29.767215Z",
     "shell.execute_reply": "2024-08-20T10:52:29.766428Z"
    },
    "papermill": {
     "duration": 0.025981,
     "end_time": "2024-08-20T10:52:29.769096",
     "exception": false,
     "start_time": "2024-08-20T10:52:29.743115",
     "status": "completed"
    },
    "tags": []
   },
   "outputs": [],
   "source": [
    "def calculate_accuracy(preds, labels):\n",
    "    preds_flat = np.argmax(preds, axis=1).flatten()\n",
    "    labels_flat = labels.flatten()\n",
    "    accuracy = np.sum(preds_flat == labels_flat) / len(labels_flat)\n",
    "    return accuracy"
   ]
  },
  {
   "cell_type": "code",
   "execution_count": 54,
   "id": "a39850e1",
   "metadata": {
    "execution": {
     "iopub.execute_input": "2024-08-20T10:52:29.807521Z",
     "iopub.status.busy": "2024-08-20T10:52:29.807246Z",
     "iopub.status.idle": "2024-08-20T10:52:29.813513Z",
     "shell.execute_reply": "2024-08-20T10:52:29.812705Z"
    },
    "jupyter": {
     "source_hidden": true
    },
    "papermill": {
     "duration": 0.027314,
     "end_time": "2024-08-20T10:52:29.815270",
     "exception": false,
     "start_time": "2024-08-20T10:52:29.787956",
     "status": "completed"
    },
    "tags": []
   },
   "outputs": [],
   "source": [
    "# def train():\n",
    "#     model.train()\n",
    "#     total_loss, total_accuracy = 0, 0\n",
    "#     total_preds, total_labels = [], []\n",
    "\n",
    "#     for step, batch in enumerate(train_dataloader, 0):\n",
    "#         if step % 50 == 0 and not step == 0:\n",
    "#             print('  Batch {:>5,}  of  {:>5,}.'.format(step, len(train_dataloader)))\n",
    "\n",
    "# #         sent_id = batch[:,0].to(device, dtype = torch.long)\n",
    "# #         mask = data[:,1].to(device, dtype = torch.long)\n",
    "# #         token_type_ids = data[:,2].to(device, dtype = torch.long)\n",
    "# #         labels = data[:,3].to(device, dtype = torch.float)\n",
    "        \n",
    "# #         token_type_ids = batch['token_type_ids'].to(device)\n",
    "#         batch = [r.to(device) for r in batch]\n",
    "#         sent_id, mask, token_type_ids, labels = batch\n",
    "\n",
    "#         model.zero_grad()\n",
    "#         preds = model(sent_id, mask, token_type_ids)\n",
    "#         loss = cross_entropy(preds, labels)\n",
    "#         total_loss = total_loss + loss.item()\n",
    "#         loss.backward()\n",
    "#         torch.nn.utils.clip_grad_norm_(model.parameters(), 1.0)\n",
    "#         optimizer.step()\n",
    "\n",
    "#         preds = preds.detach().cpu().numpy()\n",
    "#         total_preds.append(preds)\n",
    "#         total_labels.append(labels.detach().cpu().numpy())\n",
    "\n",
    "#     avg_loss = total_loss / len(train_dataloader)\n",
    "#     total_preds = np.concatenate(total_preds, axis=0)\n",
    "#     total_labels = np.concatenate(total_labels, axis=0)\n",
    "#     return avg_loss, total_preds, total_labels\n",
    "\n",
    "# def evaluate():\n",
    "#     print(\"\\nEvaluating after the test: \")\n",
    "#     model.eval()\n",
    "#     total_loss, total_accuracy = 0, 0\n",
    "#     total_preds, total_labels = [], []\n",
    "\n",
    "#     for step, batch in enumerate(val_dataloader):\n",
    "#         if step % 50 == 0 and not step == 0:\n",
    "#             print('  Batch {:>5,}  of  {:>5,}.'.format(step, len(val_dataloader)))\n",
    "            \n",
    "# #         sent_id = batch[:,0].to(device, dtype = torch.long)\n",
    "# #         mask = data[:,1].to(device, dtype = torch.long)\n",
    "# #         token_type_ids = data[:,2].to(device, dtype = torch.long)\n",
    "# #         labels = data[:,3].to(device, dtype = torch.float)\n",
    "\n",
    "# #         token_type_ids = batch['token_type_ids'].to(device)\n",
    "#         batch = [t.to(device) for t in batch]\n",
    "#         sent_id, mask, token_type_ids, labels = batch\n",
    "\n",
    "#         with torch.no_grad():\n",
    "#             preds = model(sent_id, mask, token_type_ids)\n",
    "#             loss = cross_entropy(preds, labels)\n",
    "#             total_loss = total_loss + loss.item()\n",
    "#             preds = preds.detach().cpu().numpy()\n",
    "#             total_preds.append(preds)\n",
    "#             total_labels.append(labels.detach().cpu().numpy())\n",
    "\n",
    "#     avg_loss = total_loss / len(val_dataloader)\n",
    "#     total_preds = np.concatenate(total_preds, axis=0)\n",
    "#     total_labels = np.concatenate(total_labels, axis=0)\n",
    "#     return avg_loss, total_preds, total_labels\n",
    "\n",
    "# def calculate_accuracy(preds, labels):\n",
    "\n",
    "#     preds_flat = np.argmax(preds, axis=1).flatten()\n",
    "#     labels_flat = labels.flatten()\n",
    "#     accuracy = np.sum(preds_flat == labels_flat) / len(labels_flat)\n",
    "#     return accuracy\n"
   ]
  },
  {
   "cell_type": "code",
   "execution_count": 55,
   "id": "453c09e1",
   "metadata": {
    "execution": {
     "iopub.execute_input": "2024-08-20T10:52:29.853886Z",
     "iopub.status.busy": "2024-08-20T10:52:29.853647Z",
     "iopub.status.idle": "2024-08-20T10:52:29.858073Z",
     "shell.execute_reply": "2024-08-20T10:52:29.857236Z"
    },
    "jupyter": {
     "source_hidden": true
    },
    "papermill": {
     "duration": 0.025804,
     "end_time": "2024-08-20T10:52:29.859912",
     "exception": false,
     "start_time": "2024-08-20T10:52:29.834108",
     "status": "completed"
    },
    "tags": []
   },
   "outputs": [],
   "source": [
    "# best_valid_loss = float('inf')\n",
    "# train_losses = []\n",
    "# valid_losses = []\n",
    "# train_accuracies = []\n",
    "# valid_accuracies = []\n",
    "\n",
    "# for epoch in range(epochs):\n",
    "#     print('\\n Epoch {:} / {:}'.format(epoch + 1, epochs))\n",
    "    \n",
    "#     train_loss, train_preds, train_labels = train()\n",
    "#     valid_loss, valid_preds, valid_labels = evaluate()\n",
    "#     train_accuracy = calculate_accuracy(train_preds, train_labels)\n",
    "#     valid_accuracy = calculate_accuracy(valid_preds, valid_labels)\n",
    "\n",
    "#     if valid_loss < best_valid_loss:\n",
    "#         best_valid_loss = valid_loss\n",
    "#         torch.save(model.state_dict(), 'saved_weights.pt')\n",
    "    \n",
    "#     train_losses.append(train_loss)\n",
    "#     valid_losses.append(valid_loss)\n",
    "#     train_accuracies.append(train_accuracy)\n",
    "#     valid_accuracies.append(valid_accuracy)\n",
    "    \n",
    "#     print('\\nTraining Loss: {}'.format(train_loss))\n",
    "#     print('Validation Loss: {}'.format(valid_loss))\n",
    "#     print('Training Accuracy: {:.2f}%'.format(train_accuracy * 100))\n",
    "#     print('Validation Accuracy: {:.2f}%'.format(valid_accuracy * 100))\n"
   ]
  },
  {
   "cell_type": "code",
   "execution_count": 56,
   "id": "44c31ec6",
   "metadata": {
    "execution": {
     "iopub.execute_input": "2024-08-20T10:52:29.898484Z",
     "iopub.status.busy": "2024-08-20T10:52:29.898042Z",
     "iopub.status.idle": "2024-08-20T10:53:50.222157Z",
     "shell.execute_reply": "2024-08-20T10:53:50.221119Z"
    },
    "papermill": {
     "duration": 80.345917,
     "end_time": "2024-08-20T10:53:50.224545",
     "exception": false,
     "start_time": "2024-08-20T10:52:29.878628",
     "status": "completed"
    },
    "tags": []
   },
   "outputs": [
    {
     "name": "stdout",
     "output_type": "stream",
     "text": [
      "\n",
      " Epoch 1 / 12\n",
      "\n",
      "Training Loss: 0.0\n",
      "Validation Loss: 0.6684708793958029\n",
      "Training Accuracy: 52.57%\n",
      "Validation Accuracy: 66.98%\n",
      "\n",
      " Epoch 2 / 12\n",
      "\n",
      "Training Loss: 0.0\n",
      "Validation Loss: 0.5809604028860728\n",
      "Training Accuracy: 62.79%\n",
      "Validation Accuracy: 70.09%\n",
      "\n",
      " Epoch 3 / 12\n",
      "\n",
      "Training Loss: 0.0\n",
      "Validation Loss: 0.49993689854939777\n",
      "Training Accuracy: 72.24%\n",
      "Validation Accuracy: 72.90%\n",
      "\n",
      " Epoch 4 / 12\n",
      "\n",
      "Training Loss: 0.0\n",
      "Validation Loss: 0.44861631840467453\n",
      "Training Accuracy: 77.18%\n",
      "Validation Accuracy: 76.95%\n",
      "\n",
      " Epoch 5 / 12\n",
      "\n",
      "Training Loss: 0.0\n",
      "Validation Loss: 0.4165887584288915\n",
      "Training Accuracy: 80.13%\n",
      "Validation Accuracy: 78.19%\n",
      "\n",
      " Epoch 6 / 12\n",
      "\n",
      "Training Loss: 0.0\n",
      "Validation Loss: 0.3969492018222809\n",
      "Training Accuracy: 81.26%\n",
      "Validation Accuracy: 80.06%\n",
      "\n",
      " Epoch 7 / 12\n",
      "\n",
      "Training Loss: 0.0\n",
      "Validation Loss: 0.3843615688383579\n",
      "Training Accuracy: 82.89%\n",
      "Validation Accuracy: 81.31%\n",
      "\n",
      " Epoch 8 / 12\n",
      "\n",
      "Training Loss: 0.0\n",
      "Validation Loss: 0.3774891036252181\n",
      "Training Accuracy: 82.97%\n",
      "Validation Accuracy: 81.62%\n",
      "\n",
      " Epoch 9 / 12\n",
      "\n",
      "Training Loss: 0.0\n",
      "Validation Loss: 0.3725489340722561\n",
      "Training Accuracy: 83.67%\n",
      "Validation Accuracy: 81.93%\n",
      "\n",
      " Epoch 10 / 12\n",
      "\n",
      "Training Loss: 0.0\n",
      "Validation Loss: 0.3696846241752307\n",
      "Training Accuracy: 84.41%\n",
      "Validation Accuracy: 81.93%\n",
      "\n",
      " Epoch 11 / 12\n",
      "\n",
      "Training Loss: 0.0\n",
      "Validation Loss: 0.37220990906159085\n",
      "Training Accuracy: 84.41%\n",
      "Validation Accuracy: 81.31%\n",
      "\n",
      " Epoch 12 / 12\n",
      "\n",
      "Training Loss: 0.0\n",
      "Validation Loss: 0.3707524389028549\n",
      "Training Accuracy: 84.41%\n",
      "Validation Accuracy: 81.31%\n"
     ]
    }
   ],
   "source": [
    "best_valid_loss = float('inf')\n",
    "train_losses = []\n",
    "valid_losses = []\n",
    "train_accuracies = []\n",
    "valid_accuracies = []\n",
    "\n",
    "\n",
    "for epoch in range(epochs):\n",
    "    print('\\n Epoch {:} / {:}'.format(epoch + 1, epochs))\n",
    "    \n",
    "    train_loss, train_preds, train_labels = train()\n",
    "    valid_loss, valid_preds, valid_labels = evaluate()\n",
    "    train_accuracy = calculate_accuracy(train_preds, train_labels)\n",
    "    valid_accuracy = calculate_accuracy(valid_preds, valid_labels)\n",
    "\n",
    "    if valid_loss < best_valid_loss:\n",
    "        best_valid_loss = valid_loss\n",
    "        torch.save(model.state_dict(), 'saved_weights.pt')\n",
    "    \n",
    "    train_losses.append(train_loss)\n",
    "    valid_losses.append(valid_loss)\n",
    "    train_accuracies.append(train_accuracy)\n",
    "    valid_accuracies.append(valid_accuracy)\n",
    "\n",
    "    early_stopping(valid_loss)\n",
    "    if early_stopping.early_stop:\n",
    "        print(\"Early stopping triggered\")\n",
    "        break\n",
    "    \n",
    "    print('\\nTraining Loss: {}'.format(train_loss))\n",
    "    print('Validation Loss: {}'.format(valid_loss))\n",
    "    print('Training Accuracy: {:.2f}%'.format(train_accuracy * 100))\n",
    "    print('Validation Accuracy: {:.2f}%'.format(valid_accuracy * 100))"
   ]
  },
  {
   "cell_type": "code",
   "execution_count": 57,
   "id": "15d59a5c",
   "metadata": {
    "execution": {
     "iopub.execute_input": "2024-08-20T10:53:50.267113Z",
     "iopub.status.busy": "2024-08-20T10:53:50.266417Z",
     "iopub.status.idle": "2024-08-20T10:53:52.152460Z",
     "shell.execute_reply": "2024-08-20T10:53:52.151460Z"
    },
    "papermill": {
     "duration": 1.909373,
     "end_time": "2024-08-20T10:53:52.154674",
     "exception": false,
     "start_time": "2024-08-20T10:53:50.245301",
     "status": "completed"
    },
    "tags": []
   },
   "outputs": [
    {
     "name": "stdout",
     "output_type": "stream",
     "text": [
      "              precision    recall  f1-score   support\n",
      "\n",
      "           0       0.82      0.80      0.81       157\n",
      "           1       0.81      0.83      0.82       165\n",
      "\n",
      "    accuracy                           0.81       322\n",
      "   macro avg       0.81      0.81      0.81       322\n",
      "weighted avg       0.81      0.81      0.81       322\n",
      "\n"
     ]
    }
   ],
   "source": [
    "from sklearn.metrics import classification_report\n",
    "with torch.no_grad():\n",
    "  preds = model(test_seq.to(device), test_mask.to(device), test_token_type_ids.to(device))\n",
    "  preds = preds.detach().cpu().numpy()\n",
    "pred = np.argmax(preds, axis = 1)\n",
    "print(classification_report(test_y, pred))"
   ]
  },
  {
   "cell_type": "code",
   "execution_count": 58,
   "id": "c602817c",
   "metadata": {
    "execution": {
     "iopub.execute_input": "2024-08-20T10:53:52.196522Z",
     "iopub.status.busy": "2024-08-20T10:53:52.196185Z",
     "iopub.status.idle": "2024-08-20T10:53:52.265961Z",
     "shell.execute_reply": "2024-08-20T10:53:52.264940Z"
    },
    "papermill": {
     "duration": 0.092924,
     "end_time": "2024-08-20T10:53:52.267929",
     "exception": false,
     "start_time": "2024-08-20T10:53:52.175005",
     "status": "completed"
    },
    "tags": []
   },
   "outputs": [
    {
     "name": "stderr",
     "output_type": "stream",
     "text": [
      "Truncation was not explicitly activated but `max_length` is provided a specific value, please use `truncation=True` to explicitly truncate examples to max length. Defaulting to 'longest_first' truncation strategy. If you encode pairs of sequences (GLUE-style) with the tokenizer you can select this strategy more precisely by providing a specific strategy to `truncation`.\n"
     ]
    },
    {
     "name": "stdout",
     "output_type": "stream",
     "text": [
      "Predicted sentiment: Negative\n"
     ]
    }
   ],
   "source": [
    "def predict_user_input(input_text, model, tokenizer, device):\n",
    "    inputs = tokenizer.encode_plus(\n",
    "        input_text,\n",
    "        add_special_tokens=True,\n",
    "        max_length=max_seq_len,\n",
    "        pad_to_max_length=True,\n",
    "        return_attention_mask=True,\n",
    "        return_token_type_ids=True,\n",
    "        return_tensors='pt',\n",
    "    )\n",
    "    input_ids = inputs['input_ids'].to(device)\n",
    "    attention_mask = inputs['attention_mask'].to(device)\n",
    "    token_type_ids = inputs['token_type_ids'].to(device)\n",
    "\n",
    "    with torch.no_grad():\n",
    "        outputs = model(input_ids, attention_mask, token_type_ids)\n",
    "        preds = torch.argmax(outputs, dim=1)\n",
    "    \n",
    "    return preds.item()\n",
    "max_seq_len=50\n",
    "input_text = \"I been told you that yo folks dont care about you . Im starving and my dad deadass didnt make me a plate\"\n",
    "predicted_class = predict_user_input(input_text, model, tokenizer, device)\n",
    "if(predicted_class==0):\n",
    "    print('Predicted sentiment: Negative')\n",
    "else:\n",
    "    print('Predicted sentiment: Positive')"
   ]
  },
  {
   "cell_type": "code",
   "execution_count": 59,
   "id": "840c7466",
   "metadata": {
    "execution": {
     "iopub.execute_input": "2024-08-20T10:53:52.309917Z",
     "iopub.status.busy": "2024-08-20T10:53:52.309620Z",
     "iopub.status.idle": "2024-08-20T10:53:52.326109Z",
     "shell.execute_reply": "2024-08-20T10:53:52.325107Z"
    },
    "papermill": {
     "duration": 0.039742,
     "end_time": "2024-08-20T10:53:52.327964",
     "exception": false,
     "start_time": "2024-08-20T10:53:52.288222",
     "status": "completed"
    },
    "tags": []
   },
   "outputs": [
    {
     "name": "stdout",
     "output_type": "stream",
     "text": [
      "Predicted sentiment: Positive\n"
     ]
    }
   ],
   "source": [
    "input_text = \"what a badass character Arthur is, rckstr is the bst\"\n",
    "predicted_class = predict_user_input(input_text, model, tokenizer, device)\n",
    "if(predicted_class==0):\n",
    "    print('Predicted sentiment: Negative')\n",
    "else:\n",
    "    print('Predicted sentiment: Positive')"
   ]
  },
  {
   "cell_type": "code",
   "execution_count": null,
   "id": "7491833b",
   "metadata": {
    "papermill": {
     "duration": 0.019981,
     "end_time": "2024-08-20T10:53:52.368233",
     "exception": false,
     "start_time": "2024-08-20T10:53:52.348252",
     "status": "completed"
    },
    "tags": []
   },
   "outputs": [],
   "source": []
  }
 ],
 "metadata": {
  "kaggle": {
   "accelerator": "nvidiaTeslaT4",
   "dataSources": [
    {
     "datasetId": 5557640,
     "sourceId": 9193227,
     "sourceType": "datasetVersion"
    }
   ],
   "isGpuEnabled": true,
   "isInternetEnabled": true,
   "language": "python",
   "sourceType": "notebook"
  },
  "kernelspec": {
   "display_name": "Python 3",
   "language": "python",
   "name": "python3"
  },
  "language_info": {
   "codemirror_mode": {
    "name": "ipython",
    "version": 3
   },
   "file_extension": ".py",
   "mimetype": "text/x-python",
   "name": "python",
   "nbconvert_exporter": "python",
   "pygments_lexer": "ipython3",
   "version": "3.10.13"
  },
  "papermill": {
   "default_parameters": {},
   "duration": 104.928624,
   "end_time": "2024-08-20T10:53:54.111457",
   "environment_variables": {},
   "exception": null,
   "input_path": "__notebook__.ipynb",
   "output_path": "__notebook__.ipynb",
   "parameters": {},
   "start_time": "2024-08-20T10:52:09.182833",
   "version": "2.5.0"
  },
  "widgets": {
   "application/vnd.jupyter.widget-state+json": {
    "state": {
     "025aee9b09b142dc9f7f93fe9fdf678e": {
      "model_module": "@jupyter-widgets/base",
      "model_module_version": "1.2.0",
      "model_name": "LayoutModel",
      "state": {
       "_model_module": "@jupyter-widgets/base",
       "_model_module_version": "1.2.0",
       "_model_name": "LayoutModel",
       "_view_count": null,
       "_view_module": "@jupyter-widgets/base",
       "_view_module_version": "1.2.0",
       "_view_name": "LayoutView",
       "align_content": null,
       "align_items": null,
       "align_self": null,
       "border": null,
       "bottom": null,
       "display": null,
       "flex": null,
       "flex_flow": null,
       "grid_area": null,
       "grid_auto_columns": null,
       "grid_auto_flow": null,
       "grid_auto_rows": null,
       "grid_column": null,
       "grid_gap": null,
       "grid_row": null,
       "grid_template_areas": null,
       "grid_template_columns": null,
       "grid_template_rows": null,
       "height": null,
       "justify_content": null,
       "justify_items": null,
       "left": null,
       "margin": null,
       "max_height": null,
       "max_width": null,
       "min_height": null,
       "min_width": null,
       "object_fit": null,
       "object_position": null,
       "order": null,
       "overflow": null,
       "overflow_x": null,
       "overflow_y": null,
       "padding": null,
       "right": null,
       "top": null,
       "visibility": null,
       "width": null
      }
     },
     "10abd762ddfe4e6f9c577424641dea0f": {
      "model_module": "@jupyter-widgets/controls",
      "model_module_version": "1.5.0",
      "model_name": "HBoxModel",
      "state": {
       "_dom_classes": [],
       "_model_module": "@jupyter-widgets/controls",
       "_model_module_version": "1.5.0",
       "_model_name": "HBoxModel",
       "_view_count": null,
       "_view_module": "@jupyter-widgets/controls",
       "_view_module_version": "1.5.0",
       "_view_name": "HBoxView",
       "box_style": "",
       "children": [
        "IPY_MODEL_4bdd2c3a111248cfbb2c8a5bae87c1e1",
        "IPY_MODEL_bfb9a3b7d5cb4e81b769794f9ed2fc70",
        "IPY_MODEL_47b00668148e4e9bb9cee160b6856adb"
       ],
       "layout": "IPY_MODEL_f161374af89a438095cca28d2aa5b858"
      }
     },
     "1318f7ed3c474b2a8d10807adce8e3c7": {
      "model_module": "@jupyter-widgets/base",
      "model_module_version": "1.2.0",
      "model_name": "LayoutModel",
      "state": {
       "_model_module": "@jupyter-widgets/base",
       "_model_module_version": "1.2.0",
       "_model_name": "LayoutModel",
       "_view_count": null,
       "_view_module": "@jupyter-widgets/base",
       "_view_module_version": "1.2.0",
       "_view_name": "LayoutView",
       "align_content": null,
       "align_items": null,
       "align_self": null,
       "border": null,
       "bottom": null,
       "display": null,
       "flex": null,
       "flex_flow": null,
       "grid_area": null,
       "grid_auto_columns": null,
       "grid_auto_flow": null,
       "grid_auto_rows": null,
       "grid_column": null,
       "grid_gap": null,
       "grid_row": null,
       "grid_template_areas": null,
       "grid_template_columns": null,
       "grid_template_rows": null,
       "height": null,
       "justify_content": null,
       "justify_items": null,
       "left": null,
       "margin": null,
       "max_height": null,
       "max_width": null,
       "min_height": null,
       "min_width": null,
       "object_fit": null,
       "object_position": null,
       "order": null,
       "overflow": null,
       "overflow_x": null,
       "overflow_y": null,
       "padding": null,
       "right": null,
       "top": null,
       "visibility": null,
       "width": null
      }
     },
     "183caef67a154107aafa76586c2c96dd": {
      "model_module": "@jupyter-widgets/controls",
      "model_module_version": "1.5.0",
      "model_name": "DescriptionStyleModel",
      "state": {
       "_model_module": "@jupyter-widgets/controls",
       "_model_module_version": "1.5.0",
       "_model_name": "DescriptionStyleModel",
       "_view_count": null,
       "_view_module": "@jupyter-widgets/base",
       "_view_module_version": "1.2.0",
       "_view_name": "StyleView",
       "description_width": ""
      }
     },
     "188193b6f1bb4715b29b060fc8dc5ec8": {
      "model_module": "@jupyter-widgets/controls",
      "model_module_version": "1.5.0",
      "model_name": "HTMLModel",
      "state": {
       "_dom_classes": [],
       "_model_module": "@jupyter-widgets/controls",
       "_model_module_version": "1.5.0",
       "_model_name": "HTMLModel",
       "_view_count": null,
       "_view_module": "@jupyter-widgets/controls",
       "_view_module_version": "1.5.0",
       "_view_name": "HTMLView",
       "description": "",
       "description_tooltip": null,
       "layout": "IPY_MODEL_b12f774a55334ea7a85c4c01c41048b1",
       "placeholder": "​",
       "style": "IPY_MODEL_86b1def7b8a749f18d27e87db97f64b6",
       "value": "tokenizer_config.json: 100%"
      }
     },
     "207e40304e2542b8b26b803cff920545": {
      "model_module": "@jupyter-widgets/controls",
      "model_module_version": "1.5.0",
      "model_name": "ProgressStyleModel",
      "state": {
       "_model_module": "@jupyter-widgets/controls",
       "_model_module_version": "1.5.0",
       "_model_name": "ProgressStyleModel",
       "_view_count": null,
       "_view_module": "@jupyter-widgets/base",
       "_view_module_version": "1.2.0",
       "_view_name": "StyleView",
       "bar_color": null,
       "description_width": ""
      }
     },
     "289d7c7b79c24e0eb643f7b6bff9e7a1": {
      "model_module": "@jupyter-widgets/base",
      "model_module_version": "1.2.0",
      "model_name": "LayoutModel",
      "state": {
       "_model_module": "@jupyter-widgets/base",
       "_model_module_version": "1.2.0",
       "_model_name": "LayoutModel",
       "_view_count": null,
       "_view_module": "@jupyter-widgets/base",
       "_view_module_version": "1.2.0",
       "_view_name": "LayoutView",
       "align_content": null,
       "align_items": null,
       "align_self": null,
       "border": null,
       "bottom": null,
       "display": null,
       "flex": null,
       "flex_flow": null,
       "grid_area": null,
       "grid_auto_columns": null,
       "grid_auto_flow": null,
       "grid_auto_rows": null,
       "grid_column": null,
       "grid_gap": null,
       "grid_row": null,
       "grid_template_areas": null,
       "grid_template_columns": null,
       "grid_template_rows": null,
       "height": null,
       "justify_content": null,
       "justify_items": null,
       "left": null,
       "margin": null,
       "max_height": null,
       "max_width": null,
       "min_height": null,
       "min_width": null,
       "object_fit": null,
       "object_position": null,
       "order": null,
       "overflow": null,
       "overflow_x": null,
       "overflow_y": null,
       "padding": null,
       "right": null,
       "top": null,
       "visibility": null,
       "width": null
      }
     },
     "2ce0b306527c47a9b30e7f9922229589": {
      "model_module": "@jupyter-widgets/controls",
      "model_module_version": "1.5.0",
      "model_name": "FloatProgressModel",
      "state": {
       "_dom_classes": [],
       "_model_module": "@jupyter-widgets/controls",
       "_model_module_version": "1.5.0",
       "_model_name": "FloatProgressModel",
       "_view_count": null,
       "_view_module": "@jupyter-widgets/controls",
       "_view_module_version": "1.5.0",
       "_view_name": "ProgressView",
       "bar_style": "success",
       "description": "",
       "description_tooltip": null,
       "layout": "IPY_MODEL_7fe5ef62f8e24fed8801438b79f03c03",
       "max": 440449768.0,
       "min": 0.0,
       "orientation": "horizontal",
       "style": "IPY_MODEL_207e40304e2542b8b26b803cff920545",
       "value": 440449768.0
      }
     },
     "39d737086d114e72b2e2b1051f823423": {
      "model_module": "@jupyter-widgets/controls",
      "model_module_version": "1.5.0",
      "model_name": "DescriptionStyleModel",
      "state": {
       "_model_module": "@jupyter-widgets/controls",
       "_model_module_version": "1.5.0",
       "_model_name": "DescriptionStyleModel",
       "_view_count": null,
       "_view_module": "@jupyter-widgets/base",
       "_view_module_version": "1.2.0",
       "_view_name": "StyleView",
       "description_width": ""
      }
     },
     "3af0990201a54f01bf8fa2ea21cd5df4": {
      "model_module": "@jupyter-widgets/base",
      "model_module_version": "1.2.0",
      "model_name": "LayoutModel",
      "state": {
       "_model_module": "@jupyter-widgets/base",
       "_model_module_version": "1.2.0",
       "_model_name": "LayoutModel",
       "_view_count": null,
       "_view_module": "@jupyter-widgets/base",
       "_view_module_version": "1.2.0",
       "_view_name": "LayoutView",
       "align_content": null,
       "align_items": null,
       "align_self": null,
       "border": null,
       "bottom": null,
       "display": null,
       "flex": null,
       "flex_flow": null,
       "grid_area": null,
       "grid_auto_columns": null,
       "grid_auto_flow": null,
       "grid_auto_rows": null,
       "grid_column": null,
       "grid_gap": null,
       "grid_row": null,
       "grid_template_areas": null,
       "grid_template_columns": null,
       "grid_template_rows": null,
       "height": null,
       "justify_content": null,
       "justify_items": null,
       "left": null,
       "margin": null,
       "max_height": null,
       "max_width": null,
       "min_height": null,
       "min_width": null,
       "object_fit": null,
       "object_position": null,
       "order": null,
       "overflow": null,
       "overflow_x": null,
       "overflow_y": null,
       "padding": null,
       "right": null,
       "top": null,
       "visibility": null,
       "width": null
      }
     },
     "3e9579fd2ded4a1d91a2a24f568a130b": {
      "model_module": "@jupyter-widgets/controls",
      "model_module_version": "1.5.0",
      "model_name": "DescriptionStyleModel",
      "state": {
       "_model_module": "@jupyter-widgets/controls",
       "_model_module_version": "1.5.0",
       "_model_name": "DescriptionStyleModel",
       "_view_count": null,
       "_view_module": "@jupyter-widgets/base",
       "_view_module_version": "1.2.0",
       "_view_name": "StyleView",
       "description_width": ""
      }
     },
     "431eb732d53b401f8b3a4f7113c57a3f": {
      "model_module": "@jupyter-widgets/controls",
      "model_module_version": "1.5.0",
      "model_name": "HTMLModel",
      "state": {
       "_dom_classes": [],
       "_model_module": "@jupyter-widgets/controls",
       "_model_module_version": "1.5.0",
       "_model_name": "HTMLModel",
       "_view_count": null,
       "_view_module": "@jupyter-widgets/controls",
       "_view_module_version": "1.5.0",
       "_view_name": "HTMLView",
       "description": "",
       "description_tooltip": null,
       "layout": "IPY_MODEL_d007169410fe4f7fa90098ebd5142b37",
       "placeholder": "​",
       "style": "IPY_MODEL_832e31b99fb743e4a25f131121e293e1",
       "value": " 232k/232k [00:00&lt;00:00, 5.32MB/s]"
      }
     },
     "47b00668148e4e9bb9cee160b6856adb": {
      "model_module": "@jupyter-widgets/controls",
      "model_module_version": "1.5.0",
      "model_name": "HTMLModel",
      "state": {
       "_dom_classes": [],
       "_model_module": "@jupyter-widgets/controls",
       "_model_module_version": "1.5.0",
       "_model_name": "HTMLModel",
       "_view_count": null,
       "_view_module": "@jupyter-widgets/controls",
       "_view_module_version": "1.5.0",
       "_view_name": "HTMLView",
       "description": "",
       "description_tooltip": null,
       "layout": "IPY_MODEL_025aee9b09b142dc9f7f93fe9fdf678e",
       "placeholder": "​",
       "style": "IPY_MODEL_183caef67a154107aafa76586c2c96dd",
       "value": " 466k/466k [00:00&lt;00:00, 27.7MB/s]"
      }
     },
     "490f008caa444b3db79982d80e044767": {
      "model_module": "@jupyter-widgets/controls",
      "model_module_version": "1.5.0",
      "model_name": "DescriptionStyleModel",
      "state": {
       "_model_module": "@jupyter-widgets/controls",
       "_model_module_version": "1.5.0",
       "_model_name": "DescriptionStyleModel",
       "_view_count": null,
       "_view_module": "@jupyter-widgets/base",
       "_view_module_version": "1.2.0",
       "_view_name": "StyleView",
       "description_width": ""
      }
     },
     "4ae619a780ff4b939cfe48ba559f9bae": {
      "model_module": "@jupyter-widgets/base",
      "model_module_version": "1.2.0",
      "model_name": "LayoutModel",
      "state": {
       "_model_module": "@jupyter-widgets/base",
       "_model_module_version": "1.2.0",
       "_model_name": "LayoutModel",
       "_view_count": null,
       "_view_module": "@jupyter-widgets/base",
       "_view_module_version": "1.2.0",
       "_view_name": "LayoutView",
       "align_content": null,
       "align_items": null,
       "align_self": null,
       "border": null,
       "bottom": null,
       "display": null,
       "flex": null,
       "flex_flow": null,
       "grid_area": null,
       "grid_auto_columns": null,
       "grid_auto_flow": null,
       "grid_auto_rows": null,
       "grid_column": null,
       "grid_gap": null,
       "grid_row": null,
       "grid_template_areas": null,
       "grid_template_columns": null,
       "grid_template_rows": null,
       "height": null,
       "justify_content": null,
       "justify_items": null,
       "left": null,
       "margin": null,
       "max_height": null,
       "max_width": null,
       "min_height": null,
       "min_width": null,
       "object_fit": null,
       "object_position": null,
       "order": null,
       "overflow": null,
       "overflow_x": null,
       "overflow_y": null,
       "padding": null,
       "right": null,
       "top": null,
       "visibility": null,
       "width": null
      }
     },
     "4bdd2c3a111248cfbb2c8a5bae87c1e1": {
      "model_module": "@jupyter-widgets/controls",
      "model_module_version": "1.5.0",
      "model_name": "HTMLModel",
      "state": {
       "_dom_classes": [],
       "_model_module": "@jupyter-widgets/controls",
       "_model_module_version": "1.5.0",
       "_model_name": "HTMLModel",
       "_view_count": null,
       "_view_module": "@jupyter-widgets/controls",
       "_view_module_version": "1.5.0",
       "_view_name": "HTMLView",
       "description": "",
       "description_tooltip": null,
       "layout": "IPY_MODEL_c13327a1f9a149de908e451621667e53",
       "placeholder": "​",
       "style": "IPY_MODEL_b87235bdbec14414a56e29cf6388927b",
       "value": "tokenizer.json: 100%"
      }
     },
     "539768f83af545e481c5cbff6928d230": {
      "model_module": "@jupyter-widgets/controls",
      "model_module_version": "1.5.0",
      "model_name": "HBoxModel",
      "state": {
       "_dom_classes": [],
       "_model_module": "@jupyter-widgets/controls",
       "_model_module_version": "1.5.0",
       "_model_name": "HBoxModel",
       "_view_count": null,
       "_view_module": "@jupyter-widgets/controls",
       "_view_module_version": "1.5.0",
       "_view_name": "HBoxView",
       "box_style": "",
       "children": [
        "IPY_MODEL_fce025b9655d4d21b1f5da69983fdd57",
        "IPY_MODEL_e32046ce9efc42edac3e65c1e7dc7264",
        "IPY_MODEL_431eb732d53b401f8b3a4f7113c57a3f"
       ],
       "layout": "IPY_MODEL_a46dba8c20fb4708b47a34b5fbb6af91"
      }
     },
     "53e0e8d44990453c83abb0be7624910b": {
      "model_module": "@jupyter-widgets/base",
      "model_module_version": "1.2.0",
      "model_name": "LayoutModel",
      "state": {
       "_model_module": "@jupyter-widgets/base",
       "_model_module_version": "1.2.0",
       "_model_name": "LayoutModel",
       "_view_count": null,
       "_view_module": "@jupyter-widgets/base",
       "_view_module_version": "1.2.0",
       "_view_name": "LayoutView",
       "align_content": null,
       "align_items": null,
       "align_self": null,
       "border": null,
       "bottom": null,
       "display": null,
       "flex": null,
       "flex_flow": null,
       "grid_area": null,
       "grid_auto_columns": null,
       "grid_auto_flow": null,
       "grid_auto_rows": null,
       "grid_column": null,
       "grid_gap": null,
       "grid_row": null,
       "grid_template_areas": null,
       "grid_template_columns": null,
       "grid_template_rows": null,
       "height": null,
       "justify_content": null,
       "justify_items": null,
       "left": null,
       "margin": null,
       "max_height": null,
       "max_width": null,
       "min_height": null,
       "min_width": null,
       "object_fit": null,
       "object_position": null,
       "order": null,
       "overflow": null,
       "overflow_x": null,
       "overflow_y": null,
       "padding": null,
       "right": null,
       "top": null,
       "visibility": null,
       "width": null
      }
     },
     "570ed2b7d3e649caa6505f31895b2820": {
      "model_module": "@jupyter-widgets/controls",
      "model_module_version": "1.5.0",
      "model_name": "ProgressStyleModel",
      "state": {
       "_model_module": "@jupyter-widgets/controls",
       "_model_module_version": "1.5.0",
       "_model_name": "ProgressStyleModel",
       "_view_count": null,
       "_view_module": "@jupyter-widgets/base",
       "_view_module_version": "1.2.0",
       "_view_name": "StyleView",
       "bar_color": null,
       "description_width": ""
      }
     },
     "5bb82f066143486fb0faa7785273c08e": {
      "model_module": "@jupyter-widgets/base",
      "model_module_version": "1.2.0",
      "model_name": "LayoutModel",
      "state": {
       "_model_module": "@jupyter-widgets/base",
       "_model_module_version": "1.2.0",
       "_model_name": "LayoutModel",
       "_view_count": null,
       "_view_module": "@jupyter-widgets/base",
       "_view_module_version": "1.2.0",
       "_view_name": "LayoutView",
       "align_content": null,
       "align_items": null,
       "align_self": null,
       "border": null,
       "bottom": null,
       "display": null,
       "flex": null,
       "flex_flow": null,
       "grid_area": null,
       "grid_auto_columns": null,
       "grid_auto_flow": null,
       "grid_auto_rows": null,
       "grid_column": null,
       "grid_gap": null,
       "grid_row": null,
       "grid_template_areas": null,
       "grid_template_columns": null,
       "grid_template_rows": null,
       "height": null,
       "justify_content": null,
       "justify_items": null,
       "left": null,
       "margin": null,
       "max_height": null,
       "max_width": null,
       "min_height": null,
       "min_width": null,
       "object_fit": null,
       "object_position": null,
       "order": null,
       "overflow": null,
       "overflow_x": null,
       "overflow_y": null,
       "padding": null,
       "right": null,
       "top": null,
       "visibility": null,
       "width": null
      }
     },
     "70f542522ac84ccdb7334c776a4b4e56": {
      "model_module": "@jupyter-widgets/controls",
      "model_module_version": "1.5.0",
      "model_name": "ProgressStyleModel",
      "state": {
       "_model_module": "@jupyter-widgets/controls",
       "_model_module_version": "1.5.0",
       "_model_name": "ProgressStyleModel",
       "_view_count": null,
       "_view_module": "@jupyter-widgets/base",
       "_view_module_version": "1.2.0",
       "_view_name": "StyleView",
       "bar_color": null,
       "description_width": ""
      }
     },
     "76284150089e43e49d46b1c381a66492": {
      "model_module": "@jupyter-widgets/controls",
      "model_module_version": "1.5.0",
      "model_name": "ProgressStyleModel",
      "state": {
       "_model_module": "@jupyter-widgets/controls",
       "_model_module_version": "1.5.0",
       "_model_name": "ProgressStyleModel",
       "_view_count": null,
       "_view_module": "@jupyter-widgets/base",
       "_view_module_version": "1.2.0",
       "_view_name": "StyleView",
       "bar_color": null,
       "description_width": ""
      }
     },
     "77803fafde61401a830f3227a7612a51": {
      "model_module": "@jupyter-widgets/controls",
      "model_module_version": "1.5.0",
      "model_name": "HTMLModel",
      "state": {
       "_dom_classes": [],
       "_model_module": "@jupyter-widgets/controls",
       "_model_module_version": "1.5.0",
       "_model_name": "HTMLModel",
       "_view_count": null,
       "_view_module": "@jupyter-widgets/controls",
       "_view_module_version": "1.5.0",
       "_view_name": "HTMLView",
       "description": "",
       "description_tooltip": null,
       "layout": "IPY_MODEL_3af0990201a54f01bf8fa2ea21cd5df4",
       "placeholder": "​",
       "style": "IPY_MODEL_39d737086d114e72b2e2b1051f823423",
       "value": " 570/570 [00:00&lt;00:00, 48.5kB/s]"
      }
     },
     "7fe5ef62f8e24fed8801438b79f03c03": {
      "model_module": "@jupyter-widgets/base",
      "model_module_version": "1.2.0",
      "model_name": "LayoutModel",
      "state": {
       "_model_module": "@jupyter-widgets/base",
       "_model_module_version": "1.2.0",
       "_model_name": "LayoutModel",
       "_view_count": null,
       "_view_module": "@jupyter-widgets/base",
       "_view_module_version": "1.2.0",
       "_view_name": "LayoutView",
       "align_content": null,
       "align_items": null,
       "align_self": null,
       "border": null,
       "bottom": null,
       "display": null,
       "flex": null,
       "flex_flow": null,
       "grid_area": null,
       "grid_auto_columns": null,
       "grid_auto_flow": null,
       "grid_auto_rows": null,
       "grid_column": null,
       "grid_gap": null,
       "grid_row": null,
       "grid_template_areas": null,
       "grid_template_columns": null,
       "grid_template_rows": null,
       "height": null,
       "justify_content": null,
       "justify_items": null,
       "left": null,
       "margin": null,
       "max_height": null,
       "max_width": null,
       "min_height": null,
       "min_width": null,
       "object_fit": null,
       "object_position": null,
       "order": null,
       "overflow": null,
       "overflow_x": null,
       "overflow_y": null,
       "padding": null,
       "right": null,
       "top": null,
       "visibility": null,
       "width": null
      }
     },
     "832e31b99fb743e4a25f131121e293e1": {
      "model_module": "@jupyter-widgets/controls",
      "model_module_version": "1.5.0",
      "model_name": "DescriptionStyleModel",
      "state": {
       "_model_module": "@jupyter-widgets/controls",
       "_model_module_version": "1.5.0",
       "_model_name": "DescriptionStyleModel",
       "_view_count": null,
       "_view_module": "@jupyter-widgets/base",
       "_view_module_version": "1.2.0",
       "_view_name": "StyleView",
       "description_width": ""
      }
     },
     "840aaecfee3e4dbf9fe7c408d8a1f867": {
      "model_module": "@jupyter-widgets/base",
      "model_module_version": "1.2.0",
      "model_name": "LayoutModel",
      "state": {
       "_model_module": "@jupyter-widgets/base",
       "_model_module_version": "1.2.0",
       "_model_name": "LayoutModel",
       "_view_count": null,
       "_view_module": "@jupyter-widgets/base",
       "_view_module_version": "1.2.0",
       "_view_name": "LayoutView",
       "align_content": null,
       "align_items": null,
       "align_self": null,
       "border": null,
       "bottom": null,
       "display": null,
       "flex": null,
       "flex_flow": null,
       "grid_area": null,
       "grid_auto_columns": null,
       "grid_auto_flow": null,
       "grid_auto_rows": null,
       "grid_column": null,
       "grid_gap": null,
       "grid_row": null,
       "grid_template_areas": null,
       "grid_template_columns": null,
       "grid_template_rows": null,
       "height": null,
       "justify_content": null,
       "justify_items": null,
       "left": null,
       "margin": null,
       "max_height": null,
       "max_width": null,
       "min_height": null,
       "min_width": null,
       "object_fit": null,
       "object_position": null,
       "order": null,
       "overflow": null,
       "overflow_x": null,
       "overflow_y": null,
       "padding": null,
       "right": null,
       "top": null,
       "visibility": null,
       "width": null
      }
     },
     "86b1def7b8a749f18d27e87db97f64b6": {
      "model_module": "@jupyter-widgets/controls",
      "model_module_version": "1.5.0",
      "model_name": "DescriptionStyleModel",
      "state": {
       "_model_module": "@jupyter-widgets/controls",
       "_model_module_version": "1.5.0",
       "_model_name": "DescriptionStyleModel",
       "_view_count": null,
       "_view_module": "@jupyter-widgets/base",
       "_view_module_version": "1.2.0",
       "_view_name": "StyleView",
       "description_width": ""
      }
     },
     "87552cf29533421baa5e30b7ffbb99d9": {
      "model_module": "@jupyter-widgets/controls",
      "model_module_version": "1.5.0",
      "model_name": "HBoxModel",
      "state": {
       "_dom_classes": [],
       "_model_module": "@jupyter-widgets/controls",
       "_model_module_version": "1.5.0",
       "_model_name": "HBoxModel",
       "_view_count": null,
       "_view_module": "@jupyter-widgets/controls",
       "_view_module_version": "1.5.0",
       "_view_name": "HBoxView",
       "box_style": "",
       "children": [
        "IPY_MODEL_188193b6f1bb4715b29b060fc8dc5ec8",
        "IPY_MODEL_96e34eebfd194c92bdcf1eb2e5e6d402",
        "IPY_MODEL_cac07a52358e41ec8890c8435db21c34"
       ],
       "layout": "IPY_MODEL_d90abf80ad7e4395a11c9b026c59a05c"
      }
     },
     "9105220f8a7447e398bacfc181875beb": {
      "model_module": "@jupyter-widgets/controls",
      "model_module_version": "1.5.0",
      "model_name": "HTMLModel",
      "state": {
       "_dom_classes": [],
       "_model_module": "@jupyter-widgets/controls",
       "_model_module_version": "1.5.0",
       "_model_name": "HTMLModel",
       "_view_count": null,
       "_view_module": "@jupyter-widgets/controls",
       "_view_module_version": "1.5.0",
       "_view_name": "HTMLView",
       "description": "",
       "description_tooltip": null,
       "layout": "IPY_MODEL_289d7c7b79c24e0eb643f7b6bff9e7a1",
       "placeholder": "​",
       "style": "IPY_MODEL_3e9579fd2ded4a1d91a2a24f568a130b",
       "value": " 440M/440M [00:02&lt;00:00, 206MB/s]"
      }
     },
     "91cf57b0f3014c4284be8e958eae7129": {
      "model_module": "@jupyter-widgets/base",
      "model_module_version": "1.2.0",
      "model_name": "LayoutModel",
      "state": {
       "_model_module": "@jupyter-widgets/base",
       "_model_module_version": "1.2.0",
       "_model_name": "LayoutModel",
       "_view_count": null,
       "_view_module": "@jupyter-widgets/base",
       "_view_module_version": "1.2.0",
       "_view_name": "LayoutView",
       "align_content": null,
       "align_items": null,
       "align_self": null,
       "border": null,
       "bottom": null,
       "display": null,
       "flex": null,
       "flex_flow": null,
       "grid_area": null,
       "grid_auto_columns": null,
       "grid_auto_flow": null,
       "grid_auto_rows": null,
       "grid_column": null,
       "grid_gap": null,
       "grid_row": null,
       "grid_template_areas": null,
       "grid_template_columns": null,
       "grid_template_rows": null,
       "height": null,
       "justify_content": null,
       "justify_items": null,
       "left": null,
       "margin": null,
       "max_height": null,
       "max_width": null,
       "min_height": null,
       "min_width": null,
       "object_fit": null,
       "object_position": null,
       "order": null,
       "overflow": null,
       "overflow_x": null,
       "overflow_y": null,
       "padding": null,
       "right": null,
       "top": null,
       "visibility": null,
       "width": null
      }
     },
     "91ead7ebd2d5493999e511e4e1c310f7": {
      "model_module": "@jupyter-widgets/controls",
      "model_module_version": "1.5.0",
      "model_name": "HBoxModel",
      "state": {
       "_dom_classes": [],
       "_model_module": "@jupyter-widgets/controls",
       "_model_module_version": "1.5.0",
       "_model_name": "HBoxModel",
       "_view_count": null,
       "_view_module": "@jupyter-widgets/controls",
       "_view_module_version": "1.5.0",
       "_view_name": "HBoxView",
       "box_style": "",
       "children": [
        "IPY_MODEL_a7da58e6378f47b29b448c9b384e56b5",
        "IPY_MODEL_d19d08361b5b40c883d2214fb84f85d7",
        "IPY_MODEL_77803fafde61401a830f3227a7612a51"
       ],
       "layout": "IPY_MODEL_aed6ad7911044482a62440cb231204cf"
      }
     },
     "96e34eebfd194c92bdcf1eb2e5e6d402": {
      "model_module": "@jupyter-widgets/controls",
      "model_module_version": "1.5.0",
      "model_name": "FloatProgressModel",
      "state": {
       "_dom_classes": [],
       "_model_module": "@jupyter-widgets/controls",
       "_model_module_version": "1.5.0",
       "_model_name": "FloatProgressModel",
       "_view_count": null,
       "_view_module": "@jupyter-widgets/controls",
       "_view_module_version": "1.5.0",
       "_view_name": "ProgressView",
       "bar_style": "success",
       "description": "",
       "description_tooltip": null,
       "layout": "IPY_MODEL_1318f7ed3c474b2a8d10807adce8e3c7",
       "max": 48.0,
       "min": 0.0,
       "orientation": "horizontal",
       "style": "IPY_MODEL_d5b6d363ad4b451ba33258cbf4fa65b0",
       "value": 48.0
      }
     },
     "a46dba8c20fb4708b47a34b5fbb6af91": {
      "model_module": "@jupyter-widgets/base",
      "model_module_version": "1.2.0",
      "model_name": "LayoutModel",
      "state": {
       "_model_module": "@jupyter-widgets/base",
       "_model_module_version": "1.2.0",
       "_model_name": "LayoutModel",
       "_view_count": null,
       "_view_module": "@jupyter-widgets/base",
       "_view_module_version": "1.2.0",
       "_view_name": "LayoutView",
       "align_content": null,
       "align_items": null,
       "align_self": null,
       "border": null,
       "bottom": null,
       "display": null,
       "flex": null,
       "flex_flow": null,
       "grid_area": null,
       "grid_auto_columns": null,
       "grid_auto_flow": null,
       "grid_auto_rows": null,
       "grid_column": null,
       "grid_gap": null,
       "grid_row": null,
       "grid_template_areas": null,
       "grid_template_columns": null,
       "grid_template_rows": null,
       "height": null,
       "justify_content": null,
       "justify_items": null,
       "left": null,
       "margin": null,
       "max_height": null,
       "max_width": null,
       "min_height": null,
       "min_width": null,
       "object_fit": null,
       "object_position": null,
       "order": null,
       "overflow": null,
       "overflow_x": null,
       "overflow_y": null,
       "padding": null,
       "right": null,
       "top": null,
       "visibility": null,
       "width": null
      }
     },
     "a7da58e6378f47b29b448c9b384e56b5": {
      "model_module": "@jupyter-widgets/controls",
      "model_module_version": "1.5.0",
      "model_name": "HTMLModel",
      "state": {
       "_dom_classes": [],
       "_model_module": "@jupyter-widgets/controls",
       "_model_module_version": "1.5.0",
       "_model_name": "HTMLModel",
       "_view_count": null,
       "_view_module": "@jupyter-widgets/controls",
       "_view_module_version": "1.5.0",
       "_view_name": "HTMLView",
       "description": "",
       "description_tooltip": null,
       "layout": "IPY_MODEL_f7c06a81866c4ebfb7bf6fe1aa3540a5",
       "placeholder": "​",
       "style": "IPY_MODEL_afa82f353ee1471ab102bdb6a5807f81",
       "value": "config.json: 100%"
      }
     },
     "aed6ad7911044482a62440cb231204cf": {
      "model_module": "@jupyter-widgets/base",
      "model_module_version": "1.2.0",
      "model_name": "LayoutModel",
      "state": {
       "_model_module": "@jupyter-widgets/base",
       "_model_module_version": "1.2.0",
       "_model_name": "LayoutModel",
       "_view_count": null,
       "_view_module": "@jupyter-widgets/base",
       "_view_module_version": "1.2.0",
       "_view_name": "LayoutView",
       "align_content": null,
       "align_items": null,
       "align_self": null,
       "border": null,
       "bottom": null,
       "display": null,
       "flex": null,
       "flex_flow": null,
       "grid_area": null,
       "grid_auto_columns": null,
       "grid_auto_flow": null,
       "grid_auto_rows": null,
       "grid_column": null,
       "grid_gap": null,
       "grid_row": null,
       "grid_template_areas": null,
       "grid_template_columns": null,
       "grid_template_rows": null,
       "height": null,
       "justify_content": null,
       "justify_items": null,
       "left": null,
       "margin": null,
       "max_height": null,
       "max_width": null,
       "min_height": null,
       "min_width": null,
       "object_fit": null,
       "object_position": null,
       "order": null,
       "overflow": null,
       "overflow_x": null,
       "overflow_y": null,
       "padding": null,
       "right": null,
       "top": null,
       "visibility": null,
       "width": null
      }
     },
     "afa82f353ee1471ab102bdb6a5807f81": {
      "model_module": "@jupyter-widgets/controls",
      "model_module_version": "1.5.0",
      "model_name": "DescriptionStyleModel",
      "state": {
       "_model_module": "@jupyter-widgets/controls",
       "_model_module_version": "1.5.0",
       "_model_name": "DescriptionStyleModel",
       "_view_count": null,
       "_view_module": "@jupyter-widgets/base",
       "_view_module_version": "1.2.0",
       "_view_name": "StyleView",
       "description_width": ""
      }
     },
     "b12f774a55334ea7a85c4c01c41048b1": {
      "model_module": "@jupyter-widgets/base",
      "model_module_version": "1.2.0",
      "model_name": "LayoutModel",
      "state": {
       "_model_module": "@jupyter-widgets/base",
       "_model_module_version": "1.2.0",
       "_model_name": "LayoutModel",
       "_view_count": null,
       "_view_module": "@jupyter-widgets/base",
       "_view_module_version": "1.2.0",
       "_view_name": "LayoutView",
       "align_content": null,
       "align_items": null,
       "align_self": null,
       "border": null,
       "bottom": null,
       "display": null,
       "flex": null,
       "flex_flow": null,
       "grid_area": null,
       "grid_auto_columns": null,
       "grid_auto_flow": null,
       "grid_auto_rows": null,
       "grid_column": null,
       "grid_gap": null,
       "grid_row": null,
       "grid_template_areas": null,
       "grid_template_columns": null,
       "grid_template_rows": null,
       "height": null,
       "justify_content": null,
       "justify_items": null,
       "left": null,
       "margin": null,
       "max_height": null,
       "max_width": null,
       "min_height": null,
       "min_width": null,
       "object_fit": null,
       "object_position": null,
       "order": null,
       "overflow": null,
       "overflow_x": null,
       "overflow_y": null,
       "padding": null,
       "right": null,
       "top": null,
       "visibility": null,
       "width": null
      }
     },
     "b2059eb7cd7f4df39a4f179131e3d63c": {
      "model_module": "@jupyter-widgets/controls",
      "model_module_version": "1.5.0",
      "model_name": "HTMLModel",
      "state": {
       "_dom_classes": [],
       "_model_module": "@jupyter-widgets/controls",
       "_model_module_version": "1.5.0",
       "_model_name": "HTMLModel",
       "_view_count": null,
       "_view_module": "@jupyter-widgets/controls",
       "_view_module_version": "1.5.0",
       "_view_name": "HTMLView",
       "description": "",
       "description_tooltip": null,
       "layout": "IPY_MODEL_4ae619a780ff4b939cfe48ba559f9bae",
       "placeholder": "​",
       "style": "IPY_MODEL_490f008caa444b3db79982d80e044767",
       "value": "model.safetensors: 100%"
      }
     },
     "b87235bdbec14414a56e29cf6388927b": {
      "model_module": "@jupyter-widgets/controls",
      "model_module_version": "1.5.0",
      "model_name": "DescriptionStyleModel",
      "state": {
       "_model_module": "@jupyter-widgets/controls",
       "_model_module_version": "1.5.0",
       "_model_name": "DescriptionStyleModel",
       "_view_count": null,
       "_view_module": "@jupyter-widgets/base",
       "_view_module_version": "1.2.0",
       "_view_name": "StyleView",
       "description_width": ""
      }
     },
     "bba31be6ff91451a80d8057f5dc51436": {
      "model_module": "@jupyter-widgets/controls",
      "model_module_version": "1.5.0",
      "model_name": "DescriptionStyleModel",
      "state": {
       "_model_module": "@jupyter-widgets/controls",
       "_model_module_version": "1.5.0",
       "_model_name": "DescriptionStyleModel",
       "_view_count": null,
       "_view_module": "@jupyter-widgets/base",
       "_view_module_version": "1.2.0",
       "_view_name": "StyleView",
       "description_width": ""
      }
     },
     "bfb9a3b7d5cb4e81b769794f9ed2fc70": {
      "model_module": "@jupyter-widgets/controls",
      "model_module_version": "1.5.0",
      "model_name": "FloatProgressModel",
      "state": {
       "_dom_classes": [],
       "_model_module": "@jupyter-widgets/controls",
       "_model_module_version": "1.5.0",
       "_model_name": "FloatProgressModel",
       "_view_count": null,
       "_view_module": "@jupyter-widgets/controls",
       "_view_module_version": "1.5.0",
       "_view_name": "ProgressView",
       "bar_style": "success",
       "description": "",
       "description_tooltip": null,
       "layout": "IPY_MODEL_5bb82f066143486fb0faa7785273c08e",
       "max": 466062.0,
       "min": 0.0,
       "orientation": "horizontal",
       "style": "IPY_MODEL_70f542522ac84ccdb7334c776a4b4e56",
       "value": 466062.0
      }
     },
     "c13327a1f9a149de908e451621667e53": {
      "model_module": "@jupyter-widgets/base",
      "model_module_version": "1.2.0",
      "model_name": "LayoutModel",
      "state": {
       "_model_module": "@jupyter-widgets/base",
       "_model_module_version": "1.2.0",
       "_model_name": "LayoutModel",
       "_view_count": null,
       "_view_module": "@jupyter-widgets/base",
       "_view_module_version": "1.2.0",
       "_view_name": "LayoutView",
       "align_content": null,
       "align_items": null,
       "align_self": null,
       "border": null,
       "bottom": null,
       "display": null,
       "flex": null,
       "flex_flow": null,
       "grid_area": null,
       "grid_auto_columns": null,
       "grid_auto_flow": null,
       "grid_auto_rows": null,
       "grid_column": null,
       "grid_gap": null,
       "grid_row": null,
       "grid_template_areas": null,
       "grid_template_columns": null,
       "grid_template_rows": null,
       "height": null,
       "justify_content": null,
       "justify_items": null,
       "left": null,
       "margin": null,
       "max_height": null,
       "max_width": null,
       "min_height": null,
       "min_width": null,
       "object_fit": null,
       "object_position": null,
       "order": null,
       "overflow": null,
       "overflow_x": null,
       "overflow_y": null,
       "padding": null,
       "right": null,
       "top": null,
       "visibility": null,
       "width": null
      }
     },
     "c276d57ee23b405586cfe2ea46c4ed20": {
      "model_module": "@jupyter-widgets/base",
      "model_module_version": "1.2.0",
      "model_name": "LayoutModel",
      "state": {
       "_model_module": "@jupyter-widgets/base",
       "_model_module_version": "1.2.0",
       "_model_name": "LayoutModel",
       "_view_count": null,
       "_view_module": "@jupyter-widgets/base",
       "_view_module_version": "1.2.0",
       "_view_name": "LayoutView",
       "align_content": null,
       "align_items": null,
       "align_self": null,
       "border": null,
       "bottom": null,
       "display": null,
       "flex": null,
       "flex_flow": null,
       "grid_area": null,
       "grid_auto_columns": null,
       "grid_auto_flow": null,
       "grid_auto_rows": null,
       "grid_column": null,
       "grid_gap": null,
       "grid_row": null,
       "grid_template_areas": null,
       "grid_template_columns": null,
       "grid_template_rows": null,
       "height": null,
       "justify_content": null,
       "justify_items": null,
       "left": null,
       "margin": null,
       "max_height": null,
       "max_width": null,
       "min_height": null,
       "min_width": null,
       "object_fit": null,
       "object_position": null,
       "order": null,
       "overflow": null,
       "overflow_x": null,
       "overflow_y": null,
       "padding": null,
       "right": null,
       "top": null,
       "visibility": null,
       "width": null
      }
     },
     "cac07a52358e41ec8890c8435db21c34": {
      "model_module": "@jupyter-widgets/controls",
      "model_module_version": "1.5.0",
      "model_name": "HTMLModel",
      "state": {
       "_dom_classes": [],
       "_model_module": "@jupyter-widgets/controls",
       "_model_module_version": "1.5.0",
       "_model_name": "HTMLModel",
       "_view_count": null,
       "_view_module": "@jupyter-widgets/controls",
       "_view_module_version": "1.5.0",
       "_view_name": "HTMLView",
       "description": "",
       "description_tooltip": null,
       "layout": "IPY_MODEL_840aaecfee3e4dbf9fe7c408d8a1f867",
       "placeholder": "​",
       "style": "IPY_MODEL_fb08a87fde714b2cb337b655bacee95f",
       "value": " 48.0/48.0 [00:00&lt;00:00, 4.39kB/s]"
      }
     },
     "d007169410fe4f7fa90098ebd5142b37": {
      "model_module": "@jupyter-widgets/base",
      "model_module_version": "1.2.0",
      "model_name": "LayoutModel",
      "state": {
       "_model_module": "@jupyter-widgets/base",
       "_model_module_version": "1.2.0",
       "_model_name": "LayoutModel",
       "_view_count": null,
       "_view_module": "@jupyter-widgets/base",
       "_view_module_version": "1.2.0",
       "_view_name": "LayoutView",
       "align_content": null,
       "align_items": null,
       "align_self": null,
       "border": null,
       "bottom": null,
       "display": null,
       "flex": null,
       "flex_flow": null,
       "grid_area": null,
       "grid_auto_columns": null,
       "grid_auto_flow": null,
       "grid_auto_rows": null,
       "grid_column": null,
       "grid_gap": null,
       "grid_row": null,
       "grid_template_areas": null,
       "grid_template_columns": null,
       "grid_template_rows": null,
       "height": null,
       "justify_content": null,
       "justify_items": null,
       "left": null,
       "margin": null,
       "max_height": null,
       "max_width": null,
       "min_height": null,
       "min_width": null,
       "object_fit": null,
       "object_position": null,
       "order": null,
       "overflow": null,
       "overflow_x": null,
       "overflow_y": null,
       "padding": null,
       "right": null,
       "top": null,
       "visibility": null,
       "width": null
      }
     },
     "d12f399d9cac4ee0ac761e40e3f182e0": {
      "model_module": "@jupyter-widgets/controls",
      "model_module_version": "1.5.0",
      "model_name": "HBoxModel",
      "state": {
       "_dom_classes": [],
       "_model_module": "@jupyter-widgets/controls",
       "_model_module_version": "1.5.0",
       "_model_name": "HBoxModel",
       "_view_count": null,
       "_view_module": "@jupyter-widgets/controls",
       "_view_module_version": "1.5.0",
       "_view_name": "HBoxView",
       "box_style": "",
       "children": [
        "IPY_MODEL_b2059eb7cd7f4df39a4f179131e3d63c",
        "IPY_MODEL_2ce0b306527c47a9b30e7f9922229589",
        "IPY_MODEL_9105220f8a7447e398bacfc181875beb"
       ],
       "layout": "IPY_MODEL_91cf57b0f3014c4284be8e958eae7129"
      }
     },
     "d19d08361b5b40c883d2214fb84f85d7": {
      "model_module": "@jupyter-widgets/controls",
      "model_module_version": "1.5.0",
      "model_name": "FloatProgressModel",
      "state": {
       "_dom_classes": [],
       "_model_module": "@jupyter-widgets/controls",
       "_model_module_version": "1.5.0",
       "_model_name": "FloatProgressModel",
       "_view_count": null,
       "_view_module": "@jupyter-widgets/controls",
       "_view_module_version": "1.5.0",
       "_view_name": "ProgressView",
       "bar_style": "success",
       "description": "",
       "description_tooltip": null,
       "layout": "IPY_MODEL_c276d57ee23b405586cfe2ea46c4ed20",
       "max": 570.0,
       "min": 0.0,
       "orientation": "horizontal",
       "style": "IPY_MODEL_76284150089e43e49d46b1c381a66492",
       "value": 570.0
      }
     },
     "d5b6d363ad4b451ba33258cbf4fa65b0": {
      "model_module": "@jupyter-widgets/controls",
      "model_module_version": "1.5.0",
      "model_name": "ProgressStyleModel",
      "state": {
       "_model_module": "@jupyter-widgets/controls",
       "_model_module_version": "1.5.0",
       "_model_name": "ProgressStyleModel",
       "_view_count": null,
       "_view_module": "@jupyter-widgets/base",
       "_view_module_version": "1.2.0",
       "_view_name": "StyleView",
       "bar_color": null,
       "description_width": ""
      }
     },
     "d90abf80ad7e4395a11c9b026c59a05c": {
      "model_module": "@jupyter-widgets/base",
      "model_module_version": "1.2.0",
      "model_name": "LayoutModel",
      "state": {
       "_model_module": "@jupyter-widgets/base",
       "_model_module_version": "1.2.0",
       "_model_name": "LayoutModel",
       "_view_count": null,
       "_view_module": "@jupyter-widgets/base",
       "_view_module_version": "1.2.0",
       "_view_name": "LayoutView",
       "align_content": null,
       "align_items": null,
       "align_self": null,
       "border": null,
       "bottom": null,
       "display": null,
       "flex": null,
       "flex_flow": null,
       "grid_area": null,
       "grid_auto_columns": null,
       "grid_auto_flow": null,
       "grid_auto_rows": null,
       "grid_column": null,
       "grid_gap": null,
       "grid_row": null,
       "grid_template_areas": null,
       "grid_template_columns": null,
       "grid_template_rows": null,
       "height": null,
       "justify_content": null,
       "justify_items": null,
       "left": null,
       "margin": null,
       "max_height": null,
       "max_width": null,
       "min_height": null,
       "min_width": null,
       "object_fit": null,
       "object_position": null,
       "order": null,
       "overflow": null,
       "overflow_x": null,
       "overflow_y": null,
       "padding": null,
       "right": null,
       "top": null,
       "visibility": null,
       "width": null
      }
     },
     "e32046ce9efc42edac3e65c1e7dc7264": {
      "model_module": "@jupyter-widgets/controls",
      "model_module_version": "1.5.0",
      "model_name": "FloatProgressModel",
      "state": {
       "_dom_classes": [],
       "_model_module": "@jupyter-widgets/controls",
       "_model_module_version": "1.5.0",
       "_model_name": "FloatProgressModel",
       "_view_count": null,
       "_view_module": "@jupyter-widgets/controls",
       "_view_module_version": "1.5.0",
       "_view_name": "ProgressView",
       "bar_style": "success",
       "description": "",
       "description_tooltip": null,
       "layout": "IPY_MODEL_53e0e8d44990453c83abb0be7624910b",
       "max": 231508.0,
       "min": 0.0,
       "orientation": "horizontal",
       "style": "IPY_MODEL_570ed2b7d3e649caa6505f31895b2820",
       "value": 231508.0
      }
     },
     "f161374af89a438095cca28d2aa5b858": {
      "model_module": "@jupyter-widgets/base",
      "model_module_version": "1.2.0",
      "model_name": "LayoutModel",
      "state": {
       "_model_module": "@jupyter-widgets/base",
       "_model_module_version": "1.2.0",
       "_model_name": "LayoutModel",
       "_view_count": null,
       "_view_module": "@jupyter-widgets/base",
       "_view_module_version": "1.2.0",
       "_view_name": "LayoutView",
       "align_content": null,
       "align_items": null,
       "align_self": null,
       "border": null,
       "bottom": null,
       "display": null,
       "flex": null,
       "flex_flow": null,
       "grid_area": null,
       "grid_auto_columns": null,
       "grid_auto_flow": null,
       "grid_auto_rows": null,
       "grid_column": null,
       "grid_gap": null,
       "grid_row": null,
       "grid_template_areas": null,
       "grid_template_columns": null,
       "grid_template_rows": null,
       "height": null,
       "justify_content": null,
       "justify_items": null,
       "left": null,
       "margin": null,
       "max_height": null,
       "max_width": null,
       "min_height": null,
       "min_width": null,
       "object_fit": null,
       "object_position": null,
       "order": null,
       "overflow": null,
       "overflow_x": null,
       "overflow_y": null,
       "padding": null,
       "right": null,
       "top": null,
       "visibility": null,
       "width": null
      }
     },
     "f7c06a81866c4ebfb7bf6fe1aa3540a5": {
      "model_module": "@jupyter-widgets/base",
      "model_module_version": "1.2.0",
      "model_name": "LayoutModel",
      "state": {
       "_model_module": "@jupyter-widgets/base",
       "_model_module_version": "1.2.0",
       "_model_name": "LayoutModel",
       "_view_count": null,
       "_view_module": "@jupyter-widgets/base",
       "_view_module_version": "1.2.0",
       "_view_name": "LayoutView",
       "align_content": null,
       "align_items": null,
       "align_self": null,
       "border": null,
       "bottom": null,
       "display": null,
       "flex": null,
       "flex_flow": null,
       "grid_area": null,
       "grid_auto_columns": null,
       "grid_auto_flow": null,
       "grid_auto_rows": null,
       "grid_column": null,
       "grid_gap": null,
       "grid_row": null,
       "grid_template_areas": null,
       "grid_template_columns": null,
       "grid_template_rows": null,
       "height": null,
       "justify_content": null,
       "justify_items": null,
       "left": null,
       "margin": null,
       "max_height": null,
       "max_width": null,
       "min_height": null,
       "min_width": null,
       "object_fit": null,
       "object_position": null,
       "order": null,
       "overflow": null,
       "overflow_x": null,
       "overflow_y": null,
       "padding": null,
       "right": null,
       "top": null,
       "visibility": null,
       "width": null
      }
     },
     "fb08a87fde714b2cb337b655bacee95f": {
      "model_module": "@jupyter-widgets/controls",
      "model_module_version": "1.5.0",
      "model_name": "DescriptionStyleModel",
      "state": {
       "_model_module": "@jupyter-widgets/controls",
       "_model_module_version": "1.5.0",
       "_model_name": "DescriptionStyleModel",
       "_view_count": null,
       "_view_module": "@jupyter-widgets/base",
       "_view_module_version": "1.2.0",
       "_view_name": "StyleView",
       "description_width": ""
      }
     },
     "fc18cd5cf17e47f2bcefa87f8396fb6b": {
      "model_module": "@jupyter-widgets/base",
      "model_module_version": "1.2.0",
      "model_name": "LayoutModel",
      "state": {
       "_model_module": "@jupyter-widgets/base",
       "_model_module_version": "1.2.0",
       "_model_name": "LayoutModel",
       "_view_count": null,
       "_view_module": "@jupyter-widgets/base",
       "_view_module_version": "1.2.0",
       "_view_name": "LayoutView",
       "align_content": null,
       "align_items": null,
       "align_self": null,
       "border": null,
       "bottom": null,
       "display": null,
       "flex": null,
       "flex_flow": null,
       "grid_area": null,
       "grid_auto_columns": null,
       "grid_auto_flow": null,
       "grid_auto_rows": null,
       "grid_column": null,
       "grid_gap": null,
       "grid_row": null,
       "grid_template_areas": null,
       "grid_template_columns": null,
       "grid_template_rows": null,
       "height": null,
       "justify_content": null,
       "justify_items": null,
       "left": null,
       "margin": null,
       "max_height": null,
       "max_width": null,
       "min_height": null,
       "min_width": null,
       "object_fit": null,
       "object_position": null,
       "order": null,
       "overflow": null,
       "overflow_x": null,
       "overflow_y": null,
       "padding": null,
       "right": null,
       "top": null,
       "visibility": null,
       "width": null
      }
     },
     "fce025b9655d4d21b1f5da69983fdd57": {
      "model_module": "@jupyter-widgets/controls",
      "model_module_version": "1.5.0",
      "model_name": "HTMLModel",
      "state": {
       "_dom_classes": [],
       "_model_module": "@jupyter-widgets/controls",
       "_model_module_version": "1.5.0",
       "_model_name": "HTMLModel",
       "_view_count": null,
       "_view_module": "@jupyter-widgets/controls",
       "_view_module_version": "1.5.0",
       "_view_name": "HTMLView",
       "description": "",
       "description_tooltip": null,
       "layout": "IPY_MODEL_fc18cd5cf17e47f2bcefa87f8396fb6b",
       "placeholder": "​",
       "style": "IPY_MODEL_bba31be6ff91451a80d8057f5dc51436",
       "value": "vocab.txt: 100%"
      }
     }
    },
    "version_major": 2,
    "version_minor": 0
   }
  }
 },
 "nbformat": 4,
 "nbformat_minor": 5
}
