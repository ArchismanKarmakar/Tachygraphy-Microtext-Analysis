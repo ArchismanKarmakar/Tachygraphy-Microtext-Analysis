{
 "cells": [
  {
   "cell_type": "code",
   "execution_count": 1,
   "id": "ac6a19f9",
   "metadata": {
    "_cell_guid": "b1076dfc-b9ad-4769-8c92-a6c4dae69d19",
    "_uuid": "8f2839f25d086af736a60e9eeb907d3b93b6e0e5",
    "execution": {
     "iopub.execute_input": "2024-08-20T14:48:34.060494Z",
     "iopub.status.busy": "2024-08-20T14:48:34.060099Z",
     "iopub.status.idle": "2024-08-20T14:48:34.816229Z",
     "shell.execute_reply": "2024-08-20T14:48:34.815195Z"
    },
    "papermill": {
     "duration": 0.779605,
     "end_time": "2024-08-20T14:48:34.818520",
     "exception": false,
     "start_time": "2024-08-20T14:48:34.038915",
     "status": "completed"
    },
    "tags": []
   },
   "outputs": [
    {
     "name": "stdout",
     "output_type": "stream",
     "text": [
      "/kaggle/input/dataset-tachygraphy/Tachygraphy_dataset_main.csv\n"
     ]
    }
   ],
   "source": [
    "# This Python 3 environment comes with many helpful analytics libraries installed\n",
    "# It is defined by the kaggle/python Docker image: https://github.com/kaggle/docker-python\n",
    "# For example, here's several helpful packages to load\n",
    "\n",
    "import numpy as np # linear algebra\n",
    "import pandas as pd # data processing, CSV file I/O (e.g. pd.read_csv)\n",
    "\n",
    "# Input data files are available in the read-only \"../input/\" directory\n",
    "# For example, running this (by clicking run or pressing Shift+Enter) will list all files under the input directory\n",
    "\n",
    "import os\n",
    "for dirname, _, filenames in os.walk('/kaggle/input'):\n",
    "    for filename in filenames:\n",
    "        print(os.path.join(dirname, filename))\n",
    "\n",
    "# You can write up to 20GB to the current directory (/kaggle/working/) that gets preserved as output when you create a version using \"Save & Run All\" \n",
    "# You can also write temporary files to /kaggle/temp/, but they won't be saved outside of the current session"
   ]
  },
  {
   "cell_type": "code",
   "execution_count": 2,
   "id": "e987888c",
   "metadata": {
    "execution": {
     "iopub.execute_input": "2024-08-20T14:48:34.856436Z",
     "iopub.status.busy": "2024-08-20T14:48:34.856045Z",
     "iopub.status.idle": "2024-08-20T14:48:34.860536Z",
     "shell.execute_reply": "2024-08-20T14:48:34.859546Z"
    },
    "papermill": {
     "duration": 0.025624,
     "end_time": "2024-08-20T14:48:34.862556",
     "exception": false,
     "start_time": "2024-08-20T14:48:34.836932",
     "status": "completed"
    },
    "tags": []
   },
   "outputs": [],
   "source": [
    "# To ignore warinings\n",
    "import warnings\n",
    "warnings.filterwarnings('ignore')"
   ]
  },
  {
   "cell_type": "code",
   "execution_count": 3,
   "id": "9b8e2fc0",
   "metadata": {
    "execution": {
     "iopub.execute_input": "2024-08-20T14:48:34.899875Z",
     "iopub.status.busy": "2024-08-20T14:48:34.899261Z",
     "iopub.status.idle": "2024-08-20T14:48:38.749098Z",
     "shell.execute_reply": "2024-08-20T14:48:38.748102Z"
    },
    "papermill": {
     "duration": 3.870444,
     "end_time": "2024-08-20T14:48:38.751619",
     "exception": false,
     "start_time": "2024-08-20T14:48:34.881175",
     "status": "completed"
    },
    "tags": []
   },
   "outputs": [],
   "source": [
    "import torch\n",
    "device = torch.device(\"cuda\" if torch.cuda.is_available() else \"cpu\")"
   ]
  },
  {
   "cell_type": "code",
   "execution_count": 4,
   "id": "d7e5bd6e",
   "metadata": {
    "execution": {
     "iopub.execute_input": "2024-08-20T14:48:38.788598Z",
     "iopub.status.busy": "2024-08-20T14:48:38.788142Z",
     "iopub.status.idle": "2024-08-20T14:48:40.441557Z",
     "shell.execute_reply": "2024-08-20T14:48:40.440550Z"
    },
    "papermill": {
     "duration": 1.674434,
     "end_time": "2024-08-20T14:48:40.444020",
     "exception": false,
     "start_time": "2024-08-20T14:48:38.769586",
     "status": "completed"
    },
    "tags": []
   },
   "outputs": [],
   "source": [
    "import numpy as np\n",
    "import pandas as pd\n",
    "import re\n",
    "from nltk.corpus import stopwords\n",
    "from nltk.stem.porter import PorterStemmer\n",
    "from sklearn.feature_extraction.text import TfidfVectorizer"
   ]
  },
  {
   "cell_type": "code",
   "execution_count": 5,
   "id": "ed3a1bb6",
   "metadata": {
    "execution": {
     "iopub.execute_input": "2024-08-20T14:48:40.480561Z",
     "iopub.status.busy": "2024-08-20T14:48:40.480243Z",
     "iopub.status.idle": "2024-08-20T14:48:40.586261Z",
     "shell.execute_reply": "2024-08-20T14:48:40.585276Z"
    },
    "papermill": {
     "duration": 0.126485,
     "end_time": "2024-08-20T14:48:40.588466",
     "exception": false,
     "start_time": "2024-08-20T14:48:40.461981",
     "status": "completed"
    },
    "tags": []
   },
   "outputs": [
    {
     "name": "stdout",
     "output_type": "stream",
     "text": [
      "[nltk_data] Downloading package stopwords to /usr/share/nltk_data...\n",
      "[nltk_data]   Package stopwords is already up-to-date!\n"
     ]
    },
    {
     "data": {
      "text/plain": [
       "True"
      ]
     },
     "execution_count": 5,
     "metadata": {},
     "output_type": "execute_result"
    }
   ],
   "source": [
    "import nltk\n",
    "nltk.download('stopwords')"
   ]
  },
  {
   "cell_type": "markdown",
   "id": "270054f1",
   "metadata": {
    "papermill": {
     "duration": 0.019387,
     "end_time": "2024-08-20T14:48:40.627903",
     "exception": false,
     "start_time": "2024-08-20T14:48:40.608516",
     "status": "completed"
    },
    "tags": []
   },
   "source": [
    "# DATASET"
   ]
  },
  {
   "cell_type": "code",
   "execution_count": 6,
   "id": "6be49256",
   "metadata": {
    "execution": {
     "iopub.execute_input": "2024-08-20T14:48:40.668646Z",
     "iopub.status.busy": "2024-08-20T14:48:40.668285Z",
     "iopub.status.idle": "2024-08-20T14:48:40.713110Z",
     "shell.execute_reply": "2024-08-20T14:48:40.711989Z"
    },
    "papermill": {
     "duration": 0.06814,
     "end_time": "2024-08-20T14:48:40.715758",
     "exception": false,
     "start_time": "2024-08-20T14:48:40.647618",
     "status": "completed"
    },
    "tags": []
   },
   "outputs": [
    {
     "data": {
      "text/plain": [
       "(4958, 3)"
      ]
     },
     "execution_count": 6,
     "metadata": {},
     "output_type": "execute_result"
    }
   ],
   "source": [
    "df=pd.read_csv(\"/kaggle/input/dataset-tachygraphy/Tachygraphy_dataset_main.csv\")\n",
    "df.shape"
   ]
  },
  {
   "cell_type": "code",
   "execution_count": 7,
   "id": "9f38f99a",
   "metadata": {
    "execution": {
     "iopub.execute_input": "2024-08-20T14:48:40.757928Z",
     "iopub.status.busy": "2024-08-20T14:48:40.757546Z",
     "iopub.status.idle": "2024-08-20T14:48:40.775943Z",
     "shell.execute_reply": "2024-08-20T14:48:40.774828Z"
    },
    "papermill": {
     "duration": 0.041184,
     "end_time": "2024-08-20T14:48:40.778171",
     "exception": false,
     "start_time": "2024-08-20T14:48:40.736987",
     "status": "completed"
    },
    "tags": []
   },
   "outputs": [
    {
     "data": {
      "text/html": [
       "<div>\n",
       "<style scoped>\n",
       "    .dataframe tbody tr th:only-of-type {\n",
       "        vertical-align: middle;\n",
       "    }\n",
       "\n",
       "    .dataframe tbody tr th {\n",
       "        vertical-align: top;\n",
       "    }\n",
       "\n",
       "    .dataframe thead th {\n",
       "        text-align: right;\n",
       "    }\n",
       "</style>\n",
       "<table border=\"1\" class=\"dataframe\">\n",
       "  <thead>\n",
       "    <tr style=\"text-align: right;\">\n",
       "      <th></th>\n",
       "      <th>Text</th>\n",
       "      <th>Meaning</th>\n",
       "      <th>Sentiment</th>\n",
       "    </tr>\n",
       "  </thead>\n",
       "  <tbody>\n",
       "    <tr>\n",
       "      <th>0</th>\n",
       "      <td>Last session of the day http://twitpic.com/67ezh</td>\n",
       "      <td>Last session of the day http://twitpic.com/67ezh</td>\n",
       "      <td>neutral</td>\n",
       "    </tr>\n",
       "    <tr>\n",
       "      <th>1</th>\n",
       "      <td>Shanghai is also really exciting (precisely --...</td>\n",
       "      <td>Shanghai is also really exciting (precisely --...</td>\n",
       "      <td>positive</td>\n",
       "    </tr>\n",
       "    <tr>\n",
       "      <th>2</th>\n",
       "      <td>submit the report ASAP!</td>\n",
       "      <td>submit the report as soon as possilbe</td>\n",
       "      <td>negative</td>\n",
       "    </tr>\n",
       "    <tr>\n",
       "      <th>3</th>\n",
       "      <td>happy bday!</td>\n",
       "      <td>Happy Birthday!</td>\n",
       "      <td>positive</td>\n",
       "    </tr>\n",
       "    <tr>\n",
       "      <th>4</th>\n",
       "      <td>The OGs - I like it!!</td>\n",
       "      <td>The original gangsters - i like it!</td>\n",
       "      <td>positive</td>\n",
       "    </tr>\n",
       "  </tbody>\n",
       "</table>\n",
       "</div>"
      ],
      "text/plain": [
       "                                                Text  \\\n",
       "0   Last session of the day http://twitpic.com/67ezh   \n",
       "1  Shanghai is also really exciting (precisely --...   \n",
       "2                            submit the report ASAP!   \n",
       "3                                        happy bday!   \n",
       "4                              The OGs - I like it!!   \n",
       "\n",
       "                                             Meaning Sentiment  \n",
       "0   Last session of the day http://twitpic.com/67ezh   neutral  \n",
       "1  Shanghai is also really exciting (precisely --...  positive  \n",
       "2              submit the report as soon as possilbe  negative  \n",
       "3                                    Happy Birthday!  positive  \n",
       "4                The original gangsters - i like it!  positive  "
      ]
     },
     "execution_count": 7,
     "metadata": {},
     "output_type": "execute_result"
    }
   ],
   "source": [
    "df.head()"
   ]
  },
  {
   "cell_type": "code",
   "execution_count": 8,
   "id": "276cc09f",
   "metadata": {
    "execution": {
     "iopub.execute_input": "2024-08-20T14:48:40.817752Z",
     "iopub.status.busy": "2024-08-20T14:48:40.817484Z",
     "iopub.status.idle": "2024-08-20T14:48:40.821505Z",
     "shell.execute_reply": "2024-08-20T14:48:40.820538Z"
    },
    "papermill": {
     "duration": 0.026132,
     "end_time": "2024-08-20T14:48:40.823601",
     "exception": false,
     "start_time": "2024-08-20T14:48:40.797469",
     "status": "completed"
    },
    "tags": []
   },
   "outputs": [],
   "source": [
    "# df.drop(columns=['Sentiment.1'],inplace=True)"
   ]
  },
  {
   "cell_type": "markdown",
   "id": "8ca17e4f",
   "metadata": {
    "papermill": {
     "duration": 0.018207,
     "end_time": "2024-08-20T14:48:40.860245",
     "exception": false,
     "start_time": "2024-08-20T14:48:40.842038",
     "status": "completed"
    },
    "tags": []
   },
   "source": [
    "## PREPROCESSING"
   ]
  },
  {
   "cell_type": "code",
   "execution_count": 9,
   "id": "41aa8484",
   "metadata": {
    "execution": {
     "iopub.execute_input": "2024-08-20T14:48:40.899129Z",
     "iopub.status.busy": "2024-08-20T14:48:40.898824Z",
     "iopub.status.idle": "2024-08-20T14:48:40.907384Z",
     "shell.execute_reply": "2024-08-20T14:48:40.906414Z"
    },
    "papermill": {
     "duration": 0.030436,
     "end_time": "2024-08-20T14:48:40.909534",
     "exception": false,
     "start_time": "2024-08-20T14:48:40.879098",
     "status": "completed"
    },
    "tags": []
   },
   "outputs": [],
   "source": [
    "df=df.drop('Meaning',axis=1)"
   ]
  },
  {
   "cell_type": "code",
   "execution_count": 10,
   "id": "c7e5d383",
   "metadata": {
    "execution": {
     "iopub.execute_input": "2024-08-20T14:48:40.948360Z",
     "iopub.status.busy": "2024-08-20T14:48:40.947737Z",
     "iopub.status.idle": "2024-08-20T14:48:40.953504Z",
     "shell.execute_reply": "2024-08-20T14:48:40.952670Z"
    },
    "papermill": {
     "duration": 0.027657,
     "end_time": "2024-08-20T14:48:40.955577",
     "exception": false,
     "start_time": "2024-08-20T14:48:40.927920",
     "status": "completed"
    },
    "tags": []
   },
   "outputs": [
    {
     "data": {
      "text/plain": [
       "(4958, 2)"
      ]
     },
     "execution_count": 10,
     "metadata": {},
     "output_type": "execute_result"
    }
   ],
   "source": [
    "df.shape"
   ]
  },
  {
   "cell_type": "code",
   "execution_count": 11,
   "id": "cef891c8",
   "metadata": {
    "execution": {
     "iopub.execute_input": "2024-08-20T14:48:40.996594Z",
     "iopub.status.busy": "2024-08-20T14:48:40.996270Z",
     "iopub.status.idle": "2024-08-20T14:48:41.001537Z",
     "shell.execute_reply": "2024-08-20T14:48:41.000633Z"
    },
    "papermill": {
     "duration": 0.028536,
     "end_time": "2024-08-20T14:48:41.003669",
     "exception": false,
     "start_time": "2024-08-20T14:48:40.975133",
     "status": "completed"
    },
    "tags": []
   },
   "outputs": [],
   "source": [
    "df = df.rename(columns={'Text': 'tweet'})"
   ]
  },
  {
   "cell_type": "code",
   "execution_count": 12,
   "id": "555e9151",
   "metadata": {
    "execution": {
     "iopub.execute_input": "2024-08-20T14:48:41.043054Z",
     "iopub.status.busy": "2024-08-20T14:48:41.042731Z",
     "iopub.status.idle": "2024-08-20T14:48:41.047752Z",
     "shell.execute_reply": "2024-08-20T14:48:41.046811Z"
    },
    "papermill": {
     "duration": 0.027117,
     "end_time": "2024-08-20T14:48:41.049834",
     "exception": false,
     "start_time": "2024-08-20T14:48:41.022717",
     "status": "completed"
    },
    "tags": []
   },
   "outputs": [],
   "source": [
    "df = df.rename(columns={'Sentiment': 'class'})"
   ]
  },
  {
   "cell_type": "code",
   "execution_count": 13,
   "id": "c246f995",
   "metadata": {
    "execution": {
     "iopub.execute_input": "2024-08-20T14:48:41.087387Z",
     "iopub.status.busy": "2024-08-20T14:48:41.087083Z",
     "iopub.status.idle": "2024-08-20T14:48:41.104686Z",
     "shell.execute_reply": "2024-08-20T14:48:41.103752Z"
    },
    "papermill": {
     "duration": 0.038664,
     "end_time": "2024-08-20T14:48:41.106906",
     "exception": false,
     "start_time": "2024-08-20T14:48:41.068242",
     "status": "completed"
    },
    "tags": []
   },
   "outputs": [
    {
     "data": {
      "text/plain": [
       "class\n",
       "neutral     1743\n",
       "positive    1643\n",
       "negative    1572\n",
       "Name: count, dtype: int64"
      ]
     },
     "execution_count": 13,
     "metadata": {},
     "output_type": "execute_result"
    }
   ],
   "source": [
    "df['class'] = df['class'].str.lower()\n",
    "sentiment_counts = df['class'].value_counts()\n",
    "sentiment_counts"
   ]
  },
  {
   "cell_type": "code",
   "execution_count": 14,
   "id": "ef885386",
   "metadata": {
    "execution": {
     "iopub.execute_input": "2024-08-20T14:48:41.146746Z",
     "iopub.status.busy": "2024-08-20T14:48:41.146432Z",
     "iopub.status.idle": "2024-08-20T14:48:41.153845Z",
     "shell.execute_reply": "2024-08-20T14:48:41.152815Z"
    },
    "papermill": {
     "duration": 0.029657,
     "end_time": "2024-08-20T14:48:41.156097",
     "exception": false,
     "start_time": "2024-08-20T14:48:41.126440",
     "status": "completed"
    },
    "tags": []
   },
   "outputs": [],
   "source": [
    "df = df[df['class'] != \"neutral\"]  ###droping neutral columns"
   ]
  },
  {
   "cell_type": "code",
   "execution_count": 15,
   "id": "c5c75a66",
   "metadata": {
    "execution": {
     "iopub.execute_input": "2024-08-20T14:48:41.195937Z",
     "iopub.status.busy": "2024-08-20T14:48:41.195620Z",
     "iopub.status.idle": "2024-08-20T14:48:41.202685Z",
     "shell.execute_reply": "2024-08-20T14:48:41.201728Z"
    },
    "papermill": {
     "duration": 0.02961,
     "end_time": "2024-08-20T14:48:41.204890",
     "exception": false,
     "start_time": "2024-08-20T14:48:41.175280",
     "status": "completed"
    },
    "tags": []
   },
   "outputs": [],
   "source": [
    "from sklearn.preprocessing import LabelEncoder\n",
    "label_encoder = LabelEncoder()\n",
    "label_encoder.fit(df['class'])\n",
    "encoded_labels = label_encoder.transform(df['class'])\n",
    "df['class'] = encoded_labels"
   ]
  },
  {
   "cell_type": "code",
   "execution_count": 16,
   "id": "538ef3d6",
   "metadata": {
    "execution": {
     "iopub.execute_input": "2024-08-20T14:48:41.245197Z",
     "iopub.status.busy": "2024-08-20T14:48:41.244945Z",
     "iopub.status.idle": "2024-08-20T14:48:41.254237Z",
     "shell.execute_reply": "2024-08-20T14:48:41.253305Z"
    },
    "papermill": {
     "duration": 0.032021,
     "end_time": "2024-08-20T14:48:41.256505",
     "exception": false,
     "start_time": "2024-08-20T14:48:41.224484",
     "status": "completed"
    },
    "tags": []
   },
   "outputs": [
    {
     "data": {
      "text/html": [
       "<div>\n",
       "<style scoped>\n",
       "    .dataframe tbody tr th:only-of-type {\n",
       "        vertical-align: middle;\n",
       "    }\n",
       "\n",
       "    .dataframe tbody tr th {\n",
       "        vertical-align: top;\n",
       "    }\n",
       "\n",
       "    .dataframe thead th {\n",
       "        text-align: right;\n",
       "    }\n",
       "</style>\n",
       "<table border=\"1\" class=\"dataframe\">\n",
       "  <thead>\n",
       "    <tr style=\"text-align: right;\">\n",
       "      <th></th>\n",
       "      <th>tweet</th>\n",
       "      <th>class</th>\n",
       "    </tr>\n",
       "  </thead>\n",
       "  <tbody>\n",
       "    <tr>\n",
       "      <th>1</th>\n",
       "      <td>Shanghai is also really exciting (precisely --...</td>\n",
       "      <td>1</td>\n",
       "    </tr>\n",
       "    <tr>\n",
       "      <th>2</th>\n",
       "      <td>submit the report ASAP!</td>\n",
       "      <td>0</td>\n",
       "    </tr>\n",
       "    <tr>\n",
       "      <th>3</th>\n",
       "      <td>happy bday!</td>\n",
       "      <td>1</td>\n",
       "    </tr>\n",
       "    <tr>\n",
       "      <th>4</th>\n",
       "      <td>The OGs - I like it!!</td>\n",
       "      <td>1</td>\n",
       "    </tr>\n",
       "    <tr>\n",
       "      <th>5</th>\n",
       "      <td>that`s great!! weee!! visitors!</td>\n",
       "      <td>1</td>\n",
       "    </tr>\n",
       "  </tbody>\n",
       "</table>\n",
       "</div>"
      ],
      "text/plain": [
       "                                               tweet  class\n",
       "1  Shanghai is also really exciting (precisely --...      1\n",
       "2                            submit the report ASAP!      0\n",
       "3                                        happy bday!      1\n",
       "4                              The OGs - I like it!!      1\n",
       "5                    that`s great!! weee!! visitors!      1"
      ]
     },
     "execution_count": 16,
     "metadata": {},
     "output_type": "execute_result"
    }
   ],
   "source": [
    "df.head()"
   ]
  },
  {
   "cell_type": "code",
   "execution_count": 17,
   "id": "4fde73b0",
   "metadata": {
    "execution": {
     "iopub.execute_input": "2024-08-20T14:48:41.297362Z",
     "iopub.status.busy": "2024-08-20T14:48:41.297085Z",
     "iopub.status.idle": "2024-08-20T14:48:41.305656Z",
     "shell.execute_reply": "2024-08-20T14:48:41.304704Z"
    },
    "papermill": {
     "duration": 0.030755,
     "end_time": "2024-08-20T14:48:41.308072",
     "exception": false,
     "start_time": "2024-08-20T14:48:41.277317",
     "status": "completed"
    },
    "tags": []
   },
   "outputs": [
    {
     "data": {
      "text/plain": [
       "tweet    1\n",
       "class    0\n",
       "dtype: int64"
      ]
     },
     "execution_count": 17,
     "metadata": {},
     "output_type": "execute_result"
    }
   ],
   "source": [
    "df.isnull().sum()"
   ]
  },
  {
   "cell_type": "code",
   "execution_count": 18,
   "id": "09d456fb",
   "metadata": {
    "execution": {
     "iopub.execute_input": "2024-08-20T14:48:41.348702Z",
     "iopub.status.busy": "2024-08-20T14:48:41.348374Z",
     "iopub.status.idle": "2024-08-20T14:48:41.353506Z",
     "shell.execute_reply": "2024-08-20T14:48:41.352554Z"
    },
    "papermill": {
     "duration": 0.027168,
     "end_time": "2024-08-20T14:48:41.355677",
     "exception": false,
     "start_time": "2024-08-20T14:48:41.328509",
     "status": "completed"
    },
    "tags": []
   },
   "outputs": [],
   "source": [
    "df=df.fillna('')"
   ]
  },
  {
   "cell_type": "code",
   "execution_count": 19,
   "id": "705dda0e",
   "metadata": {
    "execution": {
     "iopub.execute_input": "2024-08-20T14:48:41.435949Z",
     "iopub.status.busy": "2024-08-20T14:48:41.435585Z",
     "iopub.status.idle": "2024-08-20T14:48:41.444806Z",
     "shell.execute_reply": "2024-08-20T14:48:41.443904Z"
    },
    "papermill": {
     "duration": 0.071415,
     "end_time": "2024-08-20T14:48:41.446936",
     "exception": false,
     "start_time": "2024-08-20T14:48:41.375521",
     "status": "completed"
    },
    "tags": []
   },
   "outputs": [
    {
     "data": {
      "text/html": [
       "<div>\n",
       "<style scoped>\n",
       "    .dataframe tbody tr th:only-of-type {\n",
       "        vertical-align: middle;\n",
       "    }\n",
       "\n",
       "    .dataframe tbody tr th {\n",
       "        vertical-align: top;\n",
       "    }\n",
       "\n",
       "    .dataframe thead th {\n",
       "        text-align: right;\n",
       "    }\n",
       "</style>\n",
       "<table border=\"1\" class=\"dataframe\">\n",
       "  <thead>\n",
       "    <tr style=\"text-align: right;\">\n",
       "      <th></th>\n",
       "      <th>tweet</th>\n",
       "      <th>class</th>\n",
       "    </tr>\n",
       "  </thead>\n",
       "  <tbody>\n",
       "    <tr>\n",
       "      <th>1</th>\n",
       "      <td>Shanghai is also really exciting (precisely --...</td>\n",
       "      <td>1</td>\n",
       "    </tr>\n",
       "    <tr>\n",
       "      <th>2</th>\n",
       "      <td>submit the report ASAP!</td>\n",
       "      <td>0</td>\n",
       "    </tr>\n",
       "    <tr>\n",
       "      <th>3</th>\n",
       "      <td>happy bday!</td>\n",
       "      <td>1</td>\n",
       "    </tr>\n",
       "    <tr>\n",
       "      <th>4</th>\n",
       "      <td>The OGs - I like it!!</td>\n",
       "      <td>1</td>\n",
       "    </tr>\n",
       "    <tr>\n",
       "      <th>5</th>\n",
       "      <td>that`s great!! weee!! visitors!</td>\n",
       "      <td>1</td>\n",
       "    </tr>\n",
       "  </tbody>\n",
       "</table>\n",
       "</div>"
      ],
      "text/plain": [
       "                                               tweet  class\n",
       "1  Shanghai is also really exciting (precisely --...      1\n",
       "2                            submit the report ASAP!      0\n",
       "3                                        happy bday!      1\n",
       "4                              The OGs - I like it!!      1\n",
       "5                    that`s great!! weee!! visitors!      1"
      ]
     },
     "execution_count": 19,
     "metadata": {},
     "output_type": "execute_result"
    }
   ],
   "source": [
    "df.head()"
   ]
  },
  {
   "cell_type": "code",
   "execution_count": 20,
   "id": "fc0e54bf",
   "metadata": {
    "execution": {
     "iopub.execute_input": "2024-08-20T14:48:41.488085Z",
     "iopub.status.busy": "2024-08-20T14:48:41.487722Z",
     "iopub.status.idle": "2024-08-20T14:48:41.670184Z",
     "shell.execute_reply": "2024-08-20T14:48:41.669079Z"
    },
    "papermill": {
     "duration": 0.204988,
     "end_time": "2024-08-20T14:48:41.672650",
     "exception": false,
     "start_time": "2024-08-20T14:48:41.467662",
     "status": "completed"
    },
    "tags": []
   },
   "outputs": [],
   "source": [
    "import re\n",
    "from bs4 import BeautifulSoup\n",
    "\n",
    "def text_cleaning(text):\n",
    "    text = str(text)\n",
    "    soup = BeautifulSoup(text, \"html.parser\")    ###removing html tages\n",
    "    text = re.sub(r'\\[[^]]*\\]', '', soup.get_text())      ##removing text within square brackets\n",
    "    pattern = r\"[^a-zA-Z0-9\\s,']\"                  # Removing unwanted characters\n",
    "    text = re.sub(pattern, '', text)\n",
    "    url_pattern = r'http\\S+|www\\S+'            ###removing urls\n",
    "    text = re.sub(url_pattern, '', text)\n",
    "    return text"
   ]
  },
  {
   "cell_type": "code",
   "execution_count": 21,
   "id": "50f22931",
   "metadata": {
    "execution": {
     "iopub.execute_input": "2024-08-20T14:48:41.711594Z",
     "iopub.status.busy": "2024-08-20T14:48:41.711145Z",
     "iopub.status.idle": "2024-08-20T14:48:41.909324Z",
     "shell.execute_reply": "2024-08-20T14:48:41.908165Z"
    },
    "papermill": {
     "duration": 0.220396,
     "end_time": "2024-08-20T14:48:41.911938",
     "exception": false,
     "start_time": "2024-08-20T14:48:41.691542",
     "status": "completed"
    },
    "tags": []
   },
   "outputs": [],
   "source": [
    "df['tweet'] = df['tweet'].apply(text_cleaning).tolist()"
   ]
  },
  {
   "cell_type": "code",
   "execution_count": 22,
   "id": "d2d02aec",
   "metadata": {
    "execution": {
     "iopub.execute_input": "2024-08-20T14:48:41.953477Z",
     "iopub.status.busy": "2024-08-20T14:48:41.952888Z",
     "iopub.status.idle": "2024-08-20T14:48:41.963745Z",
     "shell.execute_reply": "2024-08-20T14:48:41.962814Z"
    },
    "papermill": {
     "duration": 0.033764,
     "end_time": "2024-08-20T14:48:41.965815",
     "exception": false,
     "start_time": "2024-08-20T14:48:41.932051",
     "status": "completed"
    },
    "tags": []
   },
   "outputs": [
    {
     "data": {
      "text/html": [
       "<div>\n",
       "<style scoped>\n",
       "    .dataframe tbody tr th:only-of-type {\n",
       "        vertical-align: middle;\n",
       "    }\n",
       "\n",
       "    .dataframe tbody tr th {\n",
       "        vertical-align: top;\n",
       "    }\n",
       "\n",
       "    .dataframe thead th {\n",
       "        text-align: right;\n",
       "    }\n",
       "</style>\n",
       "<table border=\"1\" class=\"dataframe\">\n",
       "  <thead>\n",
       "    <tr style=\"text-align: right;\">\n",
       "      <th></th>\n",
       "      <th>tweet</th>\n",
       "      <th>class</th>\n",
       "    </tr>\n",
       "  </thead>\n",
       "  <tbody>\n",
       "    <tr>\n",
       "      <th>1</th>\n",
       "      <td>Shanghai is also really exciting precisely  sk...</td>\n",
       "      <td>1</td>\n",
       "    </tr>\n",
       "    <tr>\n",
       "      <th>2</th>\n",
       "      <td>submit the report ASAP</td>\n",
       "      <td>0</td>\n",
       "    </tr>\n",
       "    <tr>\n",
       "      <th>3</th>\n",
       "      <td>happy bday</td>\n",
       "      <td>1</td>\n",
       "    </tr>\n",
       "    <tr>\n",
       "      <th>4</th>\n",
       "      <td>The OGs  I like it</td>\n",
       "      <td>1</td>\n",
       "    </tr>\n",
       "    <tr>\n",
       "      <th>5</th>\n",
       "      <td>thats great weee visitors</td>\n",
       "      <td>1</td>\n",
       "    </tr>\n",
       "    <tr>\n",
       "      <th>6</th>\n",
       "      <td>I THINK EVERYONE HATES ME ON HERE lol</td>\n",
       "      <td>0</td>\n",
       "    </tr>\n",
       "    <tr>\n",
       "      <th>7</th>\n",
       "      <td>soooooo wish i could, but im in school and mys...</td>\n",
       "      <td>0</td>\n",
       "    </tr>\n",
       "    <tr>\n",
       "      <th>10</th>\n",
       "      <td>My bike was put on holdshould have known that ...</td>\n",
       "      <td>0</td>\n",
       "    </tr>\n",
       "    <tr>\n",
       "      <th>13</th>\n",
       "      <td>Im in VA for the weekend, my youngest son turn...</td>\n",
       "      <td>0</td>\n",
       "    </tr>\n",
       "    <tr>\n",
       "      <th>14</th>\n",
       "      <td>Its coming out the socket I feel like my phone...</td>\n",
       "      <td>0</td>\n",
       "    </tr>\n",
       "  </tbody>\n",
       "</table>\n",
       "</div>"
      ],
      "text/plain": [
       "                                                tweet  class\n",
       "1   Shanghai is also really exciting precisely  sk...      1\n",
       "2                              submit the report ASAP      0\n",
       "3                                          happy bday      1\n",
       "4                                  The OGs  I like it      1\n",
       "5                           thats great weee visitors      1\n",
       "6               I THINK EVERYONE HATES ME ON HERE lol      0\n",
       "7   soooooo wish i could, but im in school and mys...      0\n",
       "10  My bike was put on holdshould have known that ...      0\n",
       "13  Im in VA for the weekend, my youngest son turn...      0\n",
       "14  Its coming out the socket I feel like my phone...      0"
      ]
     },
     "execution_count": 22,
     "metadata": {},
     "output_type": "execute_result"
    }
   ],
   "source": [
    "df.head(10)"
   ]
  },
  {
   "cell_type": "code",
   "execution_count": 23,
   "id": "d522b448",
   "metadata": {
    "execution": {
     "iopub.execute_input": "2024-08-20T14:48:42.008715Z",
     "iopub.status.busy": "2024-08-20T14:48:42.008383Z",
     "iopub.status.idle": "2024-08-20T14:48:42.016818Z",
     "shell.execute_reply": "2024-08-20T14:48:42.015988Z"
    },
    "papermill": {
     "duration": 0.031981,
     "end_time": "2024-08-20T14:48:42.018839",
     "exception": false,
     "start_time": "2024-08-20T14:48:41.986858",
     "status": "completed"
    },
    "tags": []
   },
   "outputs": [],
   "source": [
    "lens=[len(i.split()) for i in df['tweet']]"
   ]
  },
  {
   "cell_type": "code",
   "execution_count": 24,
   "id": "d2808578",
   "metadata": {
    "execution": {
     "iopub.execute_input": "2024-08-20T14:48:42.062558Z",
     "iopub.status.busy": "2024-08-20T14:48:42.062198Z",
     "iopub.status.idle": "2024-08-20T14:48:42.387744Z",
     "shell.execute_reply": "2024-08-20T14:48:42.386898Z"
    },
    "papermill": {
     "duration": 0.349742,
     "end_time": "2024-08-20T14:48:42.389750",
     "exception": false,
     "start_time": "2024-08-20T14:48:42.040008",
     "status": "completed"
    },
    "tags": []
   },
   "outputs": [
    {
     "data": {
      "text/plain": [
       "(array([135., 493., 641., 585., 429., 438., 237., 174.,  74.,   9.]),\n",
       " array([ 0. ,  3.2,  6.4,  9.6, 12.8, 16. , 19.2, 22.4, 25.6, 28.8, 32. ]),\n",
       " <BarContainer object of 10 artists>)"
      ]
     },
     "execution_count": 24,
     "metadata": {},
     "output_type": "execute_result"
    },
    {
     "data": {
      "image/png": "[encoded data removed]",
      "text/plain": [
       "<Figure size 640x480 with 1 Axes>"
      ]
     },
     "metadata": {},
     "output_type": "display_data"
    }
   ],
   "source": [
    "import matplotlib.pyplot as plt\n",
    "plt.hist(lens)"
   ]
  },
  {
   "cell_type": "code",
   "execution_count": 25,
   "id": "b466acc5",
   "metadata": {
    "execution": {
     "iopub.execute_input": "2024-08-20T14:48:42.430494Z",
     "iopub.status.busy": "2024-08-20T14:48:42.430148Z",
     "iopub.status.idle": "2024-08-20T14:48:43.415934Z",
     "shell.execute_reply": "2024-08-20T14:48:43.414975Z"
    },
    "papermill": {
     "duration": 1.008949,
     "end_time": "2024-08-20T14:48:43.418722",
     "exception": false,
     "start_time": "2024-08-20T14:48:42.409773",
     "status": "completed"
    },
    "tags": []
   },
   "outputs": [],
   "source": [
    "import torch\n",
    "import torch.nn as nn\n",
    "\n",
    "import transformers\n",
    "from transformers import AutoModel, BertTokenizerFast, AutoModelForSequenceClassification, AutoTokenizer\n",
    "from transformers import AutoModel, AdamW, get_linear_schedule_with_warmup"
   ]
  },
  {
   "cell_type": "code",
   "execution_count": 26,
   "id": "989e045b",
   "metadata": {
    "execution": {
     "iopub.execute_input": "2024-08-20T14:48:43.460094Z",
     "iopub.status.busy": "2024-08-20T14:48:43.459471Z",
     "iopub.status.idle": "2024-08-20T14:48:43.473063Z",
     "shell.execute_reply": "2024-08-20T14:48:43.472084Z"
    },
    "papermill": {
     "duration": 0.036492,
     "end_time": "2024-08-20T14:48:43.475320",
     "exception": false,
     "start_time": "2024-08-20T14:48:43.438828",
     "status": "completed"
    },
    "tags": []
   },
   "outputs": [],
   "source": [
    "# split into train, validation and test sets in the ration 70 : 15 : 15\n",
    "from sklearn.model_selection import train_test_split\n",
    "\n",
    "train_text, temp_text, train_labels, temp_labels = train_test_split(df['tweet'], df['class'], \n",
    "                                                                    random_state=2021, \n",
    "                                                                    test_size=0.2, \n",
    "                                                                    stratify=df['class'])\n",
    "\n",
    "\n",
    "val_text, test_text, val_labels, test_labels = train_test_split(temp_text, temp_labels, \n",
    "                                                                random_state=2021, \n",
    "                                                                test_size=0.5, \n",
    "                                                                stratify=temp_labels)"
   ]
  },
  {
   "cell_type": "code",
   "execution_count": 27,
   "id": "bf1c7b1d",
   "metadata": {
    "execution": {
     "iopub.execute_input": "2024-08-20T14:48:43.516462Z",
     "iopub.status.busy": "2024-08-20T14:48:43.516127Z",
     "iopub.status.idle": "2024-08-20T14:48:46.993968Z",
     "shell.execute_reply": "2024-08-20T14:48:46.993030Z"
    },
    "papermill": {
     "duration": 3.500969,
     "end_time": "2024-08-20T14:48:46.996451",
     "exception": false,
     "start_time": "2024-08-20T14:48:43.495482",
     "status": "completed"
    },
    "tags": []
   },
   "outputs": [
    {
     "data": {
      "application/vnd.jupyter.widget-view+json": {
       "model_id": "ed134c394a3d4419bfc2a3a6b0354f98",
       "version_major": 2,
       "version_minor": 0
      },
      "text/plain": [
       "config.json:   0%|          | 0.00/570 [00:00<?, ?B/s]"
      ]
     },
     "metadata": {},
     "output_type": "display_data"
    },
    {
     "data": {
      "application/vnd.jupyter.widget-view+json": {
       "model_id": "05ae915529384859b15cc615490894ac",
       "version_major": 2,
       "version_minor": 0
      },
      "text/plain": [
       "model.safetensors:   0%|          | 0.00/440M [00:00<?, ?B/s]"
      ]
     },
     "metadata": {},
     "output_type": "display_data"
    }
   ],
   "source": [
    "bert = AutoModel.from_pretrained('bert-base-uncased')"
   ]
  },
  {
   "cell_type": "code",
   "execution_count": 28,
   "id": "879d7b7b",
   "metadata": {
    "execution": {
     "iopub.execute_input": "2024-08-20T14:48:47.042644Z",
     "iopub.status.busy": "2024-08-20T14:48:47.042120Z",
     "iopub.status.idle": "2024-08-20T14:48:47.559318Z",
     "shell.execute_reply": "2024-08-20T14:48:47.558501Z"
    },
    "papermill": {
     "duration": 0.542654,
     "end_time": "2024-08-20T14:48:47.561725",
     "exception": false,
     "start_time": "2024-08-20T14:48:47.019071",
     "status": "completed"
    },
    "tags": []
   },
   "outputs": [
    {
     "data": {
      "application/vnd.jupyter.widget-view+json": {
       "model_id": "afb5e345574742978dee4b5f96ea1970",
       "version_major": 2,
       "version_minor": 0
      },
      "text/plain": [
       "tokenizer_config.json:   0%|          | 0.00/48.0 [00:00<?, ?B/s]"
      ]
     },
     "metadata": {},
     "output_type": "display_data"
    },
    {
     "data": {
      "application/vnd.jupyter.widget-view+json": {
       "model_id": "1b60e560e9404ed7b5fd8c76abf8653f",
       "version_major": 2,
       "version_minor": 0
      },
      "text/plain": [
       "vocab.txt:   0%|          | 0.00/232k [00:00<?, ?B/s]"
      ]
     },
     "metadata": {},
     "output_type": "display_data"
    },
    {
     "data": {
      "application/vnd.jupyter.widget-view+json": {
       "model_id": "d5e1841de3e84fa2913998150ee172e4",
       "version_major": 2,
       "version_minor": 0
      },
      "text/plain": [
       "tokenizer.json:   0%|          | 0.00/466k [00:00<?, ?B/s]"
      ]
     },
     "metadata": {},
     "output_type": "display_data"
    }
   ],
   "source": [
    "tokenizer = BertTokenizerFast.from_pretrained('bert-base-uncased')"
   ]
  },
  {
   "cell_type": "code",
   "execution_count": 29,
   "id": "f6eaea49",
   "metadata": {
    "execution": {
     "iopub.execute_input": "2024-08-20T14:48:47.606950Z",
     "iopub.status.busy": "2024-08-20T14:48:47.606609Z",
     "iopub.status.idle": "2024-08-20T14:48:47.910935Z",
     "shell.execute_reply": "2024-08-20T14:48:47.909964Z"
    },
    "papermill": {
     "duration": 0.329195,
     "end_time": "2024-08-20T14:48:47.913172",
     "exception": false,
     "start_time": "2024-08-20T14:48:47.583977",
     "status": "completed"
    },
    "tags": []
   },
   "outputs": [
    {
     "data": {
      "text/plain": [
       "(array([192., 469., 502., 424., 315., 268., 194., 145.,  55.,   8.]),\n",
       " array([ 1. ,  4.1,  7.2, 10.3, 13.4, 16.5, 19.6, 22.7, 25.8, 28.9, 32. ]),\n",
       " <BarContainer object of 10 artists>)"
      ]
     },
     "execution_count": 29,
     "metadata": {},
     "output_type": "execute_result"
    },
    {
     "data": {
      "image/png": "[encoded data removed]",
      "text/plain": [
       "<Figure size 640x480 with 1 Axes>"
      ]
     },
     "metadata": {},
     "output_type": "display_data"
    }
   ],
   "source": [
    "train_lens=[len(i.split()) for i in train_text]\n",
    "plt.hist(train_lens)"
   ]
  },
  {
   "cell_type": "code",
   "execution_count": 30,
   "id": "5601bc95",
   "metadata": {
    "execution": {
     "iopub.execute_input": "2024-08-20T14:48:47.957067Z",
     "iopub.status.busy": "2024-08-20T14:48:47.956763Z",
     "iopub.status.idle": "2024-08-20T14:48:47.973097Z",
     "shell.execute_reply": "2024-08-20T14:48:47.971831Z"
    },
    "papermill": {
     "duration": 0.041183,
     "end_time": "2024-08-20T14:48:47.975430",
     "exception": false,
     "start_time": "2024-08-20T14:48:47.934247",
     "status": "completed"
    },
    "tags": []
   },
   "outputs": [
    {
     "name": "stdout",
     "output_type": "stream",
     "text": [
      "count    3215.000000\n",
      "mean       12.223328\n",
      "std         6.223879\n",
      "min         0.000000\n",
      "25%         7.000000\n",
      "50%        11.000000\n",
      "75%        17.000000\n",
      "max        32.000000\n",
      "Name: tweet, dtype: float64\n"
     ]
    }
   ],
   "source": [
    "import pandas as pd\n",
    "\n",
    "sequence_lengths = df['tweet'].apply(lambda x: len(x.split()))\n",
    "print(sequence_lengths.describe())\n"
   ]
  },
  {
   "cell_type": "code",
   "execution_count": 31,
   "id": "eade532a",
   "metadata": {
    "execution": {
     "iopub.execute_input": "2024-08-20T14:48:48.023581Z",
     "iopub.status.busy": "2024-08-20T14:48:48.022985Z",
     "iopub.status.idle": "2024-08-20T14:48:48.027456Z",
     "shell.execute_reply": "2024-08-20T14:48:48.026484Z"
    },
    "papermill": {
     "duration": 0.030834,
     "end_time": "2024-08-20T14:48:48.029572",
     "exception": false,
     "start_time": "2024-08-20T14:48:47.998738",
     "status": "completed"
    },
    "tags": []
   },
   "outputs": [],
   "source": [
    "pad_len = 128"
   ]
  },
  {
   "cell_type": "markdown",
   "id": "ac122304",
   "metadata": {
    "papermill": {
     "duration": 0.024134,
     "end_time": "2024-08-20T14:48:48.076859",
     "exception": false,
     "start_time": "2024-08-20T14:48:48.052725",
     "status": "completed"
    },
    "tags": []
   },
   "source": [
    "## ENCODING"
   ]
  },
  {
   "cell_type": "code",
   "execution_count": 32,
   "id": "ca217ca7",
   "metadata": {
    "execution": {
     "iopub.execute_input": "2024-08-20T14:48:48.127627Z",
     "iopub.status.busy": "2024-08-20T14:48:48.126753Z",
     "iopub.status.idle": "2024-08-20T14:48:48.346982Z",
     "shell.execute_reply": "2024-08-20T14:48:48.346175Z"
    },
    "papermill": {
     "duration": 0.247023,
     "end_time": "2024-08-20T14:48:48.349272",
     "exception": false,
     "start_time": "2024-08-20T14:48:48.102249",
     "status": "completed"
    },
    "tags": []
   },
   "outputs": [],
   "source": [
    "# tokenizing and encoding sequences \n",
    "tokens_train = tokenizer.batch_encode_plus(\n",
    "    train_text.tolist(),\n",
    "    max_length = pad_len,\n",
    "    pad_to_max_length=True,\n",
    "    add_special_tokens=True,\n",
    "    truncation=True,\n",
    "    return_token_type_ids=True\n",
    ")\n",
    "\n",
    "tokens_val = tokenizer.batch_encode_plus(\n",
    "    val_text.tolist(),\n",
    "    max_length = pad_len,\n",
    "    pad_to_max_length=True,\n",
    "    add_special_tokens=True,\n",
    "    truncation=True,\n",
    "    return_token_type_ids=True\n",
    ")\n",
    "\n",
    "tokens_test = tokenizer.batch_encode_plus(\n",
    "    test_text.tolist(),\n",
    "    max_length = pad_len,\n",
    "    pad_to_max_length=True,\n",
    "    add_special_tokens=True,\n",
    "    truncation=True,\n",
    "    return_token_type_ids=True\n",
    ")"
   ]
  },
  {
   "cell_type": "code",
   "execution_count": 33,
   "id": "4918f50f",
   "metadata": {
    "execution": {
     "iopub.execute_input": "2024-08-20T14:48:48.409972Z",
     "iopub.status.busy": "2024-08-20T14:48:48.409092Z",
     "iopub.status.idle": "2024-08-20T14:48:48.852281Z",
     "shell.execute_reply": "2024-08-20T14:48:48.851299Z"
    },
    "papermill": {
     "duration": 0.475776,
     "end_time": "2024-08-20T14:48:48.854645",
     "exception": false,
     "start_time": "2024-08-20T14:48:48.378869",
     "status": "completed"
    },
    "tags": []
   },
   "outputs": [],
   "source": [
    "train_seq = torch.tensor(tokens_train['input_ids'])\n",
    "train_mask = torch.tensor(tokens_train['attention_mask'])\n",
    "train_token_type_ids = torch.tensor(tokens_train[\"token_type_ids\"])\n",
    "train_y = torch.tensor(train_labels.tolist())\n",
    "\n",
    "val_seq = torch.tensor(tokens_val['input_ids'])\n",
    "val_mask = torch.tensor(tokens_val['attention_mask'])\n",
    "val_token_type_ids = torch.tensor(tokens_val[\"token_type_ids\"])\n",
    "val_y = torch.tensor(val_labels.tolist())\n",
    "\n",
    "test_seq = torch.tensor(tokens_test['input_ids'])\n",
    "test_mask = torch.tensor(tokens_test['attention_mask'])\n",
    "test_token_type_ids = torch.tensor(tokens_test[\"token_type_ids\"])\n",
    "test_y = torch.tensor(test_labels.tolist())"
   ]
  },
  {
   "cell_type": "code",
   "execution_count": 34,
   "id": "752b0ec4",
   "metadata": {
    "execution": {
     "iopub.execute_input": "2024-08-20T14:48:48.902469Z",
     "iopub.status.busy": "2024-08-20T14:48:48.901814Z",
     "iopub.status.idle": "2024-08-20T14:48:48.908689Z",
     "shell.execute_reply": "2024-08-20T14:48:48.907708Z"
    },
    "papermill": {
     "duration": 0.033214,
     "end_time": "2024-08-20T14:48:48.910950",
     "exception": false,
     "start_time": "2024-08-20T14:48:48.877736",
     "status": "completed"
    },
    "tags": []
   },
   "outputs": [],
   "source": [
    "from torch.utils.data import TensorDataset, DataLoader, RandomSampler, SequentialSampler\n",
    "batch_size = 64  ##batch size can be adjusted or modified\n",
    "train_data = TensorDataset(train_seq, train_mask, train_token_type_ids, train_y)\n",
    "train_sampler = RandomSampler(train_data)\n",
    "train_dataloader = DataLoader(train_data, sampler=train_sampler, batch_size=batch_size)\n",
    "val_data = TensorDataset(val_seq, val_mask, val_token_type_ids, val_y)\n",
    "val_sampler = SequentialSampler(val_data)\n",
    "val_dataloader = DataLoader(val_data, sampler = val_sampler, batch_size=batch_size)"
   ]
  },
  {
   "cell_type": "code",
   "execution_count": 35,
   "id": "6f39566e",
   "metadata": {
    "execution": {
     "iopub.execute_input": "2024-08-20T14:48:48.957453Z",
     "iopub.status.busy": "2024-08-20T14:48:48.957127Z",
     "iopub.status.idle": "2024-08-20T14:48:48.961109Z",
     "shell.execute_reply": "2024-08-20T14:48:48.960186Z"
    },
    "papermill": {
     "duration": 0.029506,
     "end_time": "2024-08-20T14:48:48.963088",
     "exception": false,
     "start_time": "2024-08-20T14:48:48.933582",
     "status": "completed"
    },
    "tags": []
   },
   "outputs": [],
   "source": [
    "# for param in bert.parameters():\n",
    "#     param.requires_grad = False"
   ]
  },
  {
   "cell_type": "code",
   "execution_count": 36,
   "id": "4f12b1fb",
   "metadata": {
    "execution": {
     "iopub.execute_input": "2024-08-20T14:48:49.009059Z",
     "iopub.status.busy": "2024-08-20T14:48:49.008363Z",
     "iopub.status.idle": "2024-08-20T14:48:49.014732Z",
     "shell.execute_reply": "2024-08-20T14:48:49.013835Z"
    },
    "papermill": {
     "duration": 0.031752,
     "end_time": "2024-08-20T14:48:49.016887",
     "exception": false,
     "start_time": "2024-08-20T14:48:48.985135",
     "status": "completed"
    },
    "tags": []
   },
   "outputs": [],
   "source": [
    "for name, param in bert.named_parameters():\n",
    "    if \"layer.11\" in name or \"layer.10\" in name:  # Fine-tune last two layers\n",
    "        param.requires_grad = True\n",
    "    else:\n",
    "        param.requires_grad = False"
   ]
  },
  {
   "cell_type": "markdown",
   "id": "d798a577",
   "metadata": {
    "papermill": {
     "duration": 0.022991,
     "end_time": "2024-08-20T14:48:49.062252",
     "exception": false,
     "start_time": "2024-08-20T14:48:49.039261",
     "status": "completed"
    },
    "tags": []
   },
   "source": [
    "# MODEL"
   ]
  },
  {
   "cell_type": "code",
   "execution_count": 37,
   "id": "0d8b692a",
   "metadata": {
    "execution": {
     "iopub.execute_input": "2024-08-20T14:48:49.109591Z",
     "iopub.status.busy": "2024-08-20T14:48:49.108708Z",
     "iopub.status.idle": "2024-08-20T14:48:49.120983Z",
     "shell.execute_reply": "2024-08-20T14:48:49.120006Z"
    },
    "papermill": {
     "duration": 0.038027,
     "end_time": "2024-08-20T14:48:49.123168",
     "exception": false,
     "start_time": "2024-08-20T14:48:49.085141",
     "status": "completed"
    },
    "tags": []
   },
   "outputs": [],
   "source": [
    "import torch.nn as nn\n",
    "\n",
    "##model building\n",
    "class SentimentClassifier(nn.Module):\n",
    "     \n",
    "    def __init__(self, n_classes):\n",
    "        super(SentimentClassifier, self).__init__()\n",
    "        self.bert = BertModel.from_pretrained(MODEL_NAME)\n",
    "        self.drop = nn.Dropout(p=0.3)\n",
    "        self.out = nn.Linear(self.bert.config.hidden_size, n_classes)\n",
    "    \n",
    "    # Forward propagaion\n",
    "    def forward(self, input_ids, attention_mask, token_type_ids):\n",
    "        _, pooled_output = self.bert(\n",
    "          input_ids=input_ids,\n",
    "          attention_mask=attention_mask,\n",
    "            token_type_ids=token_type_ids\n",
    "        ) \n",
    "        output = self.drop(pooled_output)  ##drop out layer\n",
    "        return self.out(output)\n",
    "\n",
    "    \n",
    "class BERT_architecture(nn.Module):\n",
    "\n",
    "    def __init__(self, bert):\n",
    "        super(BERT_architecture, self).__init__()\n",
    "        self.bert = bert\n",
    "        \n",
    "        self.dropout = nn.Dropout(0.3)  # Increased dropout for regularization\n",
    "        self.layer_norm = nn.LayerNorm(768)  # Layer normalization\n",
    "        \n",
    "        self.fc1 = nn.Linear(768, 256)  # Dense layer\n",
    "        self.fc2 = nn.Linear(256, 2)  # Output layer with 2 classes\n",
    "        \n",
    "        self.relu = nn.ReLU()\n",
    "        self.softmax = nn.LogSoftmax(dim=1)\n",
    "\n",
    "    def forward(self, sent_id, mask, token_type_ids):\n",
    "        _, cls_hs = self.bert(sent_id, attention_mask=mask, token_type_ids=token_type_ids, return_dict=False)\n",
    "        x = self.layer_norm(cls_hs)\n",
    "        x = self.fc1(x)\n",
    "        x = self.relu(x)\n",
    "        x = self.dropout(x)\n",
    "        x = self.fc2(x)\n",
    "        x = self.softmax(x)\n",
    "        return x"
   ]
  },
  {
   "cell_type": "code",
   "execution_count": 38,
   "id": "146db731",
   "metadata": {
    "execution": {
     "iopub.execute_input": "2024-08-20T14:48:49.172305Z",
     "iopub.status.busy": "2024-08-20T14:48:49.171970Z",
     "iopub.status.idle": "2024-08-20T14:48:49.182957Z",
     "shell.execute_reply": "2024-08-20T14:48:49.181962Z"
    },
    "papermill": {
     "duration": 0.038956,
     "end_time": "2024-08-20T14:48:49.185298",
     "exception": false,
     "start_time": "2024-08-20T14:48:49.146342",
     "status": "completed"
    },
    "tags": []
   },
   "outputs": [],
   "source": [
    "model = BERT_architecture(bert)"
   ]
  },
  {
   "cell_type": "code",
   "execution_count": 39,
   "id": "649a31eb",
   "metadata": {
    "execution": {
     "iopub.execute_input": "2024-08-20T14:48:49.232643Z",
     "iopub.status.busy": "2024-08-20T14:48:49.232086Z",
     "iopub.status.idle": "2024-08-20T14:48:49.544208Z",
     "shell.execute_reply": "2024-08-20T14:48:49.543212Z"
    },
    "papermill": {
     "duration": 0.338499,
     "end_time": "2024-08-20T14:48:49.546416",
     "exception": false,
     "start_time": "2024-08-20T14:48:49.207917",
     "status": "completed"
    },
    "tags": []
   },
   "outputs": [
    {
     "data": {
      "text/plain": [
       "BERT_architecture(\n",
       "  (bert): BertModel(\n",
       "    (embeddings): BertEmbeddings(\n",
       "      (word_embeddings): Embedding(30522, 768, padding_idx=0)\n",
       "      (position_embeddings): Embedding(512, 768)\n",
       "      (token_type_embeddings): Embedding(2, 768)\n",
       "      (LayerNorm): LayerNorm((768,), eps=1e-12, elementwise_affine=True)\n",
       "      (dropout): Dropout(p=0.1, inplace=False)\n",
       "    )\n",
       "    (encoder): BertEncoder(\n",
       "      (layer): ModuleList(\n",
       "        (0-11): 12 x BertLayer(\n",
       "          (attention): BertAttention(\n",
       "            (self): BertSdpaSelfAttention(\n",
       "              (query): Linear(in_features=768, out_features=768, bias=True)\n",
       "              (key): Linear(in_features=768, out_features=768, bias=True)\n",
       "              (value): Linear(in_features=768, out_features=768, bias=True)\n",
       "              (dropout): Dropout(p=0.1, inplace=False)\n",
       "            )\n",
       "            (output): BertSelfOutput(\n",
       "              (dense): Linear(in_features=768, out_features=768, bias=True)\n",
       "              (LayerNorm): LayerNorm((768,), eps=1e-12, elementwise_affine=True)\n",
       "              (dropout): Dropout(p=0.1, inplace=False)\n",
       "            )\n",
       "          )\n",
       "          (intermediate): BertIntermediate(\n",
       "            (dense): Linear(in_features=768, out_features=3072, bias=True)\n",
       "            (intermediate_act_fn): GELUActivation()\n",
       "          )\n",
       "          (output): BertOutput(\n",
       "            (dense): Linear(in_features=3072, out_features=768, bias=True)\n",
       "            (LayerNorm): LayerNorm((768,), eps=1e-12, elementwise_affine=True)\n",
       "            (dropout): Dropout(p=0.1, inplace=False)\n",
       "          )\n",
       "        )\n",
       "      )\n",
       "    )\n",
       "    (pooler): BertPooler(\n",
       "      (dense): Linear(in_features=768, out_features=768, bias=True)\n",
       "      (activation): Tanh()\n",
       "    )\n",
       "  )\n",
       "  (dropout): Dropout(p=0.3, inplace=False)\n",
       "  (layer_norm): LayerNorm((768,), eps=1e-05, elementwise_affine=True)\n",
       "  (fc1): Linear(in_features=768, out_features=256, bias=True)\n",
       "  (fc2): Linear(in_features=256, out_features=2, bias=True)\n",
       "  (relu): ReLU()\n",
       "  (softmax): LogSoftmax(dim=1)\n",
       ")"
      ]
     },
     "execution_count": 39,
     "metadata": {},
     "output_type": "execute_result"
    }
   ],
   "source": [
    "test_seq = test_seq.to(device)\n",
    "test_mask = test_mask.to(device)\n",
    "test_token_type_ids = test_token_type_ids.to(device)\n",
    "model.to(device)"
   ]
  },
  {
   "cell_type": "code",
   "execution_count": 40,
   "id": "85e464d8",
   "metadata": {
    "execution": {
     "iopub.execute_input": "2024-08-20T14:48:49.590888Z",
     "iopub.status.busy": "2024-08-20T14:48:49.590534Z",
     "iopub.status.idle": "2024-08-20T14:48:50.201912Z",
     "shell.execute_reply": "2024-08-20T14:48:50.200828Z"
    },
    "papermill": {
     "duration": 0.63671,
     "end_time": "2024-08-20T14:48:50.204424",
     "exception": false,
     "start_time": "2024-08-20T14:48:49.567714",
     "status": "completed"
    },
    "tags": []
   },
   "outputs": [],
   "source": [
    "from transformers import AdamW\n",
    "# optimizer = AdamW(model.parameters(),lr = 1e-3)  ## learning rate needs to be adjusted.\n",
    "optimizer = AdamW(model.parameters(), lr=1e-5, eps=1e-8, weight_decay=0.01)"
   ]
  },
  {
   "cell_type": "code",
   "execution_count": 41,
   "id": "f51de879",
   "metadata": {
    "execution": {
     "iopub.execute_input": "2024-08-20T14:48:50.251515Z",
     "iopub.status.busy": "2024-08-20T14:48:50.250965Z",
     "iopub.status.idle": "2024-08-20T14:48:50.260436Z",
     "shell.execute_reply": "2024-08-20T14:48:50.259205Z"
    },
    "papermill": {
     "duration": 0.035496,
     "end_time": "2024-08-20T14:48:50.262832",
     "exception": false,
     "start_time": "2024-08-20T14:48:50.227336",
     "status": "completed"
    },
    "tags": []
   },
   "outputs": [
    {
     "name": "stdout",
     "output_type": "stream",
     "text": [
      "Class weights are [1.02225755 0.97869102] for [0 1]\n"
     ]
    }
   ],
   "source": [
    "from sklearn.utils.class_weight import compute_class_weight\n",
    "import torch\n",
    "import torch.nn as nn\n",
    "\n",
    "# Compute the class weights for three classes\n",
    "class_weights = compute_class_weight(class_weight=\"balanced\",\n",
    "                                     classes=np.unique(train_labels),\n",
    "                                     y=train_labels)\n",
    "print(\"Class weights are {} for {}\".format(class_weights, np.unique(train_labels)))"
   ]
  },
  {
   "cell_type": "code",
   "execution_count": 42,
   "id": "8bdf2368",
   "metadata": {
    "execution": {
     "iopub.execute_input": "2024-08-20T14:48:50.311175Z",
     "iopub.status.busy": "2024-08-20T14:48:50.310901Z",
     "iopub.status.idle": "2024-08-20T14:48:50.319985Z",
     "shell.execute_reply": "2024-08-20T14:48:50.319053Z"
    },
    "papermill": {
     "duration": 0.034666,
     "end_time": "2024-08-20T14:48:50.322365",
     "exception": false,
     "start_time": "2024-08-20T14:48:50.287699",
     "status": "completed"
    },
    "tags": []
   },
   "outputs": [
    {
     "data": {
      "text/plain": [
       "class\n",
       "1    1314\n",
       "0    1258\n",
       "Name: count, dtype: int64"
      ]
     },
     "execution_count": 42,
     "metadata": {},
     "output_type": "execute_result"
    }
   ],
   "source": [
    "pd.value_counts(train_labels)"
   ]
  },
  {
   "cell_type": "code",
   "execution_count": 43,
   "id": "a630b8a7",
   "metadata": {
    "execution": {
     "iopub.execute_input": "2024-08-20T14:48:50.369903Z",
     "iopub.status.busy": "2024-08-20T14:48:50.369546Z",
     "iopub.status.idle": "2024-08-20T14:48:50.373787Z",
     "shell.execute_reply": "2024-08-20T14:48:50.372821Z"
    },
    "papermill": {
     "duration": 0.0289,
     "end_time": "2024-08-20T14:48:50.375710",
     "exception": false,
     "start_time": "2024-08-20T14:48:50.346810",
     "status": "completed"
    },
    "tags": []
   },
   "outputs": [],
   "source": [
    "# weights = torch.tensor(class_weights, dtype=torch.float)\n",
    "\n",
    "# weights = weights.to(device)\n",
    "# cross_entropy = nn.CrossEntropyLoss()\n",
    "\n",
    "epochs = 12 ##increase the no of epochs for better accuracy \n"
   ]
  },
  {
   "cell_type": "markdown",
   "id": "56c6d178",
   "metadata": {
    "papermill": {
     "duration": 0.021112,
     "end_time": "2024-08-20T14:48:50.417694",
     "exception": false,
     "start_time": "2024-08-20T14:48:50.396582",
     "status": "completed"
    },
    "tags": []
   },
   "source": [
    "## HYPERPARAMS SETUP"
   ]
  },
  {
   "cell_type": "code",
   "execution_count": 44,
   "id": "925069d9",
   "metadata": {
    "execution": {
     "iopub.execute_input": "2024-08-20T14:48:50.461967Z",
     "iopub.status.busy": "2024-08-20T14:48:50.461488Z",
     "iopub.status.idle": "2024-08-20T14:48:50.469050Z",
     "shell.execute_reply": "2024-08-20T14:48:50.468359Z"
    },
    "papermill": {
     "duration": 0.03202,
     "end_time": "2024-08-20T14:48:50.471060",
     "exception": false,
     "start_time": "2024-08-20T14:48:50.439040",
     "status": "completed"
    },
    "tags": []
   },
   "outputs": [],
   "source": [
    "total_steps = len(train_dataloader) * epochs\n",
    "\n",
    "scheduler = get_linear_schedule_with_warmup(optimizer, num_warmup_steps=0, num_training_steps=total_steps)\n",
    "\n",
    "# Loss function\n",
    "weights = torch.tensor(class_weights, dtype=torch.float).to(device)\n",
    "cross_entropy = nn.CrossEntropyLoss(weight=weights)"
   ]
  },
  {
   "cell_type": "code",
   "execution_count": 45,
   "id": "5a07684f",
   "metadata": {
    "execution": {
     "iopub.execute_input": "2024-08-20T14:48:50.513918Z",
     "iopub.status.busy": "2024-08-20T14:48:50.513363Z",
     "iopub.status.idle": "2024-08-20T14:48:50.517499Z",
     "shell.execute_reply": "2024-08-20T14:48:50.516641Z"
    },
    "papermill": {
     "duration": 0.027643,
     "end_time": "2024-08-20T14:48:50.519543",
     "exception": false,
     "start_time": "2024-08-20T14:48:50.491900",
     "status": "completed"
    },
    "tags": []
   },
   "outputs": [],
   "source": [
    "from torch.cuda.amp import GradScaler, autocast"
   ]
  },
  {
   "cell_type": "markdown",
   "id": "ac357eeb",
   "metadata": {
    "papermill": {
     "duration": 0.020926,
     "end_time": "2024-08-20T14:48:50.561349",
     "exception": false,
     "start_time": "2024-08-20T14:48:50.540423",
     "status": "completed"
    },
    "tags": []
   },
   "source": [
    "## EARLY STOPPING SETUP"
   ]
  },
  {
   "cell_type": "code",
   "execution_count": 46,
   "id": "88333d8c",
   "metadata": {
    "execution": {
     "iopub.execute_input": "2024-08-20T14:48:50.605656Z",
     "iopub.status.busy": "2024-08-20T14:48:50.605374Z",
     "iopub.status.idle": "2024-08-20T14:48:50.611467Z",
     "shell.execute_reply": "2024-08-20T14:48:50.610643Z"
    },
    "papermill": {
     "duration": 0.030271,
     "end_time": "2024-08-20T14:48:50.613389",
     "exception": false,
     "start_time": "2024-08-20T14:48:50.583118",
     "status": "completed"
    },
    "tags": []
   },
   "outputs": [],
   "source": [
    "class EarlyStopping:\n",
    "    def __init__(self, patience, delta=0):  # Increased patience\n",
    "        self.patience = patience\n",
    "        self.delta = delta\n",
    "        self.best_loss = float('inf')\n",
    "        self.counter = 0\n",
    "        self.early_stop = False\n",
    "\n",
    "    def __call__(self, valid_loss):\n",
    "        if valid_loss < self.best_loss - self.delta:\n",
    "            self.best_loss = valid_loss\n",
    "            self.counter = 0\n",
    "        else:\n",
    "            self.counter += 1\n",
    "            if self.counter >= self.patience:\n",
    "                self.early_stop = True"
   ]
  },
  {
   "cell_type": "code",
   "execution_count": 47,
   "id": "e7d87998",
   "metadata": {
    "execution": {
     "iopub.execute_input": "2024-08-20T14:48:50.656835Z",
     "iopub.status.busy": "2024-08-20T14:48:50.656509Z",
     "iopub.status.idle": "2024-08-20T14:48:50.660809Z",
     "shell.execute_reply": "2024-08-20T14:48:50.659903Z"
    },
    "papermill": {
     "duration": 0.028162,
     "end_time": "2024-08-20T14:48:50.662803",
     "exception": false,
     "start_time": "2024-08-20T14:48:50.634641",
     "status": "completed"
    },
    "tags": []
   },
   "outputs": [],
   "source": [
    "early_stopping = EarlyStopping(patience=3)"
   ]
  },
  {
   "cell_type": "code",
   "execution_count": 48,
   "id": "133fe284",
   "metadata": {
    "execution": {
     "iopub.execute_input": "2024-08-20T14:48:50.706090Z",
     "iopub.status.busy": "2024-08-20T14:48:50.705823Z",
     "iopub.status.idle": "2024-08-20T14:48:50.710716Z",
     "shell.execute_reply": "2024-08-20T14:48:50.710062Z"
    },
    "papermill": {
     "duration": 0.028786,
     "end_time": "2024-08-20T14:48:50.712574",
     "exception": false,
     "start_time": "2024-08-20T14:48:50.683788",
     "status": "completed"
    },
    "tags": []
   },
   "outputs": [],
   "source": [
    "# Gradient Scaler\n",
    "scaler = GradScaler()"
   ]
  },
  {
   "cell_type": "markdown",
   "id": "70486466",
   "metadata": {
    "papermill": {
     "duration": 0.021065,
     "end_time": "2024-08-20T14:48:50.754190",
     "exception": false,
     "start_time": "2024-08-20T14:48:50.733125",
     "status": "completed"
    },
    "tags": []
   },
   "source": [
    "## FUNCTIONS"
   ]
  },
  {
   "cell_type": "code",
   "execution_count": 49,
   "id": "743b16ee",
   "metadata": {
    "execution": {
     "iopub.execute_input": "2024-08-20T14:48:50.798678Z",
     "iopub.status.busy": "2024-08-20T14:48:50.798385Z",
     "iopub.status.idle": "2024-08-20T14:48:50.808497Z",
     "shell.execute_reply": "2024-08-20T14:48:50.807590Z"
    },
    "papermill": {
     "duration": 0.034729,
     "end_time": "2024-08-20T14:48:50.810652",
     "exception": false,
     "start_time": "2024-08-20T14:48:50.775923",
     "status": "completed"
    },
    "tags": []
   },
   "outputs": [],
   "source": [
    "def train():\n",
    "    model.train()\n",
    "    total_loss, total_accuracy = 0, 0\n",
    "    total_preds, total_labels = [], []\n",
    "\n",
    "    for step, batch in enumerate(train_dataloader, 0):\n",
    "        batch = [r.to(device) for r in batch]\n",
    "        sent_id, mask, token_type_ids, labels = batch\n",
    "\n",
    "        optimizer.zero_grad()\n",
    "\n",
    "        with autocast():\n",
    "            preds = model(sent_id, mask, token_type_ids)\n",
    "            loss = cross_entropy(preds, labels)\n",
    "        \n",
    "        # Accumulate the loss\n",
    "        total_loss += loss.item()\n",
    "\n",
    "        # Perform backward pass with mixed precision\n",
    "        scaler.scale(loss).backward()\n",
    "        scaler.unscale_(optimizer)\n",
    "        torch.nn.utils.clip_grad_norm_(model.parameters(), 1.0)\n",
    "        scaler.step(optimizer)\n",
    "        scaler.update()\n",
    "        scheduler.step()\n",
    "\n",
    "        preds = preds.detach().cpu().numpy()\n",
    "        total_preds.append(preds)\n",
    "        total_labels.append(labels.detach().cpu().numpy())\n",
    "\n",
    "    avg_loss = total_loss / len(train_dataloader)\n",
    "    total_preds = np.concatenate(total_preds, axis=0)\n",
    "    total_labels = np.concatenate(total_labels, axis=0)\n",
    "    return avg_loss, total_preds, total_labels"
   ]
  },
  {
   "cell_type": "code",
   "execution_count": 50,
   "id": "64ec03fc",
   "metadata": {
    "execution": {
     "iopub.execute_input": "2024-08-20T14:48:50.856724Z",
     "iopub.status.busy": "2024-08-20T14:48:50.856052Z",
     "iopub.status.idle": "2024-08-20T14:48:50.860946Z",
     "shell.execute_reply": "2024-08-20T14:48:50.860016Z"
    },
    "jupyter": {
     "source_hidden": true
    },
    "papermill": {
     "duration": 0.030117,
     "end_time": "2024-08-20T14:48:50.862953",
     "exception": false,
     "start_time": "2024-08-20T14:48:50.832836",
     "status": "completed"
    },
    "tags": []
   },
   "outputs": [],
   "source": [
    "# def train():\n",
    "#     model.train()\n",
    "#     total_loss, total_accuracy = 0, 0\n",
    "#     total_preds, total_labels = [], []\n",
    "\n",
    "#     for step, batch in enumerate(train_dataloader, 0):\n",
    "#         batch = [r.to(device) for r in batch]\n",
    "#         sent_id, mask, token_type_ids, labels = batch\n",
    "\n",
    "#         model.zero_grad()\n",
    "#         preds = model(sent_id, mask, token_type_ids)\n",
    "#         loss = cross_entropy(preds, labels)\n",
    "#         total_loss = total_loss + loss.item()\n",
    "#         loss.backward()\n",
    "#         torch.nn.utils.clip_grad_norm_(model.parameters(), 1.0)\n",
    "#         optimizer.step()\n",
    "#         scheduler.step()\n",
    "\n",
    "#         preds = preds.detach().cpu().numpy()\n",
    "#         total_preds.append(preds)\n",
    "#         total_labels.append(labels.detach().cpu().numpy())\n",
    "\n",
    "#     avg_loss = total_loss / len(train_dataloader)\n",
    "#     total_preds = np.concatenate(total_preds, axis=0)\n",
    "#     total_labels = np.concatenate(total_labels, axis=0)\n",
    "#     return avg_loss, total_preds, total_labels"
   ]
  },
  {
   "cell_type": "code",
   "execution_count": 51,
   "id": "64b82b88",
   "metadata": {
    "execution": {
     "iopub.execute_input": "2024-08-20T14:48:50.907672Z",
     "iopub.status.busy": "2024-08-20T14:48:50.907317Z",
     "iopub.status.idle": "2024-08-20T14:48:50.915645Z",
     "shell.execute_reply": "2024-08-20T14:48:50.914695Z"
    },
    "papermill": {
     "duration": 0.033042,
     "end_time": "2024-08-20T14:48:50.917911",
     "exception": false,
     "start_time": "2024-08-20T14:48:50.884869",
     "status": "completed"
    },
    "tags": []
   },
   "outputs": [],
   "source": [
    "def evaluate():\n",
    "    model.eval()\n",
    "    total_loss, total_accuracy = 0, 0\n",
    "    total_preds, total_labels = [], []\n",
    "\n",
    "    for step, batch in enumerate(val_dataloader):\n",
    "        batch = [t.to(device) for t in batch]\n",
    "        sent_id, mask, token_type_ids, labels = batch\n",
    "\n",
    "        with torch.no_grad(), autocast():\n",
    "            preds = model(sent_id, mask, token_type_ids)\n",
    "            loss = cross_entropy(preds, labels)\n",
    "        \n",
    "        total_loss += loss.item()\n",
    "        preds = preds.detach().cpu().numpy()\n",
    "        total_preds.append(preds)\n",
    "        total_labels.append(labels.detach().cpu().numpy())\n",
    "\n",
    "    avg_loss = total_loss / len(val_dataloader)\n",
    "    total_preds = np.concatenate(total_preds, axis=0)\n",
    "    total_labels = np.concatenate(total_labels, axis=0)\n",
    "    return avg_loss, total_preds, total_labels"
   ]
  },
  {
   "cell_type": "code",
   "execution_count": 52,
   "id": "0ce94427",
   "metadata": {
    "execution": {
     "iopub.execute_input": "2024-08-20T14:48:50.963446Z",
     "iopub.status.busy": "2024-08-20T14:48:50.963157Z",
     "iopub.status.idle": "2024-08-20T14:48:50.968001Z",
     "shell.execute_reply": "2024-08-20T14:48:50.967071Z"
    },
    "jupyter": {
     "source_hidden": true
    },
    "papermill": {
     "duration": 0.02955,
     "end_time": "2024-08-20T14:48:50.970087",
     "exception": false,
     "start_time": "2024-08-20T14:48:50.940537",
     "status": "completed"
    },
    "tags": []
   },
   "outputs": [],
   "source": [
    "# def evaluate():\n",
    "#     model.eval()\n",
    "#     total_loss, total_accuracy = 0, 0\n",
    "#     total_preds, total_labels = [], []\n",
    "\n",
    "#     for step, batch in enumerate(val_dataloader):\n",
    "#         batch = [t.to(device) for t in batch]\n",
    "#         sent_id, mask, token_type_ids, labels = batch\n",
    "\n",
    "#         with torch.no_grad():\n",
    "#             preds = model(sent_id, mask, token_type_ids)\n",
    "#             loss = cross_entropy(preds, labels)\n",
    "#             total_loss = total_loss + loss.item()\n",
    "#             preds = preds.detach().cpu().numpy()\n",
    "#             total_preds.append(preds)\n",
    "#             total_labels.append(labels.detach().cpu().numpy())\n",
    "\n",
    "#     avg_loss = total_loss / len(val_dataloader)\n",
    "#     total_preds = np.concatenate(total_preds, axis=0)\n",
    "#     total_labels = np.concatenate(total_labels, axis=0)\n",
    "#     return avg_loss, total_preds, total_labels\n"
   ]
  },
  {
   "cell_type": "code",
   "execution_count": 53,
   "id": "26906ae4",
   "metadata": {
    "execution": {
     "iopub.execute_input": "2024-08-20T14:48:51.018224Z",
     "iopub.status.busy": "2024-08-20T14:48:51.017393Z",
     "iopub.status.idle": "2024-08-20T14:48:51.022785Z",
     "shell.execute_reply": "2024-08-20T14:48:51.021881Z"
    },
    "papermill": {
     "duration": 0.031921,
     "end_time": "2024-08-20T14:48:51.025013",
     "exception": false,
     "start_time": "2024-08-20T14:48:50.993092",
     "status": "completed"
    },
    "tags": []
   },
   "outputs": [],
   "source": [
    "def calculate_accuracy(preds, labels):\n",
    "    preds_flat = np.argmax(preds, axis=1).flatten()\n",
    "    labels_flat = labels.flatten()\n",
    "    accuracy = np.sum(preds_flat == labels_flat) / len(labels_flat)\n",
    "    return accuracy"
   ]
  },
  {
   "cell_type": "code",
   "execution_count": 54,
   "id": "deb93d01",
   "metadata": {
    "execution": {
     "iopub.execute_input": "2024-08-20T14:48:51.072426Z",
     "iopub.status.busy": "2024-08-20T14:48:51.071683Z",
     "iopub.status.idle": "2024-08-20T14:48:51.079006Z",
     "shell.execute_reply": "2024-08-20T14:48:51.078006Z"
    },
    "jupyter": {
     "source_hidden": true
    },
    "papermill": {
     "duration": 0.033761,
     "end_time": "2024-08-20T14:48:51.081316",
     "exception": false,
     "start_time": "2024-08-20T14:48:51.047555",
     "status": "completed"
    },
    "tags": []
   },
   "outputs": [],
   "source": [
    "# def train():\n",
    "#     model.train()\n",
    "#     total_loss, total_accuracy = 0, 0\n",
    "#     total_preds, total_labels = [], []\n",
    "\n",
    "#     for step, batch in enumerate(train_dataloader, 0):\n",
    "#         if step % 50 == 0 and not step == 0:\n",
    "#             print('  Batch {:>5,}  of  {:>5,}.'.format(step, len(train_dataloader)))\n",
    "\n",
    "# #         sent_id = batch[:,0].to(device, dtype = torch.long)\n",
    "# #         mask = data[:,1].to(device, dtype = torch.long)\n",
    "# #         token_type_ids = data[:,2].to(device, dtype = torch.long)\n",
    "# #         labels = data[:,3].to(device, dtype = torch.float)\n",
    "        \n",
    "# #         token_type_ids = batch['token_type_ids'].to(device)\n",
    "#         batch = [r.to(device) for r in batch]\n",
    "#         sent_id, mask, token_type_ids, labels = batch\n",
    "\n",
    "#         model.zero_grad()\n",
    "#         preds = model(sent_id, mask, token_type_ids)\n",
    "#         loss = cross_entropy(preds, labels)\n",
    "#         total_loss = total_loss + loss.item()\n",
    "#         loss.backward()\n",
    "#         torch.nn.utils.clip_grad_norm_(model.parameters(), 1.0)\n",
    "#         optimizer.step()\n",
    "\n",
    "#         preds = preds.detach().cpu().numpy()\n",
    "#         total_preds.append(preds)\n",
    "#         total_labels.append(labels.detach().cpu().numpy())\n",
    "\n",
    "#     avg_loss = total_loss / len(train_dataloader)\n",
    "#     total_preds = np.concatenate(total_preds, axis=0)\n",
    "#     total_labels = np.concatenate(total_labels, axis=0)\n",
    "#     return avg_loss, total_preds, total_labels\n",
    "\n",
    "# def evaluate():\n",
    "#     print(\"\\nEvaluating after the test: \")\n",
    "#     model.eval()\n",
    "#     total_loss, total_accuracy = 0, 0\n",
    "#     total_preds, total_labels = [], []\n",
    "\n",
    "#     for step, batch in enumerate(val_dataloader):\n",
    "#         if step % 50 == 0 and not step == 0:\n",
    "#             print('  Batch {:>5,}  of  {:>5,}.'.format(step, len(val_dataloader)))\n",
    "            \n",
    "# #         sent_id = batch[:,0].to(device, dtype = torch.long)\n",
    "# #         mask = data[:,1].to(device, dtype = torch.long)\n",
    "# #         token_type_ids = data[:,2].to(device, dtype = torch.long)\n",
    "# #         labels = data[:,3].to(device, dtype = torch.float)\n",
    "\n",
    "# #         token_type_ids = batch['token_type_ids'].to(device)\n",
    "#         batch = [t.to(device) for t in batch]\n",
    "#         sent_id, mask, token_type_ids, labels = batch\n",
    "\n",
    "#         with torch.no_grad():\n",
    "#             preds = model(sent_id, mask, token_type_ids)\n",
    "#             loss = cross_entropy(preds, labels)\n",
    "#             total_loss = total_loss + loss.item()\n",
    "#             preds = preds.detach().cpu().numpy()\n",
    "#             total_preds.append(preds)\n",
    "#             total_labels.append(labels.detach().cpu().numpy())\n",
    "\n",
    "#     avg_loss = total_loss / len(val_dataloader)\n",
    "#     total_preds = np.concatenate(total_preds, axis=0)\n",
    "#     total_labels = np.concatenate(total_labels, axis=0)\n",
    "#     return avg_loss, total_preds, total_labels\n",
    "\n",
    "# def calculate_accuracy(preds, labels):\n",
    "\n",
    "#     preds_flat = np.argmax(preds, axis=1).flatten()\n",
    "#     labels_flat = labels.flatten()\n",
    "#     accuracy = np.sum(preds_flat == labels_flat) / len(labels_flat)\n",
    "#     return accuracy\n"
   ]
  },
  {
   "cell_type": "code",
   "execution_count": 55,
   "id": "b9f95998",
   "metadata": {
    "execution": {
     "iopub.execute_input": "2024-08-20T14:48:51.129124Z",
     "iopub.status.busy": "2024-08-20T14:48:51.128757Z",
     "iopub.status.idle": "2024-08-20T14:48:51.133900Z",
     "shell.execute_reply": "2024-08-20T14:48:51.132946Z"
    },
    "jupyter": {
     "source_hidden": true
    },
    "papermill": {
     "duration": 0.031448,
     "end_time": "2024-08-20T14:48:51.136037",
     "exception": false,
     "start_time": "2024-08-20T14:48:51.104589",
     "status": "completed"
    },
    "tags": []
   },
   "outputs": [],
   "source": [
    "# best_valid_loss = float('inf')\n",
    "# train_losses = []\n",
    "# valid_losses = []\n",
    "# train_accuracies = []\n",
    "# valid_accuracies = []\n",
    "\n",
    "# for epoch in range(epochs):\n",
    "#     print('\\n Epoch {:} / {:}'.format(epoch + 1, epochs))\n",
    "    \n",
    "#     train_loss, train_preds, train_labels = train()\n",
    "#     valid_loss, valid_preds, valid_labels = evaluate()\n",
    "#     train_accuracy = calculate_accuracy(train_preds, train_labels)\n",
    "#     valid_accuracy = calculate_accuracy(valid_preds, valid_labels)\n",
    "\n",
    "#     if valid_loss < best_valid_loss:\n",
    "#         best_valid_loss = valid_loss\n",
    "#         torch.save(model.state_dict(), 'saved_weights.pt')\n",
    "    \n",
    "#     train_losses.append(train_loss)\n",
    "#     valid_losses.append(valid_loss)\n",
    "#     train_accuracies.append(train_accuracy)\n",
    "#     valid_accuracies.append(valid_accuracy)\n",
    "    \n",
    "#     print('\\nTraining Loss: {}'.format(train_loss))\n",
    "#     print('Validation Loss: {}'.format(valid_loss))\n",
    "#     print('Training Accuracy: {:.2f}%'.format(train_accuracy * 100))\n",
    "#     print('Validation Accuracy: {:.2f}%'.format(valid_accuracy * 100))\n"
   ]
  },
  {
   "cell_type": "code",
   "execution_count": 56,
   "id": "e8d0b20b",
   "metadata": {
    "execution": {
     "iopub.execute_input": "2024-08-20T14:48:51.185925Z",
     "iopub.status.busy": "2024-08-20T14:48:51.185605Z",
     "iopub.status.idle": "2024-08-20T14:50:16.294800Z",
     "shell.execute_reply": "2024-08-20T14:50:16.293479Z"
    },
    "papermill": {
     "duration": 85.137719,
     "end_time": "2024-08-20T14:50:16.297179",
     "exception": false,
     "start_time": "2024-08-20T14:48:51.159460",
     "status": "completed"
    },
    "tags": []
   },
   "outputs": [
    {
     "name": "stdout",
     "output_type": "stream",
     "text": [
      "\n",
      " Epoch 1 / 12\n",
      "\n",
      "Training Loss: 0.6766260062775961\n",
      "Validation Loss: 0.6399853030840555\n",
      "Training Accuracy: 57.35%\n",
      "Validation Accuracy: 66.67%\n",
      "\n",
      " Epoch 2 / 12\n",
      "\n",
      "Training Loss: 0.631024536563129\n",
      "Validation Loss: 0.5665971984465917\n",
      "Training Accuracy: 65.24%\n",
      "Validation Accuracy: 68.54%\n",
      "\n",
      " Epoch 3 / 12\n",
      "\n",
      "Training Loss: 0.5722531218354295\n",
      "Validation Loss: 0.5188212891419729\n",
      "Training Accuracy: 72.01%\n",
      "Validation Accuracy: 71.96%\n",
      "\n",
      " Epoch 4 / 12\n",
      "\n",
      "Training Loss: 0.5186550748057481\n",
      "Validation Loss: 0.49283300836881\n",
      "Training Accuracy: 75.58%\n",
      "Validation Accuracy: 75.39%\n",
      "\n",
      " Epoch 5 / 12\n",
      "\n",
      "Training Loss: 0.47623760816527577\n",
      "Validation Loss: 0.44695616513490677\n",
      "Training Accuracy: 78.15%\n",
      "Validation Accuracy: 77.57%\n",
      "\n",
      " Epoch 6 / 12\n",
      "\n",
      "Training Loss: 0.44290938246540906\n",
      "Validation Loss: 0.4215400417645772\n",
      "Training Accuracy: 79.90%\n",
      "Validation Accuracy: 78.82%\n",
      "\n",
      " Epoch 7 / 12\n",
      "\n",
      "Training Loss: 0.42149487937368996\n",
      "Validation Loss: 0.41073910892009735\n",
      "Training Accuracy: 81.61%\n",
      "Validation Accuracy: 80.37%\n",
      "\n",
      " Epoch 8 / 12\n",
      "\n",
      "Training Loss: 0.4103514635708274\n",
      "Validation Loss: 0.40669600168863934\n",
      "Training Accuracy: 81.80%\n",
      "Validation Accuracy: 80.06%\n",
      "\n",
      " Epoch 9 / 12\n",
      "\n",
      "Training Loss: 0.4155522410462542\n",
      "Validation Loss: 0.3955269729097684\n",
      "Training Accuracy: 81.49%\n",
      "Validation Accuracy: 81.31%\n",
      "\n",
      " Epoch 10 / 12\n",
      "\n",
      "Training Loss: 0.39029623459025126\n",
      "Validation Loss: 0.38495761901140213\n",
      "Training Accuracy: 83.01%\n",
      "Validation Accuracy: 82.24%\n",
      "\n",
      " Epoch 11 / 12\n",
      "\n",
      "Training Loss: 0.3857474218054516\n",
      "Validation Loss: 0.3879908236364524\n",
      "Training Accuracy: 83.32%\n",
      "Validation Accuracy: 81.62%\n",
      "\n",
      " Epoch 12 / 12\n",
      "\n",
      "Training Loss: 0.37642694755298334\n",
      "Validation Loss: 0.38521365945537883\n",
      "Training Accuracy: 84.02%\n",
      "Validation Accuracy: 81.93%\n"
     ]
    }
   ],
   "source": [
    "best_valid_loss = float('inf')\n",
    "train_losses = []\n",
    "valid_losses = []\n",
    "train_accuracies = []\n",
    "valid_accuracies = []\n",
    "\n",
    "\n",
    "for epoch in range(epochs):\n",
    "    print('\\n Epoch {:} / {:}'.format(epoch + 1, epochs))\n",
    "    \n",
    "    train_loss, train_preds, train_labels = train()\n",
    "    valid_loss, valid_preds, valid_labels = evaluate()\n",
    "    train_accuracy = calculate_accuracy(train_preds, train_labels)\n",
    "    valid_accuracy = calculate_accuracy(valid_preds, valid_labels)\n",
    "\n",
    "    if valid_loss < best_valid_loss:\n",
    "        best_valid_loss = valid_loss\n",
    "        torch.save(model.state_dict(), 'saved_weights.pt')\n",
    "    \n",
    "    train_losses.append(train_loss)\n",
    "    valid_losses.append(valid_loss)\n",
    "    train_accuracies.append(train_accuracy)\n",
    "    valid_accuracies.append(valid_accuracy)\n",
    "\n",
    "    early_stopping(valid_loss)\n",
    "    if early_stopping.early_stop:\n",
    "        print(\"Early stopping triggered\")\n",
    "        break\n",
    "    \n",
    "    print('\\nTraining Loss: {}'.format(train_loss))\n",
    "    print('Validation Loss: {}'.format(valid_loss))\n",
    "    print('Training Accuracy: {:.2f}%'.format(train_accuracy * 100))\n",
    "    print('Validation Accuracy: {:.2f}%'.format(valid_accuracy * 100))"
   ]
  },
  {
   "cell_type": "markdown",
   "id": "a73cf83c",
   "metadata": {
    "papermill": {
     "duration": 0.023092,
     "end_time": "2024-08-20T14:50:16.343279",
     "exception": false,
     "start_time": "2024-08-20T14:50:16.320187",
     "status": "completed"
    },
    "tags": []
   },
   "source": [
    "# CLASSIFICATION REPORT"
   ]
  },
  {
   "cell_type": "code",
   "execution_count": 57,
   "id": "975feff2",
   "metadata": {
    "execution": {
     "iopub.execute_input": "2024-08-20T14:50:16.393483Z",
     "iopub.status.busy": "2024-08-20T14:50:16.392508Z",
     "iopub.status.idle": "2024-08-20T14:50:18.496622Z",
     "shell.execute_reply": "2024-08-20T14:50:18.495408Z"
    },
    "papermill": {
     "duration": 2.131032,
     "end_time": "2024-08-20T14:50:18.498738",
     "exception": false,
     "start_time": "2024-08-20T14:50:16.367706",
     "status": "completed"
    },
    "tags": []
   },
   "outputs": [
    {
     "name": "stdout",
     "output_type": "stream",
     "text": [
      "              precision    recall  f1-score   support\n",
      "\n",
      "           0       0.80      0.79      0.79       157\n",
      "           1       0.80      0.81      0.81       165\n",
      "\n",
      "    accuracy                           0.80       322\n",
      "   macro avg       0.80      0.80      0.80       322\n",
      "weighted avg       0.80      0.80      0.80       322\n",
      "\n"
     ]
    }
   ],
   "source": [
    "from sklearn.metrics import classification_report\n",
    "with torch.no_grad():\n",
    "  preds = model(test_seq.to(device), test_mask.to(device), test_token_type_ids.to(device))\n",
    "  preds = preds.detach().cpu().numpy()\n",
    "pred = np.argmax(preds, axis = 1)\n",
    "print(classification_report(test_y, pred))"
   ]
  },
  {
   "cell_type": "code",
   "execution_count": 58,
   "id": "84813f06",
   "metadata": {
    "execution": {
     "iopub.execute_input": "2024-08-20T14:50:18.549435Z",
     "iopub.status.busy": "2024-08-20T14:50:18.549100Z",
     "iopub.status.idle": "2024-08-20T14:50:18.605352Z",
     "shell.execute_reply": "2024-08-20T14:50:18.604216Z"
    },
    "papermill": {
     "duration": 0.08297,
     "end_time": "2024-08-20T14:50:18.607561",
     "exception": false,
     "start_time": "2024-08-20T14:50:18.524591",
     "status": "completed"
    },
    "tags": []
   },
   "outputs": [
    {
     "name": "stderr",
     "output_type": "stream",
     "text": [
      "Truncation was not explicitly activated but `max_length` is provided a specific value, please use `truncation=True` to explicitly truncate examples to max length. Defaulting to 'longest_first' truncation strategy. If you encode pairs of sequences (GLUE-style) with the tokenizer you can select this strategy more precisely by providing a specific strategy to `truncation`.\n"
     ]
    },
    {
     "name": "stdout",
     "output_type": "stream",
     "text": [
      "Predicted sentiment: Negative\n"
     ]
    }
   ],
   "source": [
    "def predict_user_input(input_text, model, tokenizer, device):\n",
    "    inputs = tokenizer.encode_plus(\n",
    "        input_text,\n",
    "        add_special_tokens=True,\n",
    "        max_length=max_seq_len,\n",
    "        pad_to_max_length=True,\n",
    "        return_attention_mask=True,\n",
    "        return_token_type_ids=True,\n",
    "        return_tensors='pt',\n",
    "    )\n",
    "    input_ids = inputs['input_ids'].to(device)\n",
    "    attention_mask = inputs['attention_mask'].to(device)\n",
    "    token_type_ids = inputs['token_type_ids'].to(device)\n",
    "\n",
    "    with torch.no_grad():\n",
    "        outputs = model(input_ids, attention_mask, token_type_ids)\n",
    "        preds = torch.argmax(outputs, dim=1)\n",
    "    \n",
    "    return preds.item()\n",
    "max_seq_len=128\n",
    "input_text = \"I been told you that yo folks dont care about you . Im starving and my dad deadass didnt make me a plate\"\n",
    "predicted_class = predict_user_input(input_text, model, tokenizer, device)\n",
    "if(predicted_class==0):\n",
    "    print('Predicted sentiment: Negative')\n",
    "else:\n",
    "    print('Predicted sentiment: Positive')"
   ]
  },
  {
   "cell_type": "code",
   "execution_count": 59,
   "id": "4120ebf3",
   "metadata": {
    "execution": {
     "iopub.execute_input": "2024-08-20T14:50:18.656149Z",
     "iopub.status.busy": "2024-08-20T14:50:18.655824Z",
     "iopub.status.idle": "2024-08-20T14:50:18.673179Z",
     "shell.execute_reply": "2024-08-20T14:50:18.672052Z"
    },
    "papermill": {
     "duration": 0.043428,
     "end_time": "2024-08-20T14:50:18.675198",
     "exception": false,
     "start_time": "2024-08-20T14:50:18.631770",
     "status": "completed"
    },
    "tags": []
   },
   "outputs": [
    {
     "name": "stdout",
     "output_type": "stream",
     "text": [
      "Predicted sentiment: Positive\n"
     ]
    }
   ],
   "source": [
    "input_text = \"what a badass character Arthur is, rckstr is the bst\"\n",
    "predicted_class = predict_user_input(input_text, model, tokenizer, device)\n",
    "if(predicted_class==0):\n",
    "    print('Predicted sentiment: Negative')\n",
    "else:\n",
    "    print('Predicted sentiment: Positive')"
   ]
  },
  {
   "cell_type": "code",
   "execution_count": null,
   "id": "b0a4c6d2",
   "metadata": {
    "papermill": {
     "duration": 0.024141,
     "end_time": "2024-08-20T14:50:18.723376",
     "exception": false,
     "start_time": "2024-08-20T14:50:18.699235",
     "status": "completed"
    },
    "tags": []
   },
   "outputs": [],
   "source": []
  }
 ],
 "metadata": {
  "kaggle": {
   "accelerator": "nvidiaTeslaT4",
   "dataSources": [
    {
     "datasetId": 5557640,
     "sourceId": 9193227,
     "sourceType": "datasetVersion"
    }
   ],
   "dockerImageVersionId": 30747,
   "isGpuEnabled": true,
   "isInternetEnabled": true,
   "language": "python",
   "sourceType": "notebook"
  },
  "kernelspec": {
   "display_name": "Python 3",
   "language": "python",
   "name": "python3"
  },
  "language_info": {
   "codemirror_mode": {
    "name": "ipython",
    "version": 3
   },
   "file_extension": ".py",
   "mimetype": "text/x-python",
   "name": "python",
   "nbconvert_exporter": "python",
   "pygments_lexer": "ipython3",
   "version": "3.10.13"
  },
  "papermill": {
   "default_parameters": {},
   "duration": 109.302074,
   "end_time": "2024-08-20T14:50:20.473665",
   "environment_variables": {},
   "exception": null,
   "input_path": "__notebook__.ipynb",
   "output_path": "__notebook__.ipynb",
   "parameters": {},
   "start_time": "2024-08-20T14:48:31.171591",
   "version": "2.5.0"
  },
  "widgets": {
   "application/vnd.jupyter.widget-state+json": {
    "state": {
     "05ae915529384859b15cc615490894ac": {
      "model_module": "@jupyter-widgets/controls",
      "model_module_version": "1.5.0",
      "model_name": "HBoxModel",
      "state": {
       "_dom_classes": [],
       "_model_module": "@jupyter-widgets/controls",
       "_model_module_version": "1.5.0",
       "_model_name": "HBoxModel",
       "_view_count": null,
       "_view_module": "@jupyter-widgets/controls",
       "_view_module_version": "1.5.0",
       "_view_name": "HBoxView",
       "box_style": "",
       "children": [
        "IPY_MODEL_4e14434580aa40c9a6bc1a4fe2b982ba",
        "IPY_MODEL_9f60b7dc875040bfaa29b1383cbffca0",
        "IPY_MODEL_d339601f720b4b918dc24011ec2730e0"
       ],
       "layout": "IPY_MODEL_ce0500663c0044fa952079cd53e607cc"
      }
     },
     "07581a7bb8ac497185bb4bd670e5f178": {
      "model_module": "@jupyter-widgets/base",
      "model_module_version": "1.2.0",
      "model_name": "LayoutModel",
      "state": {
       "_model_module": "@jupyter-widgets/base",
       "_model_module_version": "1.2.0",
       "_model_name": "LayoutModel",
       "_view_count": null,
       "_view_module": "@jupyter-widgets/base",
       "_view_module_version": "1.2.0",
       "_view_name": "LayoutView",
       "align_content": null,
       "align_items": null,
       "align_self": null,
       "border": null,
       "bottom": null,
       "display": null,
       "flex": null,
       "flex_flow": null,
       "grid_area": null,
       "grid_auto_columns": null,
       "grid_auto_flow": null,
       "grid_auto_rows": null,
       "grid_column": null,
       "grid_gap": null,
       "grid_row": null,
       "grid_template_areas": null,
       "grid_template_columns": null,
       "grid_template_rows": null,
       "height": null,
       "justify_content": null,
       "justify_items": null,
       "left": null,
       "margin": null,
       "max_height": null,
       "max_width": null,
       "min_height": null,
       "min_width": null,
       "object_fit": null,
       "object_position": null,
       "order": null,
       "overflow": null,
       "overflow_x": null,
       "overflow_y": null,
       "padding": null,
       "right": null,
       "top": null,
       "visibility": null,
       "width": null
      }
     },
     "133f415c0cbe4dcd8fd9021613eb5b2c": {
      "model_module": "@jupyter-widgets/controls",
      "model_module_version": "1.5.0",
      "model_name": "ProgressStyleModel",
      "state": {
       "_model_module": "@jupyter-widgets/controls",
       "_model_module_version": "1.5.0",
       "_model_name": "ProgressStyleModel",
       "_view_count": null,
       "_view_module": "@jupyter-widgets/base",
       "_view_module_version": "1.2.0",
       "_view_name": "StyleView",
       "bar_color": null,
       "description_width": ""
      }
     },
     "1715bf695e6e4f109b990a4239e360a6": {
      "model_module": "@jupyter-widgets/controls",
      "model_module_version": "1.5.0",
      "model_name": "DescriptionStyleModel",
      "state": {
       "_model_module": "@jupyter-widgets/controls",
       "_model_module_version": "1.5.0",
       "_model_name": "DescriptionStyleModel",
       "_view_count": null,
       "_view_module": "@jupyter-widgets/base",
       "_view_module_version": "1.2.0",
       "_view_name": "StyleView",
       "description_width": ""
      }
     },
     "1b60e560e9404ed7b5fd8c76abf8653f": {
      "model_module": "@jupyter-widgets/controls",
      "model_module_version": "1.5.0",
      "model_name": "HBoxModel",
      "state": {
       "_dom_classes": [],
       "_model_module": "@jupyter-widgets/controls",
       "_model_module_version": "1.5.0",
       "_model_name": "HBoxModel",
       "_view_count": null,
       "_view_module": "@jupyter-widgets/controls",
       "_view_module_version": "1.5.0",
       "_view_name": "HBoxView",
       "box_style": "",
       "children": [
        "IPY_MODEL_639b2c985b934c3dbffa6504c9e04a56",
        "IPY_MODEL_8d4c6b6011e24c57a8ec943738bb453c",
        "IPY_MODEL_930dd75fa9554a6497f53cd563d3dde5"
       ],
       "layout": "IPY_MODEL_c850df644e93465a9b9e7d447c805767"
      }
     },
     "1d295d9265ff46f09a5ecd3275465528": {
      "model_module": "@jupyter-widgets/controls",
      "model_module_version": "1.5.0",
      "model_name": "DescriptionStyleModel",
      "state": {
       "_model_module": "@jupyter-widgets/controls",
       "_model_module_version": "1.5.0",
       "_model_name": "DescriptionStyleModel",
       "_view_count": null,
       "_view_module": "@jupyter-widgets/base",
       "_view_module_version": "1.2.0",
       "_view_name": "StyleView",
       "description_width": ""
      }
     },
     "1e298ea31c3f4c01b20de4e92b128422": {
      "model_module": "@jupyter-widgets/base",
      "model_module_version": "1.2.0",
      "model_name": "LayoutModel",
      "state": {
       "_model_module": "@jupyter-widgets/base",
       "_model_module_version": "1.2.0",
       "_model_name": "LayoutModel",
       "_view_count": null,
       "_view_module": "@jupyter-widgets/base",
       "_view_module_version": "1.2.0",
       "_view_name": "LayoutView",
       "align_content": null,
       "align_items": null,
       "align_self": null,
       "border": null,
       "bottom": null,
       "display": null,
       "flex": null,
       "flex_flow": null,
       "grid_area": null,
       "grid_auto_columns": null,
       "grid_auto_flow": null,
       "grid_auto_rows": null,
       "grid_column": null,
       "grid_gap": null,
       "grid_row": null,
       "grid_template_areas": null,
       "grid_template_columns": null,
       "grid_template_rows": null,
       "height": null,
       "justify_content": null,
       "justify_items": null,
       "left": null,
       "margin": null,
       "max_height": null,
       "max_width": null,
       "min_height": null,
       "min_width": null,
       "object_fit": null,
       "object_position": null,
       "order": null,
       "overflow": null,
       "overflow_x": null,
       "overflow_y": null,
       "padding": null,
       "right": null,
       "top": null,
       "visibility": null,
       "width": null
      }
     },
     "21eb65699bce4655890e21a55e1f8790": {
      "model_module": "@jupyter-widgets/base",
      "model_module_version": "1.2.0",
      "model_name": "LayoutModel",
      "state": {
       "_model_module": "@jupyter-widgets/base",
       "_model_module_version": "1.2.0",
       "_model_name": "LayoutModel",
       "_view_count": null,
       "_view_module": "@jupyter-widgets/base",
       "_view_module_version": "1.2.0",
       "_view_name": "LayoutView",
       "align_content": null,
       "align_items": null,
       "align_self": null,
       "border": null,
       "bottom": null,
       "display": null,
       "flex": null,
       "flex_flow": null,
       "grid_area": null,
       "grid_auto_columns": null,
       "grid_auto_flow": null,
       "grid_auto_rows": null,
       "grid_column": null,
       "grid_gap": null,
       "grid_row": null,
       "grid_template_areas": null,
       "grid_template_columns": null,
       "grid_template_rows": null,
       "height": null,
       "justify_content": null,
       "justify_items": null,
       "left": null,
       "margin": null,
       "max_height": null,
       "max_width": null,
       "min_height": null,
       "min_width": null,
       "object_fit": null,
       "object_position": null,
       "order": null,
       "overflow": null,
       "overflow_x": null,
       "overflow_y": null,
       "padding": null,
       "right": null,
       "top": null,
       "visibility": null,
       "width": null
      }
     },
     "27bd790ad61d473985faaf0276503200": {
      "model_module": "@jupyter-widgets/controls",
      "model_module_version": "1.5.0",
      "model_name": "HTMLModel",
      "state": {
       "_dom_classes": [],
       "_model_module": "@jupyter-widgets/controls",
       "_model_module_version": "1.5.0",
       "_model_name": "HTMLModel",
       "_view_count": null,
       "_view_module": "@jupyter-widgets/controls",
       "_view_module_version": "1.5.0",
       "_view_name": "HTMLView",
       "description": "",
       "description_tooltip": null,
       "layout": "IPY_MODEL_3b2380a7fc8441debfcd630317041e9a",
       "placeholder": "​",
       "style": "IPY_MODEL_8e8392edd37045f2a215ad1dffa76769",
       "value": " 466k/466k [00:00&lt;00:00, 10.3MB/s]"
      }
     },
     "327ee988efa84c058b97b66d091d1e85": {
      "model_module": "@jupyter-widgets/controls",
      "model_module_version": "1.5.0",
      "model_name": "DescriptionStyleModel",
      "state": {
       "_model_module": "@jupyter-widgets/controls",
       "_model_module_version": "1.5.0",
       "_model_name": "DescriptionStyleModel",
       "_view_count": null,
       "_view_module": "@jupyter-widgets/base",
       "_view_module_version": "1.2.0",
       "_view_name": "StyleView",
       "description_width": ""
      }
     },
     "3333976124274edf98061c7e8a57b1ad": {
      "model_module": "@jupyter-widgets/controls",
      "model_module_version": "1.5.0",
      "model_name": "FloatProgressModel",
      "state": {
       "_dom_classes": [],
       "_model_module": "@jupyter-widgets/controls",
       "_model_module_version": "1.5.0",
       "_model_name": "FloatProgressModel",
       "_view_count": null,
       "_view_module": "@jupyter-widgets/controls",
       "_view_module_version": "1.5.0",
       "_view_name": "ProgressView",
       "bar_style": "success",
       "description": "",
       "description_tooltip": null,
       "layout": "IPY_MODEL_21eb65699bce4655890e21a55e1f8790",
       "max": 48.0,
       "min": 0.0,
       "orientation": "horizontal",
       "style": "IPY_MODEL_133f415c0cbe4dcd8fd9021613eb5b2c",
       "value": 48.0
      }
     },
     "35ba9053e57349ceafc4c0ce6ae12ea4": {
      "model_module": "@jupyter-widgets/controls",
      "model_module_version": "1.5.0",
      "model_name": "DescriptionStyleModel",
      "state": {
       "_model_module": "@jupyter-widgets/controls",
       "_model_module_version": "1.5.0",
       "_model_name": "DescriptionStyleModel",
       "_view_count": null,
       "_view_module": "@jupyter-widgets/base",
       "_view_module_version": "1.2.0",
       "_view_name": "StyleView",
       "description_width": ""
      }
     },
     "3b2380a7fc8441debfcd630317041e9a": {
      "model_module": "@jupyter-widgets/base",
      "model_module_version": "1.2.0",
      "model_name": "LayoutModel",
      "state": {
       "_model_module": "@jupyter-widgets/base",
       "_model_module_version": "1.2.0",
       "_model_name": "LayoutModel",
       "_view_count": null,
       "_view_module": "@jupyter-widgets/base",
       "_view_module_version": "1.2.0",
       "_view_name": "LayoutView",
       "align_content": null,
       "align_items": null,
       "align_self": null,
       "border": null,
       "bottom": null,
       "display": null,
       "flex": null,
       "flex_flow": null,
       "grid_area": null,
       "grid_auto_columns": null,
       "grid_auto_flow": null,
       "grid_auto_rows": null,
       "grid_column": null,
       "grid_gap": null,
       "grid_row": null,
       "grid_template_areas": null,
       "grid_template_columns": null,
       "grid_template_rows": null,
       "height": null,
       "justify_content": null,
       "justify_items": null,
       "left": null,
       "margin": null,
       "max_height": null,
       "max_width": null,
       "min_height": null,
       "min_width": null,
       "object_fit": null,
       "object_position": null,
       "order": null,
       "overflow": null,
       "overflow_x": null,
       "overflow_y": null,
       "padding": null,
       "right": null,
       "top": null,
       "visibility": null,
       "width": null
      }
     },
     "4e14434580aa40c9a6bc1a4fe2b982ba": {
      "model_module": "@jupyter-widgets/controls",
      "model_module_version": "1.5.0",
      "model_name": "HTMLModel",
      "state": {
       "_dom_classes": [],
       "_model_module": "@jupyter-widgets/controls",
       "_model_module_version": "1.5.0",
       "_model_name": "HTMLModel",
       "_view_count": null,
       "_view_module": "@jupyter-widgets/controls",
       "_view_module_version": "1.5.0",
       "_view_name": "HTMLView",
       "description": "",
       "description_tooltip": null,
       "layout": "IPY_MODEL_c6c82b6e7c594b26b95cff6f77c31bd4",
       "placeholder": "​",
       "style": "IPY_MODEL_327ee988efa84c058b97b66d091d1e85",
       "value": "model.safetensors: 100%"
      }
     },
     "52c72c94783a4bb88c245d11014b71e0": {
      "model_module": "@jupyter-widgets/controls",
      "model_module_version": "1.5.0",
      "model_name": "HTMLModel",
      "state": {
       "_dom_classes": [],
       "_model_module": "@jupyter-widgets/controls",
       "_model_module_version": "1.5.0",
       "_model_name": "HTMLModel",
       "_view_count": null,
       "_view_module": "@jupyter-widgets/controls",
       "_view_module_version": "1.5.0",
       "_view_name": "HTMLView",
       "description": "",
       "description_tooltip": null,
       "layout": "IPY_MODEL_76c05a9a97984c54a2e03ae29b419be9",
       "placeholder": "​",
       "style": "IPY_MODEL_c6ef5ef2f4f1412f974c738541a02faa",
       "value": " 570/570 [00:00&lt;00:00, 44.3kB/s]"
      }
     },
     "598400f77c684a09bcf1aa0292e2e220": {
      "model_module": "@jupyter-widgets/base",
      "model_module_version": "1.2.0",
      "model_name": "LayoutModel",
      "state": {
       "_model_module": "@jupyter-widgets/base",
       "_model_module_version": "1.2.0",
       "_model_name": "LayoutModel",
       "_view_count": null,
       "_view_module": "@jupyter-widgets/base",
       "_view_module_version": "1.2.0",
       "_view_name": "LayoutView",
       "align_content": null,
       "align_items": null,
       "align_self": null,
       "border": null,
       "bottom": null,
       "display": null,
       "flex": null,
       "flex_flow": null,
       "grid_area": null,
       "grid_auto_columns": null,
       "grid_auto_flow": null,
       "grid_auto_rows": null,
       "grid_column": null,
       "grid_gap": null,
       "grid_row": null,
       "grid_template_areas": null,
       "grid_template_columns": null,
       "grid_template_rows": null,
       "height": null,
       "justify_content": null,
       "justify_items": null,
       "left": null,
       "margin": null,
       "max_height": null,
       "max_width": null,
       "min_height": null,
       "min_width": null,
       "object_fit": null,
       "object_position": null,
       "order": null,
       "overflow": null,
       "overflow_x": null,
       "overflow_y": null,
       "padding": null,
       "right": null,
       "top": null,
       "visibility": null,
       "width": null
      }
     },
     "639b2c985b934c3dbffa6504c9e04a56": {
      "model_module": "@jupyter-widgets/controls",
      "model_module_version": "1.5.0",
      "model_name": "HTMLModel",
      "state": {
       "_dom_classes": [],
       "_model_module": "@jupyter-widgets/controls",
       "_model_module_version": "1.5.0",
       "_model_name": "HTMLModel",
       "_view_count": null,
       "_view_module": "@jupyter-widgets/controls",
       "_view_module_version": "1.5.0",
       "_view_name": "HTMLView",
       "description": "",
       "description_tooltip": null,
       "layout": "IPY_MODEL_63a331fed1204f39bc7ffad163265835",
       "placeholder": "​",
       "style": "IPY_MODEL_6bf5b379e95649f29c86b48a4b151927",
       "value": "vocab.txt: 100%"
      }
     },
     "63a331fed1204f39bc7ffad163265835": {
      "model_module": "@jupyter-widgets/base",
      "model_module_version": "1.2.0",
      "model_name": "LayoutModel",
      "state": {
       "_model_module": "@jupyter-widgets/base",
       "_model_module_version": "1.2.0",
       "_model_name": "LayoutModel",
       "_view_count": null,
       "_view_module": "@jupyter-widgets/base",
       "_view_module_version": "1.2.0",
       "_view_name": "LayoutView",
       "align_content": null,
       "align_items": null,
       "align_self": null,
       "border": null,
       "bottom": null,
       "display": null,
       "flex": null,
       "flex_flow": null,
       "grid_area": null,
       "grid_auto_columns": null,
       "grid_auto_flow": null,
       "grid_auto_rows": null,
       "grid_column": null,
       "grid_gap": null,
       "grid_row": null,
       "grid_template_areas": null,
       "grid_template_columns": null,
       "grid_template_rows": null,
       "height": null,
       "justify_content": null,
       "justify_items": null,
       "left": null,
       "margin": null,
       "max_height": null,
       "max_width": null,
       "min_height": null,
       "min_width": null,
       "object_fit": null,
       "object_position": null,
       "order": null,
       "overflow": null,
       "overflow_x": null,
       "overflow_y": null,
       "padding": null,
       "right": null,
       "top": null,
       "visibility": null,
       "width": null
      }
     },
     "65e90faa4c334a6aa91b3e19c53f62d6": {
      "model_module": "@jupyter-widgets/controls",
      "model_module_version": "1.5.0",
      "model_name": "DescriptionStyleModel",
      "state": {
       "_model_module": "@jupyter-widgets/controls",
       "_model_module_version": "1.5.0",
       "_model_name": "DescriptionStyleModel",
       "_view_count": null,
       "_view_module": "@jupyter-widgets/base",
       "_view_module_version": "1.2.0",
       "_view_name": "StyleView",
       "description_width": ""
      }
     },
     "6bf5b379e95649f29c86b48a4b151927": {
      "model_module": "@jupyter-widgets/controls",
      "model_module_version": "1.5.0",
      "model_name": "DescriptionStyleModel",
      "state": {
       "_model_module": "@jupyter-widgets/controls",
       "_model_module_version": "1.5.0",
       "_model_name": "DescriptionStyleModel",
       "_view_count": null,
       "_view_module": "@jupyter-widgets/base",
       "_view_module_version": "1.2.0",
       "_view_name": "StyleView",
       "description_width": ""
      }
     },
     "6ef91464c519407b89cff5bbf7925f67": {
      "model_module": "@jupyter-widgets/base",
      "model_module_version": "1.2.0",
      "model_name": "LayoutModel",
      "state": {
       "_model_module": "@jupyter-widgets/base",
       "_model_module_version": "1.2.0",
       "_model_name": "LayoutModel",
       "_view_count": null,
       "_view_module": "@jupyter-widgets/base",
       "_view_module_version": "1.2.0",
       "_view_name": "LayoutView",
       "align_content": null,
       "align_items": null,
       "align_self": null,
       "border": null,
       "bottom": null,
       "display": null,
       "flex": null,
       "flex_flow": null,
       "grid_area": null,
       "grid_auto_columns": null,
       "grid_auto_flow": null,
       "grid_auto_rows": null,
       "grid_column": null,
       "grid_gap": null,
       "grid_row": null,
       "grid_template_areas": null,
       "grid_template_columns": null,
       "grid_template_rows": null,
       "height": null,
       "justify_content": null,
       "justify_items": null,
       "left": null,
       "margin": null,
       "max_height": null,
       "max_width": null,
       "min_height": null,
       "min_width": null,
       "object_fit": null,
       "object_position": null,
       "order": null,
       "overflow": null,
       "overflow_x": null,
       "overflow_y": null,
       "padding": null,
       "right": null,
       "top": null,
       "visibility": null,
       "width": null
      }
     },
     "7670ca2172274602b224e0f38e1d78cf": {
      "model_module": "@jupyter-widgets/controls",
      "model_module_version": "1.5.0",
      "model_name": "HTMLModel",
      "state": {
       "_dom_classes": [],
       "_model_module": "@jupyter-widgets/controls",
       "_model_module_version": "1.5.0",
       "_model_name": "HTMLModel",
       "_view_count": null,
       "_view_module": "@jupyter-widgets/controls",
       "_view_module_version": "1.5.0",
       "_view_name": "HTMLView",
       "description": "",
       "description_tooltip": null,
       "layout": "IPY_MODEL_07581a7bb8ac497185bb4bd670e5f178",
       "placeholder": "​",
       "style": "IPY_MODEL_ec5e7dcad46f4184837c25e6fee7b5e1",
       "value": "tokenizer_config.json: 100%"
      }
     },
     "76c05a9a97984c54a2e03ae29b419be9": {
      "model_module": "@jupyter-widgets/base",
      "model_module_version": "1.2.0",
      "model_name": "LayoutModel",
      "state": {
       "_model_module": "@jupyter-widgets/base",
       "_model_module_version": "1.2.0",
       "_model_name": "LayoutModel",
       "_view_count": null,
       "_view_module": "@jupyter-widgets/base",
       "_view_module_version": "1.2.0",
       "_view_name": "LayoutView",
       "align_content": null,
       "align_items": null,
       "align_self": null,
       "border": null,
       "bottom": null,
       "display": null,
       "flex": null,
       "flex_flow": null,
       "grid_area": null,
       "grid_auto_columns": null,
       "grid_auto_flow": null,
       "grid_auto_rows": null,
       "grid_column": null,
       "grid_gap": null,
       "grid_row": null,
       "grid_template_areas": null,
       "grid_template_columns": null,
       "grid_template_rows": null,
       "height": null,
       "justify_content": null,
       "justify_items": null,
       "left": null,
       "margin": null,
       "max_height": null,
       "max_width": null,
       "min_height": null,
       "min_width": null,
       "object_fit": null,
       "object_position": null,
       "order": null,
       "overflow": null,
       "overflow_x": null,
       "overflow_y": null,
       "padding": null,
       "right": null,
       "top": null,
       "visibility": null,
       "width": null
      }
     },
     "85d96fab8f474fe0abb6bfe5c7591781": {
      "model_module": "@jupyter-widgets/controls",
      "model_module_version": "1.5.0",
      "model_name": "FloatProgressModel",
      "state": {
       "_dom_classes": [],
       "_model_module": "@jupyter-widgets/controls",
       "_model_module_version": "1.5.0",
       "_model_name": "FloatProgressModel",
       "_view_count": null,
       "_view_module": "@jupyter-widgets/controls",
       "_view_module_version": "1.5.0",
       "_view_name": "ProgressView",
       "bar_style": "success",
       "description": "",
       "description_tooltip": null,
       "layout": "IPY_MODEL_598400f77c684a09bcf1aa0292e2e220",
       "max": 570.0,
       "min": 0.0,
       "orientation": "horizontal",
       "style": "IPY_MODEL_feef8704584b44439b0b2471f711c3f6",
       "value": 570.0
      }
     },
     "8d082e93d5174d95bb072b4666b77345": {
      "model_module": "@jupyter-widgets/base",
      "model_module_version": "1.2.0",
      "model_name": "LayoutModel",
      "state": {
       "_model_module": "@jupyter-widgets/base",
       "_model_module_version": "1.2.0",
       "_model_name": "LayoutModel",
       "_view_count": null,
       "_view_module": "@jupyter-widgets/base",
       "_view_module_version": "1.2.0",
       "_view_name": "LayoutView",
       "align_content": null,
       "align_items": null,
       "align_self": null,
       "border": null,
       "bottom": null,
       "display": null,
       "flex": null,
       "flex_flow": null,
       "grid_area": null,
       "grid_auto_columns": null,
       "grid_auto_flow": null,
       "grid_auto_rows": null,
       "grid_column": null,
       "grid_gap": null,
       "grid_row": null,
       "grid_template_areas": null,
       "grid_template_columns": null,
       "grid_template_rows": null,
       "height": null,
       "justify_content": null,
       "justify_items": null,
       "left": null,
       "margin": null,
       "max_height": null,
       "max_width": null,
       "min_height": null,
       "min_width": null,
       "object_fit": null,
       "object_position": null,
       "order": null,
       "overflow": null,
       "overflow_x": null,
       "overflow_y": null,
       "padding": null,
       "right": null,
       "top": null,
       "visibility": null,
       "width": null
      }
     },
     "8d4c6b6011e24c57a8ec943738bb453c": {
      "model_module": "@jupyter-widgets/controls",
      "model_module_version": "1.5.0",
      "model_name": "FloatProgressModel",
      "state": {
       "_dom_classes": [],
       "_model_module": "@jupyter-widgets/controls",
       "_model_module_version": "1.5.0",
       "_model_name": "FloatProgressModel",
       "_view_count": null,
       "_view_module": "@jupyter-widgets/controls",
       "_view_module_version": "1.5.0",
       "_view_name": "ProgressView",
       "bar_style": "success",
       "description": "",
       "description_tooltip": null,
       "layout": "IPY_MODEL_d7e270d56b8641a7969b205d5bb448b7",
       "max": 231508.0,
       "min": 0.0,
       "orientation": "horizontal",
       "style": "IPY_MODEL_d46e096c726040c0a3b5c48cfd11b23e",
       "value": 231508.0
      }
     },
     "8e8392edd37045f2a215ad1dffa76769": {
      "model_module": "@jupyter-widgets/controls",
      "model_module_version": "1.5.0",
      "model_name": "DescriptionStyleModel",
      "state": {
       "_model_module": "@jupyter-widgets/controls",
       "_model_module_version": "1.5.0",
       "_model_name": "DescriptionStyleModel",
       "_view_count": null,
       "_view_module": "@jupyter-widgets/base",
       "_view_module_version": "1.2.0",
       "_view_name": "StyleView",
       "description_width": ""
      }
     },
     "91ed4ee965cc4ac8b1d331454e1b2d6b": {
      "model_module": "@jupyter-widgets/controls",
      "model_module_version": "1.5.0",
      "model_name": "ProgressStyleModel",
      "state": {
       "_model_module": "@jupyter-widgets/controls",
       "_model_module_version": "1.5.0",
       "_model_name": "ProgressStyleModel",
       "_view_count": null,
       "_view_module": "@jupyter-widgets/base",
       "_view_module_version": "1.2.0",
       "_view_name": "StyleView",
       "bar_color": null,
       "description_width": ""
      }
     },
     "930dd75fa9554a6497f53cd563d3dde5": {
      "model_module": "@jupyter-widgets/controls",
      "model_module_version": "1.5.0",
      "model_name": "HTMLModel",
      "state": {
       "_dom_classes": [],
       "_model_module": "@jupyter-widgets/controls",
       "_model_module_version": "1.5.0",
       "_model_name": "HTMLModel",
       "_view_count": null,
       "_view_module": "@jupyter-widgets/controls",
       "_view_module_version": "1.5.0",
       "_view_name": "HTMLView",
       "description": "",
       "description_tooltip": null,
       "layout": "IPY_MODEL_d76af36cbf4849b58f90963fd5060b3f",
       "placeholder": "​",
       "style": "IPY_MODEL_65e90faa4c334a6aa91b3e19c53f62d6",
       "value": " 232k/232k [00:00&lt;00:00, 5.97MB/s]"
      }
     },
     "9a0e76921a97425ca986229f7f6992b1": {
      "model_module": "@jupyter-widgets/controls",
      "model_module_version": "1.5.0",
      "model_name": "DescriptionStyleModel",
      "state": {
       "_model_module": "@jupyter-widgets/controls",
       "_model_module_version": "1.5.0",
       "_model_name": "DescriptionStyleModel",
       "_view_count": null,
       "_view_module": "@jupyter-widgets/base",
       "_view_module_version": "1.2.0",
       "_view_name": "StyleView",
       "description_width": ""
      }
     },
     "9f60b7dc875040bfaa29b1383cbffca0": {
      "model_module": "@jupyter-widgets/controls",
      "model_module_version": "1.5.0",
      "model_name": "FloatProgressModel",
      "state": {
       "_dom_classes": [],
       "_model_module": "@jupyter-widgets/controls",
       "_model_module_version": "1.5.0",
       "_model_name": "FloatProgressModel",
       "_view_count": null,
       "_view_module": "@jupyter-widgets/controls",
       "_view_module_version": "1.5.0",
       "_view_name": "ProgressView",
       "bar_style": "success",
       "description": "",
       "description_tooltip": null,
       "layout": "IPY_MODEL_ae26a1343dee4f95916d3763497cd38d",
       "max": 440449768.0,
       "min": 0.0,
       "orientation": "horizontal",
       "style": "IPY_MODEL_b40d31e085124bdf8663ef88d54d7249",
       "value": 440449768.0
      }
     },
     "a2f5c696a32c497ead1dfdb976c43f5f": {
      "model_module": "@jupyter-widgets/base",
      "model_module_version": "1.2.0",
      "model_name": "LayoutModel",
      "state": {
       "_model_module": "@jupyter-widgets/base",
       "_model_module_version": "1.2.0",
       "_model_name": "LayoutModel",
       "_view_count": null,
       "_view_module": "@jupyter-widgets/base",
       "_view_module_version": "1.2.0",
       "_view_name": "LayoutView",
       "align_content": null,
       "align_items": null,
       "align_self": null,
       "border": null,
       "bottom": null,
       "display": null,
       "flex": null,
       "flex_flow": null,
       "grid_area": null,
       "grid_auto_columns": null,
       "grid_auto_flow": null,
       "grid_auto_rows": null,
       "grid_column": null,
       "grid_gap": null,
       "grid_row": null,
       "grid_template_areas": null,
       "grid_template_columns": null,
       "grid_template_rows": null,
       "height": null,
       "justify_content": null,
       "justify_items": null,
       "left": null,
       "margin": null,
       "max_height": null,
       "max_width": null,
       "min_height": null,
       "min_width": null,
       "object_fit": null,
       "object_position": null,
       "order": null,
       "overflow": null,
       "overflow_x": null,
       "overflow_y": null,
       "padding": null,
       "right": null,
       "top": null,
       "visibility": null,
       "width": null
      }
     },
     "a7ae0a86b1fa42be829b02c5f5308283": {
      "model_module": "@jupyter-widgets/base",
      "model_module_version": "1.2.0",
      "model_name": "LayoutModel",
      "state": {
       "_model_module": "@jupyter-widgets/base",
       "_model_module_version": "1.2.0",
       "_model_name": "LayoutModel",
       "_view_count": null,
       "_view_module": "@jupyter-widgets/base",
       "_view_module_version": "1.2.0",
       "_view_name": "LayoutView",
       "align_content": null,
       "align_items": null,
       "align_self": null,
       "border": null,
       "bottom": null,
       "display": null,
       "flex": null,
       "flex_flow": null,
       "grid_area": null,
       "grid_auto_columns": null,
       "grid_auto_flow": null,
       "grid_auto_rows": null,
       "grid_column": null,
       "grid_gap": null,
       "grid_row": null,
       "grid_template_areas": null,
       "grid_template_columns": null,
       "grid_template_rows": null,
       "height": null,
       "justify_content": null,
       "justify_items": null,
       "left": null,
       "margin": null,
       "max_height": null,
       "max_width": null,
       "min_height": null,
       "min_width": null,
       "object_fit": null,
       "object_position": null,
       "order": null,
       "overflow": null,
       "overflow_x": null,
       "overflow_y": null,
       "padding": null,
       "right": null,
       "top": null,
       "visibility": null,
       "width": null
      }
     },
     "ae26a1343dee4f95916d3763497cd38d": {
      "model_module": "@jupyter-widgets/base",
      "model_module_version": "1.2.0",
      "model_name": "LayoutModel",
      "state": {
       "_model_module": "@jupyter-widgets/base",
       "_model_module_version": "1.2.0",
       "_model_name": "LayoutModel",
       "_view_count": null,
       "_view_module": "@jupyter-widgets/base",
       "_view_module_version": "1.2.0",
       "_view_name": "LayoutView",
       "align_content": null,
       "align_items": null,
       "align_self": null,
       "border": null,
       "bottom": null,
       "display": null,
       "flex": null,
       "flex_flow": null,
       "grid_area": null,
       "grid_auto_columns": null,
       "grid_auto_flow": null,
       "grid_auto_rows": null,
       "grid_column": null,
       "grid_gap": null,
       "grid_row": null,
       "grid_template_areas": null,
       "grid_template_columns": null,
       "grid_template_rows": null,
       "height": null,
       "justify_content": null,
       "justify_items": null,
       "left": null,
       "margin": null,
       "max_height": null,
       "max_width": null,
       "min_height": null,
       "min_width": null,
       "object_fit": null,
       "object_position": null,
       "order": null,
       "overflow": null,
       "overflow_x": null,
       "overflow_y": null,
       "padding": null,
       "right": null,
       "top": null,
       "visibility": null,
       "width": null
      }
     },
     "afb5e345574742978dee4b5f96ea1970": {
      "model_module": "@jupyter-widgets/controls",
      "model_module_version": "1.5.0",
      "model_name": "HBoxModel",
      "state": {
       "_dom_classes": [],
       "_model_module": "@jupyter-widgets/controls",
       "_model_module_version": "1.5.0",
       "_model_name": "HBoxModel",
       "_view_count": null,
       "_view_module": "@jupyter-widgets/controls",
       "_view_module_version": "1.5.0",
       "_view_name": "HBoxView",
       "box_style": "",
       "children": [
        "IPY_MODEL_7670ca2172274602b224e0f38e1d78cf",
        "IPY_MODEL_3333976124274edf98061c7e8a57b1ad",
        "IPY_MODEL_ea753cfbf1164a07b3e72fb6fe4b642b"
       ],
       "layout": "IPY_MODEL_e71f5045e4ee47e699f04a538ab15668"
      }
     },
     "b40d31e085124bdf8663ef88d54d7249": {
      "model_module": "@jupyter-widgets/controls",
      "model_module_version": "1.5.0",
      "model_name": "ProgressStyleModel",
      "state": {
       "_model_module": "@jupyter-widgets/controls",
       "_model_module_version": "1.5.0",
       "_model_name": "ProgressStyleModel",
       "_view_count": null,
       "_view_module": "@jupyter-widgets/base",
       "_view_module_version": "1.2.0",
       "_view_name": "StyleView",
       "bar_color": null,
       "description_width": ""
      }
     },
     "ba31035eafdf4446afaca06753edf7c0": {
      "model_module": "@jupyter-widgets/controls",
      "model_module_version": "1.5.0",
      "model_name": "FloatProgressModel",
      "state": {
       "_dom_classes": [],
       "_model_module": "@jupyter-widgets/controls",
       "_model_module_version": "1.5.0",
       "_model_name": "FloatProgressModel",
       "_view_count": null,
       "_view_module": "@jupyter-widgets/controls",
       "_view_module_version": "1.5.0",
       "_view_name": "ProgressView",
       "bar_style": "success",
       "description": "",
       "description_tooltip": null,
       "layout": "IPY_MODEL_c154ac63e33b4de1977d3c3823a37fdd",
       "max": 466062.0,
       "min": 0.0,
       "orientation": "horizontal",
       "style": "IPY_MODEL_91ed4ee965cc4ac8b1d331454e1b2d6b",
       "value": 466062.0
      }
     },
     "bb7021a80c304ada9a4a1ac21ed11b37": {
      "model_module": "@jupyter-widgets/controls",
      "model_module_version": "1.5.0",
      "model_name": "HTMLModel",
      "state": {
       "_dom_classes": [],
       "_model_module": "@jupyter-widgets/controls",
       "_model_module_version": "1.5.0",
       "_model_name": "HTMLModel",
       "_view_count": null,
       "_view_module": "@jupyter-widgets/controls",
       "_view_module_version": "1.5.0",
       "_view_name": "HTMLView",
       "description": "",
       "description_tooltip": null,
       "layout": "IPY_MODEL_8d082e93d5174d95bb072b4666b77345",
       "placeholder": "​",
       "style": "IPY_MODEL_35ba9053e57349ceafc4c0ce6ae12ea4",
       "value": "tokenizer.json: 100%"
      }
     },
     "bd2a03d6dcb04710b978d738f3d6c61e": {
      "model_module": "@jupyter-widgets/base",
      "model_module_version": "1.2.0",
      "model_name": "LayoutModel",
      "state": {
       "_model_module": "@jupyter-widgets/base",
       "_model_module_version": "1.2.0",
       "_model_name": "LayoutModel",
       "_view_count": null,
       "_view_module": "@jupyter-widgets/base",
       "_view_module_version": "1.2.0",
       "_view_name": "LayoutView",
       "align_content": null,
       "align_items": null,
       "align_self": null,
       "border": null,
       "bottom": null,
       "display": null,
       "flex": null,
       "flex_flow": null,
       "grid_area": null,
       "grid_auto_columns": null,
       "grid_auto_flow": null,
       "grid_auto_rows": null,
       "grid_column": null,
       "grid_gap": null,
       "grid_row": null,
       "grid_template_areas": null,
       "grid_template_columns": null,
       "grid_template_rows": null,
       "height": null,
       "justify_content": null,
       "justify_items": null,
       "left": null,
       "margin": null,
       "max_height": null,
       "max_width": null,
       "min_height": null,
       "min_width": null,
       "object_fit": null,
       "object_position": null,
       "order": null,
       "overflow": null,
       "overflow_x": null,
       "overflow_y": null,
       "padding": null,
       "right": null,
       "top": null,
       "visibility": null,
       "width": null
      }
     },
     "c154ac63e33b4de1977d3c3823a37fdd": {
      "model_module": "@jupyter-widgets/base",
      "model_module_version": "1.2.0",
      "model_name": "LayoutModel",
      "state": {
       "_model_module": "@jupyter-widgets/base",
       "_model_module_version": "1.2.0",
       "_model_name": "LayoutModel",
       "_view_count": null,
       "_view_module": "@jupyter-widgets/base",
       "_view_module_version": "1.2.0",
       "_view_name": "LayoutView",
       "align_content": null,
       "align_items": null,
       "align_self": null,
       "border": null,
       "bottom": null,
       "display": null,
       "flex": null,
       "flex_flow": null,
       "grid_area": null,
       "grid_auto_columns": null,
       "grid_auto_flow": null,
       "grid_auto_rows": null,
       "grid_column": null,
       "grid_gap": null,
       "grid_row": null,
       "grid_template_areas": null,
       "grid_template_columns": null,
       "grid_template_rows": null,
       "height": null,
       "justify_content": null,
       "justify_items": null,
       "left": null,
       "margin": null,
       "max_height": null,
       "max_width": null,
       "min_height": null,
       "min_width": null,
       "object_fit": null,
       "object_position": null,
       "order": null,
       "overflow": null,
       "overflow_x": null,
       "overflow_y": null,
       "padding": null,
       "right": null,
       "top": null,
       "visibility": null,
       "width": null
      }
     },
     "c6c82b6e7c594b26b95cff6f77c31bd4": {
      "model_module": "@jupyter-widgets/base",
      "model_module_version": "1.2.0",
      "model_name": "LayoutModel",
      "state": {
       "_model_module": "@jupyter-widgets/base",
       "_model_module_version": "1.2.0",
       "_model_name": "LayoutModel",
       "_view_count": null,
       "_view_module": "@jupyter-widgets/base",
       "_view_module_version": "1.2.0",
       "_view_name": "LayoutView",
       "align_content": null,
       "align_items": null,
       "align_self": null,
       "border": null,
       "bottom": null,
       "display": null,
       "flex": null,
       "flex_flow": null,
       "grid_area": null,
       "grid_auto_columns": null,
       "grid_auto_flow": null,
       "grid_auto_rows": null,
       "grid_column": null,
       "grid_gap": null,
       "grid_row": null,
       "grid_template_areas": null,
       "grid_template_columns": null,
       "grid_template_rows": null,
       "height": null,
       "justify_content": null,
       "justify_items": null,
       "left": null,
       "margin": null,
       "max_height": null,
       "max_width": null,
       "min_height": null,
       "min_width": null,
       "object_fit": null,
       "object_position": null,
       "order": null,
       "overflow": null,
       "overflow_x": null,
       "overflow_y": null,
       "padding": null,
       "right": null,
       "top": null,
       "visibility": null,
       "width": null
      }
     },
     "c6ef5ef2f4f1412f974c738541a02faa": {
      "model_module": "@jupyter-widgets/controls",
      "model_module_version": "1.5.0",
      "model_name": "DescriptionStyleModel",
      "state": {
       "_model_module": "@jupyter-widgets/controls",
       "_model_module_version": "1.5.0",
       "_model_name": "DescriptionStyleModel",
       "_view_count": null,
       "_view_module": "@jupyter-widgets/base",
       "_view_module_version": "1.2.0",
       "_view_name": "StyleView",
       "description_width": ""
      }
     },
     "c850df644e93465a9b9e7d447c805767": {
      "model_module": "@jupyter-widgets/base",
      "model_module_version": "1.2.0",
      "model_name": "LayoutModel",
      "state": {
       "_model_module": "@jupyter-widgets/base",
       "_model_module_version": "1.2.0",
       "_model_name": "LayoutModel",
       "_view_count": null,
       "_view_module": "@jupyter-widgets/base",
       "_view_module_version": "1.2.0",
       "_view_name": "LayoutView",
       "align_content": null,
       "align_items": null,
       "align_self": null,
       "border": null,
       "bottom": null,
       "display": null,
       "flex": null,
       "flex_flow": null,
       "grid_area": null,
       "grid_auto_columns": null,
       "grid_auto_flow": null,
       "grid_auto_rows": null,
       "grid_column": null,
       "grid_gap": null,
       "grid_row": null,
       "grid_template_areas": null,
       "grid_template_columns": null,
       "grid_template_rows": null,
       "height": null,
       "justify_content": null,
       "justify_items": null,
       "left": null,
       "margin": null,
       "max_height": null,
       "max_width": null,
       "min_height": null,
       "min_width": null,
       "object_fit": null,
       "object_position": null,
       "order": null,
       "overflow": null,
       "overflow_x": null,
       "overflow_y": null,
       "padding": null,
       "right": null,
       "top": null,
       "visibility": null,
       "width": null
      }
     },
     "ce0500663c0044fa952079cd53e607cc": {
      "model_module": "@jupyter-widgets/base",
      "model_module_version": "1.2.0",
      "model_name": "LayoutModel",
      "state": {
       "_model_module": "@jupyter-widgets/base",
       "_model_module_version": "1.2.0",
       "_model_name": "LayoutModel",
       "_view_count": null,
       "_view_module": "@jupyter-widgets/base",
       "_view_module_version": "1.2.0",
       "_view_name": "LayoutView",
       "align_content": null,
       "align_items": null,
       "align_self": null,
       "border": null,
       "bottom": null,
       "display": null,
       "flex": null,
       "flex_flow": null,
       "grid_area": null,
       "grid_auto_columns": null,
       "grid_auto_flow": null,
       "grid_auto_rows": null,
       "grid_column": null,
       "grid_gap": null,
       "grid_row": null,
       "grid_template_areas": null,
       "grid_template_columns": null,
       "grid_template_rows": null,
       "height": null,
       "justify_content": null,
       "justify_items": null,
       "left": null,
       "margin": null,
       "max_height": null,
       "max_width": null,
       "min_height": null,
       "min_width": null,
       "object_fit": null,
       "object_position": null,
       "order": null,
       "overflow": null,
       "overflow_x": null,
       "overflow_y": null,
       "padding": null,
       "right": null,
       "top": null,
       "visibility": null,
       "width": null
      }
     },
     "d339601f720b4b918dc24011ec2730e0": {
      "model_module": "@jupyter-widgets/controls",
      "model_module_version": "1.5.0",
      "model_name": "HTMLModel",
      "state": {
       "_dom_classes": [],
       "_model_module": "@jupyter-widgets/controls",
       "_model_module_version": "1.5.0",
       "_model_name": "HTMLModel",
       "_view_count": null,
       "_view_module": "@jupyter-widgets/controls",
       "_view_module_version": "1.5.0",
       "_view_name": "HTMLView",
       "description": "",
       "description_tooltip": null,
       "layout": "IPY_MODEL_bd2a03d6dcb04710b978d738f3d6c61e",
       "placeholder": "​",
       "style": "IPY_MODEL_9a0e76921a97425ca986229f7f6992b1",
       "value": " 440M/440M [00:02&lt;00:00, 211MB/s]"
      }
     },
     "d46e096c726040c0a3b5c48cfd11b23e": {
      "model_module": "@jupyter-widgets/controls",
      "model_module_version": "1.5.0",
      "model_name": "ProgressStyleModel",
      "state": {
       "_model_module": "@jupyter-widgets/controls",
       "_model_module_version": "1.5.0",
       "_model_name": "ProgressStyleModel",
       "_view_count": null,
       "_view_module": "@jupyter-widgets/base",
       "_view_module_version": "1.2.0",
       "_view_name": "StyleView",
       "bar_color": null,
       "description_width": ""
      }
     },
     "d5e1841de3e84fa2913998150ee172e4": {
      "model_module": "@jupyter-widgets/controls",
      "model_module_version": "1.5.0",
      "model_name": "HBoxModel",
      "state": {
       "_dom_classes": [],
       "_model_module": "@jupyter-widgets/controls",
       "_model_module_version": "1.5.0",
       "_model_name": "HBoxModel",
       "_view_count": null,
       "_view_module": "@jupyter-widgets/controls",
       "_view_module_version": "1.5.0",
       "_view_name": "HBoxView",
       "box_style": "",
       "children": [
        "IPY_MODEL_bb7021a80c304ada9a4a1ac21ed11b37",
        "IPY_MODEL_ba31035eafdf4446afaca06753edf7c0",
        "IPY_MODEL_27bd790ad61d473985faaf0276503200"
       ],
       "layout": "IPY_MODEL_a7ae0a86b1fa42be829b02c5f5308283"
      }
     },
     "d76af36cbf4849b58f90963fd5060b3f": {
      "model_module": "@jupyter-widgets/base",
      "model_module_version": "1.2.0",
      "model_name": "LayoutModel",
      "state": {
       "_model_module": "@jupyter-widgets/base",
       "_model_module_version": "1.2.0",
       "_model_name": "LayoutModel",
       "_view_count": null,
       "_view_module": "@jupyter-widgets/base",
       "_view_module_version": "1.2.0",
       "_view_name": "LayoutView",
       "align_content": null,
       "align_items": null,
       "align_self": null,
       "border": null,
       "bottom": null,
       "display": null,
       "flex": null,
       "flex_flow": null,
       "grid_area": null,
       "grid_auto_columns": null,
       "grid_auto_flow": null,
       "grid_auto_rows": null,
       "grid_column": null,
       "grid_gap": null,
       "grid_row": null,
       "grid_template_areas": null,
       "grid_template_columns": null,
       "grid_template_rows": null,
       "height": null,
       "justify_content": null,
       "justify_items": null,
       "left": null,
       "margin": null,
       "max_height": null,
       "max_width": null,
       "min_height": null,
       "min_width": null,
       "object_fit": null,
       "object_position": null,
       "order": null,
       "overflow": null,
       "overflow_x": null,
       "overflow_y": null,
       "padding": null,
       "right": null,
       "top": null,
       "visibility": null,
       "width": null
      }
     },
     "d7e270d56b8641a7969b205d5bb448b7": {
      "model_module": "@jupyter-widgets/base",
      "model_module_version": "1.2.0",
      "model_name": "LayoutModel",
      "state": {
       "_model_module": "@jupyter-widgets/base",
       "_model_module_version": "1.2.0",
       "_model_name": "LayoutModel",
       "_view_count": null,
       "_view_module": "@jupyter-widgets/base",
       "_view_module_version": "1.2.0",
       "_view_name": "LayoutView",
       "align_content": null,
       "align_items": null,
       "align_self": null,
       "border": null,
       "bottom": null,
       "display": null,
       "flex": null,
       "flex_flow": null,
       "grid_area": null,
       "grid_auto_columns": null,
       "grid_auto_flow": null,
       "grid_auto_rows": null,
       "grid_column": null,
       "grid_gap": null,
       "grid_row": null,
       "grid_template_areas": null,
       "grid_template_columns": null,
       "grid_template_rows": null,
       "height": null,
       "justify_content": null,
       "justify_items": null,
       "left": null,
       "margin": null,
       "max_height": null,
       "max_width": null,
       "min_height": null,
       "min_width": null,
       "object_fit": null,
       "object_position": null,
       "order": null,
       "overflow": null,
       "overflow_x": null,
       "overflow_y": null,
       "padding": null,
       "right": null,
       "top": null,
       "visibility": null,
       "width": null
      }
     },
     "e31c5bed437443468df2c2e25551e638": {
      "model_module": "@jupyter-widgets/controls",
      "model_module_version": "1.5.0",
      "model_name": "HTMLModel",
      "state": {
       "_dom_classes": [],
       "_model_module": "@jupyter-widgets/controls",
       "_model_module_version": "1.5.0",
       "_model_name": "HTMLModel",
       "_view_count": null,
       "_view_module": "@jupyter-widgets/controls",
       "_view_module_version": "1.5.0",
       "_view_name": "HTMLView",
       "description": "",
       "description_tooltip": null,
       "layout": "IPY_MODEL_1e298ea31c3f4c01b20de4e92b128422",
       "placeholder": "​",
       "style": "IPY_MODEL_1d295d9265ff46f09a5ecd3275465528",
       "value": "config.json: 100%"
      }
     },
     "e71f5045e4ee47e699f04a538ab15668": {
      "model_module": "@jupyter-widgets/base",
      "model_module_version": "1.2.0",
      "model_name": "LayoutModel",
      "state": {
       "_model_module": "@jupyter-widgets/base",
       "_model_module_version": "1.2.0",
       "_model_name": "LayoutModel",
       "_view_count": null,
       "_view_module": "@jupyter-widgets/base",
       "_view_module_version": "1.2.0",
       "_view_name": "LayoutView",
       "align_content": null,
       "align_items": null,
       "align_self": null,
       "border": null,
       "bottom": null,
       "display": null,
       "flex": null,
       "flex_flow": null,
       "grid_area": null,
       "grid_auto_columns": null,
       "grid_auto_flow": null,
       "grid_auto_rows": null,
       "grid_column": null,
       "grid_gap": null,
       "grid_row": null,
       "grid_template_areas": null,
       "grid_template_columns": null,
       "grid_template_rows": null,
       "height": null,
       "justify_content": null,
       "justify_items": null,
       "left": null,
       "margin": null,
       "max_height": null,
       "max_width": null,
       "min_height": null,
       "min_width": null,
       "object_fit": null,
       "object_position": null,
       "order": null,
       "overflow": null,
       "overflow_x": null,
       "overflow_y": null,
       "padding": null,
       "right": null,
       "top": null,
       "visibility": null,
       "width": null
      }
     },
     "ea753cfbf1164a07b3e72fb6fe4b642b": {
      "model_module": "@jupyter-widgets/controls",
      "model_module_version": "1.5.0",
      "model_name": "HTMLModel",
      "state": {
       "_dom_classes": [],
       "_model_module": "@jupyter-widgets/controls",
       "_model_module_version": "1.5.0",
       "_model_name": "HTMLModel",
       "_view_count": null,
       "_view_module": "@jupyter-widgets/controls",
       "_view_module_version": "1.5.0",
       "_view_name": "HTMLView",
       "description": "",
       "description_tooltip": null,
       "layout": "IPY_MODEL_a2f5c696a32c497ead1dfdb976c43f5f",
       "placeholder": "​",
       "style": "IPY_MODEL_1715bf695e6e4f109b990a4239e360a6",
       "value": " 48.0/48.0 [00:00&lt;00:00, 3.55kB/s]"
      }
     },
     "ec5e7dcad46f4184837c25e6fee7b5e1": {
      "model_module": "@jupyter-widgets/controls",
      "model_module_version": "1.5.0",
      "model_name": "DescriptionStyleModel",
      "state": {
       "_model_module": "@jupyter-widgets/controls",
       "_model_module_version": "1.5.0",
       "_model_name": "DescriptionStyleModel",
       "_view_count": null,
       "_view_module": "@jupyter-widgets/base",
       "_view_module_version": "1.2.0",
       "_view_name": "StyleView",
       "description_width": ""
      }
     },
     "ed134c394a3d4419bfc2a3a6b0354f98": {
      "model_module": "@jupyter-widgets/controls",
      "model_module_version": "1.5.0",
      "model_name": "HBoxModel",
      "state": {
       "_dom_classes": [],
       "_model_module": "@jupyter-widgets/controls",
       "_model_module_version": "1.5.0",
       "_model_name": "HBoxModel",
       "_view_count": null,
       "_view_module": "@jupyter-widgets/controls",
       "_view_module_version": "1.5.0",
       "_view_name": "HBoxView",
       "box_style": "",
       "children": [
        "IPY_MODEL_e31c5bed437443468df2c2e25551e638",
        "IPY_MODEL_85d96fab8f474fe0abb6bfe5c7591781",
        "IPY_MODEL_52c72c94783a4bb88c245d11014b71e0"
       ],
       "layout": "IPY_MODEL_6ef91464c519407b89cff5bbf7925f67"
      }
     },
     "feef8704584b44439b0b2471f711c3f6": {
      "model_module": "@jupyter-widgets/controls",
      "model_module_version": "1.5.0",
      "model_name": "ProgressStyleModel",
      "state": {
       "_model_module": "@jupyter-widgets/controls",
       "_model_module_version": "1.5.0",
       "_model_name": "ProgressStyleModel",
       "_view_count": null,
       "_view_module": "@jupyter-widgets/base",
       "_view_module_version": "1.2.0",
       "_view_name": "StyleView",
       "bar_color": null,
       "description_width": ""
      }
     }
    },
    "version_major": 2,
    "version_minor": 0
   }
  }
 },
 "nbformat": 4,
 "nbformat_minor": 5
}
