{
 "cells": [
  {
   "cell_type": "code",
   "execution_count": 1,
   "id": "6b0bbc24",
   "metadata": {
    "_cell_guid": "b1076dfc-b9ad-4769-8c92-a6c4dae69d19",
    "_uuid": "8f2839f25d086af736a60e9eeb907d3b93b6e0e5",
    "execution": {
     "iopub.execute_input": "2024-08-20T11:05:38.222747Z",
     "iopub.status.busy": "2024-08-20T11:05:38.222390Z",
     "iopub.status.idle": "2024-08-20T11:05:38.903640Z",
     "shell.execute_reply": "2024-08-20T11:05:38.902803Z"
    },
    "papermill": {
     "duration": 0.701487,
     "end_time": "2024-08-20T11:05:38.905787",
     "exception": false,
     "start_time": "2024-08-20T11:05:38.204300",
     "status": "completed"
    },
    "tags": []
   },
   "outputs": [
    {
     "name": "stdout",
     "output_type": "stream",
     "text": [
      "/kaggle/input/dataset-tachygraphy/Tachygraphy_dataset_main.csv\n"
     ]
    }
   ],
   "source": [
    "# This Python 3 environment comes with many helpful analytics libraries installed\n",
    "# It is defined by the kaggle/python Docker image: https://github.com/kaggle/docker-python\n",
    "# For example, here's several helpful packages to load\n",
    "\n",
    "import numpy as np # linear algebra\n",
    "import pandas as pd # data processing, CSV file I/O (e.g. pd.read_csv)\n",
    "\n",
    "# Input data files are available in the read-only \"../input/\" directory\n",
    "# For example, running this (by clicking run or pressing Shift+Enter) will list all files under the input directory\n",
    "\n",
    "import os\n",
    "for dirname, _, filenames in os.walk('/kaggle/input'):\n",
    "    for filename in filenames:\n",
    "        print(os.path.join(dirname, filename))\n",
    "\n",
    "# You can write up to 20GB to the current directory (/kaggle/working/) that gets preserved as output when you create a version using \"Save & Run All\" \n",
    "# You can also write temporary files to /kaggle/temp/, but they won't be saved outside of the current session"
   ]
  },
  {
   "cell_type": "code",
   "execution_count": 2,
   "id": "95564c0d",
   "metadata": {
    "execution": {
     "iopub.execute_input": "2024-08-20T11:05:38.940760Z",
     "iopub.status.busy": "2024-08-20T11:05:38.940371Z",
     "iopub.status.idle": "2024-08-20T11:05:38.944170Z",
     "shell.execute_reply": "2024-08-20T11:05:38.943331Z"
    },
    "papermill": {
     "duration": 0.023091,
     "end_time": "2024-08-20T11:05:38.946007",
     "exception": false,
     "start_time": "2024-08-20T11:05:38.922916",
     "status": "completed"
    },
    "tags": []
   },
   "outputs": [],
   "source": [
    "# To ignore warinings\n",
    "import warnings\n",
    "warnings.filterwarnings('ignore')"
   ]
  },
  {
   "cell_type": "code",
   "execution_count": 3,
   "id": "5fc25ff3",
   "metadata": {
    "execution": {
     "iopub.execute_input": "2024-08-20T11:05:38.981909Z",
     "iopub.status.busy": "2024-08-20T11:05:38.981252Z",
     "iopub.status.idle": "2024-08-20T11:05:42.184779Z",
     "shell.execute_reply": "2024-08-20T11:05:42.183986Z"
    },
    "papermill": {
     "duration": 3.223442,
     "end_time": "2024-08-20T11:05:42.187070",
     "exception": false,
     "start_time": "2024-08-20T11:05:38.963628",
     "status": "completed"
    },
    "tags": []
   },
   "outputs": [],
   "source": [
    "import torch\n",
    "device = torch.device(\"cuda\" if torch.cuda.is_available() else \"cpu\")"
   ]
  },
  {
   "cell_type": "code",
   "execution_count": 4,
   "id": "b7d4148b",
   "metadata": {
    "execution": {
     "iopub.execute_input": "2024-08-20T11:05:42.223340Z",
     "iopub.status.busy": "2024-08-20T11:05:42.222513Z",
     "iopub.status.idle": "2024-08-20T11:05:43.728226Z",
     "shell.execute_reply": "2024-08-20T11:05:43.727424Z"
    },
    "papermill": {
     "duration": 1.526384,
     "end_time": "2024-08-20T11:05:43.730374",
     "exception": false,
     "start_time": "2024-08-20T11:05:42.203990",
     "status": "completed"
    },
    "tags": []
   },
   "outputs": [],
   "source": [
    "import numpy as np\n",
    "import pandas as pd\n",
    "import re\n",
    "from nltk.corpus import stopwords\n",
    "from nltk.stem.porter import PorterStemmer\n",
    "from sklearn.feature_extraction.text import TfidfVectorizer"
   ]
  },
  {
   "cell_type": "code",
   "execution_count": 5,
   "id": "7d58919a",
   "metadata": {
    "execution": {
     "iopub.execute_input": "2024-08-20T11:05:43.766412Z",
     "iopub.status.busy": "2024-08-20T11:05:43.766109Z",
     "iopub.status.idle": "2024-08-20T11:05:43.862371Z",
     "shell.execute_reply": "2024-08-20T11:05:43.861485Z"
    },
    "papermill": {
     "duration": 0.11622,
     "end_time": "2024-08-20T11:05:43.864331",
     "exception": false,
     "start_time": "2024-08-20T11:05:43.748111",
     "status": "completed"
    },
    "tags": []
   },
   "outputs": [
    {
     "name": "stdout",
     "output_type": "stream",
     "text": [
      "[nltk_data] Downloading package stopwords to /usr/share/nltk_data...\n",
      "[nltk_data]   Package stopwords is already up-to-date!\n"
     ]
    },
    {
     "data": {
      "text/plain": [
       "True"
      ]
     },
     "execution_count": 5,
     "metadata": {},
     "output_type": "execute_result"
    }
   ],
   "source": [
    "import nltk\n",
    "nltk.download('stopwords')"
   ]
  },
  {
   "cell_type": "markdown",
   "id": "8b6d4357",
   "metadata": {
    "papermill": {
     "duration": 0.017589,
     "end_time": "2024-08-20T11:05:43.899519",
     "exception": false,
     "start_time": "2024-08-20T11:05:43.881930",
     "status": "completed"
    },
    "tags": []
   },
   "source": [
    "# DATASET"
   ]
  },
  {
   "cell_type": "code",
   "execution_count": 6,
   "id": "beb41846",
   "metadata": {
    "execution": {
     "iopub.execute_input": "2024-08-20T11:05:43.934082Z",
     "iopub.status.busy": "2024-08-20T11:05:43.933829Z",
     "iopub.status.idle": "2024-08-20T11:05:43.972316Z",
     "shell.execute_reply": "2024-08-20T11:05:43.971459Z"
    },
    "papermill": {
     "duration": 0.058263,
     "end_time": "2024-08-20T11:05:43.974369",
     "exception": false,
     "start_time": "2024-08-20T11:05:43.916106",
     "status": "completed"
    },
    "tags": []
   },
   "outputs": [
    {
     "data": {
      "text/plain": [
       "(4958, 3)"
      ]
     },
     "execution_count": 6,
     "metadata": {},
     "output_type": "execute_result"
    }
   ],
   "source": [
    "df=pd.read_csv(\"/kaggle/input/dataset-tachygraphy/Tachygraphy_dataset_main.csv\")\n",
    "df.shape"
   ]
  },
  {
   "cell_type": "code",
   "execution_count": 7,
   "id": "541f33c5",
   "metadata": {
    "execution": {
     "iopub.execute_input": "2024-08-20T11:05:44.009849Z",
     "iopub.status.busy": "2024-08-20T11:05:44.009569Z",
     "iopub.status.idle": "2024-08-20T11:05:44.024854Z",
     "shell.execute_reply": "2024-08-20T11:05:44.024018Z"
    },
    "papermill": {
     "duration": 0.035004,
     "end_time": "2024-08-20T11:05:44.026959",
     "exception": false,
     "start_time": "2024-08-20T11:05:43.991955",
     "status": "completed"
    },
    "tags": []
   },
   "outputs": [
    {
     "data": {
      "text/html": [
       "<div>\n",
       "<style scoped>\n",
       "    .dataframe tbody tr th:only-of-type {\n",
       "        vertical-align: middle;\n",
       "    }\n",
       "\n",
       "    .dataframe tbody tr th {\n",
       "        vertical-align: top;\n",
       "    }\n",
       "\n",
       "    .dataframe thead th {\n",
       "        text-align: right;\n",
       "    }\n",
       "</style>\n",
       "<table border=\"1\" class=\"dataframe\">\n",
       "  <thead>\n",
       "    <tr style=\"text-align: right;\">\n",
       "      <th></th>\n",
       "      <th>Text</th>\n",
       "      <th>Meaning</th>\n",
       "      <th>Sentiment</th>\n",
       "    </tr>\n",
       "  </thead>\n",
       "  <tbody>\n",
       "    <tr>\n",
       "      <th>0</th>\n",
       "      <td>Last session of the day http://twitpic.com/67ezh</td>\n",
       "      <td>Last session of the day http://twitpic.com/67ezh</td>\n",
       "      <td>neutral</td>\n",
       "    </tr>\n",
       "    <tr>\n",
       "      <th>1</th>\n",
       "      <td>Shanghai is also really exciting (precisely --...</td>\n",
       "      <td>Shanghai is also really exciting (precisely --...</td>\n",
       "      <td>positive</td>\n",
       "    </tr>\n",
       "    <tr>\n",
       "      <th>2</th>\n",
       "      <td>submit the report ASAP!</td>\n",
       "      <td>submit the report as soon as possilbe</td>\n",
       "      <td>negative</td>\n",
       "    </tr>\n",
       "    <tr>\n",
       "      <th>3</th>\n",
       "      <td>happy bday!</td>\n",
       "      <td>Happy Birthday!</td>\n",
       "      <td>positive</td>\n",
       "    </tr>\n",
       "    <tr>\n",
       "      <th>4</th>\n",
       "      <td>The OGs - I like it!!</td>\n",
       "      <td>The original gangsters - i like it!</td>\n",
       "      <td>positive</td>\n",
       "    </tr>\n",
       "  </tbody>\n",
       "</table>\n",
       "</div>"
      ],
      "text/plain": [
       "                                                Text  \\\n",
       "0   Last session of the day http://twitpic.com/67ezh   \n",
       "1  Shanghai is also really exciting (precisely --...   \n",
       "2                            submit the report ASAP!   \n",
       "3                                        happy bday!   \n",
       "4                              The OGs - I like it!!   \n",
       "\n",
       "                                             Meaning Sentiment  \n",
       "0   Last session of the day http://twitpic.com/67ezh   neutral  \n",
       "1  Shanghai is also really exciting (precisely --...  positive  \n",
       "2              submit the report as soon as possilbe  negative  \n",
       "3                                    Happy Birthday!  positive  \n",
       "4                The original gangsters - i like it!  positive  "
      ]
     },
     "execution_count": 7,
     "metadata": {},
     "output_type": "execute_result"
    }
   ],
   "source": [
    "df.head()"
   ]
  },
  {
   "cell_type": "code",
   "execution_count": 8,
   "id": "873b3f8a",
   "metadata": {
    "execution": {
     "iopub.execute_input": "2024-08-20T11:05:44.062944Z",
     "iopub.status.busy": "2024-08-20T11:05:44.062427Z",
     "iopub.status.idle": "2024-08-20T11:05:44.066217Z",
     "shell.execute_reply": "2024-08-20T11:05:44.065412Z"
    },
    "papermill": {
     "duration": 0.023434,
     "end_time": "2024-08-20T11:05:44.068052",
     "exception": false,
     "start_time": "2024-08-20T11:05:44.044618",
     "status": "completed"
    },
    "tags": []
   },
   "outputs": [],
   "source": [
    "# df.drop(columns=['Sentiment.1'],inplace=True)"
   ]
  },
  {
   "cell_type": "markdown",
   "id": "7a0acba6",
   "metadata": {
    "papermill": {
     "duration": 0.016941,
     "end_time": "2024-08-20T11:05:44.102271",
     "exception": false,
     "start_time": "2024-08-20T11:05:44.085330",
     "status": "completed"
    },
    "tags": []
   },
   "source": [
    "## PREPROCESSING"
   ]
  },
  {
   "cell_type": "code",
   "execution_count": 9,
   "id": "76982951",
   "metadata": {
    "execution": {
     "iopub.execute_input": "2024-08-20T11:05:44.137428Z",
     "iopub.status.busy": "2024-08-20T11:05:44.137116Z",
     "iopub.status.idle": "2024-08-20T11:05:44.144503Z",
     "shell.execute_reply": "2024-08-20T11:05:44.143709Z"
    },
    "papermill": {
     "duration": 0.027262,
     "end_time": "2024-08-20T11:05:44.146419",
     "exception": false,
     "start_time": "2024-08-20T11:05:44.119157",
     "status": "completed"
    },
    "tags": []
   },
   "outputs": [],
   "source": [
    "df=df.drop('Meaning',axis=1)"
   ]
  },
  {
   "cell_type": "code",
   "execution_count": 10,
   "id": "87b966cd",
   "metadata": {
    "execution": {
     "iopub.execute_input": "2024-08-20T11:05:44.181004Z",
     "iopub.status.busy": "2024-08-20T11:05:44.180764Z",
     "iopub.status.idle": "2024-08-20T11:05:44.185801Z",
     "shell.execute_reply": "2024-08-20T11:05:44.184994Z"
    },
    "papermill": {
     "duration": 0.024425,
     "end_time": "2024-08-20T11:05:44.187652",
     "exception": false,
     "start_time": "2024-08-20T11:05:44.163227",
     "status": "completed"
    },
    "tags": []
   },
   "outputs": [
    {
     "data": {
      "text/plain": [
       "(4958, 2)"
      ]
     },
     "execution_count": 10,
     "metadata": {},
     "output_type": "execute_result"
    }
   ],
   "source": [
    "df.shape"
   ]
  },
  {
   "cell_type": "code",
   "execution_count": 11,
   "id": "251aa6c7",
   "metadata": {
    "execution": {
     "iopub.execute_input": "2024-08-20T11:05:44.224192Z",
     "iopub.status.busy": "2024-08-20T11:05:44.223931Z",
     "iopub.status.idle": "2024-08-20T11:05:44.228732Z",
     "shell.execute_reply": "2024-08-20T11:05:44.227899Z"
    },
    "papermill": {
     "duration": 0.02587,
     "end_time": "2024-08-20T11:05:44.230696",
     "exception": false,
     "start_time": "2024-08-20T11:05:44.204826",
     "status": "completed"
    },
    "tags": []
   },
   "outputs": [],
   "source": [
    "df = df.rename(columns={'Text': 'tweet'})"
   ]
  },
  {
   "cell_type": "code",
   "execution_count": 12,
   "id": "23e5faf3",
   "metadata": {
    "execution": {
     "iopub.execute_input": "2024-08-20T11:05:44.265777Z",
     "iopub.status.busy": "2024-08-20T11:05:44.265481Z",
     "iopub.status.idle": "2024-08-20T11:05:44.269783Z",
     "shell.execute_reply": "2024-08-20T11:05:44.268960Z"
    },
    "papermill": {
     "duration": 0.023904,
     "end_time": "2024-08-20T11:05:44.271588",
     "exception": false,
     "start_time": "2024-08-20T11:05:44.247684",
     "status": "completed"
    },
    "tags": []
   },
   "outputs": [],
   "source": [
    "df = df.rename(columns={'Sentiment': 'class'})"
   ]
  },
  {
   "cell_type": "code",
   "execution_count": 13,
   "id": "ee9e19df",
   "metadata": {
    "execution": {
     "iopub.execute_input": "2024-08-20T11:05:44.307266Z",
     "iopub.status.busy": "2024-08-20T11:05:44.307035Z",
     "iopub.status.idle": "2024-08-20T11:05:44.322243Z",
     "shell.execute_reply": "2024-08-20T11:05:44.321345Z"
    },
    "papermill": {
     "duration": 0.035721,
     "end_time": "2024-08-20T11:05:44.324257",
     "exception": false,
     "start_time": "2024-08-20T11:05:44.288536",
     "status": "completed"
    },
    "tags": []
   },
   "outputs": [
    {
     "data": {
      "text/plain": [
       "class\n",
       "neutral     1743\n",
       "positive    1643\n",
       "negative    1572\n",
       "Name: count, dtype: int64"
      ]
     },
     "execution_count": 13,
     "metadata": {},
     "output_type": "execute_result"
    }
   ],
   "source": [
    "df['class'] = df['class'].str.lower()\n",
    "sentiment_counts = df['class'].value_counts()\n",
    "sentiment_counts"
   ]
  },
  {
   "cell_type": "code",
   "execution_count": 14,
   "id": "1ed45ea0",
   "metadata": {
    "execution": {
     "iopub.execute_input": "2024-08-20T11:05:44.360511Z",
     "iopub.status.busy": "2024-08-20T11:05:44.360257Z",
     "iopub.status.idle": "2024-08-20T11:05:44.365733Z",
     "shell.execute_reply": "2024-08-20T11:05:44.365030Z"
    },
    "papermill": {
     "duration": 0.025754,
     "end_time": "2024-08-20T11:05:44.367835",
     "exception": false,
     "start_time": "2024-08-20T11:05:44.342081",
     "status": "completed"
    },
    "tags": []
   },
   "outputs": [],
   "source": [
    "df = df[df['class'] != \"neutral\"]  ###droping neutral columns"
   ]
  },
  {
   "cell_type": "code",
   "execution_count": 15,
   "id": "8b151edb",
   "metadata": {
    "execution": {
     "iopub.execute_input": "2024-08-20T11:05:44.406548Z",
     "iopub.status.busy": "2024-08-20T11:05:44.406283Z",
     "iopub.status.idle": "2024-08-20T11:05:44.412361Z",
     "shell.execute_reply": "2024-08-20T11:05:44.411511Z"
    },
    "papermill": {
     "duration": 0.028135,
     "end_time": "2024-08-20T11:05:44.414347",
     "exception": false,
     "start_time": "2024-08-20T11:05:44.386212",
     "status": "completed"
    },
    "tags": []
   },
   "outputs": [],
   "source": [
    "from sklearn.preprocessing import LabelEncoder\n",
    "label_encoder = LabelEncoder()\n",
    "label_encoder.fit(df['class'])\n",
    "encoded_labels = label_encoder.transform(df['class'])\n",
    "df['class'] = encoded_labels"
   ]
  },
  {
   "cell_type": "code",
   "execution_count": 16,
   "id": "15498a8f",
   "metadata": {
    "execution": {
     "iopub.execute_input": "2024-08-20T11:05:44.451034Z",
     "iopub.status.busy": "2024-08-20T11:05:44.450384Z",
     "iopub.status.idle": "2024-08-20T11:05:44.458714Z",
     "shell.execute_reply": "2024-08-20T11:05:44.457916Z"
    },
    "papermill": {
     "duration": 0.028541,
     "end_time": "2024-08-20T11:05:44.460833",
     "exception": false,
     "start_time": "2024-08-20T11:05:44.432292",
     "status": "completed"
    },
    "tags": []
   },
   "outputs": [
    {
     "data": {
      "text/html": [
       "<div>\n",
       "<style scoped>\n",
       "    .dataframe tbody tr th:only-of-type {\n",
       "        vertical-align: middle;\n",
       "    }\n",
       "\n",
       "    .dataframe tbody tr th {\n",
       "        vertical-align: top;\n",
       "    }\n",
       "\n",
       "    .dataframe thead th {\n",
       "        text-align: right;\n",
       "    }\n",
       "</style>\n",
       "<table border=\"1\" class=\"dataframe\">\n",
       "  <thead>\n",
       "    <tr style=\"text-align: right;\">\n",
       "      <th></th>\n",
       "      <th>tweet</th>\n",
       "      <th>class</th>\n",
       "    </tr>\n",
       "  </thead>\n",
       "  <tbody>\n",
       "    <tr>\n",
       "      <th>1</th>\n",
       "      <td>Shanghai is also really exciting (precisely --...</td>\n",
       "      <td>1</td>\n",
       "    </tr>\n",
       "    <tr>\n",
       "      <th>2</th>\n",
       "      <td>submit the report ASAP!</td>\n",
       "      <td>0</td>\n",
       "    </tr>\n",
       "    <tr>\n",
       "      <th>3</th>\n",
       "      <td>happy bday!</td>\n",
       "      <td>1</td>\n",
       "    </tr>\n",
       "    <tr>\n",
       "      <th>4</th>\n",
       "      <td>The OGs - I like it!!</td>\n",
       "      <td>1</td>\n",
       "    </tr>\n",
       "    <tr>\n",
       "      <th>5</th>\n",
       "      <td>that`s great!! weee!! visitors!</td>\n",
       "      <td>1</td>\n",
       "    </tr>\n",
       "  </tbody>\n",
       "</table>\n",
       "</div>"
      ],
      "text/plain": [
       "                                               tweet  class\n",
       "1  Shanghai is also really exciting (precisely --...      1\n",
       "2                            submit the report ASAP!      0\n",
       "3                                        happy bday!      1\n",
       "4                              The OGs - I like it!!      1\n",
       "5                    that`s great!! weee!! visitors!      1"
      ]
     },
     "execution_count": 16,
     "metadata": {},
     "output_type": "execute_result"
    }
   ],
   "source": [
    "df.head()"
   ]
  },
  {
   "cell_type": "code",
   "execution_count": 17,
   "id": "cafc1a9d",
   "metadata": {
    "execution": {
     "iopub.execute_input": "2024-08-20T11:05:44.498314Z",
     "iopub.status.busy": "2024-08-20T11:05:44.497773Z",
     "iopub.status.idle": "2024-08-20T11:05:44.505457Z",
     "shell.execute_reply": "2024-08-20T11:05:44.504689Z"
    },
    "papermill": {
     "duration": 0.028779,
     "end_time": "2024-08-20T11:05:44.507383",
     "exception": false,
     "start_time": "2024-08-20T11:05:44.478604",
     "status": "completed"
    },
    "tags": []
   },
   "outputs": [
    {
     "data": {
      "text/plain": [
       "tweet    1\n",
       "class    0\n",
       "dtype: int64"
      ]
     },
     "execution_count": 17,
     "metadata": {},
     "output_type": "execute_result"
    }
   ],
   "source": [
    "df.isnull().sum()"
   ]
  },
  {
   "cell_type": "code",
   "execution_count": 18,
   "id": "7627334d",
   "metadata": {
    "execution": {
     "iopub.execute_input": "2024-08-20T11:05:44.543929Z",
     "iopub.status.busy": "2024-08-20T11:05:44.543679Z",
     "iopub.status.idle": "2024-08-20T11:05:44.548547Z",
     "shell.execute_reply": "2024-08-20T11:05:44.547782Z"
    },
    "papermill": {
     "duration": 0.025604,
     "end_time": "2024-08-20T11:05:44.550694",
     "exception": false,
     "start_time": "2024-08-20T11:05:44.525090",
     "status": "completed"
    },
    "tags": []
   },
   "outputs": [],
   "source": [
    "df=df.fillna('')"
   ]
  },
  {
   "cell_type": "code",
   "execution_count": 19,
   "id": "8fcf8b33",
   "metadata": {
    "execution": {
     "iopub.execute_input": "2024-08-20T11:05:44.627233Z",
     "iopub.status.busy": "2024-08-20T11:05:44.626896Z",
     "iopub.status.idle": "2024-08-20T11:05:44.636268Z",
     "shell.execute_reply": "2024-08-20T11:05:44.635333Z"
    },
    "papermill": {
     "duration": 0.069503,
     "end_time": "2024-08-20T11:05:44.638466",
     "exception": false,
     "start_time": "2024-08-20T11:05:44.568963",
     "status": "completed"
    },
    "tags": []
   },
   "outputs": [
    {
     "data": {
      "text/html": [
       "<div>\n",
       "<style scoped>\n",
       "    .dataframe tbody tr th:only-of-type {\n",
       "        vertical-align: middle;\n",
       "    }\n",
       "\n",
       "    .dataframe tbody tr th {\n",
       "        vertical-align: top;\n",
       "    }\n",
       "\n",
       "    .dataframe thead th {\n",
       "        text-align: right;\n",
       "    }\n",
       "</style>\n",
       "<table border=\"1\" class=\"dataframe\">\n",
       "  <thead>\n",
       "    <tr style=\"text-align: right;\">\n",
       "      <th></th>\n",
       "      <th>tweet</th>\n",
       "      <th>class</th>\n",
       "    </tr>\n",
       "  </thead>\n",
       "  <tbody>\n",
       "    <tr>\n",
       "      <th>1</th>\n",
       "      <td>Shanghai is also really exciting (precisely --...</td>\n",
       "      <td>1</td>\n",
       "    </tr>\n",
       "    <tr>\n",
       "      <th>2</th>\n",
       "      <td>submit the report ASAP!</td>\n",
       "      <td>0</td>\n",
       "    </tr>\n",
       "    <tr>\n",
       "      <th>3</th>\n",
       "      <td>happy bday!</td>\n",
       "      <td>1</td>\n",
       "    </tr>\n",
       "    <tr>\n",
       "      <th>4</th>\n",
       "      <td>The OGs - I like it!!</td>\n",
       "      <td>1</td>\n",
       "    </tr>\n",
       "    <tr>\n",
       "      <th>5</th>\n",
       "      <td>that`s great!! weee!! visitors!</td>\n",
       "      <td>1</td>\n",
       "    </tr>\n",
       "  </tbody>\n",
       "</table>\n",
       "</div>"
      ],
      "text/plain": [
       "                                               tweet  class\n",
       "1  Shanghai is also really exciting (precisely --...      1\n",
       "2                            submit the report ASAP!      0\n",
       "3                                        happy bday!      1\n",
       "4                              The OGs - I like it!!      1\n",
       "5                    that`s great!! weee!! visitors!      1"
      ]
     },
     "execution_count": 19,
     "metadata": {},
     "output_type": "execute_result"
    }
   ],
   "source": [
    "df.head()"
   ]
  },
  {
   "cell_type": "code",
   "execution_count": 20,
   "id": "f30a9d50",
   "metadata": {
    "execution": {
     "iopub.execute_input": "2024-08-20T11:05:44.678544Z",
     "iopub.status.busy": "2024-08-20T11:05:44.678282Z",
     "iopub.status.idle": "2024-08-20T11:05:44.844925Z",
     "shell.execute_reply": "2024-08-20T11:05:44.844182Z"
    },
    "papermill": {
     "duration": 0.189271,
     "end_time": "2024-08-20T11:05:44.847004",
     "exception": false,
     "start_time": "2024-08-20T11:05:44.657733",
     "status": "completed"
    },
    "tags": []
   },
   "outputs": [],
   "source": [
    "import re\n",
    "from bs4 import BeautifulSoup\n",
    "\n",
    "def text_cleaning(text):\n",
    "    text = str(text)\n",
    "    soup = BeautifulSoup(text, \"html.parser\")    ###removing html tages\n",
    "    text = re.sub(r'\\[[^]]*\\]', '', soup.get_text())      ##removing text within square brackets\n",
    "    pattern = r\"[^a-zA-Z0-9\\s,']\"                  # Removing unwanted characters\n",
    "    text = re.sub(pattern, '', text)\n",
    "    url_pattern = r'http\\S+|www\\S+'            ###removing urls\n",
    "    text = re.sub(url_pattern, '', text)\n",
    "    return text"
   ]
  },
  {
   "cell_type": "code",
   "execution_count": 21,
   "id": "259dad3f",
   "metadata": {
    "execution": {
     "iopub.execute_input": "2024-08-20T11:05:44.884457Z",
     "iopub.status.busy": "2024-08-20T11:05:44.884035Z",
     "iopub.status.idle": "2024-08-20T11:05:45.068413Z",
     "shell.execute_reply": "2024-08-20T11:05:45.067709Z"
    },
    "papermill": {
     "duration": 0.205423,
     "end_time": "2024-08-20T11:05:45.070435",
     "exception": false,
     "start_time": "2024-08-20T11:05:44.865012",
     "status": "completed"
    },
    "tags": []
   },
   "outputs": [],
   "source": [
    "df['tweet'] = df['tweet'].apply(text_cleaning).tolist()"
   ]
  },
  {
   "cell_type": "code",
   "execution_count": 22,
   "id": "14daaa25",
   "metadata": {
    "execution": {
     "iopub.execute_input": "2024-08-20T11:05:45.107277Z",
     "iopub.status.busy": "2024-08-20T11:05:45.107002Z",
     "iopub.status.idle": "2024-08-20T11:05:45.115799Z",
     "shell.execute_reply": "2024-08-20T11:05:45.114933Z"
    },
    "papermill": {
     "duration": 0.029443,
     "end_time": "2024-08-20T11:05:45.117905",
     "exception": false,
     "start_time": "2024-08-20T11:05:45.088462",
     "status": "completed"
    },
    "tags": []
   },
   "outputs": [
    {
     "data": {
      "text/html": [
       "<div>\n",
       "<style scoped>\n",
       "    .dataframe tbody tr th:only-of-type {\n",
       "        vertical-align: middle;\n",
       "    }\n",
       "\n",
       "    .dataframe tbody tr th {\n",
       "        vertical-align: top;\n",
       "    }\n",
       "\n",
       "    .dataframe thead th {\n",
       "        text-align: right;\n",
       "    }\n",
       "</style>\n",
       "<table border=\"1\" class=\"dataframe\">\n",
       "  <thead>\n",
       "    <tr style=\"text-align: right;\">\n",
       "      <th></th>\n",
       "      <th>tweet</th>\n",
       "      <th>class</th>\n",
       "    </tr>\n",
       "  </thead>\n",
       "  <tbody>\n",
       "    <tr>\n",
       "      <th>1</th>\n",
       "      <td>Shanghai is also really exciting precisely  sk...</td>\n",
       "      <td>1</td>\n",
       "    </tr>\n",
       "    <tr>\n",
       "      <th>2</th>\n",
       "      <td>submit the report ASAP</td>\n",
       "      <td>0</td>\n",
       "    </tr>\n",
       "    <tr>\n",
       "      <th>3</th>\n",
       "      <td>happy bday</td>\n",
       "      <td>1</td>\n",
       "    </tr>\n",
       "    <tr>\n",
       "      <th>4</th>\n",
       "      <td>The OGs  I like it</td>\n",
       "      <td>1</td>\n",
       "    </tr>\n",
       "    <tr>\n",
       "      <th>5</th>\n",
       "      <td>thats great weee visitors</td>\n",
       "      <td>1</td>\n",
       "    </tr>\n",
       "    <tr>\n",
       "      <th>6</th>\n",
       "      <td>I THINK EVERYONE HATES ME ON HERE lol</td>\n",
       "      <td>0</td>\n",
       "    </tr>\n",
       "    <tr>\n",
       "      <th>7</th>\n",
       "      <td>soooooo wish i could, but im in school and mys...</td>\n",
       "      <td>0</td>\n",
       "    </tr>\n",
       "    <tr>\n",
       "      <th>10</th>\n",
       "      <td>My bike was put on holdshould have known that ...</td>\n",
       "      <td>0</td>\n",
       "    </tr>\n",
       "    <tr>\n",
       "      <th>13</th>\n",
       "      <td>Im in VA for the weekend, my youngest son turn...</td>\n",
       "      <td>0</td>\n",
       "    </tr>\n",
       "    <tr>\n",
       "      <th>14</th>\n",
       "      <td>Its coming out the socket I feel like my phone...</td>\n",
       "      <td>0</td>\n",
       "    </tr>\n",
       "  </tbody>\n",
       "</table>\n",
       "</div>"
      ],
      "text/plain": [
       "                                                tweet  class\n",
       "1   Shanghai is also really exciting precisely  sk...      1\n",
       "2                              submit the report ASAP      0\n",
       "3                                          happy bday      1\n",
       "4                                  The OGs  I like it      1\n",
       "5                           thats great weee visitors      1\n",
       "6               I THINK EVERYONE HATES ME ON HERE lol      0\n",
       "7   soooooo wish i could, but im in school and mys...      0\n",
       "10  My bike was put on holdshould have known that ...      0\n",
       "13  Im in VA for the weekend, my youngest son turn...      0\n",
       "14  Its coming out the socket I feel like my phone...      0"
      ]
     },
     "execution_count": 22,
     "metadata": {},
     "output_type": "execute_result"
    }
   ],
   "source": [
    "df.head(10)"
   ]
  },
  {
   "cell_type": "code",
   "execution_count": 23,
   "id": "d4c374a0",
   "metadata": {
    "execution": {
     "iopub.execute_input": "2024-08-20T11:05:45.155357Z",
     "iopub.status.busy": "2024-08-20T11:05:45.155098Z",
     "iopub.status.idle": "2024-08-20T11:05:45.162066Z",
     "shell.execute_reply": "2024-08-20T11:05:45.161271Z"
    },
    "papermill": {
     "duration": 0.027555,
     "end_time": "2024-08-20T11:05:45.163853",
     "exception": false,
     "start_time": "2024-08-20T11:05:45.136298",
     "status": "completed"
    },
    "tags": []
   },
   "outputs": [],
   "source": [
    "lens=[len(i.split()) for i in df['tweet']]"
   ]
  },
  {
   "cell_type": "code",
   "execution_count": 24,
   "id": "7b63f584",
   "metadata": {
    "execution": {
     "iopub.execute_input": "2024-08-20T11:05:45.200578Z",
     "iopub.status.busy": "2024-08-20T11:05:45.200330Z",
     "iopub.status.idle": "2024-08-20T11:05:45.493302Z",
     "shell.execute_reply": "2024-08-20T11:05:45.492431Z"
    },
    "papermill": {
     "duration": 0.313475,
     "end_time": "2024-08-20T11:05:45.495244",
     "exception": false,
     "start_time": "2024-08-20T11:05:45.181769",
     "status": "completed"
    },
    "tags": []
   },
   "outputs": [
    {
     "data": {
      "text/plain": [
       "(array([135., 493., 641., 585., 429., 438., 237., 174.,  74.,   9.]),\n",
       " array([ 0. ,  3.2,  6.4,  9.6, 12.8, 16. , 19.2, 22.4, 25.6, 28.8, 32. ]),\n",
       " <BarContainer object of 10 artists>)"
      ]
     },
     "execution_count": 24,
     "metadata": {},
     "output_type": "execute_result"
    },
    {
     "data": {
      "image/png": "[encoded data removed]",
      "text/plain": [
       "<Figure size 640x480 with 1 Axes>"
      ]
     },
     "metadata": {},
     "output_type": "display_data"
    }
   ],
   "source": [
    "import matplotlib.pyplot as plt\n",
    "plt.hist(lens)"
   ]
  },
  {
   "cell_type": "code",
   "execution_count": 25,
   "id": "f4fce89f",
   "metadata": {
    "execution": {
     "iopub.execute_input": "2024-08-20T11:05:45.533801Z",
     "iopub.status.busy": "2024-08-20T11:05:45.533487Z",
     "iopub.status.idle": "2024-08-20T11:05:46.419853Z",
     "shell.execute_reply": "2024-08-20T11:05:46.418872Z"
    },
    "papermill": {
     "duration": 0.907902,
     "end_time": "2024-08-20T11:05:46.422054",
     "exception": false,
     "start_time": "2024-08-20T11:05:45.514152",
     "status": "completed"
    },
    "tags": []
   },
   "outputs": [],
   "source": [
    "import torch\n",
    "import torch.nn as nn\n",
    "\n",
    "import transformers\n",
    "from transformers import AutoModel, BertTokenizerFast, AutoModelForSequenceClassification, AutoTokenizer\n",
    "from transformers import AutoModel, AdamW, get_linear_schedule_with_warmup"
   ]
  },
  {
   "cell_type": "code",
   "execution_count": 26,
   "id": "6d081a24",
   "metadata": {
    "execution": {
     "iopub.execute_input": "2024-08-20T11:05:46.461294Z",
     "iopub.status.busy": "2024-08-20T11:05:46.461005Z",
     "iopub.status.idle": "2024-08-20T11:05:46.473149Z",
     "shell.execute_reply": "2024-08-20T11:05:46.472400Z"
    },
    "papermill": {
     "duration": 0.033894,
     "end_time": "2024-08-20T11:05:46.475264",
     "exception": false,
     "start_time": "2024-08-20T11:05:46.441370",
     "status": "completed"
    },
    "tags": []
   },
   "outputs": [],
   "source": [
    "# split into train, validation and test sets in the ration 70 : 15 : 15\n",
    "from sklearn.model_selection import train_test_split\n",
    "\n",
    "train_text, temp_text, train_labels, temp_labels = train_test_split(df['tweet'], df['class'], \n",
    "                                                                    random_state=2021, \n",
    "                                                                    test_size=0.2, \n",
    "                                                                    stratify=df['class'])\n",
    "\n",
    "\n",
    "val_text, test_text, val_labels, test_labels = train_test_split(temp_text, temp_labels, \n",
    "                                                                random_state=2021, \n",
    "                                                                test_size=0.5, \n",
    "                                                                stratify=temp_labels)"
   ]
  },
  {
   "cell_type": "code",
   "execution_count": 27,
   "id": "18c11a97",
   "metadata": {
    "execution": {
     "iopub.execute_input": "2024-08-20T11:05:46.515041Z",
     "iopub.status.busy": "2024-08-20T11:05:46.514767Z",
     "iopub.status.idle": "2024-08-20T11:05:50.246944Z",
     "shell.execute_reply": "2024-08-20T11:05:50.246083Z"
    },
    "papermill": {
     "duration": 3.754127,
     "end_time": "2024-08-20T11:05:50.249366",
     "exception": false,
     "start_time": "2024-08-20T11:05:46.495239",
     "status": "completed"
    },
    "tags": []
   },
   "outputs": [
    {
     "data": {
      "application/vnd.jupyter.widget-view+json": {
       "model_id": "be82175325ce454ebe6c8cc82ad328d8",
       "version_major": 2,
       "version_minor": 0
      },
      "text/plain": [
       "config.json:   0%|          | 0.00/570 [00:00<?, ?B/s]"
      ]
     },
     "metadata": {},
     "output_type": "display_data"
    },
    {
     "data": {
      "application/vnd.jupyter.widget-view+json": {
       "model_id": "b5dfc9f0ee364c90bfdacd916564924a",
       "version_major": 2,
       "version_minor": 0
      },
      "text/plain": [
       "model.safetensors:   0%|          | 0.00/440M [00:00<?, ?B/s]"
      ]
     },
     "metadata": {},
     "output_type": "display_data"
    }
   ],
   "source": [
    "bert = AutoModel.from_pretrained('bert-base-uncased')"
   ]
  },
  {
   "cell_type": "code",
   "execution_count": 28,
   "id": "271c50ce",
   "metadata": {
    "execution": {
     "iopub.execute_input": "2024-08-20T11:05:50.288825Z",
     "iopub.status.busy": "2024-08-20T11:05:50.288379Z",
     "iopub.status.idle": "2024-08-20T11:05:50.973227Z",
     "shell.execute_reply": "2024-08-20T11:05:50.972507Z"
    },
    "papermill": {
     "duration": 0.706715,
     "end_time": "2024-08-20T11:05:50.975298",
     "exception": false,
     "start_time": "2024-08-20T11:05:50.268583",
     "status": "completed"
    },
    "tags": []
   },
   "outputs": [
    {
     "data": {
      "application/vnd.jupyter.widget-view+json": {
       "model_id": "06be4fe8c26c43f39d7532afb2ac716c",
       "version_major": 2,
       "version_minor": 0
      },
      "text/plain": [
       "tokenizer_config.json:   0%|          | 0.00/48.0 [00:00<?, ?B/s]"
      ]
     },
     "metadata": {},
     "output_type": "display_data"
    },
    {
     "data": {
      "application/vnd.jupyter.widget-view+json": {
       "model_id": "f4543c6b5b8e40a49916b736c62f36c3",
       "version_major": 2,
       "version_minor": 0
      },
      "text/plain": [
       "vocab.txt:   0%|          | 0.00/232k [00:00<?, ?B/s]"
      ]
     },
     "metadata": {},
     "output_type": "display_data"
    },
    {
     "data": {
      "application/vnd.jupyter.widget-view+json": {
       "model_id": "44433542dbdb4072ba17deb0a6d23bc5",
       "version_major": 2,
       "version_minor": 0
      },
      "text/plain": [
       "tokenizer.json:   0%|          | 0.00/466k [00:00<?, ?B/s]"
      ]
     },
     "metadata": {},
     "output_type": "display_data"
    }
   ],
   "source": [
    "tokenizer = BertTokenizerFast.from_pretrained('bert-base-uncased')"
   ]
  },
  {
   "cell_type": "code",
   "execution_count": 29,
   "id": "cc7103e4",
   "metadata": {
    "execution": {
     "iopub.execute_input": "2024-08-20T11:05:51.015311Z",
     "iopub.status.busy": "2024-08-20T11:05:51.015032Z",
     "iopub.status.idle": "2024-08-20T11:05:51.274809Z",
     "shell.execute_reply": "2024-08-20T11:05:51.273964Z"
    },
    "papermill": {
     "duration": 0.281687,
     "end_time": "2024-08-20T11:05:51.276708",
     "exception": false,
     "start_time": "2024-08-20T11:05:50.995021",
     "status": "completed"
    },
    "tags": []
   },
   "outputs": [
    {
     "data": {
      "text/plain": [
       "(array([192., 469., 502., 424., 315., 268., 194., 145.,  55.,   8.]),\n",
       " array([ 1. ,  4.1,  7.2, 10.3, 13.4, 16.5, 19.6, 22.7, 25.8, 28.9, 32. ]),\n",
       " <BarContainer object of 10 artists>)"
      ]
     },
     "execution_count": 29,
     "metadata": {},
     "output_type": "execute_result"
    },
    {
     "data": {
      "image/png": "[encoded data removed]",
      "text/plain": [
       "<Figure size 640x480 with 1 Axes>"
      ]
     },
     "metadata": {},
     "output_type": "display_data"
    }
   ],
   "source": [
    "train_lens=[len(i.split()) for i in train_text]\n",
    "plt.hist(train_lens)"
   ]
  },
  {
   "cell_type": "code",
   "execution_count": 30,
   "id": "0137e18b",
   "metadata": {
    "execution": {
     "iopub.execute_input": "2024-08-20T11:05:51.317163Z",
     "iopub.status.busy": "2024-08-20T11:05:51.316889Z",
     "iopub.status.idle": "2024-08-20T11:05:51.331819Z",
     "shell.execute_reply": "2024-08-20T11:05:51.330774Z"
    },
    "papermill": {
     "duration": 0.037423,
     "end_time": "2024-08-20T11:05:51.333788",
     "exception": false,
     "start_time": "2024-08-20T11:05:51.296365",
     "status": "completed"
    },
    "tags": []
   },
   "outputs": [
    {
     "name": "stdout",
     "output_type": "stream",
     "text": [
      "count    3215.000000\n",
      "mean       12.223328\n",
      "std         6.223879\n",
      "min         0.000000\n",
      "25%         7.000000\n",
      "50%        11.000000\n",
      "75%        17.000000\n",
      "max        32.000000\n",
      "Name: tweet, dtype: float64\n"
     ]
    }
   ],
   "source": [
    "import pandas as pd\n",
    "\n",
    "sequence_lengths = df['tweet'].apply(lambda x: len(x.split()))\n",
    "print(sequence_lengths.describe())\n"
   ]
  },
  {
   "cell_type": "code",
   "execution_count": 31,
   "id": "bd2ef16e",
   "metadata": {
    "execution": {
     "iopub.execute_input": "2024-08-20T11:05:51.373933Z",
     "iopub.status.busy": "2024-08-20T11:05:51.373657Z",
     "iopub.status.idle": "2024-08-20T11:05:51.377301Z",
     "shell.execute_reply": "2024-08-20T11:05:51.376500Z"
    },
    "papermill": {
     "duration": 0.025889,
     "end_time": "2024-08-20T11:05:51.379135",
     "exception": false,
     "start_time": "2024-08-20T11:05:51.353246",
     "status": "completed"
    },
    "tags": []
   },
   "outputs": [],
   "source": [
    "pad_len = 128"
   ]
  },
  {
   "cell_type": "markdown",
   "id": "6ad35a4b",
   "metadata": {
    "papermill": {
     "duration": 0.019963,
     "end_time": "2024-08-20T11:05:51.419780",
     "exception": false,
     "start_time": "2024-08-20T11:05:51.399817",
     "status": "completed"
    },
    "tags": []
   },
   "source": [
    "## ENCODING"
   ]
  },
  {
   "cell_type": "code",
   "execution_count": 32,
   "id": "9e298730",
   "metadata": {
    "execution": {
     "iopub.execute_input": "2024-08-20T11:05:51.460542Z",
     "iopub.status.busy": "2024-08-20T11:05:51.460263Z",
     "iopub.status.idle": "2024-08-20T11:05:51.621885Z",
     "shell.execute_reply": "2024-08-20T11:05:51.621088Z"
    },
    "papermill": {
     "duration": 0.184667,
     "end_time": "2024-08-20T11:05:51.624373",
     "exception": false,
     "start_time": "2024-08-20T11:05:51.439706",
     "status": "completed"
    },
    "tags": []
   },
   "outputs": [],
   "source": [
    "# tokenizing and encoding sequences \n",
    "tokens_train = tokenizer.batch_encode_plus(\n",
    "    train_text.tolist(),\n",
    "    max_length = pad_len,\n",
    "    pad_to_max_length=True,\n",
    "    add_special_tokens=True,\n",
    "    truncation=True,\n",
    "    return_token_type_ids=True\n",
    ")\n",
    "\n",
    "tokens_val = tokenizer.batch_encode_plus(\n",
    "    val_text.tolist(),\n",
    "    max_length = pad_len,\n",
    "    pad_to_max_length=True,\n",
    "    add_special_tokens=True,\n",
    "    truncation=True,\n",
    "    return_token_type_ids=True\n",
    ")\n",
    "\n",
    "tokens_test = tokenizer.batch_encode_plus(\n",
    "    test_text.tolist(),\n",
    "    max_length = pad_len,\n",
    "    pad_to_max_length=True,\n",
    "    add_special_tokens=True,\n",
    "    truncation=True,\n",
    "    return_token_type_ids=True\n",
    ")"
   ]
  },
  {
   "cell_type": "code",
   "execution_count": 33,
   "id": "be82a5b3",
   "metadata": {
    "execution": {
     "iopub.execute_input": "2024-08-20T11:05:51.666791Z",
     "iopub.status.busy": "2024-08-20T11:05:51.666438Z",
     "iopub.status.idle": "2024-08-20T11:05:52.060629Z",
     "shell.execute_reply": "2024-08-20T11:05:52.059738Z"
    },
    "papermill": {
     "duration": 0.417348,
     "end_time": "2024-08-20T11:05:52.062522",
     "exception": false,
     "start_time": "2024-08-20T11:05:51.645174",
     "status": "completed"
    },
    "tags": []
   },
   "outputs": [],
   "source": [
    "train_seq = torch.tensor(tokens_train['input_ids'])\n",
    "train_mask = torch.tensor(tokens_train['attention_mask'])\n",
    "train_token_type_ids = torch.tensor(tokens_train[\"token_type_ids\"])\n",
    "train_y = torch.tensor(train_labels.tolist())\n",
    "\n",
    "val_seq = torch.tensor(tokens_val['input_ids'])\n",
    "val_mask = torch.tensor(tokens_val['attention_mask'])\n",
    "val_token_type_ids = torch.tensor(tokens_val[\"token_type_ids\"])\n",
    "val_y = torch.tensor(val_labels.tolist())\n",
    "\n",
    "test_seq = torch.tensor(tokens_test['input_ids'])\n",
    "test_mask = torch.tensor(tokens_test['attention_mask'])\n",
    "test_token_type_ids = torch.tensor(tokens_test[\"token_type_ids\"])\n",
    "test_y = torch.tensor(test_labels.tolist())"
   ]
  },
  {
   "cell_type": "code",
   "execution_count": 34,
   "id": "98a6f243",
   "metadata": {
    "execution": {
     "iopub.execute_input": "2024-08-20T11:05:52.103186Z",
     "iopub.status.busy": "2024-08-20T11:05:52.102925Z",
     "iopub.status.idle": "2024-08-20T11:05:52.108870Z",
     "shell.execute_reply": "2024-08-20T11:05:52.107980Z"
    },
    "papermill": {
     "duration": 0.028241,
     "end_time": "2024-08-20T11:05:52.110808",
     "exception": false,
     "start_time": "2024-08-20T11:05:52.082567",
     "status": "completed"
    },
    "tags": []
   },
   "outputs": [],
   "source": [
    "from torch.utils.data import TensorDataset, DataLoader, RandomSampler, SequentialSampler\n",
    "batch_size = 64  ##batch size can be adjusted or modified\n",
    "train_data = TensorDataset(train_seq, train_mask, train_token_type_ids, train_y)\n",
    "train_sampler = RandomSampler(train_data)\n",
    "train_dataloader = DataLoader(train_data, sampler=train_sampler, batch_size=batch_size)\n",
    "val_data = TensorDataset(val_seq, val_mask, val_token_type_ids, val_y)\n",
    "val_sampler = SequentialSampler(val_data)\n",
    "val_dataloader = DataLoader(val_data, sampler = val_sampler, batch_size=batch_size)"
   ]
  },
  {
   "cell_type": "code",
   "execution_count": 35,
   "id": "59c32c29",
   "metadata": {
    "execution": {
     "iopub.execute_input": "2024-08-20T11:05:52.151757Z",
     "iopub.status.busy": "2024-08-20T11:05:52.151444Z",
     "iopub.status.idle": "2024-08-20T11:05:52.155095Z",
     "shell.execute_reply": "2024-08-20T11:05:52.154389Z"
    },
    "papermill": {
     "duration": 0.025978,
     "end_time": "2024-08-20T11:05:52.156861",
     "exception": false,
     "start_time": "2024-08-20T11:05:52.130883",
     "status": "completed"
    },
    "tags": []
   },
   "outputs": [],
   "source": [
    "# for param in bert.parameters():\n",
    "#     param.requires_grad = False"
   ]
  },
  {
   "cell_type": "code",
   "execution_count": 36,
   "id": "bca4670c",
   "metadata": {
    "execution": {
     "iopub.execute_input": "2024-08-20T11:05:52.197364Z",
     "iopub.status.busy": "2024-08-20T11:05:52.197077Z",
     "iopub.status.idle": "2024-08-20T11:05:52.202483Z",
     "shell.execute_reply": "2024-08-20T11:05:52.201711Z"
    },
    "papermill": {
     "duration": 0.027872,
     "end_time": "2024-08-20T11:05:52.204249",
     "exception": false,
     "start_time": "2024-08-20T11:05:52.176377",
     "status": "completed"
    },
    "tags": []
   },
   "outputs": [],
   "source": [
    "for name, param in bert.named_parameters():\n",
    "    if \"layer.11\" in name or \"layer.10\" in name:  # Fine-tune last two layers\n",
    "        param.requires_grad = True\n",
    "    else:\n",
    "        param.requires_grad = False"
   ]
  },
  {
   "cell_type": "markdown",
   "id": "b1673816",
   "metadata": {
    "papermill": {
     "duration": 0.019336,
     "end_time": "2024-08-20T11:05:52.243090",
     "exception": false,
     "start_time": "2024-08-20T11:05:52.223754",
     "status": "completed"
    },
    "tags": []
   },
   "source": [
    "# MODEL"
   ]
  },
  {
   "cell_type": "code",
   "execution_count": 37,
   "id": "054d88bf",
   "metadata": {
    "execution": {
     "iopub.execute_input": "2024-08-20T11:05:52.284705Z",
     "iopub.status.busy": "2024-08-20T11:05:52.284403Z",
     "iopub.status.idle": "2024-08-20T11:05:52.295201Z",
     "shell.execute_reply": "2024-08-20T11:05:52.294521Z"
    },
    "papermill": {
     "duration": 0.033009,
     "end_time": "2024-08-20T11:05:52.297119",
     "exception": false,
     "start_time": "2024-08-20T11:05:52.264110",
     "status": "completed"
    },
    "tags": []
   },
   "outputs": [],
   "source": [
    "import torch.nn as nn\n",
    "\n",
    "##model building\n",
    "class SentimentClassifier(nn.Module):\n",
    "     \n",
    "    def __init__(self, n_classes):\n",
    "        super(SentimentClassifier, self).__init__()\n",
    "        self.bert = BertModel.from_pretrained(MODEL_NAME)\n",
    "        self.drop = nn.Dropout(p=0.3)\n",
    "        self.out = nn.Linear(self.bert.config.hidden_size, n_classes)\n",
    "    \n",
    "    # Forward propagaion\n",
    "    def forward(self, input_ids, attention_mask, token_type_ids):\n",
    "        _, pooled_output = self.bert(\n",
    "          input_ids=input_ids,\n",
    "          attention_mask=attention_mask,\n",
    "            token_type_ids=token_type_ids\n",
    "        ) \n",
    "        output = self.drop(pooled_output)  ##drop out layer\n",
    "        return self.out(output)\n",
    "\n",
    "    \n",
    "class BERT_architecture(nn.Module):\n",
    "\n",
    "    def __init__(self, bert):\n",
    "        super(BERT_architecture, self).__init__()\n",
    "        self.bert = bert\n",
    "        \n",
    "        self.dropout = nn.Dropout(0.3)  # Increased dropout for regularization\n",
    "        self.layer_norm = nn.LayerNorm(768)  # Layer normalization\n",
    "        \n",
    "        self.fc1 = nn.Linear(768, 256)  # Dense layer\n",
    "        self.fc2 = nn.Linear(256, 2)  # Output layer with 2 classes\n",
    "        \n",
    "        self.relu = nn.ReLU()\n",
    "        self.softmax = nn.LogSoftmax(dim=1)\n",
    "\n",
    "    def forward(self, sent_id, mask, token_type_ids):\n",
    "        _, cls_hs = self.bert(sent_id, attention_mask=mask, token_type_ids=token_type_ids, return_dict=False)\n",
    "        x = self.layer_norm(cls_hs)\n",
    "        x = self.fc1(x)\n",
    "        x = self.relu(x)\n",
    "        x = self.dropout(x)\n",
    "        x = self.fc2(x)\n",
    "        x = self.softmax(x)\n",
    "        return x"
   ]
  },
  {
   "cell_type": "code",
   "execution_count": 38,
   "id": "be4d4787",
   "metadata": {
    "execution": {
     "iopub.execute_input": "2024-08-20T11:05:52.337935Z",
     "iopub.status.busy": "2024-08-20T11:05:52.337676Z",
     "iopub.status.idle": "2024-08-20T11:05:52.347242Z",
     "shell.execute_reply": "2024-08-20T11:05:52.346358Z"
    },
    "papermill": {
     "duration": 0.031802,
     "end_time": "2024-08-20T11:05:52.349236",
     "exception": false,
     "start_time": "2024-08-20T11:05:52.317434",
     "status": "completed"
    },
    "tags": []
   },
   "outputs": [],
   "source": [
    "model = BERT_architecture(bert)"
   ]
  },
  {
   "cell_type": "code",
   "execution_count": 39,
   "id": "299139bb",
   "metadata": {
    "execution": {
     "iopub.execute_input": "2024-08-20T11:05:52.389506Z",
     "iopub.status.busy": "2024-08-20T11:05:52.389257Z",
     "iopub.status.idle": "2024-08-20T11:05:52.689618Z",
     "shell.execute_reply": "2024-08-20T11:05:52.688737Z"
    },
    "papermill": {
     "duration": 0.322954,
     "end_time": "2024-08-20T11:05:52.691608",
     "exception": false,
     "start_time": "2024-08-20T11:05:52.368654",
     "status": "completed"
    },
    "tags": []
   },
   "outputs": [
    {
     "data": {
      "text/plain": [
       "BERT_architecture(\n",
       "  (bert): BertModel(\n",
       "    (embeddings): BertEmbeddings(\n",
       "      (word_embeddings): Embedding(30522, 768, padding_idx=0)\n",
       "      (position_embeddings): Embedding(512, 768)\n",
       "      (token_type_embeddings): Embedding(2, 768)\n",
       "      (LayerNorm): LayerNorm((768,), eps=1e-12, elementwise_affine=True)\n",
       "      (dropout): Dropout(p=0.1, inplace=False)\n",
       "    )\n",
       "    (encoder): BertEncoder(\n",
       "      (layer): ModuleList(\n",
       "        (0-11): 12 x BertLayer(\n",
       "          (attention): BertAttention(\n",
       "            (self): BertSdpaSelfAttention(\n",
       "              (query): Linear(in_features=768, out_features=768, bias=True)\n",
       "              (key): Linear(in_features=768, out_features=768, bias=True)\n",
       "              (value): Linear(in_features=768, out_features=768, bias=True)\n",
       "              (dropout): Dropout(p=0.1, inplace=False)\n",
       "            )\n",
       "            (output): BertSelfOutput(\n",
       "              (dense): Linear(in_features=768, out_features=768, bias=True)\n",
       "              (LayerNorm): LayerNorm((768,), eps=1e-12, elementwise_affine=True)\n",
       "              (dropout): Dropout(p=0.1, inplace=False)\n",
       "            )\n",
       "          )\n",
       "          (intermediate): BertIntermediate(\n",
       "            (dense): Linear(in_features=768, out_features=3072, bias=True)\n",
       "            (intermediate_act_fn): GELUActivation()\n",
       "          )\n",
       "          (output): BertOutput(\n",
       "            (dense): Linear(in_features=3072, out_features=768, bias=True)\n",
       "            (LayerNorm): LayerNorm((768,), eps=1e-12, elementwise_affine=True)\n",
       "            (dropout): Dropout(p=0.1, inplace=False)\n",
       "          )\n",
       "        )\n",
       "      )\n",
       "    )\n",
       "    (pooler): BertPooler(\n",
       "      (dense): Linear(in_features=768, out_features=768, bias=True)\n",
       "      (activation): Tanh()\n",
       "    )\n",
       "  )\n",
       "  (dropout): Dropout(p=0.3, inplace=False)\n",
       "  (layer_norm): LayerNorm((768,), eps=1e-05, elementwise_affine=True)\n",
       "  (fc1): Linear(in_features=768, out_features=256, bias=True)\n",
       "  (fc2): Linear(in_features=256, out_features=2, bias=True)\n",
       "  (relu): ReLU()\n",
       "  (softmax): LogSoftmax(dim=1)\n",
       ")"
      ]
     },
     "execution_count": 39,
     "metadata": {},
     "output_type": "execute_result"
    }
   ],
   "source": [
    "test_seq = test_seq.to(device)\n",
    "test_mask = test_mask.to(device)\n",
    "test_token_type_ids = test_token_type_ids.to(device)\n",
    "model.to(device)"
   ]
  },
  {
   "cell_type": "code",
   "execution_count": 40,
   "id": "cf5d9bb2",
   "metadata": {
    "execution": {
     "iopub.execute_input": "2024-08-20T11:05:52.733559Z",
     "iopub.status.busy": "2024-08-20T11:05:52.732888Z",
     "iopub.status.idle": "2024-08-20T11:05:53.291250Z",
     "shell.execute_reply": "2024-08-20T11:05:53.290321Z"
    },
    "papermill": {
     "duration": 0.581531,
     "end_time": "2024-08-20T11:05:53.293439",
     "exception": false,
     "start_time": "2024-08-20T11:05:52.711908",
     "status": "completed"
    },
    "tags": []
   },
   "outputs": [],
   "source": [
    "from transformers import AdamW\n",
    "# optimizer = AdamW(model.parameters(),lr = 1e-3)  ## learning rate needs to be adjusted.\n",
    "optimizer = AdamW(model.parameters(), lr=1e-5, eps=1e-8, weight_decay=0.01)"
   ]
  },
  {
   "cell_type": "code",
   "execution_count": 41,
   "id": "f96dc9ed",
   "metadata": {
    "execution": {
     "iopub.execute_input": "2024-08-20T11:05:53.338494Z",
     "iopub.status.busy": "2024-08-20T11:05:53.338007Z",
     "iopub.status.idle": "2024-08-20T11:05:53.350044Z",
     "shell.execute_reply": "2024-08-20T11:05:53.349094Z"
    },
    "papermill": {
     "duration": 0.038529,
     "end_time": "2024-08-20T11:05:53.352279",
     "exception": false,
     "start_time": "2024-08-20T11:05:53.313750",
     "status": "completed"
    },
    "tags": []
   },
   "outputs": [
    {
     "name": "stdout",
     "output_type": "stream",
     "text": [
      "Class weights are [1.02225755 0.97869102] for [0 1]\n"
     ]
    }
   ],
   "source": [
    "from sklearn.utils.class_weight import compute_class_weight\n",
    "import torch\n",
    "import torch.nn as nn\n",
    "\n",
    "# Compute the class weights for three classes\n",
    "class_weights = compute_class_weight(class_weight=\"balanced\",\n",
    "                                     classes=np.unique(train_labels),\n",
    "                                     y=train_labels)\n",
    "print(\"Class weights are {} for {}\".format(class_weights, np.unique(train_labels)))"
   ]
  },
  {
   "cell_type": "code",
   "execution_count": 42,
   "id": "312e4612",
   "metadata": {
    "execution": {
     "iopub.execute_input": "2024-08-20T11:05:53.407796Z",
     "iopub.status.busy": "2024-08-20T11:05:53.407206Z",
     "iopub.status.idle": "2024-08-20T11:05:53.416143Z",
     "shell.execute_reply": "2024-08-20T11:05:53.415301Z"
    },
    "papermill": {
     "duration": 0.037716,
     "end_time": "2024-08-20T11:05:53.418193",
     "exception": false,
     "start_time": "2024-08-20T11:05:53.380477",
     "status": "completed"
    },
    "tags": []
   },
   "outputs": [
    {
     "data": {
      "text/plain": [
       "class\n",
       "1    1314\n",
       "0    1258\n",
       "Name: count, dtype: int64"
      ]
     },
     "execution_count": 42,
     "metadata": {},
     "output_type": "execute_result"
    }
   ],
   "source": [
    "pd.value_counts(train_labels)"
   ]
  },
  {
   "cell_type": "code",
   "execution_count": 43,
   "id": "99773762",
   "metadata": {
    "execution": {
     "iopub.execute_input": "2024-08-20T11:05:53.460282Z",
     "iopub.status.busy": "2024-08-20T11:05:53.460039Z",
     "iopub.status.idle": "2024-08-20T11:05:53.463848Z",
     "shell.execute_reply": "2024-08-20T11:05:53.463022Z"
    },
    "papermill": {
     "duration": 0.026342,
     "end_time": "2024-08-20T11:05:53.465621",
     "exception": false,
     "start_time": "2024-08-20T11:05:53.439279",
     "status": "completed"
    },
    "tags": []
   },
   "outputs": [],
   "source": [
    "# weights = torch.tensor(class_weights, dtype=torch.float)\n",
    "\n",
    "# weights = weights.to(device)\n",
    "# cross_entropy = nn.CrossEntropyLoss()\n",
    "\n",
    "epochs = 12 ##increase the no of epochs for better accuracy \n"
   ]
  },
  {
   "cell_type": "markdown",
   "id": "2e74e374",
   "metadata": {
    "papermill": {
     "duration": 0.019904,
     "end_time": "2024-08-20T11:05:53.505587",
     "exception": false,
     "start_time": "2024-08-20T11:05:53.485683",
     "status": "completed"
    },
    "tags": []
   },
   "source": [
    "## HYPERPARAMS SETUP"
   ]
  },
  {
   "cell_type": "code",
   "execution_count": 44,
   "id": "a6455265",
   "metadata": {
    "execution": {
     "iopub.execute_input": "2024-08-20T11:05:53.546883Z",
     "iopub.status.busy": "2024-08-20T11:05:53.546585Z",
     "iopub.status.idle": "2024-08-20T11:05:53.553818Z",
     "shell.execute_reply": "2024-08-20T11:05:53.553112Z"
    },
    "papermill": {
     "duration": 0.02974,
     "end_time": "2024-08-20T11:05:53.555629",
     "exception": false,
     "start_time": "2024-08-20T11:05:53.525889",
     "status": "completed"
    },
    "tags": []
   },
   "outputs": [],
   "source": [
    "total_steps = len(train_dataloader) * epochs\n",
    "\n",
    "scheduler = get_linear_schedule_with_warmup(optimizer, num_warmup_steps=0, num_training_steps=total_steps)\n",
    "\n",
    "# Loss function\n",
    "weights = torch.tensor(class_weights, dtype=torch.float).to(device)\n",
    "cross_entropy = nn.CrossEntropyLoss(weight=weights)"
   ]
  },
  {
   "cell_type": "code",
   "execution_count": 45,
   "id": "14349197",
   "metadata": {
    "execution": {
     "iopub.execute_input": "2024-08-20T11:05:53.605861Z",
     "iopub.status.busy": "2024-08-20T11:05:53.604957Z",
     "iopub.status.idle": "2024-08-20T11:05:53.610238Z",
     "shell.execute_reply": "2024-08-20T11:05:53.609196Z"
    },
    "papermill": {
     "duration": 0.037322,
     "end_time": "2024-08-20T11:05:53.613327",
     "exception": false,
     "start_time": "2024-08-20T11:05:53.576005",
     "status": "completed"
    },
    "tags": []
   },
   "outputs": [],
   "source": [
    "from torch.cuda.amp import GradScaler, autocast"
   ]
  },
  {
   "cell_type": "markdown",
   "id": "4ed0c5f5",
   "metadata": {
    "papermill": {
     "duration": 0.024724,
     "end_time": "2024-08-20T11:05:53.668650",
     "exception": false,
     "start_time": "2024-08-20T11:05:53.643926",
     "status": "completed"
    },
    "tags": []
   },
   "source": [
    "## EARLY STOPPING SETUP"
   ]
  },
  {
   "cell_type": "code",
   "execution_count": 46,
   "id": "53dd292f",
   "metadata": {
    "execution": {
     "iopub.execute_input": "2024-08-20T11:05:53.726859Z",
     "iopub.status.busy": "2024-08-20T11:05:53.726483Z",
     "iopub.status.idle": "2024-08-20T11:05:53.733679Z",
     "shell.execute_reply": "2024-08-20T11:05:53.732537Z"
    },
    "papermill": {
     "duration": 0.038419,
     "end_time": "2024-08-20T11:05:53.735822",
     "exception": false,
     "start_time": "2024-08-20T11:05:53.697403",
     "status": "completed"
    },
    "tags": []
   },
   "outputs": [],
   "source": [
    "class EarlyStopping:\n",
    "    def __init__(self, patience, delta=0):  # Increased patience\n",
    "        self.patience = patience\n",
    "        self.delta = delta\n",
    "        self.best_loss = float('inf')\n",
    "        self.counter = 0\n",
    "        self.early_stop = False\n",
    "\n",
    "    def __call__(self, valid_loss):\n",
    "        if valid_loss < self.best_loss - self.delta:\n",
    "            self.best_loss = valid_loss\n",
    "            self.counter = 0\n",
    "        else:\n",
    "            self.counter += 1\n",
    "            if self.counter >= self.patience:\n",
    "                self.early_stop = True"
   ]
  },
  {
   "cell_type": "code",
   "execution_count": 47,
   "id": "373045d9",
   "metadata": {
    "execution": {
     "iopub.execute_input": "2024-08-20T11:05:53.784144Z",
     "iopub.status.busy": "2024-08-20T11:05:53.783830Z",
     "iopub.status.idle": "2024-08-20T11:05:53.787887Z",
     "shell.execute_reply": "2024-08-20T11:05:53.787001Z"
    },
    "papermill": {
     "duration": 0.028636,
     "end_time": "2024-08-20T11:05:53.789827",
     "exception": false,
     "start_time": "2024-08-20T11:05:53.761191",
     "status": "completed"
    },
    "tags": []
   },
   "outputs": [],
   "source": [
    "early_stopping = EarlyStopping(patience=3)"
   ]
  },
  {
   "cell_type": "code",
   "execution_count": 48,
   "id": "2b349af0",
   "metadata": {
    "execution": {
     "iopub.execute_input": "2024-08-20T11:05:53.833430Z",
     "iopub.status.busy": "2024-08-20T11:05:53.833152Z",
     "iopub.status.idle": "2024-08-20T11:05:53.837275Z",
     "shell.execute_reply": "2024-08-20T11:05:53.836424Z"
    },
    "papermill": {
     "duration": 0.028348,
     "end_time": "2024-08-20T11:05:53.839165",
     "exception": false,
     "start_time": "2024-08-20T11:05:53.810817",
     "status": "completed"
    },
    "tags": []
   },
   "outputs": [],
   "source": [
    "# Gradient Scaler\n",
    "scaler = GradScaler()"
   ]
  },
  {
   "cell_type": "markdown",
   "id": "ee97205e",
   "metadata": {
    "papermill": {
     "duration": 0.020682,
     "end_time": "2024-08-20T11:05:53.880741",
     "exception": false,
     "start_time": "2024-08-20T11:05:53.860059",
     "status": "completed"
    },
    "tags": []
   },
   "source": [
    "## FUNCTIONS"
   ]
  },
  {
   "cell_type": "code",
   "execution_count": 49,
   "id": "a9e13988",
   "metadata": {
    "execution": {
     "iopub.execute_input": "2024-08-20T11:05:53.923878Z",
     "iopub.status.busy": "2024-08-20T11:05:53.923540Z",
     "iopub.status.idle": "2024-08-20T11:05:53.933413Z",
     "shell.execute_reply": "2024-08-20T11:05:53.932719Z"
    },
    "papermill": {
     "duration": 0.033613,
     "end_time": "2024-08-20T11:05:53.935240",
     "exception": false,
     "start_time": "2024-08-20T11:05:53.901627",
     "status": "completed"
    },
    "tags": []
   },
   "outputs": [],
   "source": [
    "def train():\n",
    "    model.train()\n",
    "    total_loss, total_accuracy = 0, 0\n",
    "    total_preds, total_labels = [], []\n",
    "\n",
    "    for step, batch in enumerate(train_dataloader, 0):\n",
    "        batch = [r.to(device) for r in batch]\n",
    "        sent_id, mask, token_type_ids, labels = batch\n",
    "\n",
    "        optimizer.zero_grad()\n",
    "        \n",
    "        with autocast():\n",
    "            preds = model(sent_id, mask, token_type_ids)\n",
    "            loss = cross_entropy(preds, labels)\n",
    "        \n",
    "        scaler.scale(loss).backward()\n",
    "        scaler.unscale_(optimizer)\n",
    "        torch.nn.utils.clip_grad_norm_(model.parameters(), 1.0)\n",
    "        scaler.step(optimizer)\n",
    "        scaler.update()\n",
    "        scheduler.step()\n",
    "\n",
    "        preds = preds.detach().cpu().numpy()\n",
    "        total_preds.append(preds)\n",
    "        total_labels.append(labels.detach().cpu().numpy())\n",
    "\n",
    "    avg_loss = total_loss / len(train_dataloader)\n",
    "    total_preds = np.concatenate(total_preds, axis=0)\n",
    "    total_labels = np.concatenate(total_labels, axis=0)\n",
    "    return avg_loss, total_preds, total_labels"
   ]
  },
  {
   "cell_type": "code",
   "execution_count": 50,
   "id": "ae8ab93d",
   "metadata": {
    "execution": {
     "iopub.execute_input": "2024-08-20T11:05:53.980145Z",
     "iopub.status.busy": "2024-08-20T11:05:53.979866Z",
     "iopub.status.idle": "2024-08-20T11:05:53.985468Z",
     "shell.execute_reply": "2024-08-20T11:05:53.984551Z"
    },
    "jupyter": {
     "source_hidden": true
    },
    "papermill": {
     "duration": 0.030442,
     "end_time": "2024-08-20T11:05:53.987486",
     "exception": false,
     "start_time": "2024-08-20T11:05:53.957044",
     "status": "completed"
    },
    "tags": []
   },
   "outputs": [],
   "source": [
    "# def train():\n",
    "#     model.train()\n",
    "#     total_loss, total_accuracy = 0, 0\n",
    "#     total_preds, total_labels = [], []\n",
    "\n",
    "#     for step, batch in enumerate(train_dataloader, 0):\n",
    "#         batch = [r.to(device) for r in batch]\n",
    "#         sent_id, mask, token_type_ids, labels = batch\n",
    "\n",
    "#         model.zero_grad()\n",
    "#         preds = model(sent_id, mask, token_type_ids)\n",
    "#         loss = cross_entropy(preds, labels)\n",
    "#         total_loss = total_loss + loss.item()\n",
    "#         loss.backward()\n",
    "#         torch.nn.utils.clip_grad_norm_(model.parameters(), 1.0)\n",
    "#         optimizer.step()\n",
    "#         scheduler.step()\n",
    "\n",
    "#         preds = preds.detach().cpu().numpy()\n",
    "#         total_preds.append(preds)\n",
    "#         total_labels.append(labels.detach().cpu().numpy())\n",
    "\n",
    "#     avg_loss = total_loss / len(train_dataloader)\n",
    "#     total_preds = np.concatenate(total_preds, axis=0)\n",
    "#     total_labels = np.concatenate(total_labels, axis=0)\n",
    "#     return avg_loss, total_preds, total_labels"
   ]
  },
  {
   "cell_type": "code",
   "execution_count": 51,
   "id": "a083eac7",
   "metadata": {
    "execution": {
     "iopub.execute_input": "2024-08-20T11:05:54.030243Z",
     "iopub.status.busy": "2024-08-20T11:05:54.029524Z",
     "iopub.status.idle": "2024-08-20T11:05:54.037338Z",
     "shell.execute_reply": "2024-08-20T11:05:54.036463Z"
    },
    "papermill": {
     "duration": 0.031253,
     "end_time": "2024-08-20T11:05:54.039278",
     "exception": false,
     "start_time": "2024-08-20T11:05:54.008025",
     "status": "completed"
    },
    "tags": []
   },
   "outputs": [],
   "source": [
    "def evaluate():\n",
    "    model.eval()\n",
    "    total_loss, total_accuracy = 0, 0\n",
    "    total_preds, total_labels = [], []\n",
    "\n",
    "    for step, batch in enumerate(val_dataloader):\n",
    "        batch = [t.to(device) for t in batch]\n",
    "        sent_id, mask, token_type_ids, labels = batch\n",
    "\n",
    "        with torch.no_grad(), autocast():\n",
    "            preds = model(sent_id, mask, token_type_ids)\n",
    "            loss = cross_entropy(preds, labels)\n",
    "        \n",
    "        total_loss += loss.item()\n",
    "        preds = preds.detach().cpu().numpy()\n",
    "        total_preds.append(preds)\n",
    "        total_labels.append(labels.detach().cpu().numpy())\n",
    "\n",
    "    avg_loss = total_loss / len(val_dataloader)\n",
    "    total_preds = np.concatenate(total_preds, axis=0)\n",
    "    total_labels = np.concatenate(total_labels, axis=0)\n",
    "    return avg_loss, total_preds, total_labels"
   ]
  },
  {
   "cell_type": "code",
   "execution_count": 52,
   "id": "20ffd098",
   "metadata": {
    "execution": {
     "iopub.execute_input": "2024-08-20T11:05:54.081541Z",
     "iopub.status.busy": "2024-08-20T11:05:54.081231Z",
     "iopub.status.idle": "2024-08-20T11:05:54.086556Z",
     "shell.execute_reply": "2024-08-20T11:05:54.085671Z"
    },
    "jupyter": {
     "source_hidden": true
    },
    "papermill": {
     "duration": 0.02867,
     "end_time": "2024-08-20T11:05:54.088735",
     "exception": false,
     "start_time": "2024-08-20T11:05:54.060065",
     "status": "completed"
    },
    "tags": []
   },
   "outputs": [],
   "source": [
    "# def evaluate():\n",
    "#     model.eval()\n",
    "#     total_loss, total_accuracy = 0, 0\n",
    "#     total_preds, total_labels = [], []\n",
    "\n",
    "#     for step, batch in enumerate(val_dataloader):\n",
    "#         batch = [t.to(device) for t in batch]\n",
    "#         sent_id, mask, token_type_ids, labels = batch\n",
    "\n",
    "#         with torch.no_grad():\n",
    "#             preds = model(sent_id, mask, token_type_ids)\n",
    "#             loss = cross_entropy(preds, labels)\n",
    "#             total_loss = total_loss + loss.item()\n",
    "#             preds = preds.detach().cpu().numpy()\n",
    "#             total_preds.append(preds)\n",
    "#             total_labels.append(labels.detach().cpu().numpy())\n",
    "\n",
    "#     avg_loss = total_loss / len(val_dataloader)\n",
    "#     total_preds = np.concatenate(total_preds, axis=0)\n",
    "#     total_labels = np.concatenate(total_labels, axis=0)\n",
    "#     return avg_loss, total_preds, total_labels\n"
   ]
  },
  {
   "cell_type": "code",
   "execution_count": 53,
   "id": "439667f5",
   "metadata": {
    "execution": {
     "iopub.execute_input": "2024-08-20T11:05:54.138070Z",
     "iopub.status.busy": "2024-08-20T11:05:54.137545Z",
     "iopub.status.idle": "2024-08-20T11:05:54.143406Z",
     "shell.execute_reply": "2024-08-20T11:05:54.142417Z"
    },
    "papermill": {
     "duration": 0.033056,
     "end_time": "2024-08-20T11:05:54.145508",
     "exception": false,
     "start_time": "2024-08-20T11:05:54.112452",
     "status": "completed"
    },
    "tags": []
   },
   "outputs": [],
   "source": [
    "def calculate_accuracy(preds, labels):\n",
    "    preds_flat = np.argmax(preds, axis=1).flatten()\n",
    "    labels_flat = labels.flatten()\n",
    "    accuracy = np.sum(preds_flat == labels_flat) / len(labels_flat)\n",
    "    return accuracy"
   ]
  },
  {
   "cell_type": "code",
   "execution_count": 54,
   "id": "4e6aa195",
   "metadata": {
    "execution": {
     "iopub.execute_input": "2024-08-20T11:05:54.195251Z",
     "iopub.status.busy": "2024-08-20T11:05:54.194940Z",
     "iopub.status.idle": "2024-08-20T11:05:54.201429Z",
     "shell.execute_reply": "2024-08-20T11:05:54.200464Z"
    },
    "jupyter": {
     "source_hidden": true
    },
    "papermill": {
     "duration": 0.033885,
     "end_time": "2024-08-20T11:05:54.203792",
     "exception": false,
     "start_time": "2024-08-20T11:05:54.169907",
     "status": "completed"
    },
    "tags": []
   },
   "outputs": [],
   "source": [
    "# def train():\n",
    "#     model.train()\n",
    "#     total_loss, total_accuracy = 0, 0\n",
    "#     total_preds, total_labels = [], []\n",
    "\n",
    "#     for step, batch in enumerate(train_dataloader, 0):\n",
    "#         if step % 50 == 0 and not step == 0:\n",
    "#             print('  Batch {:>5,}  of  {:>5,}.'.format(step, len(train_dataloader)))\n",
    "\n",
    "# #         sent_id = batch[:,0].to(device, dtype = torch.long)\n",
    "# #         mask = data[:,1].to(device, dtype = torch.long)\n",
    "# #         token_type_ids = data[:,2].to(device, dtype = torch.long)\n",
    "# #         labels = data[:,3].to(device, dtype = torch.float)\n",
    "        \n",
    "# #         token_type_ids = batch['token_type_ids'].to(device)\n",
    "#         batch = [r.to(device) for r in batch]\n",
    "#         sent_id, mask, token_type_ids, labels = batch\n",
    "\n",
    "#         model.zero_grad()\n",
    "#         preds = model(sent_id, mask, token_type_ids)\n",
    "#         loss = cross_entropy(preds, labels)\n",
    "#         total_loss = total_loss + loss.item()\n",
    "#         loss.backward()\n",
    "#         torch.nn.utils.clip_grad_norm_(model.parameters(), 1.0)\n",
    "#         optimizer.step()\n",
    "\n",
    "#         preds = preds.detach().cpu().numpy()\n",
    "#         total_preds.append(preds)\n",
    "#         total_labels.append(labels.detach().cpu().numpy())\n",
    "\n",
    "#     avg_loss = total_loss / len(train_dataloader)\n",
    "#     total_preds = np.concatenate(total_preds, axis=0)\n",
    "#     total_labels = np.concatenate(total_labels, axis=0)\n",
    "#     return avg_loss, total_preds, total_labels\n",
    "\n",
    "# def evaluate():\n",
    "#     print(\"\\nEvaluating after the test: \")\n",
    "#     model.eval()\n",
    "#     total_loss, total_accuracy = 0, 0\n",
    "#     total_preds, total_labels = [], []\n",
    "\n",
    "#     for step, batch in enumerate(val_dataloader):\n",
    "#         if step % 50 == 0 and not step == 0:\n",
    "#             print('  Batch {:>5,}  of  {:>5,}.'.format(step, len(val_dataloader)))\n",
    "            \n",
    "# #         sent_id = batch[:,0].to(device, dtype = torch.long)\n",
    "# #         mask = data[:,1].to(device, dtype = torch.long)\n",
    "# #         token_type_ids = data[:,2].to(device, dtype = torch.long)\n",
    "# #         labels = data[:,3].to(device, dtype = torch.float)\n",
    "\n",
    "# #         token_type_ids = batch['token_type_ids'].to(device)\n",
    "#         batch = [t.to(device) for t in batch]\n",
    "#         sent_id, mask, token_type_ids, labels = batch\n",
    "\n",
    "#         with torch.no_grad():\n",
    "#             preds = model(sent_id, mask, token_type_ids)\n",
    "#             loss = cross_entropy(preds, labels)\n",
    "#             total_loss = total_loss + loss.item()\n",
    "#             preds = preds.detach().cpu().numpy()\n",
    "#             total_preds.append(preds)\n",
    "#             total_labels.append(labels.detach().cpu().numpy())\n",
    "\n",
    "#     avg_loss = total_loss / len(val_dataloader)\n",
    "#     total_preds = np.concatenate(total_preds, axis=0)\n",
    "#     total_labels = np.concatenate(total_labels, axis=0)\n",
    "#     return avg_loss, total_preds, total_labels\n",
    "\n",
    "# def calculate_accuracy(preds, labels):\n",
    "\n",
    "#     preds_flat = np.argmax(preds, axis=1).flatten()\n",
    "#     labels_flat = labels.flatten()\n",
    "#     accuracy = np.sum(preds_flat == labels_flat) / len(labels_flat)\n",
    "#     return accuracy\n"
   ]
  },
  {
   "cell_type": "code",
   "execution_count": 55,
   "id": "1932dcf9",
   "metadata": {
    "execution": {
     "iopub.execute_input": "2024-08-20T11:05:54.269016Z",
     "iopub.status.busy": "2024-08-20T11:05:54.268656Z",
     "iopub.status.idle": "2024-08-20T11:05:54.273478Z",
     "shell.execute_reply": "2024-08-20T11:05:54.272607Z"
    },
    "jupyter": {
     "source_hidden": true
    },
    "papermill": {
     "duration": 0.035913,
     "end_time": "2024-08-20T11:05:54.275479",
     "exception": false,
     "start_time": "2024-08-20T11:05:54.239566",
     "status": "completed"
    },
    "tags": []
   },
   "outputs": [],
   "source": [
    "# best_valid_loss = float('inf')\n",
    "# train_losses = []\n",
    "# valid_losses = []\n",
    "# train_accuracies = []\n",
    "# valid_accuracies = []\n",
    "\n",
    "# for epoch in range(epochs):\n",
    "#     print('\\n Epoch {:} / {:}'.format(epoch + 1, epochs))\n",
    "    \n",
    "#     train_loss, train_preds, train_labels = train()\n",
    "#     valid_loss, valid_preds, valid_labels = evaluate()\n",
    "#     train_accuracy = calculate_accuracy(train_preds, train_labels)\n",
    "#     valid_accuracy = calculate_accuracy(valid_preds, valid_labels)\n",
    "\n",
    "#     if valid_loss < best_valid_loss:\n",
    "#         best_valid_loss = valid_loss\n",
    "#         torch.save(model.state_dict(), 'saved_weights.pt')\n",
    "    \n",
    "#     train_losses.append(train_loss)\n",
    "#     valid_losses.append(valid_loss)\n",
    "#     train_accuracies.append(train_accuracy)\n",
    "#     valid_accuracies.append(valid_accuracy)\n",
    "    \n",
    "#     print('\\nTraining Loss: {}'.format(train_loss))\n",
    "#     print('Validation Loss: {}'.format(valid_loss))\n",
    "#     print('Training Accuracy: {:.2f}%'.format(train_accuracy * 100))\n",
    "#     print('Validation Accuracy: {:.2f}%'.format(valid_accuracy * 100))\n"
   ]
  },
  {
   "cell_type": "code",
   "execution_count": 56,
   "id": "bc2b7b29",
   "metadata": {
    "execution": {
     "iopub.execute_input": "2024-08-20T11:05:54.333938Z",
     "iopub.status.busy": "2024-08-20T11:05:54.333085Z",
     "iopub.status.idle": "2024-08-20T11:07:17.350103Z",
     "shell.execute_reply": "2024-08-20T11:07:17.348967Z"
    },
    "papermill": {
     "duration": 83.044032,
     "end_time": "2024-08-20T11:07:17.352211",
     "exception": false,
     "start_time": "2024-08-20T11:05:54.308179",
     "status": "completed"
    },
    "tags": []
   },
   "outputs": [
    {
     "name": "stdout",
     "output_type": "stream",
     "text": [
      "\n",
      " Epoch 1 / 12\n",
      "\n",
      "Training Loss: 0.0\n",
      "Validation Loss: 0.6627101500829061\n",
      "Training Accuracy: 54.24%\n",
      "Validation Accuracy: 60.44%\n",
      "\n",
      " Epoch 2 / 12\n",
      "\n",
      "Training Loss: 0.0\n",
      "Validation Loss: 0.5894827842712402\n",
      "Training Accuracy: 63.92%\n",
      "Validation Accuracy: 66.04%\n",
      "\n",
      " Epoch 3 / 12\n",
      "\n",
      "Training Loss: 0.0\n",
      "Validation Loss: 0.5126481602589289\n",
      "Training Accuracy: 73.25%\n",
      "Validation Accuracy: 71.03%\n",
      "\n",
      " Epoch 4 / 12\n",
      "\n",
      "Training Loss: 0.0\n",
      "Validation Loss: 0.45344461252291995\n",
      "Training Accuracy: 77.26%\n",
      "Validation Accuracy: 76.01%\n",
      "\n",
      " Epoch 5 / 12\n",
      "\n",
      "Training Loss: 0.0\n",
      "Validation Loss: 0.4218391527732213\n",
      "Training Accuracy: 80.40%\n",
      "Validation Accuracy: 77.26%\n",
      "\n",
      " Epoch 6 / 12\n",
      "\n",
      "Training Loss: 0.0\n",
      "Validation Loss: 0.40388937542835873\n",
      "Training Accuracy: 81.73%\n",
      "Validation Accuracy: 79.44%\n",
      "\n",
      " Epoch 7 / 12\n",
      "\n",
      "Training Loss: 0.0\n",
      "Validation Loss: 0.3903358156482379\n",
      "Training Accuracy: 82.85%\n",
      "Validation Accuracy: 80.69%\n",
      "\n",
      " Epoch 8 / 12\n",
      "\n",
      "Training Loss: 0.0\n",
      "Validation Loss: 0.3813941664993763\n",
      "Training Accuracy: 82.81%\n",
      "Validation Accuracy: 81.31%\n",
      "\n",
      " Epoch 9 / 12\n",
      "\n",
      "Training Loss: 0.0\n",
      "Validation Loss: 0.3782111455996831\n",
      "Training Accuracy: 83.90%\n",
      "Validation Accuracy: 81.00%\n",
      "\n",
      " Epoch 10 / 12\n",
      "\n",
      "Training Loss: 0.0\n",
      "Validation Loss: 0.3760516469677289\n",
      "Training Accuracy: 83.59%\n",
      "Validation Accuracy: 81.00%\n",
      "\n",
      " Epoch 11 / 12\n",
      "\n",
      "Training Loss: 0.0\n",
      "Validation Loss: 0.3733886194725831\n",
      "Training Accuracy: 84.33%\n",
      "Validation Accuracy: 81.31%\n",
      "\n",
      " Epoch 12 / 12\n",
      "\n",
      "Training Loss: 0.0\n",
      "Validation Loss: 0.3743459532658259\n",
      "Training Accuracy: 84.88%\n",
      "Validation Accuracy: 81.31%\n"
     ]
    }
   ],
   "source": [
    "best_valid_loss = float('inf')\n",
    "train_losses = []\n",
    "valid_losses = []\n",
    "train_accuracies = []\n",
    "valid_accuracies = []\n",
    "\n",
    "\n",
    "for epoch in range(epochs):\n",
    "    print('\\n Epoch {:} / {:}'.format(epoch + 1, epochs))\n",
    "    \n",
    "    train_loss, train_preds, train_labels = train()\n",
    "    valid_loss, valid_preds, valid_labels = evaluate()\n",
    "    train_accuracy = calculate_accuracy(train_preds, train_labels)\n",
    "    valid_accuracy = calculate_accuracy(valid_preds, valid_labels)\n",
    "\n",
    "    if valid_loss < best_valid_loss:\n",
    "        best_valid_loss = valid_loss\n",
    "        torch.save(model.state_dict(), 'saved_weights.pt')\n",
    "    \n",
    "    train_losses.append(train_loss)\n",
    "    valid_losses.append(valid_loss)\n",
    "    train_accuracies.append(train_accuracy)\n",
    "    valid_accuracies.append(valid_accuracy)\n",
    "\n",
    "    early_stopping(valid_loss)\n",
    "    if early_stopping.early_stop:\n",
    "        print(\"Early stopping triggered\")\n",
    "        break\n",
    "    \n",
    "    print('\\nTraining Loss: {}'.format(train_loss))\n",
    "    print('Validation Loss: {}'.format(valid_loss))\n",
    "    print('Training Accuracy: {:.2f}%'.format(train_accuracy * 100))\n",
    "    print('Validation Accuracy: {:.2f}%'.format(valid_accuracy * 100))"
   ]
  },
  {
   "cell_type": "markdown",
   "id": "c2f79088",
   "metadata": {
    "papermill": {
     "duration": 0.021083,
     "end_time": "2024-08-20T11:07:17.395864",
     "exception": false,
     "start_time": "2024-08-20T11:07:17.374781",
     "status": "completed"
    },
    "tags": []
   },
   "source": [
    "# CLASSIFICATION REPORT"
   ]
  },
  {
   "cell_type": "code",
   "execution_count": 57,
   "id": "9badb138",
   "metadata": {
    "execution": {
     "iopub.execute_input": "2024-08-20T11:07:17.441045Z",
     "iopub.status.busy": "2024-08-20T11:07:17.440288Z",
     "iopub.status.idle": "2024-08-20T11:07:19.493296Z",
     "shell.execute_reply": "2024-08-20T11:07:19.492349Z"
    },
    "papermill": {
     "duration": 2.078368,
     "end_time": "2024-08-20T11:07:19.495570",
     "exception": false,
     "start_time": "2024-08-20T11:07:17.417202",
     "status": "completed"
    },
    "tags": []
   },
   "outputs": [
    {
     "name": "stdout",
     "output_type": "stream",
     "text": [
      "              precision    recall  f1-score   support\n",
      "\n",
      "           0       0.80      0.83      0.82       157\n",
      "           1       0.84      0.81      0.82       165\n",
      "\n",
      "    accuracy                           0.82       322\n",
      "   macro avg       0.82      0.82      0.82       322\n",
      "weighted avg       0.82      0.82      0.82       322\n",
      "\n"
     ]
    }
   ],
   "source": [
    "from sklearn.metrics import classification_report\n",
    "with torch.no_grad():\n",
    "  preds = model(test_seq.to(device), test_mask.to(device), test_token_type_ids.to(device))\n",
    "  preds = preds.detach().cpu().numpy()\n",
    "pred = np.argmax(preds, axis = 1)\n",
    "print(classification_report(test_y, pred))"
   ]
  },
  {
   "cell_type": "code",
   "execution_count": 58,
   "id": "05bded4f",
   "metadata": {
    "execution": {
     "iopub.execute_input": "2024-08-20T11:07:19.542456Z",
     "iopub.status.busy": "2024-08-20T11:07:19.541607Z",
     "iopub.status.idle": "2024-08-20T11:07:19.594044Z",
     "shell.execute_reply": "2024-08-20T11:07:19.593063Z"
    },
    "papermill": {
     "duration": 0.077004,
     "end_time": "2024-08-20T11:07:19.595959",
     "exception": false,
     "start_time": "2024-08-20T11:07:19.518955",
     "status": "completed"
    },
    "tags": []
   },
   "outputs": [
    {
     "name": "stderr",
     "output_type": "stream",
     "text": [
      "Truncation was not explicitly activated but `max_length` is provided a specific value, please use `truncation=True` to explicitly truncate examples to max length. Defaulting to 'longest_first' truncation strategy. If you encode pairs of sequences (GLUE-style) with the tokenizer you can select this strategy more precisely by providing a specific strategy to `truncation`.\n"
     ]
    },
    {
     "name": "stdout",
     "output_type": "stream",
     "text": [
      "Predicted sentiment: Negative\n"
     ]
    }
   ],
   "source": [
    "def predict_user_input(input_text, model, tokenizer, device):\n",
    "    inputs = tokenizer.encode_plus(\n",
    "        input_text,\n",
    "        add_special_tokens=True,\n",
    "        max_length=max_seq_len,\n",
    "        pad_to_max_length=True,\n",
    "        return_attention_mask=True,\n",
    "        return_token_type_ids=True,\n",
    "        return_tensors='pt',\n",
    "    )\n",
    "    input_ids = inputs['input_ids'].to(device)\n",
    "    attention_mask = inputs['attention_mask'].to(device)\n",
    "    token_type_ids = inputs['token_type_ids'].to(device)\n",
    "\n",
    "    with torch.no_grad():\n",
    "        outputs = model(input_ids, attention_mask, token_type_ids)\n",
    "        preds = torch.argmax(outputs, dim=1)\n",
    "    \n",
    "    return preds.item()\n",
    "max_seq_len=128\n",
    "input_text = \"I been told you that yo folks dont care about you . Im starving and my dad deadass didnt make me a plate\"\n",
    "predicted_class = predict_user_input(input_text, model, tokenizer, device)\n",
    "if(predicted_class==0):\n",
    "    print('Predicted sentiment: Negative')\n",
    "else:\n",
    "    print('Predicted sentiment: Positive')"
   ]
  },
  {
   "cell_type": "code",
   "execution_count": 59,
   "id": "49379fee",
   "metadata": {
    "execution": {
     "iopub.execute_input": "2024-08-20T11:07:19.641314Z",
     "iopub.status.busy": "2024-08-20T11:07:19.641020Z",
     "iopub.status.idle": "2024-08-20T11:07:19.658035Z",
     "shell.execute_reply": "2024-08-20T11:07:19.657067Z"
    },
    "papermill": {
     "duration": 0.042368,
     "end_time": "2024-08-20T11:07:19.660109",
     "exception": false,
     "start_time": "2024-08-20T11:07:19.617741",
     "status": "completed"
    },
    "tags": []
   },
   "outputs": [
    {
     "name": "stdout",
     "output_type": "stream",
     "text": [
      "Predicted sentiment: Positive\n"
     ]
    }
   ],
   "source": [
    "input_text = \"what a badass character Arthur is, rckstr is the bst\"\n",
    "predicted_class = predict_user_input(input_text, model, tokenizer, device)\n",
    "if(predicted_class==0):\n",
    "    print('Predicted sentiment: Negative')\n",
    "else:\n",
    "    print('Predicted sentiment: Positive')"
   ]
  },
  {
   "cell_type": "code",
   "execution_count": null,
   "id": "53a4203e",
   "metadata": {
    "papermill": {
     "duration": 0.0218,
     "end_time": "2024-08-20T11:07:19.703819",
     "exception": false,
     "start_time": "2024-08-20T11:07:19.682019",
     "status": "completed"
    },
    "tags": []
   },
   "outputs": [],
   "source": []
  }
 ],
 "metadata": {
  "kaggle": {
   "accelerator": "nvidiaTeslaT4",
   "dataSources": [
    {
     "datasetId": 5557640,
     "sourceId": 9193227,
     "sourceType": "datasetVersion"
    }
   ],
   "dockerImageVersionId": 30747,
   "isGpuEnabled": true,
   "isInternetEnabled": true,
   "language": "python",
   "sourceType": "notebook"
  },
  "kernelspec": {
   "display_name": "Python 3",
   "language": "python",
   "name": "python3"
  },
  "language_info": {
   "codemirror_mode": {
    "name": "ipython",
    "version": 3
   },
   "file_extension": ".py",
   "mimetype": "text/x-python",
   "name": "python",
   "nbconvert_exporter": "python",
   "pygments_lexer": "ipython3",
   "version": "3.10.13"
  },
  "papermill": {
   "default_parameters": {},
   "duration": 105.578704,
   "end_time": "2024-08-20T11:07:21.248800",
   "environment_variables": {},
   "exception": null,
   "input_path": "__notebook__.ipynb",
   "output_path": "__notebook__.ipynb",
   "parameters": {},
   "start_time": "2024-08-20T11:05:35.670096",
   "version": "2.5.0"
  },
  "widgets": {
   "application/vnd.jupyter.widget-state+json": {
    "state": {
     "032434fba20141a29f9d843c2d5af9b0": {
      "model_module": "@jupyter-widgets/controls",
      "model_module_version": "1.5.0",
      "model_name": "HTMLModel",
      "state": {
       "_dom_classes": [],
       "_model_module": "@jupyter-widgets/controls",
       "_model_module_version": "1.5.0",
       "_model_name": "HTMLModel",
       "_view_count": null,
       "_view_module": "@jupyter-widgets/controls",
       "_view_module_version": "1.5.0",
       "_view_name": "HTMLView",
       "description": "",
       "description_tooltip": null,
       "layout": "IPY_MODEL_8b94a33add6f49509878605959737f9c",
       "placeholder": "​",
       "style": "IPY_MODEL_ee21609542964ac79b41f2f87b3d1b5a",
       "value": "config.json: 100%"
      }
     },
     "05e93d62205c4a96a0d42ecb2c170b42": {
      "model_module": "@jupyter-widgets/controls",
      "model_module_version": "1.5.0",
      "model_name": "DescriptionStyleModel",
      "state": {
       "_model_module": "@jupyter-widgets/controls",
       "_model_module_version": "1.5.0",
       "_model_name": "DescriptionStyleModel",
       "_view_count": null,
       "_view_module": "@jupyter-widgets/base",
       "_view_module_version": "1.2.0",
       "_view_name": "StyleView",
       "description_width": ""
      }
     },
     "06be4fe8c26c43f39d7532afb2ac716c": {
      "model_module": "@jupyter-widgets/controls",
      "model_module_version": "1.5.0",
      "model_name": "HBoxModel",
      "state": {
       "_dom_classes": [],
       "_model_module": "@jupyter-widgets/controls",
       "_model_module_version": "1.5.0",
       "_model_name": "HBoxModel",
       "_view_count": null,
       "_view_module": "@jupyter-widgets/controls",
       "_view_module_version": "1.5.0",
       "_view_name": "HBoxView",
       "box_style": "",
       "children": [
        "IPY_MODEL_eadc1110d98c4fdf8c25d9ef88e17c71",
        "IPY_MODEL_11835ef7127e4eec821f9150139fe671",
        "IPY_MODEL_b183413d7a0c42a68d9956b5f0b24199"
       ],
       "layout": "IPY_MODEL_5bc2c5abc9134b90aca9649a81047e8c"
      }
     },
     "0d407af54ca740a6b18bfae6b0454f39": {
      "model_module": "@jupyter-widgets/base",
      "model_module_version": "1.2.0",
      "model_name": "LayoutModel",
      "state": {
       "_model_module": "@jupyter-widgets/base",
       "_model_module_version": "1.2.0",
       "_model_name": "LayoutModel",
       "_view_count": null,
       "_view_module": "@jupyter-widgets/base",
       "_view_module_version": "1.2.0",
       "_view_name": "LayoutView",
       "align_content": null,
       "align_items": null,
       "align_self": null,
       "border": null,
       "bottom": null,
       "display": null,
       "flex": null,
       "flex_flow": null,
       "grid_area": null,
       "grid_auto_columns": null,
       "grid_auto_flow": null,
       "grid_auto_rows": null,
       "grid_column": null,
       "grid_gap": null,
       "grid_row": null,
       "grid_template_areas": null,
       "grid_template_columns": null,
       "grid_template_rows": null,
       "height": null,
       "justify_content": null,
       "justify_items": null,
       "left": null,
       "margin": null,
       "max_height": null,
       "max_width": null,
       "min_height": null,
       "min_width": null,
       "object_fit": null,
       "object_position": null,
       "order": null,
       "overflow": null,
       "overflow_x": null,
       "overflow_y": null,
       "padding": null,
       "right": null,
       "top": null,
       "visibility": null,
       "width": null
      }
     },
     "11835ef7127e4eec821f9150139fe671": {
      "model_module": "@jupyter-widgets/controls",
      "model_module_version": "1.5.0",
      "model_name": "FloatProgressModel",
      "state": {
       "_dom_classes": [],
       "_model_module": "@jupyter-widgets/controls",
       "_model_module_version": "1.5.0",
       "_model_name": "FloatProgressModel",
       "_view_count": null,
       "_view_module": "@jupyter-widgets/controls",
       "_view_module_version": "1.5.0",
       "_view_name": "ProgressView",
       "bar_style": "success",
       "description": "",
       "description_tooltip": null,
       "layout": "IPY_MODEL_14bef351235d4a34b8eefc010ff507e7",
       "max": 48.0,
       "min": 0.0,
       "orientation": "horizontal",
       "style": "IPY_MODEL_29404f8a52444666a39226ffeb8f6698",
       "value": 48.0
      }
     },
     "11856bb8d9634251b95c1e596391c9ed": {
      "model_module": "@jupyter-widgets/controls",
      "model_module_version": "1.5.0",
      "model_name": "DescriptionStyleModel",
      "state": {
       "_model_module": "@jupyter-widgets/controls",
       "_model_module_version": "1.5.0",
       "_model_name": "DescriptionStyleModel",
       "_view_count": null,
       "_view_module": "@jupyter-widgets/base",
       "_view_module_version": "1.2.0",
       "_view_name": "StyleView",
       "description_width": ""
      }
     },
     "12398e494afb43f794c0d4d920359836": {
      "model_module": "@jupyter-widgets/base",
      "model_module_version": "1.2.0",
      "model_name": "LayoutModel",
      "state": {
       "_model_module": "@jupyter-widgets/base",
       "_model_module_version": "1.2.0",
       "_model_name": "LayoutModel",
       "_view_count": null,
       "_view_module": "@jupyter-widgets/base",
       "_view_module_version": "1.2.0",
       "_view_name": "LayoutView",
       "align_content": null,
       "align_items": null,
       "align_self": null,
       "border": null,
       "bottom": null,
       "display": null,
       "flex": null,
       "flex_flow": null,
       "grid_area": null,
       "grid_auto_columns": null,
       "grid_auto_flow": null,
       "grid_auto_rows": null,
       "grid_column": null,
       "grid_gap": null,
       "grid_row": null,
       "grid_template_areas": null,
       "grid_template_columns": null,
       "grid_template_rows": null,
       "height": null,
       "justify_content": null,
       "justify_items": null,
       "left": null,
       "margin": null,
       "max_height": null,
       "max_width": null,
       "min_height": null,
       "min_width": null,
       "object_fit": null,
       "object_position": null,
       "order": null,
       "overflow": null,
       "overflow_x": null,
       "overflow_y": null,
       "padding": null,
       "right": null,
       "top": null,
       "visibility": null,
       "width": null
      }
     },
     "14bef351235d4a34b8eefc010ff507e7": {
      "model_module": "@jupyter-widgets/base",
      "model_module_version": "1.2.0",
      "model_name": "LayoutModel",
      "state": {
       "_model_module": "@jupyter-widgets/base",
       "_model_module_version": "1.2.0",
       "_model_name": "LayoutModel",
       "_view_count": null,
       "_view_module": "@jupyter-widgets/base",
       "_view_module_version": "1.2.0",
       "_view_name": "LayoutView",
       "align_content": null,
       "align_items": null,
       "align_self": null,
       "border": null,
       "bottom": null,
       "display": null,
       "flex": null,
       "flex_flow": null,
       "grid_area": null,
       "grid_auto_columns": null,
       "grid_auto_flow": null,
       "grid_auto_rows": null,
       "grid_column": null,
       "grid_gap": null,
       "grid_row": null,
       "grid_template_areas": null,
       "grid_template_columns": null,
       "grid_template_rows": null,
       "height": null,
       "justify_content": null,
       "justify_items": null,
       "left": null,
       "margin": null,
       "max_height": null,
       "max_width": null,
       "min_height": null,
       "min_width": null,
       "object_fit": null,
       "object_position": null,
       "order": null,
       "overflow": null,
       "overflow_x": null,
       "overflow_y": null,
       "padding": null,
       "right": null,
       "top": null,
       "visibility": null,
       "width": null
      }
     },
     "181e006d1b68400a8b55fae67c0a27aa": {
      "model_module": "@jupyter-widgets/base",
      "model_module_version": "1.2.0",
      "model_name": "LayoutModel",
      "state": {
       "_model_module": "@jupyter-widgets/base",
       "_model_module_version": "1.2.0",
       "_model_name": "LayoutModel",
       "_view_count": null,
       "_view_module": "@jupyter-widgets/base",
       "_view_module_version": "1.2.0",
       "_view_name": "LayoutView",
       "align_content": null,
       "align_items": null,
       "align_self": null,
       "border": null,
       "bottom": null,
       "display": null,
       "flex": null,
       "flex_flow": null,
       "grid_area": null,
       "grid_auto_columns": null,
       "grid_auto_flow": null,
       "grid_auto_rows": null,
       "grid_column": null,
       "grid_gap": null,
       "grid_row": null,
       "grid_template_areas": null,
       "grid_template_columns": null,
       "grid_template_rows": null,
       "height": null,
       "justify_content": null,
       "justify_items": null,
       "left": null,
       "margin": null,
       "max_height": null,
       "max_width": null,
       "min_height": null,
       "min_width": null,
       "object_fit": null,
       "object_position": null,
       "order": null,
       "overflow": null,
       "overflow_x": null,
       "overflow_y": null,
       "padding": null,
       "right": null,
       "top": null,
       "visibility": null,
       "width": null
      }
     },
     "185fbd93feaa495a84f1b471408de6db": {
      "model_module": "@jupyter-widgets/controls",
      "model_module_version": "1.5.0",
      "model_name": "DescriptionStyleModel",
      "state": {
       "_model_module": "@jupyter-widgets/controls",
       "_model_module_version": "1.5.0",
       "_model_name": "DescriptionStyleModel",
       "_view_count": null,
       "_view_module": "@jupyter-widgets/base",
       "_view_module_version": "1.2.0",
       "_view_name": "StyleView",
       "description_width": ""
      }
     },
     "20b80fb54bbf47c78b04820594490ef5": {
      "model_module": "@jupyter-widgets/controls",
      "model_module_version": "1.5.0",
      "model_name": "ProgressStyleModel",
      "state": {
       "_model_module": "@jupyter-widgets/controls",
       "_model_module_version": "1.5.0",
       "_model_name": "ProgressStyleModel",
       "_view_count": null,
       "_view_module": "@jupyter-widgets/base",
       "_view_module_version": "1.2.0",
       "_view_name": "StyleView",
       "bar_color": null,
       "description_width": ""
      }
     },
     "29404f8a52444666a39226ffeb8f6698": {
      "model_module": "@jupyter-widgets/controls",
      "model_module_version": "1.5.0",
      "model_name": "ProgressStyleModel",
      "state": {
       "_model_module": "@jupyter-widgets/controls",
       "_model_module_version": "1.5.0",
       "_model_name": "ProgressStyleModel",
       "_view_count": null,
       "_view_module": "@jupyter-widgets/base",
       "_view_module_version": "1.2.0",
       "_view_name": "StyleView",
       "bar_color": null,
       "description_width": ""
      }
     },
     "3586b96fc94b40edb4ee12362dc8912c": {
      "model_module": "@jupyter-widgets/controls",
      "model_module_version": "1.5.0",
      "model_name": "DescriptionStyleModel",
      "state": {
       "_model_module": "@jupyter-widgets/controls",
       "_model_module_version": "1.5.0",
       "_model_name": "DescriptionStyleModel",
       "_view_count": null,
       "_view_module": "@jupyter-widgets/base",
       "_view_module_version": "1.2.0",
       "_view_name": "StyleView",
       "description_width": ""
      }
     },
     "37d3d85a5f0d41ec851e991e4f601108": {
      "model_module": "@jupyter-widgets/controls",
      "model_module_version": "1.5.0",
      "model_name": "FloatProgressModel",
      "state": {
       "_dom_classes": [],
       "_model_module": "@jupyter-widgets/controls",
       "_model_module_version": "1.5.0",
       "_model_name": "FloatProgressModel",
       "_view_count": null,
       "_view_module": "@jupyter-widgets/controls",
       "_view_module_version": "1.5.0",
       "_view_name": "ProgressView",
       "bar_style": "success",
       "description": "",
       "description_tooltip": null,
       "layout": "IPY_MODEL_4dfe022c7d0e4f3d9e3b004b52236ec2",
       "max": 570.0,
       "min": 0.0,
       "orientation": "horizontal",
       "style": "IPY_MODEL_20b80fb54bbf47c78b04820594490ef5",
       "value": 570.0
      }
     },
     "3da2da2fa2854a3aa35a5a5692e41c99": {
      "model_module": "@jupyter-widgets/base",
      "model_module_version": "1.2.0",
      "model_name": "LayoutModel",
      "state": {
       "_model_module": "@jupyter-widgets/base",
       "_model_module_version": "1.2.0",
       "_model_name": "LayoutModel",
       "_view_count": null,
       "_view_module": "@jupyter-widgets/base",
       "_view_module_version": "1.2.0",
       "_view_name": "LayoutView",
       "align_content": null,
       "align_items": null,
       "align_self": null,
       "border": null,
       "bottom": null,
       "display": null,
       "flex": null,
       "flex_flow": null,
       "grid_area": null,
       "grid_auto_columns": null,
       "grid_auto_flow": null,
       "grid_auto_rows": null,
       "grid_column": null,
       "grid_gap": null,
       "grid_row": null,
       "grid_template_areas": null,
       "grid_template_columns": null,
       "grid_template_rows": null,
       "height": null,
       "justify_content": null,
       "justify_items": null,
       "left": null,
       "margin": null,
       "max_height": null,
       "max_width": null,
       "min_height": null,
       "min_width": null,
       "object_fit": null,
       "object_position": null,
       "order": null,
       "overflow": null,
       "overflow_x": null,
       "overflow_y": null,
       "padding": null,
       "right": null,
       "top": null,
       "visibility": null,
       "width": null
      }
     },
     "4171ce5a76f24a50881b637c3706bbf8": {
      "model_module": "@jupyter-widgets/controls",
      "model_module_version": "1.5.0",
      "model_name": "FloatProgressModel",
      "state": {
       "_dom_classes": [],
       "_model_module": "@jupyter-widgets/controls",
       "_model_module_version": "1.5.0",
       "_model_name": "FloatProgressModel",
       "_view_count": null,
       "_view_module": "@jupyter-widgets/controls",
       "_view_module_version": "1.5.0",
       "_view_name": "ProgressView",
       "bar_style": "success",
       "description": "",
       "description_tooltip": null,
       "layout": "IPY_MODEL_0d407af54ca740a6b18bfae6b0454f39",
       "max": 466062.0,
       "min": 0.0,
       "orientation": "horizontal",
       "style": "IPY_MODEL_57c7df7a8f6a4b878ce8c087bba974b2",
       "value": 466062.0
      }
     },
     "44433542dbdb4072ba17deb0a6d23bc5": {
      "model_module": "@jupyter-widgets/controls",
      "model_module_version": "1.5.0",
      "model_name": "HBoxModel",
      "state": {
       "_dom_classes": [],
       "_model_module": "@jupyter-widgets/controls",
       "_model_module_version": "1.5.0",
       "_model_name": "HBoxModel",
       "_view_count": null,
       "_view_module": "@jupyter-widgets/controls",
       "_view_module_version": "1.5.0",
       "_view_name": "HBoxView",
       "box_style": "",
       "children": [
        "IPY_MODEL_b9d5aba4a4394221a4cb77a4af5f5857",
        "IPY_MODEL_4171ce5a76f24a50881b637c3706bbf8",
        "IPY_MODEL_ce61dba6f67f4c2ab7666170f3ede921"
       ],
       "layout": "IPY_MODEL_7228df2e1e56412e84e31affe931c059"
      }
     },
     "44c730ba064d4e6a910a5d802825d033": {
      "model_module": "@jupyter-widgets/controls",
      "model_module_version": "1.5.0",
      "model_name": "DescriptionStyleModel",
      "state": {
       "_model_module": "@jupyter-widgets/controls",
       "_model_module_version": "1.5.0",
       "_model_name": "DescriptionStyleModel",
       "_view_count": null,
       "_view_module": "@jupyter-widgets/base",
       "_view_module_version": "1.2.0",
       "_view_name": "StyleView",
       "description_width": ""
      }
     },
     "487220b3e3674df29f7344f9642a56e3": {
      "model_module": "@jupyter-widgets/base",
      "model_module_version": "1.2.0",
      "model_name": "LayoutModel",
      "state": {
       "_model_module": "@jupyter-widgets/base",
       "_model_module_version": "1.2.0",
       "_model_name": "LayoutModel",
       "_view_count": null,
       "_view_module": "@jupyter-widgets/base",
       "_view_module_version": "1.2.0",
       "_view_name": "LayoutView",
       "align_content": null,
       "align_items": null,
       "align_self": null,
       "border": null,
       "bottom": null,
       "display": null,
       "flex": null,
       "flex_flow": null,
       "grid_area": null,
       "grid_auto_columns": null,
       "grid_auto_flow": null,
       "grid_auto_rows": null,
       "grid_column": null,
       "grid_gap": null,
       "grid_row": null,
       "grid_template_areas": null,
       "grid_template_columns": null,
       "grid_template_rows": null,
       "height": null,
       "justify_content": null,
       "justify_items": null,
       "left": null,
       "margin": null,
       "max_height": null,
       "max_width": null,
       "min_height": null,
       "min_width": null,
       "object_fit": null,
       "object_position": null,
       "order": null,
       "overflow": null,
       "overflow_x": null,
       "overflow_y": null,
       "padding": null,
       "right": null,
       "top": null,
       "visibility": null,
       "width": null
      }
     },
     "4dfe022c7d0e4f3d9e3b004b52236ec2": {
      "model_module": "@jupyter-widgets/base",
      "model_module_version": "1.2.0",
      "model_name": "LayoutModel",
      "state": {
       "_model_module": "@jupyter-widgets/base",
       "_model_module_version": "1.2.0",
       "_model_name": "LayoutModel",
       "_view_count": null,
       "_view_module": "@jupyter-widgets/base",
       "_view_module_version": "1.2.0",
       "_view_name": "LayoutView",
       "align_content": null,
       "align_items": null,
       "align_self": null,
       "border": null,
       "bottom": null,
       "display": null,
       "flex": null,
       "flex_flow": null,
       "grid_area": null,
       "grid_auto_columns": null,
       "grid_auto_flow": null,
       "grid_auto_rows": null,
       "grid_column": null,
       "grid_gap": null,
       "grid_row": null,
       "grid_template_areas": null,
       "grid_template_columns": null,
       "grid_template_rows": null,
       "height": null,
       "justify_content": null,
       "justify_items": null,
       "left": null,
       "margin": null,
       "max_height": null,
       "max_width": null,
       "min_height": null,
       "min_width": null,
       "object_fit": null,
       "object_position": null,
       "order": null,
       "overflow": null,
       "overflow_x": null,
       "overflow_y": null,
       "padding": null,
       "right": null,
       "top": null,
       "visibility": null,
       "width": null
      }
     },
     "4f629fd64a9b4263981cf1055b25df80": {
      "model_module": "@jupyter-widgets/controls",
      "model_module_version": "1.5.0",
      "model_name": "HTMLModel",
      "state": {
       "_dom_classes": [],
       "_model_module": "@jupyter-widgets/controls",
       "_model_module_version": "1.5.0",
       "_model_name": "HTMLModel",
       "_view_count": null,
       "_view_module": "@jupyter-widgets/controls",
       "_view_module_version": "1.5.0",
       "_view_name": "HTMLView",
       "description": "",
       "description_tooltip": null,
       "layout": "IPY_MODEL_12398e494afb43f794c0d4d920359836",
       "placeholder": "​",
       "style": "IPY_MODEL_b638f966e5c54b34a04443af215d6703",
       "value": " 440M/440M [00:02&lt;00:00, 199MB/s]"
      }
     },
     "57c7df7a8f6a4b878ce8c087bba974b2": {
      "model_module": "@jupyter-widgets/controls",
      "model_module_version": "1.5.0",
      "model_name": "ProgressStyleModel",
      "state": {
       "_model_module": "@jupyter-widgets/controls",
       "_model_module_version": "1.5.0",
       "_model_name": "ProgressStyleModel",
       "_view_count": null,
       "_view_module": "@jupyter-widgets/base",
       "_view_module_version": "1.2.0",
       "_view_name": "StyleView",
       "bar_color": null,
       "description_width": ""
      }
     },
     "5bc2c5abc9134b90aca9649a81047e8c": {
      "model_module": "@jupyter-widgets/base",
      "model_module_version": "1.2.0",
      "model_name": "LayoutModel",
      "state": {
       "_model_module": "@jupyter-widgets/base",
       "_model_module_version": "1.2.0",
       "_model_name": "LayoutModel",
       "_view_count": null,
       "_view_module": "@jupyter-widgets/base",
       "_view_module_version": "1.2.0",
       "_view_name": "LayoutView",
       "align_content": null,
       "align_items": null,
       "align_self": null,
       "border": null,
       "bottom": null,
       "display": null,
       "flex": null,
       "flex_flow": null,
       "grid_area": null,
       "grid_auto_columns": null,
       "grid_auto_flow": null,
       "grid_auto_rows": null,
       "grid_column": null,
       "grid_gap": null,
       "grid_row": null,
       "grid_template_areas": null,
       "grid_template_columns": null,
       "grid_template_rows": null,
       "height": null,
       "justify_content": null,
       "justify_items": null,
       "left": null,
       "margin": null,
       "max_height": null,
       "max_width": null,
       "min_height": null,
       "min_width": null,
       "object_fit": null,
       "object_position": null,
       "order": null,
       "overflow": null,
       "overflow_x": null,
       "overflow_y": null,
       "padding": null,
       "right": null,
       "top": null,
       "visibility": null,
       "width": null
      }
     },
     "648304f63dc74753bc38c2d387a51811": {
      "model_module": "@jupyter-widgets/base",
      "model_module_version": "1.2.0",
      "model_name": "LayoutModel",
      "state": {
       "_model_module": "@jupyter-widgets/base",
       "_model_module_version": "1.2.0",
       "_model_name": "LayoutModel",
       "_view_count": null,
       "_view_module": "@jupyter-widgets/base",
       "_view_module_version": "1.2.0",
       "_view_name": "LayoutView",
       "align_content": null,
       "align_items": null,
       "align_self": null,
       "border": null,
       "bottom": null,
       "display": null,
       "flex": null,
       "flex_flow": null,
       "grid_area": null,
       "grid_auto_columns": null,
       "grid_auto_flow": null,
       "grid_auto_rows": null,
       "grid_column": null,
       "grid_gap": null,
       "grid_row": null,
       "grid_template_areas": null,
       "grid_template_columns": null,
       "grid_template_rows": null,
       "height": null,
       "justify_content": null,
       "justify_items": null,
       "left": null,
       "margin": null,
       "max_height": null,
       "max_width": null,
       "min_height": null,
       "min_width": null,
       "object_fit": null,
       "object_position": null,
       "order": null,
       "overflow": null,
       "overflow_x": null,
       "overflow_y": null,
       "padding": null,
       "right": null,
       "top": null,
       "visibility": null,
       "width": null
      }
     },
     "66bb519dea984b088e69933e4673a362": {
      "model_module": "@jupyter-widgets/controls",
      "model_module_version": "1.5.0",
      "model_name": "DescriptionStyleModel",
      "state": {
       "_model_module": "@jupyter-widgets/controls",
       "_model_module_version": "1.5.0",
       "_model_name": "DescriptionStyleModel",
       "_view_count": null,
       "_view_module": "@jupyter-widgets/base",
       "_view_module_version": "1.2.0",
       "_view_name": "StyleView",
       "description_width": ""
      }
     },
     "691a2d198fb34faa91bfbb3d93d4c349": {
      "model_module": "@jupyter-widgets/base",
      "model_module_version": "1.2.0",
      "model_name": "LayoutModel",
      "state": {
       "_model_module": "@jupyter-widgets/base",
       "_model_module_version": "1.2.0",
       "_model_name": "LayoutModel",
       "_view_count": null,
       "_view_module": "@jupyter-widgets/base",
       "_view_module_version": "1.2.0",
       "_view_name": "LayoutView",
       "align_content": null,
       "align_items": null,
       "align_self": null,
       "border": null,
       "bottom": null,
       "display": null,
       "flex": null,
       "flex_flow": null,
       "grid_area": null,
       "grid_auto_columns": null,
       "grid_auto_flow": null,
       "grid_auto_rows": null,
       "grid_column": null,
       "grid_gap": null,
       "grid_row": null,
       "grid_template_areas": null,
       "grid_template_columns": null,
       "grid_template_rows": null,
       "height": null,
       "justify_content": null,
       "justify_items": null,
       "left": null,
       "margin": null,
       "max_height": null,
       "max_width": null,
       "min_height": null,
       "min_width": null,
       "object_fit": null,
       "object_position": null,
       "order": null,
       "overflow": null,
       "overflow_x": null,
       "overflow_y": null,
       "padding": null,
       "right": null,
       "top": null,
       "visibility": null,
       "width": null
      }
     },
     "6943d07adf4347fd9bc5370d141e22ad": {
      "model_module": "@jupyter-widgets/controls",
      "model_module_version": "1.5.0",
      "model_name": "ProgressStyleModel",
      "state": {
       "_model_module": "@jupyter-widgets/controls",
       "_model_module_version": "1.5.0",
       "_model_name": "ProgressStyleModel",
       "_view_count": null,
       "_view_module": "@jupyter-widgets/base",
       "_view_module_version": "1.2.0",
       "_view_name": "StyleView",
       "bar_color": null,
       "description_width": ""
      }
     },
     "6cf0b15258d944b7a378866d1fb4e962": {
      "model_module": "@jupyter-widgets/controls",
      "model_module_version": "1.5.0",
      "model_name": "FloatProgressModel",
      "state": {
       "_dom_classes": [],
       "_model_module": "@jupyter-widgets/controls",
       "_model_module_version": "1.5.0",
       "_model_name": "FloatProgressModel",
       "_view_count": null,
       "_view_module": "@jupyter-widgets/controls",
       "_view_module_version": "1.5.0",
       "_view_name": "ProgressView",
       "bar_style": "success",
       "description": "",
       "description_tooltip": null,
       "layout": "IPY_MODEL_e9b2164ec40040e1812a0c92a13efdf1",
       "max": 231508.0,
       "min": 0.0,
       "orientation": "horizontal",
       "style": "IPY_MODEL_6943d07adf4347fd9bc5370d141e22ad",
       "value": 231508.0
      }
     },
     "7006be76f0e64be8b615ac0440983a01": {
      "model_module": "@jupyter-widgets/controls",
      "model_module_version": "1.5.0",
      "model_name": "HTMLModel",
      "state": {
       "_dom_classes": [],
       "_model_module": "@jupyter-widgets/controls",
       "_model_module_version": "1.5.0",
       "_model_name": "HTMLModel",
       "_view_count": null,
       "_view_module": "@jupyter-widgets/controls",
       "_view_module_version": "1.5.0",
       "_view_name": "HTMLView",
       "description": "",
       "description_tooltip": null,
       "layout": "IPY_MODEL_3da2da2fa2854a3aa35a5a5692e41c99",
       "placeholder": "​",
       "style": "IPY_MODEL_66bb519dea984b088e69933e4673a362",
       "value": "model.safetensors: 100%"
      }
     },
     "7228df2e1e56412e84e31affe931c059": {
      "model_module": "@jupyter-widgets/base",
      "model_module_version": "1.2.0",
      "model_name": "LayoutModel",
      "state": {
       "_model_module": "@jupyter-widgets/base",
       "_model_module_version": "1.2.0",
       "_model_name": "LayoutModel",
       "_view_count": null,
       "_view_module": "@jupyter-widgets/base",
       "_view_module_version": "1.2.0",
       "_view_name": "LayoutView",
       "align_content": null,
       "align_items": null,
       "align_self": null,
       "border": null,
       "bottom": null,
       "display": null,
       "flex": null,
       "flex_flow": null,
       "grid_area": null,
       "grid_auto_columns": null,
       "grid_auto_flow": null,
       "grid_auto_rows": null,
       "grid_column": null,
       "grid_gap": null,
       "grid_row": null,
       "grid_template_areas": null,
       "grid_template_columns": null,
       "grid_template_rows": null,
       "height": null,
       "justify_content": null,
       "justify_items": null,
       "left": null,
       "margin": null,
       "max_height": null,
       "max_width": null,
       "min_height": null,
       "min_width": null,
       "object_fit": null,
       "object_position": null,
       "order": null,
       "overflow": null,
       "overflow_x": null,
       "overflow_y": null,
       "padding": null,
       "right": null,
       "top": null,
       "visibility": null,
       "width": null
      }
     },
     "76e81ee70345446f98ab2ac23f00ca9b": {
      "model_module": "@jupyter-widgets/controls",
      "model_module_version": "1.5.0",
      "model_name": "FloatProgressModel",
      "state": {
       "_dom_classes": [],
       "_model_module": "@jupyter-widgets/controls",
       "_model_module_version": "1.5.0",
       "_model_name": "FloatProgressModel",
       "_view_count": null,
       "_view_module": "@jupyter-widgets/controls",
       "_view_module_version": "1.5.0",
       "_view_name": "ProgressView",
       "bar_style": "success",
       "description": "",
       "description_tooltip": null,
       "layout": "IPY_MODEL_f199e387e7b74cdcae1ec61490652e41",
       "max": 440449768.0,
       "min": 0.0,
       "orientation": "horizontal",
       "style": "IPY_MODEL_a815a4db57e24599901cab55dfdc76bd",
       "value": 440449768.0
      }
     },
     "8b94a33add6f49509878605959737f9c": {
      "model_module": "@jupyter-widgets/base",
      "model_module_version": "1.2.0",
      "model_name": "LayoutModel",
      "state": {
       "_model_module": "@jupyter-widgets/base",
       "_model_module_version": "1.2.0",
       "_model_name": "LayoutModel",
       "_view_count": null,
       "_view_module": "@jupyter-widgets/base",
       "_view_module_version": "1.2.0",
       "_view_name": "LayoutView",
       "align_content": null,
       "align_items": null,
       "align_self": null,
       "border": null,
       "bottom": null,
       "display": null,
       "flex": null,
       "flex_flow": null,
       "grid_area": null,
       "grid_auto_columns": null,
       "grid_auto_flow": null,
       "grid_auto_rows": null,
       "grid_column": null,
       "grid_gap": null,
       "grid_row": null,
       "grid_template_areas": null,
       "grid_template_columns": null,
       "grid_template_rows": null,
       "height": null,
       "justify_content": null,
       "justify_items": null,
       "left": null,
       "margin": null,
       "max_height": null,
       "max_width": null,
       "min_height": null,
       "min_width": null,
       "object_fit": null,
       "object_position": null,
       "order": null,
       "overflow": null,
       "overflow_x": null,
       "overflow_y": null,
       "padding": null,
       "right": null,
       "top": null,
       "visibility": null,
       "width": null
      }
     },
     "8e86de6f2b744a55a9b28c33ddea97a7": {
      "model_module": "@jupyter-widgets/controls",
      "model_module_version": "1.5.0",
      "model_name": "HTMLModel",
      "state": {
       "_dom_classes": [],
       "_model_module": "@jupyter-widgets/controls",
       "_model_module_version": "1.5.0",
       "_model_name": "HTMLModel",
       "_view_count": null,
       "_view_module": "@jupyter-widgets/controls",
       "_view_module_version": "1.5.0",
       "_view_name": "HTMLView",
       "description": "",
       "description_tooltip": null,
       "layout": "IPY_MODEL_487220b3e3674df29f7344f9642a56e3",
       "placeholder": "​",
       "style": "IPY_MODEL_dea7c1838f9d4ea2b4a3ab0433086e89",
       "value": "vocab.txt: 100%"
      }
     },
     "97bcbd5d1650465ea23593b124f4a0cc": {
      "model_module": "@jupyter-widgets/controls",
      "model_module_version": "1.5.0",
      "model_name": "HTMLModel",
      "state": {
       "_dom_classes": [],
       "_model_module": "@jupyter-widgets/controls",
       "_model_module_version": "1.5.0",
       "_model_name": "HTMLModel",
       "_view_count": null,
       "_view_module": "@jupyter-widgets/controls",
       "_view_module_version": "1.5.0",
       "_view_name": "HTMLView",
       "description": "",
       "description_tooltip": null,
       "layout": "IPY_MODEL_b9d67a75c9a34d59ad4e348c9bfa09ed",
       "placeholder": "​",
       "style": "IPY_MODEL_ba75ccf1cf3e44d1bd1fb896f4af79da",
       "value": " 232k/232k [00:00&lt;00:00, 5.10MB/s]"
      }
     },
     "a815a4db57e24599901cab55dfdc76bd": {
      "model_module": "@jupyter-widgets/controls",
      "model_module_version": "1.5.0",
      "model_name": "ProgressStyleModel",
      "state": {
       "_model_module": "@jupyter-widgets/controls",
       "_model_module_version": "1.5.0",
       "_model_name": "ProgressStyleModel",
       "_view_count": null,
       "_view_module": "@jupyter-widgets/base",
       "_view_module_version": "1.2.0",
       "_view_name": "StyleView",
       "bar_color": null,
       "description_width": ""
      }
     },
     "a93aaf1a37db4c82b5eeeeeaffd44c14": {
      "model_module": "@jupyter-widgets/base",
      "model_module_version": "1.2.0",
      "model_name": "LayoutModel",
      "state": {
       "_model_module": "@jupyter-widgets/base",
       "_model_module_version": "1.2.0",
       "_model_name": "LayoutModel",
       "_view_count": null,
       "_view_module": "@jupyter-widgets/base",
       "_view_module_version": "1.2.0",
       "_view_name": "LayoutView",
       "align_content": null,
       "align_items": null,
       "align_self": null,
       "border": null,
       "bottom": null,
       "display": null,
       "flex": null,
       "flex_flow": null,
       "grid_area": null,
       "grid_auto_columns": null,
       "grid_auto_flow": null,
       "grid_auto_rows": null,
       "grid_column": null,
       "grid_gap": null,
       "grid_row": null,
       "grid_template_areas": null,
       "grid_template_columns": null,
       "grid_template_rows": null,
       "height": null,
       "justify_content": null,
       "justify_items": null,
       "left": null,
       "margin": null,
       "max_height": null,
       "max_width": null,
       "min_height": null,
       "min_width": null,
       "object_fit": null,
       "object_position": null,
       "order": null,
       "overflow": null,
       "overflow_x": null,
       "overflow_y": null,
       "padding": null,
       "right": null,
       "top": null,
       "visibility": null,
       "width": null
      }
     },
     "ac55ea05c00f41c8a91a9ebf08045148": {
      "model_module": "@jupyter-widgets/base",
      "model_module_version": "1.2.0",
      "model_name": "LayoutModel",
      "state": {
       "_model_module": "@jupyter-widgets/base",
       "_model_module_version": "1.2.0",
       "_model_name": "LayoutModel",
       "_view_count": null,
       "_view_module": "@jupyter-widgets/base",
       "_view_module_version": "1.2.0",
       "_view_name": "LayoutView",
       "align_content": null,
       "align_items": null,
       "align_self": null,
       "border": null,
       "bottom": null,
       "display": null,
       "flex": null,
       "flex_flow": null,
       "grid_area": null,
       "grid_auto_columns": null,
       "grid_auto_flow": null,
       "grid_auto_rows": null,
       "grid_column": null,
       "grid_gap": null,
       "grid_row": null,
       "grid_template_areas": null,
       "grid_template_columns": null,
       "grid_template_rows": null,
       "height": null,
       "justify_content": null,
       "justify_items": null,
       "left": null,
       "margin": null,
       "max_height": null,
       "max_width": null,
       "min_height": null,
       "min_width": null,
       "object_fit": null,
       "object_position": null,
       "order": null,
       "overflow": null,
       "overflow_x": null,
       "overflow_y": null,
       "padding": null,
       "right": null,
       "top": null,
       "visibility": null,
       "width": null
      }
     },
     "b183413d7a0c42a68d9956b5f0b24199": {
      "model_module": "@jupyter-widgets/controls",
      "model_module_version": "1.5.0",
      "model_name": "HTMLModel",
      "state": {
       "_dom_classes": [],
       "_model_module": "@jupyter-widgets/controls",
       "_model_module_version": "1.5.0",
       "_model_name": "HTMLModel",
       "_view_count": null,
       "_view_module": "@jupyter-widgets/controls",
       "_view_module_version": "1.5.0",
       "_view_name": "HTMLView",
       "description": "",
       "description_tooltip": null,
       "layout": "IPY_MODEL_691a2d198fb34faa91bfbb3d93d4c349",
       "placeholder": "​",
       "style": "IPY_MODEL_3586b96fc94b40edb4ee12362dc8912c",
       "value": " 48.0/48.0 [00:00&lt;00:00, 4.18kB/s]"
      }
     },
     "b5dfc9f0ee364c90bfdacd916564924a": {
      "model_module": "@jupyter-widgets/controls",
      "model_module_version": "1.5.0",
      "model_name": "HBoxModel",
      "state": {
       "_dom_classes": [],
       "_model_module": "@jupyter-widgets/controls",
       "_model_module_version": "1.5.0",
       "_model_name": "HBoxModel",
       "_view_count": null,
       "_view_module": "@jupyter-widgets/controls",
       "_view_module_version": "1.5.0",
       "_view_name": "HBoxView",
       "box_style": "",
       "children": [
        "IPY_MODEL_7006be76f0e64be8b615ac0440983a01",
        "IPY_MODEL_76e81ee70345446f98ab2ac23f00ca9b",
        "IPY_MODEL_4f629fd64a9b4263981cf1055b25df80"
       ],
       "layout": "IPY_MODEL_648304f63dc74753bc38c2d387a51811"
      }
     },
     "b638f966e5c54b34a04443af215d6703": {
      "model_module": "@jupyter-widgets/controls",
      "model_module_version": "1.5.0",
      "model_name": "DescriptionStyleModel",
      "state": {
       "_model_module": "@jupyter-widgets/controls",
       "_model_module_version": "1.5.0",
       "_model_name": "DescriptionStyleModel",
       "_view_count": null,
       "_view_module": "@jupyter-widgets/base",
       "_view_module_version": "1.2.0",
       "_view_name": "StyleView",
       "description_width": ""
      }
     },
     "b9d5aba4a4394221a4cb77a4af5f5857": {
      "model_module": "@jupyter-widgets/controls",
      "model_module_version": "1.5.0",
      "model_name": "HTMLModel",
      "state": {
       "_dom_classes": [],
       "_model_module": "@jupyter-widgets/controls",
       "_model_module_version": "1.5.0",
       "_model_name": "HTMLModel",
       "_view_count": null,
       "_view_module": "@jupyter-widgets/controls",
       "_view_module_version": "1.5.0",
       "_view_name": "HTMLView",
       "description": "",
       "description_tooltip": null,
       "layout": "IPY_MODEL_181e006d1b68400a8b55fae67c0a27aa",
       "placeholder": "​",
       "style": "IPY_MODEL_11856bb8d9634251b95c1e596391c9ed",
       "value": "tokenizer.json: 100%"
      }
     },
     "b9d67a75c9a34d59ad4e348c9bfa09ed": {
      "model_module": "@jupyter-widgets/base",
      "model_module_version": "1.2.0",
      "model_name": "LayoutModel",
      "state": {
       "_model_module": "@jupyter-widgets/base",
       "_model_module_version": "1.2.0",
       "_model_name": "LayoutModel",
       "_view_count": null,
       "_view_module": "@jupyter-widgets/base",
       "_view_module_version": "1.2.0",
       "_view_name": "LayoutView",
       "align_content": null,
       "align_items": null,
       "align_self": null,
       "border": null,
       "bottom": null,
       "display": null,
       "flex": null,
       "flex_flow": null,
       "grid_area": null,
       "grid_auto_columns": null,
       "grid_auto_flow": null,
       "grid_auto_rows": null,
       "grid_column": null,
       "grid_gap": null,
       "grid_row": null,
       "grid_template_areas": null,
       "grid_template_columns": null,
       "grid_template_rows": null,
       "height": null,
       "justify_content": null,
       "justify_items": null,
       "left": null,
       "margin": null,
       "max_height": null,
       "max_width": null,
       "min_height": null,
       "min_width": null,
       "object_fit": null,
       "object_position": null,
       "order": null,
       "overflow": null,
       "overflow_x": null,
       "overflow_y": null,
       "padding": null,
       "right": null,
       "top": null,
       "visibility": null,
       "width": null
      }
     },
     "ba75ccf1cf3e44d1bd1fb896f4af79da": {
      "model_module": "@jupyter-widgets/controls",
      "model_module_version": "1.5.0",
      "model_name": "DescriptionStyleModel",
      "state": {
       "_model_module": "@jupyter-widgets/controls",
       "_model_module_version": "1.5.0",
       "_model_name": "DescriptionStyleModel",
       "_view_count": null,
       "_view_module": "@jupyter-widgets/base",
       "_view_module_version": "1.2.0",
       "_view_name": "StyleView",
       "description_width": ""
      }
     },
     "be82175325ce454ebe6c8cc82ad328d8": {
      "model_module": "@jupyter-widgets/controls",
      "model_module_version": "1.5.0",
      "model_name": "HBoxModel",
      "state": {
       "_dom_classes": [],
       "_model_module": "@jupyter-widgets/controls",
       "_model_module_version": "1.5.0",
       "_model_name": "HBoxModel",
       "_view_count": null,
       "_view_module": "@jupyter-widgets/controls",
       "_view_module_version": "1.5.0",
       "_view_name": "HBoxView",
       "box_style": "",
       "children": [
        "IPY_MODEL_032434fba20141a29f9d843c2d5af9b0",
        "IPY_MODEL_37d3d85a5f0d41ec851e991e4f601108",
        "IPY_MODEL_de6d8031c0664973a4e9e8322a8380b4"
       ],
       "layout": "IPY_MODEL_c001ed7679ce4b87a4d4f784222cbb1d"
      }
     },
     "c001ed7679ce4b87a4d4f784222cbb1d": {
      "model_module": "@jupyter-widgets/base",
      "model_module_version": "1.2.0",
      "model_name": "LayoutModel",
      "state": {
       "_model_module": "@jupyter-widgets/base",
       "_model_module_version": "1.2.0",
       "_model_name": "LayoutModel",
       "_view_count": null,
       "_view_module": "@jupyter-widgets/base",
       "_view_module_version": "1.2.0",
       "_view_name": "LayoutView",
       "align_content": null,
       "align_items": null,
       "align_self": null,
       "border": null,
       "bottom": null,
       "display": null,
       "flex": null,
       "flex_flow": null,
       "grid_area": null,
       "grid_auto_columns": null,
       "grid_auto_flow": null,
       "grid_auto_rows": null,
       "grid_column": null,
       "grid_gap": null,
       "grid_row": null,
       "grid_template_areas": null,
       "grid_template_columns": null,
       "grid_template_rows": null,
       "height": null,
       "justify_content": null,
       "justify_items": null,
       "left": null,
       "margin": null,
       "max_height": null,
       "max_width": null,
       "min_height": null,
       "min_width": null,
       "object_fit": null,
       "object_position": null,
       "order": null,
       "overflow": null,
       "overflow_x": null,
       "overflow_y": null,
       "padding": null,
       "right": null,
       "top": null,
       "visibility": null,
       "width": null
      }
     },
     "ce61dba6f67f4c2ab7666170f3ede921": {
      "model_module": "@jupyter-widgets/controls",
      "model_module_version": "1.5.0",
      "model_name": "HTMLModel",
      "state": {
       "_dom_classes": [],
       "_model_module": "@jupyter-widgets/controls",
       "_model_module_version": "1.5.0",
       "_model_name": "HTMLModel",
       "_view_count": null,
       "_view_module": "@jupyter-widgets/controls",
       "_view_module_version": "1.5.0",
       "_view_name": "HTMLView",
       "description": "",
       "description_tooltip": null,
       "layout": "IPY_MODEL_ac55ea05c00f41c8a91a9ebf08045148",
       "placeholder": "​",
       "style": "IPY_MODEL_44c730ba064d4e6a910a5d802825d033",
       "value": " 466k/466k [00:00&lt;00:00, 6.83MB/s]"
      }
     },
     "de6d8031c0664973a4e9e8322a8380b4": {
      "model_module": "@jupyter-widgets/controls",
      "model_module_version": "1.5.0",
      "model_name": "HTMLModel",
      "state": {
       "_dom_classes": [],
       "_model_module": "@jupyter-widgets/controls",
       "_model_module_version": "1.5.0",
       "_model_name": "HTMLModel",
       "_view_count": null,
       "_view_module": "@jupyter-widgets/controls",
       "_view_module_version": "1.5.0",
       "_view_name": "HTMLView",
       "description": "",
       "description_tooltip": null,
       "layout": "IPY_MODEL_e9520b46082a42cf8a6dc39b0540ec0b",
       "placeholder": "​",
       "style": "IPY_MODEL_05e93d62205c4a96a0d42ecb2c170b42",
       "value": " 570/570 [00:00&lt;00:00, 51.3kB/s]"
      }
     },
     "dea7c1838f9d4ea2b4a3ab0433086e89": {
      "model_module": "@jupyter-widgets/controls",
      "model_module_version": "1.5.0",
      "model_name": "DescriptionStyleModel",
      "state": {
       "_model_module": "@jupyter-widgets/controls",
       "_model_module_version": "1.5.0",
       "_model_name": "DescriptionStyleModel",
       "_view_count": null,
       "_view_module": "@jupyter-widgets/base",
       "_view_module_version": "1.2.0",
       "_view_name": "StyleView",
       "description_width": ""
      }
     },
     "e3958da7f36e4a319853a948997f3e94": {
      "model_module": "@jupyter-widgets/base",
      "model_module_version": "1.2.0",
      "model_name": "LayoutModel",
      "state": {
       "_model_module": "@jupyter-widgets/base",
       "_model_module_version": "1.2.0",
       "_model_name": "LayoutModel",
       "_view_count": null,
       "_view_module": "@jupyter-widgets/base",
       "_view_module_version": "1.2.0",
       "_view_name": "LayoutView",
       "align_content": null,
       "align_items": null,
       "align_self": null,
       "border": null,
       "bottom": null,
       "display": null,
       "flex": null,
       "flex_flow": null,
       "grid_area": null,
       "grid_auto_columns": null,
       "grid_auto_flow": null,
       "grid_auto_rows": null,
       "grid_column": null,
       "grid_gap": null,
       "grid_row": null,
       "grid_template_areas": null,
       "grid_template_columns": null,
       "grid_template_rows": null,
       "height": null,
       "justify_content": null,
       "justify_items": null,
       "left": null,
       "margin": null,
       "max_height": null,
       "max_width": null,
       "min_height": null,
       "min_width": null,
       "object_fit": null,
       "object_position": null,
       "order": null,
       "overflow": null,
       "overflow_x": null,
       "overflow_y": null,
       "padding": null,
       "right": null,
       "top": null,
       "visibility": null,
       "width": null
      }
     },
     "e9520b46082a42cf8a6dc39b0540ec0b": {
      "model_module": "@jupyter-widgets/base",
      "model_module_version": "1.2.0",
      "model_name": "LayoutModel",
      "state": {
       "_model_module": "@jupyter-widgets/base",
       "_model_module_version": "1.2.0",
       "_model_name": "LayoutModel",
       "_view_count": null,
       "_view_module": "@jupyter-widgets/base",
       "_view_module_version": "1.2.0",
       "_view_name": "LayoutView",
       "align_content": null,
       "align_items": null,
       "align_self": null,
       "border": null,
       "bottom": null,
       "display": null,
       "flex": null,
       "flex_flow": null,
       "grid_area": null,
       "grid_auto_columns": null,
       "grid_auto_flow": null,
       "grid_auto_rows": null,
       "grid_column": null,
       "grid_gap": null,
       "grid_row": null,
       "grid_template_areas": null,
       "grid_template_columns": null,
       "grid_template_rows": null,
       "height": null,
       "justify_content": null,
       "justify_items": null,
       "left": null,
       "margin": null,
       "max_height": null,
       "max_width": null,
       "min_height": null,
       "min_width": null,
       "object_fit": null,
       "object_position": null,
       "order": null,
       "overflow": null,
       "overflow_x": null,
       "overflow_y": null,
       "padding": null,
       "right": null,
       "top": null,
       "visibility": null,
       "width": null
      }
     },
     "e9b2164ec40040e1812a0c92a13efdf1": {
      "model_module": "@jupyter-widgets/base",
      "model_module_version": "1.2.0",
      "model_name": "LayoutModel",
      "state": {
       "_model_module": "@jupyter-widgets/base",
       "_model_module_version": "1.2.0",
       "_model_name": "LayoutModel",
       "_view_count": null,
       "_view_module": "@jupyter-widgets/base",
       "_view_module_version": "1.2.0",
       "_view_name": "LayoutView",
       "align_content": null,
       "align_items": null,
       "align_self": null,
       "border": null,
       "bottom": null,
       "display": null,
       "flex": null,
       "flex_flow": null,
       "grid_area": null,
       "grid_auto_columns": null,
       "grid_auto_flow": null,
       "grid_auto_rows": null,
       "grid_column": null,
       "grid_gap": null,
       "grid_row": null,
       "grid_template_areas": null,
       "grid_template_columns": null,
       "grid_template_rows": null,
       "height": null,
       "justify_content": null,
       "justify_items": null,
       "left": null,
       "margin": null,
       "max_height": null,
       "max_width": null,
       "min_height": null,
       "min_width": null,
       "object_fit": null,
       "object_position": null,
       "order": null,
       "overflow": null,
       "overflow_x": null,
       "overflow_y": null,
       "padding": null,
       "right": null,
       "top": null,
       "visibility": null,
       "width": null
      }
     },
     "eadc1110d98c4fdf8c25d9ef88e17c71": {
      "model_module": "@jupyter-widgets/controls",
      "model_module_version": "1.5.0",
      "model_name": "HTMLModel",
      "state": {
       "_dom_classes": [],
       "_model_module": "@jupyter-widgets/controls",
       "_model_module_version": "1.5.0",
       "_model_name": "HTMLModel",
       "_view_count": null,
       "_view_module": "@jupyter-widgets/controls",
       "_view_module_version": "1.5.0",
       "_view_name": "HTMLView",
       "description": "",
       "description_tooltip": null,
       "layout": "IPY_MODEL_e3958da7f36e4a319853a948997f3e94",
       "placeholder": "​",
       "style": "IPY_MODEL_185fbd93feaa495a84f1b471408de6db",
       "value": "tokenizer_config.json: 100%"
      }
     },
     "ee21609542964ac79b41f2f87b3d1b5a": {
      "model_module": "@jupyter-widgets/controls",
      "model_module_version": "1.5.0",
      "model_name": "DescriptionStyleModel",
      "state": {
       "_model_module": "@jupyter-widgets/controls",
       "_model_module_version": "1.5.0",
       "_model_name": "DescriptionStyleModel",
       "_view_count": null,
       "_view_module": "@jupyter-widgets/base",
       "_view_module_version": "1.2.0",
       "_view_name": "StyleView",
       "description_width": ""
      }
     },
     "f199e387e7b74cdcae1ec61490652e41": {
      "model_module": "@jupyter-widgets/base",
      "model_module_version": "1.2.0",
      "model_name": "LayoutModel",
      "state": {
       "_model_module": "@jupyter-widgets/base",
       "_model_module_version": "1.2.0",
       "_model_name": "LayoutModel",
       "_view_count": null,
       "_view_module": "@jupyter-widgets/base",
       "_view_module_version": "1.2.0",
       "_view_name": "LayoutView",
       "align_content": null,
       "align_items": null,
       "align_self": null,
       "border": null,
       "bottom": null,
       "display": null,
       "flex": null,
       "flex_flow": null,
       "grid_area": null,
       "grid_auto_columns": null,
       "grid_auto_flow": null,
       "grid_auto_rows": null,
       "grid_column": null,
       "grid_gap": null,
       "grid_row": null,
       "grid_template_areas": null,
       "grid_template_columns": null,
       "grid_template_rows": null,
       "height": null,
       "justify_content": null,
       "justify_items": null,
       "left": null,
       "margin": null,
       "max_height": null,
       "max_width": null,
       "min_height": null,
       "min_width": null,
       "object_fit": null,
       "object_position": null,
       "order": null,
       "overflow": null,
       "overflow_x": null,
       "overflow_y": null,
       "padding": null,
       "right": null,
       "top": null,
       "visibility": null,
       "width": null
      }
     },
     "f4543c6b5b8e40a49916b736c62f36c3": {
      "model_module": "@jupyter-widgets/controls",
      "model_module_version": "1.5.0",
      "model_name": "HBoxModel",
      "state": {
       "_dom_classes": [],
       "_model_module": "@jupyter-widgets/controls",
       "_model_module_version": "1.5.0",
       "_model_name": "HBoxModel",
       "_view_count": null,
       "_view_module": "@jupyter-widgets/controls",
       "_view_module_version": "1.5.0",
       "_view_name": "HBoxView",
       "box_style": "",
       "children": [
        "IPY_MODEL_8e86de6f2b744a55a9b28c33ddea97a7",
        "IPY_MODEL_6cf0b15258d944b7a378866d1fb4e962",
        "IPY_MODEL_97bcbd5d1650465ea23593b124f4a0cc"
       ],
       "layout": "IPY_MODEL_a93aaf1a37db4c82b5eeeeeaffd44c14"
      }
     }
    },
    "version_major": 2,
    "version_minor": 0
   }
  }
 },
 "nbformat": 4,
 "nbformat_minor": 5
}
